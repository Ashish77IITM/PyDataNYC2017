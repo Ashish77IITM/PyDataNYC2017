{
 "cells": [
  {
   "cell_type": "markdown",
   "metadata": {},
   "source": [
    "Magnetoencephalography (MEG)\n",
    "----------"
   ]
  },
  {
   "cell_type": "markdown",
   "metadata": {},
   "source": [
    "<table style=\"margin-left: 0px\">\n",
    "  <tr>\n",
    "    <td>\n",
    "      <img width=1000 height=200 src=\"MEG_experiment.PNG\"/>\n",
    "    </td>\n",
    "   </tr>\n",
    "</table>\n"
   ]
  },
  {
   "cell_type": "code",
   "execution_count": 1,
   "metadata": {
    "collapsed": true
   },
   "outputs": [],
   "source": [
    "import numpy as np\n",
    "from IPython.display import display\n",
    "import mne\n",
    "mne.set_log_level('WARNING')\n",
    "\n",
    "import bqplot.pyplot as plt"
   ]
  },
  {
   "cell_type": "markdown",
   "metadata": {},
   "source": [
    "### Loading data using `MNE`"
   ]
  },
  {
   "cell_type": "code",
   "execution_count": 2,
   "metadata": {},
   "outputs": [
    {
     "name": "stdout",
     "output_type": "stream",
     "text": [
      "/Users/ccherukuri/mne_data/MNE-spm-face/MEG/spm/SPM_CTF_MEG_example_faces1_3D.ds\n"
     ]
    }
   ],
   "source": [
    "from mne.datasets import spm_face\n",
    "data_path = spm_face.data_path()  # downloaded automatically (approx. 2GB)\n",
    "raw_fname = data_path + '/MEG/spm/SPM_CTF_MEG_example_faces1_3D.ds'\n",
    "print(raw_fname)"
   ]
  },
  {
   "cell_type": "code",
   "execution_count": 3,
   "metadata": {},
   "outputs": [
    {
     "name": "stdout",
     "output_type": "stream",
     "text": [
      "<RawCTF  |  SPM_CTF_MEG_example_faces1_3D.meg4, n_channels x n_times : 340 x 324474 (676.0 sec), ~842.5 MB, data loaded>\n"
     ]
    }
   ],
   "source": [
    "raw = mne.io.read_raw_ctf(raw_fname, preload=True)\n",
    "print(raw)"
   ]
  },
  {
   "cell_type": "code",
   "execution_count": 4,
   "metadata": {},
   "outputs": [
    {
     "data": {
      "text/plain": [
       "<RawCTF  |  SPM_CTF_MEG_example_faces1_3D.meg4, n_channels x n_times : 340 x 324474 (676.0 sec), ~842.5 MB, data loaded>"
      ]
     },
     "execution_count": 4,
     "metadata": {},
     "output_type": "execute_result"
    }
   ],
   "source": [
    "raw.filter(1., 40., fir_design='firwin')"
   ]
  },
  {
   "cell_type": "code",
   "execution_count": 5,
   "metadata": {},
   "outputs": [
    {
     "name": "stdout",
     "output_type": "stream",
     "text": [
      "172 events found\n",
      "Events id: [1 2 3]\n",
      "[[2026    0    3]\n",
      " [3759    0    3]\n",
      " [5484    0    3]\n",
      " [7226    0    3]\n",
      " [8951    0    1]]\n"
     ]
    }
   ],
   "source": [
    "events = mne.find_events(raw, stim_channel='UPPT001', verbose=True)\n",
    "\n",
    "print(events[:5])"
   ]
  },
  {
   "cell_type": "code",
   "execution_count": 6,
   "metadata": {
    "scrolled": true
   },
   "outputs": [
    {
     "name": "stdout",
     "output_type": "stream",
     "text": [
      "<Epochs  |  n_events : 167 (all good), tmin : -0.1 (s), tmax : 0.5 (s), baseline : None, ~57.1 MB, data loaded,\n",
      " 'faces': 84, 'scrambled': 83>\n"
     ]
    }
   ],
   "source": [
    "event_id = {\"faces\": 1, \"scrambled\": 2}\n",
    "tmin, tmax = -0.1, 0.5  # start and end of an epoch in sec.\n",
    "\n",
    "# Set up indices of channels to include in analysis\n",
    "picks = mne.pick_types(raw.info, meg=True, stim=True, eog=True,\n",
    "                       ref_meg=True, exclude='bads')\n",
    "\n",
    "# Read epochs\n",
    "decim = 2  # decimate to make the example faster to run\n",
    "epochs = mne.Epochs(raw, events, event_id, tmin, tmax, proj=True,\n",
    "                    picks=picks, baseline=None, preload=True,\n",
    "                    reject=dict(mag=1.5e-12), decim=decim)\n",
    "\n",
    "print(epochs)"
   ]
  },
  {
   "cell_type": "code",
   "execution_count": 7,
   "metadata": {
    "collapsed": true
   },
   "outputs": [],
   "source": [
    "# %matplotlib inline\n",
    "evoked = epochs.average()\n",
    "# evoked.plot_joint(times=[0.105, 0.130, 0.180]);"
   ]
  },
  {
   "cell_type": "code",
   "execution_count": 8,
   "metadata": {
    "collapsed": true
   },
   "outputs": [],
   "source": [
    "data = epochs.get_data()\n",
    "data_mean = np.mean(data, axis=0)[31:]"
   ]
  },
  {
   "cell_type": "code",
   "execution_count": 9,
   "metadata": {
    "collapsed": true
   },
   "outputs": [],
   "source": [
    "# Color Utilities\n",
    "\n",
    "def _rgb(x, y, z):\n",
    "    \"\"\"Transform x, y, z values into RGB colors.\"\"\"\n",
    "    rgb = np.array([x, y, z]).T\n",
    "    rgb -= rgb.min(0)\n",
    "    rgb /= rgb.max(0)\n",
    "    return rgb\n",
    "\n",
    "def rgb_to_css(rgb):\n",
    "    '''\n",
    "    Converts rgb color representation to a css hex\n",
    "    '''\n",
    "    for color in rgb:\n",
    "        if color > 1 or color < 0:\n",
    "            raise ValueError('rgb values must be between 0 and 1, a value of rgb({}) was given'.format(rgb))\n",
    "    hexes = [\"%02X\" % int(color*255) for color in rgb]\n",
    "    return ''.join(['#'] + hexes)\n",
    "\n",
    "\n",
    "def color_scale(data, colors):\n",
    "    n_colors = len(colors)\n",
    "    mi, ma = data.min(), data.max()\n",
    "    def f(x):\n",
    "        index = int(n_colors * (x - mi) / (ma - mi))\n",
    "        return colors[index - 1]\n",
    "    return f\n",
    "\n",
    "def diverging_color_scale(data, colors):\n",
    "    mi, ma = data.min(), data.max()\n",
    "    def f(x):\n",
    "        if x < 0:\n",
    "            t = (mi - x) / mi\n",
    "            t = np.clip(t, 0, 1)\n",
    "            return (1-t) * colors[0] + t * colors[1]\n",
    "        else:\n",
    "            t = (ma - x) / ma\n",
    "            t = np.clip(t, 0, 1)\n",
    "            return (1-t) * colors[2] + t * colors[1]\n",
    "    return f"
   ]
  },
  {
   "cell_type": "code",
   "execution_count": 10,
   "metadata": {
    "collapsed": true
   },
   "outputs": [],
   "source": [
    "chs = evoked.info['chs']\n",
    "locs3d = np.array([ch['loc'][:3] for ch in chs])[31:]\n",
    "x, y, z = locs3d.T\n",
    "colors = _rgb(x, y, z)\n",
    "colors = [rgb_to_css(c) for c in colors]"
   ]
  },
  {
   "cell_type": "code",
   "execution_count": 11,
   "metadata": {
    "collapsed": true
   },
   "outputs": [],
   "source": [
    "from bqplot import ColorScale"
   ]
  },
  {
   "cell_type": "code",
   "execution_count": 12,
   "metadata": {},
   "outputs": [
    {
     "data": {
      "application/vnd.jupyter.widget-view+json": {
       "model_id": "bf7a370c438a45fcb501abae04d6cd92",
       "version_major": 2,
       "version_minor": 0
      },
      "text/plain": [
       "A Jupyter Widget"
      ]
     },
     "metadata": {},
     "output_type": "display_data"
    }
   ],
   "source": [
    "fig2 = plt.figure(min_aspect_ratio=1, max_aspect_ratio=1, title='Seen from above',\n",
    "                  layout={'min_width': '600px', 'min_height': '600px'})\n",
    "sc_c = ColorScale(colors=['orangered', 'white', 'deepskyblue'], min=data_mean.min()* 1e15, max=data_mean.max()* 1e15)\n",
    "scat = plt.scatter(x, y, colors=colors, scales={'color': sc_c},\n",
    "                   axes_options={'x': {'visible': False}, 'y': {'visible': False}})\n",
    "plt.show()"
   ]
  },
  {
   "cell_type": "code",
   "execution_count": null,
   "metadata": {},
   "outputs": [],
   "source": [
    "def update_colors(name, value):\n",
    "    sel = l.selected\n",
    "    if len(sel) == 0:\n",
    "        return\n",
    "    scat.color = data_mean[:, sel[0]] * 1e15\n",
    "    fig2.title = 'Snapshot at t = {:.1f} ms'.format(value[0])\n",
    "    \n",
    "fig = plt.figure(title='MEG signal', layout={'min_width': '800px'})\n",
    "\n",
    "l = plt.plot(1e3 * epochs.times, 1e15 * data_mean,\n",
    "         stroke_width=.2, interpolation='cardinal',\n",
    "         colors=colors,\n",
    "         axes_options={'x': {'label': 'Time (ms)'},\n",
    "                       'y': {'label': 'Magnetic Field (fT)'}})\n",
    "index_sel = plt.index_selector(update_colors)\n",
    "plt.vline(0, line_style='dashed')\n",
    "\n",
    "display(fig, fig2)"
   ]
  },
  {
   "cell_type": "markdown",
   "metadata": {},
   "source": [
    "## How about 3d?\n",
    "\n",
    "- pythreeJS https://github.com/jovyan/pythreejs\n",
    "- ipyvolume https://github.com/maartenbreddels/ipyvolume\n",
    "\n",
    "3d-plotting libraries based on widgets and WebGL"
   ]
  },
  {
   "cell_type": "code",
   "execution_count": null,
   "metadata": {
    "collapsed": true
   },
   "outputs": [],
   "source": [
    "from pythreejs import *\n",
    "import numpy as np\n",
    "from IPython.display import display\n",
    "\n",
    "sensors = [Mesh(geometry=SphereGeometry(radius=0.003), \n",
    "                   material=LambertMaterial(color=colors[i]),\n",
    "                   position=[x[i], y[i], z[i]])\n",
    "              for i in range(len(x))]\n",
    "\n",
    "scene = Scene(children=sensors + [AmbientLight(color='white')])\n",
    "\n",
    "c = PerspectiveCamera(position=[0, 1, 1], up=[0, 0, 2],)\n",
    "\n",
    "renderer = Renderer(camera=c, \n",
    "                    scene=scene, \n",
    "                    controls=[OrbitControls(controlling=c)])\n",
    "# display(renderer)"
   ]
  },
  {
   "cell_type": "code",
   "execution_count": null,
   "metadata": {},
   "outputs": [],
   "source": [
    "red, black, blue = np.array([255, 69, 0])/255, np.array([1., 1., 1.]), np.array([0, 191, 255])/255\n",
    "col_sc = diverging_color_scale(data_mean, [red, black, blue])\n",
    "precomputed_colors = np.array([[rgb_to_css(col_sc(d)) for d in di] for di in data_mean])\n",
    "\n",
    "def update_colors_3d(change):\n",
    "    sel = l.selected\n",
    "    if len(sel) == 0:\n",
    "        return\n",
    "    for i, b in enumerate(sensors):\n",
    "        b.material.color = precomputed_colors[i, sel[0]]\n",
    "        \n",
    "fig = plt.figure(title='MEG signal', layout={'min_width': '800px'})\n",
    "\n",
    "l = plt.plot(1e3 * epochs.times, 1e15 * data_mean,\n",
    "         stroke_width=.2, interpolation='cardinal',\n",
    "         colors=colors,\n",
    "         axes_options={'x': {'label': 'Time (ms)'},\n",
    "                       'y': {'label': 'Magnetic Field (fT)'}})\n",
    "plt.index_selector(update_colors_3d)\n",
    "plt.vline(0, line_style='dashed')\n",
    "\n",
    "display(fig, renderer)"
   ]
  },
  {
   "cell_type": "code",
   "execution_count": null,
   "metadata": {
    "collapsed": true
   },
   "outputs": [],
   "source": []
  }
 ],
 "metadata": {
  "kernelspec": {
   "display_name": "Python 3",
   "language": "python",
   "name": "python3"
  },
  "language_info": {
   "codemirror_mode": {
    "name": "ipython",
    "version": 3
   },
   "file_extension": ".py",
   "mimetype": "text/x-python",
   "name": "python",
   "nbconvert_exporter": "python",
   "pygments_lexer": "ipython3",
   "version": "3.6.3"
  }
 },
 "nbformat": 4,
 "nbformat_minor": 1
}
