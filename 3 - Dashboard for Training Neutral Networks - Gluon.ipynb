{
 "cells": [
  {
   "cell_type": "code",
   "execution_count": 1,
   "metadata": {},
   "outputs": [
    {
     "name": "stderr",
     "output_type": "stream",
     "text": [
      "/Users/maded/dev/bqplot/bqplot/scales.py:433: DeprecationWarning: metadata {'args': (None,)} was set from the constructor. With traitlets 4.1, metadata should be set using the .tag() method, e.g., Int().tag(key1='value1', key2='value2')\n",
      "  min = Date(default_value=None, allow_none=True).tag(sync=True)\n",
      "/Users/maded/dev/bqplot/bqplot/marks.py:827: DeprecationWarning: metadata {'sync': True, 'display_name': 'Fill color for the box'} was set from the constructor. With traitlets 4.1, metadata should be set using the .tag() method, e.g., Int().tag(key1='value1', key2='value2')\n",
      "  box_fill_color = Color('dodgerblue', sync=True, display_name='Fill color for the box')\n",
      "/Users/maded/dev/bqplot/bqplot/marks.py:993: DeprecationWarning: metadata {'display_name': 'Marker'} was set from the constructor. With traitlets 4.1, metadata should be set using the .tag() method, e.g., Int().tag(key1='value1', key2='value2')\n",
      "  marker = Enum(['candle', 'bar'], default_value='candle', display_name='Marker').tag(sync=True)\n"
     ]
    }
   ],
   "source": [
    "import numpy as np\n",
    "import mxnet as mx\n",
    "from bqplot import *\n",
    "from bqplot.marks import Graph\n",
    "from ipywidgets import IntSlider, Dropdown, RadioButtons, HBox, VBox, Button, Layout\n",
    "from bqplot import pyplot as plt\n",
    "from bqplot import OrdinalScale\n",
    "import itertools\n",
    "import pdb\n",
    "import warnings\n",
    "warnings.simplefilter('ignore')\n",
    "from IPython.display import display"
   ]
  },
  {
   "cell_type": "code",
   "execution_count": 2,
   "metadata": {
    "collapsed": true
   },
   "outputs": [],
   "source": [
    "import pandas as pd\n",
    "import numpy as np\n",
    "\n",
    "from sklearn.model_selection import train_test_split\n",
    "from sklearn.metrics import roc_auc_score"
   ]
  },
  {
   "cell_type": "code",
   "execution_count": 3,
   "metadata": {
    "collapsed": true
   },
   "outputs": [],
   "source": [
    "from mxnet import gluon\n",
    "from mxnet.gluon import nn, Block, autograd\n",
    "from sklearn.preprocessing import StandardScaler"
   ]
  },
  {
   "cell_type": "code",
   "execution_count": 4,
   "metadata": {
    "collapsed": true
   },
   "outputs": [],
   "source": [
    "num_epochs = 10"
   ]
  },
  {
   "cell_type": "code",
   "execution_count": 5,
   "metadata": {
    "collapsed": true
   },
   "outputs": [],
   "source": [
    "X_train = pd.read_csv('data_files/cleaned_train.csv')\n",
    "X_test = pd.read_csv('data_files/cleaned_test.csv')\n",
    "y_train = X_train['label']\n",
    "y_test = X_test['label']\n",
    "X_train['RevolvingUtilizationOfUnsecuredLinesind'] = X_train['RevolvingUtilizationOfUnsecuredLinesind'].astype('float')\n",
    "X_train['overdue_ind'] = X_train['overdue_ind'].astype('float')\n",
    "\n",
    "X_train = X_train.drop('label', axis=1)\n",
    "X_test = X_test.drop('label', axis=1)\n",
    "\n",
    "scale = StandardScaler()\n",
    "X_train = scale.fit_transform(X_train)\n",
    "X_test = scale.transform(X_test)\n",
    "\n",
    "X_train = mx.nd.array(X_train)\n",
    "y_train = mx.nd.reshape(mx.nd.array(y_train), (y_train.shape[0], 1))\n",
    "\n",
    "X_test = mx.nd.array(X_test)\n",
    "y_test = mx.nd.reshape(mx.nd.array(y_test), (y_test.shape[0], 1))"
   ]
  },
  {
   "cell_type": "code",
   "execution_count": 6,
   "metadata": {
    "collapsed": true
   },
   "outputs": [],
   "source": [
    "class MLP(gluon.Block):\n",
    "    def __init__(self, **kwargs):\n",
    "        super(MLP, self).__init__(**kwargs)\n",
    "        with self.name_scope():\n",
    "            self.dense0 = nn.Dense(13)\n",
    "            self.dense1 = nn.Dense(5)\n",
    "            self.dense2 = nn.Dense(1)\n",
    "\n",
    "    def forward(self, x):\n",
    "        x1 = mx.nd.relu(self.dense0(x))\n",
    "        x2 = mx.nd.relu(self.dense1(x1))\n",
    "        x3 = self.dense2(x2)\n",
    "        return x3, x2, x1\n",
    "    \n",
    "net = MLP()"
   ]
  },
  {
   "cell_type": "code",
   "execution_count": 7,
   "metadata": {
    "collapsed": true
   },
   "outputs": [],
   "source": [
    "bce_loss = gluon.loss.SigmoidBinaryCrossEntropyLoss()"
   ]
  },
  {
   "cell_type": "code",
   "execution_count": 8,
   "metadata": {
    "collapsed": true
   },
   "outputs": [],
   "source": [
    "auc_fig = plt.figure(title='Train and Test AUC Score', legend_location='top-left')\n",
    "auc_line = plt.plot([0], [0], marker='circle', marker_size=32, colors=['DeepSkyBlue', 'Red'], \n",
    "                              labels=['Training', 'Test'], display_legend=True)\n",
    "plt.xlabel('Epoch')\n",
    "\n",
    "train_accs = []\n",
    "val_accs = []\n",
    "\n",
    "# data\n",
    "\n",
    "train_data = gluon.data.DataLoader(gluon.data.ArrayDataset(X_train, y_train),\n",
    "    batch_size=100, shuffle=True)\n",
    "\n",
    "val_data = gluon.data.DataLoader(gluon.data.ArrayDataset(X_test, y_test),\n",
    "    batch_size=100, shuffle=False)"
   ]
  },
  {
   "cell_type": "code",
   "execution_count": 12,
   "metadata": {
    "scrolled": false
   },
   "outputs": [
    {
     "data": {
      "application/vnd.jupyter.widget-view+json": {
       "model_id": "1d6fdf17c0b74325938864edac98a986",
       "version_major": 2,
       "version_minor": 0
      },
      "text/html": [
       "<p>Failed to display Jupyter Widget of type <code>Figure</code>.</p>\n",
       "<p>\n",
       "  If you're reading this message in the Jupyter Notebook or JupyterLab Notebook, it may mean\n",
       "  that the widgets JavaScript is still loading. If this message persists, it\n",
       "  likely means that the widgets JavaScript library is either not installed or\n",
       "  not enabled. See the <a href=\"https://ipywidgets.readthedocs.io/en/stable/user_install.html\">Jupyter\n",
       "  Widgets Documentation</a> for setup instructions.\n",
       "</p>\n",
       "<p>\n",
       "  If you're reading this message in another frontend (for example, a static\n",
       "  rendering on GitHub or <a href=\"https://nbviewer.jupyter.org/\">NBViewer</a>),\n",
       "  it may mean that your frontend doesn't currently support widgets.\n",
       "</p>\n"
      ],
      "text/plain": [
       "Figure(axes=[Axis(label='Epoch', scale=LinearScale(), side='bottom'), Axis(orientation='vertical', scale=LinearScale(), side='left')], fig_margin={'top': 60, 'bottom': 60, 'left': 60, 'right': 60}, layout=Layout(min_width='125px'), legend_location='top-left', marks=[Lines(colors=['DeepSkyBlue', 'Red'], display_legend=True, interactions={'hover': 'tooltip'}, labels=['Training', 'Test'], marker='circle', marker_size=32, scales={'x': LinearScale(), 'y': LinearScale()}, scales_metadata={'x': {'orientation': 'horizontal', 'dimension': 'x'}, 'y': {'orientation': 'vertical', 'dimension': 'y'}, 'color': {'dimension': 'color'}}, tooltip_style={'opacity': 0.9}, x=array([0]), y=array([0]))], scale_x=LinearScale(allow_padding=False, max=1.0, min=0.0), scale_y=LinearScale(allow_padding=False, max=1.0, min=0.0), title='Train and Test AUC Score')"
      ]
     },
     "metadata": {},
     "output_type": "display_data"
    }
   ],
   "source": [
    "def test(ctx, train=False):\n",
    "    outputs = []\n",
    "    labels = []\n",
    "    if train is True:\n",
    "        iter_data = train_data\n",
    "    else:\n",
    "        iter_data = val_data\n",
    "    for data, label in iter_data:\n",
    "        data = data.as_in_context(ctx)\n",
    "        label = label.as_in_context(ctx)\n",
    "        labels += label.asnumpy().flatten().tolist()\n",
    "        output = net(data)[0]\n",
    "        #pdb.set_trace()\n",
    "        predictions = output\n",
    "        outputs += predictions.asnumpy().flatten().tolist()\n",
    "    \n",
    "    return 'accuracy', roc_auc_score(np.array(labels), np.array(outputs))\n",
    "\n",
    "\n",
    "def train(epochs, ctx):\n",
    "    # Collect all parameters from net and its children, then initialize them.\n",
    "    net.collect_params().initialize(mx.init.Xavier(magnitude=2.24), ctx=ctx)\n",
    "    # Trainer is for updating parameters with gradient.\n",
    "    trainer = gluon.Trainer(net.collect_params(), 'adam',\n",
    "                            {'learning_rate': 0.01})\n",
    "\n",
    "    for epoch in range(epochs):\n",
    "        for i, (data, label) in enumerate(train_data):\n",
    "            # Copy data to ctx if necessary\n",
    "            data = data.as_in_context(ctx)\n",
    "            label = label.as_in_context(ctx)\n",
    "            with autograd.record():\n",
    "                outputs = net(data)\n",
    "                L = bce_loss(outputs[0], label)\n",
    "                L.backward()\n",
    "            trainer.step(data.shape[0])\n",
    "\n",
    "        name, train_acc = test(ctx, train=True)\n",
    "        train_accs.append(train_acc)\n",
    "        auc_line.x = np.arange(1, epoch+1)\n",
    "\n",
    "        name, val_acc = test(ctx)\n",
    "        val_accs.append(val_acc)\n",
    "        auc_line.y = [train_accs, val_accs]\n",
    "\n",
    "        net.save_params('data/epoch-{}.params'.format(epoch + 1))\n",
    "\n",
    "display(auc_fig)\n",
    "ctx = mx.cpu()\n",
    "train(10, ctx)"
   ]
  },
  {
   "cell_type": "code",
   "execution_count": 13,
   "metadata": {
    "collapsed": true
   },
   "outputs": [],
   "source": [
    "from gluon_mlp_dashboard import MLPDashboard"
   ]
  },
  {
   "cell_type": "code",
   "execution_count": 14,
   "metadata": {
    "collapsed": true
   },
   "outputs": [],
   "source": [
    "data = list(itertools.islice(train_data, 1))[0][0]"
   ]
  },
  {
   "cell_type": "code",
   "execution_count": 15,
   "metadata": {
    "scrolled": false
   },
   "outputs": [
    {
     "data": {
      "application/vnd.jupyter.widget-view+json": {
       "model_id": "57702fa705cb430f9507c203247c3131",
       "version_major": 2,
       "version_minor": 0
      },
      "text/html": [
       "<p>Failed to display Jupyter Widget of type <code>MLPDashboard</code>.</p>\n",
       "<p>\n",
       "  If you're reading this message in the Jupyter Notebook or JupyterLab Notebook, it may mean\n",
       "  that the widgets JavaScript is still loading. If this message persists, it\n",
       "  likely means that the widgets JavaScript library is either not installed or\n",
       "  not enabled. See the <a href=\"https://ipywidgets.readthedocs.io/en/stable/user_install.html\">Jupyter\n",
       "  Widgets Documentation</a> for setup instructions.\n",
       "</p>\n",
       "<p>\n",
       "  If you're reading this message in another frontend (for example, a static\n",
       "  rendering on GitHub or <a href=\"https://nbviewer.jupyter.org/\">NBViewer</a>),\n",
       "  it may mean that your frontend doesn't currently support widgets.\n",
       "</p>\n"
      ],
      "text/plain": [
       "MLPDashboard(children=(HBox(children=(IntSlider(value=1, description='Epoch:', max=10, min=1), Dropdown(description='View', options=('Weights', 'Gradients', 'Activations'), value='Weights'), Button(description='Update', style=ButtonStyle()))), Figure(fig_margin={'top': 60, 'bottom': 60, 'left': 60, 'right': 60}, layout=Layout(height='800px', min_width='125px', width='900px'), marks=[Graph(colors=['Orange', 'Orange', 'Orange', 'Orange', 'Orange', 'Orange', 'Orange', 'Orange', 'Orange', 'Orange', 'Orange', 'Orange', 'Orange', 'Orange', 'Orange', 'Orange', 'Orange', 'Orange', 'Orange', 'Orange', 'Orange', 'Orange', 'Orange', 'Orange', 'Orange', 'Orange', 'Orange', 'Orange', 'Orange', 'Orange', 'Orange', 'Orange'], directed=False, hovered_style={'stroke': '1.5'}, interactions={'hover': 'tooltip', 'click': 'select'}, link_data=[{'source': 0, 'target': 13, 'value': 0}, {'source': 0, 'target': 14, 'value': 0}, {'source': 0, 'target': 15, 'value': 0}, {'source': 0, 'target': 16, 'value': 0}, {'source': 0, 'target': 17, 'value': 0}, {'source': 0, 'target': 18, 'value': 0}, {'source': 0, 'target': 19, 'value': 0}, {'source': 0, 'target': 20, 'value': 0}, {'source': 0, 'target': 21, 'value': 0}, {'source': 0, 'target': 22, 'value': 0}, {'source': 0, 'target': 23, 'value': 0}, {'source': 0, 'target': 24, 'value': 0}, {'source': 0, 'target': 25, 'value': 0}, {'source': 1, 'target': 13, 'value': 0}, {'source': 1, 'target': 14, 'value': 0}, {'source': 1, 'target': 15, 'value': 0}, {'source': 1, 'target': 16, 'value': 0}, {'source': 1, 'target': 17, 'value': 0}, {'source': 1, 'target': 18, 'value': 0}, {'source': 1, 'target': 19, 'value': 0}, {'source': 1, 'target': 20, 'value': 0}, {'source': 1, 'target': 21, 'value': 0}, {'source': 1, 'target': 22, 'value': 0}, {'source': 1, 'target': 23, 'value': 0}, {'source': 1, 'target': 24, 'value': 0}, {'source': 1, 'target': 25, 'value': 0}, {'source': 2, 'target': 13, 'value': 0}, {'source': 2, 'target': 14, 'value': 0}, {'source': 2, 'target': 15, 'value': 0}, {'source': 2, 'target': 16, 'value': 0}, {'source': 2, 'target': 17, 'value': 0}, {'source': 2, 'target': 18, 'value': 0}, {'source': 2, 'target': 19, 'value': 0}, {'source': 2, 'target': 20, 'value': 0}, {'source': 2, 'target': 21, 'value': 0}, {'source': 2, 'target': 22, 'value': 0}, {'source': 2, 'target': 23, 'value': 0}, {'source': 2, 'target': 24, 'value': 0}, {'source': 2, 'target': 25, 'value': 0}, {'source': 3, 'target': 13, 'value': 0}, {'source': 3, 'target': 14, 'value': 0}, {'source': 3, 'target': 15, 'value': 0}, {'source': 3, 'target': 16, 'value': 0}, {'source': 3, 'target': 17, 'value': 0}, {'source': 3, 'target': 18, 'value': 0}, {'source': 3, 'target': 19, 'value': 0}, {'source': 3, 'target': 20, 'value': 0}, {'source': 3, 'target': 21, 'value': 0}, {'source': 3, 'target': 22, 'value': 0}, {'source': 3, 'target': 23, 'value': 0}, {'source': 3, 'target': 24, 'value': 0}, {'source': 3, 'target': 25, 'value': 0}, {'source': 4, 'target': 13, 'value': 0}, {'source': 4, 'target': 14, 'value': 0}, {'source': 4, 'target': 15, 'value': 0}, {'source': 4, 'target': 16, 'value': 0}, {'source': 4, 'target': 17, 'value': 0}, {'source': 4, 'target': 18, 'value': 0}, {'source': 4, 'target': 19, 'value': 0}, {'source': 4, 'target': 20, 'value': 0}, {'source': 4, 'target': 21, 'value': 0}, {'source': 4, 'target': 22, 'value': 0}, {'source': 4, 'target': 23, 'value': 0}, {'source': 4, 'target': 24, 'value': 0}, {'source': 4, 'target': 25, 'value': 0}, {'source': 5, 'target': 13, 'value': 0}, {'source': 5, 'target': 14, 'value': 0}, {'source': 5, 'target': 15, 'value': 0}, {'source': 5, 'target': 16, 'value': 0}, {'source': 5, 'target': 17, 'value': 0}, {'source': 5, 'target': 18, 'value': 0}, {'source': 5, 'target': 19, 'value': 0}, {'source': 5, 'target': 20, 'value': 0}, {'source': 5, 'target': 21, 'value': 0}, {'source': 5, 'target': 22, 'value': 0}, {'source': 5, 'target': 23, 'value': 0}, {'source': 5, 'target': 24, 'value': 0}, {'source': 5, 'target': 25, 'value': 0}, {'source': 6, 'target': 13, 'value': 0}, {'source': 6, 'target': 14, 'value': 0}, {'source': 6, 'target': 15, 'value': 0}, {'source': 6, 'target': 16, 'value': 0}, {'source': 6, 'target': 17, 'value': 0}, {'source': 6, 'target': 18, 'value': 0}, {'source': 6, 'target': 19, 'value': 0}, {'source': 6, 'target': 20, 'value': 0}, {'source': 6, 'target': 21, 'value': 0}, {'source': 6, 'target': 22, 'value': 0}, {'source': 6, 'target': 23, 'value': 0}, {'source': 6, 'target': 24, 'value': 0}, {'source': 6, 'target': 25, 'value': 0}, {'source': 7, 'target': 13, 'value': 0}, {'source': 7, 'target': 14, 'value': 0}, {'source': 7, 'target': 15, 'value': 0}, {'source': 7, 'target': 16, 'value': 0}, {'source': 7, 'target': 17, 'value': 0}, {'source': 7, 'target': 18, 'value': 0}, {'source': 7, 'target': 19, 'value': 0}, {'source': 7, 'target': 20, 'value': 0}, {'source': 7, 'target': 21, 'value': 0}, {'source': 7, 'target': 22, 'value': 0}, {'source': 7, 'target': 23, 'value': 0}, {'source': 7, 'target': 24, 'value': 0}, {'source': 7, 'target': 25, 'value': 0}, {'source': 8, 'target': 13, 'value': 0}, {'source': 8, 'target': 14, 'value': 0}, {'source': 8, 'target': 15, 'value': 0}, {'source': 8, 'target': 16, 'value': 0}, {'source': 8, 'target': 17, 'value': 0}, {'source': 8, 'target': 18, 'value': 0}, {'source': 8, 'target': 19, 'value': 0}, {'source': 8, 'target': 20, 'value': 0}, {'source': 8, 'target': 21, 'value': 0}, {'source': 8, 'target': 22, 'value': 0}, {'source': 8, 'target': 23, 'value': 0}, {'source': 8, 'target': 24, 'value': 0}, {'source': 8, 'target': 25, 'value': 0}, {'source': 9, 'target': 13, 'value': 0}, {'source': 9, 'target': 14, 'value': 0}, {'source': 9, 'target': 15, 'value': 0}, {'source': 9, 'target': 16, 'value': 0}, {'source': 9, 'target': 17, 'value': 0}, {'source': 9, 'target': 18, 'value': 0}, {'source': 9, 'target': 19, 'value': 0}, {'source': 9, 'target': 20, 'value': 0}, {'source': 9, 'target': 21, 'value': 0}, {'source': 9, 'target': 22, 'value': 0}, {'source': 9, 'target': 23, 'value': 0}, {'source': 9, 'target': 24, 'value': 0}, {'source': 9, 'target': 25, 'value': 0}, {'source': 10, 'target': 13, 'value': 0}, {'source': 10, 'target': 14, 'value': 0}, {'source': 10, 'target': 15, 'value': 0}, {'source': 10, 'target': 16, 'value': 0}, {'source': 10, 'target': 17, 'value': 0}, {'source': 10, 'target': 18, 'value': 0}, {'source': 10, 'target': 19, 'value': 0}, {'source': 10, 'target': 20, 'value': 0}, {'source': 10, 'target': 21, 'value': 0}, {'source': 10, 'target': 22, 'value': 0}, {'source': 10, 'target': 23, 'value': 0}, {'source': 10, 'target': 24, 'value': 0}, {'source': 10, 'target': 25, 'value': 0}, {'source': 11, 'target': 13, 'value': 0}, {'source': 11, 'target': 14, 'value': 0}, {'source': 11, 'target': 15, 'value': 0}, {'source': 11, 'target': 16, 'value': 0}, {'source': 11, 'target': 17, 'value': 0}, {'source': 11, 'target': 18, 'value': 0}, {'source': 11, 'target': 19, 'value': 0}, {'source': 11, 'target': 20, 'value': 0}, {'source': 11, 'target': 21, 'value': 0}, {'source': 11, 'target': 22, 'value': 0}, {'source': 11, 'target': 23, 'value': 0}, {'source': 11, 'target': 24, 'value': 0}, {'source': 11, 'target': 25, 'value': 0}, {'source': 12, 'target': 13, 'value': 0}, {'source': 12, 'target': 14, 'value': 0}, {'source': 12, 'target': 15, 'value': 0}, {'source': 12, 'target': 16, 'value': 0}, {'source': 12, 'target': 17, 'value': 0}, {'source': 12, 'target': 18, 'value': 0}, {'source': 12, 'target': 19, 'value': 0}, {'source': 12, 'target': 20, 'value': 0}, {'source': 12, 'target': 21, 'value': 0}, {'source': 12, 'target': 22, 'value': 0}, {'source': 12, 'target': 23, 'value': 0}, {'source': 12, 'target': 24, 'value': 0}, {'source': 12, 'target': 25, 'value': 0}, {'source': 13, 'target': 26, 'value': 0}, {'source': 13, 'target': 27, 'value': 0}, {'source': 13, 'target': 28, 'value': 0}, {'source': 13, 'target': 29, 'value': 0}, {'source': 13, 'target': 30, 'value': 0}, {'source': 14, 'target': 26, 'value': 0}, {'source': 14, 'target': 27, 'value': 0}, {'source': 14, 'target': 28, 'value': 0}, {'source': 14, 'target': 29, 'value': 0}, {'source': 14, 'target': 30, 'value': 0}, {'source': 15, 'target': 26, 'value': 0}, {'source': 15, 'target': 27, 'value': 0}, {'source': 15, 'target': 28, 'value': 0}, {'source': 15, 'target': 29, 'value': 0}, {'source': 15, 'target': 30, 'value': 0}, {'source': 16, 'target': 26, 'value': 0}, {'source': 16, 'target': 27, 'value': 0}, {'source': 16, 'target': 28, 'value': 0}, {'source': 16, 'target': 29, 'value': 0}, {'source': 16, 'target': 30, 'value': 0}, {'source': 17, 'target': 26, 'value': 0}, {'source': 17, 'target': 27, 'value': 0}, {'source': 17, 'target': 28, 'value': 0}, {'source': 17, 'target': 29, 'value': 0}, {'source': 17, 'target': 30, 'value': 0}, {'source': 18, 'target': 26, 'value': 0}, {'source': 18, 'target': 27, 'value': 0}, {'source': 18, 'target': 28, 'value': 0}, {'source': 18, 'target': 29, 'value': 0}, {'source': 18, 'target': 30, 'value': 0}, {'source': 19, 'target': 26, 'value': 0}, {'source': 19, 'target': 27, 'value': 0}, {'source': 19, 'target': 28, 'value': 0}, {'source': 19, 'target': 29, 'value': 0}, {'source': 19, 'target': 30, 'value': 0}, {'source': 20, 'target': 26, 'value': 0}, {'source': 20, 'target': 27, 'value': 0}, {'source': 20, 'target': 28, 'value': 0}, {'source': 20, 'target': 29, 'value': 0}, {'source': 20, 'target': 30, 'value': 0}, {'source': 21, 'target': 26, 'value': 0}, {'source': 21, 'target': 27, 'value': 0}, {'source': 21, 'target': 28, 'value': 0}, {'source': 21, 'target': 29, 'value': 0}, {'source': 21, 'target': 30, 'value': 0}, {'source': 22, 'target': 26, 'value': 0}, {'source': 22, 'target': 27, 'value': 0}, {'source': 22, 'target': 28, 'value': 0}, {'source': 22, 'target': 29, 'value': 0}, {'source': 22, 'target': 30, 'value': 0}, {'source': 23, 'target': 26, 'value': 0}, {'source': 23, 'target': 27, 'value': 0}, {'source': 23, 'target': 28, 'value': 0}, {'source': 23, 'target': 29, 'value': 0}, {'source': 23, 'target': 30, 'value': 0}, {'source': 24, 'target': 26, 'value': 0}, {'source': 24, 'target': 27, 'value': 0}, {'source': 24, 'target': 28, 'value': 0}, {'source': 24, 'target': 29, 'value': 0}, {'source': 24, 'target': 30, 'value': 0}, {'source': 25, 'target': 26, 'value': 0}, {'source': 25, 'target': 27, 'value': 0}, {'source': 25, 'target': 28, 'value': 0}, {'source': 25, 'target': 29, 'value': 0}, {'source': 25, 'target': 30, 'value': 0}, {'source': 26, 'target': 31, 'value': 0}, {'source': 27, 'target': 31, 'value': 0}, {'source': 28, 'target': 31, 'value': 0}, {'source': 29, 'target': 31, 'value': 0}, {'source': 30, 'target': 31, 'value': 0}], link_type='line', node_data=[{'label': 'x1', 'label_display': 'none'}, {'label': 'x2', 'label_display': 'none'}, {'label': 'x3', 'label_display': 'none'}, {'label': 'x4', 'label_display': 'none'}, {'label': 'x5', 'label_display': 'none'}, {'label': 'x6', 'label_display': 'none'}, {'label': 'x7', 'label_display': 'none'}, {'label': 'x8', 'label_display': 'none'}, {'label': 'x9', 'label_display': 'none'}, {'label': 'x10', 'label_display': 'none'}, {'label': 'x11', 'label_display': 'none'}, {'label': 'x12', 'label_display': 'none'}, {'label': 'x13', 'label_display': 'none'}, {'label': 'h1,1', 'label_display': 'none'}, {'label': 'h1,2', 'label_display': 'none'}, {'label': 'h1,3', 'label_display': 'none'}, {'label': 'h1,4', 'label_display': 'none'}, {'label': 'h1,5', 'label_display': 'none'}, {'label': 'h1,6', 'label_display': 'none'}, {'label': 'h1,7', 'label_display': 'none'}, {'label': 'h1,8', 'label_display': 'none'}, {'label': 'h1,9', 'label_display': 'none'}, {'label': 'h1,10', 'label_display': 'none'}, {'label': 'h1,11', 'label_display': 'none'}, {'label': 'h1,12', 'label_display': 'none'}, {'label': 'h1,13', 'label_display': 'none'}, {'label': 'h2,1', 'label_display': 'none'}, {'label': 'h2,2', 'label_display': 'none'}, {'label': 'h2,3', 'label_display': 'none'}, {'label': 'h2,4', 'label_display': 'none'}, {'label': 'h2,5', 'label_display': 'none'}, {'label': 'y1', 'label_display': 'none'}], scales={'x': LinearScale(max=100.0, min=0.0), 'y': LinearScale(max=100.0, min=0.0), 'link_color': OrdinalColorScale(colors=['gray', '#1f77b4', '#ff7f0e', '#2ca02c', '#d62728', '#9467bd', '#8c564b', '#e377c2', '#7f7f7f', '#bcbd22', '#17becf'], domain=[0, 1, 2, 3, 4, 5, 6, 7, 8, 9, 10])}, scales_metadata={'x': {'orientation': 'horizontal', 'dimension': 'x'}, 'y': {'orientation': 'vertical', 'dimension': 'y'}, 'color': {'dimension': 'color'}, 'link_color': {'dimension': 'link_color'}}, selected_style={'opacity': '1', 'stroke': 'red', 'stroke-width': '2.5'}, tooltip=Figure(axes=[Axis(scale=OrdinalScale()), Axis(orientation='vertical', scale=LinearScale())], fig_margin={'top': 60, 'bottom': 60, 'left': 60, 'right': 60}, layout=Layout(min_width='125px'), marks=[Bars(colors=['#1f77b4', '#ff7f0e', '#2ca02c', '#d62728', '#9467bd', '#8c564b', '#e377c2', '#7f7f7f', '#bcbd22', '#17becf'], interactions={'hover': 'tooltip'}, scales={'x': OrdinalScale(), 'y': LinearScale()}, scales_metadata={'x': {'orientation': 'horizontal', 'dimension': 'x'}, 'y': {'orientation': 'vertical', 'dimension': 'y'}, 'color': {'dimension': 'color'}}, tooltip_style={'opacity': 0.9})], scale_x=LinearScale(allow_padding=False, max=1.0, min=0.0), scale_y=LinearScale(allow_padding=False, max=1.0, min=0.0)), tooltip_style={'opacity': 0.9}, unhovered_style={'opacity': '0.1'}, x=array([ 20.,  20.,  20.,  20.,  20.,  20.,  20.,  20.,  20.,  20.,  20.,\n",
       "        20.,  20.,  40.,  40.,  40.,  40.,  40.,  40.,  40.,  40.,  40.,\n",
       "        40.,  40.,  40.,  40.,  60.,  60.,  60.,  60.,  60.,  80.]), y=array([ 92.85714286,  85.71428571,  78.57142857,  71.42857143,\n",
       "        64.28571429,  57.14285714,  50.        ,  42.85714286,\n",
       "        35.71428571,  28.57142857,  21.42857143,  14.28571429,\n",
       "         7.14285714,  92.85714286,  85.71428571,  78.57142857,\n",
       "        71.42857143,  64.28571429,  57.14285714,  50.        ,\n",
       "        42.85714286,  35.71428571,  28.57142857,  21.42857143,\n",
       "        14.28571429,   7.14285714,  83.33333333,  66.66666667,\n",
       "        50.        ,  33.33333333,  16.66666667,  50.        ]))], scale_x=LinearScale(allow_padding=False, max=1.0, min=0.0), scale_y=LinearScale(allow_padding=False, max=1.0, min=0.0), title='Analyzing the Trained Neural Network')), layout=Layout(min_height='1000px'))"
      ]
     },
     "metadata": {},
     "output_type": "display_data"
    }
   ],
   "source": [
    "a = MLPDashboard(net, 'nn-params', 'epoch', data=data)\n",
    "a"
   ]
  }
 ],
 "metadata": {
  "input_collapsed": false,
  "kernelspec": {
   "display_name": "Python 3",
   "language": "python",
   "name": "python3"
  },
  "language_info": {
   "codemirror_mode": {
    "name": "ipython",
    "version": 3
   },
   "file_extension": ".py",
   "mimetype": "text/x-python",
   "name": "python",
   "nbconvert_exporter": "python",
   "pygments_lexer": "ipython3",
   "version": "3.6.1"
  },
  "widgets": {
   "application/vnd.jupyter.widget-state+json": {
    "state": {
     "0324ccdf292c4a3f9b1ba2bf00975180": {
      "model_module": "@jupyter-widgets/controls",
      "model_module_version": "3.0.0",
      "model_name": "RadioButtonsModel",
      "state": {
       "_options_labels": [
        "Nodes",
        "Layers"
       ],
       "description": "Aggregation",
       "index": 0,
       "layout": "IPY_MODEL_501ac9e6329d47e5a7fb8174bb2c5c84",
       "style": "IPY_MODEL_53ca2cedcc064a9dafb60faa9954018c"
      }
     },
     "0ad5a8af60904e66a99cde9a11669de1": {
      "model_module": "bqplot",
      "model_module_version": "^0.3.0-alpha.1",
      "model_name": "LinearScaleModel",
      "state": {
       "_model_module_version": "^0.3.0-alpha.1",
       "_view_module_version": "^0.3.0-alpha.1",
       "max": 100,
       "min": 0,
       "stabilized": false
      }
     },
     "1456ebd8f87d4642bddfa5ab30dc50cc": {
      "model_module": "bqplot",
      "model_module_version": "^0.3.0-alpha.1",
      "model_name": "BarsModel",
      "state": {
       "_model_module_version": "^0.3.0-alpha.1",
       "_view_module_version": "^0.3.0-alpha.1",
       "color": {
        "type": null,
        "values": null
       },
       "display_legend": false,
       "scales": {
        "x": "IPY_MODEL_391760dddbbf4599a442ed4c37f305e6",
        "y": "IPY_MODEL_1908c59df4c543909ab63e1be1435050"
       },
       "selected": [],
       "x": {
        "type": "float",
        "values": [
         0,
         1,
         2,
         3,
         4,
         5,
         6,
         7,
         8,
         9,
         10,
         11,
         12
        ]
       },
       "y": {
        "type": "float",
        "values": [
         -0.04362702742218971,
         -0.28676337003707886,
         -0.1761043816804886,
         0.1581498235464096,
         -0.3629445731639862,
         0.20405158400535583,
         0.1925378441810608,
         0.18305829167366028,
         0.07588446885347366,
         0.18733079731464386,
         -0.25595778226852417,
         0.016042450442910194,
         0.22553013265132904
        ]
       }
      }
     },
     "1908c59df4c543909ab63e1be1435050": {
      "model_module": "bqplot",
      "model_module_version": "^0.3.0-alpha.1",
      "model_name": "LinearScaleModel",
      "state": {
       "_model_module_version": "^0.3.0-alpha.1",
       "_view_module_version": "^0.3.0-alpha.1",
       "stabilized": false
      }
     },
     "1fba8c3ad1dc44c2859297402b7539b0": {
      "model_module": "bqplot",
      "model_module_version": "^0.3.0-alpha.1",
      "model_name": "LinearScaleModel",
      "state": {
       "_model_module_version": "^0.3.0-alpha.1",
       "_view_module_version": "^0.3.0-alpha.1",
       "max": 100,
       "min": 0,
       "stabilized": false
      }
     },
     "2948531784ba44879b8a9652addd3571": {
      "model_module": "bqplot",
      "model_module_version": "^0.3.0-alpha.1",
      "model_name": "AxisModel",
      "state": {
       "_model_module_version": "^0.3.0-alpha.1",
       "_view_module_version": "^0.3.0-alpha.1",
       "scale": "IPY_MODEL_391760dddbbf4599a442ed4c37f305e6",
       "side": "bottom",
       "tick_values": {
        "type": null,
        "values": null
       }
      }
     },
     "2e3455bcc435446998fee87756cac406": {
      "model_module": "@jupyter-widgets/controls",
      "model_module_version": "3.0.0",
      "model_name": "SliderStyleModel",
      "state": {
       "description_width": ""
      }
     },
     "391760dddbbf4599a442ed4c37f305e6": {
      "model_module": "bqplot",
      "model_module_version": "^0.3.0-alpha.1",
      "model_name": "OrdinalScaleModel",
      "state": {
       "_model_module_version": "^0.3.0-alpha.1",
       "_view_module_version": "^0.3.0-alpha.1",
       "domain": []
      }
     },
     "39fe5cf3000f4c218b5053db157160ed": {
      "model_module": "@jupyter-widgets/controls",
      "model_module_version": "3.0.0",
      "model_name": "ButtonStyleModel",
      "state": {
       "_model_module": "@jupyter-widgets/controls",
       "_view_module": "@jupyter-widgets/controls"
      }
     },
     "4281c005f9d943db951217c0a04b44cb": {
      "model_module": "bqplot",
      "model_module_version": "^0.3.0-alpha.1",
      "model_name": "LinearScaleModel",
      "state": {
       "_model_module_version": "^0.3.0-alpha.1",
       "_view_module_version": "^0.3.0-alpha.1",
       "allow_padding": false,
       "max": 1,
       "min": 0,
       "stabilized": false
      }
     },
     "4285dd1a6623415da266e452c1e7de63": {
      "model_module": "@jupyter-widgets/base",
      "model_module_version": "3.0.0",
      "model_name": "LayoutModel",
      "state": {
       "min_width": "125px"
      }
     },
     "501ac9e6329d47e5a7fb8174bb2c5c84": {
      "model_module": "@jupyter-widgets/base",
      "model_module_version": "3.0.0",
      "model_name": "LayoutModel",
      "state": {}
     },
     "51c04a54892f4498984ec544cc8cc243": {
      "model_module": "bqplot",
      "model_module_version": "^0.3.0-alpha.1",
      "model_name": "LinearScaleModel",
      "state": {
       "_model_module_version": "^0.3.0-alpha.1",
       "_view_module_version": "^0.3.0-alpha.1",
       "allow_padding": false,
       "max": 1,
       "min": 0,
       "stabilized": false
      }
     },
     "53ca2cedcc064a9dafb60faa9954018c": {
      "model_module": "@jupyter-widgets/controls",
      "model_module_version": "3.0.0",
      "model_name": "DescriptionStyleModel",
      "state": {
       "description_width": ""
      }
     },
     "559f12feb29a462db4b1ea292a2b967b": {
      "model_module": "@jupyter-widgets/controls",
      "model_module_version": "3.0.0",
      "model_name": "ButtonModel",
      "state": {
       "description": "Update",
       "layout": "IPY_MODEL_9c23708734a24c04acdc2849f31c8dc7",
       "style": "IPY_MODEL_39fe5cf3000f4c218b5053db157160ed"
      }
     },
     "59ceddebdda2418aa3ea33ab1f280ae7": {
      "model_module": "bqplot",
      "model_module_version": "^0.3.0-alpha.1",
      "model_name": "GraphModel",
      "state": {
       "_model_module": "bqplot",
       "_model_module_version": "^0.3.0-alpha.1",
       "_view_count": null,
       "_view_module": "bqplot",
       "_view_module_version": "^0.3.0-alpha.1",
       "apply_clip": true,
       "charge": -600,
       "color": {
        "type": null,
        "values": null
       },
       "colors": [
        "Orange",
        "Orange",
        "Orange",
        "Orange",
        "Orange",
        "Orange",
        "Orange",
        "Orange",
        "Orange",
        "Orange",
        "Orange",
        "Orange",
        "Orange",
        "Orange",
        "Orange",
        "Orange",
        "Orange",
        "Orange",
        "Orange",
        "Orange",
        "Orange",
        "Orange",
        "Orange",
        "Orange",
        "Orange",
        "Orange",
        "Orange",
        "Orange",
        "Orange",
        "Orange",
        "Orange",
        "Orange",
        "Orange",
        "Orange",
        "Orange",
        "Orange",
        "Orange",
        "Orange",
        "Orange",
        "Orange",
        "Orange",
        "Orange",
        "Orange"
       ],
       "directed": false,
       "display_legend": false,
       "enable_hover": true,
       "highlight_links": true,
       "hovered_style": {
        "stroke": "1.5"
       },
       "interactions": {
        "click": "select",
        "hover": "tooltip"
       },
       "labels": [],
       "link_color": {
        "type": "float",
        "values": []
       },
       "link_data": [
        {
         "source": {
          "fixed": 0,
          "index": 0,
          "label": "x1",
          "label_display": "none",
          "px": 529.101806297863,
          "py": 355.7203247943226,
          "shape": "circle",
          "shape_attrs": {
           "r": 15
          },
          "value": null,
          "weight": 20,
          "x": 529.101806297863,
          "xval": 20,
          "y": 355.7203247943226,
          "yval": 92.3076923076923
         },
         "target": {
          "fixed": 0,
          "index": 12,
          "label": "h1,1",
          "label_display": "none",
          "px": 438.30653773859984,
          "py": 377.7211018453636,
          "shape": "circle",
          "shape_attrs": {
           "r": 15
          },
          "value": null,
          "weight": 22,
          "x": 438.30653773859984,
          "xval": 40,
          "y": 377.7211018453636,
          "yval": 95.23809523809524
         },
         "value": 1
        },
        {
         "source": {
          "fixed": 0,
          "index": 0,
          "label": "x1",
          "label_display": "none",
          "px": 529.101806297863,
          "py": 355.7203247943226,
          "shape": "circle",
          "shape_attrs": {
           "r": 15
          },
          "value": null,
          "weight": 20,
          "x": 529.101806297863,
          "xval": 20,
          "y": 355.7203247943226,
          "yval": 92.3076923076923
         },
         "target": {
          "fixed": 0,
          "index": 13,
          "label": "h1,2",
          "label_display": "none",
          "px": 445.4830710949258,
          "py": 407.40580969271514,
          "shape": "circle",
          "shape_attrs": {
           "r": 15
          },
          "value": null,
          "weight": 22,
          "x": 445.4830710949258,
          "xval": 40,
          "y": 407.40580969271514,
          "yval": 90.47619047619048
         },
         "value": 1
        },
        {
         "source": {
          "fixed": 0,
          "index": 0,
          "label": "x1",
          "label_display": "none",
          "px": 529.101806297863,
          "py": 355.7203247943226,
          "shape": "circle",
          "shape_attrs": {
           "r": 15
          },
          "value": null,
          "weight": 20,
          "x": 529.101806297863,
          "xval": 20,
          "y": 355.7203247943226,
          "yval": 92.3076923076923
         },
         "target": {
          "fixed": 0,
          "index": 14,
          "label": "h1,3",
          "label_display": "none",
          "px": 440.09389561772593,
          "py": 384.9913547714818,
          "shape": "circle",
          "shape_attrs": {
           "r": 15
          },
          "value": null,
          "weight": 22,
          "x": 440.09389561772593,
          "xval": 40,
          "y": 384.9913547714818,
          "yval": 85.71428571428571
         },
         "value": 1
        },
        {
         "source": {
          "fixed": 0,
          "index": 0,
          "label": "x1",
          "label_display": "none",
          "px": 529.101806297863,
          "py": 355.7203247943226,
          "shape": "circle",
          "shape_attrs": {
           "r": 15
          },
          "value": null,
          "weight": 20,
          "x": 529.101806297863,
          "xval": 20,
          "y": 355.7203247943226,
          "yval": 92.3076923076923
         },
         "target": {
          "index": 15,
          "label": "h1,4",
          "label_display": "none",
          "px": 442.03390585799406,
          "py": 393.18624031821906,
          "shape": "circle",
          "shape_attrs": {
           "r": 15
          },
          "value": null,
          "weight": 22,
          "x": 442.0252187451049,
          "xval": 40,
          "y": 393.18099926055953,
          "yval": 80.95238095238095
         },
         "value": 1
        },
        {
         "source": {
          "fixed": 0,
          "index": 0,
          "label": "x1",
          "label_display": "none",
          "px": 529.101806297863,
          "py": 355.7203247943226,
          "shape": "circle",
          "shape_attrs": {
           "r": 15
          },
          "value": null,
          "weight": 20,
          "x": 529.101806297863,
          "xval": 20,
          "y": 355.7203247943226,
          "yval": 92.3076923076923
         },
         "target": {
          "fixed": 0,
          "index": 16,
          "label": "h1,5",
          "label_display": "none",
          "px": 439.3038323400098,
          "py": 381.26898657152276,
          "shape": "circle",
          "shape_attrs": {
           "r": 15
          },
          "value": null,
          "weight": 22,
          "x": 439.3038323400098,
          "xval": 40,
          "y": 381.26898657152276,
          "yval": 76.19047619047619
         },
         "value": 1
        },
        {
         "source": {
          "fixed": 0,
          "index": 0,
          "label": "x1",
          "label_display": "none",
          "px": 529.101806297863,
          "py": 355.7203247943226,
          "shape": "circle",
          "shape_attrs": {
           "r": 15
          },
          "value": null,
          "weight": 20,
          "x": 529.101806297863,
          "xval": 20,
          "y": 355.7203247943226,
          "yval": 92.3076923076923
         },
         "target": {
          "index": 17,
          "label": "h1,6",
          "label_display": "none",
          "px": 436.1763853376012,
          "py": 367.0391092191069,
          "shape": "circle",
          "shape_attrs": {
           "r": 15
          },
          "value": null,
          "weight": 22,
          "x": 436.1319756129927,
          "xval": 40,
          "y": 366.9193372066237,
          "yval": 71.42857142857143
         },
         "value": 1
        },
        {
         "source": {
          "fixed": 0,
          "index": 0,
          "label": "x1",
          "label_display": "none",
          "px": 529.101806297863,
          "py": 355.7203247943226,
          "shape": "circle",
          "shape_attrs": {
           "r": 15
          },
          "value": null,
          "weight": 20,
          "x": 529.101806297863,
          "xval": 20,
          "y": 355.7203247943226,
          "yval": 92.3076923076923
         },
         "target": {
          "index": 18,
          "label": "h1,7",
          "label_display": "none",
          "px": 444.28747307460884,
          "py": 402.5857074144147,
          "shape": "circle",
          "shape_attrs": {
           "r": 15
          },
          "value": null,
          "weight": 22,
          "x": 444.28189322820117,
          "xval": 40,
          "y": 402.5864217166488,
          "yval": 66.66666666666667
         },
         "value": 1
        },
        {
         "source": {
          "fixed": 0,
          "index": 0,
          "label": "x1",
          "label_display": "none",
          "px": 529.101806297863,
          "py": 355.7203247943226,
          "shape": "circle",
          "shape_attrs": {
           "r": 15
          },
          "value": null,
          "weight": 20,
          "x": 529.101806297863,
          "xval": 20,
          "y": 355.7203247943226,
          "yval": 92.3076923076923
         },
         "target": {
          "index": 19,
          "label": "h1,8",
          "label_display": "none",
          "px": 436.96694163354766,
          "py": 370.835219648978,
          "shape": "circle",
          "shape_attrs": {
           "r": 15
          },
          "value": null,
          "weight": 22,
          "x": 436.93081668870667,
          "xval": 40,
          "y": 370.7487234007221,
          "yval": 61.904761904761905
         },
         "value": 1
        },
        {
         "source": {
          "fixed": 0,
          "index": 0,
          "label": "x1",
          "label_display": "none",
          "px": 529.101806297863,
          "py": 355.7203247943226,
          "shape": "circle",
          "shape_attrs": {
           "r": 15
          },
          "value": null,
          "weight": 20,
          "x": 529.101806297863,
          "xval": 20,
          "y": 355.7203247943226,
          "yval": 92.3076923076923
         },
         "target": {
          "index": 20,
          "label": "h1,9",
          "label_display": "none",
          "px": 443.12903262452926,
          "py": 397.77183731760726,
          "shape": "circle",
          "shape_attrs": {
           "r": 15
          },
          "value": null,
          "weight": 22,
          "x": 443.1225250371738,
          "xval": 40,
          "y": 397.77048960247726,
          "yval": 57.14285714285714
         },
         "value": 1
        },
        {
         "source": {
          "fixed": 0,
          "index": 0,
          "label": "x1",
          "label_display": "none",
          "px": 529.101806297863,
          "py": 355.7203247943226,
          "shape": "circle",
          "shape_attrs": {
           "r": 15
          },
          "value": null,
          "weight": 20,
          "x": 529.101806297863,
          "xval": 20,
          "y": 355.7203247943226,
          "yval": 92.3076923076923
         },
         "target": {
          "index": 21,
          "label": "h1,10",
          "label_display": "none",
          "px": 453.47719733511025,
          "py": 437.1791317957166,
          "shape": "circle",
          "shape_attrs": {
           "r": 15
          },
          "value": null,
          "weight": 22,
          "x": 453.50705008596486,
          "xval": 40,
          "y": 437.28186603254966,
          "yval": 52.38095238095238
         },
         "value": 1
        },
        {
         "source": {
          "fixed": 0,
          "index": 0,
          "label": "x1",
          "label_display": "none",
          "px": 529.101806297863,
          "py": 355.7203247943226,
          "shape": "circle",
          "shape_attrs": {
           "r": 15
          },
          "value": null,
          "weight": 20,
          "x": 529.101806297863,
          "xval": 20,
          "y": 355.7203247943226,
          "yval": 92.3076923076923
         },
         "target": {
          "index": 22,
          "label": "h1,11",
          "label_display": "none",
          "px": 450.6931880317312,
          "py": 427.36854915169533,
          "shape": "circle",
          "shape_attrs": {
           "r": 15
          },
          "value": null,
          "weight": 22,
          "x": 450.70224459711284,
          "xval": 40,
          "y": 427.40707742900895,
          "yval": 47.61904761904762
         },
         "value": 1
        },
        {
         "source": {
          "fixed": 0,
          "index": 0,
          "label": "x1",
          "label_display": "none",
          "px": 529.101806297863,
          "py": 355.7203247943226,
          "shape": "circle",
          "shape_attrs": {
           "r": 15
          },
          "value": null,
          "weight": 20,
          "x": 529.101806297863,
          "xval": 20,
          "y": 355.7203247943226,
          "yval": 92.3076923076923
         },
         "target": {
          "index": 23,
          "label": "h1,12",
          "label_display": "none",
          "px": 451.616956869591,
          "py": 430.68399636795544,
          "shape": "circle",
          "shape_attrs": {
           "r": 15
          },
          "value": null,
          "weight": 22,
          "x": 451.6308613454441,
          "xval": 40,
          "y": 430.73607807474326,
          "yval": 42.857142857142854
         },
         "value": 1
        },
        {
         "source": {
          "fixed": 0,
          "index": 0,
          "label": "x1",
          "label_display": "none",
          "px": 529.101806297863,
          "py": 355.7203247943226,
          "shape": "circle",
          "shape_attrs": {
           "r": 15
          },
          "value": null,
          "weight": 20,
          "x": 529.101806297863,
          "xval": 20,
          "y": 355.7203247943226,
          "yval": 92.3076923076923
         },
         "target": {
          "index": 24,
          "label": "h1,13",
          "label_display": "none",
          "px": 449.7701933541918,
          "py": 423.95395938325044,
          "shape": "circle",
          "shape_attrs": {
           "r": 15
          },
          "value": null,
          "weight": 22,
          "x": 449.77543161498545,
          "xval": 40,
          "y": 423.979666438766,
          "yval": 38.095238095238095
         },
         "value": 1
        },
        {
         "source": {
          "fixed": 0,
          "index": 0,
          "label": "x1",
          "label_display": "none",
          "px": 529.101806297863,
          "py": 355.7203247943226,
          "shape": "circle",
          "shape_attrs": {
           "r": 15
          },
          "value": null,
          "weight": 20,
          "x": 529.101806297863,
          "xval": 20,
          "y": 355.7203247943226,
          "yval": 92.3076923076923
         },
         "target": {
          "index": 25,
          "label": "h1,14",
          "label_display": "none",
          "px": 447.77652249109667,
          "py": 416.4027794386295,
          "shape": "circle",
          "shape_attrs": {
           "r": 15
          },
          "value": null,
          "weight": 22,
          "x": 447.77533228674633,
          "xval": 40,
          "y": 416.4089800756498,
          "yval": 33.333333333333336
         },
         "value": 1
        },
        {
         "source": {
          "fixed": 0,
          "index": 0,
          "label": "x1",
          "label_display": "none",
          "px": 529.101806297863,
          "py": 355.7203247943226,
          "shape": "circle",
          "shape_attrs": {
           "r": 15
          },
          "value": null,
          "weight": 20,
          "x": 529.101806297863,
          "xval": 20,
          "y": 355.7203247943226,
          "yval": 92.3076923076923
         },
         "target": {
          "fixed": 0,
          "index": 26,
          "label": "h1,15",
          "label_display": "none",
          "px": 437.84986949367203,
          "py": 374.25132654913494,
          "shape": "circle",
          "shape_attrs": {
           "r": 15
          },
          "value": null,
          "weight": 22,
          "x": 437.84986949367203,
          "xval": 40,
          "y": 374.25132654913494,
          "yval": 28.57142857142857
         },
         "value": 1
        },
        {
         "source": {
          "fixed": 0,
          "index": 0,
          "label": "x1",
          "label_display": "none",
          "px": 529.101806297863,
          "py": 355.7203247943226,
          "shape": "circle",
          "shape_attrs": {
           "r": 15
          },
          "value": null,
          "weight": 20,
          "x": 529.101806297863,
          "xval": 20,
          "y": 355.7203247943226,
          "yval": 92.3076923076923
         },
         "target": {
          "index": 27,
          "label": "h1,16",
          "label_display": "none",
          "px": 441.03312194188425,
          "py": 388.9301428056495,
          "shape": "circle",
          "shape_attrs": {
           "r": 15
          },
          "value": null,
          "weight": 22,
          "x": 441.0223311760983,
          "xval": 40,
          "y": 388.9201492326303,
          "yval": 23.80952380952381
         },
         "value": 1
        },
        {
         "source": {
          "fixed": 0,
          "index": 0,
          "label": "x1",
          "label_display": "none",
          "px": 529.101806297863,
          "py": 355.7203247943226,
          "shape": "circle",
          "shape_attrs": {
           "r": 15
          },
          "value": null,
          "weight": 20,
          "x": 529.101806297863,
          "xval": 20,
          "y": 355.7203247943226,
          "yval": 92.3076923076923
         },
         "target": {
          "index": 28,
          "label": "h1,17",
          "label_display": "none",
          "px": 448.80878786875905,
          "py": 420.35138343623464,
          "shape": "circle",
          "shape_attrs": {
           "r": 15
          },
          "value": null,
          "weight": 22,
          "x": 448.8091799805161,
          "xval": 40,
          "y": 420.3610019925185,
          "yval": 19.047619047619047
         },
         "value": 1
        },
        {
         "source": {
          "fixed": 0,
          "index": 0,
          "label": "x1",
          "label_display": "none",
          "px": 529.101806297863,
          "py": 355.7203247943226,
          "shape": "circle",
          "shape_attrs": {
           "r": 15
          },
          "value": null,
          "weight": 20,
          "x": 529.101806297863,
          "xval": 20,
          "y": 355.7203247943226,
          "yval": 92.3076923076923
         },
         "target": {
          "index": 29,
          "label": "h1,18",
          "label_display": "none",
          "px": 446.66133336839465,
          "py": 412.06746080603597,
          "shape": "circle",
          "shape_attrs": {
           "r": 15
          },
          "value": null,
          "weight": 22,
          "x": 446.65836227806636,
          "xval": 40,
          "y": 412.06979862465556,
          "yval": 14.285714285714285
         },
         "value": 1
        },
        {
         "source": {
          "fixed": 0,
          "index": 0,
          "label": "x1",
          "label_display": "none",
          "px": 529.101806297863,
          "py": 355.7203247943226,
          "shape": "circle",
          "shape_attrs": {
           "r": 15
          },
          "value": null,
          "weight": 20,
          "x": 529.101806297863,
          "xval": 20,
          "y": 355.7203247943226,
          "yval": 92.3076923076923
         },
         "target": {
          "index": 30,
          "label": "h1,19",
          "label_display": "none",
          "px": 454.5331839788234,
          "py": 440.7353981371751,
          "shape": "circle",
          "shape_attrs": {
           "r": 15
          },
          "value": null,
          "weight": 22,
          "x": 454.57338727966345,
          "xval": 40,
          "y": 440.870029182474,
          "yval": 9.523809523809524
         },
         "value": 1
        },
        {
         "source": {
          "fixed": 0,
          "index": 0,
          "label": "x1",
          "label_display": "none",
          "px": 529.101806297863,
          "py": 355.7203247943226,
          "shape": "circle",
          "shape_attrs": {
           "r": 15
          },
          "value": null,
          "weight": 20,
          "x": 529.101806297863,
          "xval": 20,
          "y": 355.7203247943226,
          "yval": 92.3076923076923
         },
         "target": {
          "index": 31,
          "label": "h1,20",
          "label_display": "none",
          "px": 452.51111853060013,
          "py": 433.8924336038177,
          "shape": "circle",
          "shape_attrs": {
           "r": 15
          },
          "value": null,
          "weight": 22,
          "x": 452.53198152903235,
          "xval": 40,
          "y": 433.96970392214837,
          "yval": 4.761904761904762
         },
         "value": 1
        },
        {
         "source": {
          "index": 1,
          "label": "x2",
          "label_display": "none",
          "px": 531.8832380514635,
          "py": 361.09275997017016,
          "shape": "circle",
          "shape_attrs": {
           "r": 15
          },
          "value": null,
          "weight": 20,
          "x": 531.8893505016846,
          "xval": 20,
          "y": 361.0113644764516,
          "yval": 84.61538461538461
         },
         "target": {
          "fixed": 0,
          "index": 12,
          "label": "h1,1",
          "label_display": "none",
          "px": 438.30653773859984,
          "py": 377.7211018453636,
          "shape": "circle",
          "shape_attrs": {
           "r": 15
          },
          "value": null,
          "weight": 22,
          "x": 438.30653773859984,
          "xval": 40,
          "y": 377.7211018453636,
          "yval": 95.23809523809524
         },
         "value": 1
        },
        {
         "source": {
          "index": 1,
          "label": "x2",
          "label_display": "none",
          "px": 531.8832380514635,
          "py": 361.09275997017016,
          "shape": "circle",
          "shape_attrs": {
           "r": 15
          },
          "value": null,
          "weight": 20,
          "x": 531.8893505016846,
          "xval": 20,
          "y": 361.0113644764516,
          "yval": 84.61538461538461
         },
         "target": {
          "fixed": 0,
          "index": 13,
          "label": "h1,2",
          "label_display": "none",
          "px": 445.4830710949258,
          "py": 407.40580969271514,
          "shape": "circle",
          "shape_attrs": {
           "r": 15
          },
          "value": null,
          "weight": 22,
          "x": 445.4830710949258,
          "xval": 40,
          "y": 407.40580969271514,
          "yval": 90.47619047619048
         },
         "value": 1
        },
        {
         "source": {
          "index": 1,
          "label": "x2",
          "label_display": "none",
          "px": 531.8832380514635,
          "py": 361.09275997017016,
          "shape": "circle",
          "shape_attrs": {
           "r": 15
          },
          "value": null,
          "weight": 20,
          "x": 531.8893505016846,
          "xval": 20,
          "y": 361.0113644764516,
          "yval": 84.61538461538461
         },
         "target": {
          "fixed": 0,
          "index": 14,
          "label": "h1,3",
          "label_display": "none",
          "px": 440.09389561772593,
          "py": 384.9913547714818,
          "shape": "circle",
          "shape_attrs": {
           "r": 15
          },
          "value": null,
          "weight": 22,
          "x": 440.09389561772593,
          "xval": 40,
          "y": 384.9913547714818,
          "yval": 85.71428571428571
         },
         "value": 1
        },
        {
         "source": {
          "index": 1,
          "label": "x2",
          "label_display": "none",
          "px": 531.8832380514635,
          "py": 361.09275997017016,
          "shape": "circle",
          "shape_attrs": {
           "r": 15
          },
          "value": null,
          "weight": 20,
          "x": 531.8893505016846,
          "xval": 20,
          "y": 361.0113644764516,
          "yval": 84.61538461538461
         },
         "target": {
          "index": 15,
          "label": "h1,4",
          "label_display": "none",
          "px": 442.03390585799406,
          "py": 393.18624031821906,
          "shape": "circle",
          "shape_attrs": {
           "r": 15
          },
          "value": null,
          "weight": 22,
          "x": 442.0252187451049,
          "xval": 40,
          "y": 393.18099926055953,
          "yval": 80.95238095238095
         },
         "value": 1
        },
        {
         "source": {
          "index": 1,
          "label": "x2",
          "label_display": "none",
          "px": 531.8832380514635,
          "py": 361.09275997017016,
          "shape": "circle",
          "shape_attrs": {
           "r": 15
          },
          "value": null,
          "weight": 20,
          "x": 531.8893505016846,
          "xval": 20,
          "y": 361.0113644764516,
          "yval": 84.61538461538461
         },
         "target": {
          "fixed": 0,
          "index": 16,
          "label": "h1,5",
          "label_display": "none",
          "px": 439.3038323400098,
          "py": 381.26898657152276,
          "shape": "circle",
          "shape_attrs": {
           "r": 15
          },
          "value": null,
          "weight": 22,
          "x": 439.3038323400098,
          "xval": 40,
          "y": 381.26898657152276,
          "yval": 76.19047619047619
         },
         "value": 1
        },
        {
         "source": {
          "index": 1,
          "label": "x2",
          "label_display": "none",
          "px": 531.8832380514635,
          "py": 361.09275997017016,
          "shape": "circle",
          "shape_attrs": {
           "r": 15
          },
          "value": null,
          "weight": 20,
          "x": 531.8893505016846,
          "xval": 20,
          "y": 361.0113644764516,
          "yval": 84.61538461538461
         },
         "target": {
          "index": 17,
          "label": "h1,6",
          "label_display": "none",
          "px": 436.1763853376012,
          "py": 367.0391092191069,
          "shape": "circle",
          "shape_attrs": {
           "r": 15
          },
          "value": null,
          "weight": 22,
          "x": 436.1319756129927,
          "xval": 40,
          "y": 366.9193372066237,
          "yval": 71.42857142857143
         },
         "value": 1
        },
        {
         "source": {
          "index": 1,
          "label": "x2",
          "label_display": "none",
          "px": 531.8832380514635,
          "py": 361.09275997017016,
          "shape": "circle",
          "shape_attrs": {
           "r": 15
          },
          "value": null,
          "weight": 20,
          "x": 531.8893505016846,
          "xval": 20,
          "y": 361.0113644764516,
          "yval": 84.61538461538461
         },
         "target": {
          "index": 18,
          "label": "h1,7",
          "label_display": "none",
          "px": 444.28747307460884,
          "py": 402.5857074144147,
          "shape": "circle",
          "shape_attrs": {
           "r": 15
          },
          "value": null,
          "weight": 22,
          "x": 444.28189322820117,
          "xval": 40,
          "y": 402.5864217166488,
          "yval": 66.66666666666667
         },
         "value": 1
        },
        {
         "source": {
          "index": 1,
          "label": "x2",
          "label_display": "none",
          "px": 531.8832380514635,
          "py": 361.09275997017016,
          "shape": "circle",
          "shape_attrs": {
           "r": 15
          },
          "value": null,
          "weight": 20,
          "x": 531.8893505016846,
          "xval": 20,
          "y": 361.0113644764516,
          "yval": 84.61538461538461
         },
         "target": {
          "index": 19,
          "label": "h1,8",
          "label_display": "none",
          "px": 436.96694163354766,
          "py": 370.835219648978,
          "shape": "circle",
          "shape_attrs": {
           "r": 15
          },
          "value": null,
          "weight": 22,
          "x": 436.93081668870667,
          "xval": 40,
          "y": 370.7487234007221,
          "yval": 61.904761904761905
         },
         "value": 1
        },
        {
         "source": {
          "index": 1,
          "label": "x2",
          "label_display": "none",
          "px": 531.8832380514635,
          "py": 361.09275997017016,
          "shape": "circle",
          "shape_attrs": {
           "r": 15
          },
          "value": null,
          "weight": 20,
          "x": 531.8893505016846,
          "xval": 20,
          "y": 361.0113644764516,
          "yval": 84.61538461538461
         },
         "target": {
          "index": 20,
          "label": "h1,9",
          "label_display": "none",
          "px": 443.12903262452926,
          "py": 397.77183731760726,
          "shape": "circle",
          "shape_attrs": {
           "r": 15
          },
          "value": null,
          "weight": 22,
          "x": 443.1225250371738,
          "xval": 40,
          "y": 397.77048960247726,
          "yval": 57.14285714285714
         },
         "value": 1
        },
        {
         "source": {
          "index": 1,
          "label": "x2",
          "label_display": "none",
          "px": 531.8832380514635,
          "py": 361.09275997017016,
          "shape": "circle",
          "shape_attrs": {
           "r": 15
          },
          "value": null,
          "weight": 20,
          "x": 531.8893505016846,
          "xval": 20,
          "y": 361.0113644764516,
          "yval": 84.61538461538461
         },
         "target": {
          "index": 21,
          "label": "h1,10",
          "label_display": "none",
          "px": 453.47719733511025,
          "py": 437.1791317957166,
          "shape": "circle",
          "shape_attrs": {
           "r": 15
          },
          "value": null,
          "weight": 22,
          "x": 453.50705008596486,
          "xval": 40,
          "y": 437.28186603254966,
          "yval": 52.38095238095238
         },
         "value": 1
        },
        {
         "source": {
          "index": 1,
          "label": "x2",
          "label_display": "none",
          "px": 531.8832380514635,
          "py": 361.09275997017016,
          "shape": "circle",
          "shape_attrs": {
           "r": 15
          },
          "value": null,
          "weight": 20,
          "x": 531.8893505016846,
          "xval": 20,
          "y": 361.0113644764516,
          "yval": 84.61538461538461
         },
         "target": {
          "index": 22,
          "label": "h1,11",
          "label_display": "none",
          "px": 450.6931880317312,
          "py": 427.36854915169533,
          "shape": "circle",
          "shape_attrs": {
           "r": 15
          },
          "value": null,
          "weight": 22,
          "x": 450.70224459711284,
          "xval": 40,
          "y": 427.40707742900895,
          "yval": 47.61904761904762
         },
         "value": 1
        },
        {
         "source": {
          "index": 1,
          "label": "x2",
          "label_display": "none",
          "px": 531.8832380514635,
          "py": 361.09275997017016,
          "shape": "circle",
          "shape_attrs": {
           "r": 15
          },
          "value": null,
          "weight": 20,
          "x": 531.8893505016846,
          "xval": 20,
          "y": 361.0113644764516,
          "yval": 84.61538461538461
         },
         "target": {
          "index": 23,
          "label": "h1,12",
          "label_display": "none",
          "px": 451.616956869591,
          "py": 430.68399636795544,
          "shape": "circle",
          "shape_attrs": {
           "r": 15
          },
          "value": null,
          "weight": 22,
          "x": 451.6308613454441,
          "xval": 40,
          "y": 430.73607807474326,
          "yval": 42.857142857142854
         },
         "value": 1
        },
        {
         "source": {
          "index": 1,
          "label": "x2",
          "label_display": "none",
          "px": 531.8832380514635,
          "py": 361.09275997017016,
          "shape": "circle",
          "shape_attrs": {
           "r": 15
          },
          "value": null,
          "weight": 20,
          "x": 531.8893505016846,
          "xval": 20,
          "y": 361.0113644764516,
          "yval": 84.61538461538461
         },
         "target": {
          "index": 24,
          "label": "h1,13",
          "label_display": "none",
          "px": 449.7701933541918,
          "py": 423.95395938325044,
          "shape": "circle",
          "shape_attrs": {
           "r": 15
          },
          "value": null,
          "weight": 22,
          "x": 449.77543161498545,
          "xval": 40,
          "y": 423.979666438766,
          "yval": 38.095238095238095
         },
         "value": 1
        },
        {
         "source": {
          "index": 1,
          "label": "x2",
          "label_display": "none",
          "px": 531.8832380514635,
          "py": 361.09275997017016,
          "shape": "circle",
          "shape_attrs": {
           "r": 15
          },
          "value": null,
          "weight": 20,
          "x": 531.8893505016846,
          "xval": 20,
          "y": 361.0113644764516,
          "yval": 84.61538461538461
         },
         "target": {
          "index": 25,
          "label": "h1,14",
          "label_display": "none",
          "px": 447.77652249109667,
          "py": 416.4027794386295,
          "shape": "circle",
          "shape_attrs": {
           "r": 15
          },
          "value": null,
          "weight": 22,
          "x": 447.77533228674633,
          "xval": 40,
          "y": 416.4089800756498,
          "yval": 33.333333333333336
         },
         "value": 1
        },
        {
         "source": {
          "index": 1,
          "label": "x2",
          "label_display": "none",
          "px": 531.8832380514635,
          "py": 361.09275997017016,
          "shape": "circle",
          "shape_attrs": {
           "r": 15
          },
          "value": null,
          "weight": 20,
          "x": 531.8893505016846,
          "xval": 20,
          "y": 361.0113644764516,
          "yval": 84.61538461538461
         },
         "target": {
          "fixed": 0,
          "index": 26,
          "label": "h1,15",
          "label_display": "none",
          "px": 437.84986949367203,
          "py": 374.25132654913494,
          "shape": "circle",
          "shape_attrs": {
           "r": 15
          },
          "value": null,
          "weight": 22,
          "x": 437.84986949367203,
          "xval": 40,
          "y": 374.25132654913494,
          "yval": 28.57142857142857
         },
         "value": 1
        },
        {
         "source": {
          "index": 1,
          "label": "x2",
          "label_display": "none",
          "px": 531.8832380514635,
          "py": 361.09275997017016,
          "shape": "circle",
          "shape_attrs": {
           "r": 15
          },
          "value": null,
          "weight": 20,
          "x": 531.8893505016846,
          "xval": 20,
          "y": 361.0113644764516,
          "yval": 84.61538461538461
         },
         "target": {
          "index": 27,
          "label": "h1,16",
          "label_display": "none",
          "px": 441.03312194188425,
          "py": 388.9301428056495,
          "shape": "circle",
          "shape_attrs": {
           "r": 15
          },
          "value": null,
          "weight": 22,
          "x": 441.0223311760983,
          "xval": 40,
          "y": 388.9201492326303,
          "yval": 23.80952380952381
         },
         "value": 1
        },
        {
         "source": {
          "index": 1,
          "label": "x2",
          "label_display": "none",
          "px": 531.8832380514635,
          "py": 361.09275997017016,
          "shape": "circle",
          "shape_attrs": {
           "r": 15
          },
          "value": null,
          "weight": 20,
          "x": 531.8893505016846,
          "xval": 20,
          "y": 361.0113644764516,
          "yval": 84.61538461538461
         },
         "target": {
          "index": 28,
          "label": "h1,17",
          "label_display": "none",
          "px": 448.80878786875905,
          "py": 420.35138343623464,
          "shape": "circle",
          "shape_attrs": {
           "r": 15
          },
          "value": null,
          "weight": 22,
          "x": 448.8091799805161,
          "xval": 40,
          "y": 420.3610019925185,
          "yval": 19.047619047619047
         },
         "value": 1
        },
        {
         "source": {
          "index": 1,
          "label": "x2",
          "label_display": "none",
          "px": 531.8832380514635,
          "py": 361.09275997017016,
          "shape": "circle",
          "shape_attrs": {
           "r": 15
          },
          "value": null,
          "weight": 20,
          "x": 531.8893505016846,
          "xval": 20,
          "y": 361.0113644764516,
          "yval": 84.61538461538461
         },
         "target": {
          "index": 29,
          "label": "h1,18",
          "label_display": "none",
          "px": 446.66133336839465,
          "py": 412.06746080603597,
          "shape": "circle",
          "shape_attrs": {
           "r": 15
          },
          "value": null,
          "weight": 22,
          "x": 446.65836227806636,
          "xval": 40,
          "y": 412.06979862465556,
          "yval": 14.285714285714285
         },
         "value": 1
        },
        {
         "source": {
          "index": 1,
          "label": "x2",
          "label_display": "none",
          "px": 531.8832380514635,
          "py": 361.09275997017016,
          "shape": "circle",
          "shape_attrs": {
           "r": 15
          },
          "value": null,
          "weight": 20,
          "x": 531.8893505016846,
          "xval": 20,
          "y": 361.0113644764516,
          "yval": 84.61538461538461
         },
         "target": {
          "index": 30,
          "label": "h1,19",
          "label_display": "none",
          "px": 454.5331839788234,
          "py": 440.7353981371751,
          "shape": "circle",
          "shape_attrs": {
           "r": 15
          },
          "value": null,
          "weight": 22,
          "x": 454.57338727966345,
          "xval": 40,
          "y": 440.870029182474,
          "yval": 9.523809523809524
         },
         "value": 1
        },
        {
         "source": {
          "index": 1,
          "label": "x2",
          "label_display": "none",
          "px": 531.8832380514635,
          "py": 361.09275997017016,
          "shape": "circle",
          "shape_attrs": {
           "r": 15
          },
          "value": null,
          "weight": 20,
          "x": 531.8893505016846,
          "xval": 20,
          "y": 361.0113644764516,
          "yval": 84.61538461538461
         },
         "target": {
          "index": 31,
          "label": "h1,20",
          "label_display": "none",
          "px": 452.51111853060013,
          "py": 433.8924336038177,
          "shape": "circle",
          "shape_attrs": {
           "r": 15
          },
          "value": null,
          "weight": 22,
          "x": 452.53198152903235,
          "xval": 40,
          "y": 433.96970392214837,
          "yval": 4.761904761904762
         },
         "value": 1
        },
        {
         "source": {
          "fixed": 0,
          "index": 2,
          "label": "x3",
          "label_display": "none",
          "px": 534.0063735013048,
          "py": 365.6184188767283,
          "shape": "circle",
          "shape_attrs": {
           "r": 15
          },
          "value": null,
          "weight": 20,
          "x": 534.0063735013048,
          "xval": 20,
          "y": 365.6184188767283,
          "yval": 76.92307692307692
         },
         "target": {
          "fixed": 0,
          "index": 12,
          "label": "h1,1",
          "label_display": "none",
          "px": 438.30653773859984,
          "py": 377.7211018453636,
          "shape": "circle",
          "shape_attrs": {
           "r": 15
          },
          "value": null,
          "weight": 22,
          "x": 438.30653773859984,
          "xval": 40,
          "y": 377.7211018453636,
          "yval": 95.23809523809524
         },
         "value": 1
        },
        {
         "source": {
          "fixed": 0,
          "index": 2,
          "label": "x3",
          "label_display": "none",
          "px": 534.0063735013048,
          "py": 365.6184188767283,
          "shape": "circle",
          "shape_attrs": {
           "r": 15
          },
          "value": null,
          "weight": 20,
          "x": 534.0063735013048,
          "xval": 20,
          "y": 365.6184188767283,
          "yval": 76.92307692307692
         },
         "target": {
          "fixed": 0,
          "index": 13,
          "label": "h1,2",
          "label_display": "none",
          "px": 445.4830710949258,
          "py": 407.40580969271514,
          "shape": "circle",
          "shape_attrs": {
           "r": 15
          },
          "value": null,
          "weight": 22,
          "x": 445.4830710949258,
          "xval": 40,
          "y": 407.40580969271514,
          "yval": 90.47619047619048
         },
         "value": 1
        },
        {
         "source": {
          "fixed": 0,
          "index": 2,
          "label": "x3",
          "label_display": "none",
          "px": 534.0063735013048,
          "py": 365.6184188767283,
          "shape": "circle",
          "shape_attrs": {
           "r": 15
          },
          "value": null,
          "weight": 20,
          "x": 534.0063735013048,
          "xval": 20,
          "y": 365.6184188767283,
          "yval": 76.92307692307692
         },
         "target": {
          "fixed": 0,
          "index": 14,
          "label": "h1,3",
          "label_display": "none",
          "px": 440.09389561772593,
          "py": 384.9913547714818,
          "shape": "circle",
          "shape_attrs": {
           "r": 15
          },
          "value": null,
          "weight": 22,
          "x": 440.09389561772593,
          "xval": 40,
          "y": 384.9913547714818,
          "yval": 85.71428571428571
         },
         "value": 1
        },
        {
         "source": {
          "fixed": 0,
          "index": 2,
          "label": "x3",
          "label_display": "none",
          "px": 534.0063735013048,
          "py": 365.6184188767283,
          "shape": "circle",
          "shape_attrs": {
           "r": 15
          },
          "value": null,
          "weight": 20,
          "x": 534.0063735013048,
          "xval": 20,
          "y": 365.6184188767283,
          "yval": 76.92307692307692
         },
         "target": {
          "index": 15,
          "label": "h1,4",
          "label_display": "none",
          "px": 442.03390585799406,
          "py": 393.18624031821906,
          "shape": "circle",
          "shape_attrs": {
           "r": 15
          },
          "value": null,
          "weight": 22,
          "x": 442.0252187451049,
          "xval": 40,
          "y": 393.18099926055953,
          "yval": 80.95238095238095
         },
         "value": 1
        },
        {
         "source": {
          "fixed": 0,
          "index": 2,
          "label": "x3",
          "label_display": "none",
          "px": 534.0063735013048,
          "py": 365.6184188767283,
          "shape": "circle",
          "shape_attrs": {
           "r": 15
          },
          "value": null,
          "weight": 20,
          "x": 534.0063735013048,
          "xval": 20,
          "y": 365.6184188767283,
          "yval": 76.92307692307692
         },
         "target": {
          "fixed": 0,
          "index": 16,
          "label": "h1,5",
          "label_display": "none",
          "px": 439.3038323400098,
          "py": 381.26898657152276,
          "shape": "circle",
          "shape_attrs": {
           "r": 15
          },
          "value": null,
          "weight": 22,
          "x": 439.3038323400098,
          "xval": 40,
          "y": 381.26898657152276,
          "yval": 76.19047619047619
         },
         "value": 1
        },
        {
         "source": {
          "fixed": 0,
          "index": 2,
          "label": "x3",
          "label_display": "none",
          "px": 534.0063735013048,
          "py": 365.6184188767283,
          "shape": "circle",
          "shape_attrs": {
           "r": 15
          },
          "value": null,
          "weight": 20,
          "x": 534.0063735013048,
          "xval": 20,
          "y": 365.6184188767283,
          "yval": 76.92307692307692
         },
         "target": {
          "index": 17,
          "label": "h1,6",
          "label_display": "none",
          "px": 436.1763853376012,
          "py": 367.0391092191069,
          "shape": "circle",
          "shape_attrs": {
           "r": 15
          },
          "value": null,
          "weight": 22,
          "x": 436.1319756129927,
          "xval": 40,
          "y": 366.9193372066237,
          "yval": 71.42857142857143
         },
         "value": 1
        },
        {
         "source": {
          "fixed": 0,
          "index": 2,
          "label": "x3",
          "label_display": "none",
          "px": 534.0063735013048,
          "py": 365.6184188767283,
          "shape": "circle",
          "shape_attrs": {
           "r": 15
          },
          "value": null,
          "weight": 20,
          "x": 534.0063735013048,
          "xval": 20,
          "y": 365.6184188767283,
          "yval": 76.92307692307692
         },
         "target": {
          "index": 18,
          "label": "h1,7",
          "label_display": "none",
          "px": 444.28747307460884,
          "py": 402.5857074144147,
          "shape": "circle",
          "shape_attrs": {
           "r": 15
          },
          "value": null,
          "weight": 22,
          "x": 444.28189322820117,
          "xval": 40,
          "y": 402.5864217166488,
          "yval": 66.66666666666667
         },
         "value": 1
        },
        {
         "source": {
          "fixed": 0,
          "index": 2,
          "label": "x3",
          "label_display": "none",
          "px": 534.0063735013048,
          "py": 365.6184188767283,
          "shape": "circle",
          "shape_attrs": {
           "r": 15
          },
          "value": null,
          "weight": 20,
          "x": 534.0063735013048,
          "xval": 20,
          "y": 365.6184188767283,
          "yval": 76.92307692307692
         },
         "target": {
          "index": 19,
          "label": "h1,8",
          "label_display": "none",
          "px": 436.96694163354766,
          "py": 370.835219648978,
          "shape": "circle",
          "shape_attrs": {
           "r": 15
          },
          "value": null,
          "weight": 22,
          "x": 436.93081668870667,
          "xval": 40,
          "y": 370.7487234007221,
          "yval": 61.904761904761905
         },
         "value": 1
        },
        {
         "source": {
          "fixed": 0,
          "index": 2,
          "label": "x3",
          "label_display": "none",
          "px": 534.0063735013048,
          "py": 365.6184188767283,
          "shape": "circle",
          "shape_attrs": {
           "r": 15
          },
          "value": null,
          "weight": 20,
          "x": 534.0063735013048,
          "xval": 20,
          "y": 365.6184188767283,
          "yval": 76.92307692307692
         },
         "target": {
          "index": 20,
          "label": "h1,9",
          "label_display": "none",
          "px": 443.12903262452926,
          "py": 397.77183731760726,
          "shape": "circle",
          "shape_attrs": {
           "r": 15
          },
          "value": null,
          "weight": 22,
          "x": 443.1225250371738,
          "xval": 40,
          "y": 397.77048960247726,
          "yval": 57.14285714285714
         },
         "value": 1
        },
        {
         "source": {
          "fixed": 0,
          "index": 2,
          "label": "x3",
          "label_display": "none",
          "px": 534.0063735013048,
          "py": 365.6184188767283,
          "shape": "circle",
          "shape_attrs": {
           "r": 15
          },
          "value": null,
          "weight": 20,
          "x": 534.0063735013048,
          "xval": 20,
          "y": 365.6184188767283,
          "yval": 76.92307692307692
         },
         "target": {
          "index": 21,
          "label": "h1,10",
          "label_display": "none",
          "px": 453.47719733511025,
          "py": 437.1791317957166,
          "shape": "circle",
          "shape_attrs": {
           "r": 15
          },
          "value": null,
          "weight": 22,
          "x": 453.50705008596486,
          "xval": 40,
          "y": 437.28186603254966,
          "yval": 52.38095238095238
         },
         "value": 1
        },
        {
         "source": {
          "fixed": 0,
          "index": 2,
          "label": "x3",
          "label_display": "none",
          "px": 534.0063735013048,
          "py": 365.6184188767283,
          "shape": "circle",
          "shape_attrs": {
           "r": 15
          },
          "value": null,
          "weight": 20,
          "x": 534.0063735013048,
          "xval": 20,
          "y": 365.6184188767283,
          "yval": 76.92307692307692
         },
         "target": {
          "index": 22,
          "label": "h1,11",
          "label_display": "none",
          "px": 450.6931880317312,
          "py": 427.36854915169533,
          "shape": "circle",
          "shape_attrs": {
           "r": 15
          },
          "value": null,
          "weight": 22,
          "x": 450.70224459711284,
          "xval": 40,
          "y": 427.40707742900895,
          "yval": 47.61904761904762
         },
         "value": 1
        },
        {
         "source": {
          "fixed": 0,
          "index": 2,
          "label": "x3",
          "label_display": "none",
          "px": 534.0063735013048,
          "py": 365.6184188767283,
          "shape": "circle",
          "shape_attrs": {
           "r": 15
          },
          "value": null,
          "weight": 20,
          "x": 534.0063735013048,
          "xval": 20,
          "y": 365.6184188767283,
          "yval": 76.92307692307692
         },
         "target": {
          "index": 23,
          "label": "h1,12",
          "label_display": "none",
          "px": 451.616956869591,
          "py": 430.68399636795544,
          "shape": "circle",
          "shape_attrs": {
           "r": 15
          },
          "value": null,
          "weight": 22,
          "x": 451.6308613454441,
          "xval": 40,
          "y": 430.73607807474326,
          "yval": 42.857142857142854
         },
         "value": 1
        },
        {
         "source": {
          "fixed": 0,
          "index": 2,
          "label": "x3",
          "label_display": "none",
          "px": 534.0063735013048,
          "py": 365.6184188767283,
          "shape": "circle",
          "shape_attrs": {
           "r": 15
          },
          "value": null,
          "weight": 20,
          "x": 534.0063735013048,
          "xval": 20,
          "y": 365.6184188767283,
          "yval": 76.92307692307692
         },
         "target": {
          "index": 24,
          "label": "h1,13",
          "label_display": "none",
          "px": 449.7701933541918,
          "py": 423.95395938325044,
          "shape": "circle",
          "shape_attrs": {
           "r": 15
          },
          "value": null,
          "weight": 22,
          "x": 449.77543161498545,
          "xval": 40,
          "y": 423.979666438766,
          "yval": 38.095238095238095
         },
         "value": 1
        },
        {
         "source": {
          "fixed": 0,
          "index": 2,
          "label": "x3",
          "label_display": "none",
          "px": 534.0063735013048,
          "py": 365.6184188767283,
          "shape": "circle",
          "shape_attrs": {
           "r": 15
          },
          "value": null,
          "weight": 20,
          "x": 534.0063735013048,
          "xval": 20,
          "y": 365.6184188767283,
          "yval": 76.92307692307692
         },
         "target": {
          "index": 25,
          "label": "h1,14",
          "label_display": "none",
          "px": 447.77652249109667,
          "py": 416.4027794386295,
          "shape": "circle",
          "shape_attrs": {
           "r": 15
          },
          "value": null,
          "weight": 22,
          "x": 447.77533228674633,
          "xval": 40,
          "y": 416.4089800756498,
          "yval": 33.333333333333336
         },
         "value": 1
        },
        {
         "source": {
          "fixed": 0,
          "index": 2,
          "label": "x3",
          "label_display": "none",
          "px": 534.0063735013048,
          "py": 365.6184188767283,
          "shape": "circle",
          "shape_attrs": {
           "r": 15
          },
          "value": null,
          "weight": 20,
          "x": 534.0063735013048,
          "xval": 20,
          "y": 365.6184188767283,
          "yval": 76.92307692307692
         },
         "target": {
          "fixed": 0,
          "index": 26,
          "label": "h1,15",
          "label_display": "none",
          "px": 437.84986949367203,
          "py": 374.25132654913494,
          "shape": "circle",
          "shape_attrs": {
           "r": 15
          },
          "value": null,
          "weight": 22,
          "x": 437.84986949367203,
          "xval": 40,
          "y": 374.25132654913494,
          "yval": 28.57142857142857
         },
         "value": 1
        },
        {
         "source": {
          "fixed": 0,
          "index": 2,
          "label": "x3",
          "label_display": "none",
          "px": 534.0063735013048,
          "py": 365.6184188767283,
          "shape": "circle",
          "shape_attrs": {
           "r": 15
          },
          "value": null,
          "weight": 20,
          "x": 534.0063735013048,
          "xval": 20,
          "y": 365.6184188767283,
          "yval": 76.92307692307692
         },
         "target": {
          "index": 27,
          "label": "h1,16",
          "label_display": "none",
          "px": 441.03312194188425,
          "py": 388.9301428056495,
          "shape": "circle",
          "shape_attrs": {
           "r": 15
          },
          "value": null,
          "weight": 22,
          "x": 441.0223311760983,
          "xval": 40,
          "y": 388.9201492326303,
          "yval": 23.80952380952381
         },
         "value": 1
        },
        {
         "source": {
          "fixed": 0,
          "index": 2,
          "label": "x3",
          "label_display": "none",
          "px": 534.0063735013048,
          "py": 365.6184188767283,
          "shape": "circle",
          "shape_attrs": {
           "r": 15
          },
          "value": null,
          "weight": 20,
          "x": 534.0063735013048,
          "xval": 20,
          "y": 365.6184188767283,
          "yval": 76.92307692307692
         },
         "target": {
          "index": 28,
          "label": "h1,17",
          "label_display": "none",
          "px": 448.80878786875905,
          "py": 420.35138343623464,
          "shape": "circle",
          "shape_attrs": {
           "r": 15
          },
          "value": null,
          "weight": 22,
          "x": 448.8091799805161,
          "xval": 40,
          "y": 420.3610019925185,
          "yval": 19.047619047619047
         },
         "value": 1
        },
        {
         "source": {
          "fixed": 0,
          "index": 2,
          "label": "x3",
          "label_display": "none",
          "px": 534.0063735013048,
          "py": 365.6184188767283,
          "shape": "circle",
          "shape_attrs": {
           "r": 15
          },
          "value": null,
          "weight": 20,
          "x": 534.0063735013048,
          "xval": 20,
          "y": 365.6184188767283,
          "yval": 76.92307692307692
         },
         "target": {
          "index": 29,
          "label": "h1,18",
          "label_display": "none",
          "px": 446.66133336839465,
          "py": 412.06746080603597,
          "shape": "circle",
          "shape_attrs": {
           "r": 15
          },
          "value": null,
          "weight": 22,
          "x": 446.65836227806636,
          "xval": 40,
          "y": 412.06979862465556,
          "yval": 14.285714285714285
         },
         "value": 1
        },
        {
         "source": {
          "fixed": 0,
          "index": 2,
          "label": "x3",
          "label_display": "none",
          "px": 534.0063735013048,
          "py": 365.6184188767283,
          "shape": "circle",
          "shape_attrs": {
           "r": 15
          },
          "value": null,
          "weight": 20,
          "x": 534.0063735013048,
          "xval": 20,
          "y": 365.6184188767283,
          "yval": 76.92307692307692
         },
         "target": {
          "index": 30,
          "label": "h1,19",
          "label_display": "none",
          "px": 454.5331839788234,
          "py": 440.7353981371751,
          "shape": "circle",
          "shape_attrs": {
           "r": 15
          },
          "value": null,
          "weight": 22,
          "x": 454.57338727966345,
          "xval": 40,
          "y": 440.870029182474,
          "yval": 9.523809523809524
         },
         "value": 1
        },
        {
         "source": {
          "fixed": 0,
          "index": 2,
          "label": "x3",
          "label_display": "none",
          "px": 534.0063735013048,
          "py": 365.6184188767283,
          "shape": "circle",
          "shape_attrs": {
           "r": 15
          },
          "value": null,
          "weight": 20,
          "x": 534.0063735013048,
          "xval": 20,
          "y": 365.6184188767283,
          "yval": 76.92307692307692
         },
         "target": {
          "index": 31,
          "label": "h1,20",
          "label_display": "none",
          "px": 452.51111853060013,
          "py": 433.8924336038177,
          "shape": "circle",
          "shape_attrs": {
           "r": 15
          },
          "value": null,
          "weight": 22,
          "x": 452.53198152903235,
          "xval": 40,
          "y": 433.96970392214837,
          "yval": 4.761904761904762
         },
         "value": 1
        },
        {
         "source": {
          "index": 3,
          "label": "x4",
          "label_display": "none",
          "px": 535.660900262516,
          "py": 369.99225384771086,
          "shape": "circle",
          "shape_attrs": {
           "r": 15
          },
          "value": null,
          "weight": 20,
          "x": 535.6813683424843,
          "xval": 20,
          "y": 369.9379113606251,
          "yval": 69.23076923076923
         },
         "target": {
          "fixed": 0,
          "index": 12,
          "label": "h1,1",
          "label_display": "none",
          "px": 438.30653773859984,
          "py": 377.7211018453636,
          "shape": "circle",
          "shape_attrs": {
           "r": 15
          },
          "value": null,
          "weight": 22,
          "x": 438.30653773859984,
          "xval": 40,
          "y": 377.7211018453636,
          "yval": 95.23809523809524
         },
         "value": 1
        },
        {
         "source": {
          "index": 3,
          "label": "x4",
          "label_display": "none",
          "px": 535.660900262516,
          "py": 369.99225384771086,
          "shape": "circle",
          "shape_attrs": {
           "r": 15
          },
          "value": null,
          "weight": 20,
          "x": 535.6813683424843,
          "xval": 20,
          "y": 369.9379113606251,
          "yval": 69.23076923076923
         },
         "target": {
          "fixed": 0,
          "index": 13,
          "label": "h1,2",
          "label_display": "none",
          "px": 445.4830710949258,
          "py": 407.40580969271514,
          "shape": "circle",
          "shape_attrs": {
           "r": 15
          },
          "value": null,
          "weight": 22,
          "x": 445.4830710949258,
          "xval": 40,
          "y": 407.40580969271514,
          "yval": 90.47619047619048
         },
         "value": 1
        },
        {
         "source": {
          "index": 3,
          "label": "x4",
          "label_display": "none",
          "px": 535.660900262516,
          "py": 369.99225384771086,
          "shape": "circle",
          "shape_attrs": {
           "r": 15
          },
          "value": null,
          "weight": 20,
          "x": 535.6813683424843,
          "xval": 20,
          "y": 369.9379113606251,
          "yval": 69.23076923076923
         },
         "target": {
          "fixed": 0,
          "index": 14,
          "label": "h1,3",
          "label_display": "none",
          "px": 440.09389561772593,
          "py": 384.9913547714818,
          "shape": "circle",
          "shape_attrs": {
           "r": 15
          },
          "value": null,
          "weight": 22,
          "x": 440.09389561772593,
          "xval": 40,
          "y": 384.9913547714818,
          "yval": 85.71428571428571
         },
         "value": 1
        },
        {
         "source": {
          "index": 3,
          "label": "x4",
          "label_display": "none",
          "px": 535.660900262516,
          "py": 369.99225384771086,
          "shape": "circle",
          "shape_attrs": {
           "r": 15
          },
          "value": null,
          "weight": 20,
          "x": 535.6813683424843,
          "xval": 20,
          "y": 369.9379113606251,
          "yval": 69.23076923076923
         },
         "target": {
          "index": 15,
          "label": "h1,4",
          "label_display": "none",
          "px": 442.03390585799406,
          "py": 393.18624031821906,
          "shape": "circle",
          "shape_attrs": {
           "r": 15
          },
          "value": null,
          "weight": 22,
          "x": 442.0252187451049,
          "xval": 40,
          "y": 393.18099926055953,
          "yval": 80.95238095238095
         },
         "value": 1
        },
        {
         "source": {
          "index": 3,
          "label": "x4",
          "label_display": "none",
          "px": 535.660900262516,
          "py": 369.99225384771086,
          "shape": "circle",
          "shape_attrs": {
           "r": 15
          },
          "value": null,
          "weight": 20,
          "x": 535.6813683424843,
          "xval": 20,
          "y": 369.9379113606251,
          "yval": 69.23076923076923
         },
         "target": {
          "fixed": 0,
          "index": 16,
          "label": "h1,5",
          "label_display": "none",
          "px": 439.3038323400098,
          "py": 381.26898657152276,
          "shape": "circle",
          "shape_attrs": {
           "r": 15
          },
          "value": null,
          "weight": 22,
          "x": 439.3038323400098,
          "xval": 40,
          "y": 381.26898657152276,
          "yval": 76.19047619047619
         },
         "value": 1
        },
        {
         "source": {
          "index": 3,
          "label": "x4",
          "label_display": "none",
          "px": 535.660900262516,
          "py": 369.99225384771086,
          "shape": "circle",
          "shape_attrs": {
           "r": 15
          },
          "value": null,
          "weight": 20,
          "x": 535.6813683424843,
          "xval": 20,
          "y": 369.9379113606251,
          "yval": 69.23076923076923
         },
         "target": {
          "index": 17,
          "label": "h1,6",
          "label_display": "none",
          "px": 436.1763853376012,
          "py": 367.0391092191069,
          "shape": "circle",
          "shape_attrs": {
           "r": 15
          },
          "value": null,
          "weight": 22,
          "x": 436.1319756129927,
          "xval": 40,
          "y": 366.9193372066237,
          "yval": 71.42857142857143
         },
         "value": 1
        },
        {
         "source": {
          "index": 3,
          "label": "x4",
          "label_display": "none",
          "px": 535.660900262516,
          "py": 369.99225384771086,
          "shape": "circle",
          "shape_attrs": {
           "r": 15
          },
          "value": null,
          "weight": 20,
          "x": 535.6813683424843,
          "xval": 20,
          "y": 369.9379113606251,
          "yval": 69.23076923076923
         },
         "target": {
          "index": 18,
          "label": "h1,7",
          "label_display": "none",
          "px": 444.28747307460884,
          "py": 402.5857074144147,
          "shape": "circle",
          "shape_attrs": {
           "r": 15
          },
          "value": null,
          "weight": 22,
          "x": 444.28189322820117,
          "xval": 40,
          "y": 402.5864217166488,
          "yval": 66.66666666666667
         },
         "value": 1
        },
        {
         "source": {
          "index": 3,
          "label": "x4",
          "label_display": "none",
          "px": 535.660900262516,
          "py": 369.99225384771086,
          "shape": "circle",
          "shape_attrs": {
           "r": 15
          },
          "value": null,
          "weight": 20,
          "x": 535.6813683424843,
          "xval": 20,
          "y": 369.9379113606251,
          "yval": 69.23076923076923
         },
         "target": {
          "index": 19,
          "label": "h1,8",
          "label_display": "none",
          "px": 436.96694163354766,
          "py": 370.835219648978,
          "shape": "circle",
          "shape_attrs": {
           "r": 15
          },
          "value": null,
          "weight": 22,
          "x": 436.93081668870667,
          "xval": 40,
          "y": 370.7487234007221,
          "yval": 61.904761904761905
         },
         "value": 1
        },
        {
         "source": {
          "index": 3,
          "label": "x4",
          "label_display": "none",
          "px": 535.660900262516,
          "py": 369.99225384771086,
          "shape": "circle",
          "shape_attrs": {
           "r": 15
          },
          "value": null,
          "weight": 20,
          "x": 535.6813683424843,
          "xval": 20,
          "y": 369.9379113606251,
          "yval": 69.23076923076923
         },
         "target": {
          "index": 20,
          "label": "h1,9",
          "label_display": "none",
          "px": 443.12903262452926,
          "py": 397.77183731760726,
          "shape": "circle",
          "shape_attrs": {
           "r": 15
          },
          "value": null,
          "weight": 22,
          "x": 443.1225250371738,
          "xval": 40,
          "y": 397.77048960247726,
          "yval": 57.14285714285714
         },
         "value": 1
        },
        {
         "source": {
          "index": 3,
          "label": "x4",
          "label_display": "none",
          "px": 535.660900262516,
          "py": 369.99225384771086,
          "shape": "circle",
          "shape_attrs": {
           "r": 15
          },
          "value": null,
          "weight": 20,
          "x": 535.6813683424843,
          "xval": 20,
          "y": 369.9379113606251,
          "yval": 69.23076923076923
         },
         "target": {
          "index": 21,
          "label": "h1,10",
          "label_display": "none",
          "px": 453.47719733511025,
          "py": 437.1791317957166,
          "shape": "circle",
          "shape_attrs": {
           "r": 15
          },
          "value": null,
          "weight": 22,
          "x": 453.50705008596486,
          "xval": 40,
          "y": 437.28186603254966,
          "yval": 52.38095238095238
         },
         "value": 1
        },
        {
         "source": {
          "index": 3,
          "label": "x4",
          "label_display": "none",
          "px": 535.660900262516,
          "py": 369.99225384771086,
          "shape": "circle",
          "shape_attrs": {
           "r": 15
          },
          "value": null,
          "weight": 20,
          "x": 535.6813683424843,
          "xval": 20,
          "y": 369.9379113606251,
          "yval": 69.23076923076923
         },
         "target": {
          "index": 22,
          "label": "h1,11",
          "label_display": "none",
          "px": 450.6931880317312,
          "py": 427.36854915169533,
          "shape": "circle",
          "shape_attrs": {
           "r": 15
          },
          "value": null,
          "weight": 22,
          "x": 450.70224459711284,
          "xval": 40,
          "y": 427.40707742900895,
          "yval": 47.61904761904762
         },
         "value": 1
        },
        {
         "source": {
          "index": 3,
          "label": "x4",
          "label_display": "none",
          "px": 535.660900262516,
          "py": 369.99225384771086,
          "shape": "circle",
          "shape_attrs": {
           "r": 15
          },
          "value": null,
          "weight": 20,
          "x": 535.6813683424843,
          "xval": 20,
          "y": 369.9379113606251,
          "yval": 69.23076923076923
         },
         "target": {
          "index": 23,
          "label": "h1,12",
          "label_display": "none",
          "px": 451.616956869591,
          "py": 430.68399636795544,
          "shape": "circle",
          "shape_attrs": {
           "r": 15
          },
          "value": null,
          "weight": 22,
          "x": 451.6308613454441,
          "xval": 40,
          "y": 430.73607807474326,
          "yval": 42.857142857142854
         },
         "value": 1
        },
        {
         "source": {
          "index": 3,
          "label": "x4",
          "label_display": "none",
          "px": 535.660900262516,
          "py": 369.99225384771086,
          "shape": "circle",
          "shape_attrs": {
           "r": 15
          },
          "value": null,
          "weight": 20,
          "x": 535.6813683424843,
          "xval": 20,
          "y": 369.9379113606251,
          "yval": 69.23076923076923
         },
         "target": {
          "index": 24,
          "label": "h1,13",
          "label_display": "none",
          "px": 449.7701933541918,
          "py": 423.95395938325044,
          "shape": "circle",
          "shape_attrs": {
           "r": 15
          },
          "value": null,
          "weight": 22,
          "x": 449.77543161498545,
          "xval": 40,
          "y": 423.979666438766,
          "yval": 38.095238095238095
         },
         "value": 1
        },
        {
         "source": {
          "index": 3,
          "label": "x4",
          "label_display": "none",
          "px": 535.660900262516,
          "py": 369.99225384771086,
          "shape": "circle",
          "shape_attrs": {
           "r": 15
          },
          "value": null,
          "weight": 20,
          "x": 535.6813683424843,
          "xval": 20,
          "y": 369.9379113606251,
          "yval": 69.23076923076923
         },
         "target": {
          "index": 25,
          "label": "h1,14",
          "label_display": "none",
          "px": 447.77652249109667,
          "py": 416.4027794386295,
          "shape": "circle",
          "shape_attrs": {
           "r": 15
          },
          "value": null,
          "weight": 22,
          "x": 447.77533228674633,
          "xval": 40,
          "y": 416.4089800756498,
          "yval": 33.333333333333336
         },
         "value": 1
        },
        {
         "source": {
          "index": 3,
          "label": "x4",
          "label_display": "none",
          "px": 535.660900262516,
          "py": 369.99225384771086,
          "shape": "circle",
          "shape_attrs": {
           "r": 15
          },
          "value": null,
          "weight": 20,
          "x": 535.6813683424843,
          "xval": 20,
          "y": 369.9379113606251,
          "yval": 69.23076923076923
         },
         "target": {
          "fixed": 0,
          "index": 26,
          "label": "h1,15",
          "label_display": "none",
          "px": 437.84986949367203,
          "py": 374.25132654913494,
          "shape": "circle",
          "shape_attrs": {
           "r": 15
          },
          "value": null,
          "weight": 22,
          "x": 437.84986949367203,
          "xval": 40,
          "y": 374.25132654913494,
          "yval": 28.57142857142857
         },
         "value": 1
        },
        {
         "source": {
          "index": 3,
          "label": "x4",
          "label_display": "none",
          "px": 535.660900262516,
          "py": 369.99225384771086,
          "shape": "circle",
          "shape_attrs": {
           "r": 15
          },
          "value": null,
          "weight": 20,
          "x": 535.6813683424843,
          "xval": 20,
          "y": 369.9379113606251,
          "yval": 69.23076923076923
         },
         "target": {
          "index": 27,
          "label": "h1,16",
          "label_display": "none",
          "px": 441.03312194188425,
          "py": 388.9301428056495,
          "shape": "circle",
          "shape_attrs": {
           "r": 15
          },
          "value": null,
          "weight": 22,
          "x": 441.0223311760983,
          "xval": 40,
          "y": 388.9201492326303,
          "yval": 23.80952380952381
         },
         "value": 1
        },
        {
         "source": {
          "index": 3,
          "label": "x4",
          "label_display": "none",
          "px": 535.660900262516,
          "py": 369.99225384771086,
          "shape": "circle",
          "shape_attrs": {
           "r": 15
          },
          "value": null,
          "weight": 20,
          "x": 535.6813683424843,
          "xval": 20,
          "y": 369.9379113606251,
          "yval": 69.23076923076923
         },
         "target": {
          "index": 28,
          "label": "h1,17",
          "label_display": "none",
          "px": 448.80878786875905,
          "py": 420.35138343623464,
          "shape": "circle",
          "shape_attrs": {
           "r": 15
          },
          "value": null,
          "weight": 22,
          "x": 448.8091799805161,
          "xval": 40,
          "y": 420.3610019925185,
          "yval": 19.047619047619047
         },
         "value": 1
        },
        {
         "source": {
          "index": 3,
          "label": "x4",
          "label_display": "none",
          "px": 535.660900262516,
          "py": 369.99225384771086,
          "shape": "circle",
          "shape_attrs": {
           "r": 15
          },
          "value": null,
          "weight": 20,
          "x": 535.6813683424843,
          "xval": 20,
          "y": 369.9379113606251,
          "yval": 69.23076923076923
         },
         "target": {
          "index": 29,
          "label": "h1,18",
          "label_display": "none",
          "px": 446.66133336839465,
          "py": 412.06746080603597,
          "shape": "circle",
          "shape_attrs": {
           "r": 15
          },
          "value": null,
          "weight": 22,
          "x": 446.65836227806636,
          "xval": 40,
          "y": 412.06979862465556,
          "yval": 14.285714285714285
         },
         "value": 1
        },
        {
         "source": {
          "index": 3,
          "label": "x4",
          "label_display": "none",
          "px": 535.660900262516,
          "py": 369.99225384771086,
          "shape": "circle",
          "shape_attrs": {
           "r": 15
          },
          "value": null,
          "weight": 20,
          "x": 535.6813683424843,
          "xval": 20,
          "y": 369.9379113606251,
          "yval": 69.23076923076923
         },
         "target": {
          "index": 30,
          "label": "h1,19",
          "label_display": "none",
          "px": 454.5331839788234,
          "py": 440.7353981371751,
          "shape": "circle",
          "shape_attrs": {
           "r": 15
          },
          "value": null,
          "weight": 22,
          "x": 454.57338727966345,
          "xval": 40,
          "y": 440.870029182474,
          "yval": 9.523809523809524
         },
         "value": 1
        },
        {
         "source": {
          "index": 3,
          "label": "x4",
          "label_display": "none",
          "px": 535.660900262516,
          "py": 369.99225384771086,
          "shape": "circle",
          "shape_attrs": {
           "r": 15
          },
          "value": null,
          "weight": 20,
          "x": 535.6813683424843,
          "xval": 20,
          "y": 369.9379113606251,
          "yval": 69.23076923076923
         },
         "target": {
          "index": 31,
          "label": "h1,20",
          "label_display": "none",
          "px": 452.51111853060013,
          "py": 433.8924336038177,
          "shape": "circle",
          "shape_attrs": {
           "r": 15
          },
          "value": null,
          "weight": 22,
          "x": 452.53198152903235,
          "xval": 40,
          "y": 433.96970392214837,
          "yval": 4.761904761904762
         },
         "value": 1
        },
        {
         "source": {
          "index": 4,
          "label": "x5",
          "label_display": "none",
          "px": 349.27806531366787,
          "py": 419.79204133732895,
          "shape": "circle",
          "shape_attrs": {
           "r": 15
          },
          "value": null,
          "weight": 20,
          "x": 349.2334300496466,
          "xval": 20,
          "y": 419.7893909849638,
          "yval": 61.53846153846154
         },
         "target": {
          "fixed": 0,
          "index": 12,
          "label": "h1,1",
          "label_display": "none",
          "px": 438.30653773859984,
          "py": 377.7211018453636,
          "shape": "circle",
          "shape_attrs": {
           "r": 15
          },
          "value": null,
          "weight": 22,
          "x": 438.30653773859984,
          "xval": 40,
          "y": 377.7211018453636,
          "yval": 95.23809523809524
         },
         "value": 1
        },
        {
         "source": {
          "index": 4,
          "label": "x5",
          "label_display": "none",
          "px": 349.27806531366787,
          "py": 419.79204133732895,
          "shape": "circle",
          "shape_attrs": {
           "r": 15
          },
          "value": null,
          "weight": 20,
          "x": 349.2334300496466,
          "xval": 20,
          "y": 419.7893909849638,
          "yval": 61.53846153846154
         },
         "target": {
          "fixed": 0,
          "index": 13,
          "label": "h1,2",
          "label_display": "none",
          "px": 445.4830710949258,
          "py": 407.40580969271514,
          "shape": "circle",
          "shape_attrs": {
           "r": 15
          },
          "value": null,
          "weight": 22,
          "x": 445.4830710949258,
          "xval": 40,
          "y": 407.40580969271514,
          "yval": 90.47619047619048
         },
         "value": 1
        },
        {
         "source": {
          "index": 4,
          "label": "x5",
          "label_display": "none",
          "px": 349.27806531366787,
          "py": 419.79204133732895,
          "shape": "circle",
          "shape_attrs": {
           "r": 15
          },
          "value": null,
          "weight": 20,
          "x": 349.2334300496466,
          "xval": 20,
          "y": 419.7893909849638,
          "yval": 61.53846153846154
         },
         "target": {
          "fixed": 0,
          "index": 14,
          "label": "h1,3",
          "label_display": "none",
          "px": 440.09389561772593,
          "py": 384.9913547714818,
          "shape": "circle",
          "shape_attrs": {
           "r": 15
          },
          "value": null,
          "weight": 22,
          "x": 440.09389561772593,
          "xval": 40,
          "y": 384.9913547714818,
          "yval": 85.71428571428571
         },
         "value": 1
        },
        {
         "source": {
          "index": 4,
          "label": "x5",
          "label_display": "none",
          "px": 349.27806531366787,
          "py": 419.79204133732895,
          "shape": "circle",
          "shape_attrs": {
           "r": 15
          },
          "value": null,
          "weight": 20,
          "x": 349.2334300496466,
          "xval": 20,
          "y": 419.7893909849638,
          "yval": 61.53846153846154
         },
         "target": {
          "index": 15,
          "label": "h1,4",
          "label_display": "none",
          "px": 442.03390585799406,
          "py": 393.18624031821906,
          "shape": "circle",
          "shape_attrs": {
           "r": 15
          },
          "value": null,
          "weight": 22,
          "x": 442.0252187451049,
          "xval": 40,
          "y": 393.18099926055953,
          "yval": 80.95238095238095
         },
         "value": 1
        },
        {
         "source": {
          "index": 4,
          "label": "x5",
          "label_display": "none",
          "px": 349.27806531366787,
          "py": 419.79204133732895,
          "shape": "circle",
          "shape_attrs": {
           "r": 15
          },
          "value": null,
          "weight": 20,
          "x": 349.2334300496466,
          "xval": 20,
          "y": 419.7893909849638,
          "yval": 61.53846153846154
         },
         "target": {
          "fixed": 0,
          "index": 16,
          "label": "h1,5",
          "label_display": "none",
          "px": 439.3038323400098,
          "py": 381.26898657152276,
          "shape": "circle",
          "shape_attrs": {
           "r": 15
          },
          "value": null,
          "weight": 22,
          "x": 439.3038323400098,
          "xval": 40,
          "y": 381.26898657152276,
          "yval": 76.19047619047619
         },
         "value": 1
        },
        {
         "source": {
          "index": 4,
          "label": "x5",
          "label_display": "none",
          "px": 349.27806531366787,
          "py": 419.79204133732895,
          "shape": "circle",
          "shape_attrs": {
           "r": 15
          },
          "value": null,
          "weight": 20,
          "x": 349.2334300496466,
          "xval": 20,
          "y": 419.7893909849638,
          "yval": 61.53846153846154
         },
         "target": {
          "index": 17,
          "label": "h1,6",
          "label_display": "none",
          "px": 436.1763853376012,
          "py": 367.0391092191069,
          "shape": "circle",
          "shape_attrs": {
           "r": 15
          },
          "value": null,
          "weight": 22,
          "x": 436.1319756129927,
          "xval": 40,
          "y": 366.9193372066237,
          "yval": 71.42857142857143
         },
         "value": 1
        },
        {
         "source": {
          "index": 4,
          "label": "x5",
          "label_display": "none",
          "px": 349.27806531366787,
          "py": 419.79204133732895,
          "shape": "circle",
          "shape_attrs": {
           "r": 15
          },
          "value": null,
          "weight": 20,
          "x": 349.2334300496466,
          "xval": 20,
          "y": 419.7893909849638,
          "yval": 61.53846153846154
         },
         "target": {
          "index": 18,
          "label": "h1,7",
          "label_display": "none",
          "px": 444.28747307460884,
          "py": 402.5857074144147,
          "shape": "circle",
          "shape_attrs": {
           "r": 15
          },
          "value": null,
          "weight": 22,
          "x": 444.28189322820117,
          "xval": 40,
          "y": 402.5864217166488,
          "yval": 66.66666666666667
         },
         "value": 1
        },
        {
         "source": {
          "index": 4,
          "label": "x5",
          "label_display": "none",
          "px": 349.27806531366787,
          "py": 419.79204133732895,
          "shape": "circle",
          "shape_attrs": {
           "r": 15
          },
          "value": null,
          "weight": 20,
          "x": 349.2334300496466,
          "xval": 20,
          "y": 419.7893909849638,
          "yval": 61.53846153846154
         },
         "target": {
          "index": 19,
          "label": "h1,8",
          "label_display": "none",
          "px": 436.96694163354766,
          "py": 370.835219648978,
          "shape": "circle",
          "shape_attrs": {
           "r": 15
          },
          "value": null,
          "weight": 22,
          "x": 436.93081668870667,
          "xval": 40,
          "y": 370.7487234007221,
          "yval": 61.904761904761905
         },
         "value": 1
        },
        {
         "source": {
          "index": 4,
          "label": "x5",
          "label_display": "none",
          "px": 349.27806531366787,
          "py": 419.79204133732895,
          "shape": "circle",
          "shape_attrs": {
           "r": 15
          },
          "value": null,
          "weight": 20,
          "x": 349.2334300496466,
          "xval": 20,
          "y": 419.7893909849638,
          "yval": 61.53846153846154
         },
         "target": {
          "index": 20,
          "label": "h1,9",
          "label_display": "none",
          "px": 443.12903262452926,
          "py": 397.77183731760726,
          "shape": "circle",
          "shape_attrs": {
           "r": 15
          },
          "value": null,
          "weight": 22,
          "x": 443.1225250371738,
          "xval": 40,
          "y": 397.77048960247726,
          "yval": 57.14285714285714
         },
         "value": 1
        },
        {
         "source": {
          "index": 4,
          "label": "x5",
          "label_display": "none",
          "px": 349.27806531366787,
          "py": 419.79204133732895,
          "shape": "circle",
          "shape_attrs": {
           "r": 15
          },
          "value": null,
          "weight": 20,
          "x": 349.2334300496466,
          "xval": 20,
          "y": 419.7893909849638,
          "yval": 61.53846153846154
         },
         "target": {
          "index": 21,
          "label": "h1,10",
          "label_display": "none",
          "px": 453.47719733511025,
          "py": 437.1791317957166,
          "shape": "circle",
          "shape_attrs": {
           "r": 15
          },
          "value": null,
          "weight": 22,
          "x": 453.50705008596486,
          "xval": 40,
          "y": 437.28186603254966,
          "yval": 52.38095238095238
         },
         "value": 1
        },
        {
         "source": {
          "index": 4,
          "label": "x5",
          "label_display": "none",
          "px": 349.27806531366787,
          "py": 419.79204133732895,
          "shape": "circle",
          "shape_attrs": {
           "r": 15
          },
          "value": null,
          "weight": 20,
          "x": 349.2334300496466,
          "xval": 20,
          "y": 419.7893909849638,
          "yval": 61.53846153846154
         },
         "target": {
          "index": 22,
          "label": "h1,11",
          "label_display": "none",
          "px": 450.6931880317312,
          "py": 427.36854915169533,
          "shape": "circle",
          "shape_attrs": {
           "r": 15
          },
          "value": null,
          "weight": 22,
          "x": 450.70224459711284,
          "xval": 40,
          "y": 427.40707742900895,
          "yval": 47.61904761904762
         },
         "value": 1
        },
        {
         "source": {
          "index": 4,
          "label": "x5",
          "label_display": "none",
          "px": 349.27806531366787,
          "py": 419.79204133732895,
          "shape": "circle",
          "shape_attrs": {
           "r": 15
          },
          "value": null,
          "weight": 20,
          "x": 349.2334300496466,
          "xval": 20,
          "y": 419.7893909849638,
          "yval": 61.53846153846154
         },
         "target": {
          "index": 23,
          "label": "h1,12",
          "label_display": "none",
          "px": 451.616956869591,
          "py": 430.68399636795544,
          "shape": "circle",
          "shape_attrs": {
           "r": 15
          },
          "value": null,
          "weight": 22,
          "x": 451.6308613454441,
          "xval": 40,
          "y": 430.73607807474326,
          "yval": 42.857142857142854
         },
         "value": 1
        },
        {
         "source": {
          "index": 4,
          "label": "x5",
          "label_display": "none",
          "px": 349.27806531366787,
          "py": 419.79204133732895,
          "shape": "circle",
          "shape_attrs": {
           "r": 15
          },
          "value": null,
          "weight": 20,
          "x": 349.2334300496466,
          "xval": 20,
          "y": 419.7893909849638,
          "yval": 61.53846153846154
         },
         "target": {
          "index": 24,
          "label": "h1,13",
          "label_display": "none",
          "px": 449.7701933541918,
          "py": 423.95395938325044,
          "shape": "circle",
          "shape_attrs": {
           "r": 15
          },
          "value": null,
          "weight": 22,
          "x": 449.77543161498545,
          "xval": 40,
          "y": 423.979666438766,
          "yval": 38.095238095238095
         },
         "value": 1
        },
        {
         "source": {
          "index": 4,
          "label": "x5",
          "label_display": "none",
          "px": 349.27806531366787,
          "py": 419.79204133732895,
          "shape": "circle",
          "shape_attrs": {
           "r": 15
          },
          "value": null,
          "weight": 20,
          "x": 349.2334300496466,
          "xval": 20,
          "y": 419.7893909849638,
          "yval": 61.53846153846154
         },
         "target": {
          "index": 25,
          "label": "h1,14",
          "label_display": "none",
          "px": 447.77652249109667,
          "py": 416.4027794386295,
          "shape": "circle",
          "shape_attrs": {
           "r": 15
          },
          "value": null,
          "weight": 22,
          "x": 447.77533228674633,
          "xval": 40,
          "y": 416.4089800756498,
          "yval": 33.333333333333336
         },
         "value": 1
        },
        {
         "source": {
          "index": 4,
          "label": "x5",
          "label_display": "none",
          "px": 349.27806531366787,
          "py": 419.79204133732895,
          "shape": "circle",
          "shape_attrs": {
           "r": 15
          },
          "value": null,
          "weight": 20,
          "x": 349.2334300496466,
          "xval": 20,
          "y": 419.7893909849638,
          "yval": 61.53846153846154
         },
         "target": {
          "fixed": 0,
          "index": 26,
          "label": "h1,15",
          "label_display": "none",
          "px": 437.84986949367203,
          "py": 374.25132654913494,
          "shape": "circle",
          "shape_attrs": {
           "r": 15
          },
          "value": null,
          "weight": 22,
          "x": 437.84986949367203,
          "xval": 40,
          "y": 374.25132654913494,
          "yval": 28.57142857142857
         },
         "value": 1
        },
        {
         "source": {
          "index": 4,
          "label": "x5",
          "label_display": "none",
          "px": 349.27806531366787,
          "py": 419.79204133732895,
          "shape": "circle",
          "shape_attrs": {
           "r": 15
          },
          "value": null,
          "weight": 20,
          "x": 349.2334300496466,
          "xval": 20,
          "y": 419.7893909849638,
          "yval": 61.53846153846154
         },
         "target": {
          "index": 27,
          "label": "h1,16",
          "label_display": "none",
          "px": 441.03312194188425,
          "py": 388.9301428056495,
          "shape": "circle",
          "shape_attrs": {
           "r": 15
          },
          "value": null,
          "weight": 22,
          "x": 441.0223311760983,
          "xval": 40,
          "y": 388.9201492326303,
          "yval": 23.80952380952381
         },
         "value": 1
        },
        {
         "source": {
          "index": 4,
          "label": "x5",
          "label_display": "none",
          "px": 349.27806531366787,
          "py": 419.79204133732895,
          "shape": "circle",
          "shape_attrs": {
           "r": 15
          },
          "value": null,
          "weight": 20,
          "x": 349.2334300496466,
          "xval": 20,
          "y": 419.7893909849638,
          "yval": 61.53846153846154
         },
         "target": {
          "index": 28,
          "label": "h1,17",
          "label_display": "none",
          "px": 448.80878786875905,
          "py": 420.35138343623464,
          "shape": "circle",
          "shape_attrs": {
           "r": 15
          },
          "value": null,
          "weight": 22,
          "x": 448.8091799805161,
          "xval": 40,
          "y": 420.3610019925185,
          "yval": 19.047619047619047
         },
         "value": 1
        },
        {
         "source": {
          "index": 4,
          "label": "x5",
          "label_display": "none",
          "px": 349.27806531366787,
          "py": 419.79204133732895,
          "shape": "circle",
          "shape_attrs": {
           "r": 15
          },
          "value": null,
          "weight": 20,
          "x": 349.2334300496466,
          "xval": 20,
          "y": 419.7893909849638,
          "yval": 61.53846153846154
         },
         "target": {
          "index": 29,
          "label": "h1,18",
          "label_display": "none",
          "px": 446.66133336839465,
          "py": 412.06746080603597,
          "shape": "circle",
          "shape_attrs": {
           "r": 15
          },
          "value": null,
          "weight": 22,
          "x": 446.65836227806636,
          "xval": 40,
          "y": 412.06979862465556,
          "yval": 14.285714285714285
         },
         "value": 1
        },
        {
         "source": {
          "index": 4,
          "label": "x5",
          "label_display": "none",
          "px": 349.27806531366787,
          "py": 419.79204133732895,
          "shape": "circle",
          "shape_attrs": {
           "r": 15
          },
          "value": null,
          "weight": 20,
          "x": 349.2334300496466,
          "xval": 20,
          "y": 419.7893909849638,
          "yval": 61.53846153846154
         },
         "target": {
          "index": 30,
          "label": "h1,19",
          "label_display": "none",
          "px": 454.5331839788234,
          "py": 440.7353981371751,
          "shape": "circle",
          "shape_attrs": {
           "r": 15
          },
          "value": null,
          "weight": 22,
          "x": 454.57338727966345,
          "xval": 40,
          "y": 440.870029182474,
          "yval": 9.523809523809524
         },
         "value": 1
        },
        {
         "source": {
          "index": 4,
          "label": "x5",
          "label_display": "none",
          "px": 349.27806531366787,
          "py": 419.79204133732895,
          "shape": "circle",
          "shape_attrs": {
           "r": 15
          },
          "value": null,
          "weight": 20,
          "x": 349.2334300496466,
          "xval": 20,
          "y": 419.7893909849638,
          "yval": 61.53846153846154
         },
         "target": {
          "index": 31,
          "label": "h1,20",
          "label_display": "none",
          "px": 452.51111853060013,
          "py": 433.8924336038177,
          "shape": "circle",
          "shape_attrs": {
           "r": 15
          },
          "value": null,
          "weight": 22,
          "x": 452.53198152903235,
          "xval": 40,
          "y": 433.96970392214837,
          "yval": 4.761904761904762
         },
         "value": 1
        },
        {
         "source": {
          "fixed": 0,
          "index": 5,
          "label": "x6",
          "label_display": "none",
          "px": 347.9242179952878,
          "py": 403.0316697786804,
          "shape": "circle",
          "shape_attrs": {
           "r": 15
          },
          "value": null,
          "weight": 20,
          "x": 347.87171205703646,
          "xval": 20,
          "y": 403.02724575949105,
          "yval": 53.84615384615385
         },
         "target": {
          "fixed": 0,
          "index": 12,
          "label": "h1,1",
          "label_display": "none",
          "px": 438.30653773859984,
          "py": 377.7211018453636,
          "shape": "circle",
          "shape_attrs": {
           "r": 15
          },
          "value": null,
          "weight": 22,
          "x": 438.30653773859984,
          "xval": 40,
          "y": 377.7211018453636,
          "yval": 95.23809523809524
         },
         "value": 1
        },
        {
         "source": {
          "fixed": 0,
          "index": 5,
          "label": "x6",
          "label_display": "none",
          "px": 347.9242179952878,
          "py": 403.0316697786804,
          "shape": "circle",
          "shape_attrs": {
           "r": 15
          },
          "value": null,
          "weight": 20,
          "x": 347.87171205703646,
          "xval": 20,
          "y": 403.02724575949105,
          "yval": 53.84615384615385
         },
         "target": {
          "fixed": 0,
          "index": 13,
          "label": "h1,2",
          "label_display": "none",
          "px": 445.4830710949258,
          "py": 407.40580969271514,
          "shape": "circle",
          "shape_attrs": {
           "r": 15
          },
          "value": null,
          "weight": 22,
          "x": 445.4830710949258,
          "xval": 40,
          "y": 407.40580969271514,
          "yval": 90.47619047619048
         },
         "value": 1
        },
        {
         "source": {
          "fixed": 0,
          "index": 5,
          "label": "x6",
          "label_display": "none",
          "px": 347.9242179952878,
          "py": 403.0316697786804,
          "shape": "circle",
          "shape_attrs": {
           "r": 15
          },
          "value": null,
          "weight": 20,
          "x": 347.87171205703646,
          "xval": 20,
          "y": 403.02724575949105,
          "yval": 53.84615384615385
         },
         "target": {
          "fixed": 0,
          "index": 14,
          "label": "h1,3",
          "label_display": "none",
          "px": 440.09389561772593,
          "py": 384.9913547714818,
          "shape": "circle",
          "shape_attrs": {
           "r": 15
          },
          "value": null,
          "weight": 22,
          "x": 440.09389561772593,
          "xval": 40,
          "y": 384.9913547714818,
          "yval": 85.71428571428571
         },
         "value": 1
        },
        {
         "source": {
          "fixed": 0,
          "index": 5,
          "label": "x6",
          "label_display": "none",
          "px": 347.9242179952878,
          "py": 403.0316697786804,
          "shape": "circle",
          "shape_attrs": {
           "r": 15
          },
          "value": null,
          "weight": 20,
          "x": 347.87171205703646,
          "xval": 20,
          "y": 403.02724575949105,
          "yval": 53.84615384615385
         },
         "target": {
          "index": 15,
          "label": "h1,4",
          "label_display": "none",
          "px": 442.03390585799406,
          "py": 393.18624031821906,
          "shape": "circle",
          "shape_attrs": {
           "r": 15
          },
          "value": null,
          "weight": 22,
          "x": 442.0252187451049,
          "xval": 40,
          "y": 393.18099926055953,
          "yval": 80.95238095238095
         },
         "value": 1
        },
        {
         "source": {
          "fixed": 0,
          "index": 5,
          "label": "x6",
          "label_display": "none",
          "px": 347.9242179952878,
          "py": 403.0316697786804,
          "shape": "circle",
          "shape_attrs": {
           "r": 15
          },
          "value": null,
          "weight": 20,
          "x": 347.87171205703646,
          "xval": 20,
          "y": 403.02724575949105,
          "yval": 53.84615384615385
         },
         "target": {
          "fixed": 0,
          "index": 16,
          "label": "h1,5",
          "label_display": "none",
          "px": 439.3038323400098,
          "py": 381.26898657152276,
          "shape": "circle",
          "shape_attrs": {
           "r": 15
          },
          "value": null,
          "weight": 22,
          "x": 439.3038323400098,
          "xval": 40,
          "y": 381.26898657152276,
          "yval": 76.19047619047619
         },
         "value": 1
        },
        {
         "source": {
          "fixed": 0,
          "index": 5,
          "label": "x6",
          "label_display": "none",
          "px": 347.9242179952878,
          "py": 403.0316697786804,
          "shape": "circle",
          "shape_attrs": {
           "r": 15
          },
          "value": null,
          "weight": 20,
          "x": 347.87171205703646,
          "xval": 20,
          "y": 403.02724575949105,
          "yval": 53.84615384615385
         },
         "target": {
          "index": 17,
          "label": "h1,6",
          "label_display": "none",
          "px": 436.1763853376012,
          "py": 367.0391092191069,
          "shape": "circle",
          "shape_attrs": {
           "r": 15
          },
          "value": null,
          "weight": 22,
          "x": 436.1319756129927,
          "xval": 40,
          "y": 366.9193372066237,
          "yval": 71.42857142857143
         },
         "value": 1
        },
        {
         "source": {
          "fixed": 0,
          "index": 5,
          "label": "x6",
          "label_display": "none",
          "px": 347.9242179952878,
          "py": 403.0316697786804,
          "shape": "circle",
          "shape_attrs": {
           "r": 15
          },
          "value": null,
          "weight": 20,
          "x": 347.87171205703646,
          "xval": 20,
          "y": 403.02724575949105,
          "yval": 53.84615384615385
         },
         "target": {
          "index": 18,
          "label": "h1,7",
          "label_display": "none",
          "px": 444.28747307460884,
          "py": 402.5857074144147,
          "shape": "circle",
          "shape_attrs": {
           "r": 15
          },
          "value": null,
          "weight": 22,
          "x": 444.28189322820117,
          "xval": 40,
          "y": 402.5864217166488,
          "yval": 66.66666666666667
         },
         "value": 1
        },
        {
         "source": {
          "fixed": 0,
          "index": 5,
          "label": "x6",
          "label_display": "none",
          "px": 347.9242179952878,
          "py": 403.0316697786804,
          "shape": "circle",
          "shape_attrs": {
           "r": 15
          },
          "value": null,
          "weight": 20,
          "x": 347.87171205703646,
          "xval": 20,
          "y": 403.02724575949105,
          "yval": 53.84615384615385
         },
         "target": {
          "index": 19,
          "label": "h1,8",
          "label_display": "none",
          "px": 436.96694163354766,
          "py": 370.835219648978,
          "shape": "circle",
          "shape_attrs": {
           "r": 15
          },
          "value": null,
          "weight": 22,
          "x": 436.93081668870667,
          "xval": 40,
          "y": 370.7487234007221,
          "yval": 61.904761904761905
         },
         "value": 1
        },
        {
         "source": {
          "fixed": 0,
          "index": 5,
          "label": "x6",
          "label_display": "none",
          "px": 347.9242179952878,
          "py": 403.0316697786804,
          "shape": "circle",
          "shape_attrs": {
           "r": 15
          },
          "value": null,
          "weight": 20,
          "x": 347.87171205703646,
          "xval": 20,
          "y": 403.02724575949105,
          "yval": 53.84615384615385
         },
         "target": {
          "index": 20,
          "label": "h1,9",
          "label_display": "none",
          "px": 443.12903262452926,
          "py": 397.77183731760726,
          "shape": "circle",
          "shape_attrs": {
           "r": 15
          },
          "value": null,
          "weight": 22,
          "x": 443.1225250371738,
          "xval": 40,
          "y": 397.77048960247726,
          "yval": 57.14285714285714
         },
         "value": 1
        },
        {
         "source": {
          "fixed": 0,
          "index": 5,
          "label": "x6",
          "label_display": "none",
          "px": 347.9242179952878,
          "py": 403.0316697786804,
          "shape": "circle",
          "shape_attrs": {
           "r": 15
          },
          "value": null,
          "weight": 20,
          "x": 347.87171205703646,
          "xval": 20,
          "y": 403.02724575949105,
          "yval": 53.84615384615385
         },
         "target": {
          "index": 21,
          "label": "h1,10",
          "label_display": "none",
          "px": 453.47719733511025,
          "py": 437.1791317957166,
          "shape": "circle",
          "shape_attrs": {
           "r": 15
          },
          "value": null,
          "weight": 22,
          "x": 453.50705008596486,
          "xval": 40,
          "y": 437.28186603254966,
          "yval": 52.38095238095238
         },
         "value": 1
        },
        {
         "source": {
          "fixed": 0,
          "index": 5,
          "label": "x6",
          "label_display": "none",
          "px": 347.9242179952878,
          "py": 403.0316697786804,
          "shape": "circle",
          "shape_attrs": {
           "r": 15
          },
          "value": null,
          "weight": 20,
          "x": 347.87171205703646,
          "xval": 20,
          "y": 403.02724575949105,
          "yval": 53.84615384615385
         },
         "target": {
          "index": 22,
          "label": "h1,11",
          "label_display": "none",
          "px": 450.6931880317312,
          "py": 427.36854915169533,
          "shape": "circle",
          "shape_attrs": {
           "r": 15
          },
          "value": null,
          "weight": 22,
          "x": 450.70224459711284,
          "xval": 40,
          "y": 427.40707742900895,
          "yval": 47.61904761904762
         },
         "value": 1
        },
        {
         "source": {
          "fixed": 0,
          "index": 5,
          "label": "x6",
          "label_display": "none",
          "px": 347.9242179952878,
          "py": 403.0316697786804,
          "shape": "circle",
          "shape_attrs": {
           "r": 15
          },
          "value": null,
          "weight": 20,
          "x": 347.87171205703646,
          "xval": 20,
          "y": 403.02724575949105,
          "yval": 53.84615384615385
         },
         "target": {
          "index": 23,
          "label": "h1,12",
          "label_display": "none",
          "px": 451.616956869591,
          "py": 430.68399636795544,
          "shape": "circle",
          "shape_attrs": {
           "r": 15
          },
          "value": null,
          "weight": 22,
          "x": 451.6308613454441,
          "xval": 40,
          "y": 430.73607807474326,
          "yval": 42.857142857142854
         },
         "value": 1
        },
        {
         "source": {
          "fixed": 0,
          "index": 5,
          "label": "x6",
          "label_display": "none",
          "px": 347.9242179952878,
          "py": 403.0316697786804,
          "shape": "circle",
          "shape_attrs": {
           "r": 15
          },
          "value": null,
          "weight": 20,
          "x": 347.87171205703646,
          "xval": 20,
          "y": 403.02724575949105,
          "yval": 53.84615384615385
         },
         "target": {
          "index": 24,
          "label": "h1,13",
          "label_display": "none",
          "px": 449.7701933541918,
          "py": 423.95395938325044,
          "shape": "circle",
          "shape_attrs": {
           "r": 15
          },
          "value": null,
          "weight": 22,
          "x": 449.77543161498545,
          "xval": 40,
          "y": 423.979666438766,
          "yval": 38.095238095238095
         },
         "value": 1
        },
        {
         "source": {
          "fixed": 0,
          "index": 5,
          "label": "x6",
          "label_display": "none",
          "px": 347.9242179952878,
          "py": 403.0316697786804,
          "shape": "circle",
          "shape_attrs": {
           "r": 15
          },
          "value": null,
          "weight": 20,
          "x": 347.87171205703646,
          "xval": 20,
          "y": 403.02724575949105,
          "yval": 53.84615384615385
         },
         "target": {
          "index": 25,
          "label": "h1,14",
          "label_display": "none",
          "px": 447.77652249109667,
          "py": 416.4027794386295,
          "shape": "circle",
          "shape_attrs": {
           "r": 15
          },
          "value": null,
          "weight": 22,
          "x": 447.77533228674633,
          "xval": 40,
          "y": 416.4089800756498,
          "yval": 33.333333333333336
         },
         "value": 1
        },
        {
         "source": {
          "fixed": 0,
          "index": 5,
          "label": "x6",
          "label_display": "none",
          "px": 347.9242179952878,
          "py": 403.0316697786804,
          "shape": "circle",
          "shape_attrs": {
           "r": 15
          },
          "value": null,
          "weight": 20,
          "x": 347.87171205703646,
          "xval": 20,
          "y": 403.02724575949105,
          "yval": 53.84615384615385
         },
         "target": {
          "fixed": 0,
          "index": 26,
          "label": "h1,15",
          "label_display": "none",
          "px": 437.84986949367203,
          "py": 374.25132654913494,
          "shape": "circle",
          "shape_attrs": {
           "r": 15
          },
          "value": null,
          "weight": 22,
          "x": 437.84986949367203,
          "xval": 40,
          "y": 374.25132654913494,
          "yval": 28.57142857142857
         },
         "value": 1
        },
        {
         "source": {
          "fixed": 0,
          "index": 5,
          "label": "x6",
          "label_display": "none",
          "px": 347.9242179952878,
          "py": 403.0316697786804,
          "shape": "circle",
          "shape_attrs": {
           "r": 15
          },
          "value": null,
          "weight": 20,
          "x": 347.87171205703646,
          "xval": 20,
          "y": 403.02724575949105,
          "yval": 53.84615384615385
         },
         "target": {
          "index": 27,
          "label": "h1,16",
          "label_display": "none",
          "px": 441.03312194188425,
          "py": 388.9301428056495,
          "shape": "circle",
          "shape_attrs": {
           "r": 15
          },
          "value": null,
          "weight": 22,
          "x": 441.0223311760983,
          "xval": 40,
          "y": 388.9201492326303,
          "yval": 23.80952380952381
         },
         "value": 1
        },
        {
         "source": {
          "fixed": 0,
          "index": 5,
          "label": "x6",
          "label_display": "none",
          "px": 347.9242179952878,
          "py": 403.0316697786804,
          "shape": "circle",
          "shape_attrs": {
           "r": 15
          },
          "value": null,
          "weight": 20,
          "x": 347.87171205703646,
          "xval": 20,
          "y": 403.02724575949105,
          "yval": 53.84615384615385
         },
         "target": {
          "index": 28,
          "label": "h1,17",
          "label_display": "none",
          "px": 448.80878786875905,
          "py": 420.35138343623464,
          "shape": "circle",
          "shape_attrs": {
           "r": 15
          },
          "value": null,
          "weight": 22,
          "x": 448.8091799805161,
          "xval": 40,
          "y": 420.3610019925185,
          "yval": 19.047619047619047
         },
         "value": 1
        },
        {
         "source": {
          "fixed": 0,
          "index": 5,
          "label": "x6",
          "label_display": "none",
          "px": 347.9242179952878,
          "py": 403.0316697786804,
          "shape": "circle",
          "shape_attrs": {
           "r": 15
          },
          "value": null,
          "weight": 20,
          "x": 347.87171205703646,
          "xval": 20,
          "y": 403.02724575949105,
          "yval": 53.84615384615385
         },
         "target": {
          "index": 29,
          "label": "h1,18",
          "label_display": "none",
          "px": 446.66133336839465,
          "py": 412.06746080603597,
          "shape": "circle",
          "shape_attrs": {
           "r": 15
          },
          "value": null,
          "weight": 22,
          "x": 446.65836227806636,
          "xval": 40,
          "y": 412.06979862465556,
          "yval": 14.285714285714285
         },
         "value": 1
        },
        {
         "source": {
          "fixed": 0,
          "index": 5,
          "label": "x6",
          "label_display": "none",
          "px": 347.9242179952878,
          "py": 403.0316697786804,
          "shape": "circle",
          "shape_attrs": {
           "r": 15
          },
          "value": null,
          "weight": 20,
          "x": 347.87171205703646,
          "xval": 20,
          "y": 403.02724575949105,
          "yval": 53.84615384615385
         },
         "target": {
          "index": 30,
          "label": "h1,19",
          "label_display": "none",
          "px": 454.5331839788234,
          "py": 440.7353981371751,
          "shape": "circle",
          "shape_attrs": {
           "r": 15
          },
          "value": null,
          "weight": 22,
          "x": 454.57338727966345,
          "xval": 40,
          "y": 440.870029182474,
          "yval": 9.523809523809524
         },
         "value": 1
        },
        {
         "source": {
          "fixed": 0,
          "index": 5,
          "label": "x6",
          "label_display": "none",
          "px": 347.9242179952878,
          "py": 403.0316697786804,
          "shape": "circle",
          "shape_attrs": {
           "r": 15
          },
          "value": null,
          "weight": 20,
          "x": 347.87171205703646,
          "xval": 20,
          "y": 403.02724575949105,
          "yval": 53.84615384615385
         },
         "target": {
          "index": 31,
          "label": "h1,20",
          "label_display": "none",
          "px": 452.51111853060013,
          "py": 433.8924336038177,
          "shape": "circle",
          "shape_attrs": {
           "r": 15
          },
          "value": null,
          "weight": 22,
          "x": 452.53198152903235,
          "xval": 40,
          "y": 433.96970392214837,
          "yval": 4.761904761904762
         },
         "value": 1
        },
        {
         "source": {
          "index": 6,
          "label": "x7",
          "label_display": "none",
          "px": 354.2538696234675,
          "py": 438.5097584805723,
          "shape": "circle",
          "shape_attrs": {
           "r": 15
          },
          "value": null,
          "weight": 20,
          "x": 354.2313541770172,
          "xval": 20,
          "y": 438.56414739258605,
          "yval": 46.15384615384615
         },
         "target": {
          "fixed": 0,
          "index": 12,
          "label": "h1,1",
          "label_display": "none",
          "px": 438.30653773859984,
          "py": 377.7211018453636,
          "shape": "circle",
          "shape_attrs": {
           "r": 15
          },
          "value": null,
          "weight": 22,
          "x": 438.30653773859984,
          "xval": 40,
          "y": 377.7211018453636,
          "yval": 95.23809523809524
         },
         "value": 1
        },
        {
         "source": {
          "index": 6,
          "label": "x7",
          "label_display": "none",
          "px": 354.2538696234675,
          "py": 438.5097584805723,
          "shape": "circle",
          "shape_attrs": {
           "r": 15
          },
          "value": null,
          "weight": 20,
          "x": 354.2313541770172,
          "xval": 20,
          "y": 438.56414739258605,
          "yval": 46.15384615384615
         },
         "target": {
          "fixed": 0,
          "index": 13,
          "label": "h1,2",
          "label_display": "none",
          "px": 445.4830710949258,
          "py": 407.40580969271514,
          "shape": "circle",
          "shape_attrs": {
           "r": 15
          },
          "value": null,
          "weight": 22,
          "x": 445.4830710949258,
          "xval": 40,
          "y": 407.40580969271514,
          "yval": 90.47619047619048
         },
         "value": 1
        },
        {
         "source": {
          "index": 6,
          "label": "x7",
          "label_display": "none",
          "px": 354.2538696234675,
          "py": 438.5097584805723,
          "shape": "circle",
          "shape_attrs": {
           "r": 15
          },
          "value": null,
          "weight": 20,
          "x": 354.2313541770172,
          "xval": 20,
          "y": 438.56414739258605,
          "yval": 46.15384615384615
         },
         "target": {
          "fixed": 0,
          "index": 14,
          "label": "h1,3",
          "label_display": "none",
          "px": 440.09389561772593,
          "py": 384.9913547714818,
          "shape": "circle",
          "shape_attrs": {
           "r": 15
          },
          "value": null,
          "weight": 22,
          "x": 440.09389561772593,
          "xval": 40,
          "y": 384.9913547714818,
          "yval": 85.71428571428571
         },
         "value": 1
        },
        {
         "source": {
          "index": 6,
          "label": "x7",
          "label_display": "none",
          "px": 354.2538696234675,
          "py": 438.5097584805723,
          "shape": "circle",
          "shape_attrs": {
           "r": 15
          },
          "value": null,
          "weight": 20,
          "x": 354.2313541770172,
          "xval": 20,
          "y": 438.56414739258605,
          "yval": 46.15384615384615
         },
         "target": {
          "index": 15,
          "label": "h1,4",
          "label_display": "none",
          "px": 442.03390585799406,
          "py": 393.18624031821906,
          "shape": "circle",
          "shape_attrs": {
           "r": 15
          },
          "value": null,
          "weight": 22,
          "x": 442.0252187451049,
          "xval": 40,
          "y": 393.18099926055953,
          "yval": 80.95238095238095
         },
         "value": 1
        },
        {
         "source": {
          "index": 6,
          "label": "x7",
          "label_display": "none",
          "px": 354.2538696234675,
          "py": 438.5097584805723,
          "shape": "circle",
          "shape_attrs": {
           "r": 15
          },
          "value": null,
          "weight": 20,
          "x": 354.2313541770172,
          "xval": 20,
          "y": 438.56414739258605,
          "yval": 46.15384615384615
         },
         "target": {
          "fixed": 0,
          "index": 16,
          "label": "h1,5",
          "label_display": "none",
          "px": 439.3038323400098,
          "py": 381.26898657152276,
          "shape": "circle",
          "shape_attrs": {
           "r": 15
          },
          "value": null,
          "weight": 22,
          "x": 439.3038323400098,
          "xval": 40,
          "y": 381.26898657152276,
          "yval": 76.19047619047619
         },
         "value": 1
        },
        {
         "source": {
          "index": 6,
          "label": "x7",
          "label_display": "none",
          "px": 354.2538696234675,
          "py": 438.5097584805723,
          "shape": "circle",
          "shape_attrs": {
           "r": 15
          },
          "value": null,
          "weight": 20,
          "x": 354.2313541770172,
          "xval": 20,
          "y": 438.56414739258605,
          "yval": 46.15384615384615
         },
         "target": {
          "index": 17,
          "label": "h1,6",
          "label_display": "none",
          "px": 436.1763853376012,
          "py": 367.0391092191069,
          "shape": "circle",
          "shape_attrs": {
           "r": 15
          },
          "value": null,
          "weight": 22,
          "x": 436.1319756129927,
          "xval": 40,
          "y": 366.9193372066237,
          "yval": 71.42857142857143
         },
         "value": 1
        },
        {
         "source": {
          "index": 6,
          "label": "x7",
          "label_display": "none",
          "px": 354.2538696234675,
          "py": 438.5097584805723,
          "shape": "circle",
          "shape_attrs": {
           "r": 15
          },
          "value": null,
          "weight": 20,
          "x": 354.2313541770172,
          "xval": 20,
          "y": 438.56414739258605,
          "yval": 46.15384615384615
         },
         "target": {
          "index": 18,
          "label": "h1,7",
          "label_display": "none",
          "px": 444.28747307460884,
          "py": 402.5857074144147,
          "shape": "circle",
          "shape_attrs": {
           "r": 15
          },
          "value": null,
          "weight": 22,
          "x": 444.28189322820117,
          "xval": 40,
          "y": 402.5864217166488,
          "yval": 66.66666666666667
         },
         "value": 1
        },
        {
         "source": {
          "index": 6,
          "label": "x7",
          "label_display": "none",
          "px": 354.2538696234675,
          "py": 438.5097584805723,
          "shape": "circle",
          "shape_attrs": {
           "r": 15
          },
          "value": null,
          "weight": 20,
          "x": 354.2313541770172,
          "xval": 20,
          "y": 438.56414739258605,
          "yval": 46.15384615384615
         },
         "target": {
          "index": 19,
          "label": "h1,8",
          "label_display": "none",
          "px": 436.96694163354766,
          "py": 370.835219648978,
          "shape": "circle",
          "shape_attrs": {
           "r": 15
          },
          "value": null,
          "weight": 22,
          "x": 436.93081668870667,
          "xval": 40,
          "y": 370.7487234007221,
          "yval": 61.904761904761905
         },
         "value": 1
        },
        {
         "source": {
          "index": 6,
          "label": "x7",
          "label_display": "none",
          "px": 354.2538696234675,
          "py": 438.5097584805723,
          "shape": "circle",
          "shape_attrs": {
           "r": 15
          },
          "value": null,
          "weight": 20,
          "x": 354.2313541770172,
          "xval": 20,
          "y": 438.56414739258605,
          "yval": 46.15384615384615
         },
         "target": {
          "index": 20,
          "label": "h1,9",
          "label_display": "none",
          "px": 443.12903262452926,
          "py": 397.77183731760726,
          "shape": "circle",
          "shape_attrs": {
           "r": 15
          },
          "value": null,
          "weight": 22,
          "x": 443.1225250371738,
          "xval": 40,
          "y": 397.77048960247726,
          "yval": 57.14285714285714
         },
         "value": 1
        },
        {
         "source": {
          "index": 6,
          "label": "x7",
          "label_display": "none",
          "px": 354.2538696234675,
          "py": 438.5097584805723,
          "shape": "circle",
          "shape_attrs": {
           "r": 15
          },
          "value": null,
          "weight": 20,
          "x": 354.2313541770172,
          "xval": 20,
          "y": 438.56414739258605,
          "yval": 46.15384615384615
         },
         "target": {
          "index": 21,
          "label": "h1,10",
          "label_display": "none",
          "px": 453.47719733511025,
          "py": 437.1791317957166,
          "shape": "circle",
          "shape_attrs": {
           "r": 15
          },
          "value": null,
          "weight": 22,
          "x": 453.50705008596486,
          "xval": 40,
          "y": 437.28186603254966,
          "yval": 52.38095238095238
         },
         "value": 1
        },
        {
         "source": {
          "index": 6,
          "label": "x7",
          "label_display": "none",
          "px": 354.2538696234675,
          "py": 438.5097584805723,
          "shape": "circle",
          "shape_attrs": {
           "r": 15
          },
          "value": null,
          "weight": 20,
          "x": 354.2313541770172,
          "xval": 20,
          "y": 438.56414739258605,
          "yval": 46.15384615384615
         },
         "target": {
          "index": 22,
          "label": "h1,11",
          "label_display": "none",
          "px": 450.6931880317312,
          "py": 427.36854915169533,
          "shape": "circle",
          "shape_attrs": {
           "r": 15
          },
          "value": null,
          "weight": 22,
          "x": 450.70224459711284,
          "xval": 40,
          "y": 427.40707742900895,
          "yval": 47.61904761904762
         },
         "value": 1
        },
        {
         "source": {
          "index": 6,
          "label": "x7",
          "label_display": "none",
          "px": 354.2538696234675,
          "py": 438.5097584805723,
          "shape": "circle",
          "shape_attrs": {
           "r": 15
          },
          "value": null,
          "weight": 20,
          "x": 354.2313541770172,
          "xval": 20,
          "y": 438.56414739258605,
          "yval": 46.15384615384615
         },
         "target": {
          "index": 23,
          "label": "h1,12",
          "label_display": "none",
          "px": 451.616956869591,
          "py": 430.68399636795544,
          "shape": "circle",
          "shape_attrs": {
           "r": 15
          },
          "value": null,
          "weight": 22,
          "x": 451.6308613454441,
          "xval": 40,
          "y": 430.73607807474326,
          "yval": 42.857142857142854
         },
         "value": 1
        },
        {
         "source": {
          "index": 6,
          "label": "x7",
          "label_display": "none",
          "px": 354.2538696234675,
          "py": 438.5097584805723,
          "shape": "circle",
          "shape_attrs": {
           "r": 15
          },
          "value": null,
          "weight": 20,
          "x": 354.2313541770172,
          "xval": 20,
          "y": 438.56414739258605,
          "yval": 46.15384615384615
         },
         "target": {
          "index": 24,
          "label": "h1,13",
          "label_display": "none",
          "px": 449.7701933541918,
          "py": 423.95395938325044,
          "shape": "circle",
          "shape_attrs": {
           "r": 15
          },
          "value": null,
          "weight": 22,
          "x": 449.77543161498545,
          "xval": 40,
          "y": 423.979666438766,
          "yval": 38.095238095238095
         },
         "value": 1
        },
        {
         "source": {
          "index": 6,
          "label": "x7",
          "label_display": "none",
          "px": 354.2538696234675,
          "py": 438.5097584805723,
          "shape": "circle",
          "shape_attrs": {
           "r": 15
          },
          "value": null,
          "weight": 20,
          "x": 354.2313541770172,
          "xval": 20,
          "y": 438.56414739258605,
          "yval": 46.15384615384615
         },
         "target": {
          "index": 25,
          "label": "h1,14",
          "label_display": "none",
          "px": 447.77652249109667,
          "py": 416.4027794386295,
          "shape": "circle",
          "shape_attrs": {
           "r": 15
          },
          "value": null,
          "weight": 22,
          "x": 447.77533228674633,
          "xval": 40,
          "y": 416.4089800756498,
          "yval": 33.333333333333336
         },
         "value": 1
        },
        {
         "source": {
          "index": 6,
          "label": "x7",
          "label_display": "none",
          "px": 354.2538696234675,
          "py": 438.5097584805723,
          "shape": "circle",
          "shape_attrs": {
           "r": 15
          },
          "value": null,
          "weight": 20,
          "x": 354.2313541770172,
          "xval": 20,
          "y": 438.56414739258605,
          "yval": 46.15384615384615
         },
         "target": {
          "fixed": 0,
          "index": 26,
          "label": "h1,15",
          "label_display": "none",
          "px": 437.84986949367203,
          "py": 374.25132654913494,
          "shape": "circle",
          "shape_attrs": {
           "r": 15
          },
          "value": null,
          "weight": 22,
          "x": 437.84986949367203,
          "xval": 40,
          "y": 374.25132654913494,
          "yval": 28.57142857142857
         },
         "value": 1
        },
        {
         "source": {
          "index": 6,
          "label": "x7",
          "label_display": "none",
          "px": 354.2538696234675,
          "py": 438.5097584805723,
          "shape": "circle",
          "shape_attrs": {
           "r": 15
          },
          "value": null,
          "weight": 20,
          "x": 354.2313541770172,
          "xval": 20,
          "y": 438.56414739258605,
          "yval": 46.15384615384615
         },
         "target": {
          "index": 27,
          "label": "h1,16",
          "label_display": "none",
          "px": 441.03312194188425,
          "py": 388.9301428056495,
          "shape": "circle",
          "shape_attrs": {
           "r": 15
          },
          "value": null,
          "weight": 22,
          "x": 441.0223311760983,
          "xval": 40,
          "y": 388.9201492326303,
          "yval": 23.80952380952381
         },
         "value": 1
        },
        {
         "source": {
          "index": 6,
          "label": "x7",
          "label_display": "none",
          "px": 354.2538696234675,
          "py": 438.5097584805723,
          "shape": "circle",
          "shape_attrs": {
           "r": 15
          },
          "value": null,
          "weight": 20,
          "x": 354.2313541770172,
          "xval": 20,
          "y": 438.56414739258605,
          "yval": 46.15384615384615
         },
         "target": {
          "index": 28,
          "label": "h1,17",
          "label_display": "none",
          "px": 448.80878786875905,
          "py": 420.35138343623464,
          "shape": "circle",
          "shape_attrs": {
           "r": 15
          },
          "value": null,
          "weight": 22,
          "x": 448.8091799805161,
          "xval": 40,
          "y": 420.3610019925185,
          "yval": 19.047619047619047
         },
         "value": 1
        },
        {
         "source": {
          "index": 6,
          "label": "x7",
          "label_display": "none",
          "px": 354.2538696234675,
          "py": 438.5097584805723,
          "shape": "circle",
          "shape_attrs": {
           "r": 15
          },
          "value": null,
          "weight": 20,
          "x": 354.2313541770172,
          "xval": 20,
          "y": 438.56414739258605,
          "yval": 46.15384615384615
         },
         "target": {
          "index": 29,
          "label": "h1,18",
          "label_display": "none",
          "px": 446.66133336839465,
          "py": 412.06746080603597,
          "shape": "circle",
          "shape_attrs": {
           "r": 15
          },
          "value": null,
          "weight": 22,
          "x": 446.65836227806636,
          "xval": 40,
          "y": 412.06979862465556,
          "yval": 14.285714285714285
         },
         "value": 1
        },
        {
         "source": {
          "index": 6,
          "label": "x7",
          "label_display": "none",
          "px": 354.2538696234675,
          "py": 438.5097584805723,
          "shape": "circle",
          "shape_attrs": {
           "r": 15
          },
          "value": null,
          "weight": 20,
          "x": 354.2313541770172,
          "xval": 20,
          "y": 438.56414739258605,
          "yval": 46.15384615384615
         },
         "target": {
          "index": 30,
          "label": "h1,19",
          "label_display": "none",
          "px": 454.5331839788234,
          "py": 440.7353981371751,
          "shape": "circle",
          "shape_attrs": {
           "r": 15
          },
          "value": null,
          "weight": 22,
          "x": 454.57338727966345,
          "xval": 40,
          "y": 440.870029182474,
          "yval": 9.523809523809524
         },
         "value": 1
        },
        {
         "source": {
          "index": 6,
          "label": "x7",
          "label_display": "none",
          "px": 354.2538696234675,
          "py": 438.5097584805723,
          "shape": "circle",
          "shape_attrs": {
           "r": 15
          },
          "value": null,
          "weight": 20,
          "x": 354.2313541770172,
          "xval": 20,
          "y": 438.56414739258605,
          "yval": 46.15384615384615
         },
         "target": {
          "index": 31,
          "label": "h1,20",
          "label_display": "none",
          "px": 452.51111853060013,
          "py": 433.8924336038177,
          "shape": "circle",
          "shape_attrs": {
           "r": 15
          },
          "value": null,
          "weight": 22,
          "x": 452.53198152903235,
          "xval": 40,
          "y": 433.96970392214837,
          "yval": 4.761904761904762
         },
         "value": 1
        },
        {
         "source": {
          "index": 7,
          "label": "x8",
          "label_display": "none",
          "px": 356.22057362840934,
          "py": 443.45571635538505,
          "shape": "circle",
          "shape_attrs": {
           "r": 15
          },
          "value": null,
          "weight": 20,
          "x": 356.2072062248934,
          "xval": 20,
          "y": 443.5252069713679,
          "yval": 38.46153846153846
         },
         "target": {
          "fixed": 0,
          "index": 12,
          "label": "h1,1",
          "label_display": "none",
          "px": 438.30653773859984,
          "py": 377.7211018453636,
          "shape": "circle",
          "shape_attrs": {
           "r": 15
          },
          "value": null,
          "weight": 22,
          "x": 438.30653773859984,
          "xval": 40,
          "y": 377.7211018453636,
          "yval": 95.23809523809524
         },
         "value": 1
        },
        {
         "source": {
          "index": 7,
          "label": "x8",
          "label_display": "none",
          "px": 356.22057362840934,
          "py": 443.45571635538505,
          "shape": "circle",
          "shape_attrs": {
           "r": 15
          },
          "value": null,
          "weight": 20,
          "x": 356.2072062248934,
          "xval": 20,
          "y": 443.5252069713679,
          "yval": 38.46153846153846
         },
         "target": {
          "fixed": 0,
          "index": 13,
          "label": "h1,2",
          "label_display": "none",
          "px": 445.4830710949258,
          "py": 407.40580969271514,
          "shape": "circle",
          "shape_attrs": {
           "r": 15
          },
          "value": null,
          "weight": 22,
          "x": 445.4830710949258,
          "xval": 40,
          "y": 407.40580969271514,
          "yval": 90.47619047619048
         },
         "value": 1
        },
        {
         "source": {
          "index": 7,
          "label": "x8",
          "label_display": "none",
          "px": 356.22057362840934,
          "py": 443.45571635538505,
          "shape": "circle",
          "shape_attrs": {
           "r": 15
          },
          "value": null,
          "weight": 20,
          "x": 356.2072062248934,
          "xval": 20,
          "y": 443.5252069713679,
          "yval": 38.46153846153846
         },
         "target": {
          "fixed": 0,
          "index": 14,
          "label": "h1,3",
          "label_display": "none",
          "px": 440.09389561772593,
          "py": 384.9913547714818,
          "shape": "circle",
          "shape_attrs": {
           "r": 15
          },
          "value": null,
          "weight": 22,
          "x": 440.09389561772593,
          "xval": 40,
          "y": 384.9913547714818,
          "yval": 85.71428571428571
         },
         "value": 1
        },
        {
         "source": {
          "index": 7,
          "label": "x8",
          "label_display": "none",
          "px": 356.22057362840934,
          "py": 443.45571635538505,
          "shape": "circle",
          "shape_attrs": {
           "r": 15
          },
          "value": null,
          "weight": 20,
          "x": 356.2072062248934,
          "xval": 20,
          "y": 443.5252069713679,
          "yval": 38.46153846153846
         },
         "target": {
          "index": 15,
          "label": "h1,4",
          "label_display": "none",
          "px": 442.03390585799406,
          "py": 393.18624031821906,
          "shape": "circle",
          "shape_attrs": {
           "r": 15
          },
          "value": null,
          "weight": 22,
          "x": 442.0252187451049,
          "xval": 40,
          "y": 393.18099926055953,
          "yval": 80.95238095238095
         },
         "value": 1
        },
        {
         "source": {
          "index": 7,
          "label": "x8",
          "label_display": "none",
          "px": 356.22057362840934,
          "py": 443.45571635538505,
          "shape": "circle",
          "shape_attrs": {
           "r": 15
          },
          "value": null,
          "weight": 20,
          "x": 356.2072062248934,
          "xval": 20,
          "y": 443.5252069713679,
          "yval": 38.46153846153846
         },
         "target": {
          "fixed": 0,
          "index": 16,
          "label": "h1,5",
          "label_display": "none",
          "px": 439.3038323400098,
          "py": 381.26898657152276,
          "shape": "circle",
          "shape_attrs": {
           "r": 15
          },
          "value": null,
          "weight": 22,
          "x": 439.3038323400098,
          "xval": 40,
          "y": 381.26898657152276,
          "yval": 76.19047619047619
         },
         "value": 1
        },
        {
         "source": {
          "index": 7,
          "label": "x8",
          "label_display": "none",
          "px": 356.22057362840934,
          "py": 443.45571635538505,
          "shape": "circle",
          "shape_attrs": {
           "r": 15
          },
          "value": null,
          "weight": 20,
          "x": 356.2072062248934,
          "xval": 20,
          "y": 443.5252069713679,
          "yval": 38.46153846153846
         },
         "target": {
          "index": 17,
          "label": "h1,6",
          "label_display": "none",
          "px": 436.1763853376012,
          "py": 367.0391092191069,
          "shape": "circle",
          "shape_attrs": {
           "r": 15
          },
          "value": null,
          "weight": 22,
          "x": 436.1319756129927,
          "xval": 40,
          "y": 366.9193372066237,
          "yval": 71.42857142857143
         },
         "value": 1
        },
        {
         "source": {
          "index": 7,
          "label": "x8",
          "label_display": "none",
          "px": 356.22057362840934,
          "py": 443.45571635538505,
          "shape": "circle",
          "shape_attrs": {
           "r": 15
          },
          "value": null,
          "weight": 20,
          "x": 356.2072062248934,
          "xval": 20,
          "y": 443.5252069713679,
          "yval": 38.46153846153846
         },
         "target": {
          "index": 18,
          "label": "h1,7",
          "label_display": "none",
          "px": 444.28747307460884,
          "py": 402.5857074144147,
          "shape": "circle",
          "shape_attrs": {
           "r": 15
          },
          "value": null,
          "weight": 22,
          "x": 444.28189322820117,
          "xval": 40,
          "y": 402.5864217166488,
          "yval": 66.66666666666667
         },
         "value": 1
        },
        {
         "source": {
          "index": 7,
          "label": "x8",
          "label_display": "none",
          "px": 356.22057362840934,
          "py": 443.45571635538505,
          "shape": "circle",
          "shape_attrs": {
           "r": 15
          },
          "value": null,
          "weight": 20,
          "x": 356.2072062248934,
          "xval": 20,
          "y": 443.5252069713679,
          "yval": 38.46153846153846
         },
         "target": {
          "index": 19,
          "label": "h1,8",
          "label_display": "none",
          "px": 436.96694163354766,
          "py": 370.835219648978,
          "shape": "circle",
          "shape_attrs": {
           "r": 15
          },
          "value": null,
          "weight": 22,
          "x": 436.93081668870667,
          "xval": 40,
          "y": 370.7487234007221,
          "yval": 61.904761904761905
         },
         "value": 1
        },
        {
         "source": {
          "index": 7,
          "label": "x8",
          "label_display": "none",
          "px": 356.22057362840934,
          "py": 443.45571635538505,
          "shape": "circle",
          "shape_attrs": {
           "r": 15
          },
          "value": null,
          "weight": 20,
          "x": 356.2072062248934,
          "xval": 20,
          "y": 443.5252069713679,
          "yval": 38.46153846153846
         },
         "target": {
          "index": 20,
          "label": "h1,9",
          "label_display": "none",
          "px": 443.12903262452926,
          "py": 397.77183731760726,
          "shape": "circle",
          "shape_attrs": {
           "r": 15
          },
          "value": null,
          "weight": 22,
          "x": 443.1225250371738,
          "xval": 40,
          "y": 397.77048960247726,
          "yval": 57.14285714285714
         },
         "value": 1
        },
        {
         "source": {
          "index": 7,
          "label": "x8",
          "label_display": "none",
          "px": 356.22057362840934,
          "py": 443.45571635538505,
          "shape": "circle",
          "shape_attrs": {
           "r": 15
          },
          "value": null,
          "weight": 20,
          "x": 356.2072062248934,
          "xval": 20,
          "y": 443.5252069713679,
          "yval": 38.46153846153846
         },
         "target": {
          "index": 21,
          "label": "h1,10",
          "label_display": "none",
          "px": 453.47719733511025,
          "py": 437.1791317957166,
          "shape": "circle",
          "shape_attrs": {
           "r": 15
          },
          "value": null,
          "weight": 22,
          "x": 453.50705008596486,
          "xval": 40,
          "y": 437.28186603254966,
          "yval": 52.38095238095238
         },
         "value": 1
        },
        {
         "source": {
          "index": 7,
          "label": "x8",
          "label_display": "none",
          "px": 356.22057362840934,
          "py": 443.45571635538505,
          "shape": "circle",
          "shape_attrs": {
           "r": 15
          },
          "value": null,
          "weight": 20,
          "x": 356.2072062248934,
          "xval": 20,
          "y": 443.5252069713679,
          "yval": 38.46153846153846
         },
         "target": {
          "index": 22,
          "label": "h1,11",
          "label_display": "none",
          "px": 450.6931880317312,
          "py": 427.36854915169533,
          "shape": "circle",
          "shape_attrs": {
           "r": 15
          },
          "value": null,
          "weight": 22,
          "x": 450.70224459711284,
          "xval": 40,
          "y": 427.40707742900895,
          "yval": 47.61904761904762
         },
         "value": 1
        },
        {
         "source": {
          "index": 7,
          "label": "x8",
          "label_display": "none",
          "px": 356.22057362840934,
          "py": 443.45571635538505,
          "shape": "circle",
          "shape_attrs": {
           "r": 15
          },
          "value": null,
          "weight": 20,
          "x": 356.2072062248934,
          "xval": 20,
          "y": 443.5252069713679,
          "yval": 38.46153846153846
         },
         "target": {
          "index": 23,
          "label": "h1,12",
          "label_display": "none",
          "px": 451.616956869591,
          "py": 430.68399636795544,
          "shape": "circle",
          "shape_attrs": {
           "r": 15
          },
          "value": null,
          "weight": 22,
          "x": 451.6308613454441,
          "xval": 40,
          "y": 430.73607807474326,
          "yval": 42.857142857142854
         },
         "value": 1
        },
        {
         "source": {
          "index": 7,
          "label": "x8",
          "label_display": "none",
          "px": 356.22057362840934,
          "py": 443.45571635538505,
          "shape": "circle",
          "shape_attrs": {
           "r": 15
          },
          "value": null,
          "weight": 20,
          "x": 356.2072062248934,
          "xval": 20,
          "y": 443.5252069713679,
          "yval": 38.46153846153846
         },
         "target": {
          "index": 24,
          "label": "h1,13",
          "label_display": "none",
          "px": 449.7701933541918,
          "py": 423.95395938325044,
          "shape": "circle",
          "shape_attrs": {
           "r": 15
          },
          "value": null,
          "weight": 22,
          "x": 449.77543161498545,
          "xval": 40,
          "y": 423.979666438766,
          "yval": 38.095238095238095
         },
         "value": 1
        },
        {
         "source": {
          "index": 7,
          "label": "x8",
          "label_display": "none",
          "px": 356.22057362840934,
          "py": 443.45571635538505,
          "shape": "circle",
          "shape_attrs": {
           "r": 15
          },
          "value": null,
          "weight": 20,
          "x": 356.2072062248934,
          "xval": 20,
          "y": 443.5252069713679,
          "yval": 38.46153846153846
         },
         "target": {
          "index": 25,
          "label": "h1,14",
          "label_display": "none",
          "px": 447.77652249109667,
          "py": 416.4027794386295,
          "shape": "circle",
          "shape_attrs": {
           "r": 15
          },
          "value": null,
          "weight": 22,
          "x": 447.77533228674633,
          "xval": 40,
          "y": 416.4089800756498,
          "yval": 33.333333333333336
         },
         "value": 1
        },
        {
         "source": {
          "index": 7,
          "label": "x8",
          "label_display": "none",
          "px": 356.22057362840934,
          "py": 443.45571635538505,
          "shape": "circle",
          "shape_attrs": {
           "r": 15
          },
          "value": null,
          "weight": 20,
          "x": 356.2072062248934,
          "xval": 20,
          "y": 443.5252069713679,
          "yval": 38.46153846153846
         },
         "target": {
          "fixed": 0,
          "index": 26,
          "label": "h1,15",
          "label_display": "none",
          "px": 437.84986949367203,
          "py": 374.25132654913494,
          "shape": "circle",
          "shape_attrs": {
           "r": 15
          },
          "value": null,
          "weight": 22,
          "x": 437.84986949367203,
          "xval": 40,
          "y": 374.25132654913494,
          "yval": 28.57142857142857
         },
         "value": 1
        },
        {
         "source": {
          "index": 7,
          "label": "x8",
          "label_display": "none",
          "px": 356.22057362840934,
          "py": 443.45571635538505,
          "shape": "circle",
          "shape_attrs": {
           "r": 15
          },
          "value": null,
          "weight": 20,
          "x": 356.2072062248934,
          "xval": 20,
          "y": 443.5252069713679,
          "yval": 38.46153846153846
         },
         "target": {
          "index": 27,
          "label": "h1,16",
          "label_display": "none",
          "px": 441.03312194188425,
          "py": 388.9301428056495,
          "shape": "circle",
          "shape_attrs": {
           "r": 15
          },
          "value": null,
          "weight": 22,
          "x": 441.0223311760983,
          "xval": 40,
          "y": 388.9201492326303,
          "yval": 23.80952380952381
         },
         "value": 1
        },
        {
         "source": {
          "index": 7,
          "label": "x8",
          "label_display": "none",
          "px": 356.22057362840934,
          "py": 443.45571635538505,
          "shape": "circle",
          "shape_attrs": {
           "r": 15
          },
          "value": null,
          "weight": 20,
          "x": 356.2072062248934,
          "xval": 20,
          "y": 443.5252069713679,
          "yval": 38.46153846153846
         },
         "target": {
          "index": 28,
          "label": "h1,17",
          "label_display": "none",
          "px": 448.80878786875905,
          "py": 420.35138343623464,
          "shape": "circle",
          "shape_attrs": {
           "r": 15
          },
          "value": null,
          "weight": 22,
          "x": 448.8091799805161,
          "xval": 40,
          "y": 420.3610019925185,
          "yval": 19.047619047619047
         },
         "value": 1
        },
        {
         "source": {
          "index": 7,
          "label": "x8",
          "label_display": "none",
          "px": 356.22057362840934,
          "py": 443.45571635538505,
          "shape": "circle",
          "shape_attrs": {
           "r": 15
          },
          "value": null,
          "weight": 20,
          "x": 356.2072062248934,
          "xval": 20,
          "y": 443.5252069713679,
          "yval": 38.46153846153846
         },
         "target": {
          "index": 29,
          "label": "h1,18",
          "label_display": "none",
          "px": 446.66133336839465,
          "py": 412.06746080603597,
          "shape": "circle",
          "shape_attrs": {
           "r": 15
          },
          "value": null,
          "weight": 22,
          "x": 446.65836227806636,
          "xval": 40,
          "y": 412.06979862465556,
          "yval": 14.285714285714285
         },
         "value": 1
        },
        {
         "source": {
          "index": 7,
          "label": "x8",
          "label_display": "none",
          "px": 356.22057362840934,
          "py": 443.45571635538505,
          "shape": "circle",
          "shape_attrs": {
           "r": 15
          },
          "value": null,
          "weight": 20,
          "x": 356.2072062248934,
          "xval": 20,
          "y": 443.5252069713679,
          "yval": 38.46153846153846
         },
         "target": {
          "index": 30,
          "label": "h1,19",
          "label_display": "none",
          "px": 454.5331839788234,
          "py": 440.7353981371751,
          "shape": "circle",
          "shape_attrs": {
           "r": 15
          },
          "value": null,
          "weight": 22,
          "x": 454.57338727966345,
          "xval": 40,
          "y": 440.870029182474,
          "yval": 9.523809523809524
         },
         "value": 1
        },
        {
         "source": {
          "index": 7,
          "label": "x8",
          "label_display": "none",
          "px": 356.22057362840934,
          "py": 443.45571635538505,
          "shape": "circle",
          "shape_attrs": {
           "r": 15
          },
          "value": null,
          "weight": 20,
          "x": 356.2072062248934,
          "xval": 20,
          "y": 443.5252069713679,
          "yval": 38.46153846153846
         },
         "target": {
          "index": 31,
          "label": "h1,20",
          "label_display": "none",
          "px": 452.51111853060013,
          "py": 433.8924336038177,
          "shape": "circle",
          "shape_attrs": {
           "r": 15
          },
          "value": null,
          "weight": 22,
          "x": 452.53198152903235,
          "xval": 40,
          "y": 433.96970392214837,
          "yval": 4.761904761904762
         },
         "value": 1
        },
        {
         "source": {
          "index": 8,
          "label": "x9",
          "label_display": "none",
          "px": 358.8291461241985,
          "py": 449.07773963324667,
          "shape": "circle",
          "shape_attrs": {
           "r": 15
          },
          "value": null,
          "weight": 20,
          "x": 358.8271265687761,
          "xval": 20,
          "y": 449.1618443720512,
          "yval": 30.76923076923077
         },
         "target": {
          "fixed": 0,
          "index": 12,
          "label": "h1,1",
          "label_display": "none",
          "px": 438.30653773859984,
          "py": 377.7211018453636,
          "shape": "circle",
          "shape_attrs": {
           "r": 15
          },
          "value": null,
          "weight": 22,
          "x": 438.30653773859984,
          "xval": 40,
          "y": 377.7211018453636,
          "yval": 95.23809523809524
         },
         "value": 1
        },
        {
         "source": {
          "index": 8,
          "label": "x9",
          "label_display": "none",
          "px": 358.8291461241985,
          "py": 449.07773963324667,
          "shape": "circle",
          "shape_attrs": {
           "r": 15
          },
          "value": null,
          "weight": 20,
          "x": 358.8271265687761,
          "xval": 20,
          "y": 449.1618443720512,
          "yval": 30.76923076923077
         },
         "target": {
          "fixed": 0,
          "index": 13,
          "label": "h1,2",
          "label_display": "none",
          "px": 445.4830710949258,
          "py": 407.40580969271514,
          "shape": "circle",
          "shape_attrs": {
           "r": 15
          },
          "value": null,
          "weight": 22,
          "x": 445.4830710949258,
          "xval": 40,
          "y": 407.40580969271514,
          "yval": 90.47619047619048
         },
         "value": 1
        },
        {
         "source": {
          "index": 8,
          "label": "x9",
          "label_display": "none",
          "px": 358.8291461241985,
          "py": 449.07773963324667,
          "shape": "circle",
          "shape_attrs": {
           "r": 15
          },
          "value": null,
          "weight": 20,
          "x": 358.8271265687761,
          "xval": 20,
          "y": 449.1618443720512,
          "yval": 30.76923076923077
         },
         "target": {
          "fixed": 0,
          "index": 14,
          "label": "h1,3",
          "label_display": "none",
          "px": 440.09389561772593,
          "py": 384.9913547714818,
          "shape": "circle",
          "shape_attrs": {
           "r": 15
          },
          "value": null,
          "weight": 22,
          "x": 440.09389561772593,
          "xval": 40,
          "y": 384.9913547714818,
          "yval": 85.71428571428571
         },
         "value": 1
        },
        {
         "source": {
          "index": 8,
          "label": "x9",
          "label_display": "none",
          "px": 358.8291461241985,
          "py": 449.07773963324667,
          "shape": "circle",
          "shape_attrs": {
           "r": 15
          },
          "value": null,
          "weight": 20,
          "x": 358.8271265687761,
          "xval": 20,
          "y": 449.1618443720512,
          "yval": 30.76923076923077
         },
         "target": {
          "index": 15,
          "label": "h1,4",
          "label_display": "none",
          "px": 442.03390585799406,
          "py": 393.18624031821906,
          "shape": "circle",
          "shape_attrs": {
           "r": 15
          },
          "value": null,
          "weight": 22,
          "x": 442.0252187451049,
          "xval": 40,
          "y": 393.18099926055953,
          "yval": 80.95238095238095
         },
         "value": 1
        },
        {
         "source": {
          "index": 8,
          "label": "x9",
          "label_display": "none",
          "px": 358.8291461241985,
          "py": 449.07773963324667,
          "shape": "circle",
          "shape_attrs": {
           "r": 15
          },
          "value": null,
          "weight": 20,
          "x": 358.8271265687761,
          "xval": 20,
          "y": 449.1618443720512,
          "yval": 30.76923076923077
         },
         "target": {
          "fixed": 0,
          "index": 16,
          "label": "h1,5",
          "label_display": "none",
          "px": 439.3038323400098,
          "py": 381.26898657152276,
          "shape": "circle",
          "shape_attrs": {
           "r": 15
          },
          "value": null,
          "weight": 22,
          "x": 439.3038323400098,
          "xval": 40,
          "y": 381.26898657152276,
          "yval": 76.19047619047619
         },
         "value": 1
        },
        {
         "source": {
          "index": 8,
          "label": "x9",
          "label_display": "none",
          "px": 358.8291461241985,
          "py": 449.07773963324667,
          "shape": "circle",
          "shape_attrs": {
           "r": 15
          },
          "value": null,
          "weight": 20,
          "x": 358.8271265687761,
          "xval": 20,
          "y": 449.1618443720512,
          "yval": 30.76923076923077
         },
         "target": {
          "index": 17,
          "label": "h1,6",
          "label_display": "none",
          "px": 436.1763853376012,
          "py": 367.0391092191069,
          "shape": "circle",
          "shape_attrs": {
           "r": 15
          },
          "value": null,
          "weight": 22,
          "x": 436.1319756129927,
          "xval": 40,
          "y": 366.9193372066237,
          "yval": 71.42857142857143
         },
         "value": 1
        },
        {
         "source": {
          "index": 8,
          "label": "x9",
          "label_display": "none",
          "px": 358.8291461241985,
          "py": 449.07773963324667,
          "shape": "circle",
          "shape_attrs": {
           "r": 15
          },
          "value": null,
          "weight": 20,
          "x": 358.8271265687761,
          "xval": 20,
          "y": 449.1618443720512,
          "yval": 30.76923076923077
         },
         "target": {
          "index": 18,
          "label": "h1,7",
          "label_display": "none",
          "px": 444.28747307460884,
          "py": 402.5857074144147,
          "shape": "circle",
          "shape_attrs": {
           "r": 15
          },
          "value": null,
          "weight": 22,
          "x": 444.28189322820117,
          "xval": 40,
          "y": 402.5864217166488,
          "yval": 66.66666666666667
         },
         "value": 1
        },
        {
         "source": {
          "index": 8,
          "label": "x9",
          "label_display": "none",
          "px": 358.8291461241985,
          "py": 449.07773963324667,
          "shape": "circle",
          "shape_attrs": {
           "r": 15
          },
          "value": null,
          "weight": 20,
          "x": 358.8271265687761,
          "xval": 20,
          "y": 449.1618443720512,
          "yval": 30.76923076923077
         },
         "target": {
          "index": 19,
          "label": "h1,8",
          "label_display": "none",
          "px": 436.96694163354766,
          "py": 370.835219648978,
          "shape": "circle",
          "shape_attrs": {
           "r": 15
          },
          "value": null,
          "weight": 22,
          "x": 436.93081668870667,
          "xval": 40,
          "y": 370.7487234007221,
          "yval": 61.904761904761905
         },
         "value": 1
        },
        {
         "source": {
          "index": 8,
          "label": "x9",
          "label_display": "none",
          "px": 358.8291461241985,
          "py": 449.07773963324667,
          "shape": "circle",
          "shape_attrs": {
           "r": 15
          },
          "value": null,
          "weight": 20,
          "x": 358.8271265687761,
          "xval": 20,
          "y": 449.1618443720512,
          "yval": 30.76923076923077
         },
         "target": {
          "index": 20,
          "label": "h1,9",
          "label_display": "none",
          "px": 443.12903262452926,
          "py": 397.77183731760726,
          "shape": "circle",
          "shape_attrs": {
           "r": 15
          },
          "value": null,
          "weight": 22,
          "x": 443.1225250371738,
          "xval": 40,
          "y": 397.77048960247726,
          "yval": 57.14285714285714
         },
         "value": 1
        },
        {
         "source": {
          "index": 8,
          "label": "x9",
          "label_display": "none",
          "px": 358.8291461241985,
          "py": 449.07773963324667,
          "shape": "circle",
          "shape_attrs": {
           "r": 15
          },
          "value": null,
          "weight": 20,
          "x": 358.8271265687761,
          "xval": 20,
          "y": 449.1618443720512,
          "yval": 30.76923076923077
         },
         "target": {
          "index": 21,
          "label": "h1,10",
          "label_display": "none",
          "px": 453.47719733511025,
          "py": 437.1791317957166,
          "shape": "circle",
          "shape_attrs": {
           "r": 15
          },
          "value": null,
          "weight": 22,
          "x": 453.50705008596486,
          "xval": 40,
          "y": 437.28186603254966,
          "yval": 52.38095238095238
         },
         "value": 1
        },
        {
         "source": {
          "index": 8,
          "label": "x9",
          "label_display": "none",
          "px": 358.8291461241985,
          "py": 449.07773963324667,
          "shape": "circle",
          "shape_attrs": {
           "r": 15
          },
          "value": null,
          "weight": 20,
          "x": 358.8271265687761,
          "xval": 20,
          "y": 449.1618443720512,
          "yval": 30.76923076923077
         },
         "target": {
          "index": 22,
          "label": "h1,11",
          "label_display": "none",
          "px": 450.6931880317312,
          "py": 427.36854915169533,
          "shape": "circle",
          "shape_attrs": {
           "r": 15
          },
          "value": null,
          "weight": 22,
          "x": 450.70224459711284,
          "xval": 40,
          "y": 427.40707742900895,
          "yval": 47.61904761904762
         },
         "value": 1
        },
        {
         "source": {
          "index": 8,
          "label": "x9",
          "label_display": "none",
          "px": 358.8291461241985,
          "py": 449.07773963324667,
          "shape": "circle",
          "shape_attrs": {
           "r": 15
          },
          "value": null,
          "weight": 20,
          "x": 358.8271265687761,
          "xval": 20,
          "y": 449.1618443720512,
          "yval": 30.76923076923077
         },
         "target": {
          "index": 23,
          "label": "h1,12",
          "label_display": "none",
          "px": 451.616956869591,
          "py": 430.68399636795544,
          "shape": "circle",
          "shape_attrs": {
           "r": 15
          },
          "value": null,
          "weight": 22,
          "x": 451.6308613454441,
          "xval": 40,
          "y": 430.73607807474326,
          "yval": 42.857142857142854
         },
         "value": 1
        },
        {
         "source": {
          "index": 8,
          "label": "x9",
          "label_display": "none",
          "px": 358.8291461241985,
          "py": 449.07773963324667,
          "shape": "circle",
          "shape_attrs": {
           "r": 15
          },
          "value": null,
          "weight": 20,
          "x": 358.8271265687761,
          "xval": 20,
          "y": 449.1618443720512,
          "yval": 30.76923076923077
         },
         "target": {
          "index": 24,
          "label": "h1,13",
          "label_display": "none",
          "px": 449.7701933541918,
          "py": 423.95395938325044,
          "shape": "circle",
          "shape_attrs": {
           "r": 15
          },
          "value": null,
          "weight": 22,
          "x": 449.77543161498545,
          "xval": 40,
          "y": 423.979666438766,
          "yval": 38.095238095238095
         },
         "value": 1
        },
        {
         "source": {
          "index": 8,
          "label": "x9",
          "label_display": "none",
          "px": 358.8291461241985,
          "py": 449.07773963324667,
          "shape": "circle",
          "shape_attrs": {
           "r": 15
          },
          "value": null,
          "weight": 20,
          "x": 358.8271265687761,
          "xval": 20,
          "y": 449.1618443720512,
          "yval": 30.76923076923077
         },
         "target": {
          "index": 25,
          "label": "h1,14",
          "label_display": "none",
          "px": 447.77652249109667,
          "py": 416.4027794386295,
          "shape": "circle",
          "shape_attrs": {
           "r": 15
          },
          "value": null,
          "weight": 22,
          "x": 447.77533228674633,
          "xval": 40,
          "y": 416.4089800756498,
          "yval": 33.333333333333336
         },
         "value": 1
        },
        {
         "source": {
          "index": 8,
          "label": "x9",
          "label_display": "none",
          "px": 358.8291461241985,
          "py": 449.07773963324667,
          "shape": "circle",
          "shape_attrs": {
           "r": 15
          },
          "value": null,
          "weight": 20,
          "x": 358.8271265687761,
          "xval": 20,
          "y": 449.1618443720512,
          "yval": 30.76923076923077
         },
         "target": {
          "fixed": 0,
          "index": 26,
          "label": "h1,15",
          "label_display": "none",
          "px": 437.84986949367203,
          "py": 374.25132654913494,
          "shape": "circle",
          "shape_attrs": {
           "r": 15
          },
          "value": null,
          "weight": 22,
          "x": 437.84986949367203,
          "xval": 40,
          "y": 374.25132654913494,
          "yval": 28.57142857142857
         },
         "value": 1
        },
        {
         "source": {
          "index": 8,
          "label": "x9",
          "label_display": "none",
          "px": 358.8291461241985,
          "py": 449.07773963324667,
          "shape": "circle",
          "shape_attrs": {
           "r": 15
          },
          "value": null,
          "weight": 20,
          "x": 358.8271265687761,
          "xval": 20,
          "y": 449.1618443720512,
          "yval": 30.76923076923077
         },
         "target": {
          "index": 27,
          "label": "h1,16",
          "label_display": "none",
          "px": 441.03312194188425,
          "py": 388.9301428056495,
          "shape": "circle",
          "shape_attrs": {
           "r": 15
          },
          "value": null,
          "weight": 22,
          "x": 441.0223311760983,
          "xval": 40,
          "y": 388.9201492326303,
          "yval": 23.80952380952381
         },
         "value": 1
        },
        {
         "source": {
          "index": 8,
          "label": "x9",
          "label_display": "none",
          "px": 358.8291461241985,
          "py": 449.07773963324667,
          "shape": "circle",
          "shape_attrs": {
           "r": 15
          },
          "value": null,
          "weight": 20,
          "x": 358.8271265687761,
          "xval": 20,
          "y": 449.1618443720512,
          "yval": 30.76923076923077
         },
         "target": {
          "index": 28,
          "label": "h1,17",
          "label_display": "none",
          "px": 448.80878786875905,
          "py": 420.35138343623464,
          "shape": "circle",
          "shape_attrs": {
           "r": 15
          },
          "value": null,
          "weight": 22,
          "x": 448.8091799805161,
          "xval": 40,
          "y": 420.3610019925185,
          "yval": 19.047619047619047
         },
         "value": 1
        },
        {
         "source": {
          "index": 8,
          "label": "x9",
          "label_display": "none",
          "px": 358.8291461241985,
          "py": 449.07773963324667,
          "shape": "circle",
          "shape_attrs": {
           "r": 15
          },
          "value": null,
          "weight": 20,
          "x": 358.8271265687761,
          "xval": 20,
          "y": 449.1618443720512,
          "yval": 30.76923076923077
         },
         "target": {
          "index": 29,
          "label": "h1,18",
          "label_display": "none",
          "px": 446.66133336839465,
          "py": 412.06746080603597,
          "shape": "circle",
          "shape_attrs": {
           "r": 15
          },
          "value": null,
          "weight": 22,
          "x": 446.65836227806636,
          "xval": 40,
          "y": 412.06979862465556,
          "yval": 14.285714285714285
         },
         "value": 1
        },
        {
         "source": {
          "index": 8,
          "label": "x9",
          "label_display": "none",
          "px": 358.8291461241985,
          "py": 449.07773963324667,
          "shape": "circle",
          "shape_attrs": {
           "r": 15
          },
          "value": null,
          "weight": 20,
          "x": 358.8271265687761,
          "xval": 20,
          "y": 449.1618443720512,
          "yval": 30.76923076923077
         },
         "target": {
          "index": 30,
          "label": "h1,19",
          "label_display": "none",
          "px": 454.5331839788234,
          "py": 440.7353981371751,
          "shape": "circle",
          "shape_attrs": {
           "r": 15
          },
          "value": null,
          "weight": 22,
          "x": 454.57338727966345,
          "xval": 40,
          "y": 440.870029182474,
          "yval": 9.523809523809524
         },
         "value": 1
        },
        {
         "source": {
          "index": 8,
          "label": "x9",
          "label_display": "none",
          "px": 358.8291461241985,
          "py": 449.07773963324667,
          "shape": "circle",
          "shape_attrs": {
           "r": 15
          },
          "value": null,
          "weight": 20,
          "x": 358.8271265687761,
          "xval": 20,
          "y": 449.1618443720512,
          "yval": 30.76923076923077
         },
         "target": {
          "index": 31,
          "label": "h1,20",
          "label_display": "none",
          "px": 452.51111853060013,
          "py": 433.8924336038177,
          "shape": "circle",
          "shape_attrs": {
           "r": 15
          },
          "value": null,
          "weight": 22,
          "x": 452.53198152903235,
          "xval": 40,
          "y": 433.96970392214837,
          "yval": 4.761904761904762
         },
         "value": 1
        },
        {
         "source": {
          "index": 9,
          "label": "x10",
          "label_display": "none",
          "px": 350.2348409036163,
          "py": 424.5967295664436,
          "shape": "circle",
          "shape_attrs": {
           "r": 15
          },
          "value": null,
          "weight": 20,
          "x": 350.1955683056573,
          "xval": 20,
          "y": 424.60863574141325,
          "yval": 23.076923076923077
         },
         "target": {
          "fixed": 0,
          "index": 12,
          "label": "h1,1",
          "label_display": "none",
          "px": 438.30653773859984,
          "py": 377.7211018453636,
          "shape": "circle",
          "shape_attrs": {
           "r": 15
          },
          "value": null,
          "weight": 22,
          "x": 438.30653773859984,
          "xval": 40,
          "y": 377.7211018453636,
          "yval": 95.23809523809524
         },
         "value": 1
        },
        {
         "source": {
          "index": 9,
          "label": "x10",
          "label_display": "none",
          "px": 350.2348409036163,
          "py": 424.5967295664436,
          "shape": "circle",
          "shape_attrs": {
           "r": 15
          },
          "value": null,
          "weight": 20,
          "x": 350.1955683056573,
          "xval": 20,
          "y": 424.60863574141325,
          "yval": 23.076923076923077
         },
         "target": {
          "fixed": 0,
          "index": 13,
          "label": "h1,2",
          "label_display": "none",
          "px": 445.4830710949258,
          "py": 407.40580969271514,
          "shape": "circle",
          "shape_attrs": {
           "r": 15
          },
          "value": null,
          "weight": 22,
          "x": 445.4830710949258,
          "xval": 40,
          "y": 407.40580969271514,
          "yval": 90.47619047619048
         },
         "value": 1
        },
        {
         "source": {
          "index": 9,
          "label": "x10",
          "label_display": "none",
          "px": 350.2348409036163,
          "py": 424.5967295664436,
          "shape": "circle",
          "shape_attrs": {
           "r": 15
          },
          "value": null,
          "weight": 20,
          "x": 350.1955683056573,
          "xval": 20,
          "y": 424.60863574141325,
          "yval": 23.076923076923077
         },
         "target": {
          "fixed": 0,
          "index": 14,
          "label": "h1,3",
          "label_display": "none",
          "px": 440.09389561772593,
          "py": 384.9913547714818,
          "shape": "circle",
          "shape_attrs": {
           "r": 15
          },
          "value": null,
          "weight": 22,
          "x": 440.09389561772593,
          "xval": 40,
          "y": 384.9913547714818,
          "yval": 85.71428571428571
         },
         "value": 1
        },
        {
         "source": {
          "index": 9,
          "label": "x10",
          "label_display": "none",
          "px": 350.2348409036163,
          "py": 424.5967295664436,
          "shape": "circle",
          "shape_attrs": {
           "r": 15
          },
          "value": null,
          "weight": 20,
          "x": 350.1955683056573,
          "xval": 20,
          "y": 424.60863574141325,
          "yval": 23.076923076923077
         },
         "target": {
          "index": 15,
          "label": "h1,4",
          "label_display": "none",
          "px": 442.03390585799406,
          "py": 393.18624031821906,
          "shape": "circle",
          "shape_attrs": {
           "r": 15
          },
          "value": null,
          "weight": 22,
          "x": 442.0252187451049,
          "xval": 40,
          "y": 393.18099926055953,
          "yval": 80.95238095238095
         },
         "value": 1
        },
        {
         "source": {
          "index": 9,
          "label": "x10",
          "label_display": "none",
          "px": 350.2348409036163,
          "py": 424.5967295664436,
          "shape": "circle",
          "shape_attrs": {
           "r": 15
          },
          "value": null,
          "weight": 20,
          "x": 350.1955683056573,
          "xval": 20,
          "y": 424.60863574141325,
          "yval": 23.076923076923077
         },
         "target": {
          "fixed": 0,
          "index": 16,
          "label": "h1,5",
          "label_display": "none",
          "px": 439.3038323400098,
          "py": 381.26898657152276,
          "shape": "circle",
          "shape_attrs": {
           "r": 15
          },
          "value": null,
          "weight": 22,
          "x": 439.3038323400098,
          "xval": 40,
          "y": 381.26898657152276,
          "yval": 76.19047619047619
         },
         "value": 1
        },
        {
         "source": {
          "index": 9,
          "label": "x10",
          "label_display": "none",
          "px": 350.2348409036163,
          "py": 424.5967295664436,
          "shape": "circle",
          "shape_attrs": {
           "r": 15
          },
          "value": null,
          "weight": 20,
          "x": 350.1955683056573,
          "xval": 20,
          "y": 424.60863574141325,
          "yval": 23.076923076923077
         },
         "target": {
          "index": 17,
          "label": "h1,6",
          "label_display": "none",
          "px": 436.1763853376012,
          "py": 367.0391092191069,
          "shape": "circle",
          "shape_attrs": {
           "r": 15
          },
          "value": null,
          "weight": 22,
          "x": 436.1319756129927,
          "xval": 40,
          "y": 366.9193372066237,
          "yval": 71.42857142857143
         },
         "value": 1
        },
        {
         "source": {
          "index": 9,
          "label": "x10",
          "label_display": "none",
          "px": 350.2348409036163,
          "py": 424.5967295664436,
          "shape": "circle",
          "shape_attrs": {
           "r": 15
          },
          "value": null,
          "weight": 20,
          "x": 350.1955683056573,
          "xval": 20,
          "y": 424.60863574141325,
          "yval": 23.076923076923077
         },
         "target": {
          "index": 18,
          "label": "h1,7",
          "label_display": "none",
          "px": 444.28747307460884,
          "py": 402.5857074144147,
          "shape": "circle",
          "shape_attrs": {
           "r": 15
          },
          "value": null,
          "weight": 22,
          "x": 444.28189322820117,
          "xval": 40,
          "y": 402.5864217166488,
          "yval": 66.66666666666667
         },
         "value": 1
        },
        {
         "source": {
          "index": 9,
          "label": "x10",
          "label_display": "none",
          "px": 350.2348409036163,
          "py": 424.5967295664436,
          "shape": "circle",
          "shape_attrs": {
           "r": 15
          },
          "value": null,
          "weight": 20,
          "x": 350.1955683056573,
          "xval": 20,
          "y": 424.60863574141325,
          "yval": 23.076923076923077
         },
         "target": {
          "index": 19,
          "label": "h1,8",
          "label_display": "none",
          "px": 436.96694163354766,
          "py": 370.835219648978,
          "shape": "circle",
          "shape_attrs": {
           "r": 15
          },
          "value": null,
          "weight": 22,
          "x": 436.93081668870667,
          "xval": 40,
          "y": 370.7487234007221,
          "yval": 61.904761904761905
         },
         "value": 1
        },
        {
         "source": {
          "index": 9,
          "label": "x10",
          "label_display": "none",
          "px": 350.2348409036163,
          "py": 424.5967295664436,
          "shape": "circle",
          "shape_attrs": {
           "r": 15
          },
          "value": null,
          "weight": 20,
          "x": 350.1955683056573,
          "xval": 20,
          "y": 424.60863574141325,
          "yval": 23.076923076923077
         },
         "target": {
          "index": 20,
          "label": "h1,9",
          "label_display": "none",
          "px": 443.12903262452926,
          "py": 397.77183731760726,
          "shape": "circle",
          "shape_attrs": {
           "r": 15
          },
          "value": null,
          "weight": 22,
          "x": 443.1225250371738,
          "xval": 40,
          "y": 397.77048960247726,
          "yval": 57.14285714285714
         },
         "value": 1
        },
        {
         "source": {
          "index": 9,
          "label": "x10",
          "label_display": "none",
          "px": 350.2348409036163,
          "py": 424.5967295664436,
          "shape": "circle",
          "shape_attrs": {
           "r": 15
          },
          "value": null,
          "weight": 20,
          "x": 350.1955683056573,
          "xval": 20,
          "y": 424.60863574141325,
          "yval": 23.076923076923077
         },
         "target": {
          "index": 21,
          "label": "h1,10",
          "label_display": "none",
          "px": 453.47719733511025,
          "py": 437.1791317957166,
          "shape": "circle",
          "shape_attrs": {
           "r": 15
          },
          "value": null,
          "weight": 22,
          "x": 453.50705008596486,
          "xval": 40,
          "y": 437.28186603254966,
          "yval": 52.38095238095238
         },
         "value": 1
        },
        {
         "source": {
          "index": 9,
          "label": "x10",
          "label_display": "none",
          "px": 350.2348409036163,
          "py": 424.5967295664436,
          "shape": "circle",
          "shape_attrs": {
           "r": 15
          },
          "value": null,
          "weight": 20,
          "x": 350.1955683056573,
          "xval": 20,
          "y": 424.60863574141325,
          "yval": 23.076923076923077
         },
         "target": {
          "index": 22,
          "label": "h1,11",
          "label_display": "none",
          "px": 450.6931880317312,
          "py": 427.36854915169533,
          "shape": "circle",
          "shape_attrs": {
           "r": 15
          },
          "value": null,
          "weight": 22,
          "x": 450.70224459711284,
          "xval": 40,
          "y": 427.40707742900895,
          "yval": 47.61904761904762
         },
         "value": 1
        },
        {
         "source": {
          "index": 9,
          "label": "x10",
          "label_display": "none",
          "px": 350.2348409036163,
          "py": 424.5967295664436,
          "shape": "circle",
          "shape_attrs": {
           "r": 15
          },
          "value": null,
          "weight": 20,
          "x": 350.1955683056573,
          "xval": 20,
          "y": 424.60863574141325,
          "yval": 23.076923076923077
         },
         "target": {
          "index": 23,
          "label": "h1,12",
          "label_display": "none",
          "px": 451.616956869591,
          "py": 430.68399636795544,
          "shape": "circle",
          "shape_attrs": {
           "r": 15
          },
          "value": null,
          "weight": 22,
          "x": 451.6308613454441,
          "xval": 40,
          "y": 430.73607807474326,
          "yval": 42.857142857142854
         },
         "value": 1
        },
        {
         "source": {
          "index": 9,
          "label": "x10",
          "label_display": "none",
          "px": 350.2348409036163,
          "py": 424.5967295664436,
          "shape": "circle",
          "shape_attrs": {
           "r": 15
          },
          "value": null,
          "weight": 20,
          "x": 350.1955683056573,
          "xval": 20,
          "y": 424.60863574141325,
          "yval": 23.076923076923077
         },
         "target": {
          "index": 24,
          "label": "h1,13",
          "label_display": "none",
          "px": 449.7701933541918,
          "py": 423.95395938325044,
          "shape": "circle",
          "shape_attrs": {
           "r": 15
          },
          "value": null,
          "weight": 22,
          "x": 449.77543161498545,
          "xval": 40,
          "y": 423.979666438766,
          "yval": 38.095238095238095
         },
         "value": 1
        },
        {
         "source": {
          "index": 9,
          "label": "x10",
          "label_display": "none",
          "px": 350.2348409036163,
          "py": 424.5967295664436,
          "shape": "circle",
          "shape_attrs": {
           "r": 15
          },
          "value": null,
          "weight": 20,
          "x": 350.1955683056573,
          "xval": 20,
          "y": 424.60863574141325,
          "yval": 23.076923076923077
         },
         "target": {
          "index": 25,
          "label": "h1,14",
          "label_display": "none",
          "px": 447.77652249109667,
          "py": 416.4027794386295,
          "shape": "circle",
          "shape_attrs": {
           "r": 15
          },
          "value": null,
          "weight": 22,
          "x": 447.77533228674633,
          "xval": 40,
          "y": 416.4089800756498,
          "yval": 33.333333333333336
         },
         "value": 1
        },
        {
         "source": {
          "index": 9,
          "label": "x10",
          "label_display": "none",
          "px": 350.2348409036163,
          "py": 424.5967295664436,
          "shape": "circle",
          "shape_attrs": {
           "r": 15
          },
          "value": null,
          "weight": 20,
          "x": 350.1955683056573,
          "xval": 20,
          "y": 424.60863574141325,
          "yval": 23.076923076923077
         },
         "target": {
          "fixed": 0,
          "index": 26,
          "label": "h1,15",
          "label_display": "none",
          "px": 437.84986949367203,
          "py": 374.25132654913494,
          "shape": "circle",
          "shape_attrs": {
           "r": 15
          },
          "value": null,
          "weight": 22,
          "x": 437.84986949367203,
          "xval": 40,
          "y": 374.25132654913494,
          "yval": 28.57142857142857
         },
         "value": 1
        },
        {
         "source": {
          "index": 9,
          "label": "x10",
          "label_display": "none",
          "px": 350.2348409036163,
          "py": 424.5967295664436,
          "shape": "circle",
          "shape_attrs": {
           "r": 15
          },
          "value": null,
          "weight": 20,
          "x": 350.1955683056573,
          "xval": 20,
          "y": 424.60863574141325,
          "yval": 23.076923076923077
         },
         "target": {
          "index": 27,
          "label": "h1,16",
          "label_display": "none",
          "px": 441.03312194188425,
          "py": 388.9301428056495,
          "shape": "circle",
          "shape_attrs": {
           "r": 15
          },
          "value": null,
          "weight": 22,
          "x": 441.0223311760983,
          "xval": 40,
          "y": 388.9201492326303,
          "yval": 23.80952380952381
         },
         "value": 1
        },
        {
         "source": {
          "index": 9,
          "label": "x10",
          "label_display": "none",
          "px": 350.2348409036163,
          "py": 424.5967295664436,
          "shape": "circle",
          "shape_attrs": {
           "r": 15
          },
          "value": null,
          "weight": 20,
          "x": 350.1955683056573,
          "xval": 20,
          "y": 424.60863574141325,
          "yval": 23.076923076923077
         },
         "target": {
          "index": 28,
          "label": "h1,17",
          "label_display": "none",
          "px": 448.80878786875905,
          "py": 420.35138343623464,
          "shape": "circle",
          "shape_attrs": {
           "r": 15
          },
          "value": null,
          "weight": 22,
          "x": 448.8091799805161,
          "xval": 40,
          "y": 420.3610019925185,
          "yval": 19.047619047619047
         },
         "value": 1
        },
        {
         "source": {
          "index": 9,
          "label": "x10",
          "label_display": "none",
          "px": 350.2348409036163,
          "py": 424.5967295664436,
          "shape": "circle",
          "shape_attrs": {
           "r": 15
          },
          "value": null,
          "weight": 20,
          "x": 350.1955683056573,
          "xval": 20,
          "y": 424.60863574141325,
          "yval": 23.076923076923077
         },
         "target": {
          "index": 29,
          "label": "h1,18",
          "label_display": "none",
          "px": 446.66133336839465,
          "py": 412.06746080603597,
          "shape": "circle",
          "shape_attrs": {
           "r": 15
          },
          "value": null,
          "weight": 22,
          "x": 446.65836227806636,
          "xval": 40,
          "y": 412.06979862465556,
          "yval": 14.285714285714285
         },
         "value": 1
        },
        {
         "source": {
          "index": 9,
          "label": "x10",
          "label_display": "none",
          "px": 350.2348409036163,
          "py": 424.5967295664436,
          "shape": "circle",
          "shape_attrs": {
           "r": 15
          },
          "value": null,
          "weight": 20,
          "x": 350.1955683056573,
          "xval": 20,
          "y": 424.60863574141325,
          "yval": 23.076923076923077
         },
         "target": {
          "index": 30,
          "label": "h1,19",
          "label_display": "none",
          "px": 454.5331839788234,
          "py": 440.7353981371751,
          "shape": "circle",
          "shape_attrs": {
           "r": 15
          },
          "value": null,
          "weight": 22,
          "x": 454.57338727966345,
          "xval": 40,
          "y": 440.870029182474,
          "yval": 9.523809523809524
         },
         "value": 1
        },
        {
         "source": {
          "index": 9,
          "label": "x10",
          "label_display": "none",
          "px": 350.2348409036163,
          "py": 424.5967295664436,
          "shape": "circle",
          "shape_attrs": {
           "r": 15
          },
          "value": null,
          "weight": 20,
          "x": 350.1955683056573,
          "xval": 20,
          "y": 424.60863574141325,
          "yval": 23.076923076923077
         },
         "target": {
          "index": 31,
          "label": "h1,20",
          "label_display": "none",
          "px": 452.51111853060013,
          "py": 433.8924336038177,
          "shape": "circle",
          "shape_attrs": {
           "r": 15
          },
          "value": null,
          "weight": 22,
          "x": 452.53198152903235,
          "xval": 40,
          "y": 433.96970392214837,
          "yval": 4.761904761904762
         },
         "value": 1
        },
        {
         "source": {
          "index": 10,
          "label": "x11",
          "label_display": "none",
          "px": 351.34055233776166,
          "py": 429.23557739439275,
          "shape": "circle",
          "shape_attrs": {
           "r": 15
          },
          "value": null,
          "weight": 20,
          "x": 351.3057445861824,
          "xval": 20,
          "y": 429.26248221265405,
          "yval": 15.384615384615385
         },
         "target": {
          "fixed": 0,
          "index": 12,
          "label": "h1,1",
          "label_display": "none",
          "px": 438.30653773859984,
          "py": 377.7211018453636,
          "shape": "circle",
          "shape_attrs": {
           "r": 15
          },
          "value": null,
          "weight": 22,
          "x": 438.30653773859984,
          "xval": 40,
          "y": 377.7211018453636,
          "yval": 95.23809523809524
         },
         "value": 1
        },
        {
         "source": {
          "index": 10,
          "label": "x11",
          "label_display": "none",
          "px": 351.34055233776166,
          "py": 429.23557739439275,
          "shape": "circle",
          "shape_attrs": {
           "r": 15
          },
          "value": null,
          "weight": 20,
          "x": 351.3057445861824,
          "xval": 20,
          "y": 429.26248221265405,
          "yval": 15.384615384615385
         },
         "target": {
          "fixed": 0,
          "index": 13,
          "label": "h1,2",
          "label_display": "none",
          "px": 445.4830710949258,
          "py": 407.40580969271514,
          "shape": "circle",
          "shape_attrs": {
           "r": 15
          },
          "value": null,
          "weight": 22,
          "x": 445.4830710949258,
          "xval": 40,
          "y": 407.40580969271514,
          "yval": 90.47619047619048
         },
         "value": 1
        },
        {
         "source": {
          "index": 10,
          "label": "x11",
          "label_display": "none",
          "px": 351.34055233776166,
          "py": 429.23557739439275,
          "shape": "circle",
          "shape_attrs": {
           "r": 15
          },
          "value": null,
          "weight": 20,
          "x": 351.3057445861824,
          "xval": 20,
          "y": 429.26248221265405,
          "yval": 15.384615384615385
         },
         "target": {
          "fixed": 0,
          "index": 14,
          "label": "h1,3",
          "label_display": "none",
          "px": 440.09389561772593,
          "py": 384.9913547714818,
          "shape": "circle",
          "shape_attrs": {
           "r": 15
          },
          "value": null,
          "weight": 22,
          "x": 440.09389561772593,
          "xval": 40,
          "y": 384.9913547714818,
          "yval": 85.71428571428571
         },
         "value": 1
        },
        {
         "source": {
          "index": 10,
          "label": "x11",
          "label_display": "none",
          "px": 351.34055233776166,
          "py": 429.23557739439275,
          "shape": "circle",
          "shape_attrs": {
           "r": 15
          },
          "value": null,
          "weight": 20,
          "x": 351.3057445861824,
          "xval": 20,
          "y": 429.26248221265405,
          "yval": 15.384615384615385
         },
         "target": {
          "index": 15,
          "label": "h1,4",
          "label_display": "none",
          "px": 442.03390585799406,
          "py": 393.18624031821906,
          "shape": "circle",
          "shape_attrs": {
           "r": 15
          },
          "value": null,
          "weight": 22,
          "x": 442.0252187451049,
          "xval": 40,
          "y": 393.18099926055953,
          "yval": 80.95238095238095
         },
         "value": 1
        },
        {
         "source": {
          "index": 10,
          "label": "x11",
          "label_display": "none",
          "px": 351.34055233776166,
          "py": 429.23557739439275,
          "shape": "circle",
          "shape_attrs": {
           "r": 15
          },
          "value": null,
          "weight": 20,
          "x": 351.3057445861824,
          "xval": 20,
          "y": 429.26248221265405,
          "yval": 15.384615384615385
         },
         "target": {
          "fixed": 0,
          "index": 16,
          "label": "h1,5",
          "label_display": "none",
          "px": 439.3038323400098,
          "py": 381.26898657152276,
          "shape": "circle",
          "shape_attrs": {
           "r": 15
          },
          "value": null,
          "weight": 22,
          "x": 439.3038323400098,
          "xval": 40,
          "y": 381.26898657152276,
          "yval": 76.19047619047619
         },
         "value": 1
        },
        {
         "source": {
          "index": 10,
          "label": "x11",
          "label_display": "none",
          "px": 351.34055233776166,
          "py": 429.23557739439275,
          "shape": "circle",
          "shape_attrs": {
           "r": 15
          },
          "value": null,
          "weight": 20,
          "x": 351.3057445861824,
          "xval": 20,
          "y": 429.26248221265405,
          "yval": 15.384615384615385
         },
         "target": {
          "index": 17,
          "label": "h1,6",
          "label_display": "none",
          "px": 436.1763853376012,
          "py": 367.0391092191069,
          "shape": "circle",
          "shape_attrs": {
           "r": 15
          },
          "value": null,
          "weight": 22,
          "x": 436.1319756129927,
          "xval": 40,
          "y": 366.9193372066237,
          "yval": 71.42857142857143
         },
         "value": 1
        },
        {
         "source": {
          "index": 10,
          "label": "x11",
          "label_display": "none",
          "px": 351.34055233776166,
          "py": 429.23557739439275,
          "shape": "circle",
          "shape_attrs": {
           "r": 15
          },
          "value": null,
          "weight": 20,
          "x": 351.3057445861824,
          "xval": 20,
          "y": 429.26248221265405,
          "yval": 15.384615384615385
         },
         "target": {
          "index": 18,
          "label": "h1,7",
          "label_display": "none",
          "px": 444.28747307460884,
          "py": 402.5857074144147,
          "shape": "circle",
          "shape_attrs": {
           "r": 15
          },
          "value": null,
          "weight": 22,
          "x": 444.28189322820117,
          "xval": 40,
          "y": 402.5864217166488,
          "yval": 66.66666666666667
         },
         "value": 1
        },
        {
         "source": {
          "index": 10,
          "label": "x11",
          "label_display": "none",
          "px": 351.34055233776166,
          "py": 429.23557739439275,
          "shape": "circle",
          "shape_attrs": {
           "r": 15
          },
          "value": null,
          "weight": 20,
          "x": 351.3057445861824,
          "xval": 20,
          "y": 429.26248221265405,
          "yval": 15.384615384615385
         },
         "target": {
          "index": 19,
          "label": "h1,8",
          "label_display": "none",
          "px": 436.96694163354766,
          "py": 370.835219648978,
          "shape": "circle",
          "shape_attrs": {
           "r": 15
          },
          "value": null,
          "weight": 22,
          "x": 436.93081668870667,
          "xval": 40,
          "y": 370.7487234007221,
          "yval": 61.904761904761905
         },
         "value": 1
        },
        {
         "source": {
          "index": 10,
          "label": "x11",
          "label_display": "none",
          "px": 351.34055233776166,
          "py": 429.23557739439275,
          "shape": "circle",
          "shape_attrs": {
           "r": 15
          },
          "value": null,
          "weight": 20,
          "x": 351.3057445861824,
          "xval": 20,
          "y": 429.26248221265405,
          "yval": 15.384615384615385
         },
         "target": {
          "index": 20,
          "label": "h1,9",
          "label_display": "none",
          "px": 443.12903262452926,
          "py": 397.77183731760726,
          "shape": "circle",
          "shape_attrs": {
           "r": 15
          },
          "value": null,
          "weight": 22,
          "x": 443.1225250371738,
          "xval": 40,
          "y": 397.77048960247726,
          "yval": 57.14285714285714
         },
         "value": 1
        },
        {
         "source": {
          "index": 10,
          "label": "x11",
          "label_display": "none",
          "px": 351.34055233776166,
          "py": 429.23557739439275,
          "shape": "circle",
          "shape_attrs": {
           "r": 15
          },
          "value": null,
          "weight": 20,
          "x": 351.3057445861824,
          "xval": 20,
          "y": 429.26248221265405,
          "yval": 15.384615384615385
         },
         "target": {
          "index": 21,
          "label": "h1,10",
          "label_display": "none",
          "px": 453.47719733511025,
          "py": 437.1791317957166,
          "shape": "circle",
          "shape_attrs": {
           "r": 15
          },
          "value": null,
          "weight": 22,
          "x": 453.50705008596486,
          "xval": 40,
          "y": 437.28186603254966,
          "yval": 52.38095238095238
         },
         "value": 1
        },
        {
         "source": {
          "index": 10,
          "label": "x11",
          "label_display": "none",
          "px": 351.34055233776166,
          "py": 429.23557739439275,
          "shape": "circle",
          "shape_attrs": {
           "r": 15
          },
          "value": null,
          "weight": 20,
          "x": 351.3057445861824,
          "xval": 20,
          "y": 429.26248221265405,
          "yval": 15.384615384615385
         },
         "target": {
          "index": 22,
          "label": "h1,11",
          "label_display": "none",
          "px": 450.6931880317312,
          "py": 427.36854915169533,
          "shape": "circle",
          "shape_attrs": {
           "r": 15
          },
          "value": null,
          "weight": 22,
          "x": 450.70224459711284,
          "xval": 40,
          "y": 427.40707742900895,
          "yval": 47.61904761904762
         },
         "value": 1
        },
        {
         "source": {
          "index": 10,
          "label": "x11",
          "label_display": "none",
          "px": 351.34055233776166,
          "py": 429.23557739439275,
          "shape": "circle",
          "shape_attrs": {
           "r": 15
          },
          "value": null,
          "weight": 20,
          "x": 351.3057445861824,
          "xval": 20,
          "y": 429.26248221265405,
          "yval": 15.384615384615385
         },
         "target": {
          "index": 23,
          "label": "h1,12",
          "label_display": "none",
          "px": 451.616956869591,
          "py": 430.68399636795544,
          "shape": "circle",
          "shape_attrs": {
           "r": 15
          },
          "value": null,
          "weight": 22,
          "x": 451.6308613454441,
          "xval": 40,
          "y": 430.73607807474326,
          "yval": 42.857142857142854
         },
         "value": 1
        },
        {
         "source": {
          "index": 10,
          "label": "x11",
          "label_display": "none",
          "px": 351.34055233776166,
          "py": 429.23557739439275,
          "shape": "circle",
          "shape_attrs": {
           "r": 15
          },
          "value": null,
          "weight": 20,
          "x": 351.3057445861824,
          "xval": 20,
          "y": 429.26248221265405,
          "yval": 15.384615384615385
         },
         "target": {
          "index": 24,
          "label": "h1,13",
          "label_display": "none",
          "px": 449.7701933541918,
          "py": 423.95395938325044,
          "shape": "circle",
          "shape_attrs": {
           "r": 15
          },
          "value": null,
          "weight": 22,
          "x": 449.77543161498545,
          "xval": 40,
          "y": 423.979666438766,
          "yval": 38.095238095238095
         },
         "value": 1
        },
        {
         "source": {
          "index": 10,
          "label": "x11",
          "label_display": "none",
          "px": 351.34055233776166,
          "py": 429.23557739439275,
          "shape": "circle",
          "shape_attrs": {
           "r": 15
          },
          "value": null,
          "weight": 20,
          "x": 351.3057445861824,
          "xval": 20,
          "y": 429.26248221265405,
          "yval": 15.384615384615385
         },
         "target": {
          "index": 25,
          "label": "h1,14",
          "label_display": "none",
          "px": 447.77652249109667,
          "py": 416.4027794386295,
          "shape": "circle",
          "shape_attrs": {
           "r": 15
          },
          "value": null,
          "weight": 22,
          "x": 447.77533228674633,
          "xval": 40,
          "y": 416.4089800756498,
          "yval": 33.333333333333336
         },
         "value": 1
        },
        {
         "source": {
          "index": 10,
          "label": "x11",
          "label_display": "none",
          "px": 351.34055233776166,
          "py": 429.23557739439275,
          "shape": "circle",
          "shape_attrs": {
           "r": 15
          },
          "value": null,
          "weight": 20,
          "x": 351.3057445861824,
          "xval": 20,
          "y": 429.26248221265405,
          "yval": 15.384615384615385
         },
         "target": {
          "fixed": 0,
          "index": 26,
          "label": "h1,15",
          "label_display": "none",
          "px": 437.84986949367203,
          "py": 374.25132654913494,
          "shape": "circle",
          "shape_attrs": {
           "r": 15
          },
          "value": null,
          "weight": 22,
          "x": 437.84986949367203,
          "xval": 40,
          "y": 374.25132654913494,
          "yval": 28.57142857142857
         },
         "value": 1
        },
        {
         "source": {
          "index": 10,
          "label": "x11",
          "label_display": "none",
          "px": 351.34055233776166,
          "py": 429.23557739439275,
          "shape": "circle",
          "shape_attrs": {
           "r": 15
          },
          "value": null,
          "weight": 20,
          "x": 351.3057445861824,
          "xval": 20,
          "y": 429.26248221265405,
          "yval": 15.384615384615385
         },
         "target": {
          "index": 27,
          "label": "h1,16",
          "label_display": "none",
          "px": 441.03312194188425,
          "py": 388.9301428056495,
          "shape": "circle",
          "shape_attrs": {
           "r": 15
          },
          "value": null,
          "weight": 22,
          "x": 441.0223311760983,
          "xval": 40,
          "y": 388.9201492326303,
          "yval": 23.80952380952381
         },
         "value": 1
        },
        {
         "source": {
          "index": 10,
          "label": "x11",
          "label_display": "none",
          "px": 351.34055233776166,
          "py": 429.23557739439275,
          "shape": "circle",
          "shape_attrs": {
           "r": 15
          },
          "value": null,
          "weight": 20,
          "x": 351.3057445861824,
          "xval": 20,
          "y": 429.26248221265405,
          "yval": 15.384615384615385
         },
         "target": {
          "index": 28,
          "label": "h1,17",
          "label_display": "none",
          "px": 448.80878786875905,
          "py": 420.35138343623464,
          "shape": "circle",
          "shape_attrs": {
           "r": 15
          },
          "value": null,
          "weight": 22,
          "x": 448.8091799805161,
          "xval": 40,
          "y": 420.3610019925185,
          "yval": 19.047619047619047
         },
         "value": 1
        },
        {
         "source": {
          "index": 10,
          "label": "x11",
          "label_display": "none",
          "px": 351.34055233776166,
          "py": 429.23557739439275,
          "shape": "circle",
          "shape_attrs": {
           "r": 15
          },
          "value": null,
          "weight": 20,
          "x": 351.3057445861824,
          "xval": 20,
          "y": 429.26248221265405,
          "yval": 15.384615384615385
         },
         "target": {
          "index": 29,
          "label": "h1,18",
          "label_display": "none",
          "px": 446.66133336839465,
          "py": 412.06746080603597,
          "shape": "circle",
          "shape_attrs": {
           "r": 15
          },
          "value": null,
          "weight": 22,
          "x": 446.65836227806636,
          "xval": 40,
          "y": 412.06979862465556,
          "yval": 14.285714285714285
         },
         "value": 1
        },
        {
         "source": {
          "index": 10,
          "label": "x11",
          "label_display": "none",
          "px": 351.34055233776166,
          "py": 429.23557739439275,
          "shape": "circle",
          "shape_attrs": {
           "r": 15
          },
          "value": null,
          "weight": 20,
          "x": 351.3057445861824,
          "xval": 20,
          "y": 429.26248221265405,
          "yval": 15.384615384615385
         },
         "target": {
          "index": 30,
          "label": "h1,19",
          "label_display": "none",
          "px": 454.5331839788234,
          "py": 440.7353981371751,
          "shape": "circle",
          "shape_attrs": {
           "r": 15
          },
          "value": null,
          "weight": 22,
          "x": 454.57338727966345,
          "xval": 40,
          "y": 440.870029182474,
          "yval": 9.523809523809524
         },
         "value": 1
        },
        {
         "source": {
          "index": 10,
          "label": "x11",
          "label_display": "none",
          "px": 351.34055233776166,
          "py": 429.23557739439275,
          "shape": "circle",
          "shape_attrs": {
           "r": 15
          },
          "value": null,
          "weight": 20,
          "x": 351.3057445861824,
          "xval": 20,
          "y": 429.26248221265405,
          "yval": 15.384615384615385
         },
         "target": {
          "index": 31,
          "label": "h1,20",
          "label_display": "none",
          "px": 452.51111853060013,
          "py": 433.8924336038177,
          "shape": "circle",
          "shape_attrs": {
           "r": 15
          },
          "value": null,
          "weight": 22,
          "x": 452.53198152903235,
          "xval": 40,
          "y": 433.96970392214837,
          "yval": 4.761904761904762
         },
         "value": 1
        },
        {
         "source": {
          "index": 11,
          "label": "x12",
          "label_display": "none",
          "px": 352.6686766055288,
          "py": 433.8364505361106,
          "shape": "circle",
          "shape_attrs": {
           "r": 15
          },
          "value": null,
          "weight": 20,
          "x": 352.63949182740373,
          "xval": 20,
          "y": 433.8773686865644,
          "yval": 7.6923076923076925
         },
         "target": {
          "fixed": 0,
          "index": 12,
          "label": "h1,1",
          "label_display": "none",
          "px": 438.30653773859984,
          "py": 377.7211018453636,
          "shape": "circle",
          "shape_attrs": {
           "r": 15
          },
          "value": null,
          "weight": 22,
          "x": 438.30653773859984,
          "xval": 40,
          "y": 377.7211018453636,
          "yval": 95.23809523809524
         },
         "value": 1
        },
        {
         "source": {
          "index": 11,
          "label": "x12",
          "label_display": "none",
          "px": 352.6686766055288,
          "py": 433.8364505361106,
          "shape": "circle",
          "shape_attrs": {
           "r": 15
          },
          "value": null,
          "weight": 20,
          "x": 352.63949182740373,
          "xval": 20,
          "y": 433.8773686865644,
          "yval": 7.6923076923076925
         },
         "target": {
          "fixed": 0,
          "index": 13,
          "label": "h1,2",
          "label_display": "none",
          "px": 445.4830710949258,
          "py": 407.40580969271514,
          "shape": "circle",
          "shape_attrs": {
           "r": 15
          },
          "value": null,
          "weight": 22,
          "x": 445.4830710949258,
          "xval": 40,
          "y": 407.40580969271514,
          "yval": 90.47619047619048
         },
         "value": 1
        },
        {
         "source": {
          "index": 11,
          "label": "x12",
          "label_display": "none",
          "px": 352.6686766055288,
          "py": 433.8364505361106,
          "shape": "circle",
          "shape_attrs": {
           "r": 15
          },
          "value": null,
          "weight": 20,
          "x": 352.63949182740373,
          "xval": 20,
          "y": 433.8773686865644,
          "yval": 7.6923076923076925
         },
         "target": {
          "fixed": 0,
          "index": 14,
          "label": "h1,3",
          "label_display": "none",
          "px": 440.09389561772593,
          "py": 384.9913547714818,
          "shape": "circle",
          "shape_attrs": {
           "r": 15
          },
          "value": null,
          "weight": 22,
          "x": 440.09389561772593,
          "xval": 40,
          "y": 384.9913547714818,
          "yval": 85.71428571428571
         },
         "value": 1
        },
        {
         "source": {
          "index": 11,
          "label": "x12",
          "label_display": "none",
          "px": 352.6686766055288,
          "py": 433.8364505361106,
          "shape": "circle",
          "shape_attrs": {
           "r": 15
          },
          "value": null,
          "weight": 20,
          "x": 352.63949182740373,
          "xval": 20,
          "y": 433.8773686865644,
          "yval": 7.6923076923076925
         },
         "target": {
          "index": 15,
          "label": "h1,4",
          "label_display": "none",
          "px": 442.03390585799406,
          "py": 393.18624031821906,
          "shape": "circle",
          "shape_attrs": {
           "r": 15
          },
          "value": null,
          "weight": 22,
          "x": 442.0252187451049,
          "xval": 40,
          "y": 393.18099926055953,
          "yval": 80.95238095238095
         },
         "value": 1
        },
        {
         "source": {
          "index": 11,
          "label": "x12",
          "label_display": "none",
          "px": 352.6686766055288,
          "py": 433.8364505361106,
          "shape": "circle",
          "shape_attrs": {
           "r": 15
          },
          "value": null,
          "weight": 20,
          "x": 352.63949182740373,
          "xval": 20,
          "y": 433.8773686865644,
          "yval": 7.6923076923076925
         },
         "target": {
          "fixed": 0,
          "index": 16,
          "label": "h1,5",
          "label_display": "none",
          "px": 439.3038323400098,
          "py": 381.26898657152276,
          "shape": "circle",
          "shape_attrs": {
           "r": 15
          },
          "value": null,
          "weight": 22,
          "x": 439.3038323400098,
          "xval": 40,
          "y": 381.26898657152276,
          "yval": 76.19047619047619
         },
         "value": 1
        },
        {
         "source": {
          "index": 11,
          "label": "x12",
          "label_display": "none",
          "px": 352.6686766055288,
          "py": 433.8364505361106,
          "shape": "circle",
          "shape_attrs": {
           "r": 15
          },
          "value": null,
          "weight": 20,
          "x": 352.63949182740373,
          "xval": 20,
          "y": 433.8773686865644,
          "yval": 7.6923076923076925
         },
         "target": {
          "index": 17,
          "label": "h1,6",
          "label_display": "none",
          "px": 436.1763853376012,
          "py": 367.0391092191069,
          "shape": "circle",
          "shape_attrs": {
           "r": 15
          },
          "value": null,
          "weight": 22,
          "x": 436.1319756129927,
          "xval": 40,
          "y": 366.9193372066237,
          "yval": 71.42857142857143
         },
         "value": 1
        },
        {
         "source": {
          "index": 11,
          "label": "x12",
          "label_display": "none",
          "px": 352.6686766055288,
          "py": 433.8364505361106,
          "shape": "circle",
          "shape_attrs": {
           "r": 15
          },
          "value": null,
          "weight": 20,
          "x": 352.63949182740373,
          "xval": 20,
          "y": 433.8773686865644,
          "yval": 7.6923076923076925
         },
         "target": {
          "index": 18,
          "label": "h1,7",
          "label_display": "none",
          "px": 444.28747307460884,
          "py": 402.5857074144147,
          "shape": "circle",
          "shape_attrs": {
           "r": 15
          },
          "value": null,
          "weight": 22,
          "x": 444.28189322820117,
          "xval": 40,
          "y": 402.5864217166488,
          "yval": 66.66666666666667
         },
         "value": 1
        },
        {
         "source": {
          "index": 11,
          "label": "x12",
          "label_display": "none",
          "px": 352.6686766055288,
          "py": 433.8364505361106,
          "shape": "circle",
          "shape_attrs": {
           "r": 15
          },
          "value": null,
          "weight": 20,
          "x": 352.63949182740373,
          "xval": 20,
          "y": 433.8773686865644,
          "yval": 7.6923076923076925
         },
         "target": {
          "index": 19,
          "label": "h1,8",
          "label_display": "none",
          "px": 436.96694163354766,
          "py": 370.835219648978,
          "shape": "circle",
          "shape_attrs": {
           "r": 15
          },
          "value": null,
          "weight": 22,
          "x": 436.93081668870667,
          "xval": 40,
          "y": 370.7487234007221,
          "yval": 61.904761904761905
         },
         "value": 1
        },
        {
         "source": {
          "index": 11,
          "label": "x12",
          "label_display": "none",
          "px": 352.6686766055288,
          "py": 433.8364505361106,
          "shape": "circle",
          "shape_attrs": {
           "r": 15
          },
          "value": null,
          "weight": 20,
          "x": 352.63949182740373,
          "xval": 20,
          "y": 433.8773686865644,
          "yval": 7.6923076923076925
         },
         "target": {
          "index": 20,
          "label": "h1,9",
          "label_display": "none",
          "px": 443.12903262452926,
          "py": 397.77183731760726,
          "shape": "circle",
          "shape_attrs": {
           "r": 15
          },
          "value": null,
          "weight": 22,
          "x": 443.1225250371738,
          "xval": 40,
          "y": 397.77048960247726,
          "yval": 57.14285714285714
         },
         "value": 1
        },
        {
         "source": {
          "index": 11,
          "label": "x12",
          "label_display": "none",
          "px": 352.6686766055288,
          "py": 433.8364505361106,
          "shape": "circle",
          "shape_attrs": {
           "r": 15
          },
          "value": null,
          "weight": 20,
          "x": 352.63949182740373,
          "xval": 20,
          "y": 433.8773686865644,
          "yval": 7.6923076923076925
         },
         "target": {
          "index": 21,
          "label": "h1,10",
          "label_display": "none",
          "px": 453.47719733511025,
          "py": 437.1791317957166,
          "shape": "circle",
          "shape_attrs": {
           "r": 15
          },
          "value": null,
          "weight": 22,
          "x": 453.50705008596486,
          "xval": 40,
          "y": 437.28186603254966,
          "yval": 52.38095238095238
         },
         "value": 1
        },
        {
         "source": {
          "index": 11,
          "label": "x12",
          "label_display": "none",
          "px": 352.6686766055288,
          "py": 433.8364505361106,
          "shape": "circle",
          "shape_attrs": {
           "r": 15
          },
          "value": null,
          "weight": 20,
          "x": 352.63949182740373,
          "xval": 20,
          "y": 433.8773686865644,
          "yval": 7.6923076923076925
         },
         "target": {
          "index": 22,
          "label": "h1,11",
          "label_display": "none",
          "px": 450.6931880317312,
          "py": 427.36854915169533,
          "shape": "circle",
          "shape_attrs": {
           "r": 15
          },
          "value": null,
          "weight": 22,
          "x": 450.70224459711284,
          "xval": 40,
          "y": 427.40707742900895,
          "yval": 47.61904761904762
         },
         "value": 1
        },
        {
         "source": {
          "index": 11,
          "label": "x12",
          "label_display": "none",
          "px": 352.6686766055288,
          "py": 433.8364505361106,
          "shape": "circle",
          "shape_attrs": {
           "r": 15
          },
          "value": null,
          "weight": 20,
          "x": 352.63949182740373,
          "xval": 20,
          "y": 433.8773686865644,
          "yval": 7.6923076923076925
         },
         "target": {
          "index": 23,
          "label": "h1,12",
          "label_display": "none",
          "px": 451.616956869591,
          "py": 430.68399636795544,
          "shape": "circle",
          "shape_attrs": {
           "r": 15
          },
          "value": null,
          "weight": 22,
          "x": 451.6308613454441,
          "xval": 40,
          "y": 430.73607807474326,
          "yval": 42.857142857142854
         },
         "value": 1
        },
        {
         "source": {
          "index": 11,
          "label": "x12",
          "label_display": "none",
          "px": 352.6686766055288,
          "py": 433.8364505361106,
          "shape": "circle",
          "shape_attrs": {
           "r": 15
          },
          "value": null,
          "weight": 20,
          "x": 352.63949182740373,
          "xval": 20,
          "y": 433.8773686865644,
          "yval": 7.6923076923076925
         },
         "target": {
          "index": 24,
          "label": "h1,13",
          "label_display": "none",
          "px": 449.7701933541918,
          "py": 423.95395938325044,
          "shape": "circle",
          "shape_attrs": {
           "r": 15
          },
          "value": null,
          "weight": 22,
          "x": 449.77543161498545,
          "xval": 40,
          "y": 423.979666438766,
          "yval": 38.095238095238095
         },
         "value": 1
        },
        {
         "source": {
          "index": 11,
          "label": "x12",
          "label_display": "none",
          "px": 352.6686766055288,
          "py": 433.8364505361106,
          "shape": "circle",
          "shape_attrs": {
           "r": 15
          },
          "value": null,
          "weight": 20,
          "x": 352.63949182740373,
          "xval": 20,
          "y": 433.8773686865644,
          "yval": 7.6923076923076925
         },
         "target": {
          "index": 25,
          "label": "h1,14",
          "label_display": "none",
          "px": 447.77652249109667,
          "py": 416.4027794386295,
          "shape": "circle",
          "shape_attrs": {
           "r": 15
          },
          "value": null,
          "weight": 22,
          "x": 447.77533228674633,
          "xval": 40,
          "y": 416.4089800756498,
          "yval": 33.333333333333336
         },
         "value": 1
        },
        {
         "source": {
          "index": 11,
          "label": "x12",
          "label_display": "none",
          "px": 352.6686766055288,
          "py": 433.8364505361106,
          "shape": "circle",
          "shape_attrs": {
           "r": 15
          },
          "value": null,
          "weight": 20,
          "x": 352.63949182740373,
          "xval": 20,
          "y": 433.8773686865644,
          "yval": 7.6923076923076925
         },
         "target": {
          "fixed": 0,
          "index": 26,
          "label": "h1,15",
          "label_display": "none",
          "px": 437.84986949367203,
          "py": 374.25132654913494,
          "shape": "circle",
          "shape_attrs": {
           "r": 15
          },
          "value": null,
          "weight": 22,
          "x": 437.84986949367203,
          "xval": 40,
          "y": 374.25132654913494,
          "yval": 28.57142857142857
         },
         "value": 1
        },
        {
         "source": {
          "index": 11,
          "label": "x12",
          "label_display": "none",
          "px": 352.6686766055288,
          "py": 433.8364505361106,
          "shape": "circle",
          "shape_attrs": {
           "r": 15
          },
          "value": null,
          "weight": 20,
          "x": 352.63949182740373,
          "xval": 20,
          "y": 433.8773686865644,
          "yval": 7.6923076923076925
         },
         "target": {
          "index": 27,
          "label": "h1,16",
          "label_display": "none",
          "px": 441.03312194188425,
          "py": 388.9301428056495,
          "shape": "circle",
          "shape_attrs": {
           "r": 15
          },
          "value": null,
          "weight": 22,
          "x": 441.0223311760983,
          "xval": 40,
          "y": 388.9201492326303,
          "yval": 23.80952380952381
         },
         "value": 1
        },
        {
         "source": {
          "index": 11,
          "label": "x12",
          "label_display": "none",
          "px": 352.6686766055288,
          "py": 433.8364505361106,
          "shape": "circle",
          "shape_attrs": {
           "r": 15
          },
          "value": null,
          "weight": 20,
          "x": 352.63949182740373,
          "xval": 20,
          "y": 433.8773686865644,
          "yval": 7.6923076923076925
         },
         "target": {
          "index": 28,
          "label": "h1,17",
          "label_display": "none",
          "px": 448.80878786875905,
          "py": 420.35138343623464,
          "shape": "circle",
          "shape_attrs": {
           "r": 15
          },
          "value": null,
          "weight": 22,
          "x": 448.8091799805161,
          "xval": 40,
          "y": 420.3610019925185,
          "yval": 19.047619047619047
         },
         "value": 1
        },
        {
         "source": {
          "index": 11,
          "label": "x12",
          "label_display": "none",
          "px": 352.6686766055288,
          "py": 433.8364505361106,
          "shape": "circle",
          "shape_attrs": {
           "r": 15
          },
          "value": null,
          "weight": 20,
          "x": 352.63949182740373,
          "xval": 20,
          "y": 433.8773686865644,
          "yval": 7.6923076923076925
         },
         "target": {
          "index": 29,
          "label": "h1,18",
          "label_display": "none",
          "px": 446.66133336839465,
          "py": 412.06746080603597,
          "shape": "circle",
          "shape_attrs": {
           "r": 15
          },
          "value": null,
          "weight": 22,
          "x": 446.65836227806636,
          "xval": 40,
          "y": 412.06979862465556,
          "yval": 14.285714285714285
         },
         "value": 1
        },
        {
         "source": {
          "index": 11,
          "label": "x12",
          "label_display": "none",
          "px": 352.6686766055288,
          "py": 433.8364505361106,
          "shape": "circle",
          "shape_attrs": {
           "r": 15
          },
          "value": null,
          "weight": 20,
          "x": 352.63949182740373,
          "xval": 20,
          "y": 433.8773686865644,
          "yval": 7.6923076923076925
         },
         "target": {
          "index": 30,
          "label": "h1,19",
          "label_display": "none",
          "px": 454.5331839788234,
          "py": 440.7353981371751,
          "shape": "circle",
          "shape_attrs": {
           "r": 15
          },
          "value": null,
          "weight": 22,
          "x": 454.57338727966345,
          "xval": 40,
          "y": 440.870029182474,
          "yval": 9.523809523809524
         },
         "value": 1
        },
        {
         "source": {
          "index": 11,
          "label": "x12",
          "label_display": "none",
          "px": 352.6686766055288,
          "py": 433.8364505361106,
          "shape": "circle",
          "shape_attrs": {
           "r": 15
          },
          "value": null,
          "weight": 20,
          "x": 352.63949182740373,
          "xval": 20,
          "y": 433.8773686865644,
          "yval": 7.6923076923076925
         },
         "target": {
          "index": 31,
          "label": "h1,20",
          "label_display": "none",
          "px": 452.51111853060013,
          "py": 433.8924336038177,
          "shape": "circle",
          "shape_attrs": {
           "r": 15
          },
          "value": null,
          "weight": 22,
          "x": 452.53198152903235,
          "xval": 40,
          "y": 433.96970392214837,
          "yval": 4.761904761904762
         },
         "value": 1
        },
        {
         "source": {
          "fixed": 0,
          "index": 12,
          "label": "h1,1",
          "label_display": "none",
          "px": 438.30653773859984,
          "py": 377.7211018453636,
          "shape": "circle",
          "shape_attrs": {
           "r": 15
          },
          "value": null,
          "weight": 22,
          "x": 438.30653773859984,
          "xval": 40,
          "y": 377.7211018453636,
          "yval": 95.23809523809524
         },
         "target": {
          "fixed": 0,
          "index": 32,
          "label": "h2,1",
          "label_display": "none",
          "px": 348.4069633574117,
          "py": 408.76281398343616,
          "shape": "circle",
          "shape_attrs": {
           "r": 15
          },
          "value": null,
          "weight": 21,
          "x": 348.4069633574117,
          "xval": 60,
          "y": 408.76281398343616,
          "yval": 90.90909090909092
         },
         "value": 1
        },
        {
         "source": {
          "fixed": 0,
          "index": 12,
          "label": "h1,1",
          "label_display": "none",
          "px": 438.30653773859984,
          "py": 377.7211018453636,
          "shape": "circle",
          "shape_attrs": {
           "r": 15
          },
          "value": null,
          "weight": 22,
          "x": 438.30653773859984,
          "xval": 40,
          "y": 377.7211018453636,
          "yval": 95.23809523809524
         },
         "target": {
          "fixed": 0,
          "index": 33,
          "label": "h2,2",
          "label_display": "none",
          "px": 348.98267226676734,
          "py": 414.2410318591959,
          "shape": "circle",
          "shape_attrs": {
           "r": 15
          },
          "value": null,
          "weight": 21,
          "x": 348.98267226676734,
          "xval": 60,
          "y": 414.2410318591959,
          "yval": 81.81818181818183
         },
         "value": 1
        },
        {
         "source": {
          "fixed": 0,
          "index": 12,
          "label": "h1,1",
          "label_display": "none",
          "px": 438.30653773859984,
          "py": 377.7211018453636,
          "shape": "circle",
          "shape_attrs": {
           "r": 15
          },
          "value": null,
          "weight": 22,
          "x": 438.30653773859984,
          "xval": 40,
          "y": 377.7211018453636,
          "yval": 95.23809523809524
         },
         "target": {
          "fixed": 0,
          "index": 34,
          "label": "h2,3",
          "label_display": "none",
          "px": 537.4603229397491,
          "py": 374.0357973649497,
          "shape": "circle",
          "shape_attrs": {
           "r": 15
          },
          "value": null,
          "weight": 21,
          "x": 537.4603229397491,
          "xval": 60,
          "y": 374.0357973649497,
          "yval": 72.72727272727273
         },
         "value": 1
        },
        {
         "source": {
          "fixed": 0,
          "index": 12,
          "label": "h1,1",
          "label_display": "none",
          "px": 438.30653773859984,
          "py": 377.7211018453636,
          "shape": "circle",
          "shape_attrs": {
           "r": 15
          },
          "value": null,
          "weight": 22,
          "x": 438.30653773859984,
          "xval": 40,
          "y": 377.7211018453636,
          "yval": 95.23809523809524
         },
         "target": {
          "index": 35,
          "label": "h2,4",
          "label_display": "none",
          "px": 538.4970595658459,
          "py": 378.0861567241818,
          "shape": "circle",
          "shape_attrs": {
           "r": 15
          },
          "value": null,
          "weight": 21,
          "x": 538.5316781024794,
          "xval": 60,
          "y": 378.0560742106646,
          "yval": 63.63636363636364
         },
         "value": 1
        },
        {
         "source": {
          "fixed": 0,
          "index": 12,
          "label": "h1,1",
          "label_display": "none",
          "px": 438.30653773859984,
          "py": 377.7211018453636,
          "shape": "circle",
          "shape_attrs": {
           "r": 15
          },
          "value": null,
          "weight": 22,
          "x": 438.30653773859984,
          "xval": 40,
          "y": 377.7211018453636,
          "yval": 95.23809523809524
         },
         "target": {
          "index": 36,
          "label": "h2,5",
          "label_display": "none",
          "px": 541.9506789452461,
          "py": 405.2045046484753,
          "shape": "circle",
          "shape_attrs": {
           "r": 15
          },
          "value": null,
          "weight": 21,
          "x": 541.9919124283681,
          "xval": 60,
          "y": 405.2694016450591,
          "yval": 54.54545454545455
         },
         "value": 1
        },
        {
         "source": {
          "fixed": 0,
          "index": 12,
          "label": "h1,1",
          "label_display": "none",
          "px": 438.30653773859984,
          "py": 377.7211018453636,
          "shape": "circle",
          "shape_attrs": {
           "r": 15
          },
          "value": null,
          "weight": 22,
          "x": 438.30653773859984,
          "xval": 40,
          "y": 377.7211018453636,
          "yval": 95.23809523809524
         },
         "target": {
          "index": 37,
          "label": "h2,6",
          "label_display": "none",
          "px": 540.2884600965493,
          "py": 386.07667443285,
          "shape": "circle",
          "shape_attrs": {
           "r": 15
          },
          "value": null,
          "weight": 21,
          "x": 540.3296107385247,
          "xval": 60,
          "y": 386.0726175500124,
          "yval": 45.45454545454546
         },
         "value": 1
        },
        {
         "source": {
          "fixed": 0,
          "index": 12,
          "label": "h1,1",
          "label_display": "none",
          "px": 438.30653773859984,
          "py": 377.7211018453636,
          "shape": "circle",
          "shape_attrs": {
           "r": 15
          },
          "value": null,
          "weight": 22,
          "x": 438.30653773859984,
          "xval": 40,
          "y": 377.7211018453636,
          "yval": 95.23809523809524
         },
         "target": {
          "index": 38,
          "label": "h2,7",
          "label_display": "none",
          "px": 541.4812921164678,
          "py": 394.6419287169871,
          "shape": "circle",
          "shape_attrs": {
           "r": 15
          },
          "value": null,
          "weight": 21,
          "x": 541.5256498499048,
          "xval": 60,
          "y": 394.6711846016649,
          "yval": 36.36363636363637
         },
         "value": 1
        },
        {
         "source": {
          "fixed": 0,
          "index": 12,
          "label": "h1,1",
          "label_display": "none",
          "px": 438.30653773859984,
          "py": 377.7211018453636,
          "shape": "circle",
          "shape_attrs": {
           "r": 15
          },
          "value": null,
          "weight": 22,
          "x": 438.30653773859984,
          "xval": 40,
          "y": 377.7211018453636,
          "yval": 95.23809523809524
         },
         "target": {
          "index": 39,
          "label": "h2,8",
          "label_display": "none",
          "px": 539.4750872865833,
          "py": 382.06791160469925,
          "shape": "circle",
          "shape_attrs": {
           "r": 15
          },
          "value": null,
          "weight": 21,
          "x": 539.5135288298698,
          "xval": 60,
          "y": 382.05054442074044,
          "yval": 27.272727272727273
         },
         "value": 1
        },
        {
         "source": {
          "fixed": 0,
          "index": 12,
          "label": "h1,1",
          "label_display": "none",
          "px": 438.30653773859984,
          "py": 377.7211018453636,
          "shape": "circle",
          "shape_attrs": {
           "r": 15
          },
          "value": null,
          "weight": 22,
          "x": 438.30653773859984,
          "xval": 40,
          "y": 377.7211018453636,
          "yval": 95.23809523809524
         },
         "target": {
          "fixed": 0,
          "index": 40,
          "label": "h2,9",
          "label_display": "none",
          "px": 541.8789771051929,
          "py": 399.51769602374225,
          "shape": "circle",
          "shape_attrs": {
           "r": 15
          },
          "value": null,
          "weight": 21,
          "x": 541.8789771051929,
          "xval": 60,
          "y": 399.51769602374225,
          "yval": 18.181818181818183
         },
         "value": 1
        },
        {
         "source": {
          "fixed": 0,
          "index": 12,
          "label": "h1,1",
          "label_display": "none",
          "px": 438.30653773859984,
          "py": 377.7211018453636,
          "shape": "circle",
          "shape_attrs": {
           "r": 15
          },
          "value": null,
          "weight": 22,
          "x": 438.30653773859984,
          "xval": 40,
          "y": 377.7211018453636,
          "yval": 95.23809523809524
         },
         "target": {
          "index": 41,
          "label": "h2,10",
          "label_display": "none",
          "px": 540.9635353553583,
          "py": 390.2506362665784,
          "shape": "circle",
          "shape_attrs": {
           "r": 15
          },
          "value": null,
          "weight": 21,
          "x": 541.0069568340803,
          "xval": 60,
          "y": 390.2620434189789,
          "yval": 9.090909090909092
         },
         "value": 1
        },
        {
         "source": {
          "fixed": 0,
          "index": 13,
          "label": "h1,2",
          "label_display": "none",
          "px": 445.4830710949258,
          "py": 407.40580969271514,
          "shape": "circle",
          "shape_attrs": {
           "r": 15
          },
          "value": null,
          "weight": 22,
          "x": 445.4830710949258,
          "xval": 40,
          "y": 407.40580969271514,
          "yval": 90.47619047619048
         },
         "target": {
          "fixed": 0,
          "index": 32,
          "label": "h2,1",
          "label_display": "none",
          "px": 348.4069633574117,
          "py": 408.76281398343616,
          "shape": "circle",
          "shape_attrs": {
           "r": 15
          },
          "value": null,
          "weight": 21,
          "x": 348.4069633574117,
          "xval": 60,
          "y": 408.76281398343616,
          "yval": 90.90909090909092
         },
         "value": 1
        },
        {
         "source": {
          "fixed": 0,
          "index": 13,
          "label": "h1,2",
          "label_display": "none",
          "px": 445.4830710949258,
          "py": 407.40580969271514,
          "shape": "circle",
          "shape_attrs": {
           "r": 15
          },
          "value": null,
          "weight": 22,
          "x": 445.4830710949258,
          "xval": 40,
          "y": 407.40580969271514,
          "yval": 90.47619047619048
         },
         "target": {
          "fixed": 0,
          "index": 33,
          "label": "h2,2",
          "label_display": "none",
          "px": 348.98267226676734,
          "py": 414.2410318591959,
          "shape": "circle",
          "shape_attrs": {
           "r": 15
          },
          "value": null,
          "weight": 21,
          "x": 348.98267226676734,
          "xval": 60,
          "y": 414.2410318591959,
          "yval": 81.81818181818183
         },
         "value": 1
        },
        {
         "source": {
          "fixed": 0,
          "index": 13,
          "label": "h1,2",
          "label_display": "none",
          "px": 445.4830710949258,
          "py": 407.40580969271514,
          "shape": "circle",
          "shape_attrs": {
           "r": 15
          },
          "value": null,
          "weight": 22,
          "x": 445.4830710949258,
          "xval": 40,
          "y": 407.40580969271514,
          "yval": 90.47619047619048
         },
         "target": {
          "fixed": 0,
          "index": 34,
          "label": "h2,3",
          "label_display": "none",
          "px": 537.4603229397491,
          "py": 374.0357973649497,
          "shape": "circle",
          "shape_attrs": {
           "r": 15
          },
          "value": null,
          "weight": 21,
          "x": 537.4603229397491,
          "xval": 60,
          "y": 374.0357973649497,
          "yval": 72.72727272727273
         },
         "value": 1
        },
        {
         "source": {
          "fixed": 0,
          "index": 13,
          "label": "h1,2",
          "label_display": "none",
          "px": 445.4830710949258,
          "py": 407.40580969271514,
          "shape": "circle",
          "shape_attrs": {
           "r": 15
          },
          "value": null,
          "weight": 22,
          "x": 445.4830710949258,
          "xval": 40,
          "y": 407.40580969271514,
          "yval": 90.47619047619048
         },
         "target": {
          "index": 35,
          "label": "h2,4",
          "label_display": "none",
          "px": 538.4970595658459,
          "py": 378.0861567241818,
          "shape": "circle",
          "shape_attrs": {
           "r": 15
          },
          "value": null,
          "weight": 21,
          "x": 538.5316781024794,
          "xval": 60,
          "y": 378.0560742106646,
          "yval": 63.63636363636364
         },
         "value": 1
        },
        {
         "source": {
          "fixed": 0,
          "index": 13,
          "label": "h1,2",
          "label_display": "none",
          "px": 445.4830710949258,
          "py": 407.40580969271514,
          "shape": "circle",
          "shape_attrs": {
           "r": 15
          },
          "value": null,
          "weight": 22,
          "x": 445.4830710949258,
          "xval": 40,
          "y": 407.40580969271514,
          "yval": 90.47619047619048
         },
         "target": {
          "index": 36,
          "label": "h2,5",
          "label_display": "none",
          "px": 541.9506789452461,
          "py": 405.2045046484753,
          "shape": "circle",
          "shape_attrs": {
           "r": 15
          },
          "value": null,
          "weight": 21,
          "x": 541.9919124283681,
          "xval": 60,
          "y": 405.2694016450591,
          "yval": 54.54545454545455
         },
         "value": 1
        },
        {
         "source": {
          "fixed": 0,
          "index": 13,
          "label": "h1,2",
          "label_display": "none",
          "px": 445.4830710949258,
          "py": 407.40580969271514,
          "shape": "circle",
          "shape_attrs": {
           "r": 15
          },
          "value": null,
          "weight": 22,
          "x": 445.4830710949258,
          "xval": 40,
          "y": 407.40580969271514,
          "yval": 90.47619047619048
         },
         "target": {
          "index": 37,
          "label": "h2,6",
          "label_display": "none",
          "px": 540.2884600965493,
          "py": 386.07667443285,
          "shape": "circle",
          "shape_attrs": {
           "r": 15
          },
          "value": null,
          "weight": 21,
          "x": 540.3296107385247,
          "xval": 60,
          "y": 386.0726175500124,
          "yval": 45.45454545454546
         },
         "value": 1
        },
        {
         "source": {
          "fixed": 0,
          "index": 13,
          "label": "h1,2",
          "label_display": "none",
          "px": 445.4830710949258,
          "py": 407.40580969271514,
          "shape": "circle",
          "shape_attrs": {
           "r": 15
          },
          "value": null,
          "weight": 22,
          "x": 445.4830710949258,
          "xval": 40,
          "y": 407.40580969271514,
          "yval": 90.47619047619048
         },
         "target": {
          "index": 38,
          "label": "h2,7",
          "label_display": "none",
          "px": 541.4812921164678,
          "py": 394.6419287169871,
          "shape": "circle",
          "shape_attrs": {
           "r": 15
          },
          "value": null,
          "weight": 21,
          "x": 541.5256498499048,
          "xval": 60,
          "y": 394.6711846016649,
          "yval": 36.36363636363637
         },
         "value": 1
        },
        {
         "source": {
          "fixed": 0,
          "index": 13,
          "label": "h1,2",
          "label_display": "none",
          "px": 445.4830710949258,
          "py": 407.40580969271514,
          "shape": "circle",
          "shape_attrs": {
           "r": 15
          },
          "value": null,
          "weight": 22,
          "x": 445.4830710949258,
          "xval": 40,
          "y": 407.40580969271514,
          "yval": 90.47619047619048
         },
         "target": {
          "index": 39,
          "label": "h2,8",
          "label_display": "none",
          "px": 539.4750872865833,
          "py": 382.06791160469925,
          "shape": "circle",
          "shape_attrs": {
           "r": 15
          },
          "value": null,
          "weight": 21,
          "x": 539.5135288298698,
          "xval": 60,
          "y": 382.05054442074044,
          "yval": 27.272727272727273
         },
         "value": 1
        },
        {
         "source": {
          "fixed": 0,
          "index": 13,
          "label": "h1,2",
          "label_display": "none",
          "px": 445.4830710949258,
          "py": 407.40580969271514,
          "shape": "circle",
          "shape_attrs": {
           "r": 15
          },
          "value": null,
          "weight": 22,
          "x": 445.4830710949258,
          "xval": 40,
          "y": 407.40580969271514,
          "yval": 90.47619047619048
         },
         "target": {
          "fixed": 0,
          "index": 40,
          "label": "h2,9",
          "label_display": "none",
          "px": 541.8789771051929,
          "py": 399.51769602374225,
          "shape": "circle",
          "shape_attrs": {
           "r": 15
          },
          "value": null,
          "weight": 21,
          "x": 541.8789771051929,
          "xval": 60,
          "y": 399.51769602374225,
          "yval": 18.181818181818183
         },
         "value": 1
        },
        {
         "source": {
          "fixed": 0,
          "index": 13,
          "label": "h1,2",
          "label_display": "none",
          "px": 445.4830710949258,
          "py": 407.40580969271514,
          "shape": "circle",
          "shape_attrs": {
           "r": 15
          },
          "value": null,
          "weight": 22,
          "x": 445.4830710949258,
          "xval": 40,
          "y": 407.40580969271514,
          "yval": 90.47619047619048
         },
         "target": {
          "index": 41,
          "label": "h2,10",
          "label_display": "none",
          "px": 540.9635353553583,
          "py": 390.2506362665784,
          "shape": "circle",
          "shape_attrs": {
           "r": 15
          },
          "value": null,
          "weight": 21,
          "x": 541.0069568340803,
          "xval": 60,
          "y": 390.2620434189789,
          "yval": 9.090909090909092
         },
         "value": 1
        },
        {
         "source": {
          "fixed": 0,
          "index": 14,
          "label": "h1,3",
          "label_display": "none",
          "px": 440.09389561772593,
          "py": 384.9913547714818,
          "shape": "circle",
          "shape_attrs": {
           "r": 15
          },
          "value": null,
          "weight": 22,
          "x": 440.09389561772593,
          "xval": 40,
          "y": 384.9913547714818,
          "yval": 85.71428571428571
         },
         "target": {
          "fixed": 0,
          "index": 32,
          "label": "h2,1",
          "label_display": "none",
          "px": 348.4069633574117,
          "py": 408.76281398343616,
          "shape": "circle",
          "shape_attrs": {
           "r": 15
          },
          "value": null,
          "weight": 21,
          "x": 348.4069633574117,
          "xval": 60,
          "y": 408.76281398343616,
          "yval": 90.90909090909092
         },
         "value": 1
        },
        {
         "source": {
          "fixed": 0,
          "index": 14,
          "label": "h1,3",
          "label_display": "none",
          "px": 440.09389561772593,
          "py": 384.9913547714818,
          "shape": "circle",
          "shape_attrs": {
           "r": 15
          },
          "value": null,
          "weight": 22,
          "x": 440.09389561772593,
          "xval": 40,
          "y": 384.9913547714818,
          "yval": 85.71428571428571
         },
         "target": {
          "fixed": 0,
          "index": 33,
          "label": "h2,2",
          "label_display": "none",
          "px": 348.98267226676734,
          "py": 414.2410318591959,
          "shape": "circle",
          "shape_attrs": {
           "r": 15
          },
          "value": null,
          "weight": 21,
          "x": 348.98267226676734,
          "xval": 60,
          "y": 414.2410318591959,
          "yval": 81.81818181818183
         },
         "value": 1
        },
        {
         "source": {
          "fixed": 0,
          "index": 14,
          "label": "h1,3",
          "label_display": "none",
          "px": 440.09389561772593,
          "py": 384.9913547714818,
          "shape": "circle",
          "shape_attrs": {
           "r": 15
          },
          "value": null,
          "weight": 22,
          "x": 440.09389561772593,
          "xval": 40,
          "y": 384.9913547714818,
          "yval": 85.71428571428571
         },
         "target": {
          "fixed": 0,
          "index": 34,
          "label": "h2,3",
          "label_display": "none",
          "px": 537.4603229397491,
          "py": 374.0357973649497,
          "shape": "circle",
          "shape_attrs": {
           "r": 15
          },
          "value": null,
          "weight": 21,
          "x": 537.4603229397491,
          "xval": 60,
          "y": 374.0357973649497,
          "yval": 72.72727272727273
         },
         "value": 1
        },
        {
         "source": {
          "fixed": 0,
          "index": 14,
          "label": "h1,3",
          "label_display": "none",
          "px": 440.09389561772593,
          "py": 384.9913547714818,
          "shape": "circle",
          "shape_attrs": {
           "r": 15
          },
          "value": null,
          "weight": 22,
          "x": 440.09389561772593,
          "xval": 40,
          "y": 384.9913547714818,
          "yval": 85.71428571428571
         },
         "target": {
          "index": 35,
          "label": "h2,4",
          "label_display": "none",
          "px": 538.4970595658459,
          "py": 378.0861567241818,
          "shape": "circle",
          "shape_attrs": {
           "r": 15
          },
          "value": null,
          "weight": 21,
          "x": 538.5316781024794,
          "xval": 60,
          "y": 378.0560742106646,
          "yval": 63.63636363636364
         },
         "value": 1
        },
        {
         "source": {
          "fixed": 0,
          "index": 14,
          "label": "h1,3",
          "label_display": "none",
          "px": 440.09389561772593,
          "py": 384.9913547714818,
          "shape": "circle",
          "shape_attrs": {
           "r": 15
          },
          "value": null,
          "weight": 22,
          "x": 440.09389561772593,
          "xval": 40,
          "y": 384.9913547714818,
          "yval": 85.71428571428571
         },
         "target": {
          "index": 36,
          "label": "h2,5",
          "label_display": "none",
          "px": 541.9506789452461,
          "py": 405.2045046484753,
          "shape": "circle",
          "shape_attrs": {
           "r": 15
          },
          "value": null,
          "weight": 21,
          "x": 541.9919124283681,
          "xval": 60,
          "y": 405.2694016450591,
          "yval": 54.54545454545455
         },
         "value": 1
        },
        {
         "source": {
          "fixed": 0,
          "index": 14,
          "label": "h1,3",
          "label_display": "none",
          "px": 440.09389561772593,
          "py": 384.9913547714818,
          "shape": "circle",
          "shape_attrs": {
           "r": 15
          },
          "value": null,
          "weight": 22,
          "x": 440.09389561772593,
          "xval": 40,
          "y": 384.9913547714818,
          "yval": 85.71428571428571
         },
         "target": {
          "index": 37,
          "label": "h2,6",
          "label_display": "none",
          "px": 540.2884600965493,
          "py": 386.07667443285,
          "shape": "circle",
          "shape_attrs": {
           "r": 15
          },
          "value": null,
          "weight": 21,
          "x": 540.3296107385247,
          "xval": 60,
          "y": 386.0726175500124,
          "yval": 45.45454545454546
         },
         "value": 1
        },
        {
         "source": {
          "fixed": 0,
          "index": 14,
          "label": "h1,3",
          "label_display": "none",
          "px": 440.09389561772593,
          "py": 384.9913547714818,
          "shape": "circle",
          "shape_attrs": {
           "r": 15
          },
          "value": null,
          "weight": 22,
          "x": 440.09389561772593,
          "xval": 40,
          "y": 384.9913547714818,
          "yval": 85.71428571428571
         },
         "target": {
          "index": 38,
          "label": "h2,7",
          "label_display": "none",
          "px": 541.4812921164678,
          "py": 394.6419287169871,
          "shape": "circle",
          "shape_attrs": {
           "r": 15
          },
          "value": null,
          "weight": 21,
          "x": 541.5256498499048,
          "xval": 60,
          "y": 394.6711846016649,
          "yval": 36.36363636363637
         },
         "value": 1
        },
        {
         "source": {
          "fixed": 0,
          "index": 14,
          "label": "h1,3",
          "label_display": "none",
          "px": 440.09389561772593,
          "py": 384.9913547714818,
          "shape": "circle",
          "shape_attrs": {
           "r": 15
          },
          "value": null,
          "weight": 22,
          "x": 440.09389561772593,
          "xval": 40,
          "y": 384.9913547714818,
          "yval": 85.71428571428571
         },
         "target": {
          "index": 39,
          "label": "h2,8",
          "label_display": "none",
          "px": 539.4750872865833,
          "py": 382.06791160469925,
          "shape": "circle",
          "shape_attrs": {
           "r": 15
          },
          "value": null,
          "weight": 21,
          "x": 539.5135288298698,
          "xval": 60,
          "y": 382.05054442074044,
          "yval": 27.272727272727273
         },
         "value": 1
        },
        {
         "source": {
          "fixed": 0,
          "index": 14,
          "label": "h1,3",
          "label_display": "none",
          "px": 440.09389561772593,
          "py": 384.9913547714818,
          "shape": "circle",
          "shape_attrs": {
           "r": 15
          },
          "value": null,
          "weight": 22,
          "x": 440.09389561772593,
          "xval": 40,
          "y": 384.9913547714818,
          "yval": 85.71428571428571
         },
         "target": {
          "fixed": 0,
          "index": 40,
          "label": "h2,9",
          "label_display": "none",
          "px": 541.8789771051929,
          "py": 399.51769602374225,
          "shape": "circle",
          "shape_attrs": {
           "r": 15
          },
          "value": null,
          "weight": 21,
          "x": 541.8789771051929,
          "xval": 60,
          "y": 399.51769602374225,
          "yval": 18.181818181818183
         },
         "value": 1
        },
        {
         "source": {
          "fixed": 0,
          "index": 14,
          "label": "h1,3",
          "label_display": "none",
          "px": 440.09389561772593,
          "py": 384.9913547714818,
          "shape": "circle",
          "shape_attrs": {
           "r": 15
          },
          "value": null,
          "weight": 22,
          "x": 440.09389561772593,
          "xval": 40,
          "y": 384.9913547714818,
          "yval": 85.71428571428571
         },
         "target": {
          "index": 41,
          "label": "h2,10",
          "label_display": "none",
          "px": 540.9635353553583,
          "py": 390.2506362665784,
          "shape": "circle",
          "shape_attrs": {
           "r": 15
          },
          "value": null,
          "weight": 21,
          "x": 541.0069568340803,
          "xval": 60,
          "y": 390.2620434189789,
          "yval": 9.090909090909092
         },
         "value": 1
        },
        {
         "source": {
          "index": 15,
          "label": "h1,4",
          "label_display": "none",
          "px": 442.03390585799406,
          "py": 393.18624031821906,
          "shape": "circle",
          "shape_attrs": {
           "r": 15
          },
          "value": null,
          "weight": 22,
          "x": 442.0252187451049,
          "xval": 40,
          "y": 393.18099926055953,
          "yval": 80.95238095238095
         },
         "target": {
          "fixed": 0,
          "index": 32,
          "label": "h2,1",
          "label_display": "none",
          "px": 348.4069633574117,
          "py": 408.76281398343616,
          "shape": "circle",
          "shape_attrs": {
           "r": 15
          },
          "value": null,
          "weight": 21,
          "x": 348.4069633574117,
          "xval": 60,
          "y": 408.76281398343616,
          "yval": 90.90909090909092
         },
         "value": 1
        },
        {
         "source": {
          "index": 15,
          "label": "h1,4",
          "label_display": "none",
          "px": 442.03390585799406,
          "py": 393.18624031821906,
          "shape": "circle",
          "shape_attrs": {
           "r": 15
          },
          "value": null,
          "weight": 22,
          "x": 442.0252187451049,
          "xval": 40,
          "y": 393.18099926055953,
          "yval": 80.95238095238095
         },
         "target": {
          "fixed": 0,
          "index": 33,
          "label": "h2,2",
          "label_display": "none",
          "px": 348.98267226676734,
          "py": 414.2410318591959,
          "shape": "circle",
          "shape_attrs": {
           "r": 15
          },
          "value": null,
          "weight": 21,
          "x": 348.98267226676734,
          "xval": 60,
          "y": 414.2410318591959,
          "yval": 81.81818181818183
         },
         "value": 1
        },
        {
         "source": {
          "index": 15,
          "label": "h1,4",
          "label_display": "none",
          "px": 442.03390585799406,
          "py": 393.18624031821906,
          "shape": "circle",
          "shape_attrs": {
           "r": 15
          },
          "value": null,
          "weight": 22,
          "x": 442.0252187451049,
          "xval": 40,
          "y": 393.18099926055953,
          "yval": 80.95238095238095
         },
         "target": {
          "fixed": 0,
          "index": 34,
          "label": "h2,3",
          "label_display": "none",
          "px": 537.4603229397491,
          "py": 374.0357973649497,
          "shape": "circle",
          "shape_attrs": {
           "r": 15
          },
          "value": null,
          "weight": 21,
          "x": 537.4603229397491,
          "xval": 60,
          "y": 374.0357973649497,
          "yval": 72.72727272727273
         },
         "value": 1
        },
        {
         "source": {
          "index": 15,
          "label": "h1,4",
          "label_display": "none",
          "px": 442.03390585799406,
          "py": 393.18624031821906,
          "shape": "circle",
          "shape_attrs": {
           "r": 15
          },
          "value": null,
          "weight": 22,
          "x": 442.0252187451049,
          "xval": 40,
          "y": 393.18099926055953,
          "yval": 80.95238095238095
         },
         "target": {
          "index": 35,
          "label": "h2,4",
          "label_display": "none",
          "px": 538.4970595658459,
          "py": 378.0861567241818,
          "shape": "circle",
          "shape_attrs": {
           "r": 15
          },
          "value": null,
          "weight": 21,
          "x": 538.5316781024794,
          "xval": 60,
          "y": 378.0560742106646,
          "yval": 63.63636363636364
         },
         "value": 1
        },
        {
         "source": {
          "index": 15,
          "label": "h1,4",
          "label_display": "none",
          "px": 442.03390585799406,
          "py": 393.18624031821906,
          "shape": "circle",
          "shape_attrs": {
           "r": 15
          },
          "value": null,
          "weight": 22,
          "x": 442.0252187451049,
          "xval": 40,
          "y": 393.18099926055953,
          "yval": 80.95238095238095
         },
         "target": {
          "index": 36,
          "label": "h2,5",
          "label_display": "none",
          "px": 541.9506789452461,
          "py": 405.2045046484753,
          "shape": "circle",
          "shape_attrs": {
           "r": 15
          },
          "value": null,
          "weight": 21,
          "x": 541.9919124283681,
          "xval": 60,
          "y": 405.2694016450591,
          "yval": 54.54545454545455
         },
         "value": 1
        },
        {
         "source": {
          "index": 15,
          "label": "h1,4",
          "label_display": "none",
          "px": 442.03390585799406,
          "py": 393.18624031821906,
          "shape": "circle",
          "shape_attrs": {
           "r": 15
          },
          "value": null,
          "weight": 22,
          "x": 442.0252187451049,
          "xval": 40,
          "y": 393.18099926055953,
          "yval": 80.95238095238095
         },
         "target": {
          "index": 37,
          "label": "h2,6",
          "label_display": "none",
          "px": 540.2884600965493,
          "py": 386.07667443285,
          "shape": "circle",
          "shape_attrs": {
           "r": 15
          },
          "value": null,
          "weight": 21,
          "x": 540.3296107385247,
          "xval": 60,
          "y": 386.0726175500124,
          "yval": 45.45454545454546
         },
         "value": 1
        },
        {
         "source": {
          "index": 15,
          "label": "h1,4",
          "label_display": "none",
          "px": 442.03390585799406,
          "py": 393.18624031821906,
          "shape": "circle",
          "shape_attrs": {
           "r": 15
          },
          "value": null,
          "weight": 22,
          "x": 442.0252187451049,
          "xval": 40,
          "y": 393.18099926055953,
          "yval": 80.95238095238095
         },
         "target": {
          "index": 38,
          "label": "h2,7",
          "label_display": "none",
          "px": 541.4812921164678,
          "py": 394.6419287169871,
          "shape": "circle",
          "shape_attrs": {
           "r": 15
          },
          "value": null,
          "weight": 21,
          "x": 541.5256498499048,
          "xval": 60,
          "y": 394.6711846016649,
          "yval": 36.36363636363637
         },
         "value": 1
        },
        {
         "source": {
          "index": 15,
          "label": "h1,4",
          "label_display": "none",
          "px": 442.03390585799406,
          "py": 393.18624031821906,
          "shape": "circle",
          "shape_attrs": {
           "r": 15
          },
          "value": null,
          "weight": 22,
          "x": 442.0252187451049,
          "xval": 40,
          "y": 393.18099926055953,
          "yval": 80.95238095238095
         },
         "target": {
          "index": 39,
          "label": "h2,8",
          "label_display": "none",
          "px": 539.4750872865833,
          "py": 382.06791160469925,
          "shape": "circle",
          "shape_attrs": {
           "r": 15
          },
          "value": null,
          "weight": 21,
          "x": 539.5135288298698,
          "xval": 60,
          "y": 382.05054442074044,
          "yval": 27.272727272727273
         },
         "value": 1
        },
        {
         "source": {
          "index": 15,
          "label": "h1,4",
          "label_display": "none",
          "px": 442.03390585799406,
          "py": 393.18624031821906,
          "shape": "circle",
          "shape_attrs": {
           "r": 15
          },
          "value": null,
          "weight": 22,
          "x": 442.0252187451049,
          "xval": 40,
          "y": 393.18099926055953,
          "yval": 80.95238095238095
         },
         "target": {
          "fixed": 0,
          "index": 40,
          "label": "h2,9",
          "label_display": "none",
          "px": 541.8789771051929,
          "py": 399.51769602374225,
          "shape": "circle",
          "shape_attrs": {
           "r": 15
          },
          "value": null,
          "weight": 21,
          "x": 541.8789771051929,
          "xval": 60,
          "y": 399.51769602374225,
          "yval": 18.181818181818183
         },
         "value": 1
        },
        {
         "source": {
          "index": 15,
          "label": "h1,4",
          "label_display": "none",
          "px": 442.03390585799406,
          "py": 393.18624031821906,
          "shape": "circle",
          "shape_attrs": {
           "r": 15
          },
          "value": null,
          "weight": 22,
          "x": 442.0252187451049,
          "xval": 40,
          "y": 393.18099926055953,
          "yval": 80.95238095238095
         },
         "target": {
          "index": 41,
          "label": "h2,10",
          "label_display": "none",
          "px": 540.9635353553583,
          "py": 390.2506362665784,
          "shape": "circle",
          "shape_attrs": {
           "r": 15
          },
          "value": null,
          "weight": 21,
          "x": 541.0069568340803,
          "xval": 60,
          "y": 390.2620434189789,
          "yval": 9.090909090909092
         },
         "value": 1
        },
        {
         "source": {
          "fixed": 0,
          "index": 16,
          "label": "h1,5",
          "label_display": "none",
          "px": 439.3038323400098,
          "py": 381.26898657152276,
          "shape": "circle",
          "shape_attrs": {
           "r": 15
          },
          "value": null,
          "weight": 22,
          "x": 439.3038323400098,
          "xval": 40,
          "y": 381.26898657152276,
          "yval": 76.19047619047619
         },
         "target": {
          "fixed": 0,
          "index": 32,
          "label": "h2,1",
          "label_display": "none",
          "px": 348.4069633574117,
          "py": 408.76281398343616,
          "shape": "circle",
          "shape_attrs": {
           "r": 15
          },
          "value": null,
          "weight": 21,
          "x": 348.4069633574117,
          "xval": 60,
          "y": 408.76281398343616,
          "yval": 90.90909090909092
         },
         "value": 1
        },
        {
         "source": {
          "fixed": 0,
          "index": 16,
          "label": "h1,5",
          "label_display": "none",
          "px": 439.3038323400098,
          "py": 381.26898657152276,
          "shape": "circle",
          "shape_attrs": {
           "r": 15
          },
          "value": null,
          "weight": 22,
          "x": 439.3038323400098,
          "xval": 40,
          "y": 381.26898657152276,
          "yval": 76.19047619047619
         },
         "target": {
          "fixed": 0,
          "index": 33,
          "label": "h2,2",
          "label_display": "none",
          "px": 348.98267226676734,
          "py": 414.2410318591959,
          "shape": "circle",
          "shape_attrs": {
           "r": 15
          },
          "value": null,
          "weight": 21,
          "x": 348.98267226676734,
          "xval": 60,
          "y": 414.2410318591959,
          "yval": 81.81818181818183
         },
         "value": 1
        },
        {
         "source": {
          "fixed": 0,
          "index": 16,
          "label": "h1,5",
          "label_display": "none",
          "px": 439.3038323400098,
          "py": 381.26898657152276,
          "shape": "circle",
          "shape_attrs": {
           "r": 15
          },
          "value": null,
          "weight": 22,
          "x": 439.3038323400098,
          "xval": 40,
          "y": 381.26898657152276,
          "yval": 76.19047619047619
         },
         "target": {
          "fixed": 0,
          "index": 34,
          "label": "h2,3",
          "label_display": "none",
          "px": 537.4603229397491,
          "py": 374.0357973649497,
          "shape": "circle",
          "shape_attrs": {
           "r": 15
          },
          "value": null,
          "weight": 21,
          "x": 537.4603229397491,
          "xval": 60,
          "y": 374.0357973649497,
          "yval": 72.72727272727273
         },
         "value": 1
        },
        {
         "source": {
          "fixed": 0,
          "index": 16,
          "label": "h1,5",
          "label_display": "none",
          "px": 439.3038323400098,
          "py": 381.26898657152276,
          "shape": "circle",
          "shape_attrs": {
           "r": 15
          },
          "value": null,
          "weight": 22,
          "x": 439.3038323400098,
          "xval": 40,
          "y": 381.26898657152276,
          "yval": 76.19047619047619
         },
         "target": {
          "index": 35,
          "label": "h2,4",
          "label_display": "none",
          "px": 538.4970595658459,
          "py": 378.0861567241818,
          "shape": "circle",
          "shape_attrs": {
           "r": 15
          },
          "value": null,
          "weight": 21,
          "x": 538.5316781024794,
          "xval": 60,
          "y": 378.0560742106646,
          "yval": 63.63636363636364
         },
         "value": 1
        },
        {
         "source": {
          "fixed": 0,
          "index": 16,
          "label": "h1,5",
          "label_display": "none",
          "px": 439.3038323400098,
          "py": 381.26898657152276,
          "shape": "circle",
          "shape_attrs": {
           "r": 15
          },
          "value": null,
          "weight": 22,
          "x": 439.3038323400098,
          "xval": 40,
          "y": 381.26898657152276,
          "yval": 76.19047619047619
         },
         "target": {
          "index": 36,
          "label": "h2,5",
          "label_display": "none",
          "px": 541.9506789452461,
          "py": 405.2045046484753,
          "shape": "circle",
          "shape_attrs": {
           "r": 15
          },
          "value": null,
          "weight": 21,
          "x": 541.9919124283681,
          "xval": 60,
          "y": 405.2694016450591,
          "yval": 54.54545454545455
         },
         "value": 1
        },
        {
         "source": {
          "fixed": 0,
          "index": 16,
          "label": "h1,5",
          "label_display": "none",
          "px": 439.3038323400098,
          "py": 381.26898657152276,
          "shape": "circle",
          "shape_attrs": {
           "r": 15
          },
          "value": null,
          "weight": 22,
          "x": 439.3038323400098,
          "xval": 40,
          "y": 381.26898657152276,
          "yval": 76.19047619047619
         },
         "target": {
          "index": 37,
          "label": "h2,6",
          "label_display": "none",
          "px": 540.2884600965493,
          "py": 386.07667443285,
          "shape": "circle",
          "shape_attrs": {
           "r": 15
          },
          "value": null,
          "weight": 21,
          "x": 540.3296107385247,
          "xval": 60,
          "y": 386.0726175500124,
          "yval": 45.45454545454546
         },
         "value": 1
        },
        {
         "source": {
          "fixed": 0,
          "index": 16,
          "label": "h1,5",
          "label_display": "none",
          "px": 439.3038323400098,
          "py": 381.26898657152276,
          "shape": "circle",
          "shape_attrs": {
           "r": 15
          },
          "value": null,
          "weight": 22,
          "x": 439.3038323400098,
          "xval": 40,
          "y": 381.26898657152276,
          "yval": 76.19047619047619
         },
         "target": {
          "index": 38,
          "label": "h2,7",
          "label_display": "none",
          "px": 541.4812921164678,
          "py": 394.6419287169871,
          "shape": "circle",
          "shape_attrs": {
           "r": 15
          },
          "value": null,
          "weight": 21,
          "x": 541.5256498499048,
          "xval": 60,
          "y": 394.6711846016649,
          "yval": 36.36363636363637
         },
         "value": 1
        },
        {
         "source": {
          "fixed": 0,
          "index": 16,
          "label": "h1,5",
          "label_display": "none",
          "px": 439.3038323400098,
          "py": 381.26898657152276,
          "shape": "circle",
          "shape_attrs": {
           "r": 15
          },
          "value": null,
          "weight": 22,
          "x": 439.3038323400098,
          "xval": 40,
          "y": 381.26898657152276,
          "yval": 76.19047619047619
         },
         "target": {
          "index": 39,
          "label": "h2,8",
          "label_display": "none",
          "px": 539.4750872865833,
          "py": 382.06791160469925,
          "shape": "circle",
          "shape_attrs": {
           "r": 15
          },
          "value": null,
          "weight": 21,
          "x": 539.5135288298698,
          "xval": 60,
          "y": 382.05054442074044,
          "yval": 27.272727272727273
         },
         "value": 1
        },
        {
         "source": {
          "fixed": 0,
          "index": 16,
          "label": "h1,5",
          "label_display": "none",
          "px": 439.3038323400098,
          "py": 381.26898657152276,
          "shape": "circle",
          "shape_attrs": {
           "r": 15
          },
          "value": null,
          "weight": 22,
          "x": 439.3038323400098,
          "xval": 40,
          "y": 381.26898657152276,
          "yval": 76.19047619047619
         },
         "target": {
          "fixed": 0,
          "index": 40,
          "label": "h2,9",
          "label_display": "none",
          "px": 541.8789771051929,
          "py": 399.51769602374225,
          "shape": "circle",
          "shape_attrs": {
           "r": 15
          },
          "value": null,
          "weight": 21,
          "x": 541.8789771051929,
          "xval": 60,
          "y": 399.51769602374225,
          "yval": 18.181818181818183
         },
         "value": 1
        },
        {
         "source": {
          "fixed": 0,
          "index": 16,
          "label": "h1,5",
          "label_display": "none",
          "px": 439.3038323400098,
          "py": 381.26898657152276,
          "shape": "circle",
          "shape_attrs": {
           "r": 15
          },
          "value": null,
          "weight": 22,
          "x": 439.3038323400098,
          "xval": 40,
          "y": 381.26898657152276,
          "yval": 76.19047619047619
         },
         "target": {
          "index": 41,
          "label": "h2,10",
          "label_display": "none",
          "px": 540.9635353553583,
          "py": 390.2506362665784,
          "shape": "circle",
          "shape_attrs": {
           "r": 15
          },
          "value": null,
          "weight": 21,
          "x": 541.0069568340803,
          "xval": 60,
          "y": 390.2620434189789,
          "yval": 9.090909090909092
         },
         "value": 1
        },
        {
         "source": {
          "index": 17,
          "label": "h1,6",
          "label_display": "none",
          "px": 436.1763853376012,
          "py": 367.0391092191069,
          "shape": "circle",
          "shape_attrs": {
           "r": 15
          },
          "value": null,
          "weight": 22,
          "x": 436.1319756129927,
          "xval": 40,
          "y": 366.9193372066237,
          "yval": 71.42857142857143
         },
         "target": {
          "fixed": 0,
          "index": 32,
          "label": "h2,1",
          "label_display": "none",
          "px": 348.4069633574117,
          "py": 408.76281398343616,
          "shape": "circle",
          "shape_attrs": {
           "r": 15
          },
          "value": null,
          "weight": 21,
          "x": 348.4069633574117,
          "xval": 60,
          "y": 408.76281398343616,
          "yval": 90.90909090909092
         },
         "value": 1
        },
        {
         "source": {
          "index": 17,
          "label": "h1,6",
          "label_display": "none",
          "px": 436.1763853376012,
          "py": 367.0391092191069,
          "shape": "circle",
          "shape_attrs": {
           "r": 15
          },
          "value": null,
          "weight": 22,
          "x": 436.1319756129927,
          "xval": 40,
          "y": 366.9193372066237,
          "yval": 71.42857142857143
         },
         "target": {
          "fixed": 0,
          "index": 33,
          "label": "h2,2",
          "label_display": "none",
          "px": 348.98267226676734,
          "py": 414.2410318591959,
          "shape": "circle",
          "shape_attrs": {
           "r": 15
          },
          "value": null,
          "weight": 21,
          "x": 348.98267226676734,
          "xval": 60,
          "y": 414.2410318591959,
          "yval": 81.81818181818183
         },
         "value": 1
        },
        {
         "source": {
          "index": 17,
          "label": "h1,6",
          "label_display": "none",
          "px": 436.1763853376012,
          "py": 367.0391092191069,
          "shape": "circle",
          "shape_attrs": {
           "r": 15
          },
          "value": null,
          "weight": 22,
          "x": 436.1319756129927,
          "xval": 40,
          "y": 366.9193372066237,
          "yval": 71.42857142857143
         },
         "target": {
          "fixed": 0,
          "index": 34,
          "label": "h2,3",
          "label_display": "none",
          "px": 537.4603229397491,
          "py": 374.0357973649497,
          "shape": "circle",
          "shape_attrs": {
           "r": 15
          },
          "value": null,
          "weight": 21,
          "x": 537.4603229397491,
          "xval": 60,
          "y": 374.0357973649497,
          "yval": 72.72727272727273
         },
         "value": 1
        },
        {
         "source": {
          "index": 17,
          "label": "h1,6",
          "label_display": "none",
          "px": 436.1763853376012,
          "py": 367.0391092191069,
          "shape": "circle",
          "shape_attrs": {
           "r": 15
          },
          "value": null,
          "weight": 22,
          "x": 436.1319756129927,
          "xval": 40,
          "y": 366.9193372066237,
          "yval": 71.42857142857143
         },
         "target": {
          "index": 35,
          "label": "h2,4",
          "label_display": "none",
          "px": 538.4970595658459,
          "py": 378.0861567241818,
          "shape": "circle",
          "shape_attrs": {
           "r": 15
          },
          "value": null,
          "weight": 21,
          "x": 538.5316781024794,
          "xval": 60,
          "y": 378.0560742106646,
          "yval": 63.63636363636364
         },
         "value": 1
        },
        {
         "source": {
          "index": 17,
          "label": "h1,6",
          "label_display": "none",
          "px": 436.1763853376012,
          "py": 367.0391092191069,
          "shape": "circle",
          "shape_attrs": {
           "r": 15
          },
          "value": null,
          "weight": 22,
          "x": 436.1319756129927,
          "xval": 40,
          "y": 366.9193372066237,
          "yval": 71.42857142857143
         },
         "target": {
          "index": 36,
          "label": "h2,5",
          "label_display": "none",
          "px": 541.9506789452461,
          "py": 405.2045046484753,
          "shape": "circle",
          "shape_attrs": {
           "r": 15
          },
          "value": null,
          "weight": 21,
          "x": 541.9919124283681,
          "xval": 60,
          "y": 405.2694016450591,
          "yval": 54.54545454545455
         },
         "value": 1
        },
        {
         "source": {
          "index": 17,
          "label": "h1,6",
          "label_display": "none",
          "px": 436.1763853376012,
          "py": 367.0391092191069,
          "shape": "circle",
          "shape_attrs": {
           "r": 15
          },
          "value": null,
          "weight": 22,
          "x": 436.1319756129927,
          "xval": 40,
          "y": 366.9193372066237,
          "yval": 71.42857142857143
         },
         "target": {
          "index": 37,
          "label": "h2,6",
          "label_display": "none",
          "px": 540.2884600965493,
          "py": 386.07667443285,
          "shape": "circle",
          "shape_attrs": {
           "r": 15
          },
          "value": null,
          "weight": 21,
          "x": 540.3296107385247,
          "xval": 60,
          "y": 386.0726175500124,
          "yval": 45.45454545454546
         },
         "value": 1
        },
        {
         "source": {
          "index": 17,
          "label": "h1,6",
          "label_display": "none",
          "px": 436.1763853376012,
          "py": 367.0391092191069,
          "shape": "circle",
          "shape_attrs": {
           "r": 15
          },
          "value": null,
          "weight": 22,
          "x": 436.1319756129927,
          "xval": 40,
          "y": 366.9193372066237,
          "yval": 71.42857142857143
         },
         "target": {
          "index": 38,
          "label": "h2,7",
          "label_display": "none",
          "px": 541.4812921164678,
          "py": 394.6419287169871,
          "shape": "circle",
          "shape_attrs": {
           "r": 15
          },
          "value": null,
          "weight": 21,
          "x": 541.5256498499048,
          "xval": 60,
          "y": 394.6711846016649,
          "yval": 36.36363636363637
         },
         "value": 1
        },
        {
         "source": {
          "index": 17,
          "label": "h1,6",
          "label_display": "none",
          "px": 436.1763853376012,
          "py": 367.0391092191069,
          "shape": "circle",
          "shape_attrs": {
           "r": 15
          },
          "value": null,
          "weight": 22,
          "x": 436.1319756129927,
          "xval": 40,
          "y": 366.9193372066237,
          "yval": 71.42857142857143
         },
         "target": {
          "index": 39,
          "label": "h2,8",
          "label_display": "none",
          "px": 539.4750872865833,
          "py": 382.06791160469925,
          "shape": "circle",
          "shape_attrs": {
           "r": 15
          },
          "value": null,
          "weight": 21,
          "x": 539.5135288298698,
          "xval": 60,
          "y": 382.05054442074044,
          "yval": 27.272727272727273
         },
         "value": 1
        },
        {
         "source": {
          "index": 17,
          "label": "h1,6",
          "label_display": "none",
          "px": 436.1763853376012,
          "py": 367.0391092191069,
          "shape": "circle",
          "shape_attrs": {
           "r": 15
          },
          "value": null,
          "weight": 22,
          "x": 436.1319756129927,
          "xval": 40,
          "y": 366.9193372066237,
          "yval": 71.42857142857143
         },
         "target": {
          "fixed": 0,
          "index": 40,
          "label": "h2,9",
          "label_display": "none",
          "px": 541.8789771051929,
          "py": 399.51769602374225,
          "shape": "circle",
          "shape_attrs": {
           "r": 15
          },
          "value": null,
          "weight": 21,
          "x": 541.8789771051929,
          "xval": 60,
          "y": 399.51769602374225,
          "yval": 18.181818181818183
         },
         "value": 1
        },
        {
         "source": {
          "index": 17,
          "label": "h1,6",
          "label_display": "none",
          "px": 436.1763853376012,
          "py": 367.0391092191069,
          "shape": "circle",
          "shape_attrs": {
           "r": 15
          },
          "value": null,
          "weight": 22,
          "x": 436.1319756129927,
          "xval": 40,
          "y": 366.9193372066237,
          "yval": 71.42857142857143
         },
         "target": {
          "index": 41,
          "label": "h2,10",
          "label_display": "none",
          "px": 540.9635353553583,
          "py": 390.2506362665784,
          "shape": "circle",
          "shape_attrs": {
           "r": 15
          },
          "value": null,
          "weight": 21,
          "x": 541.0069568340803,
          "xval": 60,
          "y": 390.2620434189789,
          "yval": 9.090909090909092
         },
         "value": 1
        },
        {
         "source": {
          "index": 18,
          "label": "h1,7",
          "label_display": "none",
          "px": 444.28747307460884,
          "py": 402.5857074144147,
          "shape": "circle",
          "shape_attrs": {
           "r": 15
          },
          "value": null,
          "weight": 22,
          "x": 444.28189322820117,
          "xval": 40,
          "y": 402.5864217166488,
          "yval": 66.66666666666667
         },
         "target": {
          "fixed": 0,
          "index": 32,
          "label": "h2,1",
          "label_display": "none",
          "px": 348.4069633574117,
          "py": 408.76281398343616,
          "shape": "circle",
          "shape_attrs": {
           "r": 15
          },
          "value": null,
          "weight": 21,
          "x": 348.4069633574117,
          "xval": 60,
          "y": 408.76281398343616,
          "yval": 90.90909090909092
         },
         "value": 1
        },
        {
         "source": {
          "index": 18,
          "label": "h1,7",
          "label_display": "none",
          "px": 444.28747307460884,
          "py": 402.5857074144147,
          "shape": "circle",
          "shape_attrs": {
           "r": 15
          },
          "value": null,
          "weight": 22,
          "x": 444.28189322820117,
          "xval": 40,
          "y": 402.5864217166488,
          "yval": 66.66666666666667
         },
         "target": {
          "fixed": 0,
          "index": 33,
          "label": "h2,2",
          "label_display": "none",
          "px": 348.98267226676734,
          "py": 414.2410318591959,
          "shape": "circle",
          "shape_attrs": {
           "r": 15
          },
          "value": null,
          "weight": 21,
          "x": 348.98267226676734,
          "xval": 60,
          "y": 414.2410318591959,
          "yval": 81.81818181818183
         },
         "value": 1
        },
        {
         "source": {
          "index": 18,
          "label": "h1,7",
          "label_display": "none",
          "px": 444.28747307460884,
          "py": 402.5857074144147,
          "shape": "circle",
          "shape_attrs": {
           "r": 15
          },
          "value": null,
          "weight": 22,
          "x": 444.28189322820117,
          "xval": 40,
          "y": 402.5864217166488,
          "yval": 66.66666666666667
         },
         "target": {
          "fixed": 0,
          "index": 34,
          "label": "h2,3",
          "label_display": "none",
          "px": 537.4603229397491,
          "py": 374.0357973649497,
          "shape": "circle",
          "shape_attrs": {
           "r": 15
          },
          "value": null,
          "weight": 21,
          "x": 537.4603229397491,
          "xval": 60,
          "y": 374.0357973649497,
          "yval": 72.72727272727273
         },
         "value": 1
        },
        {
         "source": {
          "index": 18,
          "label": "h1,7",
          "label_display": "none",
          "px": 444.28747307460884,
          "py": 402.5857074144147,
          "shape": "circle",
          "shape_attrs": {
           "r": 15
          },
          "value": null,
          "weight": 22,
          "x": 444.28189322820117,
          "xval": 40,
          "y": 402.5864217166488,
          "yval": 66.66666666666667
         },
         "target": {
          "index": 35,
          "label": "h2,4",
          "label_display": "none",
          "px": 538.4970595658459,
          "py": 378.0861567241818,
          "shape": "circle",
          "shape_attrs": {
           "r": 15
          },
          "value": null,
          "weight": 21,
          "x": 538.5316781024794,
          "xval": 60,
          "y": 378.0560742106646,
          "yval": 63.63636363636364
         },
         "value": 1
        },
        {
         "source": {
          "index": 18,
          "label": "h1,7",
          "label_display": "none",
          "px": 444.28747307460884,
          "py": 402.5857074144147,
          "shape": "circle",
          "shape_attrs": {
           "r": 15
          },
          "value": null,
          "weight": 22,
          "x": 444.28189322820117,
          "xval": 40,
          "y": 402.5864217166488,
          "yval": 66.66666666666667
         },
         "target": {
          "index": 36,
          "label": "h2,5",
          "label_display": "none",
          "px": 541.9506789452461,
          "py": 405.2045046484753,
          "shape": "circle",
          "shape_attrs": {
           "r": 15
          },
          "value": null,
          "weight": 21,
          "x": 541.9919124283681,
          "xval": 60,
          "y": 405.2694016450591,
          "yval": 54.54545454545455
         },
         "value": 1
        },
        {
         "source": {
          "index": 18,
          "label": "h1,7",
          "label_display": "none",
          "px": 444.28747307460884,
          "py": 402.5857074144147,
          "shape": "circle",
          "shape_attrs": {
           "r": 15
          },
          "value": null,
          "weight": 22,
          "x": 444.28189322820117,
          "xval": 40,
          "y": 402.5864217166488,
          "yval": 66.66666666666667
         },
         "target": {
          "index": 37,
          "label": "h2,6",
          "label_display": "none",
          "px": 540.2884600965493,
          "py": 386.07667443285,
          "shape": "circle",
          "shape_attrs": {
           "r": 15
          },
          "value": null,
          "weight": 21,
          "x": 540.3296107385247,
          "xval": 60,
          "y": 386.0726175500124,
          "yval": 45.45454545454546
         },
         "value": 1
        },
        {
         "source": {
          "index": 18,
          "label": "h1,7",
          "label_display": "none",
          "px": 444.28747307460884,
          "py": 402.5857074144147,
          "shape": "circle",
          "shape_attrs": {
           "r": 15
          },
          "value": null,
          "weight": 22,
          "x": 444.28189322820117,
          "xval": 40,
          "y": 402.5864217166488,
          "yval": 66.66666666666667
         },
         "target": {
          "index": 38,
          "label": "h2,7",
          "label_display": "none",
          "px": 541.4812921164678,
          "py": 394.6419287169871,
          "shape": "circle",
          "shape_attrs": {
           "r": 15
          },
          "value": null,
          "weight": 21,
          "x": 541.5256498499048,
          "xval": 60,
          "y": 394.6711846016649,
          "yval": 36.36363636363637
         },
         "value": 1
        },
        {
         "source": {
          "index": 18,
          "label": "h1,7",
          "label_display": "none",
          "px": 444.28747307460884,
          "py": 402.5857074144147,
          "shape": "circle",
          "shape_attrs": {
           "r": 15
          },
          "value": null,
          "weight": 22,
          "x": 444.28189322820117,
          "xval": 40,
          "y": 402.5864217166488,
          "yval": 66.66666666666667
         },
         "target": {
          "index": 39,
          "label": "h2,8",
          "label_display": "none",
          "px": 539.4750872865833,
          "py": 382.06791160469925,
          "shape": "circle",
          "shape_attrs": {
           "r": 15
          },
          "value": null,
          "weight": 21,
          "x": 539.5135288298698,
          "xval": 60,
          "y": 382.05054442074044,
          "yval": 27.272727272727273
         },
         "value": 1
        },
        {
         "source": {
          "index": 18,
          "label": "h1,7",
          "label_display": "none",
          "px": 444.28747307460884,
          "py": 402.5857074144147,
          "shape": "circle",
          "shape_attrs": {
           "r": 15
          },
          "value": null,
          "weight": 22,
          "x": 444.28189322820117,
          "xval": 40,
          "y": 402.5864217166488,
          "yval": 66.66666666666667
         },
         "target": {
          "fixed": 0,
          "index": 40,
          "label": "h2,9",
          "label_display": "none",
          "px": 541.8789771051929,
          "py": 399.51769602374225,
          "shape": "circle",
          "shape_attrs": {
           "r": 15
          },
          "value": null,
          "weight": 21,
          "x": 541.8789771051929,
          "xval": 60,
          "y": 399.51769602374225,
          "yval": 18.181818181818183
         },
         "value": 1
        },
        {
         "source": {
          "index": 18,
          "label": "h1,7",
          "label_display": "none",
          "px": 444.28747307460884,
          "py": 402.5857074144147,
          "shape": "circle",
          "shape_attrs": {
           "r": 15
          },
          "value": null,
          "weight": 22,
          "x": 444.28189322820117,
          "xval": 40,
          "y": 402.5864217166488,
          "yval": 66.66666666666667
         },
         "target": {
          "index": 41,
          "label": "h2,10",
          "label_display": "none",
          "px": 540.9635353553583,
          "py": 390.2506362665784,
          "shape": "circle",
          "shape_attrs": {
           "r": 15
          },
          "value": null,
          "weight": 21,
          "x": 541.0069568340803,
          "xval": 60,
          "y": 390.2620434189789,
          "yval": 9.090909090909092
         },
         "value": 1
        },
        {
         "source": {
          "index": 19,
          "label": "h1,8",
          "label_display": "none",
          "px": 436.96694163354766,
          "py": 370.835219648978,
          "shape": "circle",
          "shape_attrs": {
           "r": 15
          },
          "value": null,
          "weight": 22,
          "x": 436.93081668870667,
          "xval": 40,
          "y": 370.7487234007221,
          "yval": 61.904761904761905
         },
         "target": {
          "fixed": 0,
          "index": 32,
          "label": "h2,1",
          "label_display": "none",
          "px": 348.4069633574117,
          "py": 408.76281398343616,
          "shape": "circle",
          "shape_attrs": {
           "r": 15
          },
          "value": null,
          "weight": 21,
          "x": 348.4069633574117,
          "xval": 60,
          "y": 408.76281398343616,
          "yval": 90.90909090909092
         },
         "value": 1
        },
        {
         "source": {
          "index": 19,
          "label": "h1,8",
          "label_display": "none",
          "px": 436.96694163354766,
          "py": 370.835219648978,
          "shape": "circle",
          "shape_attrs": {
           "r": 15
          },
          "value": null,
          "weight": 22,
          "x": 436.93081668870667,
          "xval": 40,
          "y": 370.7487234007221,
          "yval": 61.904761904761905
         },
         "target": {
          "fixed": 0,
          "index": 33,
          "label": "h2,2",
          "label_display": "none",
          "px": 348.98267226676734,
          "py": 414.2410318591959,
          "shape": "circle",
          "shape_attrs": {
           "r": 15
          },
          "value": null,
          "weight": 21,
          "x": 348.98267226676734,
          "xval": 60,
          "y": 414.2410318591959,
          "yval": 81.81818181818183
         },
         "value": 1
        },
        {
         "source": {
          "index": 19,
          "label": "h1,8",
          "label_display": "none",
          "px": 436.96694163354766,
          "py": 370.835219648978,
          "shape": "circle",
          "shape_attrs": {
           "r": 15
          },
          "value": null,
          "weight": 22,
          "x": 436.93081668870667,
          "xval": 40,
          "y": 370.7487234007221,
          "yval": 61.904761904761905
         },
         "target": {
          "fixed": 0,
          "index": 34,
          "label": "h2,3",
          "label_display": "none",
          "px": 537.4603229397491,
          "py": 374.0357973649497,
          "shape": "circle",
          "shape_attrs": {
           "r": 15
          },
          "value": null,
          "weight": 21,
          "x": 537.4603229397491,
          "xval": 60,
          "y": 374.0357973649497,
          "yval": 72.72727272727273
         },
         "value": 1
        },
        {
         "source": {
          "index": 19,
          "label": "h1,8",
          "label_display": "none",
          "px": 436.96694163354766,
          "py": 370.835219648978,
          "shape": "circle",
          "shape_attrs": {
           "r": 15
          },
          "value": null,
          "weight": 22,
          "x": 436.93081668870667,
          "xval": 40,
          "y": 370.7487234007221,
          "yval": 61.904761904761905
         },
         "target": {
          "index": 35,
          "label": "h2,4",
          "label_display": "none",
          "px": 538.4970595658459,
          "py": 378.0861567241818,
          "shape": "circle",
          "shape_attrs": {
           "r": 15
          },
          "value": null,
          "weight": 21,
          "x": 538.5316781024794,
          "xval": 60,
          "y": 378.0560742106646,
          "yval": 63.63636363636364
         },
         "value": 1
        },
        {
         "source": {
          "index": 19,
          "label": "h1,8",
          "label_display": "none",
          "px": 436.96694163354766,
          "py": 370.835219648978,
          "shape": "circle",
          "shape_attrs": {
           "r": 15
          },
          "value": null,
          "weight": 22,
          "x": 436.93081668870667,
          "xval": 40,
          "y": 370.7487234007221,
          "yval": 61.904761904761905
         },
         "target": {
          "index": 36,
          "label": "h2,5",
          "label_display": "none",
          "px": 541.9506789452461,
          "py": 405.2045046484753,
          "shape": "circle",
          "shape_attrs": {
           "r": 15
          },
          "value": null,
          "weight": 21,
          "x": 541.9919124283681,
          "xval": 60,
          "y": 405.2694016450591,
          "yval": 54.54545454545455
         },
         "value": 1
        },
        {
         "source": {
          "index": 19,
          "label": "h1,8",
          "label_display": "none",
          "px": 436.96694163354766,
          "py": 370.835219648978,
          "shape": "circle",
          "shape_attrs": {
           "r": 15
          },
          "value": null,
          "weight": 22,
          "x": 436.93081668870667,
          "xval": 40,
          "y": 370.7487234007221,
          "yval": 61.904761904761905
         },
         "target": {
          "index": 37,
          "label": "h2,6",
          "label_display": "none",
          "px": 540.2884600965493,
          "py": 386.07667443285,
          "shape": "circle",
          "shape_attrs": {
           "r": 15
          },
          "value": null,
          "weight": 21,
          "x": 540.3296107385247,
          "xval": 60,
          "y": 386.0726175500124,
          "yval": 45.45454545454546
         },
         "value": 1
        },
        {
         "source": {
          "index": 19,
          "label": "h1,8",
          "label_display": "none",
          "px": 436.96694163354766,
          "py": 370.835219648978,
          "shape": "circle",
          "shape_attrs": {
           "r": 15
          },
          "value": null,
          "weight": 22,
          "x": 436.93081668870667,
          "xval": 40,
          "y": 370.7487234007221,
          "yval": 61.904761904761905
         },
         "target": {
          "index": 38,
          "label": "h2,7",
          "label_display": "none",
          "px": 541.4812921164678,
          "py": 394.6419287169871,
          "shape": "circle",
          "shape_attrs": {
           "r": 15
          },
          "value": null,
          "weight": 21,
          "x": 541.5256498499048,
          "xval": 60,
          "y": 394.6711846016649,
          "yval": 36.36363636363637
         },
         "value": 1
        },
        {
         "source": {
          "index": 19,
          "label": "h1,8",
          "label_display": "none",
          "px": 436.96694163354766,
          "py": 370.835219648978,
          "shape": "circle",
          "shape_attrs": {
           "r": 15
          },
          "value": null,
          "weight": 22,
          "x": 436.93081668870667,
          "xval": 40,
          "y": 370.7487234007221,
          "yval": 61.904761904761905
         },
         "target": {
          "index": 39,
          "label": "h2,8",
          "label_display": "none",
          "px": 539.4750872865833,
          "py": 382.06791160469925,
          "shape": "circle",
          "shape_attrs": {
           "r": 15
          },
          "value": null,
          "weight": 21,
          "x": 539.5135288298698,
          "xval": 60,
          "y": 382.05054442074044,
          "yval": 27.272727272727273
         },
         "value": 1
        },
        {
         "source": {
          "index": 19,
          "label": "h1,8",
          "label_display": "none",
          "px": 436.96694163354766,
          "py": 370.835219648978,
          "shape": "circle",
          "shape_attrs": {
           "r": 15
          },
          "value": null,
          "weight": 22,
          "x": 436.93081668870667,
          "xval": 40,
          "y": 370.7487234007221,
          "yval": 61.904761904761905
         },
         "target": {
          "fixed": 0,
          "index": 40,
          "label": "h2,9",
          "label_display": "none",
          "px": 541.8789771051929,
          "py": 399.51769602374225,
          "shape": "circle",
          "shape_attrs": {
           "r": 15
          },
          "value": null,
          "weight": 21,
          "x": 541.8789771051929,
          "xval": 60,
          "y": 399.51769602374225,
          "yval": 18.181818181818183
         },
         "value": 1
        },
        {
         "source": {
          "index": 19,
          "label": "h1,8",
          "label_display": "none",
          "px": 436.96694163354766,
          "py": 370.835219648978,
          "shape": "circle",
          "shape_attrs": {
           "r": 15
          },
          "value": null,
          "weight": 22,
          "x": 436.93081668870667,
          "xval": 40,
          "y": 370.7487234007221,
          "yval": 61.904761904761905
         },
         "target": {
          "index": 41,
          "label": "h2,10",
          "label_display": "none",
          "px": 540.9635353553583,
          "py": 390.2506362665784,
          "shape": "circle",
          "shape_attrs": {
           "r": 15
          },
          "value": null,
          "weight": 21,
          "x": 541.0069568340803,
          "xval": 60,
          "y": 390.2620434189789,
          "yval": 9.090909090909092
         },
         "value": 1
        },
        {
         "source": {
          "index": 20,
          "label": "h1,9",
          "label_display": "none",
          "px": 443.12903262452926,
          "py": 397.77183731760726,
          "shape": "circle",
          "shape_attrs": {
           "r": 15
          },
          "value": null,
          "weight": 22,
          "x": 443.1225250371738,
          "xval": 40,
          "y": 397.77048960247726,
          "yval": 57.14285714285714
         },
         "target": {
          "fixed": 0,
          "index": 32,
          "label": "h2,1",
          "label_display": "none",
          "px": 348.4069633574117,
          "py": 408.76281398343616,
          "shape": "circle",
          "shape_attrs": {
           "r": 15
          },
          "value": null,
          "weight": 21,
          "x": 348.4069633574117,
          "xval": 60,
          "y": 408.76281398343616,
          "yval": 90.90909090909092
         },
         "value": 1
        },
        {
         "source": {
          "index": 20,
          "label": "h1,9",
          "label_display": "none",
          "px": 443.12903262452926,
          "py": 397.77183731760726,
          "shape": "circle",
          "shape_attrs": {
           "r": 15
          },
          "value": null,
          "weight": 22,
          "x": 443.1225250371738,
          "xval": 40,
          "y": 397.77048960247726,
          "yval": 57.14285714285714
         },
         "target": {
          "fixed": 0,
          "index": 33,
          "label": "h2,2",
          "label_display": "none",
          "px": 348.98267226676734,
          "py": 414.2410318591959,
          "shape": "circle",
          "shape_attrs": {
           "r": 15
          },
          "value": null,
          "weight": 21,
          "x": 348.98267226676734,
          "xval": 60,
          "y": 414.2410318591959,
          "yval": 81.81818181818183
         },
         "value": 1
        },
        {
         "source": {
          "index": 20,
          "label": "h1,9",
          "label_display": "none",
          "px": 443.12903262452926,
          "py": 397.77183731760726,
          "shape": "circle",
          "shape_attrs": {
           "r": 15
          },
          "value": null,
          "weight": 22,
          "x": 443.1225250371738,
          "xval": 40,
          "y": 397.77048960247726,
          "yval": 57.14285714285714
         },
         "target": {
          "fixed": 0,
          "index": 34,
          "label": "h2,3",
          "label_display": "none",
          "px": 537.4603229397491,
          "py": 374.0357973649497,
          "shape": "circle",
          "shape_attrs": {
           "r": 15
          },
          "value": null,
          "weight": 21,
          "x": 537.4603229397491,
          "xval": 60,
          "y": 374.0357973649497,
          "yval": 72.72727272727273
         },
         "value": 1
        },
        {
         "source": {
          "index": 20,
          "label": "h1,9",
          "label_display": "none",
          "px": 443.12903262452926,
          "py": 397.77183731760726,
          "shape": "circle",
          "shape_attrs": {
           "r": 15
          },
          "value": null,
          "weight": 22,
          "x": 443.1225250371738,
          "xval": 40,
          "y": 397.77048960247726,
          "yval": 57.14285714285714
         },
         "target": {
          "index": 35,
          "label": "h2,4",
          "label_display": "none",
          "px": 538.4970595658459,
          "py": 378.0861567241818,
          "shape": "circle",
          "shape_attrs": {
           "r": 15
          },
          "value": null,
          "weight": 21,
          "x": 538.5316781024794,
          "xval": 60,
          "y": 378.0560742106646,
          "yval": 63.63636363636364
         },
         "value": 1
        },
        {
         "source": {
          "index": 20,
          "label": "h1,9",
          "label_display": "none",
          "px": 443.12903262452926,
          "py": 397.77183731760726,
          "shape": "circle",
          "shape_attrs": {
           "r": 15
          },
          "value": null,
          "weight": 22,
          "x": 443.1225250371738,
          "xval": 40,
          "y": 397.77048960247726,
          "yval": 57.14285714285714
         },
         "target": {
          "index": 36,
          "label": "h2,5",
          "label_display": "none",
          "px": 541.9506789452461,
          "py": 405.2045046484753,
          "shape": "circle",
          "shape_attrs": {
           "r": 15
          },
          "value": null,
          "weight": 21,
          "x": 541.9919124283681,
          "xval": 60,
          "y": 405.2694016450591,
          "yval": 54.54545454545455
         },
         "value": 1
        },
        {
         "source": {
          "index": 20,
          "label": "h1,9",
          "label_display": "none",
          "px": 443.12903262452926,
          "py": 397.77183731760726,
          "shape": "circle",
          "shape_attrs": {
           "r": 15
          },
          "value": null,
          "weight": 22,
          "x": 443.1225250371738,
          "xval": 40,
          "y": 397.77048960247726,
          "yval": 57.14285714285714
         },
         "target": {
          "index": 37,
          "label": "h2,6",
          "label_display": "none",
          "px": 540.2884600965493,
          "py": 386.07667443285,
          "shape": "circle",
          "shape_attrs": {
           "r": 15
          },
          "value": null,
          "weight": 21,
          "x": 540.3296107385247,
          "xval": 60,
          "y": 386.0726175500124,
          "yval": 45.45454545454546
         },
         "value": 1
        },
        {
         "source": {
          "index": 20,
          "label": "h1,9",
          "label_display": "none",
          "px": 443.12903262452926,
          "py": 397.77183731760726,
          "shape": "circle",
          "shape_attrs": {
           "r": 15
          },
          "value": null,
          "weight": 22,
          "x": 443.1225250371738,
          "xval": 40,
          "y": 397.77048960247726,
          "yval": 57.14285714285714
         },
         "target": {
          "index": 38,
          "label": "h2,7",
          "label_display": "none",
          "px": 541.4812921164678,
          "py": 394.6419287169871,
          "shape": "circle",
          "shape_attrs": {
           "r": 15
          },
          "value": null,
          "weight": 21,
          "x": 541.5256498499048,
          "xval": 60,
          "y": 394.6711846016649,
          "yval": 36.36363636363637
         },
         "value": 1
        },
        {
         "source": {
          "index": 20,
          "label": "h1,9",
          "label_display": "none",
          "px": 443.12903262452926,
          "py": 397.77183731760726,
          "shape": "circle",
          "shape_attrs": {
           "r": 15
          },
          "value": null,
          "weight": 22,
          "x": 443.1225250371738,
          "xval": 40,
          "y": 397.77048960247726,
          "yval": 57.14285714285714
         },
         "target": {
          "index": 39,
          "label": "h2,8",
          "label_display": "none",
          "px": 539.4750872865833,
          "py": 382.06791160469925,
          "shape": "circle",
          "shape_attrs": {
           "r": 15
          },
          "value": null,
          "weight": 21,
          "x": 539.5135288298698,
          "xval": 60,
          "y": 382.05054442074044,
          "yval": 27.272727272727273
         },
         "value": 1
        },
        {
         "source": {
          "index": 20,
          "label": "h1,9",
          "label_display": "none",
          "px": 443.12903262452926,
          "py": 397.77183731760726,
          "shape": "circle",
          "shape_attrs": {
           "r": 15
          },
          "value": null,
          "weight": 22,
          "x": 443.1225250371738,
          "xval": 40,
          "y": 397.77048960247726,
          "yval": 57.14285714285714
         },
         "target": {
          "fixed": 0,
          "index": 40,
          "label": "h2,9",
          "label_display": "none",
          "px": 541.8789771051929,
          "py": 399.51769602374225,
          "shape": "circle",
          "shape_attrs": {
           "r": 15
          },
          "value": null,
          "weight": 21,
          "x": 541.8789771051929,
          "xval": 60,
          "y": 399.51769602374225,
          "yval": 18.181818181818183
         },
         "value": 1
        },
        {
         "source": {
          "index": 20,
          "label": "h1,9",
          "label_display": "none",
          "px": 443.12903262452926,
          "py": 397.77183731760726,
          "shape": "circle",
          "shape_attrs": {
           "r": 15
          },
          "value": null,
          "weight": 22,
          "x": 443.1225250371738,
          "xval": 40,
          "y": 397.77048960247726,
          "yval": 57.14285714285714
         },
         "target": {
          "index": 41,
          "label": "h2,10",
          "label_display": "none",
          "px": 540.9635353553583,
          "py": 390.2506362665784,
          "shape": "circle",
          "shape_attrs": {
           "r": 15
          },
          "value": null,
          "weight": 21,
          "x": 541.0069568340803,
          "xval": 60,
          "y": 390.2620434189789,
          "yval": 9.090909090909092
         },
         "value": 1
        },
        {
         "source": {
          "index": 21,
          "label": "h1,10",
          "label_display": "none",
          "px": 453.47719733511025,
          "py": 437.1791317957166,
          "shape": "circle",
          "shape_attrs": {
           "r": 15
          },
          "value": null,
          "weight": 22,
          "x": 453.50705008596486,
          "xval": 40,
          "y": 437.28186603254966,
          "yval": 52.38095238095238
         },
         "target": {
          "fixed": 0,
          "index": 32,
          "label": "h2,1",
          "label_display": "none",
          "px": 348.4069633574117,
          "py": 408.76281398343616,
          "shape": "circle",
          "shape_attrs": {
           "r": 15
          },
          "value": null,
          "weight": 21,
          "x": 348.4069633574117,
          "xval": 60,
          "y": 408.76281398343616,
          "yval": 90.90909090909092
         },
         "value": 1
        },
        {
         "source": {
          "index": 21,
          "label": "h1,10",
          "label_display": "none",
          "px": 453.47719733511025,
          "py": 437.1791317957166,
          "shape": "circle",
          "shape_attrs": {
           "r": 15
          },
          "value": null,
          "weight": 22,
          "x": 453.50705008596486,
          "xval": 40,
          "y": 437.28186603254966,
          "yval": 52.38095238095238
         },
         "target": {
          "fixed": 0,
          "index": 33,
          "label": "h2,2",
          "label_display": "none",
          "px": 348.98267226676734,
          "py": 414.2410318591959,
          "shape": "circle",
          "shape_attrs": {
           "r": 15
          },
          "value": null,
          "weight": 21,
          "x": 348.98267226676734,
          "xval": 60,
          "y": 414.2410318591959,
          "yval": 81.81818181818183
         },
         "value": 1
        },
        {
         "source": {
          "index": 21,
          "label": "h1,10",
          "label_display": "none",
          "px": 453.47719733511025,
          "py": 437.1791317957166,
          "shape": "circle",
          "shape_attrs": {
           "r": 15
          },
          "value": null,
          "weight": 22,
          "x": 453.50705008596486,
          "xval": 40,
          "y": 437.28186603254966,
          "yval": 52.38095238095238
         },
         "target": {
          "fixed": 0,
          "index": 34,
          "label": "h2,3",
          "label_display": "none",
          "px": 537.4603229397491,
          "py": 374.0357973649497,
          "shape": "circle",
          "shape_attrs": {
           "r": 15
          },
          "value": null,
          "weight": 21,
          "x": 537.4603229397491,
          "xval": 60,
          "y": 374.0357973649497,
          "yval": 72.72727272727273
         },
         "value": 1
        },
        {
         "source": {
          "index": 21,
          "label": "h1,10",
          "label_display": "none",
          "px": 453.47719733511025,
          "py": 437.1791317957166,
          "shape": "circle",
          "shape_attrs": {
           "r": 15
          },
          "value": null,
          "weight": 22,
          "x": 453.50705008596486,
          "xval": 40,
          "y": 437.28186603254966,
          "yval": 52.38095238095238
         },
         "target": {
          "index": 35,
          "label": "h2,4",
          "label_display": "none",
          "px": 538.4970595658459,
          "py": 378.0861567241818,
          "shape": "circle",
          "shape_attrs": {
           "r": 15
          },
          "value": null,
          "weight": 21,
          "x": 538.5316781024794,
          "xval": 60,
          "y": 378.0560742106646,
          "yval": 63.63636363636364
         },
         "value": 1
        },
        {
         "source": {
          "index": 21,
          "label": "h1,10",
          "label_display": "none",
          "px": 453.47719733511025,
          "py": 437.1791317957166,
          "shape": "circle",
          "shape_attrs": {
           "r": 15
          },
          "value": null,
          "weight": 22,
          "x": 453.50705008596486,
          "xval": 40,
          "y": 437.28186603254966,
          "yval": 52.38095238095238
         },
         "target": {
          "index": 36,
          "label": "h2,5",
          "label_display": "none",
          "px": 541.9506789452461,
          "py": 405.2045046484753,
          "shape": "circle",
          "shape_attrs": {
           "r": 15
          },
          "value": null,
          "weight": 21,
          "x": 541.9919124283681,
          "xval": 60,
          "y": 405.2694016450591,
          "yval": 54.54545454545455
         },
         "value": 1
        },
        {
         "source": {
          "index": 21,
          "label": "h1,10",
          "label_display": "none",
          "px": 453.47719733511025,
          "py": 437.1791317957166,
          "shape": "circle",
          "shape_attrs": {
           "r": 15
          },
          "value": null,
          "weight": 22,
          "x": 453.50705008596486,
          "xval": 40,
          "y": 437.28186603254966,
          "yval": 52.38095238095238
         },
         "target": {
          "index": 37,
          "label": "h2,6",
          "label_display": "none",
          "px": 540.2884600965493,
          "py": 386.07667443285,
          "shape": "circle",
          "shape_attrs": {
           "r": 15
          },
          "value": null,
          "weight": 21,
          "x": 540.3296107385247,
          "xval": 60,
          "y": 386.0726175500124,
          "yval": 45.45454545454546
         },
         "value": 1
        },
        {
         "source": {
          "index": 21,
          "label": "h1,10",
          "label_display": "none",
          "px": 453.47719733511025,
          "py": 437.1791317957166,
          "shape": "circle",
          "shape_attrs": {
           "r": 15
          },
          "value": null,
          "weight": 22,
          "x": 453.50705008596486,
          "xval": 40,
          "y": 437.28186603254966,
          "yval": 52.38095238095238
         },
         "target": {
          "index": 38,
          "label": "h2,7",
          "label_display": "none",
          "px": 541.4812921164678,
          "py": 394.6419287169871,
          "shape": "circle",
          "shape_attrs": {
           "r": 15
          },
          "value": null,
          "weight": 21,
          "x": 541.5256498499048,
          "xval": 60,
          "y": 394.6711846016649,
          "yval": 36.36363636363637
         },
         "value": 1
        },
        {
         "source": {
          "index": 21,
          "label": "h1,10",
          "label_display": "none",
          "px": 453.47719733511025,
          "py": 437.1791317957166,
          "shape": "circle",
          "shape_attrs": {
           "r": 15
          },
          "value": null,
          "weight": 22,
          "x": 453.50705008596486,
          "xval": 40,
          "y": 437.28186603254966,
          "yval": 52.38095238095238
         },
         "target": {
          "index": 39,
          "label": "h2,8",
          "label_display": "none",
          "px": 539.4750872865833,
          "py": 382.06791160469925,
          "shape": "circle",
          "shape_attrs": {
           "r": 15
          },
          "value": null,
          "weight": 21,
          "x": 539.5135288298698,
          "xval": 60,
          "y": 382.05054442074044,
          "yval": 27.272727272727273
         },
         "value": 1
        },
        {
         "source": {
          "index": 21,
          "label": "h1,10",
          "label_display": "none",
          "px": 453.47719733511025,
          "py": 437.1791317957166,
          "shape": "circle",
          "shape_attrs": {
           "r": 15
          },
          "value": null,
          "weight": 22,
          "x": 453.50705008596486,
          "xval": 40,
          "y": 437.28186603254966,
          "yval": 52.38095238095238
         },
         "target": {
          "fixed": 0,
          "index": 40,
          "label": "h2,9",
          "label_display": "none",
          "px": 541.8789771051929,
          "py": 399.51769602374225,
          "shape": "circle",
          "shape_attrs": {
           "r": 15
          },
          "value": null,
          "weight": 21,
          "x": 541.8789771051929,
          "xval": 60,
          "y": 399.51769602374225,
          "yval": 18.181818181818183
         },
         "value": 1
        },
        {
         "source": {
          "index": 21,
          "label": "h1,10",
          "label_display": "none",
          "px": 453.47719733511025,
          "py": 437.1791317957166,
          "shape": "circle",
          "shape_attrs": {
           "r": 15
          },
          "value": null,
          "weight": 22,
          "x": 453.50705008596486,
          "xval": 40,
          "y": 437.28186603254966,
          "yval": 52.38095238095238
         },
         "target": {
          "index": 41,
          "label": "h2,10",
          "label_display": "none",
          "px": 540.9635353553583,
          "py": 390.2506362665784,
          "shape": "circle",
          "shape_attrs": {
           "r": 15
          },
          "value": null,
          "weight": 21,
          "x": 541.0069568340803,
          "xval": 60,
          "y": 390.2620434189789,
          "yval": 9.090909090909092
         },
         "value": 1
        },
        {
         "source": {
          "index": 22,
          "label": "h1,11",
          "label_display": "none",
          "px": 450.6931880317312,
          "py": 427.36854915169533,
          "shape": "circle",
          "shape_attrs": {
           "r": 15
          },
          "value": null,
          "weight": 22,
          "x": 450.70224459711284,
          "xval": 40,
          "y": 427.40707742900895,
          "yval": 47.61904761904762
         },
         "target": {
          "fixed": 0,
          "index": 32,
          "label": "h2,1",
          "label_display": "none",
          "px": 348.4069633574117,
          "py": 408.76281398343616,
          "shape": "circle",
          "shape_attrs": {
           "r": 15
          },
          "value": null,
          "weight": 21,
          "x": 348.4069633574117,
          "xval": 60,
          "y": 408.76281398343616,
          "yval": 90.90909090909092
         },
         "value": 1
        },
        {
         "source": {
          "index": 22,
          "label": "h1,11",
          "label_display": "none",
          "px": 450.6931880317312,
          "py": 427.36854915169533,
          "shape": "circle",
          "shape_attrs": {
           "r": 15
          },
          "value": null,
          "weight": 22,
          "x": 450.70224459711284,
          "xval": 40,
          "y": 427.40707742900895,
          "yval": 47.61904761904762
         },
         "target": {
          "fixed": 0,
          "index": 33,
          "label": "h2,2",
          "label_display": "none",
          "px": 348.98267226676734,
          "py": 414.2410318591959,
          "shape": "circle",
          "shape_attrs": {
           "r": 15
          },
          "value": null,
          "weight": 21,
          "x": 348.98267226676734,
          "xval": 60,
          "y": 414.2410318591959,
          "yval": 81.81818181818183
         },
         "value": 1
        },
        {
         "source": {
          "index": 22,
          "label": "h1,11",
          "label_display": "none",
          "px": 450.6931880317312,
          "py": 427.36854915169533,
          "shape": "circle",
          "shape_attrs": {
           "r": 15
          },
          "value": null,
          "weight": 22,
          "x": 450.70224459711284,
          "xval": 40,
          "y": 427.40707742900895,
          "yval": 47.61904761904762
         },
         "target": {
          "fixed": 0,
          "index": 34,
          "label": "h2,3",
          "label_display": "none",
          "px": 537.4603229397491,
          "py": 374.0357973649497,
          "shape": "circle",
          "shape_attrs": {
           "r": 15
          },
          "value": null,
          "weight": 21,
          "x": 537.4603229397491,
          "xval": 60,
          "y": 374.0357973649497,
          "yval": 72.72727272727273
         },
         "value": 1
        },
        {
         "source": {
          "index": 22,
          "label": "h1,11",
          "label_display": "none",
          "px": 450.6931880317312,
          "py": 427.36854915169533,
          "shape": "circle",
          "shape_attrs": {
           "r": 15
          },
          "value": null,
          "weight": 22,
          "x": 450.70224459711284,
          "xval": 40,
          "y": 427.40707742900895,
          "yval": 47.61904761904762
         },
         "target": {
          "index": 35,
          "label": "h2,4",
          "label_display": "none",
          "px": 538.4970595658459,
          "py": 378.0861567241818,
          "shape": "circle",
          "shape_attrs": {
           "r": 15
          },
          "value": null,
          "weight": 21,
          "x": 538.5316781024794,
          "xval": 60,
          "y": 378.0560742106646,
          "yval": 63.63636363636364
         },
         "value": 1
        },
        {
         "source": {
          "index": 22,
          "label": "h1,11",
          "label_display": "none",
          "px": 450.6931880317312,
          "py": 427.36854915169533,
          "shape": "circle",
          "shape_attrs": {
           "r": 15
          },
          "value": null,
          "weight": 22,
          "x": 450.70224459711284,
          "xval": 40,
          "y": 427.40707742900895,
          "yval": 47.61904761904762
         },
         "target": {
          "index": 36,
          "label": "h2,5",
          "label_display": "none",
          "px": 541.9506789452461,
          "py": 405.2045046484753,
          "shape": "circle",
          "shape_attrs": {
           "r": 15
          },
          "value": null,
          "weight": 21,
          "x": 541.9919124283681,
          "xval": 60,
          "y": 405.2694016450591,
          "yval": 54.54545454545455
         },
         "value": 1
        },
        {
         "source": {
          "index": 22,
          "label": "h1,11",
          "label_display": "none",
          "px": 450.6931880317312,
          "py": 427.36854915169533,
          "shape": "circle",
          "shape_attrs": {
           "r": 15
          },
          "value": null,
          "weight": 22,
          "x": 450.70224459711284,
          "xval": 40,
          "y": 427.40707742900895,
          "yval": 47.61904761904762
         },
         "target": {
          "index": 37,
          "label": "h2,6",
          "label_display": "none",
          "px": 540.2884600965493,
          "py": 386.07667443285,
          "shape": "circle",
          "shape_attrs": {
           "r": 15
          },
          "value": null,
          "weight": 21,
          "x": 540.3296107385247,
          "xval": 60,
          "y": 386.0726175500124,
          "yval": 45.45454545454546
         },
         "value": 1
        },
        {
         "source": {
          "index": 22,
          "label": "h1,11",
          "label_display": "none",
          "px": 450.6931880317312,
          "py": 427.36854915169533,
          "shape": "circle",
          "shape_attrs": {
           "r": 15
          },
          "value": null,
          "weight": 22,
          "x": 450.70224459711284,
          "xval": 40,
          "y": 427.40707742900895,
          "yval": 47.61904761904762
         },
         "target": {
          "index": 38,
          "label": "h2,7",
          "label_display": "none",
          "px": 541.4812921164678,
          "py": 394.6419287169871,
          "shape": "circle",
          "shape_attrs": {
           "r": 15
          },
          "value": null,
          "weight": 21,
          "x": 541.5256498499048,
          "xval": 60,
          "y": 394.6711846016649,
          "yval": 36.36363636363637
         },
         "value": 1
        },
        {
         "source": {
          "index": 22,
          "label": "h1,11",
          "label_display": "none",
          "px": 450.6931880317312,
          "py": 427.36854915169533,
          "shape": "circle",
          "shape_attrs": {
           "r": 15
          },
          "value": null,
          "weight": 22,
          "x": 450.70224459711284,
          "xval": 40,
          "y": 427.40707742900895,
          "yval": 47.61904761904762
         },
         "target": {
          "index": 39,
          "label": "h2,8",
          "label_display": "none",
          "px": 539.4750872865833,
          "py": 382.06791160469925,
          "shape": "circle",
          "shape_attrs": {
           "r": 15
          },
          "value": null,
          "weight": 21,
          "x": 539.5135288298698,
          "xval": 60,
          "y": 382.05054442074044,
          "yval": 27.272727272727273
         },
         "value": 1
        },
        {
         "source": {
          "index": 22,
          "label": "h1,11",
          "label_display": "none",
          "px": 450.6931880317312,
          "py": 427.36854915169533,
          "shape": "circle",
          "shape_attrs": {
           "r": 15
          },
          "value": null,
          "weight": 22,
          "x": 450.70224459711284,
          "xval": 40,
          "y": 427.40707742900895,
          "yval": 47.61904761904762
         },
         "target": {
          "fixed": 0,
          "index": 40,
          "label": "h2,9",
          "label_display": "none",
          "px": 541.8789771051929,
          "py": 399.51769602374225,
          "shape": "circle",
          "shape_attrs": {
           "r": 15
          },
          "value": null,
          "weight": 21,
          "x": 541.8789771051929,
          "xval": 60,
          "y": 399.51769602374225,
          "yval": 18.181818181818183
         },
         "value": 1
        },
        {
         "source": {
          "index": 22,
          "label": "h1,11",
          "label_display": "none",
          "px": 450.6931880317312,
          "py": 427.36854915169533,
          "shape": "circle",
          "shape_attrs": {
           "r": 15
          },
          "value": null,
          "weight": 22,
          "x": 450.70224459711284,
          "xval": 40,
          "y": 427.40707742900895,
          "yval": 47.61904761904762
         },
         "target": {
          "index": 41,
          "label": "h2,10",
          "label_display": "none",
          "px": 540.9635353553583,
          "py": 390.2506362665784,
          "shape": "circle",
          "shape_attrs": {
           "r": 15
          },
          "value": null,
          "weight": 21,
          "x": 541.0069568340803,
          "xval": 60,
          "y": 390.2620434189789,
          "yval": 9.090909090909092
         },
         "value": 1
        },
        {
         "source": {
          "index": 23,
          "label": "h1,12",
          "label_display": "none",
          "px": 451.616956869591,
          "py": 430.68399636795544,
          "shape": "circle",
          "shape_attrs": {
           "r": 15
          },
          "value": null,
          "weight": 22,
          "x": 451.6308613454441,
          "xval": 40,
          "y": 430.73607807474326,
          "yval": 42.857142857142854
         },
         "target": {
          "fixed": 0,
          "index": 32,
          "label": "h2,1",
          "label_display": "none",
          "px": 348.4069633574117,
          "py": 408.76281398343616,
          "shape": "circle",
          "shape_attrs": {
           "r": 15
          },
          "value": null,
          "weight": 21,
          "x": 348.4069633574117,
          "xval": 60,
          "y": 408.76281398343616,
          "yval": 90.90909090909092
         },
         "value": 1
        },
        {
         "source": {
          "index": 23,
          "label": "h1,12",
          "label_display": "none",
          "px": 451.616956869591,
          "py": 430.68399636795544,
          "shape": "circle",
          "shape_attrs": {
           "r": 15
          },
          "value": null,
          "weight": 22,
          "x": 451.6308613454441,
          "xval": 40,
          "y": 430.73607807474326,
          "yval": 42.857142857142854
         },
         "target": {
          "fixed": 0,
          "index": 33,
          "label": "h2,2",
          "label_display": "none",
          "px": 348.98267226676734,
          "py": 414.2410318591959,
          "shape": "circle",
          "shape_attrs": {
           "r": 15
          },
          "value": null,
          "weight": 21,
          "x": 348.98267226676734,
          "xval": 60,
          "y": 414.2410318591959,
          "yval": 81.81818181818183
         },
         "value": 1
        },
        {
         "source": {
          "index": 23,
          "label": "h1,12",
          "label_display": "none",
          "px": 451.616956869591,
          "py": 430.68399636795544,
          "shape": "circle",
          "shape_attrs": {
           "r": 15
          },
          "value": null,
          "weight": 22,
          "x": 451.6308613454441,
          "xval": 40,
          "y": 430.73607807474326,
          "yval": 42.857142857142854
         },
         "target": {
          "fixed": 0,
          "index": 34,
          "label": "h2,3",
          "label_display": "none",
          "px": 537.4603229397491,
          "py": 374.0357973649497,
          "shape": "circle",
          "shape_attrs": {
           "r": 15
          },
          "value": null,
          "weight": 21,
          "x": 537.4603229397491,
          "xval": 60,
          "y": 374.0357973649497,
          "yval": 72.72727272727273
         },
         "value": 1
        },
        {
         "source": {
          "index": 23,
          "label": "h1,12",
          "label_display": "none",
          "px": 451.616956869591,
          "py": 430.68399636795544,
          "shape": "circle",
          "shape_attrs": {
           "r": 15
          },
          "value": null,
          "weight": 22,
          "x": 451.6308613454441,
          "xval": 40,
          "y": 430.73607807474326,
          "yval": 42.857142857142854
         },
         "target": {
          "index": 35,
          "label": "h2,4",
          "label_display": "none",
          "px": 538.4970595658459,
          "py": 378.0861567241818,
          "shape": "circle",
          "shape_attrs": {
           "r": 15
          },
          "value": null,
          "weight": 21,
          "x": 538.5316781024794,
          "xval": 60,
          "y": 378.0560742106646,
          "yval": 63.63636363636364
         },
         "value": 1
        },
        {
         "source": {
          "index": 23,
          "label": "h1,12",
          "label_display": "none",
          "px": 451.616956869591,
          "py": 430.68399636795544,
          "shape": "circle",
          "shape_attrs": {
           "r": 15
          },
          "value": null,
          "weight": 22,
          "x": 451.6308613454441,
          "xval": 40,
          "y": 430.73607807474326,
          "yval": 42.857142857142854
         },
         "target": {
          "index": 36,
          "label": "h2,5",
          "label_display": "none",
          "px": 541.9506789452461,
          "py": 405.2045046484753,
          "shape": "circle",
          "shape_attrs": {
           "r": 15
          },
          "value": null,
          "weight": 21,
          "x": 541.9919124283681,
          "xval": 60,
          "y": 405.2694016450591,
          "yval": 54.54545454545455
         },
         "value": 1
        },
        {
         "source": {
          "index": 23,
          "label": "h1,12",
          "label_display": "none",
          "px": 451.616956869591,
          "py": 430.68399636795544,
          "shape": "circle",
          "shape_attrs": {
           "r": 15
          },
          "value": null,
          "weight": 22,
          "x": 451.6308613454441,
          "xval": 40,
          "y": 430.73607807474326,
          "yval": 42.857142857142854
         },
         "target": {
          "index": 37,
          "label": "h2,6",
          "label_display": "none",
          "px": 540.2884600965493,
          "py": 386.07667443285,
          "shape": "circle",
          "shape_attrs": {
           "r": 15
          },
          "value": null,
          "weight": 21,
          "x": 540.3296107385247,
          "xval": 60,
          "y": 386.0726175500124,
          "yval": 45.45454545454546
         },
         "value": 1
        },
        {
         "source": {
          "index": 23,
          "label": "h1,12",
          "label_display": "none",
          "px": 451.616956869591,
          "py": 430.68399636795544,
          "shape": "circle",
          "shape_attrs": {
           "r": 15
          },
          "value": null,
          "weight": 22,
          "x": 451.6308613454441,
          "xval": 40,
          "y": 430.73607807474326,
          "yval": 42.857142857142854
         },
         "target": {
          "index": 38,
          "label": "h2,7",
          "label_display": "none",
          "px": 541.4812921164678,
          "py": 394.6419287169871,
          "shape": "circle",
          "shape_attrs": {
           "r": 15
          },
          "value": null,
          "weight": 21,
          "x": 541.5256498499048,
          "xval": 60,
          "y": 394.6711846016649,
          "yval": 36.36363636363637
         },
         "value": 1
        },
        {
         "source": {
          "index": 23,
          "label": "h1,12",
          "label_display": "none",
          "px": 451.616956869591,
          "py": 430.68399636795544,
          "shape": "circle",
          "shape_attrs": {
           "r": 15
          },
          "value": null,
          "weight": 22,
          "x": 451.6308613454441,
          "xval": 40,
          "y": 430.73607807474326,
          "yval": 42.857142857142854
         },
         "target": {
          "index": 39,
          "label": "h2,8",
          "label_display": "none",
          "px": 539.4750872865833,
          "py": 382.06791160469925,
          "shape": "circle",
          "shape_attrs": {
           "r": 15
          },
          "value": null,
          "weight": 21,
          "x": 539.5135288298698,
          "xval": 60,
          "y": 382.05054442074044,
          "yval": 27.272727272727273
         },
         "value": 1
        },
        {
         "source": {
          "index": 23,
          "label": "h1,12",
          "label_display": "none",
          "px": 451.616956869591,
          "py": 430.68399636795544,
          "shape": "circle",
          "shape_attrs": {
           "r": 15
          },
          "value": null,
          "weight": 22,
          "x": 451.6308613454441,
          "xval": 40,
          "y": 430.73607807474326,
          "yval": 42.857142857142854
         },
         "target": {
          "fixed": 0,
          "index": 40,
          "label": "h2,9",
          "label_display": "none",
          "px": 541.8789771051929,
          "py": 399.51769602374225,
          "shape": "circle",
          "shape_attrs": {
           "r": 15
          },
          "value": null,
          "weight": 21,
          "x": 541.8789771051929,
          "xval": 60,
          "y": 399.51769602374225,
          "yval": 18.181818181818183
         },
         "value": 1
        },
        {
         "source": {
          "index": 23,
          "label": "h1,12",
          "label_display": "none",
          "px": 451.616956869591,
          "py": 430.68399636795544,
          "shape": "circle",
          "shape_attrs": {
           "r": 15
          },
          "value": null,
          "weight": 22,
          "x": 451.6308613454441,
          "xval": 40,
          "y": 430.73607807474326,
          "yval": 42.857142857142854
         },
         "target": {
          "index": 41,
          "label": "h2,10",
          "label_display": "none",
          "px": 540.9635353553583,
          "py": 390.2506362665784,
          "shape": "circle",
          "shape_attrs": {
           "r": 15
          },
          "value": null,
          "weight": 21,
          "x": 541.0069568340803,
          "xval": 60,
          "y": 390.2620434189789,
          "yval": 9.090909090909092
         },
         "value": 1
        },
        {
         "source": {
          "index": 24,
          "label": "h1,13",
          "label_display": "none",
          "px": 449.7701933541918,
          "py": 423.95395938325044,
          "shape": "circle",
          "shape_attrs": {
           "r": 15
          },
          "value": null,
          "weight": 22,
          "x": 449.77543161498545,
          "xval": 40,
          "y": 423.979666438766,
          "yval": 38.095238095238095
         },
         "target": {
          "fixed": 0,
          "index": 32,
          "label": "h2,1",
          "label_display": "none",
          "px": 348.4069633574117,
          "py": 408.76281398343616,
          "shape": "circle",
          "shape_attrs": {
           "r": 15
          },
          "value": null,
          "weight": 21,
          "x": 348.4069633574117,
          "xval": 60,
          "y": 408.76281398343616,
          "yval": 90.90909090909092
         },
         "value": 1
        },
        {
         "source": {
          "index": 24,
          "label": "h1,13",
          "label_display": "none",
          "px": 449.7701933541918,
          "py": 423.95395938325044,
          "shape": "circle",
          "shape_attrs": {
           "r": 15
          },
          "value": null,
          "weight": 22,
          "x": 449.77543161498545,
          "xval": 40,
          "y": 423.979666438766,
          "yval": 38.095238095238095
         },
         "target": {
          "fixed": 0,
          "index": 33,
          "label": "h2,2",
          "label_display": "none",
          "px": 348.98267226676734,
          "py": 414.2410318591959,
          "shape": "circle",
          "shape_attrs": {
           "r": 15
          },
          "value": null,
          "weight": 21,
          "x": 348.98267226676734,
          "xval": 60,
          "y": 414.2410318591959,
          "yval": 81.81818181818183
         },
         "value": 1
        },
        {
         "source": {
          "index": 24,
          "label": "h1,13",
          "label_display": "none",
          "px": 449.7701933541918,
          "py": 423.95395938325044,
          "shape": "circle",
          "shape_attrs": {
           "r": 15
          },
          "value": null,
          "weight": 22,
          "x": 449.77543161498545,
          "xval": 40,
          "y": 423.979666438766,
          "yval": 38.095238095238095
         },
         "target": {
          "fixed": 0,
          "index": 34,
          "label": "h2,3",
          "label_display": "none",
          "px": 537.4603229397491,
          "py": 374.0357973649497,
          "shape": "circle",
          "shape_attrs": {
           "r": 15
          },
          "value": null,
          "weight": 21,
          "x": 537.4603229397491,
          "xval": 60,
          "y": 374.0357973649497,
          "yval": 72.72727272727273
         },
         "value": 1
        },
        {
         "source": {
          "index": 24,
          "label": "h1,13",
          "label_display": "none",
          "px": 449.7701933541918,
          "py": 423.95395938325044,
          "shape": "circle",
          "shape_attrs": {
           "r": 15
          },
          "value": null,
          "weight": 22,
          "x": 449.77543161498545,
          "xval": 40,
          "y": 423.979666438766,
          "yval": 38.095238095238095
         },
         "target": {
          "index": 35,
          "label": "h2,4",
          "label_display": "none",
          "px": 538.4970595658459,
          "py": 378.0861567241818,
          "shape": "circle",
          "shape_attrs": {
           "r": 15
          },
          "value": null,
          "weight": 21,
          "x": 538.5316781024794,
          "xval": 60,
          "y": 378.0560742106646,
          "yval": 63.63636363636364
         },
         "value": 1
        },
        {
         "source": {
          "index": 24,
          "label": "h1,13",
          "label_display": "none",
          "px": 449.7701933541918,
          "py": 423.95395938325044,
          "shape": "circle",
          "shape_attrs": {
           "r": 15
          },
          "value": null,
          "weight": 22,
          "x": 449.77543161498545,
          "xval": 40,
          "y": 423.979666438766,
          "yval": 38.095238095238095
         },
         "target": {
          "index": 36,
          "label": "h2,5",
          "label_display": "none",
          "px": 541.9506789452461,
          "py": 405.2045046484753,
          "shape": "circle",
          "shape_attrs": {
           "r": 15
          },
          "value": null,
          "weight": 21,
          "x": 541.9919124283681,
          "xval": 60,
          "y": 405.2694016450591,
          "yval": 54.54545454545455
         },
         "value": 1
        },
        {
         "source": {
          "index": 24,
          "label": "h1,13",
          "label_display": "none",
          "px": 449.7701933541918,
          "py": 423.95395938325044,
          "shape": "circle",
          "shape_attrs": {
           "r": 15
          },
          "value": null,
          "weight": 22,
          "x": 449.77543161498545,
          "xval": 40,
          "y": 423.979666438766,
          "yval": 38.095238095238095
         },
         "target": {
          "index": 37,
          "label": "h2,6",
          "label_display": "none",
          "px": 540.2884600965493,
          "py": 386.07667443285,
          "shape": "circle",
          "shape_attrs": {
           "r": 15
          },
          "value": null,
          "weight": 21,
          "x": 540.3296107385247,
          "xval": 60,
          "y": 386.0726175500124,
          "yval": 45.45454545454546
         },
         "value": 1
        },
        {
         "source": {
          "index": 24,
          "label": "h1,13",
          "label_display": "none",
          "px": 449.7701933541918,
          "py": 423.95395938325044,
          "shape": "circle",
          "shape_attrs": {
           "r": 15
          },
          "value": null,
          "weight": 22,
          "x": 449.77543161498545,
          "xval": 40,
          "y": 423.979666438766,
          "yval": 38.095238095238095
         },
         "target": {
          "index": 38,
          "label": "h2,7",
          "label_display": "none",
          "px": 541.4812921164678,
          "py": 394.6419287169871,
          "shape": "circle",
          "shape_attrs": {
           "r": 15
          },
          "value": null,
          "weight": 21,
          "x": 541.5256498499048,
          "xval": 60,
          "y": 394.6711846016649,
          "yval": 36.36363636363637
         },
         "value": 1
        },
        {
         "source": {
          "index": 24,
          "label": "h1,13",
          "label_display": "none",
          "px": 449.7701933541918,
          "py": 423.95395938325044,
          "shape": "circle",
          "shape_attrs": {
           "r": 15
          },
          "value": null,
          "weight": 22,
          "x": 449.77543161498545,
          "xval": 40,
          "y": 423.979666438766,
          "yval": 38.095238095238095
         },
         "target": {
          "index": 39,
          "label": "h2,8",
          "label_display": "none",
          "px": 539.4750872865833,
          "py": 382.06791160469925,
          "shape": "circle",
          "shape_attrs": {
           "r": 15
          },
          "value": null,
          "weight": 21,
          "x": 539.5135288298698,
          "xval": 60,
          "y": 382.05054442074044,
          "yval": 27.272727272727273
         },
         "value": 1
        },
        {
         "source": {
          "index": 24,
          "label": "h1,13",
          "label_display": "none",
          "px": 449.7701933541918,
          "py": 423.95395938325044,
          "shape": "circle",
          "shape_attrs": {
           "r": 15
          },
          "value": null,
          "weight": 22,
          "x": 449.77543161498545,
          "xval": 40,
          "y": 423.979666438766,
          "yval": 38.095238095238095
         },
         "target": {
          "fixed": 0,
          "index": 40,
          "label": "h2,9",
          "label_display": "none",
          "px": 541.8789771051929,
          "py": 399.51769602374225,
          "shape": "circle",
          "shape_attrs": {
           "r": 15
          },
          "value": null,
          "weight": 21,
          "x": 541.8789771051929,
          "xval": 60,
          "y": 399.51769602374225,
          "yval": 18.181818181818183
         },
         "value": 1
        },
        {
         "source": {
          "index": 24,
          "label": "h1,13",
          "label_display": "none",
          "px": 449.7701933541918,
          "py": 423.95395938325044,
          "shape": "circle",
          "shape_attrs": {
           "r": 15
          },
          "value": null,
          "weight": 22,
          "x": 449.77543161498545,
          "xval": 40,
          "y": 423.979666438766,
          "yval": 38.095238095238095
         },
         "target": {
          "index": 41,
          "label": "h2,10",
          "label_display": "none",
          "px": 540.9635353553583,
          "py": 390.2506362665784,
          "shape": "circle",
          "shape_attrs": {
           "r": 15
          },
          "value": null,
          "weight": 21,
          "x": 541.0069568340803,
          "xval": 60,
          "y": 390.2620434189789,
          "yval": 9.090909090909092
         },
         "value": 1
        },
        {
         "source": {
          "index": 25,
          "label": "h1,14",
          "label_display": "none",
          "px": 447.77652249109667,
          "py": 416.4027794386295,
          "shape": "circle",
          "shape_attrs": {
           "r": 15
          },
          "value": null,
          "weight": 22,
          "x": 447.77533228674633,
          "xval": 40,
          "y": 416.4089800756498,
          "yval": 33.333333333333336
         },
         "target": {
          "fixed": 0,
          "index": 32,
          "label": "h2,1",
          "label_display": "none",
          "px": 348.4069633574117,
          "py": 408.76281398343616,
          "shape": "circle",
          "shape_attrs": {
           "r": 15
          },
          "value": null,
          "weight": 21,
          "x": 348.4069633574117,
          "xval": 60,
          "y": 408.76281398343616,
          "yval": 90.90909090909092
         },
         "value": 1
        },
        {
         "source": {
          "index": 25,
          "label": "h1,14",
          "label_display": "none",
          "px": 447.77652249109667,
          "py": 416.4027794386295,
          "shape": "circle",
          "shape_attrs": {
           "r": 15
          },
          "value": null,
          "weight": 22,
          "x": 447.77533228674633,
          "xval": 40,
          "y": 416.4089800756498,
          "yval": 33.333333333333336
         },
         "target": {
          "fixed": 0,
          "index": 33,
          "label": "h2,2",
          "label_display": "none",
          "px": 348.98267226676734,
          "py": 414.2410318591959,
          "shape": "circle",
          "shape_attrs": {
           "r": 15
          },
          "value": null,
          "weight": 21,
          "x": 348.98267226676734,
          "xval": 60,
          "y": 414.2410318591959,
          "yval": 81.81818181818183
         },
         "value": 1
        },
        {
         "source": {
          "index": 25,
          "label": "h1,14",
          "label_display": "none",
          "px": 447.77652249109667,
          "py": 416.4027794386295,
          "shape": "circle",
          "shape_attrs": {
           "r": 15
          },
          "value": null,
          "weight": 22,
          "x": 447.77533228674633,
          "xval": 40,
          "y": 416.4089800756498,
          "yval": 33.333333333333336
         },
         "target": {
          "fixed": 0,
          "index": 34,
          "label": "h2,3",
          "label_display": "none",
          "px": 537.4603229397491,
          "py": 374.0357973649497,
          "shape": "circle",
          "shape_attrs": {
           "r": 15
          },
          "value": null,
          "weight": 21,
          "x": 537.4603229397491,
          "xval": 60,
          "y": 374.0357973649497,
          "yval": 72.72727272727273
         },
         "value": 1
        },
        {
         "source": {
          "index": 25,
          "label": "h1,14",
          "label_display": "none",
          "px": 447.77652249109667,
          "py": 416.4027794386295,
          "shape": "circle",
          "shape_attrs": {
           "r": 15
          },
          "value": null,
          "weight": 22,
          "x": 447.77533228674633,
          "xval": 40,
          "y": 416.4089800756498,
          "yval": 33.333333333333336
         },
         "target": {
          "index": 35,
          "label": "h2,4",
          "label_display": "none",
          "px": 538.4970595658459,
          "py": 378.0861567241818,
          "shape": "circle",
          "shape_attrs": {
           "r": 15
          },
          "value": null,
          "weight": 21,
          "x": 538.5316781024794,
          "xval": 60,
          "y": 378.0560742106646,
          "yval": 63.63636363636364
         },
         "value": 1
        },
        {
         "source": {
          "index": 25,
          "label": "h1,14",
          "label_display": "none",
          "px": 447.77652249109667,
          "py": 416.4027794386295,
          "shape": "circle",
          "shape_attrs": {
           "r": 15
          },
          "value": null,
          "weight": 22,
          "x": 447.77533228674633,
          "xval": 40,
          "y": 416.4089800756498,
          "yval": 33.333333333333336
         },
         "target": {
          "index": 36,
          "label": "h2,5",
          "label_display": "none",
          "px": 541.9506789452461,
          "py": 405.2045046484753,
          "shape": "circle",
          "shape_attrs": {
           "r": 15
          },
          "value": null,
          "weight": 21,
          "x": 541.9919124283681,
          "xval": 60,
          "y": 405.2694016450591,
          "yval": 54.54545454545455
         },
         "value": 1
        },
        {
         "source": {
          "index": 25,
          "label": "h1,14",
          "label_display": "none",
          "px": 447.77652249109667,
          "py": 416.4027794386295,
          "shape": "circle",
          "shape_attrs": {
           "r": 15
          },
          "value": null,
          "weight": 22,
          "x": 447.77533228674633,
          "xval": 40,
          "y": 416.4089800756498,
          "yval": 33.333333333333336
         },
         "target": {
          "index": 37,
          "label": "h2,6",
          "label_display": "none",
          "px": 540.2884600965493,
          "py": 386.07667443285,
          "shape": "circle",
          "shape_attrs": {
           "r": 15
          },
          "value": null,
          "weight": 21,
          "x": 540.3296107385247,
          "xval": 60,
          "y": 386.0726175500124,
          "yval": 45.45454545454546
         },
         "value": 1
        },
        {
         "source": {
          "index": 25,
          "label": "h1,14",
          "label_display": "none",
          "px": 447.77652249109667,
          "py": 416.4027794386295,
          "shape": "circle",
          "shape_attrs": {
           "r": 15
          },
          "value": null,
          "weight": 22,
          "x": 447.77533228674633,
          "xval": 40,
          "y": 416.4089800756498,
          "yval": 33.333333333333336
         },
         "target": {
          "index": 38,
          "label": "h2,7",
          "label_display": "none",
          "px": 541.4812921164678,
          "py": 394.6419287169871,
          "shape": "circle",
          "shape_attrs": {
           "r": 15
          },
          "value": null,
          "weight": 21,
          "x": 541.5256498499048,
          "xval": 60,
          "y": 394.6711846016649,
          "yval": 36.36363636363637
         },
         "value": 1
        },
        {
         "source": {
          "index": 25,
          "label": "h1,14",
          "label_display": "none",
          "px": 447.77652249109667,
          "py": 416.4027794386295,
          "shape": "circle",
          "shape_attrs": {
           "r": 15
          },
          "value": null,
          "weight": 22,
          "x": 447.77533228674633,
          "xval": 40,
          "y": 416.4089800756498,
          "yval": 33.333333333333336
         },
         "target": {
          "index": 39,
          "label": "h2,8",
          "label_display": "none",
          "px": 539.4750872865833,
          "py": 382.06791160469925,
          "shape": "circle",
          "shape_attrs": {
           "r": 15
          },
          "value": null,
          "weight": 21,
          "x": 539.5135288298698,
          "xval": 60,
          "y": 382.05054442074044,
          "yval": 27.272727272727273
         },
         "value": 1
        },
        {
         "source": {
          "index": 25,
          "label": "h1,14",
          "label_display": "none",
          "px": 447.77652249109667,
          "py": 416.4027794386295,
          "shape": "circle",
          "shape_attrs": {
           "r": 15
          },
          "value": null,
          "weight": 22,
          "x": 447.77533228674633,
          "xval": 40,
          "y": 416.4089800756498,
          "yval": 33.333333333333336
         },
         "target": {
          "fixed": 0,
          "index": 40,
          "label": "h2,9",
          "label_display": "none",
          "px": 541.8789771051929,
          "py": 399.51769602374225,
          "shape": "circle",
          "shape_attrs": {
           "r": 15
          },
          "value": null,
          "weight": 21,
          "x": 541.8789771051929,
          "xval": 60,
          "y": 399.51769602374225,
          "yval": 18.181818181818183
         },
         "value": 1
        },
        {
         "source": {
          "index": 25,
          "label": "h1,14",
          "label_display": "none",
          "px": 447.77652249109667,
          "py": 416.4027794386295,
          "shape": "circle",
          "shape_attrs": {
           "r": 15
          },
          "value": null,
          "weight": 22,
          "x": 447.77533228674633,
          "xval": 40,
          "y": 416.4089800756498,
          "yval": 33.333333333333336
         },
         "target": {
          "index": 41,
          "label": "h2,10",
          "label_display": "none",
          "px": 540.9635353553583,
          "py": 390.2506362665784,
          "shape": "circle",
          "shape_attrs": {
           "r": 15
          },
          "value": null,
          "weight": 21,
          "x": 541.0069568340803,
          "xval": 60,
          "y": 390.2620434189789,
          "yval": 9.090909090909092
         },
         "value": 1
        },
        {
         "source": {
          "fixed": 0,
          "index": 26,
          "label": "h1,15",
          "label_display": "none",
          "px": 437.84986949367203,
          "py": 374.25132654913494,
          "shape": "circle",
          "shape_attrs": {
           "r": 15
          },
          "value": null,
          "weight": 22,
          "x": 437.84986949367203,
          "xval": 40,
          "y": 374.25132654913494,
          "yval": 28.57142857142857
         },
         "target": {
          "fixed": 0,
          "index": 32,
          "label": "h2,1",
          "label_display": "none",
          "px": 348.4069633574117,
          "py": 408.76281398343616,
          "shape": "circle",
          "shape_attrs": {
           "r": 15
          },
          "value": null,
          "weight": 21,
          "x": 348.4069633574117,
          "xval": 60,
          "y": 408.76281398343616,
          "yval": 90.90909090909092
         },
         "value": 1
        },
        {
         "source": {
          "fixed": 0,
          "index": 26,
          "label": "h1,15",
          "label_display": "none",
          "px": 437.84986949367203,
          "py": 374.25132654913494,
          "shape": "circle",
          "shape_attrs": {
           "r": 15
          },
          "value": null,
          "weight": 22,
          "x": 437.84986949367203,
          "xval": 40,
          "y": 374.25132654913494,
          "yval": 28.57142857142857
         },
         "target": {
          "fixed": 0,
          "index": 33,
          "label": "h2,2",
          "label_display": "none",
          "px": 348.98267226676734,
          "py": 414.2410318591959,
          "shape": "circle",
          "shape_attrs": {
           "r": 15
          },
          "value": null,
          "weight": 21,
          "x": 348.98267226676734,
          "xval": 60,
          "y": 414.2410318591959,
          "yval": 81.81818181818183
         },
         "value": 1
        },
        {
         "source": {
          "fixed": 0,
          "index": 26,
          "label": "h1,15",
          "label_display": "none",
          "px": 437.84986949367203,
          "py": 374.25132654913494,
          "shape": "circle",
          "shape_attrs": {
           "r": 15
          },
          "value": null,
          "weight": 22,
          "x": 437.84986949367203,
          "xval": 40,
          "y": 374.25132654913494,
          "yval": 28.57142857142857
         },
         "target": {
          "fixed": 0,
          "index": 34,
          "label": "h2,3",
          "label_display": "none",
          "px": 537.4603229397491,
          "py": 374.0357973649497,
          "shape": "circle",
          "shape_attrs": {
           "r": 15
          },
          "value": null,
          "weight": 21,
          "x": 537.4603229397491,
          "xval": 60,
          "y": 374.0357973649497,
          "yval": 72.72727272727273
         },
         "value": 1
        },
        {
         "source": {
          "fixed": 0,
          "index": 26,
          "label": "h1,15",
          "label_display": "none",
          "px": 437.84986949367203,
          "py": 374.25132654913494,
          "shape": "circle",
          "shape_attrs": {
           "r": 15
          },
          "value": null,
          "weight": 22,
          "x": 437.84986949367203,
          "xval": 40,
          "y": 374.25132654913494,
          "yval": 28.57142857142857
         },
         "target": {
          "index": 35,
          "label": "h2,4",
          "label_display": "none",
          "px": 538.4970595658459,
          "py": 378.0861567241818,
          "shape": "circle",
          "shape_attrs": {
           "r": 15
          },
          "value": null,
          "weight": 21,
          "x": 538.5316781024794,
          "xval": 60,
          "y": 378.0560742106646,
          "yval": 63.63636363636364
         },
         "value": 1
        },
        {
         "source": {
          "fixed": 0,
          "index": 26,
          "label": "h1,15",
          "label_display": "none",
          "px": 437.84986949367203,
          "py": 374.25132654913494,
          "shape": "circle",
          "shape_attrs": {
           "r": 15
          },
          "value": null,
          "weight": 22,
          "x": 437.84986949367203,
          "xval": 40,
          "y": 374.25132654913494,
          "yval": 28.57142857142857
         },
         "target": {
          "index": 36,
          "label": "h2,5",
          "label_display": "none",
          "px": 541.9506789452461,
          "py": 405.2045046484753,
          "shape": "circle",
          "shape_attrs": {
           "r": 15
          },
          "value": null,
          "weight": 21,
          "x": 541.9919124283681,
          "xval": 60,
          "y": 405.2694016450591,
          "yval": 54.54545454545455
         },
         "value": 1
        },
        {
         "source": {
          "fixed": 0,
          "index": 26,
          "label": "h1,15",
          "label_display": "none",
          "px": 437.84986949367203,
          "py": 374.25132654913494,
          "shape": "circle",
          "shape_attrs": {
           "r": 15
          },
          "value": null,
          "weight": 22,
          "x": 437.84986949367203,
          "xval": 40,
          "y": 374.25132654913494,
          "yval": 28.57142857142857
         },
         "target": {
          "index": 37,
          "label": "h2,6",
          "label_display": "none",
          "px": 540.2884600965493,
          "py": 386.07667443285,
          "shape": "circle",
          "shape_attrs": {
           "r": 15
          },
          "value": null,
          "weight": 21,
          "x": 540.3296107385247,
          "xval": 60,
          "y": 386.0726175500124,
          "yval": 45.45454545454546
         },
         "value": 1
        },
        {
         "source": {
          "fixed": 0,
          "index": 26,
          "label": "h1,15",
          "label_display": "none",
          "px": 437.84986949367203,
          "py": 374.25132654913494,
          "shape": "circle",
          "shape_attrs": {
           "r": 15
          },
          "value": null,
          "weight": 22,
          "x": 437.84986949367203,
          "xval": 40,
          "y": 374.25132654913494,
          "yval": 28.57142857142857
         },
         "target": {
          "index": 38,
          "label": "h2,7",
          "label_display": "none",
          "px": 541.4812921164678,
          "py": 394.6419287169871,
          "shape": "circle",
          "shape_attrs": {
           "r": 15
          },
          "value": null,
          "weight": 21,
          "x": 541.5256498499048,
          "xval": 60,
          "y": 394.6711846016649,
          "yval": 36.36363636363637
         },
         "value": 1
        },
        {
         "source": {
          "fixed": 0,
          "index": 26,
          "label": "h1,15",
          "label_display": "none",
          "px": 437.84986949367203,
          "py": 374.25132654913494,
          "shape": "circle",
          "shape_attrs": {
           "r": 15
          },
          "value": null,
          "weight": 22,
          "x": 437.84986949367203,
          "xval": 40,
          "y": 374.25132654913494,
          "yval": 28.57142857142857
         },
         "target": {
          "index": 39,
          "label": "h2,8",
          "label_display": "none",
          "px": 539.4750872865833,
          "py": 382.06791160469925,
          "shape": "circle",
          "shape_attrs": {
           "r": 15
          },
          "value": null,
          "weight": 21,
          "x": 539.5135288298698,
          "xval": 60,
          "y": 382.05054442074044,
          "yval": 27.272727272727273
         },
         "value": 1
        },
        {
         "source": {
          "fixed": 0,
          "index": 26,
          "label": "h1,15",
          "label_display": "none",
          "px": 437.84986949367203,
          "py": 374.25132654913494,
          "shape": "circle",
          "shape_attrs": {
           "r": 15
          },
          "value": null,
          "weight": 22,
          "x": 437.84986949367203,
          "xval": 40,
          "y": 374.25132654913494,
          "yval": 28.57142857142857
         },
         "target": {
          "fixed": 0,
          "index": 40,
          "label": "h2,9",
          "label_display": "none",
          "px": 541.8789771051929,
          "py": 399.51769602374225,
          "shape": "circle",
          "shape_attrs": {
           "r": 15
          },
          "value": null,
          "weight": 21,
          "x": 541.8789771051929,
          "xval": 60,
          "y": 399.51769602374225,
          "yval": 18.181818181818183
         },
         "value": 1
        },
        {
         "source": {
          "fixed": 0,
          "index": 26,
          "label": "h1,15",
          "label_display": "none",
          "px": 437.84986949367203,
          "py": 374.25132654913494,
          "shape": "circle",
          "shape_attrs": {
           "r": 15
          },
          "value": null,
          "weight": 22,
          "x": 437.84986949367203,
          "xval": 40,
          "y": 374.25132654913494,
          "yval": 28.57142857142857
         },
         "target": {
          "index": 41,
          "label": "h2,10",
          "label_display": "none",
          "px": 540.9635353553583,
          "py": 390.2506362665784,
          "shape": "circle",
          "shape_attrs": {
           "r": 15
          },
          "value": null,
          "weight": 21,
          "x": 541.0069568340803,
          "xval": 60,
          "y": 390.2620434189789,
          "yval": 9.090909090909092
         },
         "value": 1
        },
        {
         "source": {
          "index": 27,
          "label": "h1,16",
          "label_display": "none",
          "px": 441.03312194188425,
          "py": 388.9301428056495,
          "shape": "circle",
          "shape_attrs": {
           "r": 15
          },
          "value": null,
          "weight": 22,
          "x": 441.0223311760983,
          "xval": 40,
          "y": 388.9201492326303,
          "yval": 23.80952380952381
         },
         "target": {
          "fixed": 0,
          "index": 32,
          "label": "h2,1",
          "label_display": "none",
          "px": 348.4069633574117,
          "py": 408.76281398343616,
          "shape": "circle",
          "shape_attrs": {
           "r": 15
          },
          "value": null,
          "weight": 21,
          "x": 348.4069633574117,
          "xval": 60,
          "y": 408.76281398343616,
          "yval": 90.90909090909092
         },
         "value": 1
        },
        {
         "source": {
          "index": 27,
          "label": "h1,16",
          "label_display": "none",
          "px": 441.03312194188425,
          "py": 388.9301428056495,
          "shape": "circle",
          "shape_attrs": {
           "r": 15
          },
          "value": null,
          "weight": 22,
          "x": 441.0223311760983,
          "xval": 40,
          "y": 388.9201492326303,
          "yval": 23.80952380952381
         },
         "target": {
          "fixed": 0,
          "index": 33,
          "label": "h2,2",
          "label_display": "none",
          "px": 348.98267226676734,
          "py": 414.2410318591959,
          "shape": "circle",
          "shape_attrs": {
           "r": 15
          },
          "value": null,
          "weight": 21,
          "x": 348.98267226676734,
          "xval": 60,
          "y": 414.2410318591959,
          "yval": 81.81818181818183
         },
         "value": 1
        },
        {
         "source": {
          "index": 27,
          "label": "h1,16",
          "label_display": "none",
          "px": 441.03312194188425,
          "py": 388.9301428056495,
          "shape": "circle",
          "shape_attrs": {
           "r": 15
          },
          "value": null,
          "weight": 22,
          "x": 441.0223311760983,
          "xval": 40,
          "y": 388.9201492326303,
          "yval": 23.80952380952381
         },
         "target": {
          "fixed": 0,
          "index": 34,
          "label": "h2,3",
          "label_display": "none",
          "px": 537.4603229397491,
          "py": 374.0357973649497,
          "shape": "circle",
          "shape_attrs": {
           "r": 15
          },
          "value": null,
          "weight": 21,
          "x": 537.4603229397491,
          "xval": 60,
          "y": 374.0357973649497,
          "yval": 72.72727272727273
         },
         "value": 1
        },
        {
         "source": {
          "index": 27,
          "label": "h1,16",
          "label_display": "none",
          "px": 441.03312194188425,
          "py": 388.9301428056495,
          "shape": "circle",
          "shape_attrs": {
           "r": 15
          },
          "value": null,
          "weight": 22,
          "x": 441.0223311760983,
          "xval": 40,
          "y": 388.9201492326303,
          "yval": 23.80952380952381
         },
         "target": {
          "index": 35,
          "label": "h2,4",
          "label_display": "none",
          "px": 538.4970595658459,
          "py": 378.0861567241818,
          "shape": "circle",
          "shape_attrs": {
           "r": 15
          },
          "value": null,
          "weight": 21,
          "x": 538.5316781024794,
          "xval": 60,
          "y": 378.0560742106646,
          "yval": 63.63636363636364
         },
         "value": 1
        },
        {
         "source": {
          "index": 27,
          "label": "h1,16",
          "label_display": "none",
          "px": 441.03312194188425,
          "py": 388.9301428056495,
          "shape": "circle",
          "shape_attrs": {
           "r": 15
          },
          "value": null,
          "weight": 22,
          "x": 441.0223311760983,
          "xval": 40,
          "y": 388.9201492326303,
          "yval": 23.80952380952381
         },
         "target": {
          "index": 36,
          "label": "h2,5",
          "label_display": "none",
          "px": 541.9506789452461,
          "py": 405.2045046484753,
          "shape": "circle",
          "shape_attrs": {
           "r": 15
          },
          "value": null,
          "weight": 21,
          "x": 541.9919124283681,
          "xval": 60,
          "y": 405.2694016450591,
          "yval": 54.54545454545455
         },
         "value": 1
        },
        {
         "source": {
          "index": 27,
          "label": "h1,16",
          "label_display": "none",
          "px": 441.03312194188425,
          "py": 388.9301428056495,
          "shape": "circle",
          "shape_attrs": {
           "r": 15
          },
          "value": null,
          "weight": 22,
          "x": 441.0223311760983,
          "xval": 40,
          "y": 388.9201492326303,
          "yval": 23.80952380952381
         },
         "target": {
          "index": 37,
          "label": "h2,6",
          "label_display": "none",
          "px": 540.2884600965493,
          "py": 386.07667443285,
          "shape": "circle",
          "shape_attrs": {
           "r": 15
          },
          "value": null,
          "weight": 21,
          "x": 540.3296107385247,
          "xval": 60,
          "y": 386.0726175500124,
          "yval": 45.45454545454546
         },
         "value": 1
        },
        {
         "source": {
          "index": 27,
          "label": "h1,16",
          "label_display": "none",
          "px": 441.03312194188425,
          "py": 388.9301428056495,
          "shape": "circle",
          "shape_attrs": {
           "r": 15
          },
          "value": null,
          "weight": 22,
          "x": 441.0223311760983,
          "xval": 40,
          "y": 388.9201492326303,
          "yval": 23.80952380952381
         },
         "target": {
          "index": 38,
          "label": "h2,7",
          "label_display": "none",
          "px": 541.4812921164678,
          "py": 394.6419287169871,
          "shape": "circle",
          "shape_attrs": {
           "r": 15
          },
          "value": null,
          "weight": 21,
          "x": 541.5256498499048,
          "xval": 60,
          "y": 394.6711846016649,
          "yval": 36.36363636363637
         },
         "value": 1
        },
        {
         "source": {
          "index": 27,
          "label": "h1,16",
          "label_display": "none",
          "px": 441.03312194188425,
          "py": 388.9301428056495,
          "shape": "circle",
          "shape_attrs": {
           "r": 15
          },
          "value": null,
          "weight": 22,
          "x": 441.0223311760983,
          "xval": 40,
          "y": 388.9201492326303,
          "yval": 23.80952380952381
         },
         "target": {
          "index": 39,
          "label": "h2,8",
          "label_display": "none",
          "px": 539.4750872865833,
          "py": 382.06791160469925,
          "shape": "circle",
          "shape_attrs": {
           "r": 15
          },
          "value": null,
          "weight": 21,
          "x": 539.5135288298698,
          "xval": 60,
          "y": 382.05054442074044,
          "yval": 27.272727272727273
         },
         "value": 1
        },
        {
         "source": {
          "index": 27,
          "label": "h1,16",
          "label_display": "none",
          "px": 441.03312194188425,
          "py": 388.9301428056495,
          "shape": "circle",
          "shape_attrs": {
           "r": 15
          },
          "value": null,
          "weight": 22,
          "x": 441.0223311760983,
          "xval": 40,
          "y": 388.9201492326303,
          "yval": 23.80952380952381
         },
         "target": {
          "fixed": 0,
          "index": 40,
          "label": "h2,9",
          "label_display": "none",
          "px": 541.8789771051929,
          "py": 399.51769602374225,
          "shape": "circle",
          "shape_attrs": {
           "r": 15
          },
          "value": null,
          "weight": 21,
          "x": 541.8789771051929,
          "xval": 60,
          "y": 399.51769602374225,
          "yval": 18.181818181818183
         },
         "value": 1
        },
        {
         "source": {
          "index": 27,
          "label": "h1,16",
          "label_display": "none",
          "px": 441.03312194188425,
          "py": 388.9301428056495,
          "shape": "circle",
          "shape_attrs": {
           "r": 15
          },
          "value": null,
          "weight": 22,
          "x": 441.0223311760983,
          "xval": 40,
          "y": 388.9201492326303,
          "yval": 23.80952380952381
         },
         "target": {
          "index": 41,
          "label": "h2,10",
          "label_display": "none",
          "px": 540.9635353553583,
          "py": 390.2506362665784,
          "shape": "circle",
          "shape_attrs": {
           "r": 15
          },
          "value": null,
          "weight": 21,
          "x": 541.0069568340803,
          "xval": 60,
          "y": 390.2620434189789,
          "yval": 9.090909090909092
         },
         "value": 1
        },
        {
         "source": {
          "index": 28,
          "label": "h1,17",
          "label_display": "none",
          "px": 448.80878786875905,
          "py": 420.35138343623464,
          "shape": "circle",
          "shape_attrs": {
           "r": 15
          },
          "value": null,
          "weight": 22,
          "x": 448.8091799805161,
          "xval": 40,
          "y": 420.3610019925185,
          "yval": 19.047619047619047
         },
         "target": {
          "fixed": 0,
          "index": 32,
          "label": "h2,1",
          "label_display": "none",
          "px": 348.4069633574117,
          "py": 408.76281398343616,
          "shape": "circle",
          "shape_attrs": {
           "r": 15
          },
          "value": null,
          "weight": 21,
          "x": 348.4069633574117,
          "xval": 60,
          "y": 408.76281398343616,
          "yval": 90.90909090909092
         },
         "value": 1
        },
        {
         "source": {
          "index": 28,
          "label": "h1,17",
          "label_display": "none",
          "px": 448.80878786875905,
          "py": 420.35138343623464,
          "shape": "circle",
          "shape_attrs": {
           "r": 15
          },
          "value": null,
          "weight": 22,
          "x": 448.8091799805161,
          "xval": 40,
          "y": 420.3610019925185,
          "yval": 19.047619047619047
         },
         "target": {
          "fixed": 0,
          "index": 33,
          "label": "h2,2",
          "label_display": "none",
          "px": 348.98267226676734,
          "py": 414.2410318591959,
          "shape": "circle",
          "shape_attrs": {
           "r": 15
          },
          "value": null,
          "weight": 21,
          "x": 348.98267226676734,
          "xval": 60,
          "y": 414.2410318591959,
          "yval": 81.81818181818183
         },
         "value": 1
        },
        {
         "source": {
          "index": 28,
          "label": "h1,17",
          "label_display": "none",
          "px": 448.80878786875905,
          "py": 420.35138343623464,
          "shape": "circle",
          "shape_attrs": {
           "r": 15
          },
          "value": null,
          "weight": 22,
          "x": 448.8091799805161,
          "xval": 40,
          "y": 420.3610019925185,
          "yval": 19.047619047619047
         },
         "target": {
          "fixed": 0,
          "index": 34,
          "label": "h2,3",
          "label_display": "none",
          "px": 537.4603229397491,
          "py": 374.0357973649497,
          "shape": "circle",
          "shape_attrs": {
           "r": 15
          },
          "value": null,
          "weight": 21,
          "x": 537.4603229397491,
          "xval": 60,
          "y": 374.0357973649497,
          "yval": 72.72727272727273
         },
         "value": 1
        },
        {
         "source": {
          "index": 28,
          "label": "h1,17",
          "label_display": "none",
          "px": 448.80878786875905,
          "py": 420.35138343623464,
          "shape": "circle",
          "shape_attrs": {
           "r": 15
          },
          "value": null,
          "weight": 22,
          "x": 448.8091799805161,
          "xval": 40,
          "y": 420.3610019925185,
          "yval": 19.047619047619047
         },
         "target": {
          "index": 35,
          "label": "h2,4",
          "label_display": "none",
          "px": 538.4970595658459,
          "py": 378.0861567241818,
          "shape": "circle",
          "shape_attrs": {
           "r": 15
          },
          "value": null,
          "weight": 21,
          "x": 538.5316781024794,
          "xval": 60,
          "y": 378.0560742106646,
          "yval": 63.63636363636364
         },
         "value": 1
        },
        {
         "source": {
          "index": 28,
          "label": "h1,17",
          "label_display": "none",
          "px": 448.80878786875905,
          "py": 420.35138343623464,
          "shape": "circle",
          "shape_attrs": {
           "r": 15
          },
          "value": null,
          "weight": 22,
          "x": 448.8091799805161,
          "xval": 40,
          "y": 420.3610019925185,
          "yval": 19.047619047619047
         },
         "target": {
          "index": 36,
          "label": "h2,5",
          "label_display": "none",
          "px": 541.9506789452461,
          "py": 405.2045046484753,
          "shape": "circle",
          "shape_attrs": {
           "r": 15
          },
          "value": null,
          "weight": 21,
          "x": 541.9919124283681,
          "xval": 60,
          "y": 405.2694016450591,
          "yval": 54.54545454545455
         },
         "value": 1
        },
        {
         "source": {
          "index": 28,
          "label": "h1,17",
          "label_display": "none",
          "px": 448.80878786875905,
          "py": 420.35138343623464,
          "shape": "circle",
          "shape_attrs": {
           "r": 15
          },
          "value": null,
          "weight": 22,
          "x": 448.8091799805161,
          "xval": 40,
          "y": 420.3610019925185,
          "yval": 19.047619047619047
         },
         "target": {
          "index": 37,
          "label": "h2,6",
          "label_display": "none",
          "px": 540.2884600965493,
          "py": 386.07667443285,
          "shape": "circle",
          "shape_attrs": {
           "r": 15
          },
          "value": null,
          "weight": 21,
          "x": 540.3296107385247,
          "xval": 60,
          "y": 386.0726175500124,
          "yval": 45.45454545454546
         },
         "value": 1
        },
        {
         "source": {
          "index": 28,
          "label": "h1,17",
          "label_display": "none",
          "px": 448.80878786875905,
          "py": 420.35138343623464,
          "shape": "circle",
          "shape_attrs": {
           "r": 15
          },
          "value": null,
          "weight": 22,
          "x": 448.8091799805161,
          "xval": 40,
          "y": 420.3610019925185,
          "yval": 19.047619047619047
         },
         "target": {
          "index": 38,
          "label": "h2,7",
          "label_display": "none",
          "px": 541.4812921164678,
          "py": 394.6419287169871,
          "shape": "circle",
          "shape_attrs": {
           "r": 15
          },
          "value": null,
          "weight": 21,
          "x": 541.5256498499048,
          "xval": 60,
          "y": 394.6711846016649,
          "yval": 36.36363636363637
         },
         "value": 1
        },
        {
         "source": {
          "index": 28,
          "label": "h1,17",
          "label_display": "none",
          "px": 448.80878786875905,
          "py": 420.35138343623464,
          "shape": "circle",
          "shape_attrs": {
           "r": 15
          },
          "value": null,
          "weight": 22,
          "x": 448.8091799805161,
          "xval": 40,
          "y": 420.3610019925185,
          "yval": 19.047619047619047
         },
         "target": {
          "index": 39,
          "label": "h2,8",
          "label_display": "none",
          "px": 539.4750872865833,
          "py": 382.06791160469925,
          "shape": "circle",
          "shape_attrs": {
           "r": 15
          },
          "value": null,
          "weight": 21,
          "x": 539.5135288298698,
          "xval": 60,
          "y": 382.05054442074044,
          "yval": 27.272727272727273
         },
         "value": 1
        },
        {
         "source": {
          "index": 28,
          "label": "h1,17",
          "label_display": "none",
          "px": 448.80878786875905,
          "py": 420.35138343623464,
          "shape": "circle",
          "shape_attrs": {
           "r": 15
          },
          "value": null,
          "weight": 22,
          "x": 448.8091799805161,
          "xval": 40,
          "y": 420.3610019925185,
          "yval": 19.047619047619047
         },
         "target": {
          "fixed": 0,
          "index": 40,
          "label": "h2,9",
          "label_display": "none",
          "px": 541.8789771051929,
          "py": 399.51769602374225,
          "shape": "circle",
          "shape_attrs": {
           "r": 15
          },
          "value": null,
          "weight": 21,
          "x": 541.8789771051929,
          "xval": 60,
          "y": 399.51769602374225,
          "yval": 18.181818181818183
         },
         "value": 1
        },
        {
         "source": {
          "index": 28,
          "label": "h1,17",
          "label_display": "none",
          "px": 448.80878786875905,
          "py": 420.35138343623464,
          "shape": "circle",
          "shape_attrs": {
           "r": 15
          },
          "value": null,
          "weight": 22,
          "x": 448.8091799805161,
          "xval": 40,
          "y": 420.3610019925185,
          "yval": 19.047619047619047
         },
         "target": {
          "index": 41,
          "label": "h2,10",
          "label_display": "none",
          "px": 540.9635353553583,
          "py": 390.2506362665784,
          "shape": "circle",
          "shape_attrs": {
           "r": 15
          },
          "value": null,
          "weight": 21,
          "x": 541.0069568340803,
          "xval": 60,
          "y": 390.2620434189789,
          "yval": 9.090909090909092
         },
         "value": 1
        },
        {
         "source": {
          "index": 29,
          "label": "h1,18",
          "label_display": "none",
          "px": 446.66133336839465,
          "py": 412.06746080603597,
          "shape": "circle",
          "shape_attrs": {
           "r": 15
          },
          "value": null,
          "weight": 22,
          "x": 446.65836227806636,
          "xval": 40,
          "y": 412.06979862465556,
          "yval": 14.285714285714285
         },
         "target": {
          "fixed": 0,
          "index": 32,
          "label": "h2,1",
          "label_display": "none",
          "px": 348.4069633574117,
          "py": 408.76281398343616,
          "shape": "circle",
          "shape_attrs": {
           "r": 15
          },
          "value": null,
          "weight": 21,
          "x": 348.4069633574117,
          "xval": 60,
          "y": 408.76281398343616,
          "yval": 90.90909090909092
         },
         "value": 1
        },
        {
         "source": {
          "index": 29,
          "label": "h1,18",
          "label_display": "none",
          "px": 446.66133336839465,
          "py": 412.06746080603597,
          "shape": "circle",
          "shape_attrs": {
           "r": 15
          },
          "value": null,
          "weight": 22,
          "x": 446.65836227806636,
          "xval": 40,
          "y": 412.06979862465556,
          "yval": 14.285714285714285
         },
         "target": {
          "fixed": 0,
          "index": 33,
          "label": "h2,2",
          "label_display": "none",
          "px": 348.98267226676734,
          "py": 414.2410318591959,
          "shape": "circle",
          "shape_attrs": {
           "r": 15
          },
          "value": null,
          "weight": 21,
          "x": 348.98267226676734,
          "xval": 60,
          "y": 414.2410318591959,
          "yval": 81.81818181818183
         },
         "value": 1
        },
        {
         "source": {
          "index": 29,
          "label": "h1,18",
          "label_display": "none",
          "px": 446.66133336839465,
          "py": 412.06746080603597,
          "shape": "circle",
          "shape_attrs": {
           "r": 15
          },
          "value": null,
          "weight": 22,
          "x": 446.65836227806636,
          "xval": 40,
          "y": 412.06979862465556,
          "yval": 14.285714285714285
         },
         "target": {
          "fixed": 0,
          "index": 34,
          "label": "h2,3",
          "label_display": "none",
          "px": 537.4603229397491,
          "py": 374.0357973649497,
          "shape": "circle",
          "shape_attrs": {
           "r": 15
          },
          "value": null,
          "weight": 21,
          "x": 537.4603229397491,
          "xval": 60,
          "y": 374.0357973649497,
          "yval": 72.72727272727273
         },
         "value": 1
        },
        {
         "source": {
          "index": 29,
          "label": "h1,18",
          "label_display": "none",
          "px": 446.66133336839465,
          "py": 412.06746080603597,
          "shape": "circle",
          "shape_attrs": {
           "r": 15
          },
          "value": null,
          "weight": 22,
          "x": 446.65836227806636,
          "xval": 40,
          "y": 412.06979862465556,
          "yval": 14.285714285714285
         },
         "target": {
          "index": 35,
          "label": "h2,4",
          "label_display": "none",
          "px": 538.4970595658459,
          "py": 378.0861567241818,
          "shape": "circle",
          "shape_attrs": {
           "r": 15
          },
          "value": null,
          "weight": 21,
          "x": 538.5316781024794,
          "xval": 60,
          "y": 378.0560742106646,
          "yval": 63.63636363636364
         },
         "value": 1
        },
        {
         "source": {
          "index": 29,
          "label": "h1,18",
          "label_display": "none",
          "px": 446.66133336839465,
          "py": 412.06746080603597,
          "shape": "circle",
          "shape_attrs": {
           "r": 15
          },
          "value": null,
          "weight": 22,
          "x": 446.65836227806636,
          "xval": 40,
          "y": 412.06979862465556,
          "yval": 14.285714285714285
         },
         "target": {
          "index": 36,
          "label": "h2,5",
          "label_display": "none",
          "px": 541.9506789452461,
          "py": 405.2045046484753,
          "shape": "circle",
          "shape_attrs": {
           "r": 15
          },
          "value": null,
          "weight": 21,
          "x": 541.9919124283681,
          "xval": 60,
          "y": 405.2694016450591,
          "yval": 54.54545454545455
         },
         "value": 1
        },
        {
         "source": {
          "index": 29,
          "label": "h1,18",
          "label_display": "none",
          "px": 446.66133336839465,
          "py": 412.06746080603597,
          "shape": "circle",
          "shape_attrs": {
           "r": 15
          },
          "value": null,
          "weight": 22,
          "x": 446.65836227806636,
          "xval": 40,
          "y": 412.06979862465556,
          "yval": 14.285714285714285
         },
         "target": {
          "index": 37,
          "label": "h2,6",
          "label_display": "none",
          "px": 540.2884600965493,
          "py": 386.07667443285,
          "shape": "circle",
          "shape_attrs": {
           "r": 15
          },
          "value": null,
          "weight": 21,
          "x": 540.3296107385247,
          "xval": 60,
          "y": 386.0726175500124,
          "yval": 45.45454545454546
         },
         "value": 1
        },
        {
         "source": {
          "index": 29,
          "label": "h1,18",
          "label_display": "none",
          "px": 446.66133336839465,
          "py": 412.06746080603597,
          "shape": "circle",
          "shape_attrs": {
           "r": 15
          },
          "value": null,
          "weight": 22,
          "x": 446.65836227806636,
          "xval": 40,
          "y": 412.06979862465556,
          "yval": 14.285714285714285
         },
         "target": {
          "index": 38,
          "label": "h2,7",
          "label_display": "none",
          "px": 541.4812921164678,
          "py": 394.6419287169871,
          "shape": "circle",
          "shape_attrs": {
           "r": 15
          },
          "value": null,
          "weight": 21,
          "x": 541.5256498499048,
          "xval": 60,
          "y": 394.6711846016649,
          "yval": 36.36363636363637
         },
         "value": 1
        },
        {
         "source": {
          "index": 29,
          "label": "h1,18",
          "label_display": "none",
          "px": 446.66133336839465,
          "py": 412.06746080603597,
          "shape": "circle",
          "shape_attrs": {
           "r": 15
          },
          "value": null,
          "weight": 22,
          "x": 446.65836227806636,
          "xval": 40,
          "y": 412.06979862465556,
          "yval": 14.285714285714285
         },
         "target": {
          "index": 39,
          "label": "h2,8",
          "label_display": "none",
          "px": 539.4750872865833,
          "py": 382.06791160469925,
          "shape": "circle",
          "shape_attrs": {
           "r": 15
          },
          "value": null,
          "weight": 21,
          "x": 539.5135288298698,
          "xval": 60,
          "y": 382.05054442074044,
          "yval": 27.272727272727273
         },
         "value": 1
        },
        {
         "source": {
          "index": 29,
          "label": "h1,18",
          "label_display": "none",
          "px": 446.66133336839465,
          "py": 412.06746080603597,
          "shape": "circle",
          "shape_attrs": {
           "r": 15
          },
          "value": null,
          "weight": 22,
          "x": 446.65836227806636,
          "xval": 40,
          "y": 412.06979862465556,
          "yval": 14.285714285714285
         },
         "target": {
          "fixed": 0,
          "index": 40,
          "label": "h2,9",
          "label_display": "none",
          "px": 541.8789771051929,
          "py": 399.51769602374225,
          "shape": "circle",
          "shape_attrs": {
           "r": 15
          },
          "value": null,
          "weight": 21,
          "x": 541.8789771051929,
          "xval": 60,
          "y": 399.51769602374225,
          "yval": 18.181818181818183
         },
         "value": 1
        },
        {
         "source": {
          "index": 29,
          "label": "h1,18",
          "label_display": "none",
          "px": 446.66133336839465,
          "py": 412.06746080603597,
          "shape": "circle",
          "shape_attrs": {
           "r": 15
          },
          "value": null,
          "weight": 22,
          "x": 446.65836227806636,
          "xval": 40,
          "y": 412.06979862465556,
          "yval": 14.285714285714285
         },
         "target": {
          "index": 41,
          "label": "h2,10",
          "label_display": "none",
          "px": 540.9635353553583,
          "py": 390.2506362665784,
          "shape": "circle",
          "shape_attrs": {
           "r": 15
          },
          "value": null,
          "weight": 21,
          "x": 541.0069568340803,
          "xval": 60,
          "y": 390.2620434189789,
          "yval": 9.090909090909092
         },
         "value": 1
        },
        {
         "source": {
          "index": 30,
          "label": "h1,19",
          "label_display": "none",
          "px": 454.5331839788234,
          "py": 440.7353981371751,
          "shape": "circle",
          "shape_attrs": {
           "r": 15
          },
          "value": null,
          "weight": 22,
          "x": 454.57338727966345,
          "xval": 40,
          "y": 440.870029182474,
          "yval": 9.523809523809524
         },
         "target": {
          "fixed": 0,
          "index": 32,
          "label": "h2,1",
          "label_display": "none",
          "px": 348.4069633574117,
          "py": 408.76281398343616,
          "shape": "circle",
          "shape_attrs": {
           "r": 15
          },
          "value": null,
          "weight": 21,
          "x": 348.4069633574117,
          "xval": 60,
          "y": 408.76281398343616,
          "yval": 90.90909090909092
         },
         "value": 1
        },
        {
         "source": {
          "index": 30,
          "label": "h1,19",
          "label_display": "none",
          "px": 454.5331839788234,
          "py": 440.7353981371751,
          "shape": "circle",
          "shape_attrs": {
           "r": 15
          },
          "value": null,
          "weight": 22,
          "x": 454.57338727966345,
          "xval": 40,
          "y": 440.870029182474,
          "yval": 9.523809523809524
         },
         "target": {
          "fixed": 0,
          "index": 33,
          "label": "h2,2",
          "label_display": "none",
          "px": 348.98267226676734,
          "py": 414.2410318591959,
          "shape": "circle",
          "shape_attrs": {
           "r": 15
          },
          "value": null,
          "weight": 21,
          "x": 348.98267226676734,
          "xval": 60,
          "y": 414.2410318591959,
          "yval": 81.81818181818183
         },
         "value": 1
        },
        {
         "source": {
          "index": 30,
          "label": "h1,19",
          "label_display": "none",
          "px": 454.5331839788234,
          "py": 440.7353981371751,
          "shape": "circle",
          "shape_attrs": {
           "r": 15
          },
          "value": null,
          "weight": 22,
          "x": 454.57338727966345,
          "xval": 40,
          "y": 440.870029182474,
          "yval": 9.523809523809524
         },
         "target": {
          "fixed": 0,
          "index": 34,
          "label": "h2,3",
          "label_display": "none",
          "px": 537.4603229397491,
          "py": 374.0357973649497,
          "shape": "circle",
          "shape_attrs": {
           "r": 15
          },
          "value": null,
          "weight": 21,
          "x": 537.4603229397491,
          "xval": 60,
          "y": 374.0357973649497,
          "yval": 72.72727272727273
         },
         "value": 1
        },
        {
         "source": {
          "index": 30,
          "label": "h1,19",
          "label_display": "none",
          "px": 454.5331839788234,
          "py": 440.7353981371751,
          "shape": "circle",
          "shape_attrs": {
           "r": 15
          },
          "value": null,
          "weight": 22,
          "x": 454.57338727966345,
          "xval": 40,
          "y": 440.870029182474,
          "yval": 9.523809523809524
         },
         "target": {
          "index": 35,
          "label": "h2,4",
          "label_display": "none",
          "px": 538.4970595658459,
          "py": 378.0861567241818,
          "shape": "circle",
          "shape_attrs": {
           "r": 15
          },
          "value": null,
          "weight": 21,
          "x": 538.5316781024794,
          "xval": 60,
          "y": 378.0560742106646,
          "yval": 63.63636363636364
         },
         "value": 1
        },
        {
         "source": {
          "index": 30,
          "label": "h1,19",
          "label_display": "none",
          "px": 454.5331839788234,
          "py": 440.7353981371751,
          "shape": "circle",
          "shape_attrs": {
           "r": 15
          },
          "value": null,
          "weight": 22,
          "x": 454.57338727966345,
          "xval": 40,
          "y": 440.870029182474,
          "yval": 9.523809523809524
         },
         "target": {
          "index": 36,
          "label": "h2,5",
          "label_display": "none",
          "px": 541.9506789452461,
          "py": 405.2045046484753,
          "shape": "circle",
          "shape_attrs": {
           "r": 15
          },
          "value": null,
          "weight": 21,
          "x": 541.9919124283681,
          "xval": 60,
          "y": 405.2694016450591,
          "yval": 54.54545454545455
         },
         "value": 1
        },
        {
         "source": {
          "index": 30,
          "label": "h1,19",
          "label_display": "none",
          "px": 454.5331839788234,
          "py": 440.7353981371751,
          "shape": "circle",
          "shape_attrs": {
           "r": 15
          },
          "value": null,
          "weight": 22,
          "x": 454.57338727966345,
          "xval": 40,
          "y": 440.870029182474,
          "yval": 9.523809523809524
         },
         "target": {
          "index": 37,
          "label": "h2,6",
          "label_display": "none",
          "px": 540.2884600965493,
          "py": 386.07667443285,
          "shape": "circle",
          "shape_attrs": {
           "r": 15
          },
          "value": null,
          "weight": 21,
          "x": 540.3296107385247,
          "xval": 60,
          "y": 386.0726175500124,
          "yval": 45.45454545454546
         },
         "value": 1
        },
        {
         "source": {
          "index": 30,
          "label": "h1,19",
          "label_display": "none",
          "px": 454.5331839788234,
          "py": 440.7353981371751,
          "shape": "circle",
          "shape_attrs": {
           "r": 15
          },
          "value": null,
          "weight": 22,
          "x": 454.57338727966345,
          "xval": 40,
          "y": 440.870029182474,
          "yval": 9.523809523809524
         },
         "target": {
          "index": 38,
          "label": "h2,7",
          "label_display": "none",
          "px": 541.4812921164678,
          "py": 394.6419287169871,
          "shape": "circle",
          "shape_attrs": {
           "r": 15
          },
          "value": null,
          "weight": 21,
          "x": 541.5256498499048,
          "xval": 60,
          "y": 394.6711846016649,
          "yval": 36.36363636363637
         },
         "value": 1
        },
        {
         "source": {
          "index": 30,
          "label": "h1,19",
          "label_display": "none",
          "px": 454.5331839788234,
          "py": 440.7353981371751,
          "shape": "circle",
          "shape_attrs": {
           "r": 15
          },
          "value": null,
          "weight": 22,
          "x": 454.57338727966345,
          "xval": 40,
          "y": 440.870029182474,
          "yval": 9.523809523809524
         },
         "target": {
          "index": 39,
          "label": "h2,8",
          "label_display": "none",
          "px": 539.4750872865833,
          "py": 382.06791160469925,
          "shape": "circle",
          "shape_attrs": {
           "r": 15
          },
          "value": null,
          "weight": 21,
          "x": 539.5135288298698,
          "xval": 60,
          "y": 382.05054442074044,
          "yval": 27.272727272727273
         },
         "value": 1
        },
        {
         "source": {
          "index": 30,
          "label": "h1,19",
          "label_display": "none",
          "px": 454.5331839788234,
          "py": 440.7353981371751,
          "shape": "circle",
          "shape_attrs": {
           "r": 15
          },
          "value": null,
          "weight": 22,
          "x": 454.57338727966345,
          "xval": 40,
          "y": 440.870029182474,
          "yval": 9.523809523809524
         },
         "target": {
          "fixed": 0,
          "index": 40,
          "label": "h2,9",
          "label_display": "none",
          "px": 541.8789771051929,
          "py": 399.51769602374225,
          "shape": "circle",
          "shape_attrs": {
           "r": 15
          },
          "value": null,
          "weight": 21,
          "x": 541.8789771051929,
          "xval": 60,
          "y": 399.51769602374225,
          "yval": 18.181818181818183
         },
         "value": 1
        },
        {
         "source": {
          "index": 30,
          "label": "h1,19",
          "label_display": "none",
          "px": 454.5331839788234,
          "py": 440.7353981371751,
          "shape": "circle",
          "shape_attrs": {
           "r": 15
          },
          "value": null,
          "weight": 22,
          "x": 454.57338727966345,
          "xval": 40,
          "y": 440.870029182474,
          "yval": 9.523809523809524
         },
         "target": {
          "index": 41,
          "label": "h2,10",
          "label_display": "none",
          "px": 540.9635353553583,
          "py": 390.2506362665784,
          "shape": "circle",
          "shape_attrs": {
           "r": 15
          },
          "value": null,
          "weight": 21,
          "x": 541.0069568340803,
          "xval": 60,
          "y": 390.2620434189789,
          "yval": 9.090909090909092
         },
         "value": 1
        },
        {
         "source": {
          "index": 31,
          "label": "h1,20",
          "label_display": "none",
          "px": 452.51111853060013,
          "py": 433.8924336038177,
          "shape": "circle",
          "shape_attrs": {
           "r": 15
          },
          "value": null,
          "weight": 22,
          "x": 452.53198152903235,
          "xval": 40,
          "y": 433.96970392214837,
          "yval": 4.761904761904762
         },
         "target": {
          "fixed": 0,
          "index": 32,
          "label": "h2,1",
          "label_display": "none",
          "px": 348.4069633574117,
          "py": 408.76281398343616,
          "shape": "circle",
          "shape_attrs": {
           "r": 15
          },
          "value": null,
          "weight": 21,
          "x": 348.4069633574117,
          "xval": 60,
          "y": 408.76281398343616,
          "yval": 90.90909090909092
         },
         "value": 1
        },
        {
         "source": {
          "index": 31,
          "label": "h1,20",
          "label_display": "none",
          "px": 452.51111853060013,
          "py": 433.8924336038177,
          "shape": "circle",
          "shape_attrs": {
           "r": 15
          },
          "value": null,
          "weight": 22,
          "x": 452.53198152903235,
          "xval": 40,
          "y": 433.96970392214837,
          "yval": 4.761904761904762
         },
         "target": {
          "fixed": 0,
          "index": 33,
          "label": "h2,2",
          "label_display": "none",
          "px": 348.98267226676734,
          "py": 414.2410318591959,
          "shape": "circle",
          "shape_attrs": {
           "r": 15
          },
          "value": null,
          "weight": 21,
          "x": 348.98267226676734,
          "xval": 60,
          "y": 414.2410318591959,
          "yval": 81.81818181818183
         },
         "value": 1
        },
        {
         "source": {
          "index": 31,
          "label": "h1,20",
          "label_display": "none",
          "px": 452.51111853060013,
          "py": 433.8924336038177,
          "shape": "circle",
          "shape_attrs": {
           "r": 15
          },
          "value": null,
          "weight": 22,
          "x": 452.53198152903235,
          "xval": 40,
          "y": 433.96970392214837,
          "yval": 4.761904761904762
         },
         "target": {
          "fixed": 0,
          "index": 34,
          "label": "h2,3",
          "label_display": "none",
          "px": 537.4603229397491,
          "py": 374.0357973649497,
          "shape": "circle",
          "shape_attrs": {
           "r": 15
          },
          "value": null,
          "weight": 21,
          "x": 537.4603229397491,
          "xval": 60,
          "y": 374.0357973649497,
          "yval": 72.72727272727273
         },
         "value": 1
        },
        {
         "source": {
          "index": 31,
          "label": "h1,20",
          "label_display": "none",
          "px": 452.51111853060013,
          "py": 433.8924336038177,
          "shape": "circle",
          "shape_attrs": {
           "r": 15
          },
          "value": null,
          "weight": 22,
          "x": 452.53198152903235,
          "xval": 40,
          "y": 433.96970392214837,
          "yval": 4.761904761904762
         },
         "target": {
          "index": 35,
          "label": "h2,4",
          "label_display": "none",
          "px": 538.4970595658459,
          "py": 378.0861567241818,
          "shape": "circle",
          "shape_attrs": {
           "r": 15
          },
          "value": null,
          "weight": 21,
          "x": 538.5316781024794,
          "xval": 60,
          "y": 378.0560742106646,
          "yval": 63.63636363636364
         },
         "value": 1
        },
        {
         "source": {
          "index": 31,
          "label": "h1,20",
          "label_display": "none",
          "px": 452.51111853060013,
          "py": 433.8924336038177,
          "shape": "circle",
          "shape_attrs": {
           "r": 15
          },
          "value": null,
          "weight": 22,
          "x": 452.53198152903235,
          "xval": 40,
          "y": 433.96970392214837,
          "yval": 4.761904761904762
         },
         "target": {
          "index": 36,
          "label": "h2,5",
          "label_display": "none",
          "px": 541.9506789452461,
          "py": 405.2045046484753,
          "shape": "circle",
          "shape_attrs": {
           "r": 15
          },
          "value": null,
          "weight": 21,
          "x": 541.9919124283681,
          "xval": 60,
          "y": 405.2694016450591,
          "yval": 54.54545454545455
         },
         "value": 1
        },
        {
         "source": {
          "index": 31,
          "label": "h1,20",
          "label_display": "none",
          "px": 452.51111853060013,
          "py": 433.8924336038177,
          "shape": "circle",
          "shape_attrs": {
           "r": 15
          },
          "value": null,
          "weight": 22,
          "x": 452.53198152903235,
          "xval": 40,
          "y": 433.96970392214837,
          "yval": 4.761904761904762
         },
         "target": {
          "index": 37,
          "label": "h2,6",
          "label_display": "none",
          "px": 540.2884600965493,
          "py": 386.07667443285,
          "shape": "circle",
          "shape_attrs": {
           "r": 15
          },
          "value": null,
          "weight": 21,
          "x": 540.3296107385247,
          "xval": 60,
          "y": 386.0726175500124,
          "yval": 45.45454545454546
         },
         "value": 1
        },
        {
         "source": {
          "index": 31,
          "label": "h1,20",
          "label_display": "none",
          "px": 452.51111853060013,
          "py": 433.8924336038177,
          "shape": "circle",
          "shape_attrs": {
           "r": 15
          },
          "value": null,
          "weight": 22,
          "x": 452.53198152903235,
          "xval": 40,
          "y": 433.96970392214837,
          "yval": 4.761904761904762
         },
         "target": {
          "index": 38,
          "label": "h2,7",
          "label_display": "none",
          "px": 541.4812921164678,
          "py": 394.6419287169871,
          "shape": "circle",
          "shape_attrs": {
           "r": 15
          },
          "value": null,
          "weight": 21,
          "x": 541.5256498499048,
          "xval": 60,
          "y": 394.6711846016649,
          "yval": 36.36363636363637
         },
         "value": 1
        },
        {
         "source": {
          "index": 31,
          "label": "h1,20",
          "label_display": "none",
          "px": 452.51111853060013,
          "py": 433.8924336038177,
          "shape": "circle",
          "shape_attrs": {
           "r": 15
          },
          "value": null,
          "weight": 22,
          "x": 452.53198152903235,
          "xval": 40,
          "y": 433.96970392214837,
          "yval": 4.761904761904762
         },
         "target": {
          "index": 39,
          "label": "h2,8",
          "label_display": "none",
          "px": 539.4750872865833,
          "py": 382.06791160469925,
          "shape": "circle",
          "shape_attrs": {
           "r": 15
          },
          "value": null,
          "weight": 21,
          "x": 539.5135288298698,
          "xval": 60,
          "y": 382.05054442074044,
          "yval": 27.272727272727273
         },
         "value": 1
        },
        {
         "source": {
          "index": 31,
          "label": "h1,20",
          "label_display": "none",
          "px": 452.51111853060013,
          "py": 433.8924336038177,
          "shape": "circle",
          "shape_attrs": {
           "r": 15
          },
          "value": null,
          "weight": 22,
          "x": 452.53198152903235,
          "xval": 40,
          "y": 433.96970392214837,
          "yval": 4.761904761904762
         },
         "target": {
          "fixed": 0,
          "index": 40,
          "label": "h2,9",
          "label_display": "none",
          "px": 541.8789771051929,
          "py": 399.51769602374225,
          "shape": "circle",
          "shape_attrs": {
           "r": 15
          },
          "value": null,
          "weight": 21,
          "x": 541.8789771051929,
          "xval": 60,
          "y": 399.51769602374225,
          "yval": 18.181818181818183
         },
         "value": 1
        },
        {
         "source": {
          "index": 31,
          "label": "h1,20",
          "label_display": "none",
          "px": 452.51111853060013,
          "py": 433.8924336038177,
          "shape": "circle",
          "shape_attrs": {
           "r": 15
          },
          "value": null,
          "weight": 22,
          "x": 452.53198152903235,
          "xval": 40,
          "y": 433.96970392214837,
          "yval": 4.761904761904762
         },
         "target": {
          "index": 41,
          "label": "h2,10",
          "label_display": "none",
          "px": 540.9635353553583,
          "py": 390.2506362665784,
          "shape": "circle",
          "shape_attrs": {
           "r": 15
          },
          "value": null,
          "weight": 21,
          "x": 541.0069568340803,
          "xval": 60,
          "y": 390.2620434189789,
          "yval": 9.090909090909092
         },
         "value": 1
        },
        {
         "source": {
          "fixed": 0,
          "index": 32,
          "label": "h2,1",
          "label_display": "none",
          "px": 348.4069633574117,
          "py": 408.76281398343616,
          "shape": "circle",
          "shape_attrs": {
           "r": 15
          },
          "value": null,
          "weight": 21,
          "x": 348.4069633574117,
          "xval": 60,
          "y": 408.76281398343616,
          "yval": 90.90909090909092
         },
         "target": {
          "fixed": 0,
          "index": 42,
          "label": "y1",
          "label_display": "none",
          "px": 443.91449995168784,
          "py": 356.55700616411593,
          "shape": "circle",
          "shape_attrs": {
           "r": 15
          },
          "value": null,
          "weight": 10,
          "x": 443.91449995168784,
          "xval": 80,
          "y": 356.55700616411593,
          "yval": 50
         },
         "value": 1
        },
        {
         "source": {
          "fixed": 0,
          "index": 33,
          "label": "h2,2",
          "label_display": "none",
          "px": 348.98267226676734,
          "py": 414.2410318591959,
          "shape": "circle",
          "shape_attrs": {
           "r": 15
          },
          "value": null,
          "weight": 21,
          "x": 348.98267226676734,
          "xval": 60,
          "y": 414.2410318591959,
          "yval": 81.81818181818183
         },
         "target": {
          "fixed": 0,
          "index": 42,
          "label": "y1",
          "label_display": "none",
          "px": 443.91449995168784,
          "py": 356.55700616411593,
          "shape": "circle",
          "shape_attrs": {
           "r": 15
          },
          "value": null,
          "weight": 10,
          "x": 443.91449995168784,
          "xval": 80,
          "y": 356.55700616411593,
          "yval": 50
         },
         "value": 1
        },
        {
         "source": {
          "fixed": 0,
          "index": 34,
          "label": "h2,3",
          "label_display": "none",
          "px": 537.4603229397491,
          "py": 374.0357973649497,
          "shape": "circle",
          "shape_attrs": {
           "r": 15
          },
          "value": null,
          "weight": 21,
          "x": 537.4603229397491,
          "xval": 60,
          "y": 374.0357973649497,
          "yval": 72.72727272727273
         },
         "target": {
          "fixed": 0,
          "index": 42,
          "label": "y1",
          "label_display": "none",
          "px": 443.91449995168784,
          "py": 356.55700616411593,
          "shape": "circle",
          "shape_attrs": {
           "r": 15
          },
          "value": null,
          "weight": 10,
          "x": 443.91449995168784,
          "xval": 80,
          "y": 356.55700616411593,
          "yval": 50
         },
         "value": 1
        },
        {
         "source": {
          "index": 35,
          "label": "h2,4",
          "label_display": "none",
          "px": 538.4970595658459,
          "py": 378.0861567241818,
          "shape": "circle",
          "shape_attrs": {
           "r": 15
          },
          "value": null,
          "weight": 21,
          "x": 538.5316781024794,
          "xval": 60,
          "y": 378.0560742106646,
          "yval": 63.63636363636364
         },
         "target": {
          "fixed": 0,
          "index": 42,
          "label": "y1",
          "label_display": "none",
          "px": 443.91449995168784,
          "py": 356.55700616411593,
          "shape": "circle",
          "shape_attrs": {
           "r": 15
          },
          "value": null,
          "weight": 10,
          "x": 443.91449995168784,
          "xval": 80,
          "y": 356.55700616411593,
          "yval": 50
         },
         "value": 1
        },
        {
         "source": {
          "index": 36,
          "label": "h2,5",
          "label_display": "none",
          "px": 541.9506789452461,
          "py": 405.2045046484753,
          "shape": "circle",
          "shape_attrs": {
           "r": 15
          },
          "value": null,
          "weight": 21,
          "x": 541.9919124283681,
          "xval": 60,
          "y": 405.2694016450591,
          "yval": 54.54545454545455
         },
         "target": {
          "fixed": 0,
          "index": 42,
          "label": "y1",
          "label_display": "none",
          "px": 443.91449995168784,
          "py": 356.55700616411593,
          "shape": "circle",
          "shape_attrs": {
           "r": 15
          },
          "value": null,
          "weight": 10,
          "x": 443.91449995168784,
          "xval": 80,
          "y": 356.55700616411593,
          "yval": 50
         },
         "value": 1
        },
        {
         "source": {
          "index": 37,
          "label": "h2,6",
          "label_display": "none",
          "px": 540.2884600965493,
          "py": 386.07667443285,
          "shape": "circle",
          "shape_attrs": {
           "r": 15
          },
          "value": null,
          "weight": 21,
          "x": 540.3296107385247,
          "xval": 60,
          "y": 386.0726175500124,
          "yval": 45.45454545454546
         },
         "target": {
          "fixed": 0,
          "index": 42,
          "label": "y1",
          "label_display": "none",
          "px": 443.91449995168784,
          "py": 356.55700616411593,
          "shape": "circle",
          "shape_attrs": {
           "r": 15
          },
          "value": null,
          "weight": 10,
          "x": 443.91449995168784,
          "xval": 80,
          "y": 356.55700616411593,
          "yval": 50
         },
         "value": 1
        },
        {
         "source": {
          "index": 38,
          "label": "h2,7",
          "label_display": "none",
          "px": 541.4812921164678,
          "py": 394.6419287169871,
          "shape": "circle",
          "shape_attrs": {
           "r": 15
          },
          "value": null,
          "weight": 21,
          "x": 541.5256498499048,
          "xval": 60,
          "y": 394.6711846016649,
          "yval": 36.36363636363637
         },
         "target": {
          "fixed": 0,
          "index": 42,
          "label": "y1",
          "label_display": "none",
          "px": 443.91449995168784,
          "py": 356.55700616411593,
          "shape": "circle",
          "shape_attrs": {
           "r": 15
          },
          "value": null,
          "weight": 10,
          "x": 443.91449995168784,
          "xval": 80,
          "y": 356.55700616411593,
          "yval": 50
         },
         "value": 1
        },
        {
         "source": {
          "index": 39,
          "label": "h2,8",
          "label_display": "none",
          "px": 539.4750872865833,
          "py": 382.06791160469925,
          "shape": "circle",
          "shape_attrs": {
           "r": 15
          },
          "value": null,
          "weight": 21,
          "x": 539.5135288298698,
          "xval": 60,
          "y": 382.05054442074044,
          "yval": 27.272727272727273
         },
         "target": {
          "fixed": 0,
          "index": 42,
          "label": "y1",
          "label_display": "none",
          "px": 443.91449995168784,
          "py": 356.55700616411593,
          "shape": "circle",
          "shape_attrs": {
           "r": 15
          },
          "value": null,
          "weight": 10,
          "x": 443.91449995168784,
          "xval": 80,
          "y": 356.55700616411593,
          "yval": 50
         },
         "value": 1
        },
        {
         "source": {
          "fixed": 0,
          "index": 40,
          "label": "h2,9",
          "label_display": "none",
          "px": 541.8789771051929,
          "py": 399.51769602374225,
          "shape": "circle",
          "shape_attrs": {
           "r": 15
          },
          "value": null,
          "weight": 21,
          "x": 541.8789771051929,
          "xval": 60,
          "y": 399.51769602374225,
          "yval": 18.181818181818183
         },
         "target": {
          "fixed": 0,
          "index": 42,
          "label": "y1",
          "label_display": "none",
          "px": 443.91449995168784,
          "py": 356.55700616411593,
          "shape": "circle",
          "shape_attrs": {
           "r": 15
          },
          "value": null,
          "weight": 10,
          "x": 443.91449995168784,
          "xval": 80,
          "y": 356.55700616411593,
          "yval": 50
         },
         "value": 1
        },
        {
         "source": {
          "index": 41,
          "label": "h2,10",
          "label_display": "none",
          "px": 540.9635353553583,
          "py": 390.2506362665784,
          "shape": "circle",
          "shape_attrs": {
           "r": 15
          },
          "value": null,
          "weight": 21,
          "x": 541.0069568340803,
          "xval": 60,
          "y": 390.2620434189789,
          "yval": 9.090909090909092
         },
         "target": {
          "fixed": 0,
          "index": 42,
          "label": "y1",
          "label_display": "none",
          "px": 443.91449995168784,
          "py": 356.55700616411593,
          "shape": "circle",
          "shape_attrs": {
           "r": 15
          },
          "value": null,
          "weight": 10,
          "x": 443.91449995168784,
          "xval": 80,
          "y": 356.55700616411593,
          "yval": 50
         },
         "value": 1
        }
       ],
       "link_distance": 100,
       "link_matrix": {
        "type": "float",
        "values": [
         [
          null,
          null,
          null,
          null,
          null,
          null,
          null,
          null,
          null,
          null,
          null,
          null,
          1,
          1,
          1,
          1,
          1,
          1,
          1,
          1,
          1,
          1,
          1,
          1,
          1,
          1,
          1,
          1,
          1,
          1,
          1,
          1,
          null,
          null,
          null,
          null,
          null,
          null,
          null,
          null,
          null,
          null,
          null
         ],
         [
          null,
          null,
          null,
          null,
          null,
          null,
          null,
          null,
          null,
          null,
          null,
          null,
          1,
          1,
          1,
          1,
          1,
          1,
          1,
          1,
          1,
          1,
          1,
          1,
          1,
          1,
          1,
          1,
          1,
          1,
          1,
          1,
          null,
          null,
          null,
          null,
          null,
          null,
          null,
          null,
          null,
          null,
          null
         ],
         [
          null,
          null,
          null,
          null,
          null,
          null,
          null,
          null,
          null,
          null,
          null,
          null,
          1,
          1,
          1,
          1,
          1,
          1,
          1,
          1,
          1,
          1,
          1,
          1,
          1,
          1,
          1,
          1,
          1,
          1,
          1,
          1,
          null,
          null,
          null,
          null,
          null,
          null,
          null,
          null,
          null,
          null,
          null
         ],
         [
          null,
          null,
          null,
          null,
          null,
          null,
          null,
          null,
          null,
          null,
          null,
          null,
          1,
          1,
          1,
          1,
          1,
          1,
          1,
          1,
          1,
          1,
          1,
          1,
          1,
          1,
          1,
          1,
          1,
          1,
          1,
          1,
          null,
          null,
          null,
          null,
          null,
          null,
          null,
          null,
          null,
          null,
          null
         ],
         [
          null,
          null,
          null,
          null,
          null,
          null,
          null,
          null,
          null,
          null,
          null,
          null,
          1,
          1,
          1,
          1,
          1,
          1,
          1,
          1,
          1,
          1,
          1,
          1,
          1,
          1,
          1,
          1,
          1,
          1,
          1,
          1,
          null,
          null,
          null,
          null,
          null,
          null,
          null,
          null,
          null,
          null,
          null
         ],
         [
          null,
          null,
          null,
          null,
          null,
          null,
          null,
          null,
          null,
          null,
          null,
          null,
          1,
          1,
          1,
          1,
          1,
          1,
          1,
          1,
          1,
          1,
          1,
          1,
          1,
          1,
          1,
          1,
          1,
          1,
          1,
          1,
          null,
          null,
          null,
          null,
          null,
          null,
          null,
          null,
          null,
          null,
          null
         ],
         [
          null,
          null,
          null,
          null,
          null,
          null,
          null,
          null,
          null,
          null,
          null,
          null,
          1,
          1,
          1,
          1,
          1,
          1,
          1,
          1,
          1,
          1,
          1,
          1,
          1,
          1,
          1,
          1,
          1,
          1,
          1,
          1,
          null,
          null,
          null,
          null,
          null,
          null,
          null,
          null,
          null,
          null,
          null
         ],
         [
          null,
          null,
          null,
          null,
          null,
          null,
          null,
          null,
          null,
          null,
          null,
          null,
          1,
          1,
          1,
          1,
          1,
          1,
          1,
          1,
          1,
          1,
          1,
          1,
          1,
          1,
          1,
          1,
          1,
          1,
          1,
          1,
          null,
          null,
          null,
          null,
          null,
          null,
          null,
          null,
          null,
          null,
          null
         ],
         [
          null,
          null,
          null,
          null,
          null,
          null,
          null,
          null,
          null,
          null,
          null,
          null,
          1,
          1,
          1,
          1,
          1,
          1,
          1,
          1,
          1,
          1,
          1,
          1,
          1,
          1,
          1,
          1,
          1,
          1,
          1,
          1,
          null,
          null,
          null,
          null,
          null,
          null,
          null,
          null,
          null,
          null,
          null
         ],
         [
          null,
          null,
          null,
          null,
          null,
          null,
          null,
          null,
          null,
          null,
          null,
          null,
          1,
          1,
          1,
          1,
          1,
          1,
          1,
          1,
          1,
          1,
          1,
          1,
          1,
          1,
          1,
          1,
          1,
          1,
          1,
          1,
          null,
          null,
          null,
          null,
          null,
          null,
          null,
          null,
          null,
          null,
          null
         ],
         [
          null,
          null,
          null,
          null,
          null,
          null,
          null,
          null,
          null,
          null,
          null,
          null,
          1,
          1,
          1,
          1,
          1,
          1,
          1,
          1,
          1,
          1,
          1,
          1,
          1,
          1,
          1,
          1,
          1,
          1,
          1,
          1,
          null,
          null,
          null,
          null,
          null,
          null,
          null,
          null,
          null,
          null,
          null
         ],
         [
          null,
          null,
          null,
          null,
          null,
          null,
          null,
          null,
          null,
          null,
          null,
          null,
          1,
          1,
          1,
          1,
          1,
          1,
          1,
          1,
          1,
          1,
          1,
          1,
          1,
          1,
          1,
          1,
          1,
          1,
          1,
          1,
          null,
          null,
          null,
          null,
          null,
          null,
          null,
          null,
          null,
          null,
          null
         ],
         [
          null,
          null,
          null,
          null,
          null,
          null,
          null,
          null,
          null,
          null,
          null,
          null,
          null,
          null,
          null,
          null,
          null,
          null,
          null,
          null,
          null,
          null,
          null,
          null,
          null,
          null,
          null,
          null,
          null,
          null,
          null,
          null,
          1,
          1,
          1,
          1,
          1,
          1,
          1,
          1,
          1,
          1,
          null
         ],
         [
          null,
          null,
          null,
          null,
          null,
          null,
          null,
          null,
          null,
          null,
          null,
          null,
          null,
          null,
          null,
          null,
          null,
          null,
          null,
          null,
          null,
          null,
          null,
          null,
          null,
          null,
          null,
          null,
          null,
          null,
          null,
          null,
          1,
          1,
          1,
          1,
          1,
          1,
          1,
          1,
          1,
          1,
          null
         ],
         [
          null,
          null,
          null,
          null,
          null,
          null,
          null,
          null,
          null,
          null,
          null,
          null,
          null,
          null,
          null,
          null,
          null,
          null,
          null,
          null,
          null,
          null,
          null,
          null,
          null,
          null,
          null,
          null,
          null,
          null,
          null,
          null,
          1,
          1,
          1,
          1,
          1,
          1,
          1,
          1,
          1,
          1,
          null
         ],
         [
          null,
          null,
          null,
          null,
          null,
          null,
          null,
          null,
          null,
          null,
          null,
          null,
          null,
          null,
          null,
          null,
          null,
          null,
          null,
          null,
          null,
          null,
          null,
          null,
          null,
          null,
          null,
          null,
          null,
          null,
          null,
          null,
          1,
          1,
          1,
          1,
          1,
          1,
          1,
          1,
          1,
          1,
          null
         ],
         [
          null,
          null,
          null,
          null,
          null,
          null,
          null,
          null,
          null,
          null,
          null,
          null,
          null,
          null,
          null,
          null,
          null,
          null,
          null,
          null,
          null,
          null,
          null,
          null,
          null,
          null,
          null,
          null,
          null,
          null,
          null,
          null,
          1,
          1,
          1,
          1,
          1,
          1,
          1,
          1,
          1,
          1,
          null
         ],
         [
          null,
          null,
          null,
          null,
          null,
          null,
          null,
          null,
          null,
          null,
          null,
          null,
          null,
          null,
          null,
          null,
          null,
          null,
          null,
          null,
          null,
          null,
          null,
          null,
          null,
          null,
          null,
          null,
          null,
          null,
          null,
          null,
          1,
          1,
          1,
          1,
          1,
          1,
          1,
          1,
          1,
          1,
          null
         ],
         [
          null,
          null,
          null,
          null,
          null,
          null,
          null,
          null,
          null,
          null,
          null,
          null,
          null,
          null,
          null,
          null,
          null,
          null,
          null,
          null,
          null,
          null,
          null,
          null,
          null,
          null,
          null,
          null,
          null,
          null,
          null,
          null,
          1,
          1,
          1,
          1,
          1,
          1,
          1,
          1,
          1,
          1,
          null
         ],
         [
          null,
          null,
          null,
          null,
          null,
          null,
          null,
          null,
          null,
          null,
          null,
          null,
          null,
          null,
          null,
          null,
          null,
          null,
          null,
          null,
          null,
          null,
          null,
          null,
          null,
          null,
          null,
          null,
          null,
          null,
          null,
          null,
          1,
          1,
          1,
          1,
          1,
          1,
          1,
          1,
          1,
          1,
          null
         ],
         [
          null,
          null,
          null,
          null,
          null,
          null,
          null,
          null,
          null,
          null,
          null,
          null,
          null,
          null,
          null,
          null,
          null,
          null,
          null,
          null,
          null,
          null,
          null,
          null,
          null,
          null,
          null,
          null,
          null,
          null,
          null,
          null,
          1,
          1,
          1,
          1,
          1,
          1,
          1,
          1,
          1,
          1,
          null
         ],
         [
          null,
          null,
          null,
          null,
          null,
          null,
          null,
          null,
          null,
          null,
          null,
          null,
          null,
          null,
          null,
          null,
          null,
          null,
          null,
          null,
          null,
          null,
          null,
          null,
          null,
          null,
          null,
          null,
          null,
          null,
          null,
          null,
          1,
          1,
          1,
          1,
          1,
          1,
          1,
          1,
          1,
          1,
          null
         ],
         [
          null,
          null,
          null,
          null,
          null,
          null,
          null,
          null,
          null,
          null,
          null,
          null,
          null,
          null,
          null,
          null,
          null,
          null,
          null,
          null,
          null,
          null,
          null,
          null,
          null,
          null,
          null,
          null,
          null,
          null,
          null,
          null,
          1,
          1,
          1,
          1,
          1,
          1,
          1,
          1,
          1,
          1,
          null
         ],
         [
          null,
          null,
          null,
          null,
          null,
          null,
          null,
          null,
          null,
          null,
          null,
          null,
          null,
          null,
          null,
          null,
          null,
          null,
          null,
          null,
          null,
          null,
          null,
          null,
          null,
          null,
          null,
          null,
          null,
          null,
          null,
          null,
          1,
          1,
          1,
          1,
          1,
          1,
          1,
          1,
          1,
          1,
          null
         ],
         [
          null,
          null,
          null,
          null,
          null,
          null,
          null,
          null,
          null,
          null,
          null,
          null,
          null,
          null,
          null,
          null,
          null,
          null,
          null,
          null,
          null,
          null,
          null,
          null,
          null,
          null,
          null,
          null,
          null,
          null,
          null,
          null,
          1,
          1,
          1,
          1,
          1,
          1,
          1,
          1,
          1,
          1,
          null
         ],
         [
          null,
          null,
          null,
          null,
          null,
          null,
          null,
          null,
          null,
          null,
          null,
          null,
          null,
          null,
          null,
          null,
          null,
          null,
          null,
          null,
          null,
          null,
          null,
          null,
          null,
          null,
          null,
          null,
          null,
          null,
          null,
          null,
          1,
          1,
          1,
          1,
          1,
          1,
          1,
          1,
          1,
          1,
          null
         ],
         [
          null,
          null,
          null,
          null,
          null,
          null,
          null,
          null,
          null,
          null,
          null,
          null,
          null,
          null,
          null,
          null,
          null,
          null,
          null,
          null,
          null,
          null,
          null,
          null,
          null,
          null,
          null,
          null,
          null,
          null,
          null,
          null,
          1,
          1,
          1,
          1,
          1,
          1,
          1,
          1,
          1,
          1,
          null
         ],
         [
          null,
          null,
          null,
          null,
          null,
          null,
          null,
          null,
          null,
          null,
          null,
          null,
          null,
          null,
          null,
          null,
          null,
          null,
          null,
          null,
          null,
          null,
          null,
          null,
          null,
          null,
          null,
          null,
          null,
          null,
          null,
          null,
          1,
          1,
          1,
          1,
          1,
          1,
          1,
          1,
          1,
          1,
          null
         ],
         [
          null,
          null,
          null,
          null,
          null,
          null,
          null,
          null,
          null,
          null,
          null,
          null,
          null,
          null,
          null,
          null,
          null,
          null,
          null,
          null,
          null,
          null,
          null,
          null,
          null,
          null,
          null,
          null,
          null,
          null,
          null,
          null,
          1,
          1,
          1,
          1,
          1,
          1,
          1,
          1,
          1,
          1,
          null
         ],
         [
          null,
          null,
          null,
          null,
          null,
          null,
          null,
          null,
          null,
          null,
          null,
          null,
          null,
          null,
          null,
          null,
          null,
          null,
          null,
          null,
          null,
          null,
          null,
          null,
          null,
          null,
          null,
          null,
          null,
          null,
          null,
          null,
          1,
          1,
          1,
          1,
          1,
          1,
          1,
          1,
          1,
          1,
          null
         ],
         [
          null,
          null,
          null,
          null,
          null,
          null,
          null,
          null,
          null,
          null,
          null,
          null,
          null,
          null,
          null,
          null,
          null,
          null,
          null,
          null,
          null,
          null,
          null,
          null,
          null,
          null,
          null,
          null,
          null,
          null,
          null,
          null,
          1,
          1,
          1,
          1,
          1,
          1,
          1,
          1,
          1,
          1,
          null
         ],
         [
          null,
          null,
          null,
          null,
          null,
          null,
          null,
          null,
          null,
          null,
          null,
          null,
          null,
          null,
          null,
          null,
          null,
          null,
          null,
          null,
          null,
          null,
          null,
          null,
          null,
          null,
          null,
          null,
          null,
          null,
          null,
          null,
          1,
          1,
          1,
          1,
          1,
          1,
          1,
          1,
          1,
          1,
          null
         ],
         [
          null,
          null,
          null,
          null,
          null,
          null,
          null,
          null,
          null,
          null,
          null,
          null,
          null,
          null,
          null,
          null,
          null,
          null,
          null,
          null,
          null,
          null,
          null,
          null,
          null,
          null,
          null,
          null,
          null,
          null,
          null,
          null,
          null,
          null,
          null,
          null,
          null,
          null,
          null,
          null,
          null,
          null,
          1
         ],
         [
          null,
          null,
          null,
          null,
          null,
          null,
          null,
          null,
          null,
          null,
          null,
          null,
          null,
          null,
          null,
          null,
          null,
          null,
          null,
          null,
          null,
          null,
          null,
          null,
          null,
          null,
          null,
          null,
          null,
          null,
          null,
          null,
          null,
          null,
          null,
          null,
          null,
          null,
          null,
          null,
          null,
          null,
          1
         ],
         [
          null,
          null,
          null,
          null,
          null,
          null,
          null,
          null,
          null,
          null,
          null,
          null,
          null,
          null,
          null,
          null,
          null,
          null,
          null,
          null,
          null,
          null,
          null,
          null,
          null,
          null,
          null,
          null,
          null,
          null,
          null,
          null,
          null,
          null,
          null,
          null,
          null,
          null,
          null,
          null,
          null,
          null,
          1
         ],
         [
          null,
          null,
          null,
          null,
          null,
          null,
          null,
          null,
          null,
          null,
          null,
          null,
          null,
          null,
          null,
          null,
          null,
          null,
          null,
          null,
          null,
          null,
          null,
          null,
          null,
          null,
          null,
          null,
          null,
          null,
          null,
          null,
          null,
          null,
          null,
          null,
          null,
          null,
          null,
          null,
          null,
          null,
          1
         ],
         [
          null,
          null,
          null,
          null,
          null,
          null,
          null,
          null,
          null,
          null,
          null,
          null,
          null,
          null,
          null,
          null,
          null,
          null,
          null,
          null,
          null,
          null,
          null,
          null,
          null,
          null,
          null,
          null,
          null,
          null,
          null,
          null,
          null,
          null,
          null,
          null,
          null,
          null,
          null,
          null,
          null,
          null,
          1
         ],
         [
          null,
          null,
          null,
          null,
          null,
          null,
          null,
          null,
          null,
          null,
          null,
          null,
          null,
          null,
          null,
          null,
          null,
          null,
          null,
          null,
          null,
          null,
          null,
          null,
          null,
          null,
          null,
          null,
          null,
          null,
          null,
          null,
          null,
          null,
          null,
          null,
          null,
          null,
          null,
          null,
          null,
          null,
          1
         ],
         [
          null,
          null,
          null,
          null,
          null,
          null,
          null,
          null,
          null,
          null,
          null,
          null,
          null,
          null,
          null,
          null,
          null,
          null,
          null,
          null,
          null,
          null,
          null,
          null,
          null,
          null,
          null,
          null,
          null,
          null,
          null,
          null,
          null,
          null,
          null,
          null,
          null,
          null,
          null,
          null,
          null,
          null,
          1
         ],
         [
          null,
          null,
          null,
          null,
          null,
          null,
          null,
          null,
          null,
          null,
          null,
          null,
          null,
          null,
          null,
          null,
          null,
          null,
          null,
          null,
          null,
          null,
          null,
          null,
          null,
          null,
          null,
          null,
          null,
          null,
          null,
          null,
          null,
          null,
          null,
          null,
          null,
          null,
          null,
          null,
          null,
          null,
          1
         ],
         [
          null,
          null,
          null,
          null,
          null,
          null,
          null,
          null,
          null,
          null,
          null,
          null,
          null,
          null,
          null,
          null,
          null,
          null,
          null,
          null,
          null,
          null,
          null,
          null,
          null,
          null,
          null,
          null,
          null,
          null,
          null,
          null,
          null,
          null,
          null,
          null,
          null,
          null,
          null,
          null,
          null,
          null,
          1
         ],
         [
          null,
          null,
          null,
          null,
          null,
          null,
          null,
          null,
          null,
          null,
          null,
          null,
          null,
          null,
          null,
          null,
          null,
          null,
          null,
          null,
          null,
          null,
          null,
          null,
          null,
          null,
          null,
          null,
          null,
          null,
          null,
          null,
          null,
          null,
          null,
          null,
          null,
          null,
          null,
          null,
          null,
          null,
          1
         ],
         [
          null,
          null,
          null,
          null,
          null,
          null,
          null,
          null,
          null,
          null,
          null,
          null,
          null,
          null,
          null,
          null,
          null,
          null,
          null,
          null,
          null,
          null,
          null,
          null,
          null,
          null,
          null,
          null,
          null,
          null,
          null,
          null,
          null,
          null,
          null,
          null,
          null,
          null,
          null,
          null,
          null,
          null,
          null
         ]
        ]
       },
       "link_type": "line",
       "msg_throttle": 1,
       "node_data": [
        {
         "fixed": 0,
         "index": 0,
         "label": "x1",
         "label_display": "none",
         "px": 529.101806297863,
         "py": 355.7203247943226,
         "shape": "circle",
         "shape_attrs": {
          "r": 15
         },
         "value": null,
         "weight": 20,
         "x": 529.101806297863,
         "xval": 20,
         "y": 355.7203247943226,
         "yval": 92.3076923076923
        },
        {
         "index": 1,
         "label": "x2",
         "label_display": "none",
         "px": 531.8832380514635,
         "py": 361.09275997017016,
         "shape": "circle",
         "shape_attrs": {
          "r": 15
         },
         "value": null,
         "weight": 20,
         "x": 531.8893505016846,
         "xval": 20,
         "y": 361.0113644764516,
         "yval": 84.61538461538461
        },
        {
         "fixed": 0,
         "index": 2,
         "label": "x3",
         "label_display": "none",
         "px": 534.0063735013048,
         "py": 365.6184188767283,
         "shape": "circle",
         "shape_attrs": {
          "r": 15
         },
         "value": null,
         "weight": 20,
         "x": 534.0063735013048,
         "xval": 20,
         "y": 365.6184188767283,
         "yval": 76.92307692307692
        },
        {
         "index": 3,
         "label": "x4",
         "label_display": "none",
         "px": 535.660900262516,
         "py": 369.99225384771086,
         "shape": "circle",
         "shape_attrs": {
          "r": 15
         },
         "value": null,
         "weight": 20,
         "x": 535.6813683424843,
         "xval": 20,
         "y": 369.9379113606251,
         "yval": 69.23076923076923
        },
        {
         "index": 4,
         "label": "x5",
         "label_display": "none",
         "px": 349.27806531366787,
         "py": 419.79204133732895,
         "shape": "circle",
         "shape_attrs": {
          "r": 15
         },
         "value": null,
         "weight": 20,
         "x": 349.2334300496466,
         "xval": 20,
         "y": 419.7893909849638,
         "yval": 61.53846153846154
        },
        {
         "fixed": 0,
         "index": 5,
         "label": "x6",
         "label_display": "none",
         "px": 347.9242179952878,
         "py": 403.0316697786804,
         "shape": "circle",
         "shape_attrs": {
          "r": 15
         },
         "value": null,
         "weight": 20,
         "x": 347.87171205703646,
         "xval": 20,
         "y": 403.02724575949105,
         "yval": 53.84615384615385
        },
        {
         "index": 6,
         "label": "x7",
         "label_display": "none",
         "px": 354.2538696234675,
         "py": 438.5097584805723,
         "shape": "circle",
         "shape_attrs": {
          "r": 15
         },
         "value": null,
         "weight": 20,
         "x": 354.2313541770172,
         "xval": 20,
         "y": 438.56414739258605,
         "yval": 46.15384615384615
        },
        {
         "index": 7,
         "label": "x8",
         "label_display": "none",
         "px": 356.22057362840934,
         "py": 443.45571635538505,
         "shape": "circle",
         "shape_attrs": {
          "r": 15
         },
         "value": null,
         "weight": 20,
         "x": 356.2072062248934,
         "xval": 20,
         "y": 443.5252069713679,
         "yval": 38.46153846153846
        },
        {
         "index": 8,
         "label": "x9",
         "label_display": "none",
         "px": 358.8291461241985,
         "py": 449.07773963324667,
         "shape": "circle",
         "shape_attrs": {
          "r": 15
         },
         "value": null,
         "weight": 20,
         "x": 358.8271265687761,
         "xval": 20,
         "y": 449.1618443720512,
         "yval": 30.76923076923077
        },
        {
         "index": 9,
         "label": "x10",
         "label_display": "none",
         "px": 350.2348409036163,
         "py": 424.5967295664436,
         "shape": "circle",
         "shape_attrs": {
          "r": 15
         },
         "value": null,
         "weight": 20,
         "x": 350.1955683056573,
         "xval": 20,
         "y": 424.60863574141325,
         "yval": 23.076923076923077
        },
        {
         "index": 10,
         "label": "x11",
         "label_display": "none",
         "px": 351.34055233776166,
         "py": 429.23557739439275,
         "shape": "circle",
         "shape_attrs": {
          "r": 15
         },
         "value": null,
         "weight": 20,
         "x": 351.3057445861824,
         "xval": 20,
         "y": 429.26248221265405,
         "yval": 15.384615384615385
        },
        {
         "index": 11,
         "label": "x12",
         "label_display": "none",
         "px": 352.6686766055288,
         "py": 433.8364505361106,
         "shape": "circle",
         "shape_attrs": {
          "r": 15
         },
         "value": null,
         "weight": 20,
         "x": 352.63949182740373,
         "xval": 20,
         "y": 433.8773686865644,
         "yval": 7.6923076923076925
        },
        {
         "fixed": 0,
         "index": 12,
         "label": "h1,1",
         "label_display": "none",
         "px": 438.30653773859984,
         "py": 377.7211018453636,
         "shape": "circle",
         "shape_attrs": {
          "r": 15
         },
         "value": null,
         "weight": 22,
         "x": 438.30653773859984,
         "xval": 40,
         "y": 377.7211018453636,
         "yval": 95.23809523809524
        },
        {
         "fixed": 0,
         "index": 13,
         "label": "h1,2",
         "label_display": "none",
         "px": 445.4830710949258,
         "py": 407.40580969271514,
         "shape": "circle",
         "shape_attrs": {
          "r": 15
         },
         "value": null,
         "weight": 22,
         "x": 445.4830710949258,
         "xval": 40,
         "y": 407.40580969271514,
         "yval": 90.47619047619048
        },
        {
         "fixed": 0,
         "index": 14,
         "label": "h1,3",
         "label_display": "none",
         "px": 440.09389561772593,
         "py": 384.9913547714818,
         "shape": "circle",
         "shape_attrs": {
          "r": 15
         },
         "value": null,
         "weight": 22,
         "x": 440.09389561772593,
         "xval": 40,
         "y": 384.9913547714818,
         "yval": 85.71428571428571
        },
        {
         "index": 15,
         "label": "h1,4",
         "label_display": "none",
         "px": 442.03390585799406,
         "py": 393.18624031821906,
         "shape": "circle",
         "shape_attrs": {
          "r": 15
         },
         "value": null,
         "weight": 22,
         "x": 442.0252187451049,
         "xval": 40,
         "y": 393.18099926055953,
         "yval": 80.95238095238095
        },
        {
         "fixed": 0,
         "index": 16,
         "label": "h1,5",
         "label_display": "none",
         "px": 439.3038323400098,
         "py": 381.26898657152276,
         "shape": "circle",
         "shape_attrs": {
          "r": 15
         },
         "value": null,
         "weight": 22,
         "x": 439.3038323400098,
         "xval": 40,
         "y": 381.26898657152276,
         "yval": 76.19047619047619
        },
        {
         "index": 17,
         "label": "h1,6",
         "label_display": "none",
         "px": 436.1763853376012,
         "py": 367.0391092191069,
         "shape": "circle",
         "shape_attrs": {
          "r": 15
         },
         "value": null,
         "weight": 22,
         "x": 436.1319756129927,
         "xval": 40,
         "y": 366.9193372066237,
         "yval": 71.42857142857143
        },
        {
         "index": 18,
         "label": "h1,7",
         "label_display": "none",
         "px": 444.28747307460884,
         "py": 402.5857074144147,
         "shape": "circle",
         "shape_attrs": {
          "r": 15
         },
         "value": null,
         "weight": 22,
         "x": 444.28189322820117,
         "xval": 40,
         "y": 402.5864217166488,
         "yval": 66.66666666666667
        },
        {
         "index": 19,
         "label": "h1,8",
         "label_display": "none",
         "px": 436.96694163354766,
         "py": 370.835219648978,
         "shape": "circle",
         "shape_attrs": {
          "r": 15
         },
         "value": null,
         "weight": 22,
         "x": 436.93081668870667,
         "xval": 40,
         "y": 370.7487234007221,
         "yval": 61.904761904761905
        },
        {
         "index": 20,
         "label": "h1,9",
         "label_display": "none",
         "px": 443.12903262452926,
         "py": 397.77183731760726,
         "shape": "circle",
         "shape_attrs": {
          "r": 15
         },
         "value": null,
         "weight": 22,
         "x": 443.1225250371738,
         "xval": 40,
         "y": 397.77048960247726,
         "yval": 57.14285714285714
        },
        {
         "index": 21,
         "label": "h1,10",
         "label_display": "none",
         "px": 453.47719733511025,
         "py": 437.1791317957166,
         "shape": "circle",
         "shape_attrs": {
          "r": 15
         },
         "value": null,
         "weight": 22,
         "x": 453.50705008596486,
         "xval": 40,
         "y": 437.28186603254966,
         "yval": 52.38095238095238
        },
        {
         "index": 22,
         "label": "h1,11",
         "label_display": "none",
         "px": 450.6931880317312,
         "py": 427.36854915169533,
         "shape": "circle",
         "shape_attrs": {
          "r": 15
         },
         "value": null,
         "weight": 22,
         "x": 450.70224459711284,
         "xval": 40,
         "y": 427.40707742900895,
         "yval": 47.61904761904762
        },
        {
         "index": 23,
         "label": "h1,12",
         "label_display": "none",
         "px": 451.616956869591,
         "py": 430.68399636795544,
         "shape": "circle",
         "shape_attrs": {
          "r": 15
         },
         "value": null,
         "weight": 22,
         "x": 451.6308613454441,
         "xval": 40,
         "y": 430.73607807474326,
         "yval": 42.857142857142854
        },
        {
         "index": 24,
         "label": "h1,13",
         "label_display": "none",
         "px": 449.7701933541918,
         "py": 423.95395938325044,
         "shape": "circle",
         "shape_attrs": {
          "r": 15
         },
         "value": null,
         "weight": 22,
         "x": 449.77543161498545,
         "xval": 40,
         "y": 423.979666438766,
         "yval": 38.095238095238095
        },
        {
         "index": 25,
         "label": "h1,14",
         "label_display": "none",
         "px": 447.77652249109667,
         "py": 416.4027794386295,
         "shape": "circle",
         "shape_attrs": {
          "r": 15
         },
         "value": null,
         "weight": 22,
         "x": 447.77533228674633,
         "xval": 40,
         "y": 416.4089800756498,
         "yval": 33.333333333333336
        },
        {
         "fixed": 0,
         "index": 26,
         "label": "h1,15",
         "label_display": "none",
         "px": 437.84986949367203,
         "py": 374.25132654913494,
         "shape": "circle",
         "shape_attrs": {
          "r": 15
         },
         "value": null,
         "weight": 22,
         "x": 437.84986949367203,
         "xval": 40,
         "y": 374.25132654913494,
         "yval": 28.57142857142857
        },
        {
         "index": 27,
         "label": "h1,16",
         "label_display": "none",
         "px": 441.03312194188425,
         "py": 388.9301428056495,
         "shape": "circle",
         "shape_attrs": {
          "r": 15
         },
         "value": null,
         "weight": 22,
         "x": 441.0223311760983,
         "xval": 40,
         "y": 388.9201492326303,
         "yval": 23.80952380952381
        },
        {
         "index": 28,
         "label": "h1,17",
         "label_display": "none",
         "px": 448.80878786875905,
         "py": 420.35138343623464,
         "shape": "circle",
         "shape_attrs": {
          "r": 15
         },
         "value": null,
         "weight": 22,
         "x": 448.8091799805161,
         "xval": 40,
         "y": 420.3610019925185,
         "yval": 19.047619047619047
        },
        {
         "index": 29,
         "label": "h1,18",
         "label_display": "none",
         "px": 446.66133336839465,
         "py": 412.06746080603597,
         "shape": "circle",
         "shape_attrs": {
          "r": 15
         },
         "value": null,
         "weight": 22,
         "x": 446.65836227806636,
         "xval": 40,
         "y": 412.06979862465556,
         "yval": 14.285714285714285
        },
        {
         "index": 30,
         "label": "h1,19",
         "label_display": "none",
         "px": 454.5331839788234,
         "py": 440.7353981371751,
         "shape": "circle",
         "shape_attrs": {
          "r": 15
         },
         "value": null,
         "weight": 22,
         "x": 454.57338727966345,
         "xval": 40,
         "y": 440.870029182474,
         "yval": 9.523809523809524
        },
        {
         "index": 31,
         "label": "h1,20",
         "label_display": "none",
         "px": 452.51111853060013,
         "py": 433.8924336038177,
         "shape": "circle",
         "shape_attrs": {
          "r": 15
         },
         "value": null,
         "weight": 22,
         "x": 452.53198152903235,
         "xval": 40,
         "y": 433.96970392214837,
         "yval": 4.761904761904762
        },
        {
         "fixed": 0,
         "index": 32,
         "label": "h2,1",
         "label_display": "none",
         "px": 348.4069633574117,
         "py": 408.76281398343616,
         "shape": "circle",
         "shape_attrs": {
          "r": 15
         },
         "value": null,
         "weight": 21,
         "x": 348.4069633574117,
         "xval": 60,
         "y": 408.76281398343616,
         "yval": 90.90909090909092
        },
        {
         "fixed": 0,
         "index": 33,
         "label": "h2,2",
         "label_display": "none",
         "px": 348.98267226676734,
         "py": 414.2410318591959,
         "shape": "circle",
         "shape_attrs": {
          "r": 15
         },
         "value": null,
         "weight": 21,
         "x": 348.98267226676734,
         "xval": 60,
         "y": 414.2410318591959,
         "yval": 81.81818181818183
        },
        {
         "fixed": 0,
         "index": 34,
         "label": "h2,3",
         "label_display": "none",
         "px": 537.4603229397491,
         "py": 374.0357973649497,
         "shape": "circle",
         "shape_attrs": {
          "r": 15
         },
         "value": null,
         "weight": 21,
         "x": 537.4603229397491,
         "xval": 60,
         "y": 374.0357973649497,
         "yval": 72.72727272727273
        },
        {
         "index": 35,
         "label": "h2,4",
         "label_display": "none",
         "px": 538.4970595658459,
         "py": 378.0861567241818,
         "shape": "circle",
         "shape_attrs": {
          "r": 15
         },
         "value": null,
         "weight": 21,
         "x": 538.5316781024794,
         "xval": 60,
         "y": 378.0560742106646,
         "yval": 63.63636363636364
        },
        {
         "index": 36,
         "label": "h2,5",
         "label_display": "none",
         "px": 541.9506789452461,
         "py": 405.2045046484753,
         "shape": "circle",
         "shape_attrs": {
          "r": 15
         },
         "value": null,
         "weight": 21,
         "x": 541.9919124283681,
         "xval": 60,
         "y": 405.2694016450591,
         "yval": 54.54545454545455
        },
        {
         "index": 37,
         "label": "h2,6",
         "label_display": "none",
         "px": 540.2884600965493,
         "py": 386.07667443285,
         "shape": "circle",
         "shape_attrs": {
          "r": 15
         },
         "value": null,
         "weight": 21,
         "x": 540.3296107385247,
         "xval": 60,
         "y": 386.0726175500124,
         "yval": 45.45454545454546
        },
        {
         "index": 38,
         "label": "h2,7",
         "label_display": "none",
         "px": 541.4812921164678,
         "py": 394.6419287169871,
         "shape": "circle",
         "shape_attrs": {
          "r": 15
         },
         "value": null,
         "weight": 21,
         "x": 541.5256498499048,
         "xval": 60,
         "y": 394.6711846016649,
         "yval": 36.36363636363637
        },
        {
         "index": 39,
         "label": "h2,8",
         "label_display": "none",
         "px": 539.4750872865833,
         "py": 382.06791160469925,
         "shape": "circle",
         "shape_attrs": {
          "r": 15
         },
         "value": null,
         "weight": 21,
         "x": 539.5135288298698,
         "xval": 60,
         "y": 382.05054442074044,
         "yval": 27.272727272727273
        },
        {
         "fixed": 0,
         "index": 40,
         "label": "h2,9",
         "label_display": "none",
         "px": 541.8789771051929,
         "py": 399.51769602374225,
         "shape": "circle",
         "shape_attrs": {
          "r": 15
         },
         "value": null,
         "weight": 21,
         "x": 541.8789771051929,
         "xval": 60,
         "y": 399.51769602374225,
         "yval": 18.181818181818183
        },
        {
         "index": 41,
         "label": "h2,10",
         "label_display": "none",
         "px": 540.9635353553583,
         "py": 390.2506362665784,
         "shape": "circle",
         "shape_attrs": {
          "r": 15
         },
         "value": null,
         "weight": 21,
         "x": 541.0069568340803,
         "xval": 60,
         "y": 390.2620434189789,
         "yval": 9.090909090909092
        },
        {
         "fixed": 0,
         "index": 42,
         "label": "y1",
         "label_display": "none",
         "px": 443.91449995168784,
         "py": 356.55700616411593,
         "shape": "circle",
         "shape_attrs": {
          "r": 15
         },
         "value": null,
         "weight": 10,
         "x": 443.91449995168784,
         "xval": 80,
         "y": 356.55700616411593,
         "yval": 50
        }
       ],
       "preserve_domain": {},
       "scales": {
        "x": "IPY_MODEL_1fba8c3ad1dc44c2859297402b7539b0",
        "y": "IPY_MODEL_0ad5a8af60904e66a99cde9a11669de1"
       },
       "scales_metadata": {
        "color": {
         "dimension": "color"
        },
        "link_color": {
         "dimension": "color"
        },
        "x": {
         "dimension": "x",
         "orientation": "horizontal"
        },
        "y": {
         "dimension": "y",
         "orientation": "vertical"
        }
       },
       "selected": [],
       "selected_style": {
        "opacity": "1",
        "stroke": "red",
        "stroke-width": "2.5"
       },
       "tooltip": "IPY_MODEL_c0435348044c4dd984a24d59369f5c13",
       "tooltip_location": "mouse",
       "tooltip_style": {
        "opacity": 0.9
       },
       "unhovered_style": {
        "opacity": "0.4"
       },
       "unselected_style": {},
       "visible": true,
       "x": {
        "type": "float",
        "values": [
         20,
         20,
         20,
         20,
         20,
         20,
         20,
         20,
         20,
         20,
         20,
         20,
         40,
         40,
         40,
         40,
         40,
         40,
         40,
         40,
         40,
         40,
         40,
         40,
         40,
         40,
         40,
         40,
         40,
         40,
         40,
         40,
         60,
         60,
         60,
         60,
         60,
         60,
         60,
         60,
         60,
         60,
         80
        ]
       },
       "y": {
        "type": "float",
        "values": [
         92.3076923076923,
         84.61538461538461,
         76.92307692307692,
         69.23076923076923,
         61.53846153846154,
         53.84615384615385,
         46.15384615384615,
         38.46153846153846,
         30.76923076923077,
         23.076923076923077,
         15.384615384615385,
         7.6923076923076925,
         95.23809523809524,
         90.47619047619048,
         85.71428571428571,
         80.95238095238095,
         76.19047619047619,
         71.42857142857143,
         66.66666666666667,
         61.904761904761905,
         57.14285714285714,
         52.38095238095238,
         47.61904761904762,
         42.857142857142854,
         38.095238095238095,
         33.333333333333336,
         28.57142857142857,
         23.80952380952381,
         19.047619047619047,
         14.285714285714285,
         9.523809523809524,
         4.761904761904762,
         90.90909090909092,
         81.81818181818183,
         72.72727272727273,
         63.63636363636364,
         54.54545454545455,
         45.45454545454546,
         36.36363636363637,
         27.272727272727273,
         18.181818181818183,
         9.090909090909092,
         50
        ]
       }
      }
     },
     "5ad25e05494e461599772b49dd613b81": {
      "model_module": "bqplot",
      "model_module_version": "^0.3.0-alpha.1",
      "model_name": "AxisModel",
      "state": {
       "_model_module_version": "^0.3.0-alpha.1",
       "_view_module_version": "^0.3.0-alpha.1",
       "orientation": "vertical",
       "scale": "IPY_MODEL_db73751bcde94f5082bd4ffbaa1fd510",
       "side": "left",
       "tick_values": {
        "type": null,
        "values": null
       }
      }
     },
     "5eb9fdae65c44350bef6c4c3d7bcf898": {
      "model_module": "bqplot",
      "model_module_version": "^0.3.0-alpha.1",
      "model_name": "AxisModel",
      "state": {
       "_model_module_version": "^0.3.0-alpha.1",
       "_view_module_version": "^0.3.0-alpha.1",
       "orientation": "vertical",
       "scale": "IPY_MODEL_1908c59df4c543909ab63e1be1435050",
       "side": "left",
       "tick_values": {
        "type": null,
        "values": null
       }
      }
     },
     "62879dd0900c4a43845da32bb97b24ef": {
      "model_module": "@jupyter-widgets/controls",
      "model_module_version": "3.0.0",
      "model_name": "HBoxModel",
      "state": {
       "children": [
        "IPY_MODEL_b7572a0eac084bc6ba5871115fcab1ea",
        "IPY_MODEL_834676bba4ff4213a95ab51ee984c3b1",
        "IPY_MODEL_0324ccdf292c4a3f9b1ba2bf00975180",
        "IPY_MODEL_559f12feb29a462db4b1ea292a2b967b"
       ],
       "layout": "IPY_MODEL_818744429fc14d828e0d69207a9fd81c"
      }
     },
     "66aaccde017645bf8cdd08038f1fa009": {
      "model_module": "@jupyter-widgets/base",
      "model_module_version": "3.0.0",
      "model_name": "LayoutModel",
      "state": {
       "min_height": "1000px"
      }
     },
     "67f6192930b240629ef41c6f5dbfe2d2": {
      "model_module": "bqplot",
      "model_module_version": "^0.3.0-alpha.1",
      "model_name": "LinearScaleModel",
      "state": {
       "_model_module_version": "^0.3.0-alpha.1",
       "_view_module_version": "^0.3.0-alpha.1",
       "allow_padding": false,
       "max": 1,
       "min": 0,
       "stabilized": false
      }
     },
     "8168aaf5dfbc48699f5446bda4d500fe": {
      "model_module": "@jupyter-widgets/base",
      "model_module_version": "3.0.0",
      "model_name": "LayoutModel",
      "state": {
       "min_width": "125px"
      }
     },
     "818744429fc14d828e0d69207a9fd81c": {
      "model_module": "@jupyter-widgets/base",
      "model_module_version": "3.0.0",
      "model_name": "LayoutModel",
      "state": {}
     },
     "834676bba4ff4213a95ab51ee984c3b1": {
      "model_module": "@jupyter-widgets/controls",
      "model_module_version": "3.0.0",
      "model_name": "DropdownModel",
      "state": {
       "_options_labels": [
        "Weights",
        "Gradients"
       ],
       "description": "View",
       "index": 0,
       "layout": "IPY_MODEL_fb5ac6fb84e7429283afd04b9473a86c",
       "style": "IPY_MODEL_b1a7b0178ffa40d0880fdcfc204b7c3d"
      }
     },
     "8791f576e06c433d8c4bf8c457a4c995": {
      "model_module": "bqplot",
      "model_module_version": "^0.3.0-alpha.1",
      "model_name": "LinearScaleModel",
      "state": {
       "_model_module_version": "^0.3.0-alpha.1",
       "_view_module_version": "^0.3.0-alpha.1",
       "allow_padding": false,
       "max": 1,
       "min": 0,
       "stabilized": false
      }
     },
     "8c9f43e9285440a99d44c7939bfbf4aa": {
      "model_module": "bqplot",
      "model_module_version": "^0.3.0-alpha.1",
      "model_name": "FigureModel",
      "state": {
       "_dom_classes": [],
       "_model_module_version": "^0.3.0-alpha.1",
       "_view_module_version": "^0.3.0-alpha.1",
       "axes": [
        "IPY_MODEL_ea82e3f6e4c9455da4b33c15a817a092",
        "IPY_MODEL_5ad25e05494e461599772b49dd613b81"
       ],
       "layout": "IPY_MODEL_8168aaf5dfbc48699f5446bda4d500fe",
       "legend_location": "top-left",
       "marks": [
        "IPY_MODEL_bac96f65337148818650f081dae8a7e2"
       ],
       "max_aspect_ratio": 6,
       "scale_x": "IPY_MODEL_da5cb57925f942a9b161fa14ed373ed8",
       "scale_y": "IPY_MODEL_4281c005f9d943db951217c0a04b44cb",
       "title": "Train and Test AUC vs epoch"
      }
     },
     "8e706a43bf794d0697330b3ea3950f2e": {
      "model_module": "bqplot",
      "model_module_version": "^0.3.0-alpha.1",
      "model_name": "FigureModel",
      "state": {
       "_dom_classes": [],
       "_model_module_version": "^0.3.0-alpha.1",
       "_view_module_version": "^0.3.0-alpha.1",
       "layout": "IPY_MODEL_f91f4cf1e506418fa4eea3ede7ac362c",
       "marks": [
        "IPY_MODEL_59ceddebdda2418aa3ea33ab1f280ae7"
       ],
       "max_aspect_ratio": 6,
       "scale_x": "IPY_MODEL_67f6192930b240629ef41c6f5dbfe2d2",
       "scale_y": "IPY_MODEL_8791f576e06c433d8c4bf8c457a4c995",
       "title": "Analyzing the Trained Neural Network"
      }
     },
     "9c23708734a24c04acdc2849f31c8dc7": {
      "model_module": "@jupyter-widgets/base",
      "model_module_version": "3.0.0",
      "model_name": "LayoutModel",
      "state": {}
     },
     "a2128c2731f64514a46ccd3fe7a16ad0": {
      "model_module": "@jupyter-widgets/controls",
      "model_module_version": "3.0.0",
      "model_name": "VBoxModel",
      "state": {
       "children": [
        "IPY_MODEL_62879dd0900c4a43845da32bb97b24ef",
        "IPY_MODEL_8e706a43bf794d0697330b3ea3950f2e"
       ],
       "layout": "IPY_MODEL_66aaccde017645bf8cdd08038f1fa009"
      }
     },
     "b1a7b0178ffa40d0880fdcfc204b7c3d": {
      "model_module": "@jupyter-widgets/controls",
      "model_module_version": "3.0.0",
      "model_name": "DescriptionStyleModel",
      "state": {
       "description_width": ""
      }
     },
     "b7572a0eac084bc6ba5871115fcab1ea": {
      "model_module": "@jupyter-widgets/controls",
      "model_module_version": "3.0.0",
      "model_name": "IntSliderModel",
      "state": {
       "description": "Epoch:",
       "layout": "IPY_MODEL_e095eb4811e547b185cd1562a5595740",
       "max": 15,
       "min": 1,
       "style": "IPY_MODEL_2e3455bcc435446998fee87756cac406",
       "value": 1
      }
     },
     "bac96f65337148818650f081dae8a7e2": {
      "model_module": "bqplot",
      "model_module_version": "^0.3.0-alpha.1",
      "model_name": "LinesModel",
      "state": {
       "_model_module_version": "^0.3.0-alpha.1",
       "_view_module_version": "^0.3.0-alpha.1",
       "color": {
        "type": null,
        "values": null
       },
       "colors": [
        "DeepSkyBlue",
        "Red"
       ],
       "fill_colors": [],
       "labels": [
        "Training",
        "Test"
       ],
       "marker": "circle",
       "marker_size": 32,
       "scales": {
        "x": "IPY_MODEL_ec9dd465916e4d9386e13b6edf5932b4",
        "y": "IPY_MODEL_db73751bcde94f5082bd4ffbaa1fd510"
       },
       "selected": [],
       "x": {
        "type": "float",
        "values": [
         0,
         1,
         2,
         3,
         4,
         5,
         6,
         7,
         8,
         9,
         10,
         11,
         12,
         13,
         14
        ]
       },
       "y": {
        "type": "float",
        "values": [
         [
          0.4101919031556962,
          0.4400920929178406,
          0.5151369665498085,
          0.6041817835182144,
          0.6829390388143887,
          0.7420206851783961,
          0.7800774313593603,
          0.8007791133596932,
          0.8129562908068464,
          0.8200967118037902,
          0.8250330272769988,
          0.8286745445867628,
          0.831683344238398,
          0.8340625608768999,
          0.8363396372423317
         ],
         [
          0.4108736129260183,
          0.43972713315074197,
          0.5145143963275173,
          0.6048544414678277,
          0.6869474393932178,
          0.7472529951563722,
          0.7843739644684093,
          0.8043314924727304,
          0.8161405783535769,
          0.8231869195639595,
          0.828053458859185,
          0.831649061257362,
          0.834543166213524,
          0.8367784577381506,
          0.8390181589806366
         ]
        ]
       }
      }
     },
     "c03d44f039c04f388aa1f72c5ff5bb8e": {
      "model_module": "bqplot",
      "model_module_version": "^0.3.0-alpha.1",
      "model_name": "LinearScaleModel",
      "state": {
       "_model_module_version": "^0.3.0-alpha.1",
       "_view_module_version": "^0.3.0-alpha.1",
       "allow_padding": false,
       "max": 1,
       "min": 0,
       "stabilized": false
      }
     },
     "c0435348044c4dd984a24d59369f5c13": {
      "model_module": "bqplot",
      "model_module_version": "^0.3.0-alpha.1",
      "model_name": "FigureModel",
      "state": {
       "_dom_classes": [],
       "_model_module_version": "^0.3.0-alpha.1",
       "_view_module_version": "^0.3.0-alpha.1",
       "axes": [
        "IPY_MODEL_2948531784ba44879b8a9652addd3571",
        "IPY_MODEL_5eb9fdae65c44350bef6c4c3d7bcf898"
       ],
       "layout": "IPY_MODEL_4285dd1a6623415da266e452c1e7de63",
       "marks": [
        "IPY_MODEL_1456ebd8f87d4642bddfa5ab30dc50cc"
       ],
       "max_aspect_ratio": 6,
       "scale_x": "IPY_MODEL_c03d44f039c04f388aa1f72c5ff5bb8e",
       "scale_y": "IPY_MODEL_51c04a54892f4498984ec544cc8cc243",
       "title": "Weights for layer:1 node: 14 at epoch: 1"
      }
     },
     "da5cb57925f942a9b161fa14ed373ed8": {
      "model_module": "bqplot",
      "model_module_version": "^0.3.0-alpha.1",
      "model_name": "LinearScaleModel",
      "state": {
       "_model_module_version": "^0.3.0-alpha.1",
       "_view_module_version": "^0.3.0-alpha.1",
       "allow_padding": false,
       "max": 1,
       "min": 0,
       "stabilized": false
      }
     },
     "db73751bcde94f5082bd4ffbaa1fd510": {
      "model_module": "bqplot",
      "model_module_version": "^0.3.0-alpha.1",
      "model_name": "LinearScaleModel",
      "state": {
       "_model_module_version": "^0.3.0-alpha.1",
       "_view_module_version": "^0.3.0-alpha.1",
       "stabilized": false
      }
     },
     "e095eb4811e547b185cd1562a5595740": {
      "model_module": "@jupyter-widgets/base",
      "model_module_version": "3.0.0",
      "model_name": "LayoutModel",
      "state": {}
     },
     "ea82e3f6e4c9455da4b33c15a817a092": {
      "model_module": "bqplot",
      "model_module_version": "^0.3.0-alpha.1",
      "model_name": "AxisModel",
      "state": {
       "_model_module_version": "^0.3.0-alpha.1",
       "_view_module_version": "^0.3.0-alpha.1",
       "scale": "IPY_MODEL_ec9dd465916e4d9386e13b6edf5932b4",
       "side": "bottom",
       "tick_values": {
        "type": null,
        "values": null
       }
      }
     },
     "ec9dd465916e4d9386e13b6edf5932b4": {
      "model_module": "bqplot",
      "model_module_version": "^0.3.0-alpha.1",
      "model_name": "LinearScaleModel",
      "state": {
       "_model_module_version": "^0.3.0-alpha.1",
       "_view_module_version": "^0.3.0-alpha.1",
       "stabilized": false
      }
     },
     "f91f4cf1e506418fa4eea3ede7ac362c": {
      "model_module": "@jupyter-widgets/base",
      "model_module_version": "3.0.0",
      "model_name": "LayoutModel",
      "state": {
       "height": "800px",
       "min_width": "125px",
       "width": "900px"
      }
     },
     "fb5ac6fb84e7429283afd04b9473a86c": {
      "model_module": "@jupyter-widgets/base",
      "model_module_version": "3.0.0",
      "model_name": "LayoutModel",
      "state": {}
     }
    },
    "version_major": 2,
    "version_minor": 0
   }
  }
 },
 "nbformat": 4,
 "nbformat_minor": 2
}
