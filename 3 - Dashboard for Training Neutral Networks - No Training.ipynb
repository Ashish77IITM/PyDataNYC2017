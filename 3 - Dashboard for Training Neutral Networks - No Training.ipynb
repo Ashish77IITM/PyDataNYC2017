{
 "cells": [
  {
   "cell_type": "code",
   "execution_count": 1,
   "metadata": {},
   "outputs": [
    {
     "name": "stderr",
     "output_type": "stream",
     "text": [
      "/Users/maded/dev/bqplot/bqplot/scales.py:433: DeprecationWarning: metadata {'args': (None,)} was set from the constructor. With traitlets 4.1, metadata should be set using the .tag() method, e.g., Int().tag(key1='value1', key2='value2')\n",
      "  min = Date(default_value=None, allow_none=True).tag(sync=True)\n",
      "/Users/maded/dev/bqplot/bqplot/marks.py:827: DeprecationWarning: metadata {'sync': True, 'display_name': 'Fill color for the box'} was set from the constructor. With traitlets 4.1, metadata should be set using the .tag() method, e.g., Int().tag(key1='value1', key2='value2')\n",
      "  box_fill_color = Color('dodgerblue', sync=True, display_name='Fill color for the box')\n",
      "/Users/maded/dev/bqplot/bqplot/marks.py:993: DeprecationWarning: metadata {'display_name': 'Marker'} was set from the constructor. With traitlets 4.1, metadata should be set using the .tag() method, e.g., Int().tag(key1='value1', key2='value2')\n",
      "  marker = Enum(['candle', 'bar'], default_value='candle', display_name='Marker').tag(sync=True)\n"
     ]
    }
   ],
   "source": [
    "import numpy as np\n",
    "import mxnet as mx\n",
    "from bqplot import *\n",
    "from bqplot.marks import Graph\n",
    "from ipywidgets import IntSlider, Dropdown, RadioButtons, HBox, VBox, Button, Layout\n",
    "from bqplot import pyplot as plt\n",
    "from bqplot import OrdinalScale\n",
    "import itertools\n",
    "import pdb\n",
    "import warnings\n",
    "warnings.simplefilter('ignore')\n",
    "from IPython.display import display"
   ]
  },
  {
   "cell_type": "code",
   "execution_count": 2,
   "metadata": {
    "collapsed": true
   },
   "outputs": [],
   "source": [
    "import pandas as pd\n",
    "import numpy as np\n",
    "\n",
    "from sklearn.model_selection import train_test_split\n",
    "from sklearn.metrics import roc_auc_score"
   ]
  },
  {
   "cell_type": "code",
   "execution_count": 3,
   "metadata": {
    "collapsed": true
   },
   "outputs": [],
   "source": [
    "from mxnet import gluon\n",
    "from mxnet.gluon import nn, Block\n",
    "from mxnet import autograd\n",
    "from sklearn.preprocessing import StandardScaler"
   ]
  },
  {
   "cell_type": "code",
   "execution_count": 4,
   "metadata": {
    "collapsed": true
   },
   "outputs": [],
   "source": [
    "num_epochs = 10"
   ]
  },
  {
   "cell_type": "code",
   "execution_count": 5,
   "metadata": {
    "collapsed": true
   },
   "outputs": [],
   "source": [
    "X_train = pd.read_csv('data_files/cleaned_train.csv')\n",
    "X_test = pd.read_csv('data_files/cleaned_test.csv')\n",
    "y_train = X_train['label']\n",
    "y_test = X_test['label']\n",
    "X_train['RevolvingUtilizationOfUnsecuredLinesind'] = X_train['RevolvingUtilizationOfUnsecuredLinesind'].astype('float')\n",
    "X_train['overdue_ind'] = X_train['overdue_ind'].astype('float')\n",
    "\n",
    "X_train = X_train.drop('label', axis=1)\n",
    "X_test = X_test.drop('label', axis=1)\n",
    "\n",
    "scale = StandardScaler()\n",
    "X_train = scale.fit_transform(X_train)\n",
    "X_test = scale.transform(X_test)\n",
    "\n",
    "X_train = mx.nd.array(X_train)\n",
    "y_train = mx.nd.reshape(mx.nd.array(y_train), (y_train.shape[0], 1))\n",
    "\n",
    "X_test = mx.nd.array(X_test)\n",
    "y_test = mx.nd.reshape(mx.nd.array(y_test), (y_test.shape[0], 1))"
   ]
  },
  {
   "cell_type": "code",
   "execution_count": 6,
   "metadata": {
    "collapsed": true
   },
   "outputs": [],
   "source": [
    "class MLP(gluon.Block):\n",
    "    def __init__(self, **kwargs):\n",
    "        super(MLP, self).__init__(**kwargs)\n",
    "        with self.name_scope():\n",
    "            self.dense0 = nn.Dense(13)\n",
    "            self.dense1 = nn.Dense(5)\n",
    "            self.dense2 = nn.Dense(1)\n",
    "\n",
    "    def forward(self, x):\n",
    "        x1 = mx.nd.relu(self.dense0(x))\n",
    "        x2 = mx.nd.relu(self.dense1(x1))\n",
    "        x3 = self.dense2(x2)\n",
    "        return x3, x2, x1\n",
    "    \n",
    "net = MLP()"
   ]
  },
  {
   "cell_type": "code",
   "execution_count": 7,
   "metadata": {
    "collapsed": true
   },
   "outputs": [],
   "source": [
    "bce_loss = gluon.loss.SigmoidBinaryCrossEntropyLoss()"
   ]
  },
  {
   "cell_type": "code",
   "execution_count": 8,
   "metadata": {
    "collapsed": true
   },
   "outputs": [],
   "source": [
    "auc_fig = plt.figure(title='Train and Test AUC Score', legend_location='top-left')\n",
    "auc_line = plt.plot([0], [0], marker='circle', marker_size=32, colors=['DeepSkyBlue', 'Red'], \n",
    "                              labels=['Training', 'Test'], display_legend=True)\n",
    "plt.xlabel('Epoch')\n",
    "\n",
    "train_accs = []\n",
    "val_accs = []\n",
    "\n",
    "# data\n",
    "\n",
    "train_data = gluon.data.DataLoader(gluon.data.ArrayDataset(X_train, y_train),\n",
    "    batch_size=100, shuffle=True)\n",
    "\n",
    "val_data = gluon.data.DataLoader(gluon.data.ArrayDataset(X_test, y_test),\n",
    "    batch_size=100, shuffle=False)"
   ]
  },
  {
   "cell_type": "code",
   "execution_count": 9,
   "metadata": {
    "collapsed": true
   },
   "outputs": [],
   "source": [
    "from gluon_mlp_dashboard import MLPDashboard"
   ]
  },
  {
   "cell_type": "code",
   "execution_count": 10,
   "metadata": {
    "collapsed": true
   },
   "outputs": [],
   "source": [
    "data = list(itertools.islice(train_data, 1))[0][0]"
   ]
  },
  {
   "cell_type": "code",
   "execution_count": 11,
   "metadata": {
    "scrolled": false
   },
   "outputs": [
    {
     "data": {
      "application/vnd.jupyter.widget-view+json": {
       "model_id": "dd5c20b7b9de49d3b9d71bb0ffcc239f",
       "version_major": 2,
       "version_minor": 0
      },
      "text/html": [
       "<p>Failed to display Jupyter Widget of type <code>MLPDashboard</code>.</p>\n",
       "<p>\n",
       "  If you're reading this message in the Jupyter Notebook or JupyterLab Notebook, it may mean\n",
       "  that the widgets JavaScript is still loading. If this message persists, it\n",
       "  likely means that the widgets JavaScript library is either not installed or\n",
       "  not enabled. See the <a href=\"https://ipywidgets.readthedocs.io/en/stable/user_install.html\">Jupyter\n",
       "  Widgets Documentation</a> for setup instructions.\n",
       "</p>\n",
       "<p>\n",
       "  If you're reading this message in another frontend (for example, a static\n",
       "  rendering on GitHub or <a href=\"https://nbviewer.jupyter.org/\">NBViewer</a>),\n",
       "  it may mean that your frontend doesn't currently support widgets.\n",
       "</p>\n"
      ],
      "text/plain": [
       "MLPDashboard(children=(HBox(children=(IntSlider(value=1, description='Epoch:', max=10, min=1), Dropdown(description='View', options=('Weights', 'Gradients', 'Activations'), value='Weights'), Button(description='Update', style=ButtonStyle()))), Figure(fig_margin={'top': 60, 'bottom': 60, 'left': 60, 'right': 60}, layout=Layout(height='800px', min_width='125px', width='900px'), marks=[Graph(colors=['Orange', 'Orange', 'Orange', 'Orange', 'Orange', 'Orange', 'Orange', 'Orange', 'Orange', 'Orange', 'Orange', 'Orange', 'Orange', 'Orange', 'Orange', 'Orange', 'Orange', 'Orange', 'Orange'], directed=False, hovered_style={'stroke': '1.5'}, interactions={'hover': 'tooltip', 'click': 'select'}, link_data=[{'source': 0, 'target': 13, 'value': 0}, {'source': 0, 'target': 14, 'value': 0}, {'source': 0, 'target': 15, 'value': 0}, {'source': 0, 'target': 16, 'value': 0}, {'source': 0, 'target': 17, 'value': 0}, {'source': 1, 'target': 13, 'value': 0}, {'source': 1, 'target': 14, 'value': 0}, {'source': 1, 'target': 15, 'value': 0}, {'source': 1, 'target': 16, 'value': 0}, {'source': 1, 'target': 17, 'value': 0}, {'source': 2, 'target': 13, 'value': 0}, {'source': 2, 'target': 14, 'value': 0}, {'source': 2, 'target': 15, 'value': 0}, {'source': 2, 'target': 16, 'value': 0}, {'source': 2, 'target': 17, 'value': 0}, {'source': 3, 'target': 13, 'value': 0}, {'source': 3, 'target': 14, 'value': 0}, {'source': 3, 'target': 15, 'value': 0}, {'source': 3, 'target': 16, 'value': 0}, {'source': 3, 'target': 17, 'value': 0}, {'source': 4, 'target': 13, 'value': 0}, {'source': 4, 'target': 14, 'value': 0}, {'source': 4, 'target': 15, 'value': 0}, {'source': 4, 'target': 16, 'value': 0}, {'source': 4, 'target': 17, 'value': 0}, {'source': 5, 'target': 13, 'value': 0}, {'source': 5, 'target': 14, 'value': 0}, {'source': 5, 'target': 15, 'value': 0}, {'source': 5, 'target': 16, 'value': 0}, {'source': 5, 'target': 17, 'value': 0}, {'source': 6, 'target': 13, 'value': 0}, {'source': 6, 'target': 14, 'value': 0}, {'source': 6, 'target': 15, 'value': 0}, {'source': 6, 'target': 16, 'value': 0}, {'source': 6, 'target': 17, 'value': 0}, {'source': 7, 'target': 13, 'value': 0}, {'source': 7, 'target': 14, 'value': 0}, {'source': 7, 'target': 15, 'value': 0}, {'source': 7, 'target': 16, 'value': 0}, {'source': 7, 'target': 17, 'value': 0}, {'source': 8, 'target': 13, 'value': 0}, {'source': 8, 'target': 14, 'value': 0}, {'source': 8, 'target': 15, 'value': 0}, {'source': 8, 'target': 16, 'value': 0}, {'source': 8, 'target': 17, 'value': 0}, {'source': 9, 'target': 13, 'value': 0}, {'source': 9, 'target': 14, 'value': 0}, {'source': 9, 'target': 15, 'value': 0}, {'source': 9, 'target': 16, 'value': 0}, {'source': 9, 'target': 17, 'value': 0}, {'source': 10, 'target': 13, 'value': 0}, {'source': 10, 'target': 14, 'value': 0}, {'source': 10, 'target': 15, 'value': 0}, {'source': 10, 'target': 16, 'value': 0}, {'source': 10, 'target': 17, 'value': 0}, {'source': 11, 'target': 13, 'value': 0}, {'source': 11, 'target': 14, 'value': 0}, {'source': 11, 'target': 15, 'value': 0}, {'source': 11, 'target': 16, 'value': 0}, {'source': 11, 'target': 17, 'value': 0}, {'source': 12, 'target': 13, 'value': 0}, {'source': 12, 'target': 14, 'value': 0}, {'source': 12, 'target': 15, 'value': 0}, {'source': 12, 'target': 16, 'value': 0}, {'source': 12, 'target': 17, 'value': 0}, {'source': 13, 'target': 18, 'value': 0}, {'source': 14, 'target': 18, 'value': 0}, {'source': 15, 'target': 18, 'value': 0}, {'source': 16, 'target': 18, 'value': 0}, {'source': 17, 'target': 18, 'value': 0}], link_type='line', node_data=[{'label': 'h1,1', 'label_display': 'none'}, {'label': 'h1,2', 'label_display': 'none'}, {'label': 'h1,3', 'label_display': 'none'}, {'label': 'h1,4', 'label_display': 'none'}, {'label': 'h1,5', 'label_display': 'none'}, {'label': 'h1,6', 'label_display': 'none'}, {'label': 'h1,7', 'label_display': 'none'}, {'label': 'h1,8', 'label_display': 'none'}, {'label': 'h1,9', 'label_display': 'none'}, {'label': 'h1,10', 'label_display': 'none'}, {'label': 'h1,11', 'label_display': 'none'}, {'label': 'h1,12', 'label_display': 'none'}, {'label': 'h1,13', 'label_display': 'none'}, {'label': 'h2,1', 'label_display': 'none'}, {'label': 'h2,2', 'label_display': 'none'}, {'label': 'h2,3', 'label_display': 'none'}, {'label': 'h2,4', 'label_display': 'none'}, {'label': 'h2,5', 'label_display': 'none'}, {'label': 'y1', 'label_display': 'none'}], scales={'x': LinearScale(max=100.0, min=0.0), 'y': LinearScale(max=100.0, min=0.0), 'link_color': OrdinalColorScale(colors=['gray', '#1f77b4', '#ff7f0e', '#2ca02c', '#d62728', '#9467bd', '#8c564b', '#e377c2', '#7f7f7f', '#bcbd22', '#17becf'], domain=[0, 1, 2, 3, 4, 5, 6, 7, 8, 9, 10])}, scales_metadata={'x': {'orientation': 'horizontal', 'dimension': 'x'}, 'y': {'orientation': 'vertical', 'dimension': 'y'}, 'color': {'dimension': 'color'}, 'link_color': {'dimension': 'link_color'}}, selected_style={'opacity': '1', 'stroke': 'red', 'stroke-width': '2.5'}, tooltip=Figure(axes=[Axis(scale=OrdinalScale()), Axis(orientation='vertical', scale=LinearScale())], fig_margin={'top': 60, 'bottom': 60, 'left': 60, 'right': 60}, layout=Layout(min_width='125px'), marks=[Bars(colors=['#1f77b4', '#ff7f0e', '#2ca02c', '#d62728', '#9467bd', '#8c564b', '#e377c2', '#7f7f7f', '#bcbd22', '#17becf'], interactions={'hover': 'tooltip'}, scales={'x': OrdinalScale(), 'y': LinearScale()}, scales_metadata={'x': {'orientation': 'horizontal', 'dimension': 'x'}, 'y': {'orientation': 'vertical', 'dimension': 'y'}, 'color': {'dimension': 'color'}}, tooltip_style={'opacity': 0.9})], scale_x=LinearScale(allow_padding=False, max=1.0, min=0.0), scale_y=LinearScale(allow_padding=False, max=1.0, min=0.0)), tooltip_style={'opacity': 0.9}, unhovered_style={'opacity': '0.1'}, x=array([ 40.,  40.,  40.,  40.,  40.,  40.,  40.,  40.,  40.,  40.,  40.,\n",
       "        40.,  40.,  60.,  60.,  60.,  60.,  60.,  80.]), y=array([ 92.85714286,  85.71428571,  78.57142857,  71.42857143,\n",
       "        64.28571429,  57.14285714,  50.        ,  42.85714286,\n",
       "        35.71428571,  28.57142857,  21.42857143,  14.28571429,\n",
       "         7.14285714,  83.33333333,  66.66666667,  50.        ,\n",
       "        33.33333333,  16.66666667,  50.        ]))], scale_x=LinearScale(allow_padding=False, max=1.0, min=0.0), scale_y=LinearScale(allow_padding=False, max=1.0, min=0.0), title='Analyzing the Trained Neural Network')), layout=Layout(min_height='1000px'))"
      ]
     },
     "metadata": {},
     "output_type": "display_data"
    }
   ],
   "source": [
    "a = MLPDashboard(net, 'nn-params', 'epoch', data=data)\n",
    "a"
   ]
  },
  {
   "cell_type": "code",
   "execution_count": null,
   "metadata": {
    "collapsed": true
   },
   "outputs": [],
   "source": []
  }
 ],
 "metadata": {
  "input_collapsed": false,
  "kernelspec": {
   "display_name": "Python 3",
   "language": "python",
   "name": "python3"
  },
  "language_info": {
   "codemirror_mode": {
    "name": "ipython",
    "version": 3
   },
   "file_extension": ".py",
   "mimetype": "text/x-python",
   "name": "python",
   "nbconvert_exporter": "python",
   "pygments_lexer": "ipython3",
   "version": "3.6.1"
  },
  "widgets": {
   "application/vnd.jupyter.widget-state+json": {
    "state": {
     "0324ccdf292c4a3f9b1ba2bf00975180": {
      "model_module": "@jupyter-widgets/controls",
      "model_module_version": "1.0.0",
      "model_name": "RadioButtonsModel",
      "state": {
       "_options_labels": [
        "Nodes",
        "Layers"
       ],
       "description": "Aggregation",
       "index": 0,
       "layout": "IPY_MODEL_501ac9e6329d47e5a7fb8174bb2c5c84",
       "style": "IPY_MODEL_53ca2cedcc064a9dafb60faa9954018c"
      }
     },
     "07ae9f56b81b4f0caf7a24e98d962ea9": {
      "model_module": "@jupyter-widgets/controls",
      "model_module_version": "1.0.0",
      "model_name": "VBoxModel",
      "state": {
       "children": [
        "IPY_MODEL_1524c3ab6a6f43af937fa41404c0d17d",
        "IPY_MODEL_be08ca2dae4b4bc9af66862d2ddf85d7"
       ],
       "layout": "IPY_MODEL_1f46f2e3241842278b77a750ab014b67"
      }
     },
     "0ad5a8af60904e66a99cde9a11669de1": {
      "model_module": "bqplot",
      "model_module_version": "^0.3.0-alpha.1",
      "model_name": "LinearScaleModel",
      "state": {
       "_model_module_version": "^0.3.0-alpha.1",
       "_view_module_version": "^0.3.0-alpha.1",
       "max": 100,
       "min": 0,
       "stabilized": false
      }
     },
     "120abfafd14f425eb3bde0a13823d8a6": {
      "model_module": "@jupyter-widgets/controls",
      "model_module_version": "1.0.0",
      "model_name": "SliderStyleModel",
      "state": {
       "description_width": ""
      }
     },
     "12adadba843a4f35ae71e5573ca45b7f": {
      "model_module": "bqplot",
      "model_module_version": "^0.3.0",
      "model_name": "LinearScaleModel",
      "state": {
       "_model_module_version": "^0.3.0",
       "_view_module_version": "^0.3.0",
       "max": 100,
       "min": 0,
       "stabilized": false
      }
     },
     "1456ebd8f87d4642bddfa5ab30dc50cc": {
      "model_module": "bqplot",
      "model_module_version": "^0.3.0-alpha.1",
      "model_name": "BarsModel",
      "state": {
       "_model_module_version": "^0.3.0-alpha.1",
       "_view_module_version": "^0.3.0-alpha.1",
       "color": {
        "type": null,
        "values": null
       },
       "display_legend": false,
       "scales": {
        "x": "IPY_MODEL_391760dddbbf4599a442ed4c37f305e6",
        "y": "IPY_MODEL_1908c59df4c543909ab63e1be1435050"
       },
       "selected": [],
       "x": {
        "type": "float",
        "values": [
         0,
         1,
         2,
         3,
         4,
         5,
         6,
         7,
         8,
         9,
         10,
         11,
         12
        ]
       },
       "y": {
        "type": "float",
        "values": [
         -0.04362702742218971,
         -0.28676337003707886,
         -0.1761043816804886,
         0.1581498235464096,
         -0.3629445731639862,
         0.20405158400535583,
         0.1925378441810608,
         0.18305829167366028,
         0.07588446885347366,
         0.18733079731464386,
         -0.25595778226852417,
         0.016042450442910194,
         0.22553013265132904
        ]
       }
      }
     },
     "1524c3ab6a6f43af937fa41404c0d17d": {
      "model_module": "@jupyter-widgets/controls",
      "model_module_version": "1.0.0",
      "model_name": "HBoxModel",
      "state": {
       "children": [
        "IPY_MODEL_fedef60de7a24129b4d9e16ef699ed52",
        "IPY_MODEL_5722a00c2a9c4a50b233b9d7937d9284",
        "IPY_MODEL_1bbb2e414d9c4a7bbbe032c37fe3e635"
       ],
       "layout": "IPY_MODEL_e10b76824802456da178880a601fdf51"
      }
     },
     "1908c59df4c543909ab63e1be1435050": {
      "model_module": "bqplot",
      "model_module_version": "^0.3.0-alpha.1",
      "model_name": "LinearScaleModel",
      "state": {
       "_model_module_version": "^0.3.0-alpha.1",
       "_view_module_version": "^0.3.0-alpha.1",
       "stabilized": false
      }
     },
     "1ba4c81d2acc41a79f9f3b9fd55ac0fd": {
      "model_module": "bqplot",
      "model_module_version": "^0.3.0",
      "model_name": "LinearScaleModel",
      "state": {
       "_model_module_version": "^0.3.0",
       "_view_module_version": "^0.3.0",
       "stabilized": false
      }
     },
     "1bbb2e414d9c4a7bbbe032c37fe3e635": {
      "model_module": "@jupyter-widgets/controls",
      "model_module_version": "1.0.0",
      "model_name": "ButtonModel",
      "state": {
       "description": "Update",
       "layout": "IPY_MODEL_1e3fcd2e1a78475980a11a2a2acd88d3",
       "style": "IPY_MODEL_b3a42c39676c490fbfe7d95b13596c61"
      }
     },
     "1dc94b9b92444e9791f2cb8009ea552e": {
      "model_module": "@jupyter-widgets/base",
      "model_module_version": "1.0.0",
      "model_name": "LayoutModel",
      "state": {}
     },
     "1e3fcd2e1a78475980a11a2a2acd88d3": {
      "model_module": "@jupyter-widgets/base",
      "model_module_version": "1.0.0",
      "model_name": "LayoutModel",
      "state": {}
     },
     "1f46f2e3241842278b77a750ab014b67": {
      "model_module": "@jupyter-widgets/base",
      "model_module_version": "1.0.0",
      "model_name": "LayoutModel",
      "state": {
       "min_height": "1000px"
      }
     },
     "1fba8c3ad1dc44c2859297402b7539b0": {
      "model_module": "bqplot",
      "model_module_version": "^0.3.0-alpha.1",
      "model_name": "LinearScaleModel",
      "state": {
       "_model_module_version": "^0.3.0-alpha.1",
       "_view_module_version": "^0.3.0-alpha.1",
       "max": 100,
       "min": 0,
       "stabilized": false
      }
     },
     "2948531784ba44879b8a9652addd3571": {
      "model_module": "bqplot",
      "model_module_version": "^0.3.0-alpha.1",
      "model_name": "AxisModel",
      "state": {
       "_model_module_version": "^0.3.0-alpha.1",
       "_view_module_version": "^0.3.0-alpha.1",
       "scale": "IPY_MODEL_391760dddbbf4599a442ed4c37f305e6",
       "side": "bottom",
       "tick_values": {
        "type": null,
        "values": null
       }
      }
     },
     "299c0600365d42d4a5109480cd61e467": {
      "model_module": "bqplot",
      "model_module_version": "^0.3.0",
      "model_name": "LinearScaleModel",
      "state": {
       "_model_module_version": "^0.3.0",
       "_view_module_version": "^0.3.0",
       "allow_padding": false,
       "max": 1,
       "min": 0,
       "stabilized": false
      }
     },
     "2e3455bcc435446998fee87756cac406": {
      "model_module": "@jupyter-widgets/controls",
      "model_module_version": "1.0.0",
      "model_name": "SliderStyleModel",
      "state": {
       "description_width": ""
      }
     },
     "2f7a39e70cbb4cdbbb5fce97289005c0": {
      "model_module": "bqplot",
      "model_module_version": "^0.3.0",
      "model_name": "FigureModel",
      "state": {
       "_dom_classes": [],
       "_model_module_version": "^0.3.0",
       "_view_module_version": "^0.3.0",
       "axes": [
        "IPY_MODEL_8d536375cc11439e97a7cdf18d2d9806",
        "IPY_MODEL_5f803cc573c64a539c88ce8e15cc1fac"
       ],
       "layout": "IPY_MODEL_b8df5373e80a4572adb16d43eb3495cb",
       "marks": [
        "IPY_MODEL_4fcf033166c6425880bef8d0e1533df1"
       ],
       "max_aspect_ratio": 6,
       "scale_x": "IPY_MODEL_e577d5ca58594c50adf0c16ec7550e21",
       "scale_y": "IPY_MODEL_bc3964aa4e0a4689951f2ed7c5fdb6ba",
       "title": "Histogram of Activations"
      }
     },
     "3004819ca58e43df9156b6da477f3a16": {
      "model_module": "@jupyter-widgets/controls",
      "model_module_version": "1.0.0",
      "model_name": "DescriptionStyleModel",
      "state": {
       "description_width": ""
      }
     },
     "30ae23dca1134645872aa22830d1b64f": {
      "model_module": "bqplot",
      "model_module_version": "^0.3.0",
      "model_name": "LinearScaleModel",
      "state": {
       "_model_module_version": "^0.3.0",
       "_view_module_version": "^0.3.0",
       "stabilized": false
      }
     },
     "391760dddbbf4599a442ed4c37f305e6": {
      "model_module": "bqplot",
      "model_module_version": "^0.3.0-alpha.1",
      "model_name": "OrdinalScaleModel",
      "state": {
       "_model_module_version": "^0.3.0-alpha.1",
       "_view_module_version": "^0.3.0-alpha.1",
       "domain": []
      }
     },
     "39fe5cf3000f4c218b5053db157160ed": {
      "model_module": "@jupyter-widgets/controls",
      "model_module_version": "1.0.0",
      "model_name": "ButtonStyleModel",
      "state": {
       "_view_module": "@jupyter-widgets/controls"
      }
     },
     "40b7ffd8f15b43039d154b5d00c7a1f5": {
      "model_module": "bqplot",
      "model_module_version": "^0.3.0",
      "model_name": "OrdinalScaleModel",
      "state": {
       "_model_module_version": "^0.3.0",
       "_view_module_version": "^0.3.0",
       "domain": []
      }
     },
     "4281c005f9d943db951217c0a04b44cb": {
      "model_module": "bqplot",
      "model_module_version": "^0.3.0-alpha.1",
      "model_name": "LinearScaleModel",
      "state": {
       "_model_module_version": "^0.3.0-alpha.1",
       "_view_module_version": "^0.3.0-alpha.1",
       "allow_padding": false,
       "max": 1,
       "min": 0,
       "stabilized": false
      }
     },
     "4285dd1a6623415da266e452c1e7de63": {
      "model_module": "@jupyter-widgets/base",
      "model_module_version": "1.0.0",
      "model_name": "LayoutModel",
      "state": {
       "min_width": "125px"
      }
     },
     "4fcf033166c6425880bef8d0e1533df1": {
      "model_module": "bqplot",
      "model_module_version": "^0.3.0",
      "model_name": "HistModel",
      "state": {
       "_model_module_version": "^0.3.0",
       "_view_module_version": "^0.3.0",
       "bins": 20,
       "count": {
        "type": "float",
        "values": []
       },
       "display_legend": false,
       "sample": {
        "type": "float",
        "values": []
       },
       "scales": {
        "count": "IPY_MODEL_1ba4c81d2acc41a79f9f3b9fd55ac0fd",
        "sample": "IPY_MODEL_e640edde8ca642b8a2f69e55bdd1ca03"
       },
       "selected": []
      }
     },
     "501ac9e6329d47e5a7fb8174bb2c5c84": {
      "model_module": "@jupyter-widgets/base",
      "model_module_version": "1.0.0",
      "model_name": "LayoutModel",
      "state": {}
     },
     "51c04a54892f4498984ec544cc8cc243": {
      "model_module": "bqplot",
      "model_module_version": "^0.3.0-alpha.1",
      "model_name": "LinearScaleModel",
      "state": {
       "_model_module_version": "^0.3.0-alpha.1",
       "_view_module_version": "^0.3.0-alpha.1",
       "allow_padding": false,
       "max": 1,
       "min": 0,
       "stabilized": false
      }
     },
     "53ca2cedcc064a9dafb60faa9954018c": {
      "model_module": "@jupyter-widgets/controls",
      "model_module_version": "1.0.0",
      "model_name": "DescriptionStyleModel",
      "state": {
       "description_width": ""
      }
     },
     "53ebe6633b1343cab4ae8097cf0e6c4a": {
      "model_module": "bqplot",
      "model_module_version": "^0.3.0",
      "model_name": "AxisModel",
      "state": {
       "_model_module_version": "^0.3.0",
       "_view_module_version": "^0.3.0",
       "orientation": "vertical",
       "scale": "IPY_MODEL_b32e0fd4471e4735857864201d46f8b7",
       "side": "left",
       "tick_values": {
        "type": null,
        "values": null
       }
      }
     },
     "559f12feb29a462db4b1ea292a2b967b": {
      "model_module": "@jupyter-widgets/controls",
      "model_module_version": "1.0.0",
      "model_name": "ButtonModel",
      "state": {
       "description": "Update",
       "layout": "IPY_MODEL_9c23708734a24c04acdc2849f31c8dc7",
       "style": "IPY_MODEL_39fe5cf3000f4c218b5053db157160ed"
      }
     },
     "5722a00c2a9c4a50b233b9d7937d9284": {
      "model_module": "@jupyter-widgets/controls",
      "model_module_version": "1.0.0",
      "model_name": "DropdownModel",
      "state": {
       "_options_labels": [
        "Weights",
        "Gradients",
        "Activations"
       ],
       "description": "View",
       "index": 1,
       "layout": "IPY_MODEL_b9731d5932c148459883ad7815e8121f",
       "style": "IPY_MODEL_3004819ca58e43df9156b6da477f3a16"
      }
     },
     "59ceddebdda2418aa3ea33ab1f280ae7": {
      "model_module": "bqplot",
      "model_module_version": "^0.3.0-alpha.1",
      "model_name": "GraphModel",
      "state": {
       "_model_module": "bqplot",
       "_model_module_version": "^0.3.0-alpha.1",
       "_view_count": null,
       "_view_module": "bqplot",
       "_view_module_version": "^0.3.0-alpha.1",
       "apply_clip": true,
       "charge": -600,
       "color": {
        "type": null,
        "values": null
       },
       "colors": [
        "Orange",
        "Orange",
        "Orange",
        "Orange",
        "Orange",
        "Orange",
        "Orange",
        "Orange",
        "Orange",
        "Orange",
        "Orange",
        "Orange",
        "Orange",
        "Orange",
        "Orange",
        "Orange",
        "Orange",
        "Orange",
        "Orange",
        "Orange",
        "Orange",
        "Orange",
        "Orange",
        "Orange",
        "Orange",
        "Orange",
        "Orange",
        "Orange",
        "Orange",
        "Orange",
        "Orange",
        "Orange",
        "Orange",
        "Orange",
        "Orange",
        "Orange",
        "Orange",
        "Orange",
        "Orange",
        "Orange",
        "Orange",
        "Orange",
        "Orange"
       ],
       "directed": false,
       "display_legend": false,
       "enable_hover": true,
       "highlight_links": true,
       "hovered_style": {
        "stroke": "1.5"
       },
       "interactions": {
        "click": "select",
        "hover": "tooltip"
       },
       "labels": [],
       "link_color": {
        "type": "float",
        "values": []
       },
       "link_data": [
        {
         "source": {
          "fixed": 0,
          "index": 0,
          "label": "x1",
          "label_display": "none",
          "px": 529.101806297863,
          "py": 355.7203247943226,
          "shape": "circle",
          "shape_attrs": {
           "r": 15
          },
          "value": null,
          "weight": 20,
          "x": 529.101806297863,
          "xval": 20,
          "y": 355.7203247943226,
          "yval": 92.3076923076923
         },
         "target": {
          "fixed": 0,
          "index": 12,
          "label": "h1,1",
          "label_display": "none",
          "px": 438.30653773859984,
          "py": 377.7211018453636,
          "shape": "circle",
          "shape_attrs": {
           "r": 15
          },
          "value": null,
          "weight": 22,
          "x": 438.30653773859984,
          "xval": 40,
          "y": 377.7211018453636,
          "yval": 95.23809523809524
         },
         "value": 1
        },
        {
         "source": {
          "fixed": 0,
          "index": 0,
          "label": "x1",
          "label_display": "none",
          "px": 529.101806297863,
          "py": 355.7203247943226,
          "shape": "circle",
          "shape_attrs": {
           "r": 15
          },
          "value": null,
          "weight": 20,
          "x": 529.101806297863,
          "xval": 20,
          "y": 355.7203247943226,
          "yval": 92.3076923076923
         },
         "target": {
          "fixed": 0,
          "index": 13,
          "label": "h1,2",
          "label_display": "none",
          "px": 445.4830710949258,
          "py": 407.40580969271514,
          "shape": "circle",
          "shape_attrs": {
           "r": 15
          },
          "value": null,
          "weight": 22,
          "x": 445.4830710949258,
          "xval": 40,
          "y": 407.40580969271514,
          "yval": 90.47619047619048
         },
         "value": 1
        },
        {
         "source": {
          "fixed": 0,
          "index": 0,
          "label": "x1",
          "label_display": "none",
          "px": 529.101806297863,
          "py": 355.7203247943226,
          "shape": "circle",
          "shape_attrs": {
           "r": 15
          },
          "value": null,
          "weight": 20,
          "x": 529.101806297863,
          "xval": 20,
          "y": 355.7203247943226,
          "yval": 92.3076923076923
         },
         "target": {
          "fixed": 0,
          "index": 14,
          "label": "h1,3",
          "label_display": "none",
          "px": 440.09389561772593,
          "py": 384.9913547714818,
          "shape": "circle",
          "shape_attrs": {
           "r": 15
          },
          "value": null,
          "weight": 22,
          "x": 440.09389561772593,
          "xval": 40,
          "y": 384.9913547714818,
          "yval": 85.71428571428571
         },
         "value": 1
        },
        {
         "source": {
          "fixed": 0,
          "index": 0,
          "label": "x1",
          "label_display": "none",
          "px": 529.101806297863,
          "py": 355.7203247943226,
          "shape": "circle",
          "shape_attrs": {
           "r": 15
          },
          "value": null,
          "weight": 20,
          "x": 529.101806297863,
          "xval": 20,
          "y": 355.7203247943226,
          "yval": 92.3076923076923
         },
         "target": {
          "index": 15,
          "label": "h1,4",
          "label_display": "none",
          "px": 442.03390585799406,
          "py": 393.18624031821906,
          "shape": "circle",
          "shape_attrs": {
           "r": 15
          },
          "value": null,
          "weight": 22,
          "x": 442.0252187451049,
          "xval": 40,
          "y": 393.18099926055953,
          "yval": 80.95238095238095
         },
         "value": 1
        },
        {
         "source": {
          "fixed": 0,
          "index": 0,
          "label": "x1",
          "label_display": "none",
          "px": 529.101806297863,
          "py": 355.7203247943226,
          "shape": "circle",
          "shape_attrs": {
           "r": 15
          },
          "value": null,
          "weight": 20,
          "x": 529.101806297863,
          "xval": 20,
          "y": 355.7203247943226,
          "yval": 92.3076923076923
         },
         "target": {
          "fixed": 0,
          "index": 16,
          "label": "h1,5",
          "label_display": "none",
          "px": 439.3038323400098,
          "py": 381.26898657152276,
          "shape": "circle",
          "shape_attrs": {
           "r": 15
          },
          "value": null,
          "weight": 22,
          "x": 439.3038323400098,
          "xval": 40,
          "y": 381.26898657152276,
          "yval": 76.19047619047619
         },
         "value": 1
        },
        {
         "source": {
          "fixed": 0,
          "index": 0,
          "label": "x1",
          "label_display": "none",
          "px": 529.101806297863,
          "py": 355.7203247943226,
          "shape": "circle",
          "shape_attrs": {
           "r": 15
          },
          "value": null,
          "weight": 20,
          "x": 529.101806297863,
          "xval": 20,
          "y": 355.7203247943226,
          "yval": 92.3076923076923
         },
         "target": {
          "index": 17,
          "label": "h1,6",
          "label_display": "none",
          "px": 436.1763853376012,
          "py": 367.0391092191069,
          "shape": "circle",
          "shape_attrs": {
           "r": 15
          },
          "value": null,
          "weight": 22,
          "x": 436.1319756129927,
          "xval": 40,
          "y": 366.9193372066237,
          "yval": 71.42857142857143
         },
         "value": 1
        },
        {
         "source": {
          "fixed": 0,
          "index": 0,
          "label": "x1",
          "label_display": "none",
          "px": 529.101806297863,
          "py": 355.7203247943226,
          "shape": "circle",
          "shape_attrs": {
           "r": 15
          },
          "value": null,
          "weight": 20,
          "x": 529.101806297863,
          "xval": 20,
          "y": 355.7203247943226,
          "yval": 92.3076923076923
         },
         "target": {
          "index": 18,
          "label": "h1,7",
          "label_display": "none",
          "px": 444.28747307460884,
          "py": 402.5857074144147,
          "shape": "circle",
          "shape_attrs": {
           "r": 15
          },
          "value": null,
          "weight": 22,
          "x": 444.28189322820117,
          "xval": 40,
          "y": 402.5864217166488,
          "yval": 66.66666666666667
         },
         "value": 1
        },
        {
         "source": {
          "fixed": 0,
          "index": 0,
          "label": "x1",
          "label_display": "none",
          "px": 529.101806297863,
          "py": 355.7203247943226,
          "shape": "circle",
          "shape_attrs": {
           "r": 15
          },
          "value": null,
          "weight": 20,
          "x": 529.101806297863,
          "xval": 20,
          "y": 355.7203247943226,
          "yval": 92.3076923076923
         },
         "target": {
          "index": 19,
          "label": "h1,8",
          "label_display": "none",
          "px": 436.96694163354766,
          "py": 370.835219648978,
          "shape": "circle",
          "shape_attrs": {
           "r": 15
          },
          "value": null,
          "weight": 22,
          "x": 436.93081668870667,
          "xval": 40,
          "y": 370.7487234007221,
          "yval": 61.904761904761905
         },
         "value": 1
        },
        {
         "source": {
          "fixed": 0,
          "index": 0,
          "label": "x1",
          "label_display": "none",
          "px": 529.101806297863,
          "py": 355.7203247943226,
          "shape": "circle",
          "shape_attrs": {
           "r": 15
          },
          "value": null,
          "weight": 20,
          "x": 529.101806297863,
          "xval": 20,
          "y": 355.7203247943226,
          "yval": 92.3076923076923
         },
         "target": {
          "index": 20,
          "label": "h1,9",
          "label_display": "none",
          "px": 443.12903262452926,
          "py": 397.77183731760726,
          "shape": "circle",
          "shape_attrs": {
           "r": 15
          },
          "value": null,
          "weight": 22,
          "x": 443.1225250371738,
          "xval": 40,
          "y": 397.77048960247726,
          "yval": 57.14285714285714
         },
         "value": 1
        },
        {
         "source": {
          "fixed": 0,
          "index": 0,
          "label": "x1",
          "label_display": "none",
          "px": 529.101806297863,
          "py": 355.7203247943226,
          "shape": "circle",
          "shape_attrs": {
           "r": 15
          },
          "value": null,
          "weight": 20,
          "x": 529.101806297863,
          "xval": 20,
          "y": 355.7203247943226,
          "yval": 92.3076923076923
         },
         "target": {
          "index": 21,
          "label": "h1,10",
          "label_display": "none",
          "px": 453.47719733511025,
          "py": 437.1791317957166,
          "shape": "circle",
          "shape_attrs": {
           "r": 15
          },
          "value": null,
          "weight": 22,
          "x": 453.50705008596486,
          "xval": 40,
          "y": 437.28186603254966,
          "yval": 52.38095238095238
         },
         "value": 1
        },
        {
         "source": {
          "fixed": 0,
          "index": 0,
          "label": "x1",
          "label_display": "none",
          "px": 529.101806297863,
          "py": 355.7203247943226,
          "shape": "circle",
          "shape_attrs": {
           "r": 15
          },
          "value": null,
          "weight": 20,
          "x": 529.101806297863,
          "xval": 20,
          "y": 355.7203247943226,
          "yval": 92.3076923076923
         },
         "target": {
          "index": 22,
          "label": "h1,11",
          "label_display": "none",
          "px": 450.6931880317312,
          "py": 427.36854915169533,
          "shape": "circle",
          "shape_attrs": {
           "r": 15
          },
          "value": null,
          "weight": 22,
          "x": 450.70224459711284,
          "xval": 40,
          "y": 427.40707742900895,
          "yval": 47.61904761904762
         },
         "value": 1
        },
        {
         "source": {
          "fixed": 0,
          "index": 0,
          "label": "x1",
          "label_display": "none",
          "px": 529.101806297863,
          "py": 355.7203247943226,
          "shape": "circle",
          "shape_attrs": {
           "r": 15
          },
          "value": null,
          "weight": 20,
          "x": 529.101806297863,
          "xval": 20,
          "y": 355.7203247943226,
          "yval": 92.3076923076923
         },
         "target": {
          "index": 23,
          "label": "h1,12",
          "label_display": "none",
          "px": 451.616956869591,
          "py": 430.68399636795544,
          "shape": "circle",
          "shape_attrs": {
           "r": 15
          },
          "value": null,
          "weight": 22,
          "x": 451.6308613454441,
          "xval": 40,
          "y": 430.73607807474326,
          "yval": 42.857142857142854
         },
         "value": 1
        },
        {
         "source": {
          "fixed": 0,
          "index": 0,
          "label": "x1",
          "label_display": "none",
          "px": 529.101806297863,
          "py": 355.7203247943226,
          "shape": "circle",
          "shape_attrs": {
           "r": 15
          },
          "value": null,
          "weight": 20,
          "x": 529.101806297863,
          "xval": 20,
          "y": 355.7203247943226,
          "yval": 92.3076923076923
         },
         "target": {
          "index": 24,
          "label": "h1,13",
          "label_display": "none",
          "px": 449.7701933541918,
          "py": 423.95395938325044,
          "shape": "circle",
          "shape_attrs": {
           "r": 15
          },
          "value": null,
          "weight": 22,
          "x": 449.77543161498545,
          "xval": 40,
          "y": 423.979666438766,
          "yval": 38.095238095238095
         },
         "value": 1
        },
        {
         "source": {
          "fixed": 0,
          "index": 0,
          "label": "x1",
          "label_display": "none",
          "px": 529.101806297863,
          "py": 355.7203247943226,
          "shape": "circle",
          "shape_attrs": {
           "r": 15
          },
          "value": null,
          "weight": 20,
          "x": 529.101806297863,
          "xval": 20,
          "y": 355.7203247943226,
          "yval": 92.3076923076923
         },
         "target": {
          "index": 25,
          "label": "h1,14",
          "label_display": "none",
          "px": 447.77652249109667,
          "py": 416.4027794386295,
          "shape": "circle",
          "shape_attrs": {
           "r": 15
          },
          "value": null,
          "weight": 22,
          "x": 447.77533228674633,
          "xval": 40,
          "y": 416.4089800756498,
          "yval": 33.333333333333336
         },
         "value": 1
        },
        {
         "source": {
          "fixed": 0,
          "index": 0,
          "label": "x1",
          "label_display": "none",
          "px": 529.101806297863,
          "py": 355.7203247943226,
          "shape": "circle",
          "shape_attrs": {
           "r": 15
          },
          "value": null,
          "weight": 20,
          "x": 529.101806297863,
          "xval": 20,
          "y": 355.7203247943226,
          "yval": 92.3076923076923
         },
         "target": {
          "fixed": 0,
          "index": 26,
          "label": "h1,15",
          "label_display": "none",
          "px": 437.84986949367203,
          "py": 374.25132654913494,
          "shape": "circle",
          "shape_attrs": {
           "r": 15
          },
          "value": null,
          "weight": 22,
          "x": 437.84986949367203,
          "xval": 40,
          "y": 374.25132654913494,
          "yval": 28.57142857142857
         },
         "value": 1
        },
        {
         "source": {
          "fixed": 0,
          "index": 0,
          "label": "x1",
          "label_display": "none",
          "px": 529.101806297863,
          "py": 355.7203247943226,
          "shape": "circle",
          "shape_attrs": {
           "r": 15
          },
          "value": null,
          "weight": 20,
          "x": 529.101806297863,
          "xval": 20,
          "y": 355.7203247943226,
          "yval": 92.3076923076923
         },
         "target": {
          "index": 27,
          "label": "h1,16",
          "label_display": "none",
          "px": 441.03312194188425,
          "py": 388.9301428056495,
          "shape": "circle",
          "shape_attrs": {
           "r": 15
          },
          "value": null,
          "weight": 22,
          "x": 441.0223311760983,
          "xval": 40,
          "y": 388.9201492326303,
          "yval": 23.80952380952381
         },
         "value": 1
        },
        {
         "source": {
          "fixed": 0,
          "index": 0,
          "label": "x1",
          "label_display": "none",
          "px": 529.101806297863,
          "py": 355.7203247943226,
          "shape": "circle",
          "shape_attrs": {
           "r": 15
          },
          "value": null,
          "weight": 20,
          "x": 529.101806297863,
          "xval": 20,
          "y": 355.7203247943226,
          "yval": 92.3076923076923
         },
         "target": {
          "index": 28,
          "label": "h1,17",
          "label_display": "none",
          "px": 448.80878786875905,
          "py": 420.35138343623464,
          "shape": "circle",
          "shape_attrs": {
           "r": 15
          },
          "value": null,
          "weight": 22,
          "x": 448.8091799805161,
          "xval": 40,
          "y": 420.3610019925185,
          "yval": 19.047619047619047
         },
         "value": 1
        },
        {
         "source": {
          "fixed": 0,
          "index": 0,
          "label": "x1",
          "label_display": "none",
          "px": 529.101806297863,
          "py": 355.7203247943226,
          "shape": "circle",
          "shape_attrs": {
           "r": 15
          },
          "value": null,
          "weight": 20,
          "x": 529.101806297863,
          "xval": 20,
          "y": 355.7203247943226,
          "yval": 92.3076923076923
         },
         "target": {
          "index": 29,
          "label": "h1,18",
          "label_display": "none",
          "px": 446.66133336839465,
          "py": 412.06746080603597,
          "shape": "circle",
          "shape_attrs": {
           "r": 15
          },
          "value": null,
          "weight": 22,
          "x": 446.65836227806636,
          "xval": 40,
          "y": 412.06979862465556,
          "yval": 14.285714285714285
         },
         "value": 1
        },
        {
         "source": {
          "fixed": 0,
          "index": 0,
          "label": "x1",
          "label_display": "none",
          "px": 529.101806297863,
          "py": 355.7203247943226,
          "shape": "circle",
          "shape_attrs": {
           "r": 15
          },
          "value": null,
          "weight": 20,
          "x": 529.101806297863,
          "xval": 20,
          "y": 355.7203247943226,
          "yval": 92.3076923076923
         },
         "target": {
          "index": 30,
          "label": "h1,19",
          "label_display": "none",
          "px": 454.5331839788234,
          "py": 440.7353981371751,
          "shape": "circle",
          "shape_attrs": {
           "r": 15
          },
          "value": null,
          "weight": 22,
          "x": 454.57338727966345,
          "xval": 40,
          "y": 440.870029182474,
          "yval": 9.523809523809524
         },
         "value": 1
        },
        {
         "source": {
          "fixed": 0,
          "index": 0,
          "label": "x1",
          "label_display": "none",
          "px": 529.101806297863,
          "py": 355.7203247943226,
          "shape": "circle",
          "shape_attrs": {
           "r": 15
          },
          "value": null,
          "weight": 20,
          "x": 529.101806297863,
          "xval": 20,
          "y": 355.7203247943226,
          "yval": 92.3076923076923
         },
         "target": {
          "index": 31,
          "label": "h1,20",
          "label_display": "none",
          "px": 452.51111853060013,
          "py": 433.8924336038177,
          "shape": "circle",
          "shape_attrs": {
           "r": 15
          },
          "value": null,
          "weight": 22,
          "x": 452.53198152903235,
          "xval": 40,
          "y": 433.96970392214837,
          "yval": 4.761904761904762
         },
         "value": 1
        },
        {
         "source": {
          "index": 1,
          "label": "x2",
          "label_display": "none",
          "px": 531.8832380514635,
          "py": 361.09275997017016,
          "shape": "circle",
          "shape_attrs": {
           "r": 15
          },
          "value": null,
          "weight": 20,
          "x": 531.8893505016846,
          "xval": 20,
          "y": 361.0113644764516,
          "yval": 84.61538461538461
         },
         "target": {
          "fixed": 0,
          "index": 12,
          "label": "h1,1",
          "label_display": "none",
          "px": 438.30653773859984,
          "py": 377.7211018453636,
          "shape": "circle",
          "shape_attrs": {
           "r": 15
          },
          "value": null,
          "weight": 22,
          "x": 438.30653773859984,
          "xval": 40,
          "y": 377.7211018453636,
          "yval": 95.23809523809524
         },
         "value": 1
        },
        {
         "source": {
          "index": 1,
          "label": "x2",
          "label_display": "none",
          "px": 531.8832380514635,
          "py": 361.09275997017016,
          "shape": "circle",
          "shape_attrs": {
           "r": 15
          },
          "value": null,
          "weight": 20,
          "x": 531.8893505016846,
          "xval": 20,
          "y": 361.0113644764516,
          "yval": 84.61538461538461
         },
         "target": {
          "fixed": 0,
          "index": 13,
          "label": "h1,2",
          "label_display": "none",
          "px": 445.4830710949258,
          "py": 407.40580969271514,
          "shape": "circle",
          "shape_attrs": {
           "r": 15
          },
          "value": null,
          "weight": 22,
          "x": 445.4830710949258,
          "xval": 40,
          "y": 407.40580969271514,
          "yval": 90.47619047619048
         },
         "value": 1
        },
        {
         "source": {
          "index": 1,
          "label": "x2",
          "label_display": "none",
          "px": 531.8832380514635,
          "py": 361.09275997017016,
          "shape": "circle",
          "shape_attrs": {
           "r": 15
          },
          "value": null,
          "weight": 20,
          "x": 531.8893505016846,
          "xval": 20,
          "y": 361.0113644764516,
          "yval": 84.61538461538461
         },
         "target": {
          "fixed": 0,
          "index": 14,
          "label": "h1,3",
          "label_display": "none",
          "px": 440.09389561772593,
          "py": 384.9913547714818,
          "shape": "circle",
          "shape_attrs": {
           "r": 15
          },
          "value": null,
          "weight": 22,
          "x": 440.09389561772593,
          "xval": 40,
          "y": 384.9913547714818,
          "yval": 85.71428571428571
         },
         "value": 1
        },
        {
         "source": {
          "index": 1,
          "label": "x2",
          "label_display": "none",
          "px": 531.8832380514635,
          "py": 361.09275997017016,
          "shape": "circle",
          "shape_attrs": {
           "r": 15
          },
          "value": null,
          "weight": 20,
          "x": 531.8893505016846,
          "xval": 20,
          "y": 361.0113644764516,
          "yval": 84.61538461538461
         },
         "target": {
          "index": 15,
          "label": "h1,4",
          "label_display": "none",
          "px": 442.03390585799406,
          "py": 393.18624031821906,
          "shape": "circle",
          "shape_attrs": {
           "r": 15
          },
          "value": null,
          "weight": 22,
          "x": 442.0252187451049,
          "xval": 40,
          "y": 393.18099926055953,
          "yval": 80.95238095238095
         },
         "value": 1
        },
        {
         "source": {
          "index": 1,
          "label": "x2",
          "label_display": "none",
          "px": 531.8832380514635,
          "py": 361.09275997017016,
          "shape": "circle",
          "shape_attrs": {
           "r": 15
          },
          "value": null,
          "weight": 20,
          "x": 531.8893505016846,
          "xval": 20,
          "y": 361.0113644764516,
          "yval": 84.61538461538461
         },
         "target": {
          "fixed": 0,
          "index": 16,
          "label": "h1,5",
          "label_display": "none",
          "px": 439.3038323400098,
          "py": 381.26898657152276,
          "shape": "circle",
          "shape_attrs": {
           "r": 15
          },
          "value": null,
          "weight": 22,
          "x": 439.3038323400098,
          "xval": 40,
          "y": 381.26898657152276,
          "yval": 76.19047619047619
         },
         "value": 1
        },
        {
         "source": {
          "index": 1,
          "label": "x2",
          "label_display": "none",
          "px": 531.8832380514635,
          "py": 361.09275997017016,
          "shape": "circle",
          "shape_attrs": {
           "r": 15
          },
          "value": null,
          "weight": 20,
          "x": 531.8893505016846,
          "xval": 20,
          "y": 361.0113644764516,
          "yval": 84.61538461538461
         },
         "target": {
          "index": 17,
          "label": "h1,6",
          "label_display": "none",
          "px": 436.1763853376012,
          "py": 367.0391092191069,
          "shape": "circle",
          "shape_attrs": {
           "r": 15
          },
          "value": null,
          "weight": 22,
          "x": 436.1319756129927,
          "xval": 40,
          "y": 366.9193372066237,
          "yval": 71.42857142857143
         },
         "value": 1
        },
        {
         "source": {
          "index": 1,
          "label": "x2",
          "label_display": "none",
          "px": 531.8832380514635,
          "py": 361.09275997017016,
          "shape": "circle",
          "shape_attrs": {
           "r": 15
          },
          "value": null,
          "weight": 20,
          "x": 531.8893505016846,
          "xval": 20,
          "y": 361.0113644764516,
          "yval": 84.61538461538461
         },
         "target": {
          "index": 18,
          "label": "h1,7",
          "label_display": "none",
          "px": 444.28747307460884,
          "py": 402.5857074144147,
          "shape": "circle",
          "shape_attrs": {
           "r": 15
          },
          "value": null,
          "weight": 22,
          "x": 444.28189322820117,
          "xval": 40,
          "y": 402.5864217166488,
          "yval": 66.66666666666667
         },
         "value": 1
        },
        {
         "source": {
          "index": 1,
          "label": "x2",
          "label_display": "none",
          "px": 531.8832380514635,
          "py": 361.09275997017016,
          "shape": "circle",
          "shape_attrs": {
           "r": 15
          },
          "value": null,
          "weight": 20,
          "x": 531.8893505016846,
          "xval": 20,
          "y": 361.0113644764516,
          "yval": 84.61538461538461
         },
         "target": {
          "index": 19,
          "label": "h1,8",
          "label_display": "none",
          "px": 436.96694163354766,
          "py": 370.835219648978,
          "shape": "circle",
          "shape_attrs": {
           "r": 15
          },
          "value": null,
          "weight": 22,
          "x": 436.93081668870667,
          "xval": 40,
          "y": 370.7487234007221,
          "yval": 61.904761904761905
         },
         "value": 1
        },
        {
         "source": {
          "index": 1,
          "label": "x2",
          "label_display": "none",
          "px": 531.8832380514635,
          "py": 361.09275997017016,
          "shape": "circle",
          "shape_attrs": {
           "r": 15
          },
          "value": null,
          "weight": 20,
          "x": 531.8893505016846,
          "xval": 20,
          "y": 361.0113644764516,
          "yval": 84.61538461538461
         },
         "target": {
          "index": 20,
          "label": "h1,9",
          "label_display": "none",
          "px": 443.12903262452926,
          "py": 397.77183731760726,
          "shape": "circle",
          "shape_attrs": {
           "r": 15
          },
          "value": null,
          "weight": 22,
          "x": 443.1225250371738,
          "xval": 40,
          "y": 397.77048960247726,
          "yval": 57.14285714285714
         },
         "value": 1
        },
        {
         "source": {
          "index": 1,
          "label": "x2",
          "label_display": "none",
          "px": 531.8832380514635,
          "py": 361.09275997017016,
          "shape": "circle",
          "shape_attrs": {
           "r": 15
          },
          "value": null,
          "weight": 20,
          "x": 531.8893505016846,
          "xval": 20,
          "y": 361.0113644764516,
          "yval": 84.61538461538461
         },
         "target": {
          "index": 21,
          "label": "h1,10",
          "label_display": "none",
          "px": 453.47719733511025,
          "py": 437.1791317957166,
          "shape": "circle",
          "shape_attrs": {
           "r": 15
          },
          "value": null,
          "weight": 22,
          "x": 453.50705008596486,
          "xval": 40,
          "y": 437.28186603254966,
          "yval": 52.38095238095238
         },
         "value": 1
        },
        {
         "source": {
          "index": 1,
          "label": "x2",
          "label_display": "none",
          "px": 531.8832380514635,
          "py": 361.09275997017016,
          "shape": "circle",
          "shape_attrs": {
           "r": 15
          },
          "value": null,
          "weight": 20,
          "x": 531.8893505016846,
          "xval": 20,
          "y": 361.0113644764516,
          "yval": 84.61538461538461
         },
         "target": {
          "index": 22,
          "label": "h1,11",
          "label_display": "none",
          "px": 450.6931880317312,
          "py": 427.36854915169533,
          "shape": "circle",
          "shape_attrs": {
           "r": 15
          },
          "value": null,
          "weight": 22,
          "x": 450.70224459711284,
          "xval": 40,
          "y": 427.40707742900895,
          "yval": 47.61904761904762
         },
         "value": 1
        },
        {
         "source": {
          "index": 1,
          "label": "x2",
          "label_display": "none",
          "px": 531.8832380514635,
          "py": 361.09275997017016,
          "shape": "circle",
          "shape_attrs": {
           "r": 15
          },
          "value": null,
          "weight": 20,
          "x": 531.8893505016846,
          "xval": 20,
          "y": 361.0113644764516,
          "yval": 84.61538461538461
         },
         "target": {
          "index": 23,
          "label": "h1,12",
          "label_display": "none",
          "px": 451.616956869591,
          "py": 430.68399636795544,
          "shape": "circle",
          "shape_attrs": {
           "r": 15
          },
          "value": null,
          "weight": 22,
          "x": 451.6308613454441,
          "xval": 40,
          "y": 430.73607807474326,
          "yval": 42.857142857142854
         },
         "value": 1
        },
        {
         "source": {
          "index": 1,
          "label": "x2",
          "label_display": "none",
          "px": 531.8832380514635,
          "py": 361.09275997017016,
          "shape": "circle",
          "shape_attrs": {
           "r": 15
          },
          "value": null,
          "weight": 20,
          "x": 531.8893505016846,
          "xval": 20,
          "y": 361.0113644764516,
          "yval": 84.61538461538461
         },
         "target": {
          "index": 24,
          "label": "h1,13",
          "label_display": "none",
          "px": 449.7701933541918,
          "py": 423.95395938325044,
          "shape": "circle",
          "shape_attrs": {
           "r": 15
          },
          "value": null,
          "weight": 22,
          "x": 449.77543161498545,
          "xval": 40,
          "y": 423.979666438766,
          "yval": 38.095238095238095
         },
         "value": 1
        },
        {
         "source": {
          "index": 1,
          "label": "x2",
          "label_display": "none",
          "px": 531.8832380514635,
          "py": 361.09275997017016,
          "shape": "circle",
          "shape_attrs": {
           "r": 15
          },
          "value": null,
          "weight": 20,
          "x": 531.8893505016846,
          "xval": 20,
          "y": 361.0113644764516,
          "yval": 84.61538461538461
         },
         "target": {
          "index": 25,
          "label": "h1,14",
          "label_display": "none",
          "px": 447.77652249109667,
          "py": 416.4027794386295,
          "shape": "circle",
          "shape_attrs": {
           "r": 15
          },
          "value": null,
          "weight": 22,
          "x": 447.77533228674633,
          "xval": 40,
          "y": 416.4089800756498,
          "yval": 33.333333333333336
         },
         "value": 1
        },
        {
         "source": {
          "index": 1,
          "label": "x2",
          "label_display": "none",
          "px": 531.8832380514635,
          "py": 361.09275997017016,
          "shape": "circle",
          "shape_attrs": {
           "r": 15
          },
          "value": null,
          "weight": 20,
          "x": 531.8893505016846,
          "xval": 20,
          "y": 361.0113644764516,
          "yval": 84.61538461538461
         },
         "target": {
          "fixed": 0,
          "index": 26,
          "label": "h1,15",
          "label_display": "none",
          "px": 437.84986949367203,
          "py": 374.25132654913494,
          "shape": "circle",
          "shape_attrs": {
           "r": 15
          },
          "value": null,
          "weight": 22,
          "x": 437.84986949367203,
          "xval": 40,
          "y": 374.25132654913494,
          "yval": 28.57142857142857
         },
         "value": 1
        },
        {
         "source": {
          "index": 1,
          "label": "x2",
          "label_display": "none",
          "px": 531.8832380514635,
          "py": 361.09275997017016,
          "shape": "circle",
          "shape_attrs": {
           "r": 15
          },
          "value": null,
          "weight": 20,
          "x": 531.8893505016846,
          "xval": 20,
          "y": 361.0113644764516,
          "yval": 84.61538461538461
         },
         "target": {
          "index": 27,
          "label": "h1,16",
          "label_display": "none",
          "px": 441.03312194188425,
          "py": 388.9301428056495,
          "shape": "circle",
          "shape_attrs": {
           "r": 15
          },
          "value": null,
          "weight": 22,
          "x": 441.0223311760983,
          "xval": 40,
          "y": 388.9201492326303,
          "yval": 23.80952380952381
         },
         "value": 1
        },
        {
         "source": {
          "index": 1,
          "label": "x2",
          "label_display": "none",
          "px": 531.8832380514635,
          "py": 361.09275997017016,
          "shape": "circle",
          "shape_attrs": {
           "r": 15
          },
          "value": null,
          "weight": 20,
          "x": 531.8893505016846,
          "xval": 20,
          "y": 361.0113644764516,
          "yval": 84.61538461538461
         },
         "target": {
          "index": 28,
          "label": "h1,17",
          "label_display": "none",
          "px": 448.80878786875905,
          "py": 420.35138343623464,
          "shape": "circle",
          "shape_attrs": {
           "r": 15
          },
          "value": null,
          "weight": 22,
          "x": 448.8091799805161,
          "xval": 40,
          "y": 420.3610019925185,
          "yval": 19.047619047619047
         },
         "value": 1
        },
        {
         "source": {
          "index": 1,
          "label": "x2",
          "label_display": "none",
          "px": 531.8832380514635,
          "py": 361.09275997017016,
          "shape": "circle",
          "shape_attrs": {
           "r": 15
          },
          "value": null,
          "weight": 20,
          "x": 531.8893505016846,
          "xval": 20,
          "y": 361.0113644764516,
          "yval": 84.61538461538461
         },
         "target": {
          "index": 29,
          "label": "h1,18",
          "label_display": "none",
          "px": 446.66133336839465,
          "py": 412.06746080603597,
          "shape": "circle",
          "shape_attrs": {
           "r": 15
          },
          "value": null,
          "weight": 22,
          "x": 446.65836227806636,
          "xval": 40,
          "y": 412.06979862465556,
          "yval": 14.285714285714285
         },
         "value": 1
        },
        {
         "source": {
          "index": 1,
          "label": "x2",
          "label_display": "none",
          "px": 531.8832380514635,
          "py": 361.09275997017016,
          "shape": "circle",
          "shape_attrs": {
           "r": 15
          },
          "value": null,
          "weight": 20,
          "x": 531.8893505016846,
          "xval": 20,
          "y": 361.0113644764516,
          "yval": 84.61538461538461
         },
         "target": {
          "index": 30,
          "label": "h1,19",
          "label_display": "none",
          "px": 454.5331839788234,
          "py": 440.7353981371751,
          "shape": "circle",
          "shape_attrs": {
           "r": 15
          },
          "value": null,
          "weight": 22,
          "x": 454.57338727966345,
          "xval": 40,
          "y": 440.870029182474,
          "yval": 9.523809523809524
         },
         "value": 1
        },
        {
         "source": {
          "index": 1,
          "label": "x2",
          "label_display": "none",
          "px": 531.8832380514635,
          "py": 361.09275997017016,
          "shape": "circle",
          "shape_attrs": {
           "r": 15
          },
          "value": null,
          "weight": 20,
          "x": 531.8893505016846,
          "xval": 20,
          "y": 361.0113644764516,
          "yval": 84.61538461538461
         },
         "target": {
          "index": 31,
          "label": "h1,20",
          "label_display": "none",
          "px": 452.51111853060013,
          "py": 433.8924336038177,
          "shape": "circle",
          "shape_attrs": {
           "r": 15
          },
          "value": null,
          "weight": 22,
          "x": 452.53198152903235,
          "xval": 40,
          "y": 433.96970392214837,
          "yval": 4.761904761904762
         },
         "value": 1
        },
        {
         "source": {
          "fixed": 0,
          "index": 2,
          "label": "x3",
          "label_display": "none",
          "px": 534.0063735013048,
          "py": 365.6184188767283,
          "shape": "circle",
          "shape_attrs": {
           "r": 15
          },
          "value": null,
          "weight": 20,
          "x": 534.0063735013048,
          "xval": 20,
          "y": 365.6184188767283,
          "yval": 76.92307692307692
         },
         "target": {
          "fixed": 0,
          "index": 12,
          "label": "h1,1",
          "label_display": "none",
          "px": 438.30653773859984,
          "py": 377.7211018453636,
          "shape": "circle",
          "shape_attrs": {
           "r": 15
          },
          "value": null,
          "weight": 22,
          "x": 438.30653773859984,
          "xval": 40,
          "y": 377.7211018453636,
          "yval": 95.23809523809524
         },
         "value": 1
        },
        {
         "source": {
          "fixed": 0,
          "index": 2,
          "label": "x3",
          "label_display": "none",
          "px": 534.0063735013048,
          "py": 365.6184188767283,
          "shape": "circle",
          "shape_attrs": {
           "r": 15
          },
          "value": null,
          "weight": 20,
          "x": 534.0063735013048,
          "xval": 20,
          "y": 365.6184188767283,
          "yval": 76.92307692307692
         },
         "target": {
          "fixed": 0,
          "index": 13,
          "label": "h1,2",
          "label_display": "none",
          "px": 445.4830710949258,
          "py": 407.40580969271514,
          "shape": "circle",
          "shape_attrs": {
           "r": 15
          },
          "value": null,
          "weight": 22,
          "x": 445.4830710949258,
          "xval": 40,
          "y": 407.40580969271514,
          "yval": 90.47619047619048
         },
         "value": 1
        },
        {
         "source": {
          "fixed": 0,
          "index": 2,
          "label": "x3",
          "label_display": "none",
          "px": 534.0063735013048,
          "py": 365.6184188767283,
          "shape": "circle",
          "shape_attrs": {
           "r": 15
          },
          "value": null,
          "weight": 20,
          "x": 534.0063735013048,
          "xval": 20,
          "y": 365.6184188767283,
          "yval": 76.92307692307692
         },
         "target": {
          "fixed": 0,
          "index": 14,
          "label": "h1,3",
          "label_display": "none",
          "px": 440.09389561772593,
          "py": 384.9913547714818,
          "shape": "circle",
          "shape_attrs": {
           "r": 15
          },
          "value": null,
          "weight": 22,
          "x": 440.09389561772593,
          "xval": 40,
          "y": 384.9913547714818,
          "yval": 85.71428571428571
         },
         "value": 1
        },
        {
         "source": {
          "fixed": 0,
          "index": 2,
          "label": "x3",
          "label_display": "none",
          "px": 534.0063735013048,
          "py": 365.6184188767283,
          "shape": "circle",
          "shape_attrs": {
           "r": 15
          },
          "value": null,
          "weight": 20,
          "x": 534.0063735013048,
          "xval": 20,
          "y": 365.6184188767283,
          "yval": 76.92307692307692
         },
         "target": {
          "index": 15,
          "label": "h1,4",
          "label_display": "none",
          "px": 442.03390585799406,
          "py": 393.18624031821906,
          "shape": "circle",
          "shape_attrs": {
           "r": 15
          },
          "value": null,
          "weight": 22,
          "x": 442.0252187451049,
          "xval": 40,
          "y": 393.18099926055953,
          "yval": 80.95238095238095
         },
         "value": 1
        },
        {
         "source": {
          "fixed": 0,
          "index": 2,
          "label": "x3",
          "label_display": "none",
          "px": 534.0063735013048,
          "py": 365.6184188767283,
          "shape": "circle",
          "shape_attrs": {
           "r": 15
          },
          "value": null,
          "weight": 20,
          "x": 534.0063735013048,
          "xval": 20,
          "y": 365.6184188767283,
          "yval": 76.92307692307692
         },
         "target": {
          "fixed": 0,
          "index": 16,
          "label": "h1,5",
          "label_display": "none",
          "px": 439.3038323400098,
          "py": 381.26898657152276,
          "shape": "circle",
          "shape_attrs": {
           "r": 15
          },
          "value": null,
          "weight": 22,
          "x": 439.3038323400098,
          "xval": 40,
          "y": 381.26898657152276,
          "yval": 76.19047619047619
         },
         "value": 1
        },
        {
         "source": {
          "fixed": 0,
          "index": 2,
          "label": "x3",
          "label_display": "none",
          "px": 534.0063735013048,
          "py": 365.6184188767283,
          "shape": "circle",
          "shape_attrs": {
           "r": 15
          },
          "value": null,
          "weight": 20,
          "x": 534.0063735013048,
          "xval": 20,
          "y": 365.6184188767283,
          "yval": 76.92307692307692
         },
         "target": {
          "index": 17,
          "label": "h1,6",
          "label_display": "none",
          "px": 436.1763853376012,
          "py": 367.0391092191069,
          "shape": "circle",
          "shape_attrs": {
           "r": 15
          },
          "value": null,
          "weight": 22,
          "x": 436.1319756129927,
          "xval": 40,
          "y": 366.9193372066237,
          "yval": 71.42857142857143
         },
         "value": 1
        },
        {
         "source": {
          "fixed": 0,
          "index": 2,
          "label": "x3",
          "label_display": "none",
          "px": 534.0063735013048,
          "py": 365.6184188767283,
          "shape": "circle",
          "shape_attrs": {
           "r": 15
          },
          "value": null,
          "weight": 20,
          "x": 534.0063735013048,
          "xval": 20,
          "y": 365.6184188767283,
          "yval": 76.92307692307692
         },
         "target": {
          "index": 18,
          "label": "h1,7",
          "label_display": "none",
          "px": 444.28747307460884,
          "py": 402.5857074144147,
          "shape": "circle",
          "shape_attrs": {
           "r": 15
          },
          "value": null,
          "weight": 22,
          "x": 444.28189322820117,
          "xval": 40,
          "y": 402.5864217166488,
          "yval": 66.66666666666667
         },
         "value": 1
        },
        {
         "source": {
          "fixed": 0,
          "index": 2,
          "label": "x3",
          "label_display": "none",
          "px": 534.0063735013048,
          "py": 365.6184188767283,
          "shape": "circle",
          "shape_attrs": {
           "r": 15
          },
          "value": null,
          "weight": 20,
          "x": 534.0063735013048,
          "xval": 20,
          "y": 365.6184188767283,
          "yval": 76.92307692307692
         },
         "target": {
          "index": 19,
          "label": "h1,8",
          "label_display": "none",
          "px": 436.96694163354766,
          "py": 370.835219648978,
          "shape": "circle",
          "shape_attrs": {
           "r": 15
          },
          "value": null,
          "weight": 22,
          "x": 436.93081668870667,
          "xval": 40,
          "y": 370.7487234007221,
          "yval": 61.904761904761905
         },
         "value": 1
        },
        {
         "source": {
          "fixed": 0,
          "index": 2,
          "label": "x3",
          "label_display": "none",
          "px": 534.0063735013048,
          "py": 365.6184188767283,
          "shape": "circle",
          "shape_attrs": {
           "r": 15
          },
          "value": null,
          "weight": 20,
          "x": 534.0063735013048,
          "xval": 20,
          "y": 365.6184188767283,
          "yval": 76.92307692307692
         },
         "target": {
          "index": 20,
          "label": "h1,9",
          "label_display": "none",
          "px": 443.12903262452926,
          "py": 397.77183731760726,
          "shape": "circle",
          "shape_attrs": {
           "r": 15
          },
          "value": null,
          "weight": 22,
          "x": 443.1225250371738,
          "xval": 40,
          "y": 397.77048960247726,
          "yval": 57.14285714285714
         },
         "value": 1
        },
        {
         "source": {
          "fixed": 0,
          "index": 2,
          "label": "x3",
          "label_display": "none",
          "px": 534.0063735013048,
          "py": 365.6184188767283,
          "shape": "circle",
          "shape_attrs": {
           "r": 15
          },
          "value": null,
          "weight": 20,
          "x": 534.0063735013048,
          "xval": 20,
          "y": 365.6184188767283,
          "yval": 76.92307692307692
         },
         "target": {
          "index": 21,
          "label": "h1,10",
          "label_display": "none",
          "px": 453.47719733511025,
          "py": 437.1791317957166,
          "shape": "circle",
          "shape_attrs": {
           "r": 15
          },
          "value": null,
          "weight": 22,
          "x": 453.50705008596486,
          "xval": 40,
          "y": 437.28186603254966,
          "yval": 52.38095238095238
         },
         "value": 1
        },
        {
         "source": {
          "fixed": 0,
          "index": 2,
          "label": "x3",
          "label_display": "none",
          "px": 534.0063735013048,
          "py": 365.6184188767283,
          "shape": "circle",
          "shape_attrs": {
           "r": 15
          },
          "value": null,
          "weight": 20,
          "x": 534.0063735013048,
          "xval": 20,
          "y": 365.6184188767283,
          "yval": 76.92307692307692
         },
         "target": {
          "index": 22,
          "label": "h1,11",
          "label_display": "none",
          "px": 450.6931880317312,
          "py": 427.36854915169533,
          "shape": "circle",
          "shape_attrs": {
           "r": 15
          },
          "value": null,
          "weight": 22,
          "x": 450.70224459711284,
          "xval": 40,
          "y": 427.40707742900895,
          "yval": 47.61904761904762
         },
         "value": 1
        },
        {
         "source": {
          "fixed": 0,
          "index": 2,
          "label": "x3",
          "label_display": "none",
          "px": 534.0063735013048,
          "py": 365.6184188767283,
          "shape": "circle",
          "shape_attrs": {
           "r": 15
          },
          "value": null,
          "weight": 20,
          "x": 534.0063735013048,
          "xval": 20,
          "y": 365.6184188767283,
          "yval": 76.92307692307692
         },
         "target": {
          "index": 23,
          "label": "h1,12",
          "label_display": "none",
          "px": 451.616956869591,
          "py": 430.68399636795544,
          "shape": "circle",
          "shape_attrs": {
           "r": 15
          },
          "value": null,
          "weight": 22,
          "x": 451.6308613454441,
          "xval": 40,
          "y": 430.73607807474326,
          "yval": 42.857142857142854
         },
         "value": 1
        },
        {
         "source": {
          "fixed": 0,
          "index": 2,
          "label": "x3",
          "label_display": "none",
          "px": 534.0063735013048,
          "py": 365.6184188767283,
          "shape": "circle",
          "shape_attrs": {
           "r": 15
          },
          "value": null,
          "weight": 20,
          "x": 534.0063735013048,
          "xval": 20,
          "y": 365.6184188767283,
          "yval": 76.92307692307692
         },
         "target": {
          "index": 24,
          "label": "h1,13",
          "label_display": "none",
          "px": 449.7701933541918,
          "py": 423.95395938325044,
          "shape": "circle",
          "shape_attrs": {
           "r": 15
          },
          "value": null,
          "weight": 22,
          "x": 449.77543161498545,
          "xval": 40,
          "y": 423.979666438766,
          "yval": 38.095238095238095
         },
         "value": 1
        },
        {
         "source": {
          "fixed": 0,
          "index": 2,
          "label": "x3",
          "label_display": "none",
          "px": 534.0063735013048,
          "py": 365.6184188767283,
          "shape": "circle",
          "shape_attrs": {
           "r": 15
          },
          "value": null,
          "weight": 20,
          "x": 534.0063735013048,
          "xval": 20,
          "y": 365.6184188767283,
          "yval": 76.92307692307692
         },
         "target": {
          "index": 25,
          "label": "h1,14",
          "label_display": "none",
          "px": 447.77652249109667,
          "py": 416.4027794386295,
          "shape": "circle",
          "shape_attrs": {
           "r": 15
          },
          "value": null,
          "weight": 22,
          "x": 447.77533228674633,
          "xval": 40,
          "y": 416.4089800756498,
          "yval": 33.333333333333336
         },
         "value": 1
        },
        {
         "source": {
          "fixed": 0,
          "index": 2,
          "label": "x3",
          "label_display": "none",
          "px": 534.0063735013048,
          "py": 365.6184188767283,
          "shape": "circle",
          "shape_attrs": {
           "r": 15
          },
          "value": null,
          "weight": 20,
          "x": 534.0063735013048,
          "xval": 20,
          "y": 365.6184188767283,
          "yval": 76.92307692307692
         },
         "target": {
          "fixed": 0,
          "index": 26,
          "label": "h1,15",
          "label_display": "none",
          "px": 437.84986949367203,
          "py": 374.25132654913494,
          "shape": "circle",
          "shape_attrs": {
           "r": 15
          },
          "value": null,
          "weight": 22,
          "x": 437.84986949367203,
          "xval": 40,
          "y": 374.25132654913494,
          "yval": 28.57142857142857
         },
         "value": 1
        },
        {
         "source": {
          "fixed": 0,
          "index": 2,
          "label": "x3",
          "label_display": "none",
          "px": 534.0063735013048,
          "py": 365.6184188767283,
          "shape": "circle",
          "shape_attrs": {
           "r": 15
          },
          "value": null,
          "weight": 20,
          "x": 534.0063735013048,
          "xval": 20,
          "y": 365.6184188767283,
          "yval": 76.92307692307692
         },
         "target": {
          "index": 27,
          "label": "h1,16",
          "label_display": "none",
          "px": 441.03312194188425,
          "py": 388.9301428056495,
          "shape": "circle",
          "shape_attrs": {
           "r": 15
          },
          "value": null,
          "weight": 22,
          "x": 441.0223311760983,
          "xval": 40,
          "y": 388.9201492326303,
          "yval": 23.80952380952381
         },
         "value": 1
        },
        {
         "source": {
          "fixed": 0,
          "index": 2,
          "label": "x3",
          "label_display": "none",
          "px": 534.0063735013048,
          "py": 365.6184188767283,
          "shape": "circle",
          "shape_attrs": {
           "r": 15
          },
          "value": null,
          "weight": 20,
          "x": 534.0063735013048,
          "xval": 20,
          "y": 365.6184188767283,
          "yval": 76.92307692307692
         },
         "target": {
          "index": 28,
          "label": "h1,17",
          "label_display": "none",
          "px": 448.80878786875905,
          "py": 420.35138343623464,
          "shape": "circle",
          "shape_attrs": {
           "r": 15
          },
          "value": null,
          "weight": 22,
          "x": 448.8091799805161,
          "xval": 40,
          "y": 420.3610019925185,
          "yval": 19.047619047619047
         },
         "value": 1
        },
        {
         "source": {
          "fixed": 0,
          "index": 2,
          "label": "x3",
          "label_display": "none",
          "px": 534.0063735013048,
          "py": 365.6184188767283,
          "shape": "circle",
          "shape_attrs": {
           "r": 15
          },
          "value": null,
          "weight": 20,
          "x": 534.0063735013048,
          "xval": 20,
          "y": 365.6184188767283,
          "yval": 76.92307692307692
         },
         "target": {
          "index": 29,
          "label": "h1,18",
          "label_display": "none",
          "px": 446.66133336839465,
          "py": 412.06746080603597,
          "shape": "circle",
          "shape_attrs": {
           "r": 15
          },
          "value": null,
          "weight": 22,
          "x": 446.65836227806636,
          "xval": 40,
          "y": 412.06979862465556,
          "yval": 14.285714285714285
         },
         "value": 1
        },
        {
         "source": {
          "fixed": 0,
          "index": 2,
          "label": "x3",
          "label_display": "none",
          "px": 534.0063735013048,
          "py": 365.6184188767283,
          "shape": "circle",
          "shape_attrs": {
           "r": 15
          },
          "value": null,
          "weight": 20,
          "x": 534.0063735013048,
          "xval": 20,
          "y": 365.6184188767283,
          "yval": 76.92307692307692
         },
         "target": {
          "index": 30,
          "label": "h1,19",
          "label_display": "none",
          "px": 454.5331839788234,
          "py": 440.7353981371751,
          "shape": "circle",
          "shape_attrs": {
           "r": 15
          },
          "value": null,
          "weight": 22,
          "x": 454.57338727966345,
          "xval": 40,
          "y": 440.870029182474,
          "yval": 9.523809523809524
         },
         "value": 1
        },
        {
         "source": {
          "fixed": 0,
          "index": 2,
          "label": "x3",
          "label_display": "none",
          "px": 534.0063735013048,
          "py": 365.6184188767283,
          "shape": "circle",
          "shape_attrs": {
           "r": 15
          },
          "value": null,
          "weight": 20,
          "x": 534.0063735013048,
          "xval": 20,
          "y": 365.6184188767283,
          "yval": 76.92307692307692
         },
         "target": {
          "index": 31,
          "label": "h1,20",
          "label_display": "none",
          "px": 452.51111853060013,
          "py": 433.8924336038177,
          "shape": "circle",
          "shape_attrs": {
           "r": 15
          },
          "value": null,
          "weight": 22,
          "x": 452.53198152903235,
          "xval": 40,
          "y": 433.96970392214837,
          "yval": 4.761904761904762
         },
         "value": 1
        },
        {
         "source": {
          "index": 3,
          "label": "x4",
          "label_display": "none",
          "px": 535.660900262516,
          "py": 369.99225384771086,
          "shape": "circle",
          "shape_attrs": {
           "r": 15
          },
          "value": null,
          "weight": 20,
          "x": 535.6813683424843,
          "xval": 20,
          "y": 369.9379113606251,
          "yval": 69.23076923076923
         },
         "target": {
          "fixed": 0,
          "index": 12,
          "label": "h1,1",
          "label_display": "none",
          "px": 438.30653773859984,
          "py": 377.7211018453636,
          "shape": "circle",
          "shape_attrs": {
           "r": 15
          },
          "value": null,
          "weight": 22,
          "x": 438.30653773859984,
          "xval": 40,
          "y": 377.7211018453636,
          "yval": 95.23809523809524
         },
         "value": 1
        },
        {
         "source": {
          "index": 3,
          "label": "x4",
          "label_display": "none",
          "px": 535.660900262516,
          "py": 369.99225384771086,
          "shape": "circle",
          "shape_attrs": {
           "r": 15
          },
          "value": null,
          "weight": 20,
          "x": 535.6813683424843,
          "xval": 20,
          "y": 369.9379113606251,
          "yval": 69.23076923076923
         },
         "target": {
          "fixed": 0,
          "index": 13,
          "label": "h1,2",
          "label_display": "none",
          "px": 445.4830710949258,
          "py": 407.40580969271514,
          "shape": "circle",
          "shape_attrs": {
           "r": 15
          },
          "value": null,
          "weight": 22,
          "x": 445.4830710949258,
          "xval": 40,
          "y": 407.40580969271514,
          "yval": 90.47619047619048
         },
         "value": 1
        },
        {
         "source": {
          "index": 3,
          "label": "x4",
          "label_display": "none",
          "px": 535.660900262516,
          "py": 369.99225384771086,
          "shape": "circle",
          "shape_attrs": {
           "r": 15
          },
          "value": null,
          "weight": 20,
          "x": 535.6813683424843,
          "xval": 20,
          "y": 369.9379113606251,
          "yval": 69.23076923076923
         },
         "target": {
          "fixed": 0,
          "index": 14,
          "label": "h1,3",
          "label_display": "none",
          "px": 440.09389561772593,
          "py": 384.9913547714818,
          "shape": "circle",
          "shape_attrs": {
           "r": 15
          },
          "value": null,
          "weight": 22,
          "x": 440.09389561772593,
          "xval": 40,
          "y": 384.9913547714818,
          "yval": 85.71428571428571
         },
         "value": 1
        },
        {
         "source": {
          "index": 3,
          "label": "x4",
          "label_display": "none",
          "px": 535.660900262516,
          "py": 369.99225384771086,
          "shape": "circle",
          "shape_attrs": {
           "r": 15
          },
          "value": null,
          "weight": 20,
          "x": 535.6813683424843,
          "xval": 20,
          "y": 369.9379113606251,
          "yval": 69.23076923076923
         },
         "target": {
          "index": 15,
          "label": "h1,4",
          "label_display": "none",
          "px": 442.03390585799406,
          "py": 393.18624031821906,
          "shape": "circle",
          "shape_attrs": {
           "r": 15
          },
          "value": null,
          "weight": 22,
          "x": 442.0252187451049,
          "xval": 40,
          "y": 393.18099926055953,
          "yval": 80.95238095238095
         },
         "value": 1
        },
        {
         "source": {
          "index": 3,
          "label": "x4",
          "label_display": "none",
          "px": 535.660900262516,
          "py": 369.99225384771086,
          "shape": "circle",
          "shape_attrs": {
           "r": 15
          },
          "value": null,
          "weight": 20,
          "x": 535.6813683424843,
          "xval": 20,
          "y": 369.9379113606251,
          "yval": 69.23076923076923
         },
         "target": {
          "fixed": 0,
          "index": 16,
          "label": "h1,5",
          "label_display": "none",
          "px": 439.3038323400098,
          "py": 381.26898657152276,
          "shape": "circle",
          "shape_attrs": {
           "r": 15
          },
          "value": null,
          "weight": 22,
          "x": 439.3038323400098,
          "xval": 40,
          "y": 381.26898657152276,
          "yval": 76.19047619047619
         },
         "value": 1
        },
        {
         "source": {
          "index": 3,
          "label": "x4",
          "label_display": "none",
          "px": 535.660900262516,
          "py": 369.99225384771086,
          "shape": "circle",
          "shape_attrs": {
           "r": 15
          },
          "value": null,
          "weight": 20,
          "x": 535.6813683424843,
          "xval": 20,
          "y": 369.9379113606251,
          "yval": 69.23076923076923
         },
         "target": {
          "index": 17,
          "label": "h1,6",
          "label_display": "none",
          "px": 436.1763853376012,
          "py": 367.0391092191069,
          "shape": "circle",
          "shape_attrs": {
           "r": 15
          },
          "value": null,
          "weight": 22,
          "x": 436.1319756129927,
          "xval": 40,
          "y": 366.9193372066237,
          "yval": 71.42857142857143
         },
         "value": 1
        },
        {
         "source": {
          "index": 3,
          "label": "x4",
          "label_display": "none",
          "px": 535.660900262516,
          "py": 369.99225384771086,
          "shape": "circle",
          "shape_attrs": {
           "r": 15
          },
          "value": null,
          "weight": 20,
          "x": 535.6813683424843,
          "xval": 20,
          "y": 369.9379113606251,
          "yval": 69.23076923076923
         },
         "target": {
          "index": 18,
          "label": "h1,7",
          "label_display": "none",
          "px": 444.28747307460884,
          "py": 402.5857074144147,
          "shape": "circle",
          "shape_attrs": {
           "r": 15
          },
          "value": null,
          "weight": 22,
          "x": 444.28189322820117,
          "xval": 40,
          "y": 402.5864217166488,
          "yval": 66.66666666666667
         },
         "value": 1
        },
        {
         "source": {
          "index": 3,
          "label": "x4",
          "label_display": "none",
          "px": 535.660900262516,
          "py": 369.99225384771086,
          "shape": "circle",
          "shape_attrs": {
           "r": 15
          },
          "value": null,
          "weight": 20,
          "x": 535.6813683424843,
          "xval": 20,
          "y": 369.9379113606251,
          "yval": 69.23076923076923
         },
         "target": {
          "index": 19,
          "label": "h1,8",
          "label_display": "none",
          "px": 436.96694163354766,
          "py": 370.835219648978,
          "shape": "circle",
          "shape_attrs": {
           "r": 15
          },
          "value": null,
          "weight": 22,
          "x": 436.93081668870667,
          "xval": 40,
          "y": 370.7487234007221,
          "yval": 61.904761904761905
         },
         "value": 1
        },
        {
         "source": {
          "index": 3,
          "label": "x4",
          "label_display": "none",
          "px": 535.660900262516,
          "py": 369.99225384771086,
          "shape": "circle",
          "shape_attrs": {
           "r": 15
          },
          "value": null,
          "weight": 20,
          "x": 535.6813683424843,
          "xval": 20,
          "y": 369.9379113606251,
          "yval": 69.23076923076923
         },
         "target": {
          "index": 20,
          "label": "h1,9",
          "label_display": "none",
          "px": 443.12903262452926,
          "py": 397.77183731760726,
          "shape": "circle",
          "shape_attrs": {
           "r": 15
          },
          "value": null,
          "weight": 22,
          "x": 443.1225250371738,
          "xval": 40,
          "y": 397.77048960247726,
          "yval": 57.14285714285714
         },
         "value": 1
        },
        {
         "source": {
          "index": 3,
          "label": "x4",
          "label_display": "none",
          "px": 535.660900262516,
          "py": 369.99225384771086,
          "shape": "circle",
          "shape_attrs": {
           "r": 15
          },
          "value": null,
          "weight": 20,
          "x": 535.6813683424843,
          "xval": 20,
          "y": 369.9379113606251,
          "yval": 69.23076923076923
         },
         "target": {
          "index": 21,
          "label": "h1,10",
          "label_display": "none",
          "px": 453.47719733511025,
          "py": 437.1791317957166,
          "shape": "circle",
          "shape_attrs": {
           "r": 15
          },
          "value": null,
          "weight": 22,
          "x": 453.50705008596486,
          "xval": 40,
          "y": 437.28186603254966,
          "yval": 52.38095238095238
         },
         "value": 1
        },
        {
         "source": {
          "index": 3,
          "label": "x4",
          "label_display": "none",
          "px": 535.660900262516,
          "py": 369.99225384771086,
          "shape": "circle",
          "shape_attrs": {
           "r": 15
          },
          "value": null,
          "weight": 20,
          "x": 535.6813683424843,
          "xval": 20,
          "y": 369.9379113606251,
          "yval": 69.23076923076923
         },
         "target": {
          "index": 22,
          "label": "h1,11",
          "label_display": "none",
          "px": 450.6931880317312,
          "py": 427.36854915169533,
          "shape": "circle",
          "shape_attrs": {
           "r": 15
          },
          "value": null,
          "weight": 22,
          "x": 450.70224459711284,
          "xval": 40,
          "y": 427.40707742900895,
          "yval": 47.61904761904762
         },
         "value": 1
        },
        {
         "source": {
          "index": 3,
          "label": "x4",
          "label_display": "none",
          "px": 535.660900262516,
          "py": 369.99225384771086,
          "shape": "circle",
          "shape_attrs": {
           "r": 15
          },
          "value": null,
          "weight": 20,
          "x": 535.6813683424843,
          "xval": 20,
          "y": 369.9379113606251,
          "yval": 69.23076923076923
         },
         "target": {
          "index": 23,
          "label": "h1,12",
          "label_display": "none",
          "px": 451.616956869591,
          "py": 430.68399636795544,
          "shape": "circle",
          "shape_attrs": {
           "r": 15
          },
          "value": null,
          "weight": 22,
          "x": 451.6308613454441,
          "xval": 40,
          "y": 430.73607807474326,
          "yval": 42.857142857142854
         },
         "value": 1
        },
        {
         "source": {
          "index": 3,
          "label": "x4",
          "label_display": "none",
          "px": 535.660900262516,
          "py": 369.99225384771086,
          "shape": "circle",
          "shape_attrs": {
           "r": 15
          },
          "value": null,
          "weight": 20,
          "x": 535.6813683424843,
          "xval": 20,
          "y": 369.9379113606251,
          "yval": 69.23076923076923
         },
         "target": {
          "index": 24,
          "label": "h1,13",
          "label_display": "none",
          "px": 449.7701933541918,
          "py": 423.95395938325044,
          "shape": "circle",
          "shape_attrs": {
           "r": 15
          },
          "value": null,
          "weight": 22,
          "x": 449.77543161498545,
          "xval": 40,
          "y": 423.979666438766,
          "yval": 38.095238095238095
         },
         "value": 1
        },
        {
         "source": {
          "index": 3,
          "label": "x4",
          "label_display": "none",
          "px": 535.660900262516,
          "py": 369.99225384771086,
          "shape": "circle",
          "shape_attrs": {
           "r": 15
          },
          "value": null,
          "weight": 20,
          "x": 535.6813683424843,
          "xval": 20,
          "y": 369.9379113606251,
          "yval": 69.23076923076923
         },
         "target": {
          "index": 25,
          "label": "h1,14",
          "label_display": "none",
          "px": 447.77652249109667,
          "py": 416.4027794386295,
          "shape": "circle",
          "shape_attrs": {
           "r": 15
          },
          "value": null,
          "weight": 22,
          "x": 447.77533228674633,
          "xval": 40,
          "y": 416.4089800756498,
          "yval": 33.333333333333336
         },
         "value": 1
        },
        {
         "source": {
          "index": 3,
          "label": "x4",
          "label_display": "none",
          "px": 535.660900262516,
          "py": 369.99225384771086,
          "shape": "circle",
          "shape_attrs": {
           "r": 15
          },
          "value": null,
          "weight": 20,
          "x": 535.6813683424843,
          "xval": 20,
          "y": 369.9379113606251,
          "yval": 69.23076923076923
         },
         "target": {
          "fixed": 0,
          "index": 26,
          "label": "h1,15",
          "label_display": "none",
          "px": 437.84986949367203,
          "py": 374.25132654913494,
          "shape": "circle",
          "shape_attrs": {
           "r": 15
          },
          "value": null,
          "weight": 22,
          "x": 437.84986949367203,
          "xval": 40,
          "y": 374.25132654913494,
          "yval": 28.57142857142857
         },
         "value": 1
        },
        {
         "source": {
          "index": 3,
          "label": "x4",
          "label_display": "none",
          "px": 535.660900262516,
          "py": 369.99225384771086,
          "shape": "circle",
          "shape_attrs": {
           "r": 15
          },
          "value": null,
          "weight": 20,
          "x": 535.6813683424843,
          "xval": 20,
          "y": 369.9379113606251,
          "yval": 69.23076923076923
         },
         "target": {
          "index": 27,
          "label": "h1,16",
          "label_display": "none",
          "px": 441.03312194188425,
          "py": 388.9301428056495,
          "shape": "circle",
          "shape_attrs": {
           "r": 15
          },
          "value": null,
          "weight": 22,
          "x": 441.0223311760983,
          "xval": 40,
          "y": 388.9201492326303,
          "yval": 23.80952380952381
         },
         "value": 1
        },
        {
         "source": {
          "index": 3,
          "label": "x4",
          "label_display": "none",
          "px": 535.660900262516,
          "py": 369.99225384771086,
          "shape": "circle",
          "shape_attrs": {
           "r": 15
          },
          "value": null,
          "weight": 20,
          "x": 535.6813683424843,
          "xval": 20,
          "y": 369.9379113606251,
          "yval": 69.23076923076923
         },
         "target": {
          "index": 28,
          "label": "h1,17",
          "label_display": "none",
          "px": 448.80878786875905,
          "py": 420.35138343623464,
          "shape": "circle",
          "shape_attrs": {
           "r": 15
          },
          "value": null,
          "weight": 22,
          "x": 448.8091799805161,
          "xval": 40,
          "y": 420.3610019925185,
          "yval": 19.047619047619047
         },
         "value": 1
        },
        {
         "source": {
          "index": 3,
          "label": "x4",
          "label_display": "none",
          "px": 535.660900262516,
          "py": 369.99225384771086,
          "shape": "circle",
          "shape_attrs": {
           "r": 15
          },
          "value": null,
          "weight": 20,
          "x": 535.6813683424843,
          "xval": 20,
          "y": 369.9379113606251,
          "yval": 69.23076923076923
         },
         "target": {
          "index": 29,
          "label": "h1,18",
          "label_display": "none",
          "px": 446.66133336839465,
          "py": 412.06746080603597,
          "shape": "circle",
          "shape_attrs": {
           "r": 15
          },
          "value": null,
          "weight": 22,
          "x": 446.65836227806636,
          "xval": 40,
          "y": 412.06979862465556,
          "yval": 14.285714285714285
         },
         "value": 1
        },
        {
         "source": {
          "index": 3,
          "label": "x4",
          "label_display": "none",
          "px": 535.660900262516,
          "py": 369.99225384771086,
          "shape": "circle",
          "shape_attrs": {
           "r": 15
          },
          "value": null,
          "weight": 20,
          "x": 535.6813683424843,
          "xval": 20,
          "y": 369.9379113606251,
          "yval": 69.23076923076923
         },
         "target": {
          "index": 30,
          "label": "h1,19",
          "label_display": "none",
          "px": 454.5331839788234,
          "py": 440.7353981371751,
          "shape": "circle",
          "shape_attrs": {
           "r": 15
          },
          "value": null,
          "weight": 22,
          "x": 454.57338727966345,
          "xval": 40,
          "y": 440.870029182474,
          "yval": 9.523809523809524
         },
         "value": 1
        },
        {
         "source": {
          "index": 3,
          "label": "x4",
          "label_display": "none",
          "px": 535.660900262516,
          "py": 369.99225384771086,
          "shape": "circle",
          "shape_attrs": {
           "r": 15
          },
          "value": null,
          "weight": 20,
          "x": 535.6813683424843,
          "xval": 20,
          "y": 369.9379113606251,
          "yval": 69.23076923076923
         },
         "target": {
          "index": 31,
          "label": "h1,20",
          "label_display": "none",
          "px": 452.51111853060013,
          "py": 433.8924336038177,
          "shape": "circle",
          "shape_attrs": {
           "r": 15
          },
          "value": null,
          "weight": 22,
          "x": 452.53198152903235,
          "xval": 40,
          "y": 433.96970392214837,
          "yval": 4.761904761904762
         },
         "value": 1
        },
        {
         "source": {
          "index": 4,
          "label": "x5",
          "label_display": "none",
          "px": 349.27806531366787,
          "py": 419.79204133732895,
          "shape": "circle",
          "shape_attrs": {
           "r": 15
          },
          "value": null,
          "weight": 20,
          "x": 349.2334300496466,
          "xval": 20,
          "y": 419.7893909849638,
          "yval": 61.53846153846154
         },
         "target": {
          "fixed": 0,
          "index": 12,
          "label": "h1,1",
          "label_display": "none",
          "px": 438.30653773859984,
          "py": 377.7211018453636,
          "shape": "circle",
          "shape_attrs": {
           "r": 15
          },
          "value": null,
          "weight": 22,
          "x": 438.30653773859984,
          "xval": 40,
          "y": 377.7211018453636,
          "yval": 95.23809523809524
         },
         "value": 1
        },
        {
         "source": {
          "index": 4,
          "label": "x5",
          "label_display": "none",
          "px": 349.27806531366787,
          "py": 419.79204133732895,
          "shape": "circle",
          "shape_attrs": {
           "r": 15
          },
          "value": null,
          "weight": 20,
          "x": 349.2334300496466,
          "xval": 20,
          "y": 419.7893909849638,
          "yval": 61.53846153846154
         },
         "target": {
          "fixed": 0,
          "index": 13,
          "label": "h1,2",
          "label_display": "none",
          "px": 445.4830710949258,
          "py": 407.40580969271514,
          "shape": "circle",
          "shape_attrs": {
           "r": 15
          },
          "value": null,
          "weight": 22,
          "x": 445.4830710949258,
          "xval": 40,
          "y": 407.40580969271514,
          "yval": 90.47619047619048
         },
         "value": 1
        },
        {
         "source": {
          "index": 4,
          "label": "x5",
          "label_display": "none",
          "px": 349.27806531366787,
          "py": 419.79204133732895,
          "shape": "circle",
          "shape_attrs": {
           "r": 15
          },
          "value": null,
          "weight": 20,
          "x": 349.2334300496466,
          "xval": 20,
          "y": 419.7893909849638,
          "yval": 61.53846153846154
         },
         "target": {
          "fixed": 0,
          "index": 14,
          "label": "h1,3",
          "label_display": "none",
          "px": 440.09389561772593,
          "py": 384.9913547714818,
          "shape": "circle",
          "shape_attrs": {
           "r": 15
          },
          "value": null,
          "weight": 22,
          "x": 440.09389561772593,
          "xval": 40,
          "y": 384.9913547714818,
          "yval": 85.71428571428571
         },
         "value": 1
        },
        {
         "source": {
          "index": 4,
          "label": "x5",
          "label_display": "none",
          "px": 349.27806531366787,
          "py": 419.79204133732895,
          "shape": "circle",
          "shape_attrs": {
           "r": 15
          },
          "value": null,
          "weight": 20,
          "x": 349.2334300496466,
          "xval": 20,
          "y": 419.7893909849638,
          "yval": 61.53846153846154
         },
         "target": {
          "index": 15,
          "label": "h1,4",
          "label_display": "none",
          "px": 442.03390585799406,
          "py": 393.18624031821906,
          "shape": "circle",
          "shape_attrs": {
           "r": 15
          },
          "value": null,
          "weight": 22,
          "x": 442.0252187451049,
          "xval": 40,
          "y": 393.18099926055953,
          "yval": 80.95238095238095
         },
         "value": 1
        },
        {
         "source": {
          "index": 4,
          "label": "x5",
          "label_display": "none",
          "px": 349.27806531366787,
          "py": 419.79204133732895,
          "shape": "circle",
          "shape_attrs": {
           "r": 15
          },
          "value": null,
          "weight": 20,
          "x": 349.2334300496466,
          "xval": 20,
          "y": 419.7893909849638,
          "yval": 61.53846153846154
         },
         "target": {
          "fixed": 0,
          "index": 16,
          "label": "h1,5",
          "label_display": "none",
          "px": 439.3038323400098,
          "py": 381.26898657152276,
          "shape": "circle",
          "shape_attrs": {
           "r": 15
          },
          "value": null,
          "weight": 22,
          "x": 439.3038323400098,
          "xval": 40,
          "y": 381.26898657152276,
          "yval": 76.19047619047619
         },
         "value": 1
        },
        {
         "source": {
          "index": 4,
          "label": "x5",
          "label_display": "none",
          "px": 349.27806531366787,
          "py": 419.79204133732895,
          "shape": "circle",
          "shape_attrs": {
           "r": 15
          },
          "value": null,
          "weight": 20,
          "x": 349.2334300496466,
          "xval": 20,
          "y": 419.7893909849638,
          "yval": 61.53846153846154
         },
         "target": {
          "index": 17,
          "label": "h1,6",
          "label_display": "none",
          "px": 436.1763853376012,
          "py": 367.0391092191069,
          "shape": "circle",
          "shape_attrs": {
           "r": 15
          },
          "value": null,
          "weight": 22,
          "x": 436.1319756129927,
          "xval": 40,
          "y": 366.9193372066237,
          "yval": 71.42857142857143
         },
         "value": 1
        },
        {
         "source": {
          "index": 4,
          "label": "x5",
          "label_display": "none",
          "px": 349.27806531366787,
          "py": 419.79204133732895,
          "shape": "circle",
          "shape_attrs": {
           "r": 15
          },
          "value": null,
          "weight": 20,
          "x": 349.2334300496466,
          "xval": 20,
          "y": 419.7893909849638,
          "yval": 61.53846153846154
         },
         "target": {
          "index": 18,
          "label": "h1,7",
          "label_display": "none",
          "px": 444.28747307460884,
          "py": 402.5857074144147,
          "shape": "circle",
          "shape_attrs": {
           "r": 15
          },
          "value": null,
          "weight": 22,
          "x": 444.28189322820117,
          "xval": 40,
          "y": 402.5864217166488,
          "yval": 66.66666666666667
         },
         "value": 1
        },
        {
         "source": {
          "index": 4,
          "label": "x5",
          "label_display": "none",
          "px": 349.27806531366787,
          "py": 419.79204133732895,
          "shape": "circle",
          "shape_attrs": {
           "r": 15
          },
          "value": null,
          "weight": 20,
          "x": 349.2334300496466,
          "xval": 20,
          "y": 419.7893909849638,
          "yval": 61.53846153846154
         },
         "target": {
          "index": 19,
          "label": "h1,8",
          "label_display": "none",
          "px": 436.96694163354766,
          "py": 370.835219648978,
          "shape": "circle",
          "shape_attrs": {
           "r": 15
          },
          "value": null,
          "weight": 22,
          "x": 436.93081668870667,
          "xval": 40,
          "y": 370.7487234007221,
          "yval": 61.904761904761905
         },
         "value": 1
        },
        {
         "source": {
          "index": 4,
          "label": "x5",
          "label_display": "none",
          "px": 349.27806531366787,
          "py": 419.79204133732895,
          "shape": "circle",
          "shape_attrs": {
           "r": 15
          },
          "value": null,
          "weight": 20,
          "x": 349.2334300496466,
          "xval": 20,
          "y": 419.7893909849638,
          "yval": 61.53846153846154
         },
         "target": {
          "index": 20,
          "label": "h1,9",
          "label_display": "none",
          "px": 443.12903262452926,
          "py": 397.77183731760726,
          "shape": "circle",
          "shape_attrs": {
           "r": 15
          },
          "value": null,
          "weight": 22,
          "x": 443.1225250371738,
          "xval": 40,
          "y": 397.77048960247726,
          "yval": 57.14285714285714
         },
         "value": 1
        },
        {
         "source": {
          "index": 4,
          "label": "x5",
          "label_display": "none",
          "px": 349.27806531366787,
          "py": 419.79204133732895,
          "shape": "circle",
          "shape_attrs": {
           "r": 15
          },
          "value": null,
          "weight": 20,
          "x": 349.2334300496466,
          "xval": 20,
          "y": 419.7893909849638,
          "yval": 61.53846153846154
         },
         "target": {
          "index": 21,
          "label": "h1,10",
          "label_display": "none",
          "px": 453.47719733511025,
          "py": 437.1791317957166,
          "shape": "circle",
          "shape_attrs": {
           "r": 15
          },
          "value": null,
          "weight": 22,
          "x": 453.50705008596486,
          "xval": 40,
          "y": 437.28186603254966,
          "yval": 52.38095238095238
         },
         "value": 1
        },
        {
         "source": {
          "index": 4,
          "label": "x5",
          "label_display": "none",
          "px": 349.27806531366787,
          "py": 419.79204133732895,
          "shape": "circle",
          "shape_attrs": {
           "r": 15
          },
          "value": null,
          "weight": 20,
          "x": 349.2334300496466,
          "xval": 20,
          "y": 419.7893909849638,
          "yval": 61.53846153846154
         },
         "target": {
          "index": 22,
          "label": "h1,11",
          "label_display": "none",
          "px": 450.6931880317312,
          "py": 427.36854915169533,
          "shape": "circle",
          "shape_attrs": {
           "r": 15
          },
          "value": null,
          "weight": 22,
          "x": 450.70224459711284,
          "xval": 40,
          "y": 427.40707742900895,
          "yval": 47.61904761904762
         },
         "value": 1
        },
        {
         "source": {
          "index": 4,
          "label": "x5",
          "label_display": "none",
          "px": 349.27806531366787,
          "py": 419.79204133732895,
          "shape": "circle",
          "shape_attrs": {
           "r": 15
          },
          "value": null,
          "weight": 20,
          "x": 349.2334300496466,
          "xval": 20,
          "y": 419.7893909849638,
          "yval": 61.53846153846154
         },
         "target": {
          "index": 23,
          "label": "h1,12",
          "label_display": "none",
          "px": 451.616956869591,
          "py": 430.68399636795544,
          "shape": "circle",
          "shape_attrs": {
           "r": 15
          },
          "value": null,
          "weight": 22,
          "x": 451.6308613454441,
          "xval": 40,
          "y": 430.73607807474326,
          "yval": 42.857142857142854
         },
         "value": 1
        },
        {
         "source": {
          "index": 4,
          "label": "x5",
          "label_display": "none",
          "px": 349.27806531366787,
          "py": 419.79204133732895,
          "shape": "circle",
          "shape_attrs": {
           "r": 15
          },
          "value": null,
          "weight": 20,
          "x": 349.2334300496466,
          "xval": 20,
          "y": 419.7893909849638,
          "yval": 61.53846153846154
         },
         "target": {
          "index": 24,
          "label": "h1,13",
          "label_display": "none",
          "px": 449.7701933541918,
          "py": 423.95395938325044,
          "shape": "circle",
          "shape_attrs": {
           "r": 15
          },
          "value": null,
          "weight": 22,
          "x": 449.77543161498545,
          "xval": 40,
          "y": 423.979666438766,
          "yval": 38.095238095238095
         },
         "value": 1
        },
        {
         "source": {
          "index": 4,
          "label": "x5",
          "label_display": "none",
          "px": 349.27806531366787,
          "py": 419.79204133732895,
          "shape": "circle",
          "shape_attrs": {
           "r": 15
          },
          "value": null,
          "weight": 20,
          "x": 349.2334300496466,
          "xval": 20,
          "y": 419.7893909849638,
          "yval": 61.53846153846154
         },
         "target": {
          "index": 25,
          "label": "h1,14",
          "label_display": "none",
          "px": 447.77652249109667,
          "py": 416.4027794386295,
          "shape": "circle",
          "shape_attrs": {
           "r": 15
          },
          "value": null,
          "weight": 22,
          "x": 447.77533228674633,
          "xval": 40,
          "y": 416.4089800756498,
          "yval": 33.333333333333336
         },
         "value": 1
        },
        {
         "source": {
          "index": 4,
          "label": "x5",
          "label_display": "none",
          "px": 349.27806531366787,
          "py": 419.79204133732895,
          "shape": "circle",
          "shape_attrs": {
           "r": 15
          },
          "value": null,
          "weight": 20,
          "x": 349.2334300496466,
          "xval": 20,
          "y": 419.7893909849638,
          "yval": 61.53846153846154
         },
         "target": {
          "fixed": 0,
          "index": 26,
          "label": "h1,15",
          "label_display": "none",
          "px": 437.84986949367203,
          "py": 374.25132654913494,
          "shape": "circle",
          "shape_attrs": {
           "r": 15
          },
          "value": null,
          "weight": 22,
          "x": 437.84986949367203,
          "xval": 40,
          "y": 374.25132654913494,
          "yval": 28.57142857142857
         },
         "value": 1
        },
        {
         "source": {
          "index": 4,
          "label": "x5",
          "label_display": "none",
          "px": 349.27806531366787,
          "py": 419.79204133732895,
          "shape": "circle",
          "shape_attrs": {
           "r": 15
          },
          "value": null,
          "weight": 20,
          "x": 349.2334300496466,
          "xval": 20,
          "y": 419.7893909849638,
          "yval": 61.53846153846154
         },
         "target": {
          "index": 27,
          "label": "h1,16",
          "label_display": "none",
          "px": 441.03312194188425,
          "py": 388.9301428056495,
          "shape": "circle",
          "shape_attrs": {
           "r": 15
          },
          "value": null,
          "weight": 22,
          "x": 441.0223311760983,
          "xval": 40,
          "y": 388.9201492326303,
          "yval": 23.80952380952381
         },
         "value": 1
        },
        {
         "source": {
          "index": 4,
          "label": "x5",
          "label_display": "none",
          "px": 349.27806531366787,
          "py": 419.79204133732895,
          "shape": "circle",
          "shape_attrs": {
           "r": 15
          },
          "value": null,
          "weight": 20,
          "x": 349.2334300496466,
          "xval": 20,
          "y": 419.7893909849638,
          "yval": 61.53846153846154
         },
         "target": {
          "index": 28,
          "label": "h1,17",
          "label_display": "none",
          "px": 448.80878786875905,
          "py": 420.35138343623464,
          "shape": "circle",
          "shape_attrs": {
           "r": 15
          },
          "value": null,
          "weight": 22,
          "x": 448.8091799805161,
          "xval": 40,
          "y": 420.3610019925185,
          "yval": 19.047619047619047
         },
         "value": 1
        },
        {
         "source": {
          "index": 4,
          "label": "x5",
          "label_display": "none",
          "px": 349.27806531366787,
          "py": 419.79204133732895,
          "shape": "circle",
          "shape_attrs": {
           "r": 15
          },
          "value": null,
          "weight": 20,
          "x": 349.2334300496466,
          "xval": 20,
          "y": 419.7893909849638,
          "yval": 61.53846153846154
         },
         "target": {
          "index": 29,
          "label": "h1,18",
          "label_display": "none",
          "px": 446.66133336839465,
          "py": 412.06746080603597,
          "shape": "circle",
          "shape_attrs": {
           "r": 15
          },
          "value": null,
          "weight": 22,
          "x": 446.65836227806636,
          "xval": 40,
          "y": 412.06979862465556,
          "yval": 14.285714285714285
         },
         "value": 1
        },
        {
         "source": {
          "index": 4,
          "label": "x5",
          "label_display": "none",
          "px": 349.27806531366787,
          "py": 419.79204133732895,
          "shape": "circle",
          "shape_attrs": {
           "r": 15
          },
          "value": null,
          "weight": 20,
          "x": 349.2334300496466,
          "xval": 20,
          "y": 419.7893909849638,
          "yval": 61.53846153846154
         },
         "target": {
          "index": 30,
          "label": "h1,19",
          "label_display": "none",
          "px": 454.5331839788234,
          "py": 440.7353981371751,
          "shape": "circle",
          "shape_attrs": {
           "r": 15
          },
          "value": null,
          "weight": 22,
          "x": 454.57338727966345,
          "xval": 40,
          "y": 440.870029182474,
          "yval": 9.523809523809524
         },
         "value": 1
        },
        {
         "source": {
          "index": 4,
          "label": "x5",
          "label_display": "none",
          "px": 349.27806531366787,
          "py": 419.79204133732895,
          "shape": "circle",
          "shape_attrs": {
           "r": 15
          },
          "value": null,
          "weight": 20,
          "x": 349.2334300496466,
          "xval": 20,
          "y": 419.7893909849638,
          "yval": 61.53846153846154
         },
         "target": {
          "index": 31,
          "label": "h1,20",
          "label_display": "none",
          "px": 452.51111853060013,
          "py": 433.8924336038177,
          "shape": "circle",
          "shape_attrs": {
           "r": 15
          },
          "value": null,
          "weight": 22,
          "x": 452.53198152903235,
          "xval": 40,
          "y": 433.96970392214837,
          "yval": 4.761904761904762
         },
         "value": 1
        },
        {
         "source": {
          "fixed": 0,
          "index": 5,
          "label": "x6",
          "label_display": "none",
          "px": 347.9242179952878,
          "py": 403.0316697786804,
          "shape": "circle",
          "shape_attrs": {
           "r": 15
          },
          "value": null,
          "weight": 20,
          "x": 347.87171205703646,
          "xval": 20,
          "y": 403.02724575949105,
          "yval": 53.84615384615385
         },
         "target": {
          "fixed": 0,
          "index": 12,
          "label": "h1,1",
          "label_display": "none",
          "px": 438.30653773859984,
          "py": 377.7211018453636,
          "shape": "circle",
          "shape_attrs": {
           "r": 15
          },
          "value": null,
          "weight": 22,
          "x": 438.30653773859984,
          "xval": 40,
          "y": 377.7211018453636,
          "yval": 95.23809523809524
         },
         "value": 1
        },
        {
         "source": {
          "fixed": 0,
          "index": 5,
          "label": "x6",
          "label_display": "none",
          "px": 347.9242179952878,
          "py": 403.0316697786804,
          "shape": "circle",
          "shape_attrs": {
           "r": 15
          },
          "value": null,
          "weight": 20,
          "x": 347.87171205703646,
          "xval": 20,
          "y": 403.02724575949105,
          "yval": 53.84615384615385
         },
         "target": {
          "fixed": 0,
          "index": 13,
          "label": "h1,2",
          "label_display": "none",
          "px": 445.4830710949258,
          "py": 407.40580969271514,
          "shape": "circle",
          "shape_attrs": {
           "r": 15
          },
          "value": null,
          "weight": 22,
          "x": 445.4830710949258,
          "xval": 40,
          "y": 407.40580969271514,
          "yval": 90.47619047619048
         },
         "value": 1
        },
        {
         "source": {
          "fixed": 0,
          "index": 5,
          "label": "x6",
          "label_display": "none",
          "px": 347.9242179952878,
          "py": 403.0316697786804,
          "shape": "circle",
          "shape_attrs": {
           "r": 15
          },
          "value": null,
          "weight": 20,
          "x": 347.87171205703646,
          "xval": 20,
          "y": 403.02724575949105,
          "yval": 53.84615384615385
         },
         "target": {
          "fixed": 0,
          "index": 14,
          "label": "h1,3",
          "label_display": "none",
          "px": 440.09389561772593,
          "py": 384.9913547714818,
          "shape": "circle",
          "shape_attrs": {
           "r": 15
          },
          "value": null,
          "weight": 22,
          "x": 440.09389561772593,
          "xval": 40,
          "y": 384.9913547714818,
          "yval": 85.71428571428571
         },
         "value": 1
        },
        {
         "source": {
          "fixed": 0,
          "index": 5,
          "label": "x6",
          "label_display": "none",
          "px": 347.9242179952878,
          "py": 403.0316697786804,
          "shape": "circle",
          "shape_attrs": {
           "r": 15
          },
          "value": null,
          "weight": 20,
          "x": 347.87171205703646,
          "xval": 20,
          "y": 403.02724575949105,
          "yval": 53.84615384615385
         },
         "target": {
          "index": 15,
          "label": "h1,4",
          "label_display": "none",
          "px": 442.03390585799406,
          "py": 393.18624031821906,
          "shape": "circle",
          "shape_attrs": {
           "r": 15
          },
          "value": null,
          "weight": 22,
          "x": 442.0252187451049,
          "xval": 40,
          "y": 393.18099926055953,
          "yval": 80.95238095238095
         },
         "value": 1
        },
        {
         "source": {
          "fixed": 0,
          "index": 5,
          "label": "x6",
          "label_display": "none",
          "px": 347.9242179952878,
          "py": 403.0316697786804,
          "shape": "circle",
          "shape_attrs": {
           "r": 15
          },
          "value": null,
          "weight": 20,
          "x": 347.87171205703646,
          "xval": 20,
          "y": 403.02724575949105,
          "yval": 53.84615384615385
         },
         "target": {
          "fixed": 0,
          "index": 16,
          "label": "h1,5",
          "label_display": "none",
          "px": 439.3038323400098,
          "py": 381.26898657152276,
          "shape": "circle",
          "shape_attrs": {
           "r": 15
          },
          "value": null,
          "weight": 22,
          "x": 439.3038323400098,
          "xval": 40,
          "y": 381.26898657152276,
          "yval": 76.19047619047619
         },
         "value": 1
        },
        {
         "source": {
          "fixed": 0,
          "index": 5,
          "label": "x6",
          "label_display": "none",
          "px": 347.9242179952878,
          "py": 403.0316697786804,
          "shape": "circle",
          "shape_attrs": {
           "r": 15
          },
          "value": null,
          "weight": 20,
          "x": 347.87171205703646,
          "xval": 20,
          "y": 403.02724575949105,
          "yval": 53.84615384615385
         },
         "target": {
          "index": 17,
          "label": "h1,6",
          "label_display": "none",
          "px": 436.1763853376012,
          "py": 367.0391092191069,
          "shape": "circle",
          "shape_attrs": {
           "r": 15
          },
          "value": null,
          "weight": 22,
          "x": 436.1319756129927,
          "xval": 40,
          "y": 366.9193372066237,
          "yval": 71.42857142857143
         },
         "value": 1
        },
        {
         "source": {
          "fixed": 0,
          "index": 5,
          "label": "x6",
          "label_display": "none",
          "px": 347.9242179952878,
          "py": 403.0316697786804,
          "shape": "circle",
          "shape_attrs": {
           "r": 15
          },
          "value": null,
          "weight": 20,
          "x": 347.87171205703646,
          "xval": 20,
          "y": 403.02724575949105,
          "yval": 53.84615384615385
         },
         "target": {
          "index": 18,
          "label": "h1,7",
          "label_display": "none",
          "px": 444.28747307460884,
          "py": 402.5857074144147,
          "shape": "circle",
          "shape_attrs": {
           "r": 15
          },
          "value": null,
          "weight": 22,
          "x": 444.28189322820117,
          "xval": 40,
          "y": 402.5864217166488,
          "yval": 66.66666666666667
         },
         "value": 1
        },
        {
         "source": {
          "fixed": 0,
          "index": 5,
          "label": "x6",
          "label_display": "none",
          "px": 347.9242179952878,
          "py": 403.0316697786804,
          "shape": "circle",
          "shape_attrs": {
           "r": 15
          },
          "value": null,
          "weight": 20,
          "x": 347.87171205703646,
          "xval": 20,
          "y": 403.02724575949105,
          "yval": 53.84615384615385
         },
         "target": {
          "index": 19,
          "label": "h1,8",
          "label_display": "none",
          "px": 436.96694163354766,
          "py": 370.835219648978,
          "shape": "circle",
          "shape_attrs": {
           "r": 15
          },
          "value": null,
          "weight": 22,
          "x": 436.93081668870667,
          "xval": 40,
          "y": 370.7487234007221,
          "yval": 61.904761904761905
         },
         "value": 1
        },
        {
         "source": {
          "fixed": 0,
          "index": 5,
          "label": "x6",
          "label_display": "none",
          "px": 347.9242179952878,
          "py": 403.0316697786804,
          "shape": "circle",
          "shape_attrs": {
           "r": 15
          },
          "value": null,
          "weight": 20,
          "x": 347.87171205703646,
          "xval": 20,
          "y": 403.02724575949105,
          "yval": 53.84615384615385
         },
         "target": {
          "index": 20,
          "label": "h1,9",
          "label_display": "none",
          "px": 443.12903262452926,
          "py": 397.77183731760726,
          "shape": "circle",
          "shape_attrs": {
           "r": 15
          },
          "value": null,
          "weight": 22,
          "x": 443.1225250371738,
          "xval": 40,
          "y": 397.77048960247726,
          "yval": 57.14285714285714
         },
         "value": 1
        },
        {
         "source": {
          "fixed": 0,
          "index": 5,
          "label": "x6",
          "label_display": "none",
          "px": 347.9242179952878,
          "py": 403.0316697786804,
          "shape": "circle",
          "shape_attrs": {
           "r": 15
          },
          "value": null,
          "weight": 20,
          "x": 347.87171205703646,
          "xval": 20,
          "y": 403.02724575949105,
          "yval": 53.84615384615385
         },
         "target": {
          "index": 21,
          "label": "h1,10",
          "label_display": "none",
          "px": 453.47719733511025,
          "py": 437.1791317957166,
          "shape": "circle",
          "shape_attrs": {
           "r": 15
          },
          "value": null,
          "weight": 22,
          "x": 453.50705008596486,
          "xval": 40,
          "y": 437.28186603254966,
          "yval": 52.38095238095238
         },
         "value": 1
        },
        {
         "source": {
          "fixed": 0,
          "index": 5,
          "label": "x6",
          "label_display": "none",
          "px": 347.9242179952878,
          "py": 403.0316697786804,
          "shape": "circle",
          "shape_attrs": {
           "r": 15
          },
          "value": null,
          "weight": 20,
          "x": 347.87171205703646,
          "xval": 20,
          "y": 403.02724575949105,
          "yval": 53.84615384615385
         },
         "target": {
          "index": 22,
          "label": "h1,11",
          "label_display": "none",
          "px": 450.6931880317312,
          "py": 427.36854915169533,
          "shape": "circle",
          "shape_attrs": {
           "r": 15
          },
          "value": null,
          "weight": 22,
          "x": 450.70224459711284,
          "xval": 40,
          "y": 427.40707742900895,
          "yval": 47.61904761904762
         },
         "value": 1
        },
        {
         "source": {
          "fixed": 0,
          "index": 5,
          "label": "x6",
          "label_display": "none",
          "px": 347.9242179952878,
          "py": 403.0316697786804,
          "shape": "circle",
          "shape_attrs": {
           "r": 15
          },
          "value": null,
          "weight": 20,
          "x": 347.87171205703646,
          "xval": 20,
          "y": 403.02724575949105,
          "yval": 53.84615384615385
         },
         "target": {
          "index": 23,
          "label": "h1,12",
          "label_display": "none",
          "px": 451.616956869591,
          "py": 430.68399636795544,
          "shape": "circle",
          "shape_attrs": {
           "r": 15
          },
          "value": null,
          "weight": 22,
          "x": 451.6308613454441,
          "xval": 40,
          "y": 430.73607807474326,
          "yval": 42.857142857142854
         },
         "value": 1
        },
        {
         "source": {
          "fixed": 0,
          "index": 5,
          "label": "x6",
          "label_display": "none",
          "px": 347.9242179952878,
          "py": 403.0316697786804,
          "shape": "circle",
          "shape_attrs": {
           "r": 15
          },
          "value": null,
          "weight": 20,
          "x": 347.87171205703646,
          "xval": 20,
          "y": 403.02724575949105,
          "yval": 53.84615384615385
         },
         "target": {
          "index": 24,
          "label": "h1,13",
          "label_display": "none",
          "px": 449.7701933541918,
          "py": 423.95395938325044,
          "shape": "circle",
          "shape_attrs": {
           "r": 15
          },
          "value": null,
          "weight": 22,
          "x": 449.77543161498545,
          "xval": 40,
          "y": 423.979666438766,
          "yval": 38.095238095238095
         },
         "value": 1
        },
        {
         "source": {
          "fixed": 0,
          "index": 5,
          "label": "x6",
          "label_display": "none",
          "px": 347.9242179952878,
          "py": 403.0316697786804,
          "shape": "circle",
          "shape_attrs": {
           "r": 15
          },
          "value": null,
          "weight": 20,
          "x": 347.87171205703646,
          "xval": 20,
          "y": 403.02724575949105,
          "yval": 53.84615384615385
         },
         "target": {
          "index": 25,
          "label": "h1,14",
          "label_display": "none",
          "px": 447.77652249109667,
          "py": 416.4027794386295,
          "shape": "circle",
          "shape_attrs": {
           "r": 15
          },
          "value": null,
          "weight": 22,
          "x": 447.77533228674633,
          "xval": 40,
          "y": 416.4089800756498,
          "yval": 33.333333333333336
         },
         "value": 1
        },
        {
         "source": {
          "fixed": 0,
          "index": 5,
          "label": "x6",
          "label_display": "none",
          "px": 347.9242179952878,
          "py": 403.0316697786804,
          "shape": "circle",
          "shape_attrs": {
           "r": 15
          },
          "value": null,
          "weight": 20,
          "x": 347.87171205703646,
          "xval": 20,
          "y": 403.02724575949105,
          "yval": 53.84615384615385
         },
         "target": {
          "fixed": 0,
          "index": 26,
          "label": "h1,15",
          "label_display": "none",
          "px": 437.84986949367203,
          "py": 374.25132654913494,
          "shape": "circle",
          "shape_attrs": {
           "r": 15
          },
          "value": null,
          "weight": 22,
          "x": 437.84986949367203,
          "xval": 40,
          "y": 374.25132654913494,
          "yval": 28.57142857142857
         },
         "value": 1
        },
        {
         "source": {
          "fixed": 0,
          "index": 5,
          "label": "x6",
          "label_display": "none",
          "px": 347.9242179952878,
          "py": 403.0316697786804,
          "shape": "circle",
          "shape_attrs": {
           "r": 15
          },
          "value": null,
          "weight": 20,
          "x": 347.87171205703646,
          "xval": 20,
          "y": 403.02724575949105,
          "yval": 53.84615384615385
         },
         "target": {
          "index": 27,
          "label": "h1,16",
          "label_display": "none",
          "px": 441.03312194188425,
          "py": 388.9301428056495,
          "shape": "circle",
          "shape_attrs": {
           "r": 15
          },
          "value": null,
          "weight": 22,
          "x": 441.0223311760983,
          "xval": 40,
          "y": 388.9201492326303,
          "yval": 23.80952380952381
         },
         "value": 1
        },
        {
         "source": {
          "fixed": 0,
          "index": 5,
          "label": "x6",
          "label_display": "none",
          "px": 347.9242179952878,
          "py": 403.0316697786804,
          "shape": "circle",
          "shape_attrs": {
           "r": 15
          },
          "value": null,
          "weight": 20,
          "x": 347.87171205703646,
          "xval": 20,
          "y": 403.02724575949105,
          "yval": 53.84615384615385
         },
         "target": {
          "index": 28,
          "label": "h1,17",
          "label_display": "none",
          "px": 448.80878786875905,
          "py": 420.35138343623464,
          "shape": "circle",
          "shape_attrs": {
           "r": 15
          },
          "value": null,
          "weight": 22,
          "x": 448.8091799805161,
          "xval": 40,
          "y": 420.3610019925185,
          "yval": 19.047619047619047
         },
         "value": 1
        },
        {
         "source": {
          "fixed": 0,
          "index": 5,
          "label": "x6",
          "label_display": "none",
          "px": 347.9242179952878,
          "py": 403.0316697786804,
          "shape": "circle",
          "shape_attrs": {
           "r": 15
          },
          "value": null,
          "weight": 20,
          "x": 347.87171205703646,
          "xval": 20,
          "y": 403.02724575949105,
          "yval": 53.84615384615385
         },
         "target": {
          "index": 29,
          "label": "h1,18",
          "label_display": "none",
          "px": 446.66133336839465,
          "py": 412.06746080603597,
          "shape": "circle",
          "shape_attrs": {
           "r": 15
          },
          "value": null,
          "weight": 22,
          "x": 446.65836227806636,
          "xval": 40,
          "y": 412.06979862465556,
          "yval": 14.285714285714285
         },
         "value": 1
        },
        {
         "source": {
          "fixed": 0,
          "index": 5,
          "label": "x6",
          "label_display": "none",
          "px": 347.9242179952878,
          "py": 403.0316697786804,
          "shape": "circle",
          "shape_attrs": {
           "r": 15
          },
          "value": null,
          "weight": 20,
          "x": 347.87171205703646,
          "xval": 20,
          "y": 403.02724575949105,
          "yval": 53.84615384615385
         },
         "target": {
          "index": 30,
          "label": "h1,19",
          "label_display": "none",
          "px": 454.5331839788234,
          "py": 440.7353981371751,
          "shape": "circle",
          "shape_attrs": {
           "r": 15
          },
          "value": null,
          "weight": 22,
          "x": 454.57338727966345,
          "xval": 40,
          "y": 440.870029182474,
          "yval": 9.523809523809524
         },
         "value": 1
        },
        {
         "source": {
          "fixed": 0,
          "index": 5,
          "label": "x6",
          "label_display": "none",
          "px": 347.9242179952878,
          "py": 403.0316697786804,
          "shape": "circle",
          "shape_attrs": {
           "r": 15
          },
          "value": null,
          "weight": 20,
          "x": 347.87171205703646,
          "xval": 20,
          "y": 403.02724575949105,
          "yval": 53.84615384615385
         },
         "target": {
          "index": 31,
          "label": "h1,20",
          "label_display": "none",
          "px": 452.51111853060013,
          "py": 433.8924336038177,
          "shape": "circle",
          "shape_attrs": {
           "r": 15
          },
          "value": null,
          "weight": 22,
          "x": 452.53198152903235,
          "xval": 40,
          "y": 433.96970392214837,
          "yval": 4.761904761904762
         },
         "value": 1
        },
        {
         "source": {
          "index": 6,
          "label": "x7",
          "label_display": "none",
          "px": 354.2538696234675,
          "py": 438.5097584805723,
          "shape": "circle",
          "shape_attrs": {
           "r": 15
          },
          "value": null,
          "weight": 20,
          "x": 354.2313541770172,
          "xval": 20,
          "y": 438.56414739258605,
          "yval": 46.15384615384615
         },
         "target": {
          "fixed": 0,
          "index": 12,
          "label": "h1,1",
          "label_display": "none",
          "px": 438.30653773859984,
          "py": 377.7211018453636,
          "shape": "circle",
          "shape_attrs": {
           "r": 15
          },
          "value": null,
          "weight": 22,
          "x": 438.30653773859984,
          "xval": 40,
          "y": 377.7211018453636,
          "yval": 95.23809523809524
         },
         "value": 1
        },
        {
         "source": {
          "index": 6,
          "label": "x7",
          "label_display": "none",
          "px": 354.2538696234675,
          "py": 438.5097584805723,
          "shape": "circle",
          "shape_attrs": {
           "r": 15
          },
          "value": null,
          "weight": 20,
          "x": 354.2313541770172,
          "xval": 20,
          "y": 438.56414739258605,
          "yval": 46.15384615384615
         },
         "target": {
          "fixed": 0,
          "index": 13,
          "label": "h1,2",
          "label_display": "none",
          "px": 445.4830710949258,
          "py": 407.40580969271514,
          "shape": "circle",
          "shape_attrs": {
           "r": 15
          },
          "value": null,
          "weight": 22,
          "x": 445.4830710949258,
          "xval": 40,
          "y": 407.40580969271514,
          "yval": 90.47619047619048
         },
         "value": 1
        },
        {
         "source": {
          "index": 6,
          "label": "x7",
          "label_display": "none",
          "px": 354.2538696234675,
          "py": 438.5097584805723,
          "shape": "circle",
          "shape_attrs": {
           "r": 15
          },
          "value": null,
          "weight": 20,
          "x": 354.2313541770172,
          "xval": 20,
          "y": 438.56414739258605,
          "yval": 46.15384615384615
         },
         "target": {
          "fixed": 0,
          "index": 14,
          "label": "h1,3",
          "label_display": "none",
          "px": 440.09389561772593,
          "py": 384.9913547714818,
          "shape": "circle",
          "shape_attrs": {
           "r": 15
          },
          "value": null,
          "weight": 22,
          "x": 440.09389561772593,
          "xval": 40,
          "y": 384.9913547714818,
          "yval": 85.71428571428571
         },
         "value": 1
        },
        {
         "source": {
          "index": 6,
          "label": "x7",
          "label_display": "none",
          "px": 354.2538696234675,
          "py": 438.5097584805723,
          "shape": "circle",
          "shape_attrs": {
           "r": 15
          },
          "value": null,
          "weight": 20,
          "x": 354.2313541770172,
          "xval": 20,
          "y": 438.56414739258605,
          "yval": 46.15384615384615
         },
         "target": {
          "index": 15,
          "label": "h1,4",
          "label_display": "none",
          "px": 442.03390585799406,
          "py": 393.18624031821906,
          "shape": "circle",
          "shape_attrs": {
           "r": 15
          },
          "value": null,
          "weight": 22,
          "x": 442.0252187451049,
          "xval": 40,
          "y": 393.18099926055953,
          "yval": 80.95238095238095
         },
         "value": 1
        },
        {
         "source": {
          "index": 6,
          "label": "x7",
          "label_display": "none",
          "px": 354.2538696234675,
          "py": 438.5097584805723,
          "shape": "circle",
          "shape_attrs": {
           "r": 15
          },
          "value": null,
          "weight": 20,
          "x": 354.2313541770172,
          "xval": 20,
          "y": 438.56414739258605,
          "yval": 46.15384615384615
         },
         "target": {
          "fixed": 0,
          "index": 16,
          "label": "h1,5",
          "label_display": "none",
          "px": 439.3038323400098,
          "py": 381.26898657152276,
          "shape": "circle",
          "shape_attrs": {
           "r": 15
          },
          "value": null,
          "weight": 22,
          "x": 439.3038323400098,
          "xval": 40,
          "y": 381.26898657152276,
          "yval": 76.19047619047619
         },
         "value": 1
        },
        {
         "source": {
          "index": 6,
          "label": "x7",
          "label_display": "none",
          "px": 354.2538696234675,
          "py": 438.5097584805723,
          "shape": "circle",
          "shape_attrs": {
           "r": 15
          },
          "value": null,
          "weight": 20,
          "x": 354.2313541770172,
          "xval": 20,
          "y": 438.56414739258605,
          "yval": 46.15384615384615
         },
         "target": {
          "index": 17,
          "label": "h1,6",
          "label_display": "none",
          "px": 436.1763853376012,
          "py": 367.0391092191069,
          "shape": "circle",
          "shape_attrs": {
           "r": 15
          },
          "value": null,
          "weight": 22,
          "x": 436.1319756129927,
          "xval": 40,
          "y": 366.9193372066237,
          "yval": 71.42857142857143
         },
         "value": 1
        },
        {
         "source": {
          "index": 6,
          "label": "x7",
          "label_display": "none",
          "px": 354.2538696234675,
          "py": 438.5097584805723,
          "shape": "circle",
          "shape_attrs": {
           "r": 15
          },
          "value": null,
          "weight": 20,
          "x": 354.2313541770172,
          "xval": 20,
          "y": 438.56414739258605,
          "yval": 46.15384615384615
         },
         "target": {
          "index": 18,
          "label": "h1,7",
          "label_display": "none",
          "px": 444.28747307460884,
          "py": 402.5857074144147,
          "shape": "circle",
          "shape_attrs": {
           "r": 15
          },
          "value": null,
          "weight": 22,
          "x": 444.28189322820117,
          "xval": 40,
          "y": 402.5864217166488,
          "yval": 66.66666666666667
         },
         "value": 1
        },
        {
         "source": {
          "index": 6,
          "label": "x7",
          "label_display": "none",
          "px": 354.2538696234675,
          "py": 438.5097584805723,
          "shape": "circle",
          "shape_attrs": {
           "r": 15
          },
          "value": null,
          "weight": 20,
          "x": 354.2313541770172,
          "xval": 20,
          "y": 438.56414739258605,
          "yval": 46.15384615384615
         },
         "target": {
          "index": 19,
          "label": "h1,8",
          "label_display": "none",
          "px": 436.96694163354766,
          "py": 370.835219648978,
          "shape": "circle",
          "shape_attrs": {
           "r": 15
          },
          "value": null,
          "weight": 22,
          "x": 436.93081668870667,
          "xval": 40,
          "y": 370.7487234007221,
          "yval": 61.904761904761905
         },
         "value": 1
        },
        {
         "source": {
          "index": 6,
          "label": "x7",
          "label_display": "none",
          "px": 354.2538696234675,
          "py": 438.5097584805723,
          "shape": "circle",
          "shape_attrs": {
           "r": 15
          },
          "value": null,
          "weight": 20,
          "x": 354.2313541770172,
          "xval": 20,
          "y": 438.56414739258605,
          "yval": 46.15384615384615
         },
         "target": {
          "index": 20,
          "label": "h1,9",
          "label_display": "none",
          "px": 443.12903262452926,
          "py": 397.77183731760726,
          "shape": "circle",
          "shape_attrs": {
           "r": 15
          },
          "value": null,
          "weight": 22,
          "x": 443.1225250371738,
          "xval": 40,
          "y": 397.77048960247726,
          "yval": 57.14285714285714
         },
         "value": 1
        },
        {
         "source": {
          "index": 6,
          "label": "x7",
          "label_display": "none",
          "px": 354.2538696234675,
          "py": 438.5097584805723,
          "shape": "circle",
          "shape_attrs": {
           "r": 15
          },
          "value": null,
          "weight": 20,
          "x": 354.2313541770172,
          "xval": 20,
          "y": 438.56414739258605,
          "yval": 46.15384615384615
         },
         "target": {
          "index": 21,
          "label": "h1,10",
          "label_display": "none",
          "px": 453.47719733511025,
          "py": 437.1791317957166,
          "shape": "circle",
          "shape_attrs": {
           "r": 15
          },
          "value": null,
          "weight": 22,
          "x": 453.50705008596486,
          "xval": 40,
          "y": 437.28186603254966,
          "yval": 52.38095238095238
         },
         "value": 1
        },
        {
         "source": {
          "index": 6,
          "label": "x7",
          "label_display": "none",
          "px": 354.2538696234675,
          "py": 438.5097584805723,
          "shape": "circle",
          "shape_attrs": {
           "r": 15
          },
          "value": null,
          "weight": 20,
          "x": 354.2313541770172,
          "xval": 20,
          "y": 438.56414739258605,
          "yval": 46.15384615384615
         },
         "target": {
          "index": 22,
          "label": "h1,11",
          "label_display": "none",
          "px": 450.6931880317312,
          "py": 427.36854915169533,
          "shape": "circle",
          "shape_attrs": {
           "r": 15
          },
          "value": null,
          "weight": 22,
          "x": 450.70224459711284,
          "xval": 40,
          "y": 427.40707742900895,
          "yval": 47.61904761904762
         },
         "value": 1
        },
        {
         "source": {
          "index": 6,
          "label": "x7",
          "label_display": "none",
          "px": 354.2538696234675,
          "py": 438.5097584805723,
          "shape": "circle",
          "shape_attrs": {
           "r": 15
          },
          "value": null,
          "weight": 20,
          "x": 354.2313541770172,
          "xval": 20,
          "y": 438.56414739258605,
          "yval": 46.15384615384615
         },
         "target": {
          "index": 23,
          "label": "h1,12",
          "label_display": "none",
          "px": 451.616956869591,
          "py": 430.68399636795544,
          "shape": "circle",
          "shape_attrs": {
           "r": 15
          },
          "value": null,
          "weight": 22,
          "x": 451.6308613454441,
          "xval": 40,
          "y": 430.73607807474326,
          "yval": 42.857142857142854
         },
         "value": 1
        },
        {
         "source": {
          "index": 6,
          "label": "x7",
          "label_display": "none",
          "px": 354.2538696234675,
          "py": 438.5097584805723,
          "shape": "circle",
          "shape_attrs": {
           "r": 15
          },
          "value": null,
          "weight": 20,
          "x": 354.2313541770172,
          "xval": 20,
          "y": 438.56414739258605,
          "yval": 46.15384615384615
         },
         "target": {
          "index": 24,
          "label": "h1,13",
          "label_display": "none",
          "px": 449.7701933541918,
          "py": 423.95395938325044,
          "shape": "circle",
          "shape_attrs": {
           "r": 15
          },
          "value": null,
          "weight": 22,
          "x": 449.77543161498545,
          "xval": 40,
          "y": 423.979666438766,
          "yval": 38.095238095238095
         },
         "value": 1
        },
        {
         "source": {
          "index": 6,
          "label": "x7",
          "label_display": "none",
          "px": 354.2538696234675,
          "py": 438.5097584805723,
          "shape": "circle",
          "shape_attrs": {
           "r": 15
          },
          "value": null,
          "weight": 20,
          "x": 354.2313541770172,
          "xval": 20,
          "y": 438.56414739258605,
          "yval": 46.15384615384615
         },
         "target": {
          "index": 25,
          "label": "h1,14",
          "label_display": "none",
          "px": 447.77652249109667,
          "py": 416.4027794386295,
          "shape": "circle",
          "shape_attrs": {
           "r": 15
          },
          "value": null,
          "weight": 22,
          "x": 447.77533228674633,
          "xval": 40,
          "y": 416.4089800756498,
          "yval": 33.333333333333336
         },
         "value": 1
        },
        {
         "source": {
          "index": 6,
          "label": "x7",
          "label_display": "none",
          "px": 354.2538696234675,
          "py": 438.5097584805723,
          "shape": "circle",
          "shape_attrs": {
           "r": 15
          },
          "value": null,
          "weight": 20,
          "x": 354.2313541770172,
          "xval": 20,
          "y": 438.56414739258605,
          "yval": 46.15384615384615
         },
         "target": {
          "fixed": 0,
          "index": 26,
          "label": "h1,15",
          "label_display": "none",
          "px": 437.84986949367203,
          "py": 374.25132654913494,
          "shape": "circle",
          "shape_attrs": {
           "r": 15
          },
          "value": null,
          "weight": 22,
          "x": 437.84986949367203,
          "xval": 40,
          "y": 374.25132654913494,
          "yval": 28.57142857142857
         },
         "value": 1
        },
        {
         "source": {
          "index": 6,
          "label": "x7",
          "label_display": "none",
          "px": 354.2538696234675,
          "py": 438.5097584805723,
          "shape": "circle",
          "shape_attrs": {
           "r": 15
          },
          "value": null,
          "weight": 20,
          "x": 354.2313541770172,
          "xval": 20,
          "y": 438.56414739258605,
          "yval": 46.15384615384615
         },
         "target": {
          "index": 27,
          "label": "h1,16",
          "label_display": "none",
          "px": 441.03312194188425,
          "py": 388.9301428056495,
          "shape": "circle",
          "shape_attrs": {
           "r": 15
          },
          "value": null,
          "weight": 22,
          "x": 441.0223311760983,
          "xval": 40,
          "y": 388.9201492326303,
          "yval": 23.80952380952381
         },
         "value": 1
        },
        {
         "source": {
          "index": 6,
          "label": "x7",
          "label_display": "none",
          "px": 354.2538696234675,
          "py": 438.5097584805723,
          "shape": "circle",
          "shape_attrs": {
           "r": 15
          },
          "value": null,
          "weight": 20,
          "x": 354.2313541770172,
          "xval": 20,
          "y": 438.56414739258605,
          "yval": 46.15384615384615
         },
         "target": {
          "index": 28,
          "label": "h1,17",
          "label_display": "none",
          "px": 448.80878786875905,
          "py": 420.35138343623464,
          "shape": "circle",
          "shape_attrs": {
           "r": 15
          },
          "value": null,
          "weight": 22,
          "x": 448.8091799805161,
          "xval": 40,
          "y": 420.3610019925185,
          "yval": 19.047619047619047
         },
         "value": 1
        },
        {
         "source": {
          "index": 6,
          "label": "x7",
          "label_display": "none",
          "px": 354.2538696234675,
          "py": 438.5097584805723,
          "shape": "circle",
          "shape_attrs": {
           "r": 15
          },
          "value": null,
          "weight": 20,
          "x": 354.2313541770172,
          "xval": 20,
          "y": 438.56414739258605,
          "yval": 46.15384615384615
         },
         "target": {
          "index": 29,
          "label": "h1,18",
          "label_display": "none",
          "px": 446.66133336839465,
          "py": 412.06746080603597,
          "shape": "circle",
          "shape_attrs": {
           "r": 15
          },
          "value": null,
          "weight": 22,
          "x": 446.65836227806636,
          "xval": 40,
          "y": 412.06979862465556,
          "yval": 14.285714285714285
         },
         "value": 1
        },
        {
         "source": {
          "index": 6,
          "label": "x7",
          "label_display": "none",
          "px": 354.2538696234675,
          "py": 438.5097584805723,
          "shape": "circle",
          "shape_attrs": {
           "r": 15
          },
          "value": null,
          "weight": 20,
          "x": 354.2313541770172,
          "xval": 20,
          "y": 438.56414739258605,
          "yval": 46.15384615384615
         },
         "target": {
          "index": 30,
          "label": "h1,19",
          "label_display": "none",
          "px": 454.5331839788234,
          "py": 440.7353981371751,
          "shape": "circle",
          "shape_attrs": {
           "r": 15
          },
          "value": null,
          "weight": 22,
          "x": 454.57338727966345,
          "xval": 40,
          "y": 440.870029182474,
          "yval": 9.523809523809524
         },
         "value": 1
        },
        {
         "source": {
          "index": 6,
          "label": "x7",
          "label_display": "none",
          "px": 354.2538696234675,
          "py": 438.5097584805723,
          "shape": "circle",
          "shape_attrs": {
           "r": 15
          },
          "value": null,
          "weight": 20,
          "x": 354.2313541770172,
          "xval": 20,
          "y": 438.56414739258605,
          "yval": 46.15384615384615
         },
         "target": {
          "index": 31,
          "label": "h1,20",
          "label_display": "none",
          "px": 452.51111853060013,
          "py": 433.8924336038177,
          "shape": "circle",
          "shape_attrs": {
           "r": 15
          },
          "value": null,
          "weight": 22,
          "x": 452.53198152903235,
          "xval": 40,
          "y": 433.96970392214837,
          "yval": 4.761904761904762
         },
         "value": 1
        },
        {
         "source": {
          "index": 7,
          "label": "x8",
          "label_display": "none",
          "px": 356.22057362840934,
          "py": 443.45571635538505,
          "shape": "circle",
          "shape_attrs": {
           "r": 15
          },
          "value": null,
          "weight": 20,
          "x": 356.2072062248934,
          "xval": 20,
          "y": 443.5252069713679,
          "yval": 38.46153846153846
         },
         "target": {
          "fixed": 0,
          "index": 12,
          "label": "h1,1",
          "label_display": "none",
          "px": 438.30653773859984,
          "py": 377.7211018453636,
          "shape": "circle",
          "shape_attrs": {
           "r": 15
          },
          "value": null,
          "weight": 22,
          "x": 438.30653773859984,
          "xval": 40,
          "y": 377.7211018453636,
          "yval": 95.23809523809524
         },
         "value": 1
        },
        {
         "source": {
          "index": 7,
          "label": "x8",
          "label_display": "none",
          "px": 356.22057362840934,
          "py": 443.45571635538505,
          "shape": "circle",
          "shape_attrs": {
           "r": 15
          },
          "value": null,
          "weight": 20,
          "x": 356.2072062248934,
          "xval": 20,
          "y": 443.5252069713679,
          "yval": 38.46153846153846
         },
         "target": {
          "fixed": 0,
          "index": 13,
          "label": "h1,2",
          "label_display": "none",
          "px": 445.4830710949258,
          "py": 407.40580969271514,
          "shape": "circle",
          "shape_attrs": {
           "r": 15
          },
          "value": null,
          "weight": 22,
          "x": 445.4830710949258,
          "xval": 40,
          "y": 407.40580969271514,
          "yval": 90.47619047619048
         },
         "value": 1
        },
        {
         "source": {
          "index": 7,
          "label": "x8",
          "label_display": "none",
          "px": 356.22057362840934,
          "py": 443.45571635538505,
          "shape": "circle",
          "shape_attrs": {
           "r": 15
          },
          "value": null,
          "weight": 20,
          "x": 356.2072062248934,
          "xval": 20,
          "y": 443.5252069713679,
          "yval": 38.46153846153846
         },
         "target": {
          "fixed": 0,
          "index": 14,
          "label": "h1,3",
          "label_display": "none",
          "px": 440.09389561772593,
          "py": 384.9913547714818,
          "shape": "circle",
          "shape_attrs": {
           "r": 15
          },
          "value": null,
          "weight": 22,
          "x": 440.09389561772593,
          "xval": 40,
          "y": 384.9913547714818,
          "yval": 85.71428571428571
         },
         "value": 1
        },
        {
         "source": {
          "index": 7,
          "label": "x8",
          "label_display": "none",
          "px": 356.22057362840934,
          "py": 443.45571635538505,
          "shape": "circle",
          "shape_attrs": {
           "r": 15
          },
          "value": null,
          "weight": 20,
          "x": 356.2072062248934,
          "xval": 20,
          "y": 443.5252069713679,
          "yval": 38.46153846153846
         },
         "target": {
          "index": 15,
          "label": "h1,4",
          "label_display": "none",
          "px": 442.03390585799406,
          "py": 393.18624031821906,
          "shape": "circle",
          "shape_attrs": {
           "r": 15
          },
          "value": null,
          "weight": 22,
          "x": 442.0252187451049,
          "xval": 40,
          "y": 393.18099926055953,
          "yval": 80.95238095238095
         },
         "value": 1
        },
        {
         "source": {
          "index": 7,
          "label": "x8",
          "label_display": "none",
          "px": 356.22057362840934,
          "py": 443.45571635538505,
          "shape": "circle",
          "shape_attrs": {
           "r": 15
          },
          "value": null,
          "weight": 20,
          "x": 356.2072062248934,
          "xval": 20,
          "y": 443.5252069713679,
          "yval": 38.46153846153846
         },
         "target": {
          "fixed": 0,
          "index": 16,
          "label": "h1,5",
          "label_display": "none",
          "px": 439.3038323400098,
          "py": 381.26898657152276,
          "shape": "circle",
          "shape_attrs": {
           "r": 15
          },
          "value": null,
          "weight": 22,
          "x": 439.3038323400098,
          "xval": 40,
          "y": 381.26898657152276,
          "yval": 76.19047619047619
         },
         "value": 1
        },
        {
         "source": {
          "index": 7,
          "label": "x8",
          "label_display": "none",
          "px": 356.22057362840934,
          "py": 443.45571635538505,
          "shape": "circle",
          "shape_attrs": {
           "r": 15
          },
          "value": null,
          "weight": 20,
          "x": 356.2072062248934,
          "xval": 20,
          "y": 443.5252069713679,
          "yval": 38.46153846153846
         },
         "target": {
          "index": 17,
          "label": "h1,6",
          "label_display": "none",
          "px": 436.1763853376012,
          "py": 367.0391092191069,
          "shape": "circle",
          "shape_attrs": {
           "r": 15
          },
          "value": null,
          "weight": 22,
          "x": 436.1319756129927,
          "xval": 40,
          "y": 366.9193372066237,
          "yval": 71.42857142857143
         },
         "value": 1
        },
        {
         "source": {
          "index": 7,
          "label": "x8",
          "label_display": "none",
          "px": 356.22057362840934,
          "py": 443.45571635538505,
          "shape": "circle",
          "shape_attrs": {
           "r": 15
          },
          "value": null,
          "weight": 20,
          "x": 356.2072062248934,
          "xval": 20,
          "y": 443.5252069713679,
          "yval": 38.46153846153846
         },
         "target": {
          "index": 18,
          "label": "h1,7",
          "label_display": "none",
          "px": 444.28747307460884,
          "py": 402.5857074144147,
          "shape": "circle",
          "shape_attrs": {
           "r": 15
          },
          "value": null,
          "weight": 22,
          "x": 444.28189322820117,
          "xval": 40,
          "y": 402.5864217166488,
          "yval": 66.66666666666667
         },
         "value": 1
        },
        {
         "source": {
          "index": 7,
          "label": "x8",
          "label_display": "none",
          "px": 356.22057362840934,
          "py": 443.45571635538505,
          "shape": "circle",
          "shape_attrs": {
           "r": 15
          },
          "value": null,
          "weight": 20,
          "x": 356.2072062248934,
          "xval": 20,
          "y": 443.5252069713679,
          "yval": 38.46153846153846
         },
         "target": {
          "index": 19,
          "label": "h1,8",
          "label_display": "none",
          "px": 436.96694163354766,
          "py": 370.835219648978,
          "shape": "circle",
          "shape_attrs": {
           "r": 15
          },
          "value": null,
          "weight": 22,
          "x": 436.93081668870667,
          "xval": 40,
          "y": 370.7487234007221,
          "yval": 61.904761904761905
         },
         "value": 1
        },
        {
         "source": {
          "index": 7,
          "label": "x8",
          "label_display": "none",
          "px": 356.22057362840934,
          "py": 443.45571635538505,
          "shape": "circle",
          "shape_attrs": {
           "r": 15
          },
          "value": null,
          "weight": 20,
          "x": 356.2072062248934,
          "xval": 20,
          "y": 443.5252069713679,
          "yval": 38.46153846153846
         },
         "target": {
          "index": 20,
          "label": "h1,9",
          "label_display": "none",
          "px": 443.12903262452926,
          "py": 397.77183731760726,
          "shape": "circle",
          "shape_attrs": {
           "r": 15
          },
          "value": null,
          "weight": 22,
          "x": 443.1225250371738,
          "xval": 40,
          "y": 397.77048960247726,
          "yval": 57.14285714285714
         },
         "value": 1
        },
        {
         "source": {
          "index": 7,
          "label": "x8",
          "label_display": "none",
          "px": 356.22057362840934,
          "py": 443.45571635538505,
          "shape": "circle",
          "shape_attrs": {
           "r": 15
          },
          "value": null,
          "weight": 20,
          "x": 356.2072062248934,
          "xval": 20,
          "y": 443.5252069713679,
          "yval": 38.46153846153846
         },
         "target": {
          "index": 21,
          "label": "h1,10",
          "label_display": "none",
          "px": 453.47719733511025,
          "py": 437.1791317957166,
          "shape": "circle",
          "shape_attrs": {
           "r": 15
          },
          "value": null,
          "weight": 22,
          "x": 453.50705008596486,
          "xval": 40,
          "y": 437.28186603254966,
          "yval": 52.38095238095238
         },
         "value": 1
        },
        {
         "source": {
          "index": 7,
          "label": "x8",
          "label_display": "none",
          "px": 356.22057362840934,
          "py": 443.45571635538505,
          "shape": "circle",
          "shape_attrs": {
           "r": 15
          },
          "value": null,
          "weight": 20,
          "x": 356.2072062248934,
          "xval": 20,
          "y": 443.5252069713679,
          "yval": 38.46153846153846
         },
         "target": {
          "index": 22,
          "label": "h1,11",
          "label_display": "none",
          "px": 450.6931880317312,
          "py": 427.36854915169533,
          "shape": "circle",
          "shape_attrs": {
           "r": 15
          },
          "value": null,
          "weight": 22,
          "x": 450.70224459711284,
          "xval": 40,
          "y": 427.40707742900895,
          "yval": 47.61904761904762
         },
         "value": 1
        },
        {
         "source": {
          "index": 7,
          "label": "x8",
          "label_display": "none",
          "px": 356.22057362840934,
          "py": 443.45571635538505,
          "shape": "circle",
          "shape_attrs": {
           "r": 15
          },
          "value": null,
          "weight": 20,
          "x": 356.2072062248934,
          "xval": 20,
          "y": 443.5252069713679,
          "yval": 38.46153846153846
         },
         "target": {
          "index": 23,
          "label": "h1,12",
          "label_display": "none",
          "px": 451.616956869591,
          "py": 430.68399636795544,
          "shape": "circle",
          "shape_attrs": {
           "r": 15
          },
          "value": null,
          "weight": 22,
          "x": 451.6308613454441,
          "xval": 40,
          "y": 430.73607807474326,
          "yval": 42.857142857142854
         },
         "value": 1
        },
        {
         "source": {
          "index": 7,
          "label": "x8",
          "label_display": "none",
          "px": 356.22057362840934,
          "py": 443.45571635538505,
          "shape": "circle",
          "shape_attrs": {
           "r": 15
          },
          "value": null,
          "weight": 20,
          "x": 356.2072062248934,
          "xval": 20,
          "y": 443.5252069713679,
          "yval": 38.46153846153846
         },
         "target": {
          "index": 24,
          "label": "h1,13",
          "label_display": "none",
          "px": 449.7701933541918,
          "py": 423.95395938325044,
          "shape": "circle",
          "shape_attrs": {
           "r": 15
          },
          "value": null,
          "weight": 22,
          "x": 449.77543161498545,
          "xval": 40,
          "y": 423.979666438766,
          "yval": 38.095238095238095
         },
         "value": 1
        },
        {
         "source": {
          "index": 7,
          "label": "x8",
          "label_display": "none",
          "px": 356.22057362840934,
          "py": 443.45571635538505,
          "shape": "circle",
          "shape_attrs": {
           "r": 15
          },
          "value": null,
          "weight": 20,
          "x": 356.2072062248934,
          "xval": 20,
          "y": 443.5252069713679,
          "yval": 38.46153846153846
         },
         "target": {
          "index": 25,
          "label": "h1,14",
          "label_display": "none",
          "px": 447.77652249109667,
          "py": 416.4027794386295,
          "shape": "circle",
          "shape_attrs": {
           "r": 15
          },
          "value": null,
          "weight": 22,
          "x": 447.77533228674633,
          "xval": 40,
          "y": 416.4089800756498,
          "yval": 33.333333333333336
         },
         "value": 1
        },
        {
         "source": {
          "index": 7,
          "label": "x8",
          "label_display": "none",
          "px": 356.22057362840934,
          "py": 443.45571635538505,
          "shape": "circle",
          "shape_attrs": {
           "r": 15
          },
          "value": null,
          "weight": 20,
          "x": 356.2072062248934,
          "xval": 20,
          "y": 443.5252069713679,
          "yval": 38.46153846153846
         },
         "target": {
          "fixed": 0,
          "index": 26,
          "label": "h1,15",
          "label_display": "none",
          "px": 437.84986949367203,
          "py": 374.25132654913494,
          "shape": "circle",
          "shape_attrs": {
           "r": 15
          },
          "value": null,
          "weight": 22,
          "x": 437.84986949367203,
          "xval": 40,
          "y": 374.25132654913494,
          "yval": 28.57142857142857
         },
         "value": 1
        },
        {
         "source": {
          "index": 7,
          "label": "x8",
          "label_display": "none",
          "px": 356.22057362840934,
          "py": 443.45571635538505,
          "shape": "circle",
          "shape_attrs": {
           "r": 15
          },
          "value": null,
          "weight": 20,
          "x": 356.2072062248934,
          "xval": 20,
          "y": 443.5252069713679,
          "yval": 38.46153846153846
         },
         "target": {
          "index": 27,
          "label": "h1,16",
          "label_display": "none",
          "px": 441.03312194188425,
          "py": 388.9301428056495,
          "shape": "circle",
          "shape_attrs": {
           "r": 15
          },
          "value": null,
          "weight": 22,
          "x": 441.0223311760983,
          "xval": 40,
          "y": 388.9201492326303,
          "yval": 23.80952380952381
         },
         "value": 1
        },
        {
         "source": {
          "index": 7,
          "label": "x8",
          "label_display": "none",
          "px": 356.22057362840934,
          "py": 443.45571635538505,
          "shape": "circle",
          "shape_attrs": {
           "r": 15
          },
          "value": null,
          "weight": 20,
          "x": 356.2072062248934,
          "xval": 20,
          "y": 443.5252069713679,
          "yval": 38.46153846153846
         },
         "target": {
          "index": 28,
          "label": "h1,17",
          "label_display": "none",
          "px": 448.80878786875905,
          "py": 420.35138343623464,
          "shape": "circle",
          "shape_attrs": {
           "r": 15
          },
          "value": null,
          "weight": 22,
          "x": 448.8091799805161,
          "xval": 40,
          "y": 420.3610019925185,
          "yval": 19.047619047619047
         },
         "value": 1
        },
        {
         "source": {
          "index": 7,
          "label": "x8",
          "label_display": "none",
          "px": 356.22057362840934,
          "py": 443.45571635538505,
          "shape": "circle",
          "shape_attrs": {
           "r": 15
          },
          "value": null,
          "weight": 20,
          "x": 356.2072062248934,
          "xval": 20,
          "y": 443.5252069713679,
          "yval": 38.46153846153846
         },
         "target": {
          "index": 29,
          "label": "h1,18",
          "label_display": "none",
          "px": 446.66133336839465,
          "py": 412.06746080603597,
          "shape": "circle",
          "shape_attrs": {
           "r": 15
          },
          "value": null,
          "weight": 22,
          "x": 446.65836227806636,
          "xval": 40,
          "y": 412.06979862465556,
          "yval": 14.285714285714285
         },
         "value": 1
        },
        {
         "source": {
          "index": 7,
          "label": "x8",
          "label_display": "none",
          "px": 356.22057362840934,
          "py": 443.45571635538505,
          "shape": "circle",
          "shape_attrs": {
           "r": 15
          },
          "value": null,
          "weight": 20,
          "x": 356.2072062248934,
          "xval": 20,
          "y": 443.5252069713679,
          "yval": 38.46153846153846
         },
         "target": {
          "index": 30,
          "label": "h1,19",
          "label_display": "none",
          "px": 454.5331839788234,
          "py": 440.7353981371751,
          "shape": "circle",
          "shape_attrs": {
           "r": 15
          },
          "value": null,
          "weight": 22,
          "x": 454.57338727966345,
          "xval": 40,
          "y": 440.870029182474,
          "yval": 9.523809523809524
         },
         "value": 1
        },
        {
         "source": {
          "index": 7,
          "label": "x8",
          "label_display": "none",
          "px": 356.22057362840934,
          "py": 443.45571635538505,
          "shape": "circle",
          "shape_attrs": {
           "r": 15
          },
          "value": null,
          "weight": 20,
          "x": 356.2072062248934,
          "xval": 20,
          "y": 443.5252069713679,
          "yval": 38.46153846153846
         },
         "target": {
          "index": 31,
          "label": "h1,20",
          "label_display": "none",
          "px": 452.51111853060013,
          "py": 433.8924336038177,
          "shape": "circle",
          "shape_attrs": {
           "r": 15
          },
          "value": null,
          "weight": 22,
          "x": 452.53198152903235,
          "xval": 40,
          "y": 433.96970392214837,
          "yval": 4.761904761904762
         },
         "value": 1
        },
        {
         "source": {
          "index": 8,
          "label": "x9",
          "label_display": "none",
          "px": 358.8291461241985,
          "py": 449.07773963324667,
          "shape": "circle",
          "shape_attrs": {
           "r": 15
          },
          "value": null,
          "weight": 20,
          "x": 358.8271265687761,
          "xval": 20,
          "y": 449.1618443720512,
          "yval": 30.76923076923077
         },
         "target": {
          "fixed": 0,
          "index": 12,
          "label": "h1,1",
          "label_display": "none",
          "px": 438.30653773859984,
          "py": 377.7211018453636,
          "shape": "circle",
          "shape_attrs": {
           "r": 15
          },
          "value": null,
          "weight": 22,
          "x": 438.30653773859984,
          "xval": 40,
          "y": 377.7211018453636,
          "yval": 95.23809523809524
         },
         "value": 1
        },
        {
         "source": {
          "index": 8,
          "label": "x9",
          "label_display": "none",
          "px": 358.8291461241985,
          "py": 449.07773963324667,
          "shape": "circle",
          "shape_attrs": {
           "r": 15
          },
          "value": null,
          "weight": 20,
          "x": 358.8271265687761,
          "xval": 20,
          "y": 449.1618443720512,
          "yval": 30.76923076923077
         },
         "target": {
          "fixed": 0,
          "index": 13,
          "label": "h1,2",
          "label_display": "none",
          "px": 445.4830710949258,
          "py": 407.40580969271514,
          "shape": "circle",
          "shape_attrs": {
           "r": 15
          },
          "value": null,
          "weight": 22,
          "x": 445.4830710949258,
          "xval": 40,
          "y": 407.40580969271514,
          "yval": 90.47619047619048
         },
         "value": 1
        },
        {
         "source": {
          "index": 8,
          "label": "x9",
          "label_display": "none",
          "px": 358.8291461241985,
          "py": 449.07773963324667,
          "shape": "circle",
          "shape_attrs": {
           "r": 15
          },
          "value": null,
          "weight": 20,
          "x": 358.8271265687761,
          "xval": 20,
          "y": 449.1618443720512,
          "yval": 30.76923076923077
         },
         "target": {
          "fixed": 0,
          "index": 14,
          "label": "h1,3",
          "label_display": "none",
          "px": 440.09389561772593,
          "py": 384.9913547714818,
          "shape": "circle",
          "shape_attrs": {
           "r": 15
          },
          "value": null,
          "weight": 22,
          "x": 440.09389561772593,
          "xval": 40,
          "y": 384.9913547714818,
          "yval": 85.71428571428571
         },
         "value": 1
        },
        {
         "source": {
          "index": 8,
          "label": "x9",
          "label_display": "none",
          "px": 358.8291461241985,
          "py": 449.07773963324667,
          "shape": "circle",
          "shape_attrs": {
           "r": 15
          },
          "value": null,
          "weight": 20,
          "x": 358.8271265687761,
          "xval": 20,
          "y": 449.1618443720512,
          "yval": 30.76923076923077
         },
         "target": {
          "index": 15,
          "label": "h1,4",
          "label_display": "none",
          "px": 442.03390585799406,
          "py": 393.18624031821906,
          "shape": "circle",
          "shape_attrs": {
           "r": 15
          },
          "value": null,
          "weight": 22,
          "x": 442.0252187451049,
          "xval": 40,
          "y": 393.18099926055953,
          "yval": 80.95238095238095
         },
         "value": 1
        },
        {
         "source": {
          "index": 8,
          "label": "x9",
          "label_display": "none",
          "px": 358.8291461241985,
          "py": 449.07773963324667,
          "shape": "circle",
          "shape_attrs": {
           "r": 15
          },
          "value": null,
          "weight": 20,
          "x": 358.8271265687761,
          "xval": 20,
          "y": 449.1618443720512,
          "yval": 30.76923076923077
         },
         "target": {
          "fixed": 0,
          "index": 16,
          "label": "h1,5",
          "label_display": "none",
          "px": 439.3038323400098,
          "py": 381.26898657152276,
          "shape": "circle",
          "shape_attrs": {
           "r": 15
          },
          "value": null,
          "weight": 22,
          "x": 439.3038323400098,
          "xval": 40,
          "y": 381.26898657152276,
          "yval": 76.19047619047619
         },
         "value": 1
        },
        {
         "source": {
          "index": 8,
          "label": "x9",
          "label_display": "none",
          "px": 358.8291461241985,
          "py": 449.07773963324667,
          "shape": "circle",
          "shape_attrs": {
           "r": 15
          },
          "value": null,
          "weight": 20,
          "x": 358.8271265687761,
          "xval": 20,
          "y": 449.1618443720512,
          "yval": 30.76923076923077
         },
         "target": {
          "index": 17,
          "label": "h1,6",
          "label_display": "none",
          "px": 436.1763853376012,
          "py": 367.0391092191069,
          "shape": "circle",
          "shape_attrs": {
           "r": 15
          },
          "value": null,
          "weight": 22,
          "x": 436.1319756129927,
          "xval": 40,
          "y": 366.9193372066237,
          "yval": 71.42857142857143
         },
         "value": 1
        },
        {
         "source": {
          "index": 8,
          "label": "x9",
          "label_display": "none",
          "px": 358.8291461241985,
          "py": 449.07773963324667,
          "shape": "circle",
          "shape_attrs": {
           "r": 15
          },
          "value": null,
          "weight": 20,
          "x": 358.8271265687761,
          "xval": 20,
          "y": 449.1618443720512,
          "yval": 30.76923076923077
         },
         "target": {
          "index": 18,
          "label": "h1,7",
          "label_display": "none",
          "px": 444.28747307460884,
          "py": 402.5857074144147,
          "shape": "circle",
          "shape_attrs": {
           "r": 15
          },
          "value": null,
          "weight": 22,
          "x": 444.28189322820117,
          "xval": 40,
          "y": 402.5864217166488,
          "yval": 66.66666666666667
         },
         "value": 1
        },
        {
         "source": {
          "index": 8,
          "label": "x9",
          "label_display": "none",
          "px": 358.8291461241985,
          "py": 449.07773963324667,
          "shape": "circle",
          "shape_attrs": {
           "r": 15
          },
          "value": null,
          "weight": 20,
          "x": 358.8271265687761,
          "xval": 20,
          "y": 449.1618443720512,
          "yval": 30.76923076923077
         },
         "target": {
          "index": 19,
          "label": "h1,8",
          "label_display": "none",
          "px": 436.96694163354766,
          "py": 370.835219648978,
          "shape": "circle",
          "shape_attrs": {
           "r": 15
          },
          "value": null,
          "weight": 22,
          "x": 436.93081668870667,
          "xval": 40,
          "y": 370.7487234007221,
          "yval": 61.904761904761905
         },
         "value": 1
        },
        {
         "source": {
          "index": 8,
          "label": "x9",
          "label_display": "none",
          "px": 358.8291461241985,
          "py": 449.07773963324667,
          "shape": "circle",
          "shape_attrs": {
           "r": 15
          },
          "value": null,
          "weight": 20,
          "x": 358.8271265687761,
          "xval": 20,
          "y": 449.1618443720512,
          "yval": 30.76923076923077
         },
         "target": {
          "index": 20,
          "label": "h1,9",
          "label_display": "none",
          "px": 443.12903262452926,
          "py": 397.77183731760726,
          "shape": "circle",
          "shape_attrs": {
           "r": 15
          },
          "value": null,
          "weight": 22,
          "x": 443.1225250371738,
          "xval": 40,
          "y": 397.77048960247726,
          "yval": 57.14285714285714
         },
         "value": 1
        },
        {
         "source": {
          "index": 8,
          "label": "x9",
          "label_display": "none",
          "px": 358.8291461241985,
          "py": 449.07773963324667,
          "shape": "circle",
          "shape_attrs": {
           "r": 15
          },
          "value": null,
          "weight": 20,
          "x": 358.8271265687761,
          "xval": 20,
          "y": 449.1618443720512,
          "yval": 30.76923076923077
         },
         "target": {
          "index": 21,
          "label": "h1,10",
          "label_display": "none",
          "px": 453.47719733511025,
          "py": 437.1791317957166,
          "shape": "circle",
          "shape_attrs": {
           "r": 15
          },
          "value": null,
          "weight": 22,
          "x": 453.50705008596486,
          "xval": 40,
          "y": 437.28186603254966,
          "yval": 52.38095238095238
         },
         "value": 1
        },
        {
         "source": {
          "index": 8,
          "label": "x9",
          "label_display": "none",
          "px": 358.8291461241985,
          "py": 449.07773963324667,
          "shape": "circle",
          "shape_attrs": {
           "r": 15
          },
          "value": null,
          "weight": 20,
          "x": 358.8271265687761,
          "xval": 20,
          "y": 449.1618443720512,
          "yval": 30.76923076923077
         },
         "target": {
          "index": 22,
          "label": "h1,11",
          "label_display": "none",
          "px": 450.6931880317312,
          "py": 427.36854915169533,
          "shape": "circle",
          "shape_attrs": {
           "r": 15
          },
          "value": null,
          "weight": 22,
          "x": 450.70224459711284,
          "xval": 40,
          "y": 427.40707742900895,
          "yval": 47.61904761904762
         },
         "value": 1
        },
        {
         "source": {
          "index": 8,
          "label": "x9",
          "label_display": "none",
          "px": 358.8291461241985,
          "py": 449.07773963324667,
          "shape": "circle",
          "shape_attrs": {
           "r": 15
          },
          "value": null,
          "weight": 20,
          "x": 358.8271265687761,
          "xval": 20,
          "y": 449.1618443720512,
          "yval": 30.76923076923077
         },
         "target": {
          "index": 23,
          "label": "h1,12",
          "label_display": "none",
          "px": 451.616956869591,
          "py": 430.68399636795544,
          "shape": "circle",
          "shape_attrs": {
           "r": 15
          },
          "value": null,
          "weight": 22,
          "x": 451.6308613454441,
          "xval": 40,
          "y": 430.73607807474326,
          "yval": 42.857142857142854
         },
         "value": 1
        },
        {
         "source": {
          "index": 8,
          "label": "x9",
          "label_display": "none",
          "px": 358.8291461241985,
          "py": 449.07773963324667,
          "shape": "circle",
          "shape_attrs": {
           "r": 15
          },
          "value": null,
          "weight": 20,
          "x": 358.8271265687761,
          "xval": 20,
          "y": 449.1618443720512,
          "yval": 30.76923076923077
         },
         "target": {
          "index": 24,
          "label": "h1,13",
          "label_display": "none",
          "px": 449.7701933541918,
          "py": 423.95395938325044,
          "shape": "circle",
          "shape_attrs": {
           "r": 15
          },
          "value": null,
          "weight": 22,
          "x": 449.77543161498545,
          "xval": 40,
          "y": 423.979666438766,
          "yval": 38.095238095238095
         },
         "value": 1
        },
        {
         "source": {
          "index": 8,
          "label": "x9",
          "label_display": "none",
          "px": 358.8291461241985,
          "py": 449.07773963324667,
          "shape": "circle",
          "shape_attrs": {
           "r": 15
          },
          "value": null,
          "weight": 20,
          "x": 358.8271265687761,
          "xval": 20,
          "y": 449.1618443720512,
          "yval": 30.76923076923077
         },
         "target": {
          "index": 25,
          "label": "h1,14",
          "label_display": "none",
          "px": 447.77652249109667,
          "py": 416.4027794386295,
          "shape": "circle",
          "shape_attrs": {
           "r": 15
          },
          "value": null,
          "weight": 22,
          "x": 447.77533228674633,
          "xval": 40,
          "y": 416.4089800756498,
          "yval": 33.333333333333336
         },
         "value": 1
        },
        {
         "source": {
          "index": 8,
          "label": "x9",
          "label_display": "none",
          "px": 358.8291461241985,
          "py": 449.07773963324667,
          "shape": "circle",
          "shape_attrs": {
           "r": 15
          },
          "value": null,
          "weight": 20,
          "x": 358.8271265687761,
          "xval": 20,
          "y": 449.1618443720512,
          "yval": 30.76923076923077
         },
         "target": {
          "fixed": 0,
          "index": 26,
          "label": "h1,15",
          "label_display": "none",
          "px": 437.84986949367203,
          "py": 374.25132654913494,
          "shape": "circle",
          "shape_attrs": {
           "r": 15
          },
          "value": null,
          "weight": 22,
          "x": 437.84986949367203,
          "xval": 40,
          "y": 374.25132654913494,
          "yval": 28.57142857142857
         },
         "value": 1
        },
        {
         "source": {
          "index": 8,
          "label": "x9",
          "label_display": "none",
          "px": 358.8291461241985,
          "py": 449.07773963324667,
          "shape": "circle",
          "shape_attrs": {
           "r": 15
          },
          "value": null,
          "weight": 20,
          "x": 358.8271265687761,
          "xval": 20,
          "y": 449.1618443720512,
          "yval": 30.76923076923077
         },
         "target": {
          "index": 27,
          "label": "h1,16",
          "label_display": "none",
          "px": 441.03312194188425,
          "py": 388.9301428056495,
          "shape": "circle",
          "shape_attrs": {
           "r": 15
          },
          "value": null,
          "weight": 22,
          "x": 441.0223311760983,
          "xval": 40,
          "y": 388.9201492326303,
          "yval": 23.80952380952381
         },
         "value": 1
        },
        {
         "source": {
          "index": 8,
          "label": "x9",
          "label_display": "none",
          "px": 358.8291461241985,
          "py": 449.07773963324667,
          "shape": "circle",
          "shape_attrs": {
           "r": 15
          },
          "value": null,
          "weight": 20,
          "x": 358.8271265687761,
          "xval": 20,
          "y": 449.1618443720512,
          "yval": 30.76923076923077
         },
         "target": {
          "index": 28,
          "label": "h1,17",
          "label_display": "none",
          "px": 448.80878786875905,
          "py": 420.35138343623464,
          "shape": "circle",
          "shape_attrs": {
           "r": 15
          },
          "value": null,
          "weight": 22,
          "x": 448.8091799805161,
          "xval": 40,
          "y": 420.3610019925185,
          "yval": 19.047619047619047
         },
         "value": 1
        },
        {
         "source": {
          "index": 8,
          "label": "x9",
          "label_display": "none",
          "px": 358.8291461241985,
          "py": 449.07773963324667,
          "shape": "circle",
          "shape_attrs": {
           "r": 15
          },
          "value": null,
          "weight": 20,
          "x": 358.8271265687761,
          "xval": 20,
          "y": 449.1618443720512,
          "yval": 30.76923076923077
         },
         "target": {
          "index": 29,
          "label": "h1,18",
          "label_display": "none",
          "px": 446.66133336839465,
          "py": 412.06746080603597,
          "shape": "circle",
          "shape_attrs": {
           "r": 15
          },
          "value": null,
          "weight": 22,
          "x": 446.65836227806636,
          "xval": 40,
          "y": 412.06979862465556,
          "yval": 14.285714285714285
         },
         "value": 1
        },
        {
         "source": {
          "index": 8,
          "label": "x9",
          "label_display": "none",
          "px": 358.8291461241985,
          "py": 449.07773963324667,
          "shape": "circle",
          "shape_attrs": {
           "r": 15
          },
          "value": null,
          "weight": 20,
          "x": 358.8271265687761,
          "xval": 20,
          "y": 449.1618443720512,
          "yval": 30.76923076923077
         },
         "target": {
          "index": 30,
          "label": "h1,19",
          "label_display": "none",
          "px": 454.5331839788234,
          "py": 440.7353981371751,
          "shape": "circle",
          "shape_attrs": {
           "r": 15
          },
          "value": null,
          "weight": 22,
          "x": 454.57338727966345,
          "xval": 40,
          "y": 440.870029182474,
          "yval": 9.523809523809524
         },
         "value": 1
        },
        {
         "source": {
          "index": 8,
          "label": "x9",
          "label_display": "none",
          "px": 358.8291461241985,
          "py": 449.07773963324667,
          "shape": "circle",
          "shape_attrs": {
           "r": 15
          },
          "value": null,
          "weight": 20,
          "x": 358.8271265687761,
          "xval": 20,
          "y": 449.1618443720512,
          "yval": 30.76923076923077
         },
         "target": {
          "index": 31,
          "label": "h1,20",
          "label_display": "none",
          "px": 452.51111853060013,
          "py": 433.8924336038177,
          "shape": "circle",
          "shape_attrs": {
           "r": 15
          },
          "value": null,
          "weight": 22,
          "x": 452.53198152903235,
          "xval": 40,
          "y": 433.96970392214837,
          "yval": 4.761904761904762
         },
         "value": 1
        },
        {
         "source": {
          "index": 9,
          "label": "x10",
          "label_display": "none",
          "px": 350.2348409036163,
          "py": 424.5967295664436,
          "shape": "circle",
          "shape_attrs": {
           "r": 15
          },
          "value": null,
          "weight": 20,
          "x": 350.1955683056573,
          "xval": 20,
          "y": 424.60863574141325,
          "yval": 23.076923076923077
         },
         "target": {
          "fixed": 0,
          "index": 12,
          "label": "h1,1",
          "label_display": "none",
          "px": 438.30653773859984,
          "py": 377.7211018453636,
          "shape": "circle",
          "shape_attrs": {
           "r": 15
          },
          "value": null,
          "weight": 22,
          "x": 438.30653773859984,
          "xval": 40,
          "y": 377.7211018453636,
          "yval": 95.23809523809524
         },
         "value": 1
        },
        {
         "source": {
          "index": 9,
          "label": "x10",
          "label_display": "none",
          "px": 350.2348409036163,
          "py": 424.5967295664436,
          "shape": "circle",
          "shape_attrs": {
           "r": 15
          },
          "value": null,
          "weight": 20,
          "x": 350.1955683056573,
          "xval": 20,
          "y": 424.60863574141325,
          "yval": 23.076923076923077
         },
         "target": {
          "fixed": 0,
          "index": 13,
          "label": "h1,2",
          "label_display": "none",
          "px": 445.4830710949258,
          "py": 407.40580969271514,
          "shape": "circle",
          "shape_attrs": {
           "r": 15
          },
          "value": null,
          "weight": 22,
          "x": 445.4830710949258,
          "xval": 40,
          "y": 407.40580969271514,
          "yval": 90.47619047619048
         },
         "value": 1
        },
        {
         "source": {
          "index": 9,
          "label": "x10",
          "label_display": "none",
          "px": 350.2348409036163,
          "py": 424.5967295664436,
          "shape": "circle",
          "shape_attrs": {
           "r": 15
          },
          "value": null,
          "weight": 20,
          "x": 350.1955683056573,
          "xval": 20,
          "y": 424.60863574141325,
          "yval": 23.076923076923077
         },
         "target": {
          "fixed": 0,
          "index": 14,
          "label": "h1,3",
          "label_display": "none",
          "px": 440.09389561772593,
          "py": 384.9913547714818,
          "shape": "circle",
          "shape_attrs": {
           "r": 15
          },
          "value": null,
          "weight": 22,
          "x": 440.09389561772593,
          "xval": 40,
          "y": 384.9913547714818,
          "yval": 85.71428571428571
         },
         "value": 1
        },
        {
         "source": {
          "index": 9,
          "label": "x10",
          "label_display": "none",
          "px": 350.2348409036163,
          "py": 424.5967295664436,
          "shape": "circle",
          "shape_attrs": {
           "r": 15
          },
          "value": null,
          "weight": 20,
          "x": 350.1955683056573,
          "xval": 20,
          "y": 424.60863574141325,
          "yval": 23.076923076923077
         },
         "target": {
          "index": 15,
          "label": "h1,4",
          "label_display": "none",
          "px": 442.03390585799406,
          "py": 393.18624031821906,
          "shape": "circle",
          "shape_attrs": {
           "r": 15
          },
          "value": null,
          "weight": 22,
          "x": 442.0252187451049,
          "xval": 40,
          "y": 393.18099926055953,
          "yval": 80.95238095238095
         },
         "value": 1
        },
        {
         "source": {
          "index": 9,
          "label": "x10",
          "label_display": "none",
          "px": 350.2348409036163,
          "py": 424.5967295664436,
          "shape": "circle",
          "shape_attrs": {
           "r": 15
          },
          "value": null,
          "weight": 20,
          "x": 350.1955683056573,
          "xval": 20,
          "y": 424.60863574141325,
          "yval": 23.076923076923077
         },
         "target": {
          "fixed": 0,
          "index": 16,
          "label": "h1,5",
          "label_display": "none",
          "px": 439.3038323400098,
          "py": 381.26898657152276,
          "shape": "circle",
          "shape_attrs": {
           "r": 15
          },
          "value": null,
          "weight": 22,
          "x": 439.3038323400098,
          "xval": 40,
          "y": 381.26898657152276,
          "yval": 76.19047619047619
         },
         "value": 1
        },
        {
         "source": {
          "index": 9,
          "label": "x10",
          "label_display": "none",
          "px": 350.2348409036163,
          "py": 424.5967295664436,
          "shape": "circle",
          "shape_attrs": {
           "r": 15
          },
          "value": null,
          "weight": 20,
          "x": 350.1955683056573,
          "xval": 20,
          "y": 424.60863574141325,
          "yval": 23.076923076923077
         },
         "target": {
          "index": 17,
          "label": "h1,6",
          "label_display": "none",
          "px": 436.1763853376012,
          "py": 367.0391092191069,
          "shape": "circle",
          "shape_attrs": {
           "r": 15
          },
          "value": null,
          "weight": 22,
          "x": 436.1319756129927,
          "xval": 40,
          "y": 366.9193372066237,
          "yval": 71.42857142857143
         },
         "value": 1
        },
        {
         "source": {
          "index": 9,
          "label": "x10",
          "label_display": "none",
          "px": 350.2348409036163,
          "py": 424.5967295664436,
          "shape": "circle",
          "shape_attrs": {
           "r": 15
          },
          "value": null,
          "weight": 20,
          "x": 350.1955683056573,
          "xval": 20,
          "y": 424.60863574141325,
          "yval": 23.076923076923077
         },
         "target": {
          "index": 18,
          "label": "h1,7",
          "label_display": "none",
          "px": 444.28747307460884,
          "py": 402.5857074144147,
          "shape": "circle",
          "shape_attrs": {
           "r": 15
          },
          "value": null,
          "weight": 22,
          "x": 444.28189322820117,
          "xval": 40,
          "y": 402.5864217166488,
          "yval": 66.66666666666667
         },
         "value": 1
        },
        {
         "source": {
          "index": 9,
          "label": "x10",
          "label_display": "none",
          "px": 350.2348409036163,
          "py": 424.5967295664436,
          "shape": "circle",
          "shape_attrs": {
           "r": 15
          },
          "value": null,
          "weight": 20,
          "x": 350.1955683056573,
          "xval": 20,
          "y": 424.60863574141325,
          "yval": 23.076923076923077
         },
         "target": {
          "index": 19,
          "label": "h1,8",
          "label_display": "none",
          "px": 436.96694163354766,
          "py": 370.835219648978,
          "shape": "circle",
          "shape_attrs": {
           "r": 15
          },
          "value": null,
          "weight": 22,
          "x": 436.93081668870667,
          "xval": 40,
          "y": 370.7487234007221,
          "yval": 61.904761904761905
         },
         "value": 1
        },
        {
         "source": {
          "index": 9,
          "label": "x10",
          "label_display": "none",
          "px": 350.2348409036163,
          "py": 424.5967295664436,
          "shape": "circle",
          "shape_attrs": {
           "r": 15
          },
          "value": null,
          "weight": 20,
          "x": 350.1955683056573,
          "xval": 20,
          "y": 424.60863574141325,
          "yval": 23.076923076923077
         },
         "target": {
          "index": 20,
          "label": "h1,9",
          "label_display": "none",
          "px": 443.12903262452926,
          "py": 397.77183731760726,
          "shape": "circle",
          "shape_attrs": {
           "r": 15
          },
          "value": null,
          "weight": 22,
          "x": 443.1225250371738,
          "xval": 40,
          "y": 397.77048960247726,
          "yval": 57.14285714285714
         },
         "value": 1
        },
        {
         "source": {
          "index": 9,
          "label": "x10",
          "label_display": "none",
          "px": 350.2348409036163,
          "py": 424.5967295664436,
          "shape": "circle",
          "shape_attrs": {
           "r": 15
          },
          "value": null,
          "weight": 20,
          "x": 350.1955683056573,
          "xval": 20,
          "y": 424.60863574141325,
          "yval": 23.076923076923077
         },
         "target": {
          "index": 21,
          "label": "h1,10",
          "label_display": "none",
          "px": 453.47719733511025,
          "py": 437.1791317957166,
          "shape": "circle",
          "shape_attrs": {
           "r": 15
          },
          "value": null,
          "weight": 22,
          "x": 453.50705008596486,
          "xval": 40,
          "y": 437.28186603254966,
          "yval": 52.38095238095238
         },
         "value": 1
        },
        {
         "source": {
          "index": 9,
          "label": "x10",
          "label_display": "none",
          "px": 350.2348409036163,
          "py": 424.5967295664436,
          "shape": "circle",
          "shape_attrs": {
           "r": 15
          },
          "value": null,
          "weight": 20,
          "x": 350.1955683056573,
          "xval": 20,
          "y": 424.60863574141325,
          "yval": 23.076923076923077
         },
         "target": {
          "index": 22,
          "label": "h1,11",
          "label_display": "none",
          "px": 450.6931880317312,
          "py": 427.36854915169533,
          "shape": "circle",
          "shape_attrs": {
           "r": 15
          },
          "value": null,
          "weight": 22,
          "x": 450.70224459711284,
          "xval": 40,
          "y": 427.40707742900895,
          "yval": 47.61904761904762
         },
         "value": 1
        },
        {
         "source": {
          "index": 9,
          "label": "x10",
          "label_display": "none",
          "px": 350.2348409036163,
          "py": 424.5967295664436,
          "shape": "circle",
          "shape_attrs": {
           "r": 15
          },
          "value": null,
          "weight": 20,
          "x": 350.1955683056573,
          "xval": 20,
          "y": 424.60863574141325,
          "yval": 23.076923076923077
         },
         "target": {
          "index": 23,
          "label": "h1,12",
          "label_display": "none",
          "px": 451.616956869591,
          "py": 430.68399636795544,
          "shape": "circle",
          "shape_attrs": {
           "r": 15
          },
          "value": null,
          "weight": 22,
          "x": 451.6308613454441,
          "xval": 40,
          "y": 430.73607807474326,
          "yval": 42.857142857142854
         },
         "value": 1
        },
        {
         "source": {
          "index": 9,
          "label": "x10",
          "label_display": "none",
          "px": 350.2348409036163,
          "py": 424.5967295664436,
          "shape": "circle",
          "shape_attrs": {
           "r": 15
          },
          "value": null,
          "weight": 20,
          "x": 350.1955683056573,
          "xval": 20,
          "y": 424.60863574141325,
          "yval": 23.076923076923077
         },
         "target": {
          "index": 24,
          "label": "h1,13",
          "label_display": "none",
          "px": 449.7701933541918,
          "py": 423.95395938325044,
          "shape": "circle",
          "shape_attrs": {
           "r": 15
          },
          "value": null,
          "weight": 22,
          "x": 449.77543161498545,
          "xval": 40,
          "y": 423.979666438766,
          "yval": 38.095238095238095
         },
         "value": 1
        },
        {
         "source": {
          "index": 9,
          "label": "x10",
          "label_display": "none",
          "px": 350.2348409036163,
          "py": 424.5967295664436,
          "shape": "circle",
          "shape_attrs": {
           "r": 15
          },
          "value": null,
          "weight": 20,
          "x": 350.1955683056573,
          "xval": 20,
          "y": 424.60863574141325,
          "yval": 23.076923076923077
         },
         "target": {
          "index": 25,
          "label": "h1,14",
          "label_display": "none",
          "px": 447.77652249109667,
          "py": 416.4027794386295,
          "shape": "circle",
          "shape_attrs": {
           "r": 15
          },
          "value": null,
          "weight": 22,
          "x": 447.77533228674633,
          "xval": 40,
          "y": 416.4089800756498,
          "yval": 33.333333333333336
         },
         "value": 1
        },
        {
         "source": {
          "index": 9,
          "label": "x10",
          "label_display": "none",
          "px": 350.2348409036163,
          "py": 424.5967295664436,
          "shape": "circle",
          "shape_attrs": {
           "r": 15
          },
          "value": null,
          "weight": 20,
          "x": 350.1955683056573,
          "xval": 20,
          "y": 424.60863574141325,
          "yval": 23.076923076923077
         },
         "target": {
          "fixed": 0,
          "index": 26,
          "label": "h1,15",
          "label_display": "none",
          "px": 437.84986949367203,
          "py": 374.25132654913494,
          "shape": "circle",
          "shape_attrs": {
           "r": 15
          },
          "value": null,
          "weight": 22,
          "x": 437.84986949367203,
          "xval": 40,
          "y": 374.25132654913494,
          "yval": 28.57142857142857
         },
         "value": 1
        },
        {
         "source": {
          "index": 9,
          "label": "x10",
          "label_display": "none",
          "px": 350.2348409036163,
          "py": 424.5967295664436,
          "shape": "circle",
          "shape_attrs": {
           "r": 15
          },
          "value": null,
          "weight": 20,
          "x": 350.1955683056573,
          "xval": 20,
          "y": 424.60863574141325,
          "yval": 23.076923076923077
         },
         "target": {
          "index": 27,
          "label": "h1,16",
          "label_display": "none",
          "px": 441.03312194188425,
          "py": 388.9301428056495,
          "shape": "circle",
          "shape_attrs": {
           "r": 15
          },
          "value": null,
          "weight": 22,
          "x": 441.0223311760983,
          "xval": 40,
          "y": 388.9201492326303,
          "yval": 23.80952380952381
         },
         "value": 1
        },
        {
         "source": {
          "index": 9,
          "label": "x10",
          "label_display": "none",
          "px": 350.2348409036163,
          "py": 424.5967295664436,
          "shape": "circle",
          "shape_attrs": {
           "r": 15
          },
          "value": null,
          "weight": 20,
          "x": 350.1955683056573,
          "xval": 20,
          "y": 424.60863574141325,
          "yval": 23.076923076923077
         },
         "target": {
          "index": 28,
          "label": "h1,17",
          "label_display": "none",
          "px": 448.80878786875905,
          "py": 420.35138343623464,
          "shape": "circle",
          "shape_attrs": {
           "r": 15
          },
          "value": null,
          "weight": 22,
          "x": 448.8091799805161,
          "xval": 40,
          "y": 420.3610019925185,
          "yval": 19.047619047619047
         },
         "value": 1
        },
        {
         "source": {
          "index": 9,
          "label": "x10",
          "label_display": "none",
          "px": 350.2348409036163,
          "py": 424.5967295664436,
          "shape": "circle",
          "shape_attrs": {
           "r": 15
          },
          "value": null,
          "weight": 20,
          "x": 350.1955683056573,
          "xval": 20,
          "y": 424.60863574141325,
          "yval": 23.076923076923077
         },
         "target": {
          "index": 29,
          "label": "h1,18",
          "label_display": "none",
          "px": 446.66133336839465,
          "py": 412.06746080603597,
          "shape": "circle",
          "shape_attrs": {
           "r": 15
          },
          "value": null,
          "weight": 22,
          "x": 446.65836227806636,
          "xval": 40,
          "y": 412.06979862465556,
          "yval": 14.285714285714285
         },
         "value": 1
        },
        {
         "source": {
          "index": 9,
          "label": "x10",
          "label_display": "none",
          "px": 350.2348409036163,
          "py": 424.5967295664436,
          "shape": "circle",
          "shape_attrs": {
           "r": 15
          },
          "value": null,
          "weight": 20,
          "x": 350.1955683056573,
          "xval": 20,
          "y": 424.60863574141325,
          "yval": 23.076923076923077
         },
         "target": {
          "index": 30,
          "label": "h1,19",
          "label_display": "none",
          "px": 454.5331839788234,
          "py": 440.7353981371751,
          "shape": "circle",
          "shape_attrs": {
           "r": 15
          },
          "value": null,
          "weight": 22,
          "x": 454.57338727966345,
          "xval": 40,
          "y": 440.870029182474,
          "yval": 9.523809523809524
         },
         "value": 1
        },
        {
         "source": {
          "index": 9,
          "label": "x10",
          "label_display": "none",
          "px": 350.2348409036163,
          "py": 424.5967295664436,
          "shape": "circle",
          "shape_attrs": {
           "r": 15
          },
          "value": null,
          "weight": 20,
          "x": 350.1955683056573,
          "xval": 20,
          "y": 424.60863574141325,
          "yval": 23.076923076923077
         },
         "target": {
          "index": 31,
          "label": "h1,20",
          "label_display": "none",
          "px": 452.51111853060013,
          "py": 433.8924336038177,
          "shape": "circle",
          "shape_attrs": {
           "r": 15
          },
          "value": null,
          "weight": 22,
          "x": 452.53198152903235,
          "xval": 40,
          "y": 433.96970392214837,
          "yval": 4.761904761904762
         },
         "value": 1
        },
        {
         "source": {
          "index": 10,
          "label": "x11",
          "label_display": "none",
          "px": 351.34055233776166,
          "py": 429.23557739439275,
          "shape": "circle",
          "shape_attrs": {
           "r": 15
          },
          "value": null,
          "weight": 20,
          "x": 351.3057445861824,
          "xval": 20,
          "y": 429.26248221265405,
          "yval": 15.384615384615385
         },
         "target": {
          "fixed": 0,
          "index": 12,
          "label": "h1,1",
          "label_display": "none",
          "px": 438.30653773859984,
          "py": 377.7211018453636,
          "shape": "circle",
          "shape_attrs": {
           "r": 15
          },
          "value": null,
          "weight": 22,
          "x": 438.30653773859984,
          "xval": 40,
          "y": 377.7211018453636,
          "yval": 95.23809523809524
         },
         "value": 1
        },
        {
         "source": {
          "index": 10,
          "label": "x11",
          "label_display": "none",
          "px": 351.34055233776166,
          "py": 429.23557739439275,
          "shape": "circle",
          "shape_attrs": {
           "r": 15
          },
          "value": null,
          "weight": 20,
          "x": 351.3057445861824,
          "xval": 20,
          "y": 429.26248221265405,
          "yval": 15.384615384615385
         },
         "target": {
          "fixed": 0,
          "index": 13,
          "label": "h1,2",
          "label_display": "none",
          "px": 445.4830710949258,
          "py": 407.40580969271514,
          "shape": "circle",
          "shape_attrs": {
           "r": 15
          },
          "value": null,
          "weight": 22,
          "x": 445.4830710949258,
          "xval": 40,
          "y": 407.40580969271514,
          "yval": 90.47619047619048
         },
         "value": 1
        },
        {
         "source": {
          "index": 10,
          "label": "x11",
          "label_display": "none",
          "px": 351.34055233776166,
          "py": 429.23557739439275,
          "shape": "circle",
          "shape_attrs": {
           "r": 15
          },
          "value": null,
          "weight": 20,
          "x": 351.3057445861824,
          "xval": 20,
          "y": 429.26248221265405,
          "yval": 15.384615384615385
         },
         "target": {
          "fixed": 0,
          "index": 14,
          "label": "h1,3",
          "label_display": "none",
          "px": 440.09389561772593,
          "py": 384.9913547714818,
          "shape": "circle",
          "shape_attrs": {
           "r": 15
          },
          "value": null,
          "weight": 22,
          "x": 440.09389561772593,
          "xval": 40,
          "y": 384.9913547714818,
          "yval": 85.71428571428571
         },
         "value": 1
        },
        {
         "source": {
          "index": 10,
          "label": "x11",
          "label_display": "none",
          "px": 351.34055233776166,
          "py": 429.23557739439275,
          "shape": "circle",
          "shape_attrs": {
           "r": 15
          },
          "value": null,
          "weight": 20,
          "x": 351.3057445861824,
          "xval": 20,
          "y": 429.26248221265405,
          "yval": 15.384615384615385
         },
         "target": {
          "index": 15,
          "label": "h1,4",
          "label_display": "none",
          "px": 442.03390585799406,
          "py": 393.18624031821906,
          "shape": "circle",
          "shape_attrs": {
           "r": 15
          },
          "value": null,
          "weight": 22,
          "x": 442.0252187451049,
          "xval": 40,
          "y": 393.18099926055953,
          "yval": 80.95238095238095
         },
         "value": 1
        },
        {
         "source": {
          "index": 10,
          "label": "x11",
          "label_display": "none",
          "px": 351.34055233776166,
          "py": 429.23557739439275,
          "shape": "circle",
          "shape_attrs": {
           "r": 15
          },
          "value": null,
          "weight": 20,
          "x": 351.3057445861824,
          "xval": 20,
          "y": 429.26248221265405,
          "yval": 15.384615384615385
         },
         "target": {
          "fixed": 0,
          "index": 16,
          "label": "h1,5",
          "label_display": "none",
          "px": 439.3038323400098,
          "py": 381.26898657152276,
          "shape": "circle",
          "shape_attrs": {
           "r": 15
          },
          "value": null,
          "weight": 22,
          "x": 439.3038323400098,
          "xval": 40,
          "y": 381.26898657152276,
          "yval": 76.19047619047619
         },
         "value": 1
        },
        {
         "source": {
          "index": 10,
          "label": "x11",
          "label_display": "none",
          "px": 351.34055233776166,
          "py": 429.23557739439275,
          "shape": "circle",
          "shape_attrs": {
           "r": 15
          },
          "value": null,
          "weight": 20,
          "x": 351.3057445861824,
          "xval": 20,
          "y": 429.26248221265405,
          "yval": 15.384615384615385
         },
         "target": {
          "index": 17,
          "label": "h1,6",
          "label_display": "none",
          "px": 436.1763853376012,
          "py": 367.0391092191069,
          "shape": "circle",
          "shape_attrs": {
           "r": 15
          },
          "value": null,
          "weight": 22,
          "x": 436.1319756129927,
          "xval": 40,
          "y": 366.9193372066237,
          "yval": 71.42857142857143
         },
         "value": 1
        },
        {
         "source": {
          "index": 10,
          "label": "x11",
          "label_display": "none",
          "px": 351.34055233776166,
          "py": 429.23557739439275,
          "shape": "circle",
          "shape_attrs": {
           "r": 15
          },
          "value": null,
          "weight": 20,
          "x": 351.3057445861824,
          "xval": 20,
          "y": 429.26248221265405,
          "yval": 15.384615384615385
         },
         "target": {
          "index": 18,
          "label": "h1,7",
          "label_display": "none",
          "px": 444.28747307460884,
          "py": 402.5857074144147,
          "shape": "circle",
          "shape_attrs": {
           "r": 15
          },
          "value": null,
          "weight": 22,
          "x": 444.28189322820117,
          "xval": 40,
          "y": 402.5864217166488,
          "yval": 66.66666666666667
         },
         "value": 1
        },
        {
         "source": {
          "index": 10,
          "label": "x11",
          "label_display": "none",
          "px": 351.34055233776166,
          "py": 429.23557739439275,
          "shape": "circle",
          "shape_attrs": {
           "r": 15
          },
          "value": null,
          "weight": 20,
          "x": 351.3057445861824,
          "xval": 20,
          "y": 429.26248221265405,
          "yval": 15.384615384615385
         },
         "target": {
          "index": 19,
          "label": "h1,8",
          "label_display": "none",
          "px": 436.96694163354766,
          "py": 370.835219648978,
          "shape": "circle",
          "shape_attrs": {
           "r": 15
          },
          "value": null,
          "weight": 22,
          "x": 436.93081668870667,
          "xval": 40,
          "y": 370.7487234007221,
          "yval": 61.904761904761905
         },
         "value": 1
        },
        {
         "source": {
          "index": 10,
          "label": "x11",
          "label_display": "none",
          "px": 351.34055233776166,
          "py": 429.23557739439275,
          "shape": "circle",
          "shape_attrs": {
           "r": 15
          },
          "value": null,
          "weight": 20,
          "x": 351.3057445861824,
          "xval": 20,
          "y": 429.26248221265405,
          "yval": 15.384615384615385
         },
         "target": {
          "index": 20,
          "label": "h1,9",
          "label_display": "none",
          "px": 443.12903262452926,
          "py": 397.77183731760726,
          "shape": "circle",
          "shape_attrs": {
           "r": 15
          },
          "value": null,
          "weight": 22,
          "x": 443.1225250371738,
          "xval": 40,
          "y": 397.77048960247726,
          "yval": 57.14285714285714
         },
         "value": 1
        },
        {
         "source": {
          "index": 10,
          "label": "x11",
          "label_display": "none",
          "px": 351.34055233776166,
          "py": 429.23557739439275,
          "shape": "circle",
          "shape_attrs": {
           "r": 15
          },
          "value": null,
          "weight": 20,
          "x": 351.3057445861824,
          "xval": 20,
          "y": 429.26248221265405,
          "yval": 15.384615384615385
         },
         "target": {
          "index": 21,
          "label": "h1,10",
          "label_display": "none",
          "px": 453.47719733511025,
          "py": 437.1791317957166,
          "shape": "circle",
          "shape_attrs": {
           "r": 15
          },
          "value": null,
          "weight": 22,
          "x": 453.50705008596486,
          "xval": 40,
          "y": 437.28186603254966,
          "yval": 52.38095238095238
         },
         "value": 1
        },
        {
         "source": {
          "index": 10,
          "label": "x11",
          "label_display": "none",
          "px": 351.34055233776166,
          "py": 429.23557739439275,
          "shape": "circle",
          "shape_attrs": {
           "r": 15
          },
          "value": null,
          "weight": 20,
          "x": 351.3057445861824,
          "xval": 20,
          "y": 429.26248221265405,
          "yval": 15.384615384615385
         },
         "target": {
          "index": 22,
          "label": "h1,11",
          "label_display": "none",
          "px": 450.6931880317312,
          "py": 427.36854915169533,
          "shape": "circle",
          "shape_attrs": {
           "r": 15
          },
          "value": null,
          "weight": 22,
          "x": 450.70224459711284,
          "xval": 40,
          "y": 427.40707742900895,
          "yval": 47.61904761904762
         },
         "value": 1
        },
        {
         "source": {
          "index": 10,
          "label": "x11",
          "label_display": "none",
          "px": 351.34055233776166,
          "py": 429.23557739439275,
          "shape": "circle",
          "shape_attrs": {
           "r": 15
          },
          "value": null,
          "weight": 20,
          "x": 351.3057445861824,
          "xval": 20,
          "y": 429.26248221265405,
          "yval": 15.384615384615385
         },
         "target": {
          "index": 23,
          "label": "h1,12",
          "label_display": "none",
          "px": 451.616956869591,
          "py": 430.68399636795544,
          "shape": "circle",
          "shape_attrs": {
           "r": 15
          },
          "value": null,
          "weight": 22,
          "x": 451.6308613454441,
          "xval": 40,
          "y": 430.73607807474326,
          "yval": 42.857142857142854
         },
         "value": 1
        },
        {
         "source": {
          "index": 10,
          "label": "x11",
          "label_display": "none",
          "px": 351.34055233776166,
          "py": 429.23557739439275,
          "shape": "circle",
          "shape_attrs": {
           "r": 15
          },
          "value": null,
          "weight": 20,
          "x": 351.3057445861824,
          "xval": 20,
          "y": 429.26248221265405,
          "yval": 15.384615384615385
         },
         "target": {
          "index": 24,
          "label": "h1,13",
          "label_display": "none",
          "px": 449.7701933541918,
          "py": 423.95395938325044,
          "shape": "circle",
          "shape_attrs": {
           "r": 15
          },
          "value": null,
          "weight": 22,
          "x": 449.77543161498545,
          "xval": 40,
          "y": 423.979666438766,
          "yval": 38.095238095238095
         },
         "value": 1
        },
        {
         "source": {
          "index": 10,
          "label": "x11",
          "label_display": "none",
          "px": 351.34055233776166,
          "py": 429.23557739439275,
          "shape": "circle",
          "shape_attrs": {
           "r": 15
          },
          "value": null,
          "weight": 20,
          "x": 351.3057445861824,
          "xval": 20,
          "y": 429.26248221265405,
          "yval": 15.384615384615385
         },
         "target": {
          "index": 25,
          "label": "h1,14",
          "label_display": "none",
          "px": 447.77652249109667,
          "py": 416.4027794386295,
          "shape": "circle",
          "shape_attrs": {
           "r": 15
          },
          "value": null,
          "weight": 22,
          "x": 447.77533228674633,
          "xval": 40,
          "y": 416.4089800756498,
          "yval": 33.333333333333336
         },
         "value": 1
        },
        {
         "source": {
          "index": 10,
          "label": "x11",
          "label_display": "none",
          "px": 351.34055233776166,
          "py": 429.23557739439275,
          "shape": "circle",
          "shape_attrs": {
           "r": 15
          },
          "value": null,
          "weight": 20,
          "x": 351.3057445861824,
          "xval": 20,
          "y": 429.26248221265405,
          "yval": 15.384615384615385
         },
         "target": {
          "fixed": 0,
          "index": 26,
          "label": "h1,15",
          "label_display": "none",
          "px": 437.84986949367203,
          "py": 374.25132654913494,
          "shape": "circle",
          "shape_attrs": {
           "r": 15
          },
          "value": null,
          "weight": 22,
          "x": 437.84986949367203,
          "xval": 40,
          "y": 374.25132654913494,
          "yval": 28.57142857142857
         },
         "value": 1
        },
        {
         "source": {
          "index": 10,
          "label": "x11",
          "label_display": "none",
          "px": 351.34055233776166,
          "py": 429.23557739439275,
          "shape": "circle",
          "shape_attrs": {
           "r": 15
          },
          "value": null,
          "weight": 20,
          "x": 351.3057445861824,
          "xval": 20,
          "y": 429.26248221265405,
          "yval": 15.384615384615385
         },
         "target": {
          "index": 27,
          "label": "h1,16",
          "label_display": "none",
          "px": 441.03312194188425,
          "py": 388.9301428056495,
          "shape": "circle",
          "shape_attrs": {
           "r": 15
          },
          "value": null,
          "weight": 22,
          "x": 441.0223311760983,
          "xval": 40,
          "y": 388.9201492326303,
          "yval": 23.80952380952381
         },
         "value": 1
        },
        {
         "source": {
          "index": 10,
          "label": "x11",
          "label_display": "none",
          "px": 351.34055233776166,
          "py": 429.23557739439275,
          "shape": "circle",
          "shape_attrs": {
           "r": 15
          },
          "value": null,
          "weight": 20,
          "x": 351.3057445861824,
          "xval": 20,
          "y": 429.26248221265405,
          "yval": 15.384615384615385
         },
         "target": {
          "index": 28,
          "label": "h1,17",
          "label_display": "none",
          "px": 448.80878786875905,
          "py": 420.35138343623464,
          "shape": "circle",
          "shape_attrs": {
           "r": 15
          },
          "value": null,
          "weight": 22,
          "x": 448.8091799805161,
          "xval": 40,
          "y": 420.3610019925185,
          "yval": 19.047619047619047
         },
         "value": 1
        },
        {
         "source": {
          "index": 10,
          "label": "x11",
          "label_display": "none",
          "px": 351.34055233776166,
          "py": 429.23557739439275,
          "shape": "circle",
          "shape_attrs": {
           "r": 15
          },
          "value": null,
          "weight": 20,
          "x": 351.3057445861824,
          "xval": 20,
          "y": 429.26248221265405,
          "yval": 15.384615384615385
         },
         "target": {
          "index": 29,
          "label": "h1,18",
          "label_display": "none",
          "px": 446.66133336839465,
          "py": 412.06746080603597,
          "shape": "circle",
          "shape_attrs": {
           "r": 15
          },
          "value": null,
          "weight": 22,
          "x": 446.65836227806636,
          "xval": 40,
          "y": 412.06979862465556,
          "yval": 14.285714285714285
         },
         "value": 1
        },
        {
         "source": {
          "index": 10,
          "label": "x11",
          "label_display": "none",
          "px": 351.34055233776166,
          "py": 429.23557739439275,
          "shape": "circle",
          "shape_attrs": {
           "r": 15
          },
          "value": null,
          "weight": 20,
          "x": 351.3057445861824,
          "xval": 20,
          "y": 429.26248221265405,
          "yval": 15.384615384615385
         },
         "target": {
          "index": 30,
          "label": "h1,19",
          "label_display": "none",
          "px": 454.5331839788234,
          "py": 440.7353981371751,
          "shape": "circle",
          "shape_attrs": {
           "r": 15
          },
          "value": null,
          "weight": 22,
          "x": 454.57338727966345,
          "xval": 40,
          "y": 440.870029182474,
          "yval": 9.523809523809524
         },
         "value": 1
        },
        {
         "source": {
          "index": 10,
          "label": "x11",
          "label_display": "none",
          "px": 351.34055233776166,
          "py": 429.23557739439275,
          "shape": "circle",
          "shape_attrs": {
           "r": 15
          },
          "value": null,
          "weight": 20,
          "x": 351.3057445861824,
          "xval": 20,
          "y": 429.26248221265405,
          "yval": 15.384615384615385
         },
         "target": {
          "index": 31,
          "label": "h1,20",
          "label_display": "none",
          "px": 452.51111853060013,
          "py": 433.8924336038177,
          "shape": "circle",
          "shape_attrs": {
           "r": 15
          },
          "value": null,
          "weight": 22,
          "x": 452.53198152903235,
          "xval": 40,
          "y": 433.96970392214837,
          "yval": 4.761904761904762
         },
         "value": 1
        },
        {
         "source": {
          "index": 11,
          "label": "x12",
          "label_display": "none",
          "px": 352.6686766055288,
          "py": 433.8364505361106,
          "shape": "circle",
          "shape_attrs": {
           "r": 15
          },
          "value": null,
          "weight": 20,
          "x": 352.63949182740373,
          "xval": 20,
          "y": 433.8773686865644,
          "yval": 7.6923076923076925
         },
         "target": {
          "fixed": 0,
          "index": 12,
          "label": "h1,1",
          "label_display": "none",
          "px": 438.30653773859984,
          "py": 377.7211018453636,
          "shape": "circle",
          "shape_attrs": {
           "r": 15
          },
          "value": null,
          "weight": 22,
          "x": 438.30653773859984,
          "xval": 40,
          "y": 377.7211018453636,
          "yval": 95.23809523809524
         },
         "value": 1
        },
        {
         "source": {
          "index": 11,
          "label": "x12",
          "label_display": "none",
          "px": 352.6686766055288,
          "py": 433.8364505361106,
          "shape": "circle",
          "shape_attrs": {
           "r": 15
          },
          "value": null,
          "weight": 20,
          "x": 352.63949182740373,
          "xval": 20,
          "y": 433.8773686865644,
          "yval": 7.6923076923076925
         },
         "target": {
          "fixed": 0,
          "index": 13,
          "label": "h1,2",
          "label_display": "none",
          "px": 445.4830710949258,
          "py": 407.40580969271514,
          "shape": "circle",
          "shape_attrs": {
           "r": 15
          },
          "value": null,
          "weight": 22,
          "x": 445.4830710949258,
          "xval": 40,
          "y": 407.40580969271514,
          "yval": 90.47619047619048
         },
         "value": 1
        },
        {
         "source": {
          "index": 11,
          "label": "x12",
          "label_display": "none",
          "px": 352.6686766055288,
          "py": 433.8364505361106,
          "shape": "circle",
          "shape_attrs": {
           "r": 15
          },
          "value": null,
          "weight": 20,
          "x": 352.63949182740373,
          "xval": 20,
          "y": 433.8773686865644,
          "yval": 7.6923076923076925
         },
         "target": {
          "fixed": 0,
          "index": 14,
          "label": "h1,3",
          "label_display": "none",
          "px": 440.09389561772593,
          "py": 384.9913547714818,
          "shape": "circle",
          "shape_attrs": {
           "r": 15
          },
          "value": null,
          "weight": 22,
          "x": 440.09389561772593,
          "xval": 40,
          "y": 384.9913547714818,
          "yval": 85.71428571428571
         },
         "value": 1
        },
        {
         "source": {
          "index": 11,
          "label": "x12",
          "label_display": "none",
          "px": 352.6686766055288,
          "py": 433.8364505361106,
          "shape": "circle",
          "shape_attrs": {
           "r": 15
          },
          "value": null,
          "weight": 20,
          "x": 352.63949182740373,
          "xval": 20,
          "y": 433.8773686865644,
          "yval": 7.6923076923076925
         },
         "target": {
          "index": 15,
          "label": "h1,4",
          "label_display": "none",
          "px": 442.03390585799406,
          "py": 393.18624031821906,
          "shape": "circle",
          "shape_attrs": {
           "r": 15
          },
          "value": null,
          "weight": 22,
          "x": 442.0252187451049,
          "xval": 40,
          "y": 393.18099926055953,
          "yval": 80.95238095238095
         },
         "value": 1
        },
        {
         "source": {
          "index": 11,
          "label": "x12",
          "label_display": "none",
          "px": 352.6686766055288,
          "py": 433.8364505361106,
          "shape": "circle",
          "shape_attrs": {
           "r": 15
          },
          "value": null,
          "weight": 20,
          "x": 352.63949182740373,
          "xval": 20,
          "y": 433.8773686865644,
          "yval": 7.6923076923076925
         },
         "target": {
          "fixed": 0,
          "index": 16,
          "label": "h1,5",
          "label_display": "none",
          "px": 439.3038323400098,
          "py": 381.26898657152276,
          "shape": "circle",
          "shape_attrs": {
           "r": 15
          },
          "value": null,
          "weight": 22,
          "x": 439.3038323400098,
          "xval": 40,
          "y": 381.26898657152276,
          "yval": 76.19047619047619
         },
         "value": 1
        },
        {
         "source": {
          "index": 11,
          "label": "x12",
          "label_display": "none",
          "px": 352.6686766055288,
          "py": 433.8364505361106,
          "shape": "circle",
          "shape_attrs": {
           "r": 15
          },
          "value": null,
          "weight": 20,
          "x": 352.63949182740373,
          "xval": 20,
          "y": 433.8773686865644,
          "yval": 7.6923076923076925
         },
         "target": {
          "index": 17,
          "label": "h1,6",
          "label_display": "none",
          "px": 436.1763853376012,
          "py": 367.0391092191069,
          "shape": "circle",
          "shape_attrs": {
           "r": 15
          },
          "value": null,
          "weight": 22,
          "x": 436.1319756129927,
          "xval": 40,
          "y": 366.9193372066237,
          "yval": 71.42857142857143
         },
         "value": 1
        },
        {
         "source": {
          "index": 11,
          "label": "x12",
          "label_display": "none",
          "px": 352.6686766055288,
          "py": 433.8364505361106,
          "shape": "circle",
          "shape_attrs": {
           "r": 15
          },
          "value": null,
          "weight": 20,
          "x": 352.63949182740373,
          "xval": 20,
          "y": 433.8773686865644,
          "yval": 7.6923076923076925
         },
         "target": {
          "index": 18,
          "label": "h1,7",
          "label_display": "none",
          "px": 444.28747307460884,
          "py": 402.5857074144147,
          "shape": "circle",
          "shape_attrs": {
           "r": 15
          },
          "value": null,
          "weight": 22,
          "x": 444.28189322820117,
          "xval": 40,
          "y": 402.5864217166488,
          "yval": 66.66666666666667
         },
         "value": 1
        },
        {
         "source": {
          "index": 11,
          "label": "x12",
          "label_display": "none",
          "px": 352.6686766055288,
          "py": 433.8364505361106,
          "shape": "circle",
          "shape_attrs": {
           "r": 15
          },
          "value": null,
          "weight": 20,
          "x": 352.63949182740373,
          "xval": 20,
          "y": 433.8773686865644,
          "yval": 7.6923076923076925
         },
         "target": {
          "index": 19,
          "label": "h1,8",
          "label_display": "none",
          "px": 436.96694163354766,
          "py": 370.835219648978,
          "shape": "circle",
          "shape_attrs": {
           "r": 15
          },
          "value": null,
          "weight": 22,
          "x": 436.93081668870667,
          "xval": 40,
          "y": 370.7487234007221,
          "yval": 61.904761904761905
         },
         "value": 1
        },
        {
         "source": {
          "index": 11,
          "label": "x12",
          "label_display": "none",
          "px": 352.6686766055288,
          "py": 433.8364505361106,
          "shape": "circle",
          "shape_attrs": {
           "r": 15
          },
          "value": null,
          "weight": 20,
          "x": 352.63949182740373,
          "xval": 20,
          "y": 433.8773686865644,
          "yval": 7.6923076923076925
         },
         "target": {
          "index": 20,
          "label": "h1,9",
          "label_display": "none",
          "px": 443.12903262452926,
          "py": 397.77183731760726,
          "shape": "circle",
          "shape_attrs": {
           "r": 15
          },
          "value": null,
          "weight": 22,
          "x": 443.1225250371738,
          "xval": 40,
          "y": 397.77048960247726,
          "yval": 57.14285714285714
         },
         "value": 1
        },
        {
         "source": {
          "index": 11,
          "label": "x12",
          "label_display": "none",
          "px": 352.6686766055288,
          "py": 433.8364505361106,
          "shape": "circle",
          "shape_attrs": {
           "r": 15
          },
          "value": null,
          "weight": 20,
          "x": 352.63949182740373,
          "xval": 20,
          "y": 433.8773686865644,
          "yval": 7.6923076923076925
         },
         "target": {
          "index": 21,
          "label": "h1,10",
          "label_display": "none",
          "px": 453.47719733511025,
          "py": 437.1791317957166,
          "shape": "circle",
          "shape_attrs": {
           "r": 15
          },
          "value": null,
          "weight": 22,
          "x": 453.50705008596486,
          "xval": 40,
          "y": 437.28186603254966,
          "yval": 52.38095238095238
         },
         "value": 1
        },
        {
         "source": {
          "index": 11,
          "label": "x12",
          "label_display": "none",
          "px": 352.6686766055288,
          "py": 433.8364505361106,
          "shape": "circle",
          "shape_attrs": {
           "r": 15
          },
          "value": null,
          "weight": 20,
          "x": 352.63949182740373,
          "xval": 20,
          "y": 433.8773686865644,
          "yval": 7.6923076923076925
         },
         "target": {
          "index": 22,
          "label": "h1,11",
          "label_display": "none",
          "px": 450.6931880317312,
          "py": 427.36854915169533,
          "shape": "circle",
          "shape_attrs": {
           "r": 15
          },
          "value": null,
          "weight": 22,
          "x": 450.70224459711284,
          "xval": 40,
          "y": 427.40707742900895,
          "yval": 47.61904761904762
         },
         "value": 1
        },
        {
         "source": {
          "index": 11,
          "label": "x12",
          "label_display": "none",
          "px": 352.6686766055288,
          "py": 433.8364505361106,
          "shape": "circle",
          "shape_attrs": {
           "r": 15
          },
          "value": null,
          "weight": 20,
          "x": 352.63949182740373,
          "xval": 20,
          "y": 433.8773686865644,
          "yval": 7.6923076923076925
         },
         "target": {
          "index": 23,
          "label": "h1,12",
          "label_display": "none",
          "px": 451.616956869591,
          "py": 430.68399636795544,
          "shape": "circle",
          "shape_attrs": {
           "r": 15
          },
          "value": null,
          "weight": 22,
          "x": 451.6308613454441,
          "xval": 40,
          "y": 430.73607807474326,
          "yval": 42.857142857142854
         },
         "value": 1
        },
        {
         "source": {
          "index": 11,
          "label": "x12",
          "label_display": "none",
          "px": 352.6686766055288,
          "py": 433.8364505361106,
          "shape": "circle",
          "shape_attrs": {
           "r": 15
          },
          "value": null,
          "weight": 20,
          "x": 352.63949182740373,
          "xval": 20,
          "y": 433.8773686865644,
          "yval": 7.6923076923076925
         },
         "target": {
          "index": 24,
          "label": "h1,13",
          "label_display": "none",
          "px": 449.7701933541918,
          "py": 423.95395938325044,
          "shape": "circle",
          "shape_attrs": {
           "r": 15
          },
          "value": null,
          "weight": 22,
          "x": 449.77543161498545,
          "xval": 40,
          "y": 423.979666438766,
          "yval": 38.095238095238095
         },
         "value": 1
        },
        {
         "source": {
          "index": 11,
          "label": "x12",
          "label_display": "none",
          "px": 352.6686766055288,
          "py": 433.8364505361106,
          "shape": "circle",
          "shape_attrs": {
           "r": 15
          },
          "value": null,
          "weight": 20,
          "x": 352.63949182740373,
          "xval": 20,
          "y": 433.8773686865644,
          "yval": 7.6923076923076925
         },
         "target": {
          "index": 25,
          "label": "h1,14",
          "label_display": "none",
          "px": 447.77652249109667,
          "py": 416.4027794386295,
          "shape": "circle",
          "shape_attrs": {
           "r": 15
          },
          "value": null,
          "weight": 22,
          "x": 447.77533228674633,
          "xval": 40,
          "y": 416.4089800756498,
          "yval": 33.333333333333336
         },
         "value": 1
        },
        {
         "source": {
          "index": 11,
          "label": "x12",
          "label_display": "none",
          "px": 352.6686766055288,
          "py": 433.8364505361106,
          "shape": "circle",
          "shape_attrs": {
           "r": 15
          },
          "value": null,
          "weight": 20,
          "x": 352.63949182740373,
          "xval": 20,
          "y": 433.8773686865644,
          "yval": 7.6923076923076925
         },
         "target": {
          "fixed": 0,
          "index": 26,
          "label": "h1,15",
          "label_display": "none",
          "px": 437.84986949367203,
          "py": 374.25132654913494,
          "shape": "circle",
          "shape_attrs": {
           "r": 15
          },
          "value": null,
          "weight": 22,
          "x": 437.84986949367203,
          "xval": 40,
          "y": 374.25132654913494,
          "yval": 28.57142857142857
         },
         "value": 1
        },
        {
         "source": {
          "index": 11,
          "label": "x12",
          "label_display": "none",
          "px": 352.6686766055288,
          "py": 433.8364505361106,
          "shape": "circle",
          "shape_attrs": {
           "r": 15
          },
          "value": null,
          "weight": 20,
          "x": 352.63949182740373,
          "xval": 20,
          "y": 433.8773686865644,
          "yval": 7.6923076923076925
         },
         "target": {
          "index": 27,
          "label": "h1,16",
          "label_display": "none",
          "px": 441.03312194188425,
          "py": 388.9301428056495,
          "shape": "circle",
          "shape_attrs": {
           "r": 15
          },
          "value": null,
          "weight": 22,
          "x": 441.0223311760983,
          "xval": 40,
          "y": 388.9201492326303,
          "yval": 23.80952380952381
         },
         "value": 1
        },
        {
         "source": {
          "index": 11,
          "label": "x12",
          "label_display": "none",
          "px": 352.6686766055288,
          "py": 433.8364505361106,
          "shape": "circle",
          "shape_attrs": {
           "r": 15
          },
          "value": null,
          "weight": 20,
          "x": 352.63949182740373,
          "xval": 20,
          "y": 433.8773686865644,
          "yval": 7.6923076923076925
         },
         "target": {
          "index": 28,
          "label": "h1,17",
          "label_display": "none",
          "px": 448.80878786875905,
          "py": 420.35138343623464,
          "shape": "circle",
          "shape_attrs": {
           "r": 15
          },
          "value": null,
          "weight": 22,
          "x": 448.8091799805161,
          "xval": 40,
          "y": 420.3610019925185,
          "yval": 19.047619047619047
         },
         "value": 1
        },
        {
         "source": {
          "index": 11,
          "label": "x12",
          "label_display": "none",
          "px": 352.6686766055288,
          "py": 433.8364505361106,
          "shape": "circle",
          "shape_attrs": {
           "r": 15
          },
          "value": null,
          "weight": 20,
          "x": 352.63949182740373,
          "xval": 20,
          "y": 433.8773686865644,
          "yval": 7.6923076923076925
         },
         "target": {
          "index": 29,
          "label": "h1,18",
          "label_display": "none",
          "px": 446.66133336839465,
          "py": 412.06746080603597,
          "shape": "circle",
          "shape_attrs": {
           "r": 15
          },
          "value": null,
          "weight": 22,
          "x": 446.65836227806636,
          "xval": 40,
          "y": 412.06979862465556,
          "yval": 14.285714285714285
         },
         "value": 1
        },
        {
         "source": {
          "index": 11,
          "label": "x12",
          "label_display": "none",
          "px": 352.6686766055288,
          "py": 433.8364505361106,
          "shape": "circle",
          "shape_attrs": {
           "r": 15
          },
          "value": null,
          "weight": 20,
          "x": 352.63949182740373,
          "xval": 20,
          "y": 433.8773686865644,
          "yval": 7.6923076923076925
         },
         "target": {
          "index": 30,
          "label": "h1,19",
          "label_display": "none",
          "px": 454.5331839788234,
          "py": 440.7353981371751,
          "shape": "circle",
          "shape_attrs": {
           "r": 15
          },
          "value": null,
          "weight": 22,
          "x": 454.57338727966345,
          "xval": 40,
          "y": 440.870029182474,
          "yval": 9.523809523809524
         },
         "value": 1
        },
        {
         "source": {
          "index": 11,
          "label": "x12",
          "label_display": "none",
          "px": 352.6686766055288,
          "py": 433.8364505361106,
          "shape": "circle",
          "shape_attrs": {
           "r": 15
          },
          "value": null,
          "weight": 20,
          "x": 352.63949182740373,
          "xval": 20,
          "y": 433.8773686865644,
          "yval": 7.6923076923076925
         },
         "target": {
          "index": 31,
          "label": "h1,20",
          "label_display": "none",
          "px": 452.51111853060013,
          "py": 433.8924336038177,
          "shape": "circle",
          "shape_attrs": {
           "r": 15
          },
          "value": null,
          "weight": 22,
          "x": 452.53198152903235,
          "xval": 40,
          "y": 433.96970392214837,
          "yval": 4.761904761904762
         },
         "value": 1
        },
        {
         "source": {
          "fixed": 0,
          "index": 12,
          "label": "h1,1",
          "label_display": "none",
          "px": 438.30653773859984,
          "py": 377.7211018453636,
          "shape": "circle",
          "shape_attrs": {
           "r": 15
          },
          "value": null,
          "weight": 22,
          "x": 438.30653773859984,
          "xval": 40,
          "y": 377.7211018453636,
          "yval": 95.23809523809524
         },
         "target": {
          "fixed": 0,
          "index": 32,
          "label": "h2,1",
          "label_display": "none",
          "px": 348.4069633574117,
          "py": 408.76281398343616,
          "shape": "circle",
          "shape_attrs": {
           "r": 15
          },
          "value": null,
          "weight": 21,
          "x": 348.4069633574117,
          "xval": 60,
          "y": 408.76281398343616,
          "yval": 90.90909090909092
         },
         "value": 1
        },
        {
         "source": {
          "fixed": 0,
          "index": 12,
          "label": "h1,1",
          "label_display": "none",
          "px": 438.30653773859984,
          "py": 377.7211018453636,
          "shape": "circle",
          "shape_attrs": {
           "r": 15
          },
          "value": null,
          "weight": 22,
          "x": 438.30653773859984,
          "xval": 40,
          "y": 377.7211018453636,
          "yval": 95.23809523809524
         },
         "target": {
          "fixed": 0,
          "index": 33,
          "label": "h2,2",
          "label_display": "none",
          "px": 348.98267226676734,
          "py": 414.2410318591959,
          "shape": "circle",
          "shape_attrs": {
           "r": 15
          },
          "value": null,
          "weight": 21,
          "x": 348.98267226676734,
          "xval": 60,
          "y": 414.2410318591959,
          "yval": 81.81818181818183
         },
         "value": 1
        },
        {
         "source": {
          "fixed": 0,
          "index": 12,
          "label": "h1,1",
          "label_display": "none",
          "px": 438.30653773859984,
          "py": 377.7211018453636,
          "shape": "circle",
          "shape_attrs": {
           "r": 15
          },
          "value": null,
          "weight": 22,
          "x": 438.30653773859984,
          "xval": 40,
          "y": 377.7211018453636,
          "yval": 95.23809523809524
         },
         "target": {
          "fixed": 0,
          "index": 34,
          "label": "h2,3",
          "label_display": "none",
          "px": 537.4603229397491,
          "py": 374.0357973649497,
          "shape": "circle",
          "shape_attrs": {
           "r": 15
          },
          "value": null,
          "weight": 21,
          "x": 537.4603229397491,
          "xval": 60,
          "y": 374.0357973649497,
          "yval": 72.72727272727273
         },
         "value": 1
        },
        {
         "source": {
          "fixed": 0,
          "index": 12,
          "label": "h1,1",
          "label_display": "none",
          "px": 438.30653773859984,
          "py": 377.7211018453636,
          "shape": "circle",
          "shape_attrs": {
           "r": 15
          },
          "value": null,
          "weight": 22,
          "x": 438.30653773859984,
          "xval": 40,
          "y": 377.7211018453636,
          "yval": 95.23809523809524
         },
         "target": {
          "index": 35,
          "label": "h2,4",
          "label_display": "none",
          "px": 538.4970595658459,
          "py": 378.0861567241818,
          "shape": "circle",
          "shape_attrs": {
           "r": 15
          },
          "value": null,
          "weight": 21,
          "x": 538.5316781024794,
          "xval": 60,
          "y": 378.0560742106646,
          "yval": 63.63636363636364
         },
         "value": 1
        },
        {
         "source": {
          "fixed": 0,
          "index": 12,
          "label": "h1,1",
          "label_display": "none",
          "px": 438.30653773859984,
          "py": 377.7211018453636,
          "shape": "circle",
          "shape_attrs": {
           "r": 15
          },
          "value": null,
          "weight": 22,
          "x": 438.30653773859984,
          "xval": 40,
          "y": 377.7211018453636,
          "yval": 95.23809523809524
         },
         "target": {
          "index": 36,
          "label": "h2,5",
          "label_display": "none",
          "px": 541.9506789452461,
          "py": 405.2045046484753,
          "shape": "circle",
          "shape_attrs": {
           "r": 15
          },
          "value": null,
          "weight": 21,
          "x": 541.9919124283681,
          "xval": 60,
          "y": 405.2694016450591,
          "yval": 54.54545454545455
         },
         "value": 1
        },
        {
         "source": {
          "fixed": 0,
          "index": 12,
          "label": "h1,1",
          "label_display": "none",
          "px": 438.30653773859984,
          "py": 377.7211018453636,
          "shape": "circle",
          "shape_attrs": {
           "r": 15
          },
          "value": null,
          "weight": 22,
          "x": 438.30653773859984,
          "xval": 40,
          "y": 377.7211018453636,
          "yval": 95.23809523809524
         },
         "target": {
          "index": 37,
          "label": "h2,6",
          "label_display": "none",
          "px": 540.2884600965493,
          "py": 386.07667443285,
          "shape": "circle",
          "shape_attrs": {
           "r": 15
          },
          "value": null,
          "weight": 21,
          "x": 540.3296107385247,
          "xval": 60,
          "y": 386.0726175500124,
          "yval": 45.45454545454546
         },
         "value": 1
        },
        {
         "source": {
          "fixed": 0,
          "index": 12,
          "label": "h1,1",
          "label_display": "none",
          "px": 438.30653773859984,
          "py": 377.7211018453636,
          "shape": "circle",
          "shape_attrs": {
           "r": 15
          },
          "value": null,
          "weight": 22,
          "x": 438.30653773859984,
          "xval": 40,
          "y": 377.7211018453636,
          "yval": 95.23809523809524
         },
         "target": {
          "index": 38,
          "label": "h2,7",
          "label_display": "none",
          "px": 541.4812921164678,
          "py": 394.6419287169871,
          "shape": "circle",
          "shape_attrs": {
           "r": 15
          },
          "value": null,
          "weight": 21,
          "x": 541.5256498499048,
          "xval": 60,
          "y": 394.6711846016649,
          "yval": 36.36363636363637
         },
         "value": 1
        },
        {
         "source": {
          "fixed": 0,
          "index": 12,
          "label": "h1,1",
          "label_display": "none",
          "px": 438.30653773859984,
          "py": 377.7211018453636,
          "shape": "circle",
          "shape_attrs": {
           "r": 15
          },
          "value": null,
          "weight": 22,
          "x": 438.30653773859984,
          "xval": 40,
          "y": 377.7211018453636,
          "yval": 95.23809523809524
         },
         "target": {
          "index": 39,
          "label": "h2,8",
          "label_display": "none",
          "px": 539.4750872865833,
          "py": 382.06791160469925,
          "shape": "circle",
          "shape_attrs": {
           "r": 15
          },
          "value": null,
          "weight": 21,
          "x": 539.5135288298698,
          "xval": 60,
          "y": 382.05054442074044,
          "yval": 27.272727272727273
         },
         "value": 1
        },
        {
         "source": {
          "fixed": 0,
          "index": 12,
          "label": "h1,1",
          "label_display": "none",
          "px": 438.30653773859984,
          "py": 377.7211018453636,
          "shape": "circle",
          "shape_attrs": {
           "r": 15
          },
          "value": null,
          "weight": 22,
          "x": 438.30653773859984,
          "xval": 40,
          "y": 377.7211018453636,
          "yval": 95.23809523809524
         },
         "target": {
          "fixed": 0,
          "index": 40,
          "label": "h2,9",
          "label_display": "none",
          "px": 541.8789771051929,
          "py": 399.51769602374225,
          "shape": "circle",
          "shape_attrs": {
           "r": 15
          },
          "value": null,
          "weight": 21,
          "x": 541.8789771051929,
          "xval": 60,
          "y": 399.51769602374225,
          "yval": 18.181818181818183
         },
         "value": 1
        },
        {
         "source": {
          "fixed": 0,
          "index": 12,
          "label": "h1,1",
          "label_display": "none",
          "px": 438.30653773859984,
          "py": 377.7211018453636,
          "shape": "circle",
          "shape_attrs": {
           "r": 15
          },
          "value": null,
          "weight": 22,
          "x": 438.30653773859984,
          "xval": 40,
          "y": 377.7211018453636,
          "yval": 95.23809523809524
         },
         "target": {
          "index": 41,
          "label": "h2,10",
          "label_display": "none",
          "px": 540.9635353553583,
          "py": 390.2506362665784,
          "shape": "circle",
          "shape_attrs": {
           "r": 15
          },
          "value": null,
          "weight": 21,
          "x": 541.0069568340803,
          "xval": 60,
          "y": 390.2620434189789,
          "yval": 9.090909090909092
         },
         "value": 1
        },
        {
         "source": {
          "fixed": 0,
          "index": 13,
          "label": "h1,2",
          "label_display": "none",
          "px": 445.4830710949258,
          "py": 407.40580969271514,
          "shape": "circle",
          "shape_attrs": {
           "r": 15
          },
          "value": null,
          "weight": 22,
          "x": 445.4830710949258,
          "xval": 40,
          "y": 407.40580969271514,
          "yval": 90.47619047619048
         },
         "target": {
          "fixed": 0,
          "index": 32,
          "label": "h2,1",
          "label_display": "none",
          "px": 348.4069633574117,
          "py": 408.76281398343616,
          "shape": "circle",
          "shape_attrs": {
           "r": 15
          },
          "value": null,
          "weight": 21,
          "x": 348.4069633574117,
          "xval": 60,
          "y": 408.76281398343616,
          "yval": 90.90909090909092
         },
         "value": 1
        },
        {
         "source": {
          "fixed": 0,
          "index": 13,
          "label": "h1,2",
          "label_display": "none",
          "px": 445.4830710949258,
          "py": 407.40580969271514,
          "shape": "circle",
          "shape_attrs": {
           "r": 15
          },
          "value": null,
          "weight": 22,
          "x": 445.4830710949258,
          "xval": 40,
          "y": 407.40580969271514,
          "yval": 90.47619047619048
         },
         "target": {
          "fixed": 0,
          "index": 33,
          "label": "h2,2",
          "label_display": "none",
          "px": 348.98267226676734,
          "py": 414.2410318591959,
          "shape": "circle",
          "shape_attrs": {
           "r": 15
          },
          "value": null,
          "weight": 21,
          "x": 348.98267226676734,
          "xval": 60,
          "y": 414.2410318591959,
          "yval": 81.81818181818183
         },
         "value": 1
        },
        {
         "source": {
          "fixed": 0,
          "index": 13,
          "label": "h1,2",
          "label_display": "none",
          "px": 445.4830710949258,
          "py": 407.40580969271514,
          "shape": "circle",
          "shape_attrs": {
           "r": 15
          },
          "value": null,
          "weight": 22,
          "x": 445.4830710949258,
          "xval": 40,
          "y": 407.40580969271514,
          "yval": 90.47619047619048
         },
         "target": {
          "fixed": 0,
          "index": 34,
          "label": "h2,3",
          "label_display": "none",
          "px": 537.4603229397491,
          "py": 374.0357973649497,
          "shape": "circle",
          "shape_attrs": {
           "r": 15
          },
          "value": null,
          "weight": 21,
          "x": 537.4603229397491,
          "xval": 60,
          "y": 374.0357973649497,
          "yval": 72.72727272727273
         },
         "value": 1
        },
        {
         "source": {
          "fixed": 0,
          "index": 13,
          "label": "h1,2",
          "label_display": "none",
          "px": 445.4830710949258,
          "py": 407.40580969271514,
          "shape": "circle",
          "shape_attrs": {
           "r": 15
          },
          "value": null,
          "weight": 22,
          "x": 445.4830710949258,
          "xval": 40,
          "y": 407.40580969271514,
          "yval": 90.47619047619048
         },
         "target": {
          "index": 35,
          "label": "h2,4",
          "label_display": "none",
          "px": 538.4970595658459,
          "py": 378.0861567241818,
          "shape": "circle",
          "shape_attrs": {
           "r": 15
          },
          "value": null,
          "weight": 21,
          "x": 538.5316781024794,
          "xval": 60,
          "y": 378.0560742106646,
          "yval": 63.63636363636364
         },
         "value": 1
        },
        {
         "source": {
          "fixed": 0,
          "index": 13,
          "label": "h1,2",
          "label_display": "none",
          "px": 445.4830710949258,
          "py": 407.40580969271514,
          "shape": "circle",
          "shape_attrs": {
           "r": 15
          },
          "value": null,
          "weight": 22,
          "x": 445.4830710949258,
          "xval": 40,
          "y": 407.40580969271514,
          "yval": 90.47619047619048
         },
         "target": {
          "index": 36,
          "label": "h2,5",
          "label_display": "none",
          "px": 541.9506789452461,
          "py": 405.2045046484753,
          "shape": "circle",
          "shape_attrs": {
           "r": 15
          },
          "value": null,
          "weight": 21,
          "x": 541.9919124283681,
          "xval": 60,
          "y": 405.2694016450591,
          "yval": 54.54545454545455
         },
         "value": 1
        },
        {
         "source": {
          "fixed": 0,
          "index": 13,
          "label": "h1,2",
          "label_display": "none",
          "px": 445.4830710949258,
          "py": 407.40580969271514,
          "shape": "circle",
          "shape_attrs": {
           "r": 15
          },
          "value": null,
          "weight": 22,
          "x": 445.4830710949258,
          "xval": 40,
          "y": 407.40580969271514,
          "yval": 90.47619047619048
         },
         "target": {
          "index": 37,
          "label": "h2,6",
          "label_display": "none",
          "px": 540.2884600965493,
          "py": 386.07667443285,
          "shape": "circle",
          "shape_attrs": {
           "r": 15
          },
          "value": null,
          "weight": 21,
          "x": 540.3296107385247,
          "xval": 60,
          "y": 386.0726175500124,
          "yval": 45.45454545454546
         },
         "value": 1
        },
        {
         "source": {
          "fixed": 0,
          "index": 13,
          "label": "h1,2",
          "label_display": "none",
          "px": 445.4830710949258,
          "py": 407.40580969271514,
          "shape": "circle",
          "shape_attrs": {
           "r": 15
          },
          "value": null,
          "weight": 22,
          "x": 445.4830710949258,
          "xval": 40,
          "y": 407.40580969271514,
          "yval": 90.47619047619048
         },
         "target": {
          "index": 38,
          "label": "h2,7",
          "label_display": "none",
          "px": 541.4812921164678,
          "py": 394.6419287169871,
          "shape": "circle",
          "shape_attrs": {
           "r": 15
          },
          "value": null,
          "weight": 21,
          "x": 541.5256498499048,
          "xval": 60,
          "y": 394.6711846016649,
          "yval": 36.36363636363637
         },
         "value": 1
        },
        {
         "source": {
          "fixed": 0,
          "index": 13,
          "label": "h1,2",
          "label_display": "none",
          "px": 445.4830710949258,
          "py": 407.40580969271514,
          "shape": "circle",
          "shape_attrs": {
           "r": 15
          },
          "value": null,
          "weight": 22,
          "x": 445.4830710949258,
          "xval": 40,
          "y": 407.40580969271514,
          "yval": 90.47619047619048
         },
         "target": {
          "index": 39,
          "label": "h2,8",
          "label_display": "none",
          "px": 539.4750872865833,
          "py": 382.06791160469925,
          "shape": "circle",
          "shape_attrs": {
           "r": 15
          },
          "value": null,
          "weight": 21,
          "x": 539.5135288298698,
          "xval": 60,
          "y": 382.05054442074044,
          "yval": 27.272727272727273
         },
         "value": 1
        },
        {
         "source": {
          "fixed": 0,
          "index": 13,
          "label": "h1,2",
          "label_display": "none",
          "px": 445.4830710949258,
          "py": 407.40580969271514,
          "shape": "circle",
          "shape_attrs": {
           "r": 15
          },
          "value": null,
          "weight": 22,
          "x": 445.4830710949258,
          "xval": 40,
          "y": 407.40580969271514,
          "yval": 90.47619047619048
         },
         "target": {
          "fixed": 0,
          "index": 40,
          "label": "h2,9",
          "label_display": "none",
          "px": 541.8789771051929,
          "py": 399.51769602374225,
          "shape": "circle",
          "shape_attrs": {
           "r": 15
          },
          "value": null,
          "weight": 21,
          "x": 541.8789771051929,
          "xval": 60,
          "y": 399.51769602374225,
          "yval": 18.181818181818183
         },
         "value": 1
        },
        {
         "source": {
          "fixed": 0,
          "index": 13,
          "label": "h1,2",
          "label_display": "none",
          "px": 445.4830710949258,
          "py": 407.40580969271514,
          "shape": "circle",
          "shape_attrs": {
           "r": 15
          },
          "value": null,
          "weight": 22,
          "x": 445.4830710949258,
          "xval": 40,
          "y": 407.40580969271514,
          "yval": 90.47619047619048
         },
         "target": {
          "index": 41,
          "label": "h2,10",
          "label_display": "none",
          "px": 540.9635353553583,
          "py": 390.2506362665784,
          "shape": "circle",
          "shape_attrs": {
           "r": 15
          },
          "value": null,
          "weight": 21,
          "x": 541.0069568340803,
          "xval": 60,
          "y": 390.2620434189789,
          "yval": 9.090909090909092
         },
         "value": 1
        },
        {
         "source": {
          "fixed": 0,
          "index": 14,
          "label": "h1,3",
          "label_display": "none",
          "px": 440.09389561772593,
          "py": 384.9913547714818,
          "shape": "circle",
          "shape_attrs": {
           "r": 15
          },
          "value": null,
          "weight": 22,
          "x": 440.09389561772593,
          "xval": 40,
          "y": 384.9913547714818,
          "yval": 85.71428571428571
         },
         "target": {
          "fixed": 0,
          "index": 32,
          "label": "h2,1",
          "label_display": "none",
          "px": 348.4069633574117,
          "py": 408.76281398343616,
          "shape": "circle",
          "shape_attrs": {
           "r": 15
          },
          "value": null,
          "weight": 21,
          "x": 348.4069633574117,
          "xval": 60,
          "y": 408.76281398343616,
          "yval": 90.90909090909092
         },
         "value": 1
        },
        {
         "source": {
          "fixed": 0,
          "index": 14,
          "label": "h1,3",
          "label_display": "none",
          "px": 440.09389561772593,
          "py": 384.9913547714818,
          "shape": "circle",
          "shape_attrs": {
           "r": 15
          },
          "value": null,
          "weight": 22,
          "x": 440.09389561772593,
          "xval": 40,
          "y": 384.9913547714818,
          "yval": 85.71428571428571
         },
         "target": {
          "fixed": 0,
          "index": 33,
          "label": "h2,2",
          "label_display": "none",
          "px": 348.98267226676734,
          "py": 414.2410318591959,
          "shape": "circle",
          "shape_attrs": {
           "r": 15
          },
          "value": null,
          "weight": 21,
          "x": 348.98267226676734,
          "xval": 60,
          "y": 414.2410318591959,
          "yval": 81.81818181818183
         },
         "value": 1
        },
        {
         "source": {
          "fixed": 0,
          "index": 14,
          "label": "h1,3",
          "label_display": "none",
          "px": 440.09389561772593,
          "py": 384.9913547714818,
          "shape": "circle",
          "shape_attrs": {
           "r": 15
          },
          "value": null,
          "weight": 22,
          "x": 440.09389561772593,
          "xval": 40,
          "y": 384.9913547714818,
          "yval": 85.71428571428571
         },
         "target": {
          "fixed": 0,
          "index": 34,
          "label": "h2,3",
          "label_display": "none",
          "px": 537.4603229397491,
          "py": 374.0357973649497,
          "shape": "circle",
          "shape_attrs": {
           "r": 15
          },
          "value": null,
          "weight": 21,
          "x": 537.4603229397491,
          "xval": 60,
          "y": 374.0357973649497,
          "yval": 72.72727272727273
         },
         "value": 1
        },
        {
         "source": {
          "fixed": 0,
          "index": 14,
          "label": "h1,3",
          "label_display": "none",
          "px": 440.09389561772593,
          "py": 384.9913547714818,
          "shape": "circle",
          "shape_attrs": {
           "r": 15
          },
          "value": null,
          "weight": 22,
          "x": 440.09389561772593,
          "xval": 40,
          "y": 384.9913547714818,
          "yval": 85.71428571428571
         },
         "target": {
          "index": 35,
          "label": "h2,4",
          "label_display": "none",
          "px": 538.4970595658459,
          "py": 378.0861567241818,
          "shape": "circle",
          "shape_attrs": {
           "r": 15
          },
          "value": null,
          "weight": 21,
          "x": 538.5316781024794,
          "xval": 60,
          "y": 378.0560742106646,
          "yval": 63.63636363636364
         },
         "value": 1
        },
        {
         "source": {
          "fixed": 0,
          "index": 14,
          "label": "h1,3",
          "label_display": "none",
          "px": 440.09389561772593,
          "py": 384.9913547714818,
          "shape": "circle",
          "shape_attrs": {
           "r": 15
          },
          "value": null,
          "weight": 22,
          "x": 440.09389561772593,
          "xval": 40,
          "y": 384.9913547714818,
          "yval": 85.71428571428571
         },
         "target": {
          "index": 36,
          "label": "h2,5",
          "label_display": "none",
          "px": 541.9506789452461,
          "py": 405.2045046484753,
          "shape": "circle",
          "shape_attrs": {
           "r": 15
          },
          "value": null,
          "weight": 21,
          "x": 541.9919124283681,
          "xval": 60,
          "y": 405.2694016450591,
          "yval": 54.54545454545455
         },
         "value": 1
        },
        {
         "source": {
          "fixed": 0,
          "index": 14,
          "label": "h1,3",
          "label_display": "none",
          "px": 440.09389561772593,
          "py": 384.9913547714818,
          "shape": "circle",
          "shape_attrs": {
           "r": 15
          },
          "value": null,
          "weight": 22,
          "x": 440.09389561772593,
          "xval": 40,
          "y": 384.9913547714818,
          "yval": 85.71428571428571
         },
         "target": {
          "index": 37,
          "label": "h2,6",
          "label_display": "none",
          "px": 540.2884600965493,
          "py": 386.07667443285,
          "shape": "circle",
          "shape_attrs": {
           "r": 15
          },
          "value": null,
          "weight": 21,
          "x": 540.3296107385247,
          "xval": 60,
          "y": 386.0726175500124,
          "yval": 45.45454545454546
         },
         "value": 1
        },
        {
         "source": {
          "fixed": 0,
          "index": 14,
          "label": "h1,3",
          "label_display": "none",
          "px": 440.09389561772593,
          "py": 384.9913547714818,
          "shape": "circle",
          "shape_attrs": {
           "r": 15
          },
          "value": null,
          "weight": 22,
          "x": 440.09389561772593,
          "xval": 40,
          "y": 384.9913547714818,
          "yval": 85.71428571428571
         },
         "target": {
          "index": 38,
          "label": "h2,7",
          "label_display": "none",
          "px": 541.4812921164678,
          "py": 394.6419287169871,
          "shape": "circle",
          "shape_attrs": {
           "r": 15
          },
          "value": null,
          "weight": 21,
          "x": 541.5256498499048,
          "xval": 60,
          "y": 394.6711846016649,
          "yval": 36.36363636363637
         },
         "value": 1
        },
        {
         "source": {
          "fixed": 0,
          "index": 14,
          "label": "h1,3",
          "label_display": "none",
          "px": 440.09389561772593,
          "py": 384.9913547714818,
          "shape": "circle",
          "shape_attrs": {
           "r": 15
          },
          "value": null,
          "weight": 22,
          "x": 440.09389561772593,
          "xval": 40,
          "y": 384.9913547714818,
          "yval": 85.71428571428571
         },
         "target": {
          "index": 39,
          "label": "h2,8",
          "label_display": "none",
          "px": 539.4750872865833,
          "py": 382.06791160469925,
          "shape": "circle",
          "shape_attrs": {
           "r": 15
          },
          "value": null,
          "weight": 21,
          "x": 539.5135288298698,
          "xval": 60,
          "y": 382.05054442074044,
          "yval": 27.272727272727273
         },
         "value": 1
        },
        {
         "source": {
          "fixed": 0,
          "index": 14,
          "label": "h1,3",
          "label_display": "none",
          "px": 440.09389561772593,
          "py": 384.9913547714818,
          "shape": "circle",
          "shape_attrs": {
           "r": 15
          },
          "value": null,
          "weight": 22,
          "x": 440.09389561772593,
          "xval": 40,
          "y": 384.9913547714818,
          "yval": 85.71428571428571
         },
         "target": {
          "fixed": 0,
          "index": 40,
          "label": "h2,9",
          "label_display": "none",
          "px": 541.8789771051929,
          "py": 399.51769602374225,
          "shape": "circle",
          "shape_attrs": {
           "r": 15
          },
          "value": null,
          "weight": 21,
          "x": 541.8789771051929,
          "xval": 60,
          "y": 399.51769602374225,
          "yval": 18.181818181818183
         },
         "value": 1
        },
        {
         "source": {
          "fixed": 0,
          "index": 14,
          "label": "h1,3",
          "label_display": "none",
          "px": 440.09389561772593,
          "py": 384.9913547714818,
          "shape": "circle",
          "shape_attrs": {
           "r": 15
          },
          "value": null,
          "weight": 22,
          "x": 440.09389561772593,
          "xval": 40,
          "y": 384.9913547714818,
          "yval": 85.71428571428571
         },
         "target": {
          "index": 41,
          "label": "h2,10",
          "label_display": "none",
          "px": 540.9635353553583,
          "py": 390.2506362665784,
          "shape": "circle",
          "shape_attrs": {
           "r": 15
          },
          "value": null,
          "weight": 21,
          "x": 541.0069568340803,
          "xval": 60,
          "y": 390.2620434189789,
          "yval": 9.090909090909092
         },
         "value": 1
        },
        {
         "source": {
          "index": 15,
          "label": "h1,4",
          "label_display": "none",
          "px": 442.03390585799406,
          "py": 393.18624031821906,
          "shape": "circle",
          "shape_attrs": {
           "r": 15
          },
          "value": null,
          "weight": 22,
          "x": 442.0252187451049,
          "xval": 40,
          "y": 393.18099926055953,
          "yval": 80.95238095238095
         },
         "target": {
          "fixed": 0,
          "index": 32,
          "label": "h2,1",
          "label_display": "none",
          "px": 348.4069633574117,
          "py": 408.76281398343616,
          "shape": "circle",
          "shape_attrs": {
           "r": 15
          },
          "value": null,
          "weight": 21,
          "x": 348.4069633574117,
          "xval": 60,
          "y": 408.76281398343616,
          "yval": 90.90909090909092
         },
         "value": 1
        },
        {
         "source": {
          "index": 15,
          "label": "h1,4",
          "label_display": "none",
          "px": 442.03390585799406,
          "py": 393.18624031821906,
          "shape": "circle",
          "shape_attrs": {
           "r": 15
          },
          "value": null,
          "weight": 22,
          "x": 442.0252187451049,
          "xval": 40,
          "y": 393.18099926055953,
          "yval": 80.95238095238095
         },
         "target": {
          "fixed": 0,
          "index": 33,
          "label": "h2,2",
          "label_display": "none",
          "px": 348.98267226676734,
          "py": 414.2410318591959,
          "shape": "circle",
          "shape_attrs": {
           "r": 15
          },
          "value": null,
          "weight": 21,
          "x": 348.98267226676734,
          "xval": 60,
          "y": 414.2410318591959,
          "yval": 81.81818181818183
         },
         "value": 1
        },
        {
         "source": {
          "index": 15,
          "label": "h1,4",
          "label_display": "none",
          "px": 442.03390585799406,
          "py": 393.18624031821906,
          "shape": "circle",
          "shape_attrs": {
           "r": 15
          },
          "value": null,
          "weight": 22,
          "x": 442.0252187451049,
          "xval": 40,
          "y": 393.18099926055953,
          "yval": 80.95238095238095
         },
         "target": {
          "fixed": 0,
          "index": 34,
          "label": "h2,3",
          "label_display": "none",
          "px": 537.4603229397491,
          "py": 374.0357973649497,
          "shape": "circle",
          "shape_attrs": {
           "r": 15
          },
          "value": null,
          "weight": 21,
          "x": 537.4603229397491,
          "xval": 60,
          "y": 374.0357973649497,
          "yval": 72.72727272727273
         },
         "value": 1
        },
        {
         "source": {
          "index": 15,
          "label": "h1,4",
          "label_display": "none",
          "px": 442.03390585799406,
          "py": 393.18624031821906,
          "shape": "circle",
          "shape_attrs": {
           "r": 15
          },
          "value": null,
          "weight": 22,
          "x": 442.0252187451049,
          "xval": 40,
          "y": 393.18099926055953,
          "yval": 80.95238095238095
         },
         "target": {
          "index": 35,
          "label": "h2,4",
          "label_display": "none",
          "px": 538.4970595658459,
          "py": 378.0861567241818,
          "shape": "circle",
          "shape_attrs": {
           "r": 15
          },
          "value": null,
          "weight": 21,
          "x": 538.5316781024794,
          "xval": 60,
          "y": 378.0560742106646,
          "yval": 63.63636363636364
         },
         "value": 1
        },
        {
         "source": {
          "index": 15,
          "label": "h1,4",
          "label_display": "none",
          "px": 442.03390585799406,
          "py": 393.18624031821906,
          "shape": "circle",
          "shape_attrs": {
           "r": 15
          },
          "value": null,
          "weight": 22,
          "x": 442.0252187451049,
          "xval": 40,
          "y": 393.18099926055953,
          "yval": 80.95238095238095
         },
         "target": {
          "index": 36,
          "label": "h2,5",
          "label_display": "none",
          "px": 541.9506789452461,
          "py": 405.2045046484753,
          "shape": "circle",
          "shape_attrs": {
           "r": 15
          },
          "value": null,
          "weight": 21,
          "x": 541.9919124283681,
          "xval": 60,
          "y": 405.2694016450591,
          "yval": 54.54545454545455
         },
         "value": 1
        },
        {
         "source": {
          "index": 15,
          "label": "h1,4",
          "label_display": "none",
          "px": 442.03390585799406,
          "py": 393.18624031821906,
          "shape": "circle",
          "shape_attrs": {
           "r": 15
          },
          "value": null,
          "weight": 22,
          "x": 442.0252187451049,
          "xval": 40,
          "y": 393.18099926055953,
          "yval": 80.95238095238095
         },
         "target": {
          "index": 37,
          "label": "h2,6",
          "label_display": "none",
          "px": 540.2884600965493,
          "py": 386.07667443285,
          "shape": "circle",
          "shape_attrs": {
           "r": 15
          },
          "value": null,
          "weight": 21,
          "x": 540.3296107385247,
          "xval": 60,
          "y": 386.0726175500124,
          "yval": 45.45454545454546
         },
         "value": 1
        },
        {
         "source": {
          "index": 15,
          "label": "h1,4",
          "label_display": "none",
          "px": 442.03390585799406,
          "py": 393.18624031821906,
          "shape": "circle",
          "shape_attrs": {
           "r": 15
          },
          "value": null,
          "weight": 22,
          "x": 442.0252187451049,
          "xval": 40,
          "y": 393.18099926055953,
          "yval": 80.95238095238095
         },
         "target": {
          "index": 38,
          "label": "h2,7",
          "label_display": "none",
          "px": 541.4812921164678,
          "py": 394.6419287169871,
          "shape": "circle",
          "shape_attrs": {
           "r": 15
          },
          "value": null,
          "weight": 21,
          "x": 541.5256498499048,
          "xval": 60,
          "y": 394.6711846016649,
          "yval": 36.36363636363637
         },
         "value": 1
        },
        {
         "source": {
          "index": 15,
          "label": "h1,4",
          "label_display": "none",
          "px": 442.03390585799406,
          "py": 393.18624031821906,
          "shape": "circle",
          "shape_attrs": {
           "r": 15
          },
          "value": null,
          "weight": 22,
          "x": 442.0252187451049,
          "xval": 40,
          "y": 393.18099926055953,
          "yval": 80.95238095238095
         },
         "target": {
          "index": 39,
          "label": "h2,8",
          "label_display": "none",
          "px": 539.4750872865833,
          "py": 382.06791160469925,
          "shape": "circle",
          "shape_attrs": {
           "r": 15
          },
          "value": null,
          "weight": 21,
          "x": 539.5135288298698,
          "xval": 60,
          "y": 382.05054442074044,
          "yval": 27.272727272727273
         },
         "value": 1
        },
        {
         "source": {
          "index": 15,
          "label": "h1,4",
          "label_display": "none",
          "px": 442.03390585799406,
          "py": 393.18624031821906,
          "shape": "circle",
          "shape_attrs": {
           "r": 15
          },
          "value": null,
          "weight": 22,
          "x": 442.0252187451049,
          "xval": 40,
          "y": 393.18099926055953,
          "yval": 80.95238095238095
         },
         "target": {
          "fixed": 0,
          "index": 40,
          "label": "h2,9",
          "label_display": "none",
          "px": 541.8789771051929,
          "py": 399.51769602374225,
          "shape": "circle",
          "shape_attrs": {
           "r": 15
          },
          "value": null,
          "weight": 21,
          "x": 541.8789771051929,
          "xval": 60,
          "y": 399.51769602374225,
          "yval": 18.181818181818183
         },
         "value": 1
        },
        {
         "source": {
          "index": 15,
          "label": "h1,4",
          "label_display": "none",
          "px": 442.03390585799406,
          "py": 393.18624031821906,
          "shape": "circle",
          "shape_attrs": {
           "r": 15
          },
          "value": null,
          "weight": 22,
          "x": 442.0252187451049,
          "xval": 40,
          "y": 393.18099926055953,
          "yval": 80.95238095238095
         },
         "target": {
          "index": 41,
          "label": "h2,10",
          "label_display": "none",
          "px": 540.9635353553583,
          "py": 390.2506362665784,
          "shape": "circle",
          "shape_attrs": {
           "r": 15
          },
          "value": null,
          "weight": 21,
          "x": 541.0069568340803,
          "xval": 60,
          "y": 390.2620434189789,
          "yval": 9.090909090909092
         },
         "value": 1
        },
        {
         "source": {
          "fixed": 0,
          "index": 16,
          "label": "h1,5",
          "label_display": "none",
          "px": 439.3038323400098,
          "py": 381.26898657152276,
          "shape": "circle",
          "shape_attrs": {
           "r": 15
          },
          "value": null,
          "weight": 22,
          "x": 439.3038323400098,
          "xval": 40,
          "y": 381.26898657152276,
          "yval": 76.19047619047619
         },
         "target": {
          "fixed": 0,
          "index": 32,
          "label": "h2,1",
          "label_display": "none",
          "px": 348.4069633574117,
          "py": 408.76281398343616,
          "shape": "circle",
          "shape_attrs": {
           "r": 15
          },
          "value": null,
          "weight": 21,
          "x": 348.4069633574117,
          "xval": 60,
          "y": 408.76281398343616,
          "yval": 90.90909090909092
         },
         "value": 1
        },
        {
         "source": {
          "fixed": 0,
          "index": 16,
          "label": "h1,5",
          "label_display": "none",
          "px": 439.3038323400098,
          "py": 381.26898657152276,
          "shape": "circle",
          "shape_attrs": {
           "r": 15
          },
          "value": null,
          "weight": 22,
          "x": 439.3038323400098,
          "xval": 40,
          "y": 381.26898657152276,
          "yval": 76.19047619047619
         },
         "target": {
          "fixed": 0,
          "index": 33,
          "label": "h2,2",
          "label_display": "none",
          "px": 348.98267226676734,
          "py": 414.2410318591959,
          "shape": "circle",
          "shape_attrs": {
           "r": 15
          },
          "value": null,
          "weight": 21,
          "x": 348.98267226676734,
          "xval": 60,
          "y": 414.2410318591959,
          "yval": 81.81818181818183
         },
         "value": 1
        },
        {
         "source": {
          "fixed": 0,
          "index": 16,
          "label": "h1,5",
          "label_display": "none",
          "px": 439.3038323400098,
          "py": 381.26898657152276,
          "shape": "circle",
          "shape_attrs": {
           "r": 15
          },
          "value": null,
          "weight": 22,
          "x": 439.3038323400098,
          "xval": 40,
          "y": 381.26898657152276,
          "yval": 76.19047619047619
         },
         "target": {
          "fixed": 0,
          "index": 34,
          "label": "h2,3",
          "label_display": "none",
          "px": 537.4603229397491,
          "py": 374.0357973649497,
          "shape": "circle",
          "shape_attrs": {
           "r": 15
          },
          "value": null,
          "weight": 21,
          "x": 537.4603229397491,
          "xval": 60,
          "y": 374.0357973649497,
          "yval": 72.72727272727273
         },
         "value": 1
        },
        {
         "source": {
          "fixed": 0,
          "index": 16,
          "label": "h1,5",
          "label_display": "none",
          "px": 439.3038323400098,
          "py": 381.26898657152276,
          "shape": "circle",
          "shape_attrs": {
           "r": 15
          },
          "value": null,
          "weight": 22,
          "x": 439.3038323400098,
          "xval": 40,
          "y": 381.26898657152276,
          "yval": 76.19047619047619
         },
         "target": {
          "index": 35,
          "label": "h2,4",
          "label_display": "none",
          "px": 538.4970595658459,
          "py": 378.0861567241818,
          "shape": "circle",
          "shape_attrs": {
           "r": 15
          },
          "value": null,
          "weight": 21,
          "x": 538.5316781024794,
          "xval": 60,
          "y": 378.0560742106646,
          "yval": 63.63636363636364
         },
         "value": 1
        },
        {
         "source": {
          "fixed": 0,
          "index": 16,
          "label": "h1,5",
          "label_display": "none",
          "px": 439.3038323400098,
          "py": 381.26898657152276,
          "shape": "circle",
          "shape_attrs": {
           "r": 15
          },
          "value": null,
          "weight": 22,
          "x": 439.3038323400098,
          "xval": 40,
          "y": 381.26898657152276,
          "yval": 76.19047619047619
         },
         "target": {
          "index": 36,
          "label": "h2,5",
          "label_display": "none",
          "px": 541.9506789452461,
          "py": 405.2045046484753,
          "shape": "circle",
          "shape_attrs": {
           "r": 15
          },
          "value": null,
          "weight": 21,
          "x": 541.9919124283681,
          "xval": 60,
          "y": 405.2694016450591,
          "yval": 54.54545454545455
         },
         "value": 1
        },
        {
         "source": {
          "fixed": 0,
          "index": 16,
          "label": "h1,5",
          "label_display": "none",
          "px": 439.3038323400098,
          "py": 381.26898657152276,
          "shape": "circle",
          "shape_attrs": {
           "r": 15
          },
          "value": null,
          "weight": 22,
          "x": 439.3038323400098,
          "xval": 40,
          "y": 381.26898657152276,
          "yval": 76.19047619047619
         },
         "target": {
          "index": 37,
          "label": "h2,6",
          "label_display": "none",
          "px": 540.2884600965493,
          "py": 386.07667443285,
          "shape": "circle",
          "shape_attrs": {
           "r": 15
          },
          "value": null,
          "weight": 21,
          "x": 540.3296107385247,
          "xval": 60,
          "y": 386.0726175500124,
          "yval": 45.45454545454546
         },
         "value": 1
        },
        {
         "source": {
          "fixed": 0,
          "index": 16,
          "label": "h1,5",
          "label_display": "none",
          "px": 439.3038323400098,
          "py": 381.26898657152276,
          "shape": "circle",
          "shape_attrs": {
           "r": 15
          },
          "value": null,
          "weight": 22,
          "x": 439.3038323400098,
          "xval": 40,
          "y": 381.26898657152276,
          "yval": 76.19047619047619
         },
         "target": {
          "index": 38,
          "label": "h2,7",
          "label_display": "none",
          "px": 541.4812921164678,
          "py": 394.6419287169871,
          "shape": "circle",
          "shape_attrs": {
           "r": 15
          },
          "value": null,
          "weight": 21,
          "x": 541.5256498499048,
          "xval": 60,
          "y": 394.6711846016649,
          "yval": 36.36363636363637
         },
         "value": 1
        },
        {
         "source": {
          "fixed": 0,
          "index": 16,
          "label": "h1,5",
          "label_display": "none",
          "px": 439.3038323400098,
          "py": 381.26898657152276,
          "shape": "circle",
          "shape_attrs": {
           "r": 15
          },
          "value": null,
          "weight": 22,
          "x": 439.3038323400098,
          "xval": 40,
          "y": 381.26898657152276,
          "yval": 76.19047619047619
         },
         "target": {
          "index": 39,
          "label": "h2,8",
          "label_display": "none",
          "px": 539.4750872865833,
          "py": 382.06791160469925,
          "shape": "circle",
          "shape_attrs": {
           "r": 15
          },
          "value": null,
          "weight": 21,
          "x": 539.5135288298698,
          "xval": 60,
          "y": 382.05054442074044,
          "yval": 27.272727272727273
         },
         "value": 1
        },
        {
         "source": {
          "fixed": 0,
          "index": 16,
          "label": "h1,5",
          "label_display": "none",
          "px": 439.3038323400098,
          "py": 381.26898657152276,
          "shape": "circle",
          "shape_attrs": {
           "r": 15
          },
          "value": null,
          "weight": 22,
          "x": 439.3038323400098,
          "xval": 40,
          "y": 381.26898657152276,
          "yval": 76.19047619047619
         },
         "target": {
          "fixed": 0,
          "index": 40,
          "label": "h2,9",
          "label_display": "none",
          "px": 541.8789771051929,
          "py": 399.51769602374225,
          "shape": "circle",
          "shape_attrs": {
           "r": 15
          },
          "value": null,
          "weight": 21,
          "x": 541.8789771051929,
          "xval": 60,
          "y": 399.51769602374225,
          "yval": 18.181818181818183
         },
         "value": 1
        },
        {
         "source": {
          "fixed": 0,
          "index": 16,
          "label": "h1,5",
          "label_display": "none",
          "px": 439.3038323400098,
          "py": 381.26898657152276,
          "shape": "circle",
          "shape_attrs": {
           "r": 15
          },
          "value": null,
          "weight": 22,
          "x": 439.3038323400098,
          "xval": 40,
          "y": 381.26898657152276,
          "yval": 76.19047619047619
         },
         "target": {
          "index": 41,
          "label": "h2,10",
          "label_display": "none",
          "px": 540.9635353553583,
          "py": 390.2506362665784,
          "shape": "circle",
          "shape_attrs": {
           "r": 15
          },
          "value": null,
          "weight": 21,
          "x": 541.0069568340803,
          "xval": 60,
          "y": 390.2620434189789,
          "yval": 9.090909090909092
         },
         "value": 1
        },
        {
         "source": {
          "index": 17,
          "label": "h1,6",
          "label_display": "none",
          "px": 436.1763853376012,
          "py": 367.0391092191069,
          "shape": "circle",
          "shape_attrs": {
           "r": 15
          },
          "value": null,
          "weight": 22,
          "x": 436.1319756129927,
          "xval": 40,
          "y": 366.9193372066237,
          "yval": 71.42857142857143
         },
         "target": {
          "fixed": 0,
          "index": 32,
          "label": "h2,1",
          "label_display": "none",
          "px": 348.4069633574117,
          "py": 408.76281398343616,
          "shape": "circle",
          "shape_attrs": {
           "r": 15
          },
          "value": null,
          "weight": 21,
          "x": 348.4069633574117,
          "xval": 60,
          "y": 408.76281398343616,
          "yval": 90.90909090909092
         },
         "value": 1
        },
        {
         "source": {
          "index": 17,
          "label": "h1,6",
          "label_display": "none",
          "px": 436.1763853376012,
          "py": 367.0391092191069,
          "shape": "circle",
          "shape_attrs": {
           "r": 15
          },
          "value": null,
          "weight": 22,
          "x": 436.1319756129927,
          "xval": 40,
          "y": 366.9193372066237,
          "yval": 71.42857142857143
         },
         "target": {
          "fixed": 0,
          "index": 33,
          "label": "h2,2",
          "label_display": "none",
          "px": 348.98267226676734,
          "py": 414.2410318591959,
          "shape": "circle",
          "shape_attrs": {
           "r": 15
          },
          "value": null,
          "weight": 21,
          "x": 348.98267226676734,
          "xval": 60,
          "y": 414.2410318591959,
          "yval": 81.81818181818183
         },
         "value": 1
        },
        {
         "source": {
          "index": 17,
          "label": "h1,6",
          "label_display": "none",
          "px": 436.1763853376012,
          "py": 367.0391092191069,
          "shape": "circle",
          "shape_attrs": {
           "r": 15
          },
          "value": null,
          "weight": 22,
          "x": 436.1319756129927,
          "xval": 40,
          "y": 366.9193372066237,
          "yval": 71.42857142857143
         },
         "target": {
          "fixed": 0,
          "index": 34,
          "label": "h2,3",
          "label_display": "none",
          "px": 537.4603229397491,
          "py": 374.0357973649497,
          "shape": "circle",
          "shape_attrs": {
           "r": 15
          },
          "value": null,
          "weight": 21,
          "x": 537.4603229397491,
          "xval": 60,
          "y": 374.0357973649497,
          "yval": 72.72727272727273
         },
         "value": 1
        },
        {
         "source": {
          "index": 17,
          "label": "h1,6",
          "label_display": "none",
          "px": 436.1763853376012,
          "py": 367.0391092191069,
          "shape": "circle",
          "shape_attrs": {
           "r": 15
          },
          "value": null,
          "weight": 22,
          "x": 436.1319756129927,
          "xval": 40,
          "y": 366.9193372066237,
          "yval": 71.42857142857143
         },
         "target": {
          "index": 35,
          "label": "h2,4",
          "label_display": "none",
          "px": 538.4970595658459,
          "py": 378.0861567241818,
          "shape": "circle",
          "shape_attrs": {
           "r": 15
          },
          "value": null,
          "weight": 21,
          "x": 538.5316781024794,
          "xval": 60,
          "y": 378.0560742106646,
          "yval": 63.63636363636364
         },
         "value": 1
        },
        {
         "source": {
          "index": 17,
          "label": "h1,6",
          "label_display": "none",
          "px": 436.1763853376012,
          "py": 367.0391092191069,
          "shape": "circle",
          "shape_attrs": {
           "r": 15
          },
          "value": null,
          "weight": 22,
          "x": 436.1319756129927,
          "xval": 40,
          "y": 366.9193372066237,
          "yval": 71.42857142857143
         },
         "target": {
          "index": 36,
          "label": "h2,5",
          "label_display": "none",
          "px": 541.9506789452461,
          "py": 405.2045046484753,
          "shape": "circle",
          "shape_attrs": {
           "r": 15
          },
          "value": null,
          "weight": 21,
          "x": 541.9919124283681,
          "xval": 60,
          "y": 405.2694016450591,
          "yval": 54.54545454545455
         },
         "value": 1
        },
        {
         "source": {
          "index": 17,
          "label": "h1,6",
          "label_display": "none",
          "px": 436.1763853376012,
          "py": 367.0391092191069,
          "shape": "circle",
          "shape_attrs": {
           "r": 15
          },
          "value": null,
          "weight": 22,
          "x": 436.1319756129927,
          "xval": 40,
          "y": 366.9193372066237,
          "yval": 71.42857142857143
         },
         "target": {
          "index": 37,
          "label": "h2,6",
          "label_display": "none",
          "px": 540.2884600965493,
          "py": 386.07667443285,
          "shape": "circle",
          "shape_attrs": {
           "r": 15
          },
          "value": null,
          "weight": 21,
          "x": 540.3296107385247,
          "xval": 60,
          "y": 386.0726175500124,
          "yval": 45.45454545454546
         },
         "value": 1
        },
        {
         "source": {
          "index": 17,
          "label": "h1,6",
          "label_display": "none",
          "px": 436.1763853376012,
          "py": 367.0391092191069,
          "shape": "circle",
          "shape_attrs": {
           "r": 15
          },
          "value": null,
          "weight": 22,
          "x": 436.1319756129927,
          "xval": 40,
          "y": 366.9193372066237,
          "yval": 71.42857142857143
         },
         "target": {
          "index": 38,
          "label": "h2,7",
          "label_display": "none",
          "px": 541.4812921164678,
          "py": 394.6419287169871,
          "shape": "circle",
          "shape_attrs": {
           "r": 15
          },
          "value": null,
          "weight": 21,
          "x": 541.5256498499048,
          "xval": 60,
          "y": 394.6711846016649,
          "yval": 36.36363636363637
         },
         "value": 1
        },
        {
         "source": {
          "index": 17,
          "label": "h1,6",
          "label_display": "none",
          "px": 436.1763853376012,
          "py": 367.0391092191069,
          "shape": "circle",
          "shape_attrs": {
           "r": 15
          },
          "value": null,
          "weight": 22,
          "x": 436.1319756129927,
          "xval": 40,
          "y": 366.9193372066237,
          "yval": 71.42857142857143
         },
         "target": {
          "index": 39,
          "label": "h2,8",
          "label_display": "none",
          "px": 539.4750872865833,
          "py": 382.06791160469925,
          "shape": "circle",
          "shape_attrs": {
           "r": 15
          },
          "value": null,
          "weight": 21,
          "x": 539.5135288298698,
          "xval": 60,
          "y": 382.05054442074044,
          "yval": 27.272727272727273
         },
         "value": 1
        },
        {
         "source": {
          "index": 17,
          "label": "h1,6",
          "label_display": "none",
          "px": 436.1763853376012,
          "py": 367.0391092191069,
          "shape": "circle",
          "shape_attrs": {
           "r": 15
          },
          "value": null,
          "weight": 22,
          "x": 436.1319756129927,
          "xval": 40,
          "y": 366.9193372066237,
          "yval": 71.42857142857143
         },
         "target": {
          "fixed": 0,
          "index": 40,
          "label": "h2,9",
          "label_display": "none",
          "px": 541.8789771051929,
          "py": 399.51769602374225,
          "shape": "circle",
          "shape_attrs": {
           "r": 15
          },
          "value": null,
          "weight": 21,
          "x": 541.8789771051929,
          "xval": 60,
          "y": 399.51769602374225,
          "yval": 18.181818181818183
         },
         "value": 1
        },
        {
         "source": {
          "index": 17,
          "label": "h1,6",
          "label_display": "none",
          "px": 436.1763853376012,
          "py": 367.0391092191069,
          "shape": "circle",
          "shape_attrs": {
           "r": 15
          },
          "value": null,
          "weight": 22,
          "x": 436.1319756129927,
          "xval": 40,
          "y": 366.9193372066237,
          "yval": 71.42857142857143
         },
         "target": {
          "index": 41,
          "label": "h2,10",
          "label_display": "none",
          "px": 540.9635353553583,
          "py": 390.2506362665784,
          "shape": "circle",
          "shape_attrs": {
           "r": 15
          },
          "value": null,
          "weight": 21,
          "x": 541.0069568340803,
          "xval": 60,
          "y": 390.2620434189789,
          "yval": 9.090909090909092
         },
         "value": 1
        },
        {
         "source": {
          "index": 18,
          "label": "h1,7",
          "label_display": "none",
          "px": 444.28747307460884,
          "py": 402.5857074144147,
          "shape": "circle",
          "shape_attrs": {
           "r": 15
          },
          "value": null,
          "weight": 22,
          "x": 444.28189322820117,
          "xval": 40,
          "y": 402.5864217166488,
          "yval": 66.66666666666667
         },
         "target": {
          "fixed": 0,
          "index": 32,
          "label": "h2,1",
          "label_display": "none",
          "px": 348.4069633574117,
          "py": 408.76281398343616,
          "shape": "circle",
          "shape_attrs": {
           "r": 15
          },
          "value": null,
          "weight": 21,
          "x": 348.4069633574117,
          "xval": 60,
          "y": 408.76281398343616,
          "yval": 90.90909090909092
         },
         "value": 1
        },
        {
         "source": {
          "index": 18,
          "label": "h1,7",
          "label_display": "none",
          "px": 444.28747307460884,
          "py": 402.5857074144147,
          "shape": "circle",
          "shape_attrs": {
           "r": 15
          },
          "value": null,
          "weight": 22,
          "x": 444.28189322820117,
          "xval": 40,
          "y": 402.5864217166488,
          "yval": 66.66666666666667
         },
         "target": {
          "fixed": 0,
          "index": 33,
          "label": "h2,2",
          "label_display": "none",
          "px": 348.98267226676734,
          "py": 414.2410318591959,
          "shape": "circle",
          "shape_attrs": {
           "r": 15
          },
          "value": null,
          "weight": 21,
          "x": 348.98267226676734,
          "xval": 60,
          "y": 414.2410318591959,
          "yval": 81.81818181818183
         },
         "value": 1
        },
        {
         "source": {
          "index": 18,
          "label": "h1,7",
          "label_display": "none",
          "px": 444.28747307460884,
          "py": 402.5857074144147,
          "shape": "circle",
          "shape_attrs": {
           "r": 15
          },
          "value": null,
          "weight": 22,
          "x": 444.28189322820117,
          "xval": 40,
          "y": 402.5864217166488,
          "yval": 66.66666666666667
         },
         "target": {
          "fixed": 0,
          "index": 34,
          "label": "h2,3",
          "label_display": "none",
          "px": 537.4603229397491,
          "py": 374.0357973649497,
          "shape": "circle",
          "shape_attrs": {
           "r": 15
          },
          "value": null,
          "weight": 21,
          "x": 537.4603229397491,
          "xval": 60,
          "y": 374.0357973649497,
          "yval": 72.72727272727273
         },
         "value": 1
        },
        {
         "source": {
          "index": 18,
          "label": "h1,7",
          "label_display": "none",
          "px": 444.28747307460884,
          "py": 402.5857074144147,
          "shape": "circle",
          "shape_attrs": {
           "r": 15
          },
          "value": null,
          "weight": 22,
          "x": 444.28189322820117,
          "xval": 40,
          "y": 402.5864217166488,
          "yval": 66.66666666666667
         },
         "target": {
          "index": 35,
          "label": "h2,4",
          "label_display": "none",
          "px": 538.4970595658459,
          "py": 378.0861567241818,
          "shape": "circle",
          "shape_attrs": {
           "r": 15
          },
          "value": null,
          "weight": 21,
          "x": 538.5316781024794,
          "xval": 60,
          "y": 378.0560742106646,
          "yval": 63.63636363636364
         },
         "value": 1
        },
        {
         "source": {
          "index": 18,
          "label": "h1,7",
          "label_display": "none",
          "px": 444.28747307460884,
          "py": 402.5857074144147,
          "shape": "circle",
          "shape_attrs": {
           "r": 15
          },
          "value": null,
          "weight": 22,
          "x": 444.28189322820117,
          "xval": 40,
          "y": 402.5864217166488,
          "yval": 66.66666666666667
         },
         "target": {
          "index": 36,
          "label": "h2,5",
          "label_display": "none",
          "px": 541.9506789452461,
          "py": 405.2045046484753,
          "shape": "circle",
          "shape_attrs": {
           "r": 15
          },
          "value": null,
          "weight": 21,
          "x": 541.9919124283681,
          "xval": 60,
          "y": 405.2694016450591,
          "yval": 54.54545454545455
         },
         "value": 1
        },
        {
         "source": {
          "index": 18,
          "label": "h1,7",
          "label_display": "none",
          "px": 444.28747307460884,
          "py": 402.5857074144147,
          "shape": "circle",
          "shape_attrs": {
           "r": 15
          },
          "value": null,
          "weight": 22,
          "x": 444.28189322820117,
          "xval": 40,
          "y": 402.5864217166488,
          "yval": 66.66666666666667
         },
         "target": {
          "index": 37,
          "label": "h2,6",
          "label_display": "none",
          "px": 540.2884600965493,
          "py": 386.07667443285,
          "shape": "circle",
          "shape_attrs": {
           "r": 15
          },
          "value": null,
          "weight": 21,
          "x": 540.3296107385247,
          "xval": 60,
          "y": 386.0726175500124,
          "yval": 45.45454545454546
         },
         "value": 1
        },
        {
         "source": {
          "index": 18,
          "label": "h1,7",
          "label_display": "none",
          "px": 444.28747307460884,
          "py": 402.5857074144147,
          "shape": "circle",
          "shape_attrs": {
           "r": 15
          },
          "value": null,
          "weight": 22,
          "x": 444.28189322820117,
          "xval": 40,
          "y": 402.5864217166488,
          "yval": 66.66666666666667
         },
         "target": {
          "index": 38,
          "label": "h2,7",
          "label_display": "none",
          "px": 541.4812921164678,
          "py": 394.6419287169871,
          "shape": "circle",
          "shape_attrs": {
           "r": 15
          },
          "value": null,
          "weight": 21,
          "x": 541.5256498499048,
          "xval": 60,
          "y": 394.6711846016649,
          "yval": 36.36363636363637
         },
         "value": 1
        },
        {
         "source": {
          "index": 18,
          "label": "h1,7",
          "label_display": "none",
          "px": 444.28747307460884,
          "py": 402.5857074144147,
          "shape": "circle",
          "shape_attrs": {
           "r": 15
          },
          "value": null,
          "weight": 22,
          "x": 444.28189322820117,
          "xval": 40,
          "y": 402.5864217166488,
          "yval": 66.66666666666667
         },
         "target": {
          "index": 39,
          "label": "h2,8",
          "label_display": "none",
          "px": 539.4750872865833,
          "py": 382.06791160469925,
          "shape": "circle",
          "shape_attrs": {
           "r": 15
          },
          "value": null,
          "weight": 21,
          "x": 539.5135288298698,
          "xval": 60,
          "y": 382.05054442074044,
          "yval": 27.272727272727273
         },
         "value": 1
        },
        {
         "source": {
          "index": 18,
          "label": "h1,7",
          "label_display": "none",
          "px": 444.28747307460884,
          "py": 402.5857074144147,
          "shape": "circle",
          "shape_attrs": {
           "r": 15
          },
          "value": null,
          "weight": 22,
          "x": 444.28189322820117,
          "xval": 40,
          "y": 402.5864217166488,
          "yval": 66.66666666666667
         },
         "target": {
          "fixed": 0,
          "index": 40,
          "label": "h2,9",
          "label_display": "none",
          "px": 541.8789771051929,
          "py": 399.51769602374225,
          "shape": "circle",
          "shape_attrs": {
           "r": 15
          },
          "value": null,
          "weight": 21,
          "x": 541.8789771051929,
          "xval": 60,
          "y": 399.51769602374225,
          "yval": 18.181818181818183
         },
         "value": 1
        },
        {
         "source": {
          "index": 18,
          "label": "h1,7",
          "label_display": "none",
          "px": 444.28747307460884,
          "py": 402.5857074144147,
          "shape": "circle",
          "shape_attrs": {
           "r": 15
          },
          "value": null,
          "weight": 22,
          "x": 444.28189322820117,
          "xval": 40,
          "y": 402.5864217166488,
          "yval": 66.66666666666667
         },
         "target": {
          "index": 41,
          "label": "h2,10",
          "label_display": "none",
          "px": 540.9635353553583,
          "py": 390.2506362665784,
          "shape": "circle",
          "shape_attrs": {
           "r": 15
          },
          "value": null,
          "weight": 21,
          "x": 541.0069568340803,
          "xval": 60,
          "y": 390.2620434189789,
          "yval": 9.090909090909092
         },
         "value": 1
        },
        {
         "source": {
          "index": 19,
          "label": "h1,8",
          "label_display": "none",
          "px": 436.96694163354766,
          "py": 370.835219648978,
          "shape": "circle",
          "shape_attrs": {
           "r": 15
          },
          "value": null,
          "weight": 22,
          "x": 436.93081668870667,
          "xval": 40,
          "y": 370.7487234007221,
          "yval": 61.904761904761905
         },
         "target": {
          "fixed": 0,
          "index": 32,
          "label": "h2,1",
          "label_display": "none",
          "px": 348.4069633574117,
          "py": 408.76281398343616,
          "shape": "circle",
          "shape_attrs": {
           "r": 15
          },
          "value": null,
          "weight": 21,
          "x": 348.4069633574117,
          "xval": 60,
          "y": 408.76281398343616,
          "yval": 90.90909090909092
         },
         "value": 1
        },
        {
         "source": {
          "index": 19,
          "label": "h1,8",
          "label_display": "none",
          "px": 436.96694163354766,
          "py": 370.835219648978,
          "shape": "circle",
          "shape_attrs": {
           "r": 15
          },
          "value": null,
          "weight": 22,
          "x": 436.93081668870667,
          "xval": 40,
          "y": 370.7487234007221,
          "yval": 61.904761904761905
         },
         "target": {
          "fixed": 0,
          "index": 33,
          "label": "h2,2",
          "label_display": "none",
          "px": 348.98267226676734,
          "py": 414.2410318591959,
          "shape": "circle",
          "shape_attrs": {
           "r": 15
          },
          "value": null,
          "weight": 21,
          "x": 348.98267226676734,
          "xval": 60,
          "y": 414.2410318591959,
          "yval": 81.81818181818183
         },
         "value": 1
        },
        {
         "source": {
          "index": 19,
          "label": "h1,8",
          "label_display": "none",
          "px": 436.96694163354766,
          "py": 370.835219648978,
          "shape": "circle",
          "shape_attrs": {
           "r": 15
          },
          "value": null,
          "weight": 22,
          "x": 436.93081668870667,
          "xval": 40,
          "y": 370.7487234007221,
          "yval": 61.904761904761905
         },
         "target": {
          "fixed": 0,
          "index": 34,
          "label": "h2,3",
          "label_display": "none",
          "px": 537.4603229397491,
          "py": 374.0357973649497,
          "shape": "circle",
          "shape_attrs": {
           "r": 15
          },
          "value": null,
          "weight": 21,
          "x": 537.4603229397491,
          "xval": 60,
          "y": 374.0357973649497,
          "yval": 72.72727272727273
         },
         "value": 1
        },
        {
         "source": {
          "index": 19,
          "label": "h1,8",
          "label_display": "none",
          "px": 436.96694163354766,
          "py": 370.835219648978,
          "shape": "circle",
          "shape_attrs": {
           "r": 15
          },
          "value": null,
          "weight": 22,
          "x": 436.93081668870667,
          "xval": 40,
          "y": 370.7487234007221,
          "yval": 61.904761904761905
         },
         "target": {
          "index": 35,
          "label": "h2,4",
          "label_display": "none",
          "px": 538.4970595658459,
          "py": 378.0861567241818,
          "shape": "circle",
          "shape_attrs": {
           "r": 15
          },
          "value": null,
          "weight": 21,
          "x": 538.5316781024794,
          "xval": 60,
          "y": 378.0560742106646,
          "yval": 63.63636363636364
         },
         "value": 1
        },
        {
         "source": {
          "index": 19,
          "label": "h1,8",
          "label_display": "none",
          "px": 436.96694163354766,
          "py": 370.835219648978,
          "shape": "circle",
          "shape_attrs": {
           "r": 15
          },
          "value": null,
          "weight": 22,
          "x": 436.93081668870667,
          "xval": 40,
          "y": 370.7487234007221,
          "yval": 61.904761904761905
         },
         "target": {
          "index": 36,
          "label": "h2,5",
          "label_display": "none",
          "px": 541.9506789452461,
          "py": 405.2045046484753,
          "shape": "circle",
          "shape_attrs": {
           "r": 15
          },
          "value": null,
          "weight": 21,
          "x": 541.9919124283681,
          "xval": 60,
          "y": 405.2694016450591,
          "yval": 54.54545454545455
         },
         "value": 1
        },
        {
         "source": {
          "index": 19,
          "label": "h1,8",
          "label_display": "none",
          "px": 436.96694163354766,
          "py": 370.835219648978,
          "shape": "circle",
          "shape_attrs": {
           "r": 15
          },
          "value": null,
          "weight": 22,
          "x": 436.93081668870667,
          "xval": 40,
          "y": 370.7487234007221,
          "yval": 61.904761904761905
         },
         "target": {
          "index": 37,
          "label": "h2,6",
          "label_display": "none",
          "px": 540.2884600965493,
          "py": 386.07667443285,
          "shape": "circle",
          "shape_attrs": {
           "r": 15
          },
          "value": null,
          "weight": 21,
          "x": 540.3296107385247,
          "xval": 60,
          "y": 386.0726175500124,
          "yval": 45.45454545454546
         },
         "value": 1
        },
        {
         "source": {
          "index": 19,
          "label": "h1,8",
          "label_display": "none",
          "px": 436.96694163354766,
          "py": 370.835219648978,
          "shape": "circle",
          "shape_attrs": {
           "r": 15
          },
          "value": null,
          "weight": 22,
          "x": 436.93081668870667,
          "xval": 40,
          "y": 370.7487234007221,
          "yval": 61.904761904761905
         },
         "target": {
          "index": 38,
          "label": "h2,7",
          "label_display": "none",
          "px": 541.4812921164678,
          "py": 394.6419287169871,
          "shape": "circle",
          "shape_attrs": {
           "r": 15
          },
          "value": null,
          "weight": 21,
          "x": 541.5256498499048,
          "xval": 60,
          "y": 394.6711846016649,
          "yval": 36.36363636363637
         },
         "value": 1
        },
        {
         "source": {
          "index": 19,
          "label": "h1,8",
          "label_display": "none",
          "px": 436.96694163354766,
          "py": 370.835219648978,
          "shape": "circle",
          "shape_attrs": {
           "r": 15
          },
          "value": null,
          "weight": 22,
          "x": 436.93081668870667,
          "xval": 40,
          "y": 370.7487234007221,
          "yval": 61.904761904761905
         },
         "target": {
          "index": 39,
          "label": "h2,8",
          "label_display": "none",
          "px": 539.4750872865833,
          "py": 382.06791160469925,
          "shape": "circle",
          "shape_attrs": {
           "r": 15
          },
          "value": null,
          "weight": 21,
          "x": 539.5135288298698,
          "xval": 60,
          "y": 382.05054442074044,
          "yval": 27.272727272727273
         },
         "value": 1
        },
        {
         "source": {
          "index": 19,
          "label": "h1,8",
          "label_display": "none",
          "px": 436.96694163354766,
          "py": 370.835219648978,
          "shape": "circle",
          "shape_attrs": {
           "r": 15
          },
          "value": null,
          "weight": 22,
          "x": 436.93081668870667,
          "xval": 40,
          "y": 370.7487234007221,
          "yval": 61.904761904761905
         },
         "target": {
          "fixed": 0,
          "index": 40,
          "label": "h2,9",
          "label_display": "none",
          "px": 541.8789771051929,
          "py": 399.51769602374225,
          "shape": "circle",
          "shape_attrs": {
           "r": 15
          },
          "value": null,
          "weight": 21,
          "x": 541.8789771051929,
          "xval": 60,
          "y": 399.51769602374225,
          "yval": 18.181818181818183
         },
         "value": 1
        },
        {
         "source": {
          "index": 19,
          "label": "h1,8",
          "label_display": "none",
          "px": 436.96694163354766,
          "py": 370.835219648978,
          "shape": "circle",
          "shape_attrs": {
           "r": 15
          },
          "value": null,
          "weight": 22,
          "x": 436.93081668870667,
          "xval": 40,
          "y": 370.7487234007221,
          "yval": 61.904761904761905
         },
         "target": {
          "index": 41,
          "label": "h2,10",
          "label_display": "none",
          "px": 540.9635353553583,
          "py": 390.2506362665784,
          "shape": "circle",
          "shape_attrs": {
           "r": 15
          },
          "value": null,
          "weight": 21,
          "x": 541.0069568340803,
          "xval": 60,
          "y": 390.2620434189789,
          "yval": 9.090909090909092
         },
         "value": 1
        },
        {
         "source": {
          "index": 20,
          "label": "h1,9",
          "label_display": "none",
          "px": 443.12903262452926,
          "py": 397.77183731760726,
          "shape": "circle",
          "shape_attrs": {
           "r": 15
          },
          "value": null,
          "weight": 22,
          "x": 443.1225250371738,
          "xval": 40,
          "y": 397.77048960247726,
          "yval": 57.14285714285714
         },
         "target": {
          "fixed": 0,
          "index": 32,
          "label": "h2,1",
          "label_display": "none",
          "px": 348.4069633574117,
          "py": 408.76281398343616,
          "shape": "circle",
          "shape_attrs": {
           "r": 15
          },
          "value": null,
          "weight": 21,
          "x": 348.4069633574117,
          "xval": 60,
          "y": 408.76281398343616,
          "yval": 90.90909090909092
         },
         "value": 1
        },
        {
         "source": {
          "index": 20,
          "label": "h1,9",
          "label_display": "none",
          "px": 443.12903262452926,
          "py": 397.77183731760726,
          "shape": "circle",
          "shape_attrs": {
           "r": 15
          },
          "value": null,
          "weight": 22,
          "x": 443.1225250371738,
          "xval": 40,
          "y": 397.77048960247726,
          "yval": 57.14285714285714
         },
         "target": {
          "fixed": 0,
          "index": 33,
          "label": "h2,2",
          "label_display": "none",
          "px": 348.98267226676734,
          "py": 414.2410318591959,
          "shape": "circle",
          "shape_attrs": {
           "r": 15
          },
          "value": null,
          "weight": 21,
          "x": 348.98267226676734,
          "xval": 60,
          "y": 414.2410318591959,
          "yval": 81.81818181818183
         },
         "value": 1
        },
        {
         "source": {
          "index": 20,
          "label": "h1,9",
          "label_display": "none",
          "px": 443.12903262452926,
          "py": 397.77183731760726,
          "shape": "circle",
          "shape_attrs": {
           "r": 15
          },
          "value": null,
          "weight": 22,
          "x": 443.1225250371738,
          "xval": 40,
          "y": 397.77048960247726,
          "yval": 57.14285714285714
         },
         "target": {
          "fixed": 0,
          "index": 34,
          "label": "h2,3",
          "label_display": "none",
          "px": 537.4603229397491,
          "py": 374.0357973649497,
          "shape": "circle",
          "shape_attrs": {
           "r": 15
          },
          "value": null,
          "weight": 21,
          "x": 537.4603229397491,
          "xval": 60,
          "y": 374.0357973649497,
          "yval": 72.72727272727273
         },
         "value": 1
        },
        {
         "source": {
          "index": 20,
          "label": "h1,9",
          "label_display": "none",
          "px": 443.12903262452926,
          "py": 397.77183731760726,
          "shape": "circle",
          "shape_attrs": {
           "r": 15
          },
          "value": null,
          "weight": 22,
          "x": 443.1225250371738,
          "xval": 40,
          "y": 397.77048960247726,
          "yval": 57.14285714285714
         },
         "target": {
          "index": 35,
          "label": "h2,4",
          "label_display": "none",
          "px": 538.4970595658459,
          "py": 378.0861567241818,
          "shape": "circle",
          "shape_attrs": {
           "r": 15
          },
          "value": null,
          "weight": 21,
          "x": 538.5316781024794,
          "xval": 60,
          "y": 378.0560742106646,
          "yval": 63.63636363636364
         },
         "value": 1
        },
        {
         "source": {
          "index": 20,
          "label": "h1,9",
          "label_display": "none",
          "px": 443.12903262452926,
          "py": 397.77183731760726,
          "shape": "circle",
          "shape_attrs": {
           "r": 15
          },
          "value": null,
          "weight": 22,
          "x": 443.1225250371738,
          "xval": 40,
          "y": 397.77048960247726,
          "yval": 57.14285714285714
         },
         "target": {
          "index": 36,
          "label": "h2,5",
          "label_display": "none",
          "px": 541.9506789452461,
          "py": 405.2045046484753,
          "shape": "circle",
          "shape_attrs": {
           "r": 15
          },
          "value": null,
          "weight": 21,
          "x": 541.9919124283681,
          "xval": 60,
          "y": 405.2694016450591,
          "yval": 54.54545454545455
         },
         "value": 1
        },
        {
         "source": {
          "index": 20,
          "label": "h1,9",
          "label_display": "none",
          "px": 443.12903262452926,
          "py": 397.77183731760726,
          "shape": "circle",
          "shape_attrs": {
           "r": 15
          },
          "value": null,
          "weight": 22,
          "x": 443.1225250371738,
          "xval": 40,
          "y": 397.77048960247726,
          "yval": 57.14285714285714
         },
         "target": {
          "index": 37,
          "label": "h2,6",
          "label_display": "none",
          "px": 540.2884600965493,
          "py": 386.07667443285,
          "shape": "circle",
          "shape_attrs": {
           "r": 15
          },
          "value": null,
          "weight": 21,
          "x": 540.3296107385247,
          "xval": 60,
          "y": 386.0726175500124,
          "yval": 45.45454545454546
         },
         "value": 1
        },
        {
         "source": {
          "index": 20,
          "label": "h1,9",
          "label_display": "none",
          "px": 443.12903262452926,
          "py": 397.77183731760726,
          "shape": "circle",
          "shape_attrs": {
           "r": 15
          },
          "value": null,
          "weight": 22,
          "x": 443.1225250371738,
          "xval": 40,
          "y": 397.77048960247726,
          "yval": 57.14285714285714
         },
         "target": {
          "index": 38,
          "label": "h2,7",
          "label_display": "none",
          "px": 541.4812921164678,
          "py": 394.6419287169871,
          "shape": "circle",
          "shape_attrs": {
           "r": 15
          },
          "value": null,
          "weight": 21,
          "x": 541.5256498499048,
          "xval": 60,
          "y": 394.6711846016649,
          "yval": 36.36363636363637
         },
         "value": 1
        },
        {
         "source": {
          "index": 20,
          "label": "h1,9",
          "label_display": "none",
          "px": 443.12903262452926,
          "py": 397.77183731760726,
          "shape": "circle",
          "shape_attrs": {
           "r": 15
          },
          "value": null,
          "weight": 22,
          "x": 443.1225250371738,
          "xval": 40,
          "y": 397.77048960247726,
          "yval": 57.14285714285714
         },
         "target": {
          "index": 39,
          "label": "h2,8",
          "label_display": "none",
          "px": 539.4750872865833,
          "py": 382.06791160469925,
          "shape": "circle",
          "shape_attrs": {
           "r": 15
          },
          "value": null,
          "weight": 21,
          "x": 539.5135288298698,
          "xval": 60,
          "y": 382.05054442074044,
          "yval": 27.272727272727273
         },
         "value": 1
        },
        {
         "source": {
          "index": 20,
          "label": "h1,9",
          "label_display": "none",
          "px": 443.12903262452926,
          "py": 397.77183731760726,
          "shape": "circle",
          "shape_attrs": {
           "r": 15
          },
          "value": null,
          "weight": 22,
          "x": 443.1225250371738,
          "xval": 40,
          "y": 397.77048960247726,
          "yval": 57.14285714285714
         },
         "target": {
          "fixed": 0,
          "index": 40,
          "label": "h2,9",
          "label_display": "none",
          "px": 541.8789771051929,
          "py": 399.51769602374225,
          "shape": "circle",
          "shape_attrs": {
           "r": 15
          },
          "value": null,
          "weight": 21,
          "x": 541.8789771051929,
          "xval": 60,
          "y": 399.51769602374225,
          "yval": 18.181818181818183
         },
         "value": 1
        },
        {
         "source": {
          "index": 20,
          "label": "h1,9",
          "label_display": "none",
          "px": 443.12903262452926,
          "py": 397.77183731760726,
          "shape": "circle",
          "shape_attrs": {
           "r": 15
          },
          "value": null,
          "weight": 22,
          "x": 443.1225250371738,
          "xval": 40,
          "y": 397.77048960247726,
          "yval": 57.14285714285714
         },
         "target": {
          "index": 41,
          "label": "h2,10",
          "label_display": "none",
          "px": 540.9635353553583,
          "py": 390.2506362665784,
          "shape": "circle",
          "shape_attrs": {
           "r": 15
          },
          "value": null,
          "weight": 21,
          "x": 541.0069568340803,
          "xval": 60,
          "y": 390.2620434189789,
          "yval": 9.090909090909092
         },
         "value": 1
        },
        {
         "source": {
          "index": 21,
          "label": "h1,10",
          "label_display": "none",
          "px": 453.47719733511025,
          "py": 437.1791317957166,
          "shape": "circle",
          "shape_attrs": {
           "r": 15
          },
          "value": null,
          "weight": 22,
          "x": 453.50705008596486,
          "xval": 40,
          "y": 437.28186603254966,
          "yval": 52.38095238095238
         },
         "target": {
          "fixed": 0,
          "index": 32,
          "label": "h2,1",
          "label_display": "none",
          "px": 348.4069633574117,
          "py": 408.76281398343616,
          "shape": "circle",
          "shape_attrs": {
           "r": 15
          },
          "value": null,
          "weight": 21,
          "x": 348.4069633574117,
          "xval": 60,
          "y": 408.76281398343616,
          "yval": 90.90909090909092
         },
         "value": 1
        },
        {
         "source": {
          "index": 21,
          "label": "h1,10",
          "label_display": "none",
          "px": 453.47719733511025,
          "py": 437.1791317957166,
          "shape": "circle",
          "shape_attrs": {
           "r": 15
          },
          "value": null,
          "weight": 22,
          "x": 453.50705008596486,
          "xval": 40,
          "y": 437.28186603254966,
          "yval": 52.38095238095238
         },
         "target": {
          "fixed": 0,
          "index": 33,
          "label": "h2,2",
          "label_display": "none",
          "px": 348.98267226676734,
          "py": 414.2410318591959,
          "shape": "circle",
          "shape_attrs": {
           "r": 15
          },
          "value": null,
          "weight": 21,
          "x": 348.98267226676734,
          "xval": 60,
          "y": 414.2410318591959,
          "yval": 81.81818181818183
         },
         "value": 1
        },
        {
         "source": {
          "index": 21,
          "label": "h1,10",
          "label_display": "none",
          "px": 453.47719733511025,
          "py": 437.1791317957166,
          "shape": "circle",
          "shape_attrs": {
           "r": 15
          },
          "value": null,
          "weight": 22,
          "x": 453.50705008596486,
          "xval": 40,
          "y": 437.28186603254966,
          "yval": 52.38095238095238
         },
         "target": {
          "fixed": 0,
          "index": 34,
          "label": "h2,3",
          "label_display": "none",
          "px": 537.4603229397491,
          "py": 374.0357973649497,
          "shape": "circle",
          "shape_attrs": {
           "r": 15
          },
          "value": null,
          "weight": 21,
          "x": 537.4603229397491,
          "xval": 60,
          "y": 374.0357973649497,
          "yval": 72.72727272727273
         },
         "value": 1
        },
        {
         "source": {
          "index": 21,
          "label": "h1,10",
          "label_display": "none",
          "px": 453.47719733511025,
          "py": 437.1791317957166,
          "shape": "circle",
          "shape_attrs": {
           "r": 15
          },
          "value": null,
          "weight": 22,
          "x": 453.50705008596486,
          "xval": 40,
          "y": 437.28186603254966,
          "yval": 52.38095238095238
         },
         "target": {
          "index": 35,
          "label": "h2,4",
          "label_display": "none",
          "px": 538.4970595658459,
          "py": 378.0861567241818,
          "shape": "circle",
          "shape_attrs": {
           "r": 15
          },
          "value": null,
          "weight": 21,
          "x": 538.5316781024794,
          "xval": 60,
          "y": 378.0560742106646,
          "yval": 63.63636363636364
         },
         "value": 1
        },
        {
         "source": {
          "index": 21,
          "label": "h1,10",
          "label_display": "none",
          "px": 453.47719733511025,
          "py": 437.1791317957166,
          "shape": "circle",
          "shape_attrs": {
           "r": 15
          },
          "value": null,
          "weight": 22,
          "x": 453.50705008596486,
          "xval": 40,
          "y": 437.28186603254966,
          "yval": 52.38095238095238
         },
         "target": {
          "index": 36,
          "label": "h2,5",
          "label_display": "none",
          "px": 541.9506789452461,
          "py": 405.2045046484753,
          "shape": "circle",
          "shape_attrs": {
           "r": 15
          },
          "value": null,
          "weight": 21,
          "x": 541.9919124283681,
          "xval": 60,
          "y": 405.2694016450591,
          "yval": 54.54545454545455
         },
         "value": 1
        },
        {
         "source": {
          "index": 21,
          "label": "h1,10",
          "label_display": "none",
          "px": 453.47719733511025,
          "py": 437.1791317957166,
          "shape": "circle",
          "shape_attrs": {
           "r": 15
          },
          "value": null,
          "weight": 22,
          "x": 453.50705008596486,
          "xval": 40,
          "y": 437.28186603254966,
          "yval": 52.38095238095238
         },
         "target": {
          "index": 37,
          "label": "h2,6",
          "label_display": "none",
          "px": 540.2884600965493,
          "py": 386.07667443285,
          "shape": "circle",
          "shape_attrs": {
           "r": 15
          },
          "value": null,
          "weight": 21,
          "x": 540.3296107385247,
          "xval": 60,
          "y": 386.0726175500124,
          "yval": 45.45454545454546
         },
         "value": 1
        },
        {
         "source": {
          "index": 21,
          "label": "h1,10",
          "label_display": "none",
          "px": 453.47719733511025,
          "py": 437.1791317957166,
          "shape": "circle",
          "shape_attrs": {
           "r": 15
          },
          "value": null,
          "weight": 22,
          "x": 453.50705008596486,
          "xval": 40,
          "y": 437.28186603254966,
          "yval": 52.38095238095238
         },
         "target": {
          "index": 38,
          "label": "h2,7",
          "label_display": "none",
          "px": 541.4812921164678,
          "py": 394.6419287169871,
          "shape": "circle",
          "shape_attrs": {
           "r": 15
          },
          "value": null,
          "weight": 21,
          "x": 541.5256498499048,
          "xval": 60,
          "y": 394.6711846016649,
          "yval": 36.36363636363637
         },
         "value": 1
        },
        {
         "source": {
          "index": 21,
          "label": "h1,10",
          "label_display": "none",
          "px": 453.47719733511025,
          "py": 437.1791317957166,
          "shape": "circle",
          "shape_attrs": {
           "r": 15
          },
          "value": null,
          "weight": 22,
          "x": 453.50705008596486,
          "xval": 40,
          "y": 437.28186603254966,
          "yval": 52.38095238095238
         },
         "target": {
          "index": 39,
          "label": "h2,8",
          "label_display": "none",
          "px": 539.4750872865833,
          "py": 382.06791160469925,
          "shape": "circle",
          "shape_attrs": {
           "r": 15
          },
          "value": null,
          "weight": 21,
          "x": 539.5135288298698,
          "xval": 60,
          "y": 382.05054442074044,
          "yval": 27.272727272727273
         },
         "value": 1
        },
        {
         "source": {
          "index": 21,
          "label": "h1,10",
          "label_display": "none",
          "px": 453.47719733511025,
          "py": 437.1791317957166,
          "shape": "circle",
          "shape_attrs": {
           "r": 15
          },
          "value": null,
          "weight": 22,
          "x": 453.50705008596486,
          "xval": 40,
          "y": 437.28186603254966,
          "yval": 52.38095238095238
         },
         "target": {
          "fixed": 0,
          "index": 40,
          "label": "h2,9",
          "label_display": "none",
          "px": 541.8789771051929,
          "py": 399.51769602374225,
          "shape": "circle",
          "shape_attrs": {
           "r": 15
          },
          "value": null,
          "weight": 21,
          "x": 541.8789771051929,
          "xval": 60,
          "y": 399.51769602374225,
          "yval": 18.181818181818183
         },
         "value": 1
        },
        {
         "source": {
          "index": 21,
          "label": "h1,10",
          "label_display": "none",
          "px": 453.47719733511025,
          "py": 437.1791317957166,
          "shape": "circle",
          "shape_attrs": {
           "r": 15
          },
          "value": null,
          "weight": 22,
          "x": 453.50705008596486,
          "xval": 40,
          "y": 437.28186603254966,
          "yval": 52.38095238095238
         },
         "target": {
          "index": 41,
          "label": "h2,10",
          "label_display": "none",
          "px": 540.9635353553583,
          "py": 390.2506362665784,
          "shape": "circle",
          "shape_attrs": {
           "r": 15
          },
          "value": null,
          "weight": 21,
          "x": 541.0069568340803,
          "xval": 60,
          "y": 390.2620434189789,
          "yval": 9.090909090909092
         },
         "value": 1
        },
        {
         "source": {
          "index": 22,
          "label": "h1,11",
          "label_display": "none",
          "px": 450.6931880317312,
          "py": 427.36854915169533,
          "shape": "circle",
          "shape_attrs": {
           "r": 15
          },
          "value": null,
          "weight": 22,
          "x": 450.70224459711284,
          "xval": 40,
          "y": 427.40707742900895,
          "yval": 47.61904761904762
         },
         "target": {
          "fixed": 0,
          "index": 32,
          "label": "h2,1",
          "label_display": "none",
          "px": 348.4069633574117,
          "py": 408.76281398343616,
          "shape": "circle",
          "shape_attrs": {
           "r": 15
          },
          "value": null,
          "weight": 21,
          "x": 348.4069633574117,
          "xval": 60,
          "y": 408.76281398343616,
          "yval": 90.90909090909092
         },
         "value": 1
        },
        {
         "source": {
          "index": 22,
          "label": "h1,11",
          "label_display": "none",
          "px": 450.6931880317312,
          "py": 427.36854915169533,
          "shape": "circle",
          "shape_attrs": {
           "r": 15
          },
          "value": null,
          "weight": 22,
          "x": 450.70224459711284,
          "xval": 40,
          "y": 427.40707742900895,
          "yval": 47.61904761904762
         },
         "target": {
          "fixed": 0,
          "index": 33,
          "label": "h2,2",
          "label_display": "none",
          "px": 348.98267226676734,
          "py": 414.2410318591959,
          "shape": "circle",
          "shape_attrs": {
           "r": 15
          },
          "value": null,
          "weight": 21,
          "x": 348.98267226676734,
          "xval": 60,
          "y": 414.2410318591959,
          "yval": 81.81818181818183
         },
         "value": 1
        },
        {
         "source": {
          "index": 22,
          "label": "h1,11",
          "label_display": "none",
          "px": 450.6931880317312,
          "py": 427.36854915169533,
          "shape": "circle",
          "shape_attrs": {
           "r": 15
          },
          "value": null,
          "weight": 22,
          "x": 450.70224459711284,
          "xval": 40,
          "y": 427.40707742900895,
          "yval": 47.61904761904762
         },
         "target": {
          "fixed": 0,
          "index": 34,
          "label": "h2,3",
          "label_display": "none",
          "px": 537.4603229397491,
          "py": 374.0357973649497,
          "shape": "circle",
          "shape_attrs": {
           "r": 15
          },
          "value": null,
          "weight": 21,
          "x": 537.4603229397491,
          "xval": 60,
          "y": 374.0357973649497,
          "yval": 72.72727272727273
         },
         "value": 1
        },
        {
         "source": {
          "index": 22,
          "label": "h1,11",
          "label_display": "none",
          "px": 450.6931880317312,
          "py": 427.36854915169533,
          "shape": "circle",
          "shape_attrs": {
           "r": 15
          },
          "value": null,
          "weight": 22,
          "x": 450.70224459711284,
          "xval": 40,
          "y": 427.40707742900895,
          "yval": 47.61904761904762
         },
         "target": {
          "index": 35,
          "label": "h2,4",
          "label_display": "none",
          "px": 538.4970595658459,
          "py": 378.0861567241818,
          "shape": "circle",
          "shape_attrs": {
           "r": 15
          },
          "value": null,
          "weight": 21,
          "x": 538.5316781024794,
          "xval": 60,
          "y": 378.0560742106646,
          "yval": 63.63636363636364
         },
         "value": 1
        },
        {
         "source": {
          "index": 22,
          "label": "h1,11",
          "label_display": "none",
          "px": 450.6931880317312,
          "py": 427.36854915169533,
          "shape": "circle",
          "shape_attrs": {
           "r": 15
          },
          "value": null,
          "weight": 22,
          "x": 450.70224459711284,
          "xval": 40,
          "y": 427.40707742900895,
          "yval": 47.61904761904762
         },
         "target": {
          "index": 36,
          "label": "h2,5",
          "label_display": "none",
          "px": 541.9506789452461,
          "py": 405.2045046484753,
          "shape": "circle",
          "shape_attrs": {
           "r": 15
          },
          "value": null,
          "weight": 21,
          "x": 541.9919124283681,
          "xval": 60,
          "y": 405.2694016450591,
          "yval": 54.54545454545455
         },
         "value": 1
        },
        {
         "source": {
          "index": 22,
          "label": "h1,11",
          "label_display": "none",
          "px": 450.6931880317312,
          "py": 427.36854915169533,
          "shape": "circle",
          "shape_attrs": {
           "r": 15
          },
          "value": null,
          "weight": 22,
          "x": 450.70224459711284,
          "xval": 40,
          "y": 427.40707742900895,
          "yval": 47.61904761904762
         },
         "target": {
          "index": 37,
          "label": "h2,6",
          "label_display": "none",
          "px": 540.2884600965493,
          "py": 386.07667443285,
          "shape": "circle",
          "shape_attrs": {
           "r": 15
          },
          "value": null,
          "weight": 21,
          "x": 540.3296107385247,
          "xval": 60,
          "y": 386.0726175500124,
          "yval": 45.45454545454546
         },
         "value": 1
        },
        {
         "source": {
          "index": 22,
          "label": "h1,11",
          "label_display": "none",
          "px": 450.6931880317312,
          "py": 427.36854915169533,
          "shape": "circle",
          "shape_attrs": {
           "r": 15
          },
          "value": null,
          "weight": 22,
          "x": 450.70224459711284,
          "xval": 40,
          "y": 427.40707742900895,
          "yval": 47.61904761904762
         },
         "target": {
          "index": 38,
          "label": "h2,7",
          "label_display": "none",
          "px": 541.4812921164678,
          "py": 394.6419287169871,
          "shape": "circle",
          "shape_attrs": {
           "r": 15
          },
          "value": null,
          "weight": 21,
          "x": 541.5256498499048,
          "xval": 60,
          "y": 394.6711846016649,
          "yval": 36.36363636363637
         },
         "value": 1
        },
        {
         "source": {
          "index": 22,
          "label": "h1,11",
          "label_display": "none",
          "px": 450.6931880317312,
          "py": 427.36854915169533,
          "shape": "circle",
          "shape_attrs": {
           "r": 15
          },
          "value": null,
          "weight": 22,
          "x": 450.70224459711284,
          "xval": 40,
          "y": 427.40707742900895,
          "yval": 47.61904761904762
         },
         "target": {
          "index": 39,
          "label": "h2,8",
          "label_display": "none",
          "px": 539.4750872865833,
          "py": 382.06791160469925,
          "shape": "circle",
          "shape_attrs": {
           "r": 15
          },
          "value": null,
          "weight": 21,
          "x": 539.5135288298698,
          "xval": 60,
          "y": 382.05054442074044,
          "yval": 27.272727272727273
         },
         "value": 1
        },
        {
         "source": {
          "index": 22,
          "label": "h1,11",
          "label_display": "none",
          "px": 450.6931880317312,
          "py": 427.36854915169533,
          "shape": "circle",
          "shape_attrs": {
           "r": 15
          },
          "value": null,
          "weight": 22,
          "x": 450.70224459711284,
          "xval": 40,
          "y": 427.40707742900895,
          "yval": 47.61904761904762
         },
         "target": {
          "fixed": 0,
          "index": 40,
          "label": "h2,9",
          "label_display": "none",
          "px": 541.8789771051929,
          "py": 399.51769602374225,
          "shape": "circle",
          "shape_attrs": {
           "r": 15
          },
          "value": null,
          "weight": 21,
          "x": 541.8789771051929,
          "xval": 60,
          "y": 399.51769602374225,
          "yval": 18.181818181818183
         },
         "value": 1
        },
        {
         "source": {
          "index": 22,
          "label": "h1,11",
          "label_display": "none",
          "px": 450.6931880317312,
          "py": 427.36854915169533,
          "shape": "circle",
          "shape_attrs": {
           "r": 15
          },
          "value": null,
          "weight": 22,
          "x": 450.70224459711284,
          "xval": 40,
          "y": 427.40707742900895,
          "yval": 47.61904761904762
         },
         "target": {
          "index": 41,
          "label": "h2,10",
          "label_display": "none",
          "px": 540.9635353553583,
          "py": 390.2506362665784,
          "shape": "circle",
          "shape_attrs": {
           "r": 15
          },
          "value": null,
          "weight": 21,
          "x": 541.0069568340803,
          "xval": 60,
          "y": 390.2620434189789,
          "yval": 9.090909090909092
         },
         "value": 1
        },
        {
         "source": {
          "index": 23,
          "label": "h1,12",
          "label_display": "none",
          "px": 451.616956869591,
          "py": 430.68399636795544,
          "shape": "circle",
          "shape_attrs": {
           "r": 15
          },
          "value": null,
          "weight": 22,
          "x": 451.6308613454441,
          "xval": 40,
          "y": 430.73607807474326,
          "yval": 42.857142857142854
         },
         "target": {
          "fixed": 0,
          "index": 32,
          "label": "h2,1",
          "label_display": "none",
          "px": 348.4069633574117,
          "py": 408.76281398343616,
          "shape": "circle",
          "shape_attrs": {
           "r": 15
          },
          "value": null,
          "weight": 21,
          "x": 348.4069633574117,
          "xval": 60,
          "y": 408.76281398343616,
          "yval": 90.90909090909092
         },
         "value": 1
        },
        {
         "source": {
          "index": 23,
          "label": "h1,12",
          "label_display": "none",
          "px": 451.616956869591,
          "py": 430.68399636795544,
          "shape": "circle",
          "shape_attrs": {
           "r": 15
          },
          "value": null,
          "weight": 22,
          "x": 451.6308613454441,
          "xval": 40,
          "y": 430.73607807474326,
          "yval": 42.857142857142854
         },
         "target": {
          "fixed": 0,
          "index": 33,
          "label": "h2,2",
          "label_display": "none",
          "px": 348.98267226676734,
          "py": 414.2410318591959,
          "shape": "circle",
          "shape_attrs": {
           "r": 15
          },
          "value": null,
          "weight": 21,
          "x": 348.98267226676734,
          "xval": 60,
          "y": 414.2410318591959,
          "yval": 81.81818181818183
         },
         "value": 1
        },
        {
         "source": {
          "index": 23,
          "label": "h1,12",
          "label_display": "none",
          "px": 451.616956869591,
          "py": 430.68399636795544,
          "shape": "circle",
          "shape_attrs": {
           "r": 15
          },
          "value": null,
          "weight": 22,
          "x": 451.6308613454441,
          "xval": 40,
          "y": 430.73607807474326,
          "yval": 42.857142857142854
         },
         "target": {
          "fixed": 0,
          "index": 34,
          "label": "h2,3",
          "label_display": "none",
          "px": 537.4603229397491,
          "py": 374.0357973649497,
          "shape": "circle",
          "shape_attrs": {
           "r": 15
          },
          "value": null,
          "weight": 21,
          "x": 537.4603229397491,
          "xval": 60,
          "y": 374.0357973649497,
          "yval": 72.72727272727273
         },
         "value": 1
        },
        {
         "source": {
          "index": 23,
          "label": "h1,12",
          "label_display": "none",
          "px": 451.616956869591,
          "py": 430.68399636795544,
          "shape": "circle",
          "shape_attrs": {
           "r": 15
          },
          "value": null,
          "weight": 22,
          "x": 451.6308613454441,
          "xval": 40,
          "y": 430.73607807474326,
          "yval": 42.857142857142854
         },
         "target": {
          "index": 35,
          "label": "h2,4",
          "label_display": "none",
          "px": 538.4970595658459,
          "py": 378.0861567241818,
          "shape": "circle",
          "shape_attrs": {
           "r": 15
          },
          "value": null,
          "weight": 21,
          "x": 538.5316781024794,
          "xval": 60,
          "y": 378.0560742106646,
          "yval": 63.63636363636364
         },
         "value": 1
        },
        {
         "source": {
          "index": 23,
          "label": "h1,12",
          "label_display": "none",
          "px": 451.616956869591,
          "py": 430.68399636795544,
          "shape": "circle",
          "shape_attrs": {
           "r": 15
          },
          "value": null,
          "weight": 22,
          "x": 451.6308613454441,
          "xval": 40,
          "y": 430.73607807474326,
          "yval": 42.857142857142854
         },
         "target": {
          "index": 36,
          "label": "h2,5",
          "label_display": "none",
          "px": 541.9506789452461,
          "py": 405.2045046484753,
          "shape": "circle",
          "shape_attrs": {
           "r": 15
          },
          "value": null,
          "weight": 21,
          "x": 541.9919124283681,
          "xval": 60,
          "y": 405.2694016450591,
          "yval": 54.54545454545455
         },
         "value": 1
        },
        {
         "source": {
          "index": 23,
          "label": "h1,12",
          "label_display": "none",
          "px": 451.616956869591,
          "py": 430.68399636795544,
          "shape": "circle",
          "shape_attrs": {
           "r": 15
          },
          "value": null,
          "weight": 22,
          "x": 451.6308613454441,
          "xval": 40,
          "y": 430.73607807474326,
          "yval": 42.857142857142854
         },
         "target": {
          "index": 37,
          "label": "h2,6",
          "label_display": "none",
          "px": 540.2884600965493,
          "py": 386.07667443285,
          "shape": "circle",
          "shape_attrs": {
           "r": 15
          },
          "value": null,
          "weight": 21,
          "x": 540.3296107385247,
          "xval": 60,
          "y": 386.0726175500124,
          "yval": 45.45454545454546
         },
         "value": 1
        },
        {
         "source": {
          "index": 23,
          "label": "h1,12",
          "label_display": "none",
          "px": 451.616956869591,
          "py": 430.68399636795544,
          "shape": "circle",
          "shape_attrs": {
           "r": 15
          },
          "value": null,
          "weight": 22,
          "x": 451.6308613454441,
          "xval": 40,
          "y": 430.73607807474326,
          "yval": 42.857142857142854
         },
         "target": {
          "index": 38,
          "label": "h2,7",
          "label_display": "none",
          "px": 541.4812921164678,
          "py": 394.6419287169871,
          "shape": "circle",
          "shape_attrs": {
           "r": 15
          },
          "value": null,
          "weight": 21,
          "x": 541.5256498499048,
          "xval": 60,
          "y": 394.6711846016649,
          "yval": 36.36363636363637
         },
         "value": 1
        },
        {
         "source": {
          "index": 23,
          "label": "h1,12",
          "label_display": "none",
          "px": 451.616956869591,
          "py": 430.68399636795544,
          "shape": "circle",
          "shape_attrs": {
           "r": 15
          },
          "value": null,
          "weight": 22,
          "x": 451.6308613454441,
          "xval": 40,
          "y": 430.73607807474326,
          "yval": 42.857142857142854
         },
         "target": {
          "index": 39,
          "label": "h2,8",
          "label_display": "none",
          "px": 539.4750872865833,
          "py": 382.06791160469925,
          "shape": "circle",
          "shape_attrs": {
           "r": 15
          },
          "value": null,
          "weight": 21,
          "x": 539.5135288298698,
          "xval": 60,
          "y": 382.05054442074044,
          "yval": 27.272727272727273
         },
         "value": 1
        },
        {
         "source": {
          "index": 23,
          "label": "h1,12",
          "label_display": "none",
          "px": 451.616956869591,
          "py": 430.68399636795544,
          "shape": "circle",
          "shape_attrs": {
           "r": 15
          },
          "value": null,
          "weight": 22,
          "x": 451.6308613454441,
          "xval": 40,
          "y": 430.73607807474326,
          "yval": 42.857142857142854
         },
         "target": {
          "fixed": 0,
          "index": 40,
          "label": "h2,9",
          "label_display": "none",
          "px": 541.8789771051929,
          "py": 399.51769602374225,
          "shape": "circle",
          "shape_attrs": {
           "r": 15
          },
          "value": null,
          "weight": 21,
          "x": 541.8789771051929,
          "xval": 60,
          "y": 399.51769602374225,
          "yval": 18.181818181818183
         },
         "value": 1
        },
        {
         "source": {
          "index": 23,
          "label": "h1,12",
          "label_display": "none",
          "px": 451.616956869591,
          "py": 430.68399636795544,
          "shape": "circle",
          "shape_attrs": {
           "r": 15
          },
          "value": null,
          "weight": 22,
          "x": 451.6308613454441,
          "xval": 40,
          "y": 430.73607807474326,
          "yval": 42.857142857142854
         },
         "target": {
          "index": 41,
          "label": "h2,10",
          "label_display": "none",
          "px": 540.9635353553583,
          "py": 390.2506362665784,
          "shape": "circle",
          "shape_attrs": {
           "r": 15
          },
          "value": null,
          "weight": 21,
          "x": 541.0069568340803,
          "xval": 60,
          "y": 390.2620434189789,
          "yval": 9.090909090909092
         },
         "value": 1
        },
        {
         "source": {
          "index": 24,
          "label": "h1,13",
          "label_display": "none",
          "px": 449.7701933541918,
          "py": 423.95395938325044,
          "shape": "circle",
          "shape_attrs": {
           "r": 15
          },
          "value": null,
          "weight": 22,
          "x": 449.77543161498545,
          "xval": 40,
          "y": 423.979666438766,
          "yval": 38.095238095238095
         },
         "target": {
          "fixed": 0,
          "index": 32,
          "label": "h2,1",
          "label_display": "none",
          "px": 348.4069633574117,
          "py": 408.76281398343616,
          "shape": "circle",
          "shape_attrs": {
           "r": 15
          },
          "value": null,
          "weight": 21,
          "x": 348.4069633574117,
          "xval": 60,
          "y": 408.76281398343616,
          "yval": 90.90909090909092
         },
         "value": 1
        },
        {
         "source": {
          "index": 24,
          "label": "h1,13",
          "label_display": "none",
          "px": 449.7701933541918,
          "py": 423.95395938325044,
          "shape": "circle",
          "shape_attrs": {
           "r": 15
          },
          "value": null,
          "weight": 22,
          "x": 449.77543161498545,
          "xval": 40,
          "y": 423.979666438766,
          "yval": 38.095238095238095
         },
         "target": {
          "fixed": 0,
          "index": 33,
          "label": "h2,2",
          "label_display": "none",
          "px": 348.98267226676734,
          "py": 414.2410318591959,
          "shape": "circle",
          "shape_attrs": {
           "r": 15
          },
          "value": null,
          "weight": 21,
          "x": 348.98267226676734,
          "xval": 60,
          "y": 414.2410318591959,
          "yval": 81.81818181818183
         },
         "value": 1
        },
        {
         "source": {
          "index": 24,
          "label": "h1,13",
          "label_display": "none",
          "px": 449.7701933541918,
          "py": 423.95395938325044,
          "shape": "circle",
          "shape_attrs": {
           "r": 15
          },
          "value": null,
          "weight": 22,
          "x": 449.77543161498545,
          "xval": 40,
          "y": 423.979666438766,
          "yval": 38.095238095238095
         },
         "target": {
          "fixed": 0,
          "index": 34,
          "label": "h2,3",
          "label_display": "none",
          "px": 537.4603229397491,
          "py": 374.0357973649497,
          "shape": "circle",
          "shape_attrs": {
           "r": 15
          },
          "value": null,
          "weight": 21,
          "x": 537.4603229397491,
          "xval": 60,
          "y": 374.0357973649497,
          "yval": 72.72727272727273
         },
         "value": 1
        },
        {
         "source": {
          "index": 24,
          "label": "h1,13",
          "label_display": "none",
          "px": 449.7701933541918,
          "py": 423.95395938325044,
          "shape": "circle",
          "shape_attrs": {
           "r": 15
          },
          "value": null,
          "weight": 22,
          "x": 449.77543161498545,
          "xval": 40,
          "y": 423.979666438766,
          "yval": 38.095238095238095
         },
         "target": {
          "index": 35,
          "label": "h2,4",
          "label_display": "none",
          "px": 538.4970595658459,
          "py": 378.0861567241818,
          "shape": "circle",
          "shape_attrs": {
           "r": 15
          },
          "value": null,
          "weight": 21,
          "x": 538.5316781024794,
          "xval": 60,
          "y": 378.0560742106646,
          "yval": 63.63636363636364
         },
         "value": 1
        },
        {
         "source": {
          "index": 24,
          "label": "h1,13",
          "label_display": "none",
          "px": 449.7701933541918,
          "py": 423.95395938325044,
          "shape": "circle",
          "shape_attrs": {
           "r": 15
          },
          "value": null,
          "weight": 22,
          "x": 449.77543161498545,
          "xval": 40,
          "y": 423.979666438766,
          "yval": 38.095238095238095
         },
         "target": {
          "index": 36,
          "label": "h2,5",
          "label_display": "none",
          "px": 541.9506789452461,
          "py": 405.2045046484753,
          "shape": "circle",
          "shape_attrs": {
           "r": 15
          },
          "value": null,
          "weight": 21,
          "x": 541.9919124283681,
          "xval": 60,
          "y": 405.2694016450591,
          "yval": 54.54545454545455
         },
         "value": 1
        },
        {
         "source": {
          "index": 24,
          "label": "h1,13",
          "label_display": "none",
          "px": 449.7701933541918,
          "py": 423.95395938325044,
          "shape": "circle",
          "shape_attrs": {
           "r": 15
          },
          "value": null,
          "weight": 22,
          "x": 449.77543161498545,
          "xval": 40,
          "y": 423.979666438766,
          "yval": 38.095238095238095
         },
         "target": {
          "index": 37,
          "label": "h2,6",
          "label_display": "none",
          "px": 540.2884600965493,
          "py": 386.07667443285,
          "shape": "circle",
          "shape_attrs": {
           "r": 15
          },
          "value": null,
          "weight": 21,
          "x": 540.3296107385247,
          "xval": 60,
          "y": 386.0726175500124,
          "yval": 45.45454545454546
         },
         "value": 1
        },
        {
         "source": {
          "index": 24,
          "label": "h1,13",
          "label_display": "none",
          "px": 449.7701933541918,
          "py": 423.95395938325044,
          "shape": "circle",
          "shape_attrs": {
           "r": 15
          },
          "value": null,
          "weight": 22,
          "x": 449.77543161498545,
          "xval": 40,
          "y": 423.979666438766,
          "yval": 38.095238095238095
         },
         "target": {
          "index": 38,
          "label": "h2,7",
          "label_display": "none",
          "px": 541.4812921164678,
          "py": 394.6419287169871,
          "shape": "circle",
          "shape_attrs": {
           "r": 15
          },
          "value": null,
          "weight": 21,
          "x": 541.5256498499048,
          "xval": 60,
          "y": 394.6711846016649,
          "yval": 36.36363636363637
         },
         "value": 1
        },
        {
         "source": {
          "index": 24,
          "label": "h1,13",
          "label_display": "none",
          "px": 449.7701933541918,
          "py": 423.95395938325044,
          "shape": "circle",
          "shape_attrs": {
           "r": 15
          },
          "value": null,
          "weight": 22,
          "x": 449.77543161498545,
          "xval": 40,
          "y": 423.979666438766,
          "yval": 38.095238095238095
         },
         "target": {
          "index": 39,
          "label": "h2,8",
          "label_display": "none",
          "px": 539.4750872865833,
          "py": 382.06791160469925,
          "shape": "circle",
          "shape_attrs": {
           "r": 15
          },
          "value": null,
          "weight": 21,
          "x": 539.5135288298698,
          "xval": 60,
          "y": 382.05054442074044,
          "yval": 27.272727272727273
         },
         "value": 1
        },
        {
         "source": {
          "index": 24,
          "label": "h1,13",
          "label_display": "none",
          "px": 449.7701933541918,
          "py": 423.95395938325044,
          "shape": "circle",
          "shape_attrs": {
           "r": 15
          },
          "value": null,
          "weight": 22,
          "x": 449.77543161498545,
          "xval": 40,
          "y": 423.979666438766,
          "yval": 38.095238095238095
         },
         "target": {
          "fixed": 0,
          "index": 40,
          "label": "h2,9",
          "label_display": "none",
          "px": 541.8789771051929,
          "py": 399.51769602374225,
          "shape": "circle",
          "shape_attrs": {
           "r": 15
          },
          "value": null,
          "weight": 21,
          "x": 541.8789771051929,
          "xval": 60,
          "y": 399.51769602374225,
          "yval": 18.181818181818183
         },
         "value": 1
        },
        {
         "source": {
          "index": 24,
          "label": "h1,13",
          "label_display": "none",
          "px": 449.7701933541918,
          "py": 423.95395938325044,
          "shape": "circle",
          "shape_attrs": {
           "r": 15
          },
          "value": null,
          "weight": 22,
          "x": 449.77543161498545,
          "xval": 40,
          "y": 423.979666438766,
          "yval": 38.095238095238095
         },
         "target": {
          "index": 41,
          "label": "h2,10",
          "label_display": "none",
          "px": 540.9635353553583,
          "py": 390.2506362665784,
          "shape": "circle",
          "shape_attrs": {
           "r": 15
          },
          "value": null,
          "weight": 21,
          "x": 541.0069568340803,
          "xval": 60,
          "y": 390.2620434189789,
          "yval": 9.090909090909092
         },
         "value": 1
        },
        {
         "source": {
          "index": 25,
          "label": "h1,14",
          "label_display": "none",
          "px": 447.77652249109667,
          "py": 416.4027794386295,
          "shape": "circle",
          "shape_attrs": {
           "r": 15
          },
          "value": null,
          "weight": 22,
          "x": 447.77533228674633,
          "xval": 40,
          "y": 416.4089800756498,
          "yval": 33.333333333333336
         },
         "target": {
          "fixed": 0,
          "index": 32,
          "label": "h2,1",
          "label_display": "none",
          "px": 348.4069633574117,
          "py": 408.76281398343616,
          "shape": "circle",
          "shape_attrs": {
           "r": 15
          },
          "value": null,
          "weight": 21,
          "x": 348.4069633574117,
          "xval": 60,
          "y": 408.76281398343616,
          "yval": 90.90909090909092
         },
         "value": 1
        },
        {
         "source": {
          "index": 25,
          "label": "h1,14",
          "label_display": "none",
          "px": 447.77652249109667,
          "py": 416.4027794386295,
          "shape": "circle",
          "shape_attrs": {
           "r": 15
          },
          "value": null,
          "weight": 22,
          "x": 447.77533228674633,
          "xval": 40,
          "y": 416.4089800756498,
          "yval": 33.333333333333336
         },
         "target": {
          "fixed": 0,
          "index": 33,
          "label": "h2,2",
          "label_display": "none",
          "px": 348.98267226676734,
          "py": 414.2410318591959,
          "shape": "circle",
          "shape_attrs": {
           "r": 15
          },
          "value": null,
          "weight": 21,
          "x": 348.98267226676734,
          "xval": 60,
          "y": 414.2410318591959,
          "yval": 81.81818181818183
         },
         "value": 1
        },
        {
         "source": {
          "index": 25,
          "label": "h1,14",
          "label_display": "none",
          "px": 447.77652249109667,
          "py": 416.4027794386295,
          "shape": "circle",
          "shape_attrs": {
           "r": 15
          },
          "value": null,
          "weight": 22,
          "x": 447.77533228674633,
          "xval": 40,
          "y": 416.4089800756498,
          "yval": 33.333333333333336
         },
         "target": {
          "fixed": 0,
          "index": 34,
          "label": "h2,3",
          "label_display": "none",
          "px": 537.4603229397491,
          "py": 374.0357973649497,
          "shape": "circle",
          "shape_attrs": {
           "r": 15
          },
          "value": null,
          "weight": 21,
          "x": 537.4603229397491,
          "xval": 60,
          "y": 374.0357973649497,
          "yval": 72.72727272727273
         },
         "value": 1
        },
        {
         "source": {
          "index": 25,
          "label": "h1,14",
          "label_display": "none",
          "px": 447.77652249109667,
          "py": 416.4027794386295,
          "shape": "circle",
          "shape_attrs": {
           "r": 15
          },
          "value": null,
          "weight": 22,
          "x": 447.77533228674633,
          "xval": 40,
          "y": 416.4089800756498,
          "yval": 33.333333333333336
         },
         "target": {
          "index": 35,
          "label": "h2,4",
          "label_display": "none",
          "px": 538.4970595658459,
          "py": 378.0861567241818,
          "shape": "circle",
          "shape_attrs": {
           "r": 15
          },
          "value": null,
          "weight": 21,
          "x": 538.5316781024794,
          "xval": 60,
          "y": 378.0560742106646,
          "yval": 63.63636363636364
         },
         "value": 1
        },
        {
         "source": {
          "index": 25,
          "label": "h1,14",
          "label_display": "none",
          "px": 447.77652249109667,
          "py": 416.4027794386295,
          "shape": "circle",
          "shape_attrs": {
           "r": 15
          },
          "value": null,
          "weight": 22,
          "x": 447.77533228674633,
          "xval": 40,
          "y": 416.4089800756498,
          "yval": 33.333333333333336
         },
         "target": {
          "index": 36,
          "label": "h2,5",
          "label_display": "none",
          "px": 541.9506789452461,
          "py": 405.2045046484753,
          "shape": "circle",
          "shape_attrs": {
           "r": 15
          },
          "value": null,
          "weight": 21,
          "x": 541.9919124283681,
          "xval": 60,
          "y": 405.2694016450591,
          "yval": 54.54545454545455
         },
         "value": 1
        },
        {
         "source": {
          "index": 25,
          "label": "h1,14",
          "label_display": "none",
          "px": 447.77652249109667,
          "py": 416.4027794386295,
          "shape": "circle",
          "shape_attrs": {
           "r": 15
          },
          "value": null,
          "weight": 22,
          "x": 447.77533228674633,
          "xval": 40,
          "y": 416.4089800756498,
          "yval": 33.333333333333336
         },
         "target": {
          "index": 37,
          "label": "h2,6",
          "label_display": "none",
          "px": 540.2884600965493,
          "py": 386.07667443285,
          "shape": "circle",
          "shape_attrs": {
           "r": 15
          },
          "value": null,
          "weight": 21,
          "x": 540.3296107385247,
          "xval": 60,
          "y": 386.0726175500124,
          "yval": 45.45454545454546
         },
         "value": 1
        },
        {
         "source": {
          "index": 25,
          "label": "h1,14",
          "label_display": "none",
          "px": 447.77652249109667,
          "py": 416.4027794386295,
          "shape": "circle",
          "shape_attrs": {
           "r": 15
          },
          "value": null,
          "weight": 22,
          "x": 447.77533228674633,
          "xval": 40,
          "y": 416.4089800756498,
          "yval": 33.333333333333336
         },
         "target": {
          "index": 38,
          "label": "h2,7",
          "label_display": "none",
          "px": 541.4812921164678,
          "py": 394.6419287169871,
          "shape": "circle",
          "shape_attrs": {
           "r": 15
          },
          "value": null,
          "weight": 21,
          "x": 541.5256498499048,
          "xval": 60,
          "y": 394.6711846016649,
          "yval": 36.36363636363637
         },
         "value": 1
        },
        {
         "source": {
          "index": 25,
          "label": "h1,14",
          "label_display": "none",
          "px": 447.77652249109667,
          "py": 416.4027794386295,
          "shape": "circle",
          "shape_attrs": {
           "r": 15
          },
          "value": null,
          "weight": 22,
          "x": 447.77533228674633,
          "xval": 40,
          "y": 416.4089800756498,
          "yval": 33.333333333333336
         },
         "target": {
          "index": 39,
          "label": "h2,8",
          "label_display": "none",
          "px": 539.4750872865833,
          "py": 382.06791160469925,
          "shape": "circle",
          "shape_attrs": {
           "r": 15
          },
          "value": null,
          "weight": 21,
          "x": 539.5135288298698,
          "xval": 60,
          "y": 382.05054442074044,
          "yval": 27.272727272727273
         },
         "value": 1
        },
        {
         "source": {
          "index": 25,
          "label": "h1,14",
          "label_display": "none",
          "px": 447.77652249109667,
          "py": 416.4027794386295,
          "shape": "circle",
          "shape_attrs": {
           "r": 15
          },
          "value": null,
          "weight": 22,
          "x": 447.77533228674633,
          "xval": 40,
          "y": 416.4089800756498,
          "yval": 33.333333333333336
         },
         "target": {
          "fixed": 0,
          "index": 40,
          "label": "h2,9",
          "label_display": "none",
          "px": 541.8789771051929,
          "py": 399.51769602374225,
          "shape": "circle",
          "shape_attrs": {
           "r": 15
          },
          "value": null,
          "weight": 21,
          "x": 541.8789771051929,
          "xval": 60,
          "y": 399.51769602374225,
          "yval": 18.181818181818183
         },
         "value": 1
        },
        {
         "source": {
          "index": 25,
          "label": "h1,14",
          "label_display": "none",
          "px": 447.77652249109667,
          "py": 416.4027794386295,
          "shape": "circle",
          "shape_attrs": {
           "r": 15
          },
          "value": null,
          "weight": 22,
          "x": 447.77533228674633,
          "xval": 40,
          "y": 416.4089800756498,
          "yval": 33.333333333333336
         },
         "target": {
          "index": 41,
          "label": "h2,10",
          "label_display": "none",
          "px": 540.9635353553583,
          "py": 390.2506362665784,
          "shape": "circle",
          "shape_attrs": {
           "r": 15
          },
          "value": null,
          "weight": 21,
          "x": 541.0069568340803,
          "xval": 60,
          "y": 390.2620434189789,
          "yval": 9.090909090909092
         },
         "value": 1
        },
        {
         "source": {
          "fixed": 0,
          "index": 26,
          "label": "h1,15",
          "label_display": "none",
          "px": 437.84986949367203,
          "py": 374.25132654913494,
          "shape": "circle",
          "shape_attrs": {
           "r": 15
          },
          "value": null,
          "weight": 22,
          "x": 437.84986949367203,
          "xval": 40,
          "y": 374.25132654913494,
          "yval": 28.57142857142857
         },
         "target": {
          "fixed": 0,
          "index": 32,
          "label": "h2,1",
          "label_display": "none",
          "px": 348.4069633574117,
          "py": 408.76281398343616,
          "shape": "circle",
          "shape_attrs": {
           "r": 15
          },
          "value": null,
          "weight": 21,
          "x": 348.4069633574117,
          "xval": 60,
          "y": 408.76281398343616,
          "yval": 90.90909090909092
         },
         "value": 1
        },
        {
         "source": {
          "fixed": 0,
          "index": 26,
          "label": "h1,15",
          "label_display": "none",
          "px": 437.84986949367203,
          "py": 374.25132654913494,
          "shape": "circle",
          "shape_attrs": {
           "r": 15
          },
          "value": null,
          "weight": 22,
          "x": 437.84986949367203,
          "xval": 40,
          "y": 374.25132654913494,
          "yval": 28.57142857142857
         },
         "target": {
          "fixed": 0,
          "index": 33,
          "label": "h2,2",
          "label_display": "none",
          "px": 348.98267226676734,
          "py": 414.2410318591959,
          "shape": "circle",
          "shape_attrs": {
           "r": 15
          },
          "value": null,
          "weight": 21,
          "x": 348.98267226676734,
          "xval": 60,
          "y": 414.2410318591959,
          "yval": 81.81818181818183
         },
         "value": 1
        },
        {
         "source": {
          "fixed": 0,
          "index": 26,
          "label": "h1,15",
          "label_display": "none",
          "px": 437.84986949367203,
          "py": 374.25132654913494,
          "shape": "circle",
          "shape_attrs": {
           "r": 15
          },
          "value": null,
          "weight": 22,
          "x": 437.84986949367203,
          "xval": 40,
          "y": 374.25132654913494,
          "yval": 28.57142857142857
         },
         "target": {
          "fixed": 0,
          "index": 34,
          "label": "h2,3",
          "label_display": "none",
          "px": 537.4603229397491,
          "py": 374.0357973649497,
          "shape": "circle",
          "shape_attrs": {
           "r": 15
          },
          "value": null,
          "weight": 21,
          "x": 537.4603229397491,
          "xval": 60,
          "y": 374.0357973649497,
          "yval": 72.72727272727273
         },
         "value": 1
        },
        {
         "source": {
          "fixed": 0,
          "index": 26,
          "label": "h1,15",
          "label_display": "none",
          "px": 437.84986949367203,
          "py": 374.25132654913494,
          "shape": "circle",
          "shape_attrs": {
           "r": 15
          },
          "value": null,
          "weight": 22,
          "x": 437.84986949367203,
          "xval": 40,
          "y": 374.25132654913494,
          "yval": 28.57142857142857
         },
         "target": {
          "index": 35,
          "label": "h2,4",
          "label_display": "none",
          "px": 538.4970595658459,
          "py": 378.0861567241818,
          "shape": "circle",
          "shape_attrs": {
           "r": 15
          },
          "value": null,
          "weight": 21,
          "x": 538.5316781024794,
          "xval": 60,
          "y": 378.0560742106646,
          "yval": 63.63636363636364
         },
         "value": 1
        },
        {
         "source": {
          "fixed": 0,
          "index": 26,
          "label": "h1,15",
          "label_display": "none",
          "px": 437.84986949367203,
          "py": 374.25132654913494,
          "shape": "circle",
          "shape_attrs": {
           "r": 15
          },
          "value": null,
          "weight": 22,
          "x": 437.84986949367203,
          "xval": 40,
          "y": 374.25132654913494,
          "yval": 28.57142857142857
         },
         "target": {
          "index": 36,
          "label": "h2,5",
          "label_display": "none",
          "px": 541.9506789452461,
          "py": 405.2045046484753,
          "shape": "circle",
          "shape_attrs": {
           "r": 15
          },
          "value": null,
          "weight": 21,
          "x": 541.9919124283681,
          "xval": 60,
          "y": 405.2694016450591,
          "yval": 54.54545454545455
         },
         "value": 1
        },
        {
         "source": {
          "fixed": 0,
          "index": 26,
          "label": "h1,15",
          "label_display": "none",
          "px": 437.84986949367203,
          "py": 374.25132654913494,
          "shape": "circle",
          "shape_attrs": {
           "r": 15
          },
          "value": null,
          "weight": 22,
          "x": 437.84986949367203,
          "xval": 40,
          "y": 374.25132654913494,
          "yval": 28.57142857142857
         },
         "target": {
          "index": 37,
          "label": "h2,6",
          "label_display": "none",
          "px": 540.2884600965493,
          "py": 386.07667443285,
          "shape": "circle",
          "shape_attrs": {
           "r": 15
          },
          "value": null,
          "weight": 21,
          "x": 540.3296107385247,
          "xval": 60,
          "y": 386.0726175500124,
          "yval": 45.45454545454546
         },
         "value": 1
        },
        {
         "source": {
          "fixed": 0,
          "index": 26,
          "label": "h1,15",
          "label_display": "none",
          "px": 437.84986949367203,
          "py": 374.25132654913494,
          "shape": "circle",
          "shape_attrs": {
           "r": 15
          },
          "value": null,
          "weight": 22,
          "x": 437.84986949367203,
          "xval": 40,
          "y": 374.25132654913494,
          "yval": 28.57142857142857
         },
         "target": {
          "index": 38,
          "label": "h2,7",
          "label_display": "none",
          "px": 541.4812921164678,
          "py": 394.6419287169871,
          "shape": "circle",
          "shape_attrs": {
           "r": 15
          },
          "value": null,
          "weight": 21,
          "x": 541.5256498499048,
          "xval": 60,
          "y": 394.6711846016649,
          "yval": 36.36363636363637
         },
         "value": 1
        },
        {
         "source": {
          "fixed": 0,
          "index": 26,
          "label": "h1,15",
          "label_display": "none",
          "px": 437.84986949367203,
          "py": 374.25132654913494,
          "shape": "circle",
          "shape_attrs": {
           "r": 15
          },
          "value": null,
          "weight": 22,
          "x": 437.84986949367203,
          "xval": 40,
          "y": 374.25132654913494,
          "yval": 28.57142857142857
         },
         "target": {
          "index": 39,
          "label": "h2,8",
          "label_display": "none",
          "px": 539.4750872865833,
          "py": 382.06791160469925,
          "shape": "circle",
          "shape_attrs": {
           "r": 15
          },
          "value": null,
          "weight": 21,
          "x": 539.5135288298698,
          "xval": 60,
          "y": 382.05054442074044,
          "yval": 27.272727272727273
         },
         "value": 1
        },
        {
         "source": {
          "fixed": 0,
          "index": 26,
          "label": "h1,15",
          "label_display": "none",
          "px": 437.84986949367203,
          "py": 374.25132654913494,
          "shape": "circle",
          "shape_attrs": {
           "r": 15
          },
          "value": null,
          "weight": 22,
          "x": 437.84986949367203,
          "xval": 40,
          "y": 374.25132654913494,
          "yval": 28.57142857142857
         },
         "target": {
          "fixed": 0,
          "index": 40,
          "label": "h2,9",
          "label_display": "none",
          "px": 541.8789771051929,
          "py": 399.51769602374225,
          "shape": "circle",
          "shape_attrs": {
           "r": 15
          },
          "value": null,
          "weight": 21,
          "x": 541.8789771051929,
          "xval": 60,
          "y": 399.51769602374225,
          "yval": 18.181818181818183
         },
         "value": 1
        },
        {
         "source": {
          "fixed": 0,
          "index": 26,
          "label": "h1,15",
          "label_display": "none",
          "px": 437.84986949367203,
          "py": 374.25132654913494,
          "shape": "circle",
          "shape_attrs": {
           "r": 15
          },
          "value": null,
          "weight": 22,
          "x": 437.84986949367203,
          "xval": 40,
          "y": 374.25132654913494,
          "yval": 28.57142857142857
         },
         "target": {
          "index": 41,
          "label": "h2,10",
          "label_display": "none",
          "px": 540.9635353553583,
          "py": 390.2506362665784,
          "shape": "circle",
          "shape_attrs": {
           "r": 15
          },
          "value": null,
          "weight": 21,
          "x": 541.0069568340803,
          "xval": 60,
          "y": 390.2620434189789,
          "yval": 9.090909090909092
         },
         "value": 1
        },
        {
         "source": {
          "index": 27,
          "label": "h1,16",
          "label_display": "none",
          "px": 441.03312194188425,
          "py": 388.9301428056495,
          "shape": "circle",
          "shape_attrs": {
           "r": 15
          },
          "value": null,
          "weight": 22,
          "x": 441.0223311760983,
          "xval": 40,
          "y": 388.9201492326303,
          "yval": 23.80952380952381
         },
         "target": {
          "fixed": 0,
          "index": 32,
          "label": "h2,1",
          "label_display": "none",
          "px": 348.4069633574117,
          "py": 408.76281398343616,
          "shape": "circle",
          "shape_attrs": {
           "r": 15
          },
          "value": null,
          "weight": 21,
          "x": 348.4069633574117,
          "xval": 60,
          "y": 408.76281398343616,
          "yval": 90.90909090909092
         },
         "value": 1
        },
        {
         "source": {
          "index": 27,
          "label": "h1,16",
          "label_display": "none",
          "px": 441.03312194188425,
          "py": 388.9301428056495,
          "shape": "circle",
          "shape_attrs": {
           "r": 15
          },
          "value": null,
          "weight": 22,
          "x": 441.0223311760983,
          "xval": 40,
          "y": 388.9201492326303,
          "yval": 23.80952380952381
         },
         "target": {
          "fixed": 0,
          "index": 33,
          "label": "h2,2",
          "label_display": "none",
          "px": 348.98267226676734,
          "py": 414.2410318591959,
          "shape": "circle",
          "shape_attrs": {
           "r": 15
          },
          "value": null,
          "weight": 21,
          "x": 348.98267226676734,
          "xval": 60,
          "y": 414.2410318591959,
          "yval": 81.81818181818183
         },
         "value": 1
        },
        {
         "source": {
          "index": 27,
          "label": "h1,16",
          "label_display": "none",
          "px": 441.03312194188425,
          "py": 388.9301428056495,
          "shape": "circle",
          "shape_attrs": {
           "r": 15
          },
          "value": null,
          "weight": 22,
          "x": 441.0223311760983,
          "xval": 40,
          "y": 388.9201492326303,
          "yval": 23.80952380952381
         },
         "target": {
          "fixed": 0,
          "index": 34,
          "label": "h2,3",
          "label_display": "none",
          "px": 537.4603229397491,
          "py": 374.0357973649497,
          "shape": "circle",
          "shape_attrs": {
           "r": 15
          },
          "value": null,
          "weight": 21,
          "x": 537.4603229397491,
          "xval": 60,
          "y": 374.0357973649497,
          "yval": 72.72727272727273
         },
         "value": 1
        },
        {
         "source": {
          "index": 27,
          "label": "h1,16",
          "label_display": "none",
          "px": 441.03312194188425,
          "py": 388.9301428056495,
          "shape": "circle",
          "shape_attrs": {
           "r": 15
          },
          "value": null,
          "weight": 22,
          "x": 441.0223311760983,
          "xval": 40,
          "y": 388.9201492326303,
          "yval": 23.80952380952381
         },
         "target": {
          "index": 35,
          "label": "h2,4",
          "label_display": "none",
          "px": 538.4970595658459,
          "py": 378.0861567241818,
          "shape": "circle",
          "shape_attrs": {
           "r": 15
          },
          "value": null,
          "weight": 21,
          "x": 538.5316781024794,
          "xval": 60,
          "y": 378.0560742106646,
          "yval": 63.63636363636364
         },
         "value": 1
        },
        {
         "source": {
          "index": 27,
          "label": "h1,16",
          "label_display": "none",
          "px": 441.03312194188425,
          "py": 388.9301428056495,
          "shape": "circle",
          "shape_attrs": {
           "r": 15
          },
          "value": null,
          "weight": 22,
          "x": 441.0223311760983,
          "xval": 40,
          "y": 388.9201492326303,
          "yval": 23.80952380952381
         },
         "target": {
          "index": 36,
          "label": "h2,5",
          "label_display": "none",
          "px": 541.9506789452461,
          "py": 405.2045046484753,
          "shape": "circle",
          "shape_attrs": {
           "r": 15
          },
          "value": null,
          "weight": 21,
          "x": 541.9919124283681,
          "xval": 60,
          "y": 405.2694016450591,
          "yval": 54.54545454545455
         },
         "value": 1
        },
        {
         "source": {
          "index": 27,
          "label": "h1,16",
          "label_display": "none",
          "px": 441.03312194188425,
          "py": 388.9301428056495,
          "shape": "circle",
          "shape_attrs": {
           "r": 15
          },
          "value": null,
          "weight": 22,
          "x": 441.0223311760983,
          "xval": 40,
          "y": 388.9201492326303,
          "yval": 23.80952380952381
         },
         "target": {
          "index": 37,
          "label": "h2,6",
          "label_display": "none",
          "px": 540.2884600965493,
          "py": 386.07667443285,
          "shape": "circle",
          "shape_attrs": {
           "r": 15
          },
          "value": null,
          "weight": 21,
          "x": 540.3296107385247,
          "xval": 60,
          "y": 386.0726175500124,
          "yval": 45.45454545454546
         },
         "value": 1
        },
        {
         "source": {
          "index": 27,
          "label": "h1,16",
          "label_display": "none",
          "px": 441.03312194188425,
          "py": 388.9301428056495,
          "shape": "circle",
          "shape_attrs": {
           "r": 15
          },
          "value": null,
          "weight": 22,
          "x": 441.0223311760983,
          "xval": 40,
          "y": 388.9201492326303,
          "yval": 23.80952380952381
         },
         "target": {
          "index": 38,
          "label": "h2,7",
          "label_display": "none",
          "px": 541.4812921164678,
          "py": 394.6419287169871,
          "shape": "circle",
          "shape_attrs": {
           "r": 15
          },
          "value": null,
          "weight": 21,
          "x": 541.5256498499048,
          "xval": 60,
          "y": 394.6711846016649,
          "yval": 36.36363636363637
         },
         "value": 1
        },
        {
         "source": {
          "index": 27,
          "label": "h1,16",
          "label_display": "none",
          "px": 441.03312194188425,
          "py": 388.9301428056495,
          "shape": "circle",
          "shape_attrs": {
           "r": 15
          },
          "value": null,
          "weight": 22,
          "x": 441.0223311760983,
          "xval": 40,
          "y": 388.9201492326303,
          "yval": 23.80952380952381
         },
         "target": {
          "index": 39,
          "label": "h2,8",
          "label_display": "none",
          "px": 539.4750872865833,
          "py": 382.06791160469925,
          "shape": "circle",
          "shape_attrs": {
           "r": 15
          },
          "value": null,
          "weight": 21,
          "x": 539.5135288298698,
          "xval": 60,
          "y": 382.05054442074044,
          "yval": 27.272727272727273
         },
         "value": 1
        },
        {
         "source": {
          "index": 27,
          "label": "h1,16",
          "label_display": "none",
          "px": 441.03312194188425,
          "py": 388.9301428056495,
          "shape": "circle",
          "shape_attrs": {
           "r": 15
          },
          "value": null,
          "weight": 22,
          "x": 441.0223311760983,
          "xval": 40,
          "y": 388.9201492326303,
          "yval": 23.80952380952381
         },
         "target": {
          "fixed": 0,
          "index": 40,
          "label": "h2,9",
          "label_display": "none",
          "px": 541.8789771051929,
          "py": 399.51769602374225,
          "shape": "circle",
          "shape_attrs": {
           "r": 15
          },
          "value": null,
          "weight": 21,
          "x": 541.8789771051929,
          "xval": 60,
          "y": 399.51769602374225,
          "yval": 18.181818181818183
         },
         "value": 1
        },
        {
         "source": {
          "index": 27,
          "label": "h1,16",
          "label_display": "none",
          "px": 441.03312194188425,
          "py": 388.9301428056495,
          "shape": "circle",
          "shape_attrs": {
           "r": 15
          },
          "value": null,
          "weight": 22,
          "x": 441.0223311760983,
          "xval": 40,
          "y": 388.9201492326303,
          "yval": 23.80952380952381
         },
         "target": {
          "index": 41,
          "label": "h2,10",
          "label_display": "none",
          "px": 540.9635353553583,
          "py": 390.2506362665784,
          "shape": "circle",
          "shape_attrs": {
           "r": 15
          },
          "value": null,
          "weight": 21,
          "x": 541.0069568340803,
          "xval": 60,
          "y": 390.2620434189789,
          "yval": 9.090909090909092
         },
         "value": 1
        },
        {
         "source": {
          "index": 28,
          "label": "h1,17",
          "label_display": "none",
          "px": 448.80878786875905,
          "py": 420.35138343623464,
          "shape": "circle",
          "shape_attrs": {
           "r": 15
          },
          "value": null,
          "weight": 22,
          "x": 448.8091799805161,
          "xval": 40,
          "y": 420.3610019925185,
          "yval": 19.047619047619047
         },
         "target": {
          "fixed": 0,
          "index": 32,
          "label": "h2,1",
          "label_display": "none",
          "px": 348.4069633574117,
          "py": 408.76281398343616,
          "shape": "circle",
          "shape_attrs": {
           "r": 15
          },
          "value": null,
          "weight": 21,
          "x": 348.4069633574117,
          "xval": 60,
          "y": 408.76281398343616,
          "yval": 90.90909090909092
         },
         "value": 1
        },
        {
         "source": {
          "index": 28,
          "label": "h1,17",
          "label_display": "none",
          "px": 448.80878786875905,
          "py": 420.35138343623464,
          "shape": "circle",
          "shape_attrs": {
           "r": 15
          },
          "value": null,
          "weight": 22,
          "x": 448.8091799805161,
          "xval": 40,
          "y": 420.3610019925185,
          "yval": 19.047619047619047
         },
         "target": {
          "fixed": 0,
          "index": 33,
          "label": "h2,2",
          "label_display": "none",
          "px": 348.98267226676734,
          "py": 414.2410318591959,
          "shape": "circle",
          "shape_attrs": {
           "r": 15
          },
          "value": null,
          "weight": 21,
          "x": 348.98267226676734,
          "xval": 60,
          "y": 414.2410318591959,
          "yval": 81.81818181818183
         },
         "value": 1
        },
        {
         "source": {
          "index": 28,
          "label": "h1,17",
          "label_display": "none",
          "px": 448.80878786875905,
          "py": 420.35138343623464,
          "shape": "circle",
          "shape_attrs": {
           "r": 15
          },
          "value": null,
          "weight": 22,
          "x": 448.8091799805161,
          "xval": 40,
          "y": 420.3610019925185,
          "yval": 19.047619047619047
         },
         "target": {
          "fixed": 0,
          "index": 34,
          "label": "h2,3",
          "label_display": "none",
          "px": 537.4603229397491,
          "py": 374.0357973649497,
          "shape": "circle",
          "shape_attrs": {
           "r": 15
          },
          "value": null,
          "weight": 21,
          "x": 537.4603229397491,
          "xval": 60,
          "y": 374.0357973649497,
          "yval": 72.72727272727273
         },
         "value": 1
        },
        {
         "source": {
          "index": 28,
          "label": "h1,17",
          "label_display": "none",
          "px": 448.80878786875905,
          "py": 420.35138343623464,
          "shape": "circle",
          "shape_attrs": {
           "r": 15
          },
          "value": null,
          "weight": 22,
          "x": 448.8091799805161,
          "xval": 40,
          "y": 420.3610019925185,
          "yval": 19.047619047619047
         },
         "target": {
          "index": 35,
          "label": "h2,4",
          "label_display": "none",
          "px": 538.4970595658459,
          "py": 378.0861567241818,
          "shape": "circle",
          "shape_attrs": {
           "r": 15
          },
          "value": null,
          "weight": 21,
          "x": 538.5316781024794,
          "xval": 60,
          "y": 378.0560742106646,
          "yval": 63.63636363636364
         },
         "value": 1
        },
        {
         "source": {
          "index": 28,
          "label": "h1,17",
          "label_display": "none",
          "px": 448.80878786875905,
          "py": 420.35138343623464,
          "shape": "circle",
          "shape_attrs": {
           "r": 15
          },
          "value": null,
          "weight": 22,
          "x": 448.8091799805161,
          "xval": 40,
          "y": 420.3610019925185,
          "yval": 19.047619047619047
         },
         "target": {
          "index": 36,
          "label": "h2,5",
          "label_display": "none",
          "px": 541.9506789452461,
          "py": 405.2045046484753,
          "shape": "circle",
          "shape_attrs": {
           "r": 15
          },
          "value": null,
          "weight": 21,
          "x": 541.9919124283681,
          "xval": 60,
          "y": 405.2694016450591,
          "yval": 54.54545454545455
         },
         "value": 1
        },
        {
         "source": {
          "index": 28,
          "label": "h1,17",
          "label_display": "none",
          "px": 448.80878786875905,
          "py": 420.35138343623464,
          "shape": "circle",
          "shape_attrs": {
           "r": 15
          },
          "value": null,
          "weight": 22,
          "x": 448.8091799805161,
          "xval": 40,
          "y": 420.3610019925185,
          "yval": 19.047619047619047
         },
         "target": {
          "index": 37,
          "label": "h2,6",
          "label_display": "none",
          "px": 540.2884600965493,
          "py": 386.07667443285,
          "shape": "circle",
          "shape_attrs": {
           "r": 15
          },
          "value": null,
          "weight": 21,
          "x": 540.3296107385247,
          "xval": 60,
          "y": 386.0726175500124,
          "yval": 45.45454545454546
         },
         "value": 1
        },
        {
         "source": {
          "index": 28,
          "label": "h1,17",
          "label_display": "none",
          "px": 448.80878786875905,
          "py": 420.35138343623464,
          "shape": "circle",
          "shape_attrs": {
           "r": 15
          },
          "value": null,
          "weight": 22,
          "x": 448.8091799805161,
          "xval": 40,
          "y": 420.3610019925185,
          "yval": 19.047619047619047
         },
         "target": {
          "index": 38,
          "label": "h2,7",
          "label_display": "none",
          "px": 541.4812921164678,
          "py": 394.6419287169871,
          "shape": "circle",
          "shape_attrs": {
           "r": 15
          },
          "value": null,
          "weight": 21,
          "x": 541.5256498499048,
          "xval": 60,
          "y": 394.6711846016649,
          "yval": 36.36363636363637
         },
         "value": 1
        },
        {
         "source": {
          "index": 28,
          "label": "h1,17",
          "label_display": "none",
          "px": 448.80878786875905,
          "py": 420.35138343623464,
          "shape": "circle",
          "shape_attrs": {
           "r": 15
          },
          "value": null,
          "weight": 22,
          "x": 448.8091799805161,
          "xval": 40,
          "y": 420.3610019925185,
          "yval": 19.047619047619047
         },
         "target": {
          "index": 39,
          "label": "h2,8",
          "label_display": "none",
          "px": 539.4750872865833,
          "py": 382.06791160469925,
          "shape": "circle",
          "shape_attrs": {
           "r": 15
          },
          "value": null,
          "weight": 21,
          "x": 539.5135288298698,
          "xval": 60,
          "y": 382.05054442074044,
          "yval": 27.272727272727273
         },
         "value": 1
        },
        {
         "source": {
          "index": 28,
          "label": "h1,17",
          "label_display": "none",
          "px": 448.80878786875905,
          "py": 420.35138343623464,
          "shape": "circle",
          "shape_attrs": {
           "r": 15
          },
          "value": null,
          "weight": 22,
          "x": 448.8091799805161,
          "xval": 40,
          "y": 420.3610019925185,
          "yval": 19.047619047619047
         },
         "target": {
          "fixed": 0,
          "index": 40,
          "label": "h2,9",
          "label_display": "none",
          "px": 541.8789771051929,
          "py": 399.51769602374225,
          "shape": "circle",
          "shape_attrs": {
           "r": 15
          },
          "value": null,
          "weight": 21,
          "x": 541.8789771051929,
          "xval": 60,
          "y": 399.51769602374225,
          "yval": 18.181818181818183
         },
         "value": 1
        },
        {
         "source": {
          "index": 28,
          "label": "h1,17",
          "label_display": "none",
          "px": 448.80878786875905,
          "py": 420.35138343623464,
          "shape": "circle",
          "shape_attrs": {
           "r": 15
          },
          "value": null,
          "weight": 22,
          "x": 448.8091799805161,
          "xval": 40,
          "y": 420.3610019925185,
          "yval": 19.047619047619047
         },
         "target": {
          "index": 41,
          "label": "h2,10",
          "label_display": "none",
          "px": 540.9635353553583,
          "py": 390.2506362665784,
          "shape": "circle",
          "shape_attrs": {
           "r": 15
          },
          "value": null,
          "weight": 21,
          "x": 541.0069568340803,
          "xval": 60,
          "y": 390.2620434189789,
          "yval": 9.090909090909092
         },
         "value": 1
        },
        {
         "source": {
          "index": 29,
          "label": "h1,18",
          "label_display": "none",
          "px": 446.66133336839465,
          "py": 412.06746080603597,
          "shape": "circle",
          "shape_attrs": {
           "r": 15
          },
          "value": null,
          "weight": 22,
          "x": 446.65836227806636,
          "xval": 40,
          "y": 412.06979862465556,
          "yval": 14.285714285714285
         },
         "target": {
          "fixed": 0,
          "index": 32,
          "label": "h2,1",
          "label_display": "none",
          "px": 348.4069633574117,
          "py": 408.76281398343616,
          "shape": "circle",
          "shape_attrs": {
           "r": 15
          },
          "value": null,
          "weight": 21,
          "x": 348.4069633574117,
          "xval": 60,
          "y": 408.76281398343616,
          "yval": 90.90909090909092
         },
         "value": 1
        },
        {
         "source": {
          "index": 29,
          "label": "h1,18",
          "label_display": "none",
          "px": 446.66133336839465,
          "py": 412.06746080603597,
          "shape": "circle",
          "shape_attrs": {
           "r": 15
          },
          "value": null,
          "weight": 22,
          "x": 446.65836227806636,
          "xval": 40,
          "y": 412.06979862465556,
          "yval": 14.285714285714285
         },
         "target": {
          "fixed": 0,
          "index": 33,
          "label": "h2,2",
          "label_display": "none",
          "px": 348.98267226676734,
          "py": 414.2410318591959,
          "shape": "circle",
          "shape_attrs": {
           "r": 15
          },
          "value": null,
          "weight": 21,
          "x": 348.98267226676734,
          "xval": 60,
          "y": 414.2410318591959,
          "yval": 81.81818181818183
         },
         "value": 1
        },
        {
         "source": {
          "index": 29,
          "label": "h1,18",
          "label_display": "none",
          "px": 446.66133336839465,
          "py": 412.06746080603597,
          "shape": "circle",
          "shape_attrs": {
           "r": 15
          },
          "value": null,
          "weight": 22,
          "x": 446.65836227806636,
          "xval": 40,
          "y": 412.06979862465556,
          "yval": 14.285714285714285
         },
         "target": {
          "fixed": 0,
          "index": 34,
          "label": "h2,3",
          "label_display": "none",
          "px": 537.4603229397491,
          "py": 374.0357973649497,
          "shape": "circle",
          "shape_attrs": {
           "r": 15
          },
          "value": null,
          "weight": 21,
          "x": 537.4603229397491,
          "xval": 60,
          "y": 374.0357973649497,
          "yval": 72.72727272727273
         },
         "value": 1
        },
        {
         "source": {
          "index": 29,
          "label": "h1,18",
          "label_display": "none",
          "px": 446.66133336839465,
          "py": 412.06746080603597,
          "shape": "circle",
          "shape_attrs": {
           "r": 15
          },
          "value": null,
          "weight": 22,
          "x": 446.65836227806636,
          "xval": 40,
          "y": 412.06979862465556,
          "yval": 14.285714285714285
         },
         "target": {
          "index": 35,
          "label": "h2,4",
          "label_display": "none",
          "px": 538.4970595658459,
          "py": 378.0861567241818,
          "shape": "circle",
          "shape_attrs": {
           "r": 15
          },
          "value": null,
          "weight": 21,
          "x": 538.5316781024794,
          "xval": 60,
          "y": 378.0560742106646,
          "yval": 63.63636363636364
         },
         "value": 1
        },
        {
         "source": {
          "index": 29,
          "label": "h1,18",
          "label_display": "none",
          "px": 446.66133336839465,
          "py": 412.06746080603597,
          "shape": "circle",
          "shape_attrs": {
           "r": 15
          },
          "value": null,
          "weight": 22,
          "x": 446.65836227806636,
          "xval": 40,
          "y": 412.06979862465556,
          "yval": 14.285714285714285
         },
         "target": {
          "index": 36,
          "label": "h2,5",
          "label_display": "none",
          "px": 541.9506789452461,
          "py": 405.2045046484753,
          "shape": "circle",
          "shape_attrs": {
           "r": 15
          },
          "value": null,
          "weight": 21,
          "x": 541.9919124283681,
          "xval": 60,
          "y": 405.2694016450591,
          "yval": 54.54545454545455
         },
         "value": 1
        },
        {
         "source": {
          "index": 29,
          "label": "h1,18",
          "label_display": "none",
          "px": 446.66133336839465,
          "py": 412.06746080603597,
          "shape": "circle",
          "shape_attrs": {
           "r": 15
          },
          "value": null,
          "weight": 22,
          "x": 446.65836227806636,
          "xval": 40,
          "y": 412.06979862465556,
          "yval": 14.285714285714285
         },
         "target": {
          "index": 37,
          "label": "h2,6",
          "label_display": "none",
          "px": 540.2884600965493,
          "py": 386.07667443285,
          "shape": "circle",
          "shape_attrs": {
           "r": 15
          },
          "value": null,
          "weight": 21,
          "x": 540.3296107385247,
          "xval": 60,
          "y": 386.0726175500124,
          "yval": 45.45454545454546
         },
         "value": 1
        },
        {
         "source": {
          "index": 29,
          "label": "h1,18",
          "label_display": "none",
          "px": 446.66133336839465,
          "py": 412.06746080603597,
          "shape": "circle",
          "shape_attrs": {
           "r": 15
          },
          "value": null,
          "weight": 22,
          "x": 446.65836227806636,
          "xval": 40,
          "y": 412.06979862465556,
          "yval": 14.285714285714285
         },
         "target": {
          "index": 38,
          "label": "h2,7",
          "label_display": "none",
          "px": 541.4812921164678,
          "py": 394.6419287169871,
          "shape": "circle",
          "shape_attrs": {
           "r": 15
          },
          "value": null,
          "weight": 21,
          "x": 541.5256498499048,
          "xval": 60,
          "y": 394.6711846016649,
          "yval": 36.36363636363637
         },
         "value": 1
        },
        {
         "source": {
          "index": 29,
          "label": "h1,18",
          "label_display": "none",
          "px": 446.66133336839465,
          "py": 412.06746080603597,
          "shape": "circle",
          "shape_attrs": {
           "r": 15
          },
          "value": null,
          "weight": 22,
          "x": 446.65836227806636,
          "xval": 40,
          "y": 412.06979862465556,
          "yval": 14.285714285714285
         },
         "target": {
          "index": 39,
          "label": "h2,8",
          "label_display": "none",
          "px": 539.4750872865833,
          "py": 382.06791160469925,
          "shape": "circle",
          "shape_attrs": {
           "r": 15
          },
          "value": null,
          "weight": 21,
          "x": 539.5135288298698,
          "xval": 60,
          "y": 382.05054442074044,
          "yval": 27.272727272727273
         },
         "value": 1
        },
        {
         "source": {
          "index": 29,
          "label": "h1,18",
          "label_display": "none",
          "px": 446.66133336839465,
          "py": 412.06746080603597,
          "shape": "circle",
          "shape_attrs": {
           "r": 15
          },
          "value": null,
          "weight": 22,
          "x": 446.65836227806636,
          "xval": 40,
          "y": 412.06979862465556,
          "yval": 14.285714285714285
         },
         "target": {
          "fixed": 0,
          "index": 40,
          "label": "h2,9",
          "label_display": "none",
          "px": 541.8789771051929,
          "py": 399.51769602374225,
          "shape": "circle",
          "shape_attrs": {
           "r": 15
          },
          "value": null,
          "weight": 21,
          "x": 541.8789771051929,
          "xval": 60,
          "y": 399.51769602374225,
          "yval": 18.181818181818183
         },
         "value": 1
        },
        {
         "source": {
          "index": 29,
          "label": "h1,18",
          "label_display": "none",
          "px": 446.66133336839465,
          "py": 412.06746080603597,
          "shape": "circle",
          "shape_attrs": {
           "r": 15
          },
          "value": null,
          "weight": 22,
          "x": 446.65836227806636,
          "xval": 40,
          "y": 412.06979862465556,
          "yval": 14.285714285714285
         },
         "target": {
          "index": 41,
          "label": "h2,10",
          "label_display": "none",
          "px": 540.9635353553583,
          "py": 390.2506362665784,
          "shape": "circle",
          "shape_attrs": {
           "r": 15
          },
          "value": null,
          "weight": 21,
          "x": 541.0069568340803,
          "xval": 60,
          "y": 390.2620434189789,
          "yval": 9.090909090909092
         },
         "value": 1
        },
        {
         "source": {
          "index": 30,
          "label": "h1,19",
          "label_display": "none",
          "px": 454.5331839788234,
          "py": 440.7353981371751,
          "shape": "circle",
          "shape_attrs": {
           "r": 15
          },
          "value": null,
          "weight": 22,
          "x": 454.57338727966345,
          "xval": 40,
          "y": 440.870029182474,
          "yval": 9.523809523809524
         },
         "target": {
          "fixed": 0,
          "index": 32,
          "label": "h2,1",
          "label_display": "none",
          "px": 348.4069633574117,
          "py": 408.76281398343616,
          "shape": "circle",
          "shape_attrs": {
           "r": 15
          },
          "value": null,
          "weight": 21,
          "x": 348.4069633574117,
          "xval": 60,
          "y": 408.76281398343616,
          "yval": 90.90909090909092
         },
         "value": 1
        },
        {
         "source": {
          "index": 30,
          "label": "h1,19",
          "label_display": "none",
          "px": 454.5331839788234,
          "py": 440.7353981371751,
          "shape": "circle",
          "shape_attrs": {
           "r": 15
          },
          "value": null,
          "weight": 22,
          "x": 454.57338727966345,
          "xval": 40,
          "y": 440.870029182474,
          "yval": 9.523809523809524
         },
         "target": {
          "fixed": 0,
          "index": 33,
          "label": "h2,2",
          "label_display": "none",
          "px": 348.98267226676734,
          "py": 414.2410318591959,
          "shape": "circle",
          "shape_attrs": {
           "r": 15
          },
          "value": null,
          "weight": 21,
          "x": 348.98267226676734,
          "xval": 60,
          "y": 414.2410318591959,
          "yval": 81.81818181818183
         },
         "value": 1
        },
        {
         "source": {
          "index": 30,
          "label": "h1,19",
          "label_display": "none",
          "px": 454.5331839788234,
          "py": 440.7353981371751,
          "shape": "circle",
          "shape_attrs": {
           "r": 15
          },
          "value": null,
          "weight": 22,
          "x": 454.57338727966345,
          "xval": 40,
          "y": 440.870029182474,
          "yval": 9.523809523809524
         },
         "target": {
          "fixed": 0,
          "index": 34,
          "label": "h2,3",
          "label_display": "none",
          "px": 537.4603229397491,
          "py": 374.0357973649497,
          "shape": "circle",
          "shape_attrs": {
           "r": 15
          },
          "value": null,
          "weight": 21,
          "x": 537.4603229397491,
          "xval": 60,
          "y": 374.0357973649497,
          "yval": 72.72727272727273
         },
         "value": 1
        },
        {
         "source": {
          "index": 30,
          "label": "h1,19",
          "label_display": "none",
          "px": 454.5331839788234,
          "py": 440.7353981371751,
          "shape": "circle",
          "shape_attrs": {
           "r": 15
          },
          "value": null,
          "weight": 22,
          "x": 454.57338727966345,
          "xval": 40,
          "y": 440.870029182474,
          "yval": 9.523809523809524
         },
         "target": {
          "index": 35,
          "label": "h2,4",
          "label_display": "none",
          "px": 538.4970595658459,
          "py": 378.0861567241818,
          "shape": "circle",
          "shape_attrs": {
           "r": 15
          },
          "value": null,
          "weight": 21,
          "x": 538.5316781024794,
          "xval": 60,
          "y": 378.0560742106646,
          "yval": 63.63636363636364
         },
         "value": 1
        },
        {
         "source": {
          "index": 30,
          "label": "h1,19",
          "label_display": "none",
          "px": 454.5331839788234,
          "py": 440.7353981371751,
          "shape": "circle",
          "shape_attrs": {
           "r": 15
          },
          "value": null,
          "weight": 22,
          "x": 454.57338727966345,
          "xval": 40,
          "y": 440.870029182474,
          "yval": 9.523809523809524
         },
         "target": {
          "index": 36,
          "label": "h2,5",
          "label_display": "none",
          "px": 541.9506789452461,
          "py": 405.2045046484753,
          "shape": "circle",
          "shape_attrs": {
           "r": 15
          },
          "value": null,
          "weight": 21,
          "x": 541.9919124283681,
          "xval": 60,
          "y": 405.2694016450591,
          "yval": 54.54545454545455
         },
         "value": 1
        },
        {
         "source": {
          "index": 30,
          "label": "h1,19",
          "label_display": "none",
          "px": 454.5331839788234,
          "py": 440.7353981371751,
          "shape": "circle",
          "shape_attrs": {
           "r": 15
          },
          "value": null,
          "weight": 22,
          "x": 454.57338727966345,
          "xval": 40,
          "y": 440.870029182474,
          "yval": 9.523809523809524
         },
         "target": {
          "index": 37,
          "label": "h2,6",
          "label_display": "none",
          "px": 540.2884600965493,
          "py": 386.07667443285,
          "shape": "circle",
          "shape_attrs": {
           "r": 15
          },
          "value": null,
          "weight": 21,
          "x": 540.3296107385247,
          "xval": 60,
          "y": 386.0726175500124,
          "yval": 45.45454545454546
         },
         "value": 1
        },
        {
         "source": {
          "index": 30,
          "label": "h1,19",
          "label_display": "none",
          "px": 454.5331839788234,
          "py": 440.7353981371751,
          "shape": "circle",
          "shape_attrs": {
           "r": 15
          },
          "value": null,
          "weight": 22,
          "x": 454.57338727966345,
          "xval": 40,
          "y": 440.870029182474,
          "yval": 9.523809523809524
         },
         "target": {
          "index": 38,
          "label": "h2,7",
          "label_display": "none",
          "px": 541.4812921164678,
          "py": 394.6419287169871,
          "shape": "circle",
          "shape_attrs": {
           "r": 15
          },
          "value": null,
          "weight": 21,
          "x": 541.5256498499048,
          "xval": 60,
          "y": 394.6711846016649,
          "yval": 36.36363636363637
         },
         "value": 1
        },
        {
         "source": {
          "index": 30,
          "label": "h1,19",
          "label_display": "none",
          "px": 454.5331839788234,
          "py": 440.7353981371751,
          "shape": "circle",
          "shape_attrs": {
           "r": 15
          },
          "value": null,
          "weight": 22,
          "x": 454.57338727966345,
          "xval": 40,
          "y": 440.870029182474,
          "yval": 9.523809523809524
         },
         "target": {
          "index": 39,
          "label": "h2,8",
          "label_display": "none",
          "px": 539.4750872865833,
          "py": 382.06791160469925,
          "shape": "circle",
          "shape_attrs": {
           "r": 15
          },
          "value": null,
          "weight": 21,
          "x": 539.5135288298698,
          "xval": 60,
          "y": 382.05054442074044,
          "yval": 27.272727272727273
         },
         "value": 1
        },
        {
         "source": {
          "index": 30,
          "label": "h1,19",
          "label_display": "none",
          "px": 454.5331839788234,
          "py": 440.7353981371751,
          "shape": "circle",
          "shape_attrs": {
           "r": 15
          },
          "value": null,
          "weight": 22,
          "x": 454.57338727966345,
          "xval": 40,
          "y": 440.870029182474,
          "yval": 9.523809523809524
         },
         "target": {
          "fixed": 0,
          "index": 40,
          "label": "h2,9",
          "label_display": "none",
          "px": 541.8789771051929,
          "py": 399.51769602374225,
          "shape": "circle",
          "shape_attrs": {
           "r": 15
          },
          "value": null,
          "weight": 21,
          "x": 541.8789771051929,
          "xval": 60,
          "y": 399.51769602374225,
          "yval": 18.181818181818183
         },
         "value": 1
        },
        {
         "source": {
          "index": 30,
          "label": "h1,19",
          "label_display": "none",
          "px": 454.5331839788234,
          "py": 440.7353981371751,
          "shape": "circle",
          "shape_attrs": {
           "r": 15
          },
          "value": null,
          "weight": 22,
          "x": 454.57338727966345,
          "xval": 40,
          "y": 440.870029182474,
          "yval": 9.523809523809524
         },
         "target": {
          "index": 41,
          "label": "h2,10",
          "label_display": "none",
          "px": 540.9635353553583,
          "py": 390.2506362665784,
          "shape": "circle",
          "shape_attrs": {
           "r": 15
          },
          "value": null,
          "weight": 21,
          "x": 541.0069568340803,
          "xval": 60,
          "y": 390.2620434189789,
          "yval": 9.090909090909092
         },
         "value": 1
        },
        {
         "source": {
          "index": 31,
          "label": "h1,20",
          "label_display": "none",
          "px": 452.51111853060013,
          "py": 433.8924336038177,
          "shape": "circle",
          "shape_attrs": {
           "r": 15
          },
          "value": null,
          "weight": 22,
          "x": 452.53198152903235,
          "xval": 40,
          "y": 433.96970392214837,
          "yval": 4.761904761904762
         },
         "target": {
          "fixed": 0,
          "index": 32,
          "label": "h2,1",
          "label_display": "none",
          "px": 348.4069633574117,
          "py": 408.76281398343616,
          "shape": "circle",
          "shape_attrs": {
           "r": 15
          },
          "value": null,
          "weight": 21,
          "x": 348.4069633574117,
          "xval": 60,
          "y": 408.76281398343616,
          "yval": 90.90909090909092
         },
         "value": 1
        },
        {
         "source": {
          "index": 31,
          "label": "h1,20",
          "label_display": "none",
          "px": 452.51111853060013,
          "py": 433.8924336038177,
          "shape": "circle",
          "shape_attrs": {
           "r": 15
          },
          "value": null,
          "weight": 22,
          "x": 452.53198152903235,
          "xval": 40,
          "y": 433.96970392214837,
          "yval": 4.761904761904762
         },
         "target": {
          "fixed": 0,
          "index": 33,
          "label": "h2,2",
          "label_display": "none",
          "px": 348.98267226676734,
          "py": 414.2410318591959,
          "shape": "circle",
          "shape_attrs": {
           "r": 15
          },
          "value": null,
          "weight": 21,
          "x": 348.98267226676734,
          "xval": 60,
          "y": 414.2410318591959,
          "yval": 81.81818181818183
         },
         "value": 1
        },
        {
         "source": {
          "index": 31,
          "label": "h1,20",
          "label_display": "none",
          "px": 452.51111853060013,
          "py": 433.8924336038177,
          "shape": "circle",
          "shape_attrs": {
           "r": 15
          },
          "value": null,
          "weight": 22,
          "x": 452.53198152903235,
          "xval": 40,
          "y": 433.96970392214837,
          "yval": 4.761904761904762
         },
         "target": {
          "fixed": 0,
          "index": 34,
          "label": "h2,3",
          "label_display": "none",
          "px": 537.4603229397491,
          "py": 374.0357973649497,
          "shape": "circle",
          "shape_attrs": {
           "r": 15
          },
          "value": null,
          "weight": 21,
          "x": 537.4603229397491,
          "xval": 60,
          "y": 374.0357973649497,
          "yval": 72.72727272727273
         },
         "value": 1
        },
        {
         "source": {
          "index": 31,
          "label": "h1,20",
          "label_display": "none",
          "px": 452.51111853060013,
          "py": 433.8924336038177,
          "shape": "circle",
          "shape_attrs": {
           "r": 15
          },
          "value": null,
          "weight": 22,
          "x": 452.53198152903235,
          "xval": 40,
          "y": 433.96970392214837,
          "yval": 4.761904761904762
         },
         "target": {
          "index": 35,
          "label": "h2,4",
          "label_display": "none",
          "px": 538.4970595658459,
          "py": 378.0861567241818,
          "shape": "circle",
          "shape_attrs": {
           "r": 15
          },
          "value": null,
          "weight": 21,
          "x": 538.5316781024794,
          "xval": 60,
          "y": 378.0560742106646,
          "yval": 63.63636363636364
         },
         "value": 1
        },
        {
         "source": {
          "index": 31,
          "label": "h1,20",
          "label_display": "none",
          "px": 452.51111853060013,
          "py": 433.8924336038177,
          "shape": "circle",
          "shape_attrs": {
           "r": 15
          },
          "value": null,
          "weight": 22,
          "x": 452.53198152903235,
          "xval": 40,
          "y": 433.96970392214837,
          "yval": 4.761904761904762
         },
         "target": {
          "index": 36,
          "label": "h2,5",
          "label_display": "none",
          "px": 541.9506789452461,
          "py": 405.2045046484753,
          "shape": "circle",
          "shape_attrs": {
           "r": 15
          },
          "value": null,
          "weight": 21,
          "x": 541.9919124283681,
          "xval": 60,
          "y": 405.2694016450591,
          "yval": 54.54545454545455
         },
         "value": 1
        },
        {
         "source": {
          "index": 31,
          "label": "h1,20",
          "label_display": "none",
          "px": 452.51111853060013,
          "py": 433.8924336038177,
          "shape": "circle",
          "shape_attrs": {
           "r": 15
          },
          "value": null,
          "weight": 22,
          "x": 452.53198152903235,
          "xval": 40,
          "y": 433.96970392214837,
          "yval": 4.761904761904762
         },
         "target": {
          "index": 37,
          "label": "h2,6",
          "label_display": "none",
          "px": 540.2884600965493,
          "py": 386.07667443285,
          "shape": "circle",
          "shape_attrs": {
           "r": 15
          },
          "value": null,
          "weight": 21,
          "x": 540.3296107385247,
          "xval": 60,
          "y": 386.0726175500124,
          "yval": 45.45454545454546
         },
         "value": 1
        },
        {
         "source": {
          "index": 31,
          "label": "h1,20",
          "label_display": "none",
          "px": 452.51111853060013,
          "py": 433.8924336038177,
          "shape": "circle",
          "shape_attrs": {
           "r": 15
          },
          "value": null,
          "weight": 22,
          "x": 452.53198152903235,
          "xval": 40,
          "y": 433.96970392214837,
          "yval": 4.761904761904762
         },
         "target": {
          "index": 38,
          "label": "h2,7",
          "label_display": "none",
          "px": 541.4812921164678,
          "py": 394.6419287169871,
          "shape": "circle",
          "shape_attrs": {
           "r": 15
          },
          "value": null,
          "weight": 21,
          "x": 541.5256498499048,
          "xval": 60,
          "y": 394.6711846016649,
          "yval": 36.36363636363637
         },
         "value": 1
        },
        {
         "source": {
          "index": 31,
          "label": "h1,20",
          "label_display": "none",
          "px": 452.51111853060013,
          "py": 433.8924336038177,
          "shape": "circle",
          "shape_attrs": {
           "r": 15
          },
          "value": null,
          "weight": 22,
          "x": 452.53198152903235,
          "xval": 40,
          "y": 433.96970392214837,
          "yval": 4.761904761904762
         },
         "target": {
          "index": 39,
          "label": "h2,8",
          "label_display": "none",
          "px": 539.4750872865833,
          "py": 382.06791160469925,
          "shape": "circle",
          "shape_attrs": {
           "r": 15
          },
          "value": null,
          "weight": 21,
          "x": 539.5135288298698,
          "xval": 60,
          "y": 382.05054442074044,
          "yval": 27.272727272727273
         },
         "value": 1
        },
        {
         "source": {
          "index": 31,
          "label": "h1,20",
          "label_display": "none",
          "px": 452.51111853060013,
          "py": 433.8924336038177,
          "shape": "circle",
          "shape_attrs": {
           "r": 15
          },
          "value": null,
          "weight": 22,
          "x": 452.53198152903235,
          "xval": 40,
          "y": 433.96970392214837,
          "yval": 4.761904761904762
         },
         "target": {
          "fixed": 0,
          "index": 40,
          "label": "h2,9",
          "label_display": "none",
          "px": 541.8789771051929,
          "py": 399.51769602374225,
          "shape": "circle",
          "shape_attrs": {
           "r": 15
          },
          "value": null,
          "weight": 21,
          "x": 541.8789771051929,
          "xval": 60,
          "y": 399.51769602374225,
          "yval": 18.181818181818183
         },
         "value": 1
        },
        {
         "source": {
          "index": 31,
          "label": "h1,20",
          "label_display": "none",
          "px": 452.51111853060013,
          "py": 433.8924336038177,
          "shape": "circle",
          "shape_attrs": {
           "r": 15
          },
          "value": null,
          "weight": 22,
          "x": 452.53198152903235,
          "xval": 40,
          "y": 433.96970392214837,
          "yval": 4.761904761904762
         },
         "target": {
          "index": 41,
          "label": "h2,10",
          "label_display": "none",
          "px": 540.9635353553583,
          "py": 390.2506362665784,
          "shape": "circle",
          "shape_attrs": {
           "r": 15
          },
          "value": null,
          "weight": 21,
          "x": 541.0069568340803,
          "xval": 60,
          "y": 390.2620434189789,
          "yval": 9.090909090909092
         },
         "value": 1
        },
        {
         "source": {
          "fixed": 0,
          "index": 32,
          "label": "h2,1",
          "label_display": "none",
          "px": 348.4069633574117,
          "py": 408.76281398343616,
          "shape": "circle",
          "shape_attrs": {
           "r": 15
          },
          "value": null,
          "weight": 21,
          "x": 348.4069633574117,
          "xval": 60,
          "y": 408.76281398343616,
          "yval": 90.90909090909092
         },
         "target": {
          "fixed": 0,
          "index": 42,
          "label": "y1",
          "label_display": "none",
          "px": 443.91449995168784,
          "py": 356.55700616411593,
          "shape": "circle",
          "shape_attrs": {
           "r": 15
          },
          "value": null,
          "weight": 10,
          "x": 443.91449995168784,
          "xval": 80,
          "y": 356.55700616411593,
          "yval": 50
         },
         "value": 1
        },
        {
         "source": {
          "fixed": 0,
          "index": 33,
          "label": "h2,2",
          "label_display": "none",
          "px": 348.98267226676734,
          "py": 414.2410318591959,
          "shape": "circle",
          "shape_attrs": {
           "r": 15
          },
          "value": null,
          "weight": 21,
          "x": 348.98267226676734,
          "xval": 60,
          "y": 414.2410318591959,
          "yval": 81.81818181818183
         },
         "target": {
          "fixed": 0,
          "index": 42,
          "label": "y1",
          "label_display": "none",
          "px": 443.91449995168784,
          "py": 356.55700616411593,
          "shape": "circle",
          "shape_attrs": {
           "r": 15
          },
          "value": null,
          "weight": 10,
          "x": 443.91449995168784,
          "xval": 80,
          "y": 356.55700616411593,
          "yval": 50
         },
         "value": 1
        },
        {
         "source": {
          "fixed": 0,
          "index": 34,
          "label": "h2,3",
          "label_display": "none",
          "px": 537.4603229397491,
          "py": 374.0357973649497,
          "shape": "circle",
          "shape_attrs": {
           "r": 15
          },
          "value": null,
          "weight": 21,
          "x": 537.4603229397491,
          "xval": 60,
          "y": 374.0357973649497,
          "yval": 72.72727272727273
         },
         "target": {
          "fixed": 0,
          "index": 42,
          "label": "y1",
          "label_display": "none",
          "px": 443.91449995168784,
          "py": 356.55700616411593,
          "shape": "circle",
          "shape_attrs": {
           "r": 15
          },
          "value": null,
          "weight": 10,
          "x": 443.91449995168784,
          "xval": 80,
          "y": 356.55700616411593,
          "yval": 50
         },
         "value": 1
        },
        {
         "source": {
          "index": 35,
          "label": "h2,4",
          "label_display": "none",
          "px": 538.4970595658459,
          "py": 378.0861567241818,
          "shape": "circle",
          "shape_attrs": {
           "r": 15
          },
          "value": null,
          "weight": 21,
          "x": 538.5316781024794,
          "xval": 60,
          "y": 378.0560742106646,
          "yval": 63.63636363636364
         },
         "target": {
          "fixed": 0,
          "index": 42,
          "label": "y1",
          "label_display": "none",
          "px": 443.91449995168784,
          "py": 356.55700616411593,
          "shape": "circle",
          "shape_attrs": {
           "r": 15
          },
          "value": null,
          "weight": 10,
          "x": 443.91449995168784,
          "xval": 80,
          "y": 356.55700616411593,
          "yval": 50
         },
         "value": 1
        },
        {
         "source": {
          "index": 36,
          "label": "h2,5",
          "label_display": "none",
          "px": 541.9506789452461,
          "py": 405.2045046484753,
          "shape": "circle",
          "shape_attrs": {
           "r": 15
          },
          "value": null,
          "weight": 21,
          "x": 541.9919124283681,
          "xval": 60,
          "y": 405.2694016450591,
          "yval": 54.54545454545455
         },
         "target": {
          "fixed": 0,
          "index": 42,
          "label": "y1",
          "label_display": "none",
          "px": 443.91449995168784,
          "py": 356.55700616411593,
          "shape": "circle",
          "shape_attrs": {
           "r": 15
          },
          "value": null,
          "weight": 10,
          "x": 443.91449995168784,
          "xval": 80,
          "y": 356.55700616411593,
          "yval": 50
         },
         "value": 1
        },
        {
         "source": {
          "index": 37,
          "label": "h2,6",
          "label_display": "none",
          "px": 540.2884600965493,
          "py": 386.07667443285,
          "shape": "circle",
          "shape_attrs": {
           "r": 15
          },
          "value": null,
          "weight": 21,
          "x": 540.3296107385247,
          "xval": 60,
          "y": 386.0726175500124,
          "yval": 45.45454545454546
         },
         "target": {
          "fixed": 0,
          "index": 42,
          "label": "y1",
          "label_display": "none",
          "px": 443.91449995168784,
          "py": 356.55700616411593,
          "shape": "circle",
          "shape_attrs": {
           "r": 15
          },
          "value": null,
          "weight": 10,
          "x": 443.91449995168784,
          "xval": 80,
          "y": 356.55700616411593,
          "yval": 50
         },
         "value": 1
        },
        {
         "source": {
          "index": 38,
          "label": "h2,7",
          "label_display": "none",
          "px": 541.4812921164678,
          "py": 394.6419287169871,
          "shape": "circle",
          "shape_attrs": {
           "r": 15
          },
          "value": null,
          "weight": 21,
          "x": 541.5256498499048,
          "xval": 60,
          "y": 394.6711846016649,
          "yval": 36.36363636363637
         },
         "target": {
          "fixed": 0,
          "index": 42,
          "label": "y1",
          "label_display": "none",
          "px": 443.91449995168784,
          "py": 356.55700616411593,
          "shape": "circle",
          "shape_attrs": {
           "r": 15
          },
          "value": null,
          "weight": 10,
          "x": 443.91449995168784,
          "xval": 80,
          "y": 356.55700616411593,
          "yval": 50
         },
         "value": 1
        },
        {
         "source": {
          "index": 39,
          "label": "h2,8",
          "label_display": "none",
          "px": 539.4750872865833,
          "py": 382.06791160469925,
          "shape": "circle",
          "shape_attrs": {
           "r": 15
          },
          "value": null,
          "weight": 21,
          "x": 539.5135288298698,
          "xval": 60,
          "y": 382.05054442074044,
          "yval": 27.272727272727273
         },
         "target": {
          "fixed": 0,
          "index": 42,
          "label": "y1",
          "label_display": "none",
          "px": 443.91449995168784,
          "py": 356.55700616411593,
          "shape": "circle",
          "shape_attrs": {
           "r": 15
          },
          "value": null,
          "weight": 10,
          "x": 443.91449995168784,
          "xval": 80,
          "y": 356.55700616411593,
          "yval": 50
         },
         "value": 1
        },
        {
         "source": {
          "fixed": 0,
          "index": 40,
          "label": "h2,9",
          "label_display": "none",
          "px": 541.8789771051929,
          "py": 399.51769602374225,
          "shape": "circle",
          "shape_attrs": {
           "r": 15
          },
          "value": null,
          "weight": 21,
          "x": 541.8789771051929,
          "xval": 60,
          "y": 399.51769602374225,
          "yval": 18.181818181818183
         },
         "target": {
          "fixed": 0,
          "index": 42,
          "label": "y1",
          "label_display": "none",
          "px": 443.91449995168784,
          "py": 356.55700616411593,
          "shape": "circle",
          "shape_attrs": {
           "r": 15
          },
          "value": null,
          "weight": 10,
          "x": 443.91449995168784,
          "xval": 80,
          "y": 356.55700616411593,
          "yval": 50
         },
         "value": 1
        },
        {
         "source": {
          "index": 41,
          "label": "h2,10",
          "label_display": "none",
          "px": 540.9635353553583,
          "py": 390.2506362665784,
          "shape": "circle",
          "shape_attrs": {
           "r": 15
          },
          "value": null,
          "weight": 21,
          "x": 541.0069568340803,
          "xval": 60,
          "y": 390.2620434189789,
          "yval": 9.090909090909092
         },
         "target": {
          "fixed": 0,
          "index": 42,
          "label": "y1",
          "label_display": "none",
          "px": 443.91449995168784,
          "py": 356.55700616411593,
          "shape": "circle",
          "shape_attrs": {
           "r": 15
          },
          "value": null,
          "weight": 10,
          "x": 443.91449995168784,
          "xval": 80,
          "y": 356.55700616411593,
          "yval": 50
         },
         "value": 1
        }
       ],
       "link_distance": 100,
       "link_matrix": {
        "type": "float",
        "values": [
         [
          null,
          null,
          null,
          null,
          null,
          null,
          null,
          null,
          null,
          null,
          null,
          null,
          1,
          1,
          1,
          1,
          1,
          1,
          1,
          1,
          1,
          1,
          1,
          1,
          1,
          1,
          1,
          1,
          1,
          1,
          1,
          1,
          null,
          null,
          null,
          null,
          null,
          null,
          null,
          null,
          null,
          null,
          null
         ],
         [
          null,
          null,
          null,
          null,
          null,
          null,
          null,
          null,
          null,
          null,
          null,
          null,
          1,
          1,
          1,
          1,
          1,
          1,
          1,
          1,
          1,
          1,
          1,
          1,
          1,
          1,
          1,
          1,
          1,
          1,
          1,
          1,
          null,
          null,
          null,
          null,
          null,
          null,
          null,
          null,
          null,
          null,
          null
         ],
         [
          null,
          null,
          null,
          null,
          null,
          null,
          null,
          null,
          null,
          null,
          null,
          null,
          1,
          1,
          1,
          1,
          1,
          1,
          1,
          1,
          1,
          1,
          1,
          1,
          1,
          1,
          1,
          1,
          1,
          1,
          1,
          1,
          null,
          null,
          null,
          null,
          null,
          null,
          null,
          null,
          null,
          null,
          null
         ],
         [
          null,
          null,
          null,
          null,
          null,
          null,
          null,
          null,
          null,
          null,
          null,
          null,
          1,
          1,
          1,
          1,
          1,
          1,
          1,
          1,
          1,
          1,
          1,
          1,
          1,
          1,
          1,
          1,
          1,
          1,
          1,
          1,
          null,
          null,
          null,
          null,
          null,
          null,
          null,
          null,
          null,
          null,
          null
         ],
         [
          null,
          null,
          null,
          null,
          null,
          null,
          null,
          null,
          null,
          null,
          null,
          null,
          1,
          1,
          1,
          1,
          1,
          1,
          1,
          1,
          1,
          1,
          1,
          1,
          1,
          1,
          1,
          1,
          1,
          1,
          1,
          1,
          null,
          null,
          null,
          null,
          null,
          null,
          null,
          null,
          null,
          null,
          null
         ],
         [
          null,
          null,
          null,
          null,
          null,
          null,
          null,
          null,
          null,
          null,
          null,
          null,
          1,
          1,
          1,
          1,
          1,
          1,
          1,
          1,
          1,
          1,
          1,
          1,
          1,
          1,
          1,
          1,
          1,
          1,
          1,
          1,
          null,
          null,
          null,
          null,
          null,
          null,
          null,
          null,
          null,
          null,
          null
         ],
         [
          null,
          null,
          null,
          null,
          null,
          null,
          null,
          null,
          null,
          null,
          null,
          null,
          1,
          1,
          1,
          1,
          1,
          1,
          1,
          1,
          1,
          1,
          1,
          1,
          1,
          1,
          1,
          1,
          1,
          1,
          1,
          1,
          null,
          null,
          null,
          null,
          null,
          null,
          null,
          null,
          null,
          null,
          null
         ],
         [
          null,
          null,
          null,
          null,
          null,
          null,
          null,
          null,
          null,
          null,
          null,
          null,
          1,
          1,
          1,
          1,
          1,
          1,
          1,
          1,
          1,
          1,
          1,
          1,
          1,
          1,
          1,
          1,
          1,
          1,
          1,
          1,
          null,
          null,
          null,
          null,
          null,
          null,
          null,
          null,
          null,
          null,
          null
         ],
         [
          null,
          null,
          null,
          null,
          null,
          null,
          null,
          null,
          null,
          null,
          null,
          null,
          1,
          1,
          1,
          1,
          1,
          1,
          1,
          1,
          1,
          1,
          1,
          1,
          1,
          1,
          1,
          1,
          1,
          1,
          1,
          1,
          null,
          null,
          null,
          null,
          null,
          null,
          null,
          null,
          null,
          null,
          null
         ],
         [
          null,
          null,
          null,
          null,
          null,
          null,
          null,
          null,
          null,
          null,
          null,
          null,
          1,
          1,
          1,
          1,
          1,
          1,
          1,
          1,
          1,
          1,
          1,
          1,
          1,
          1,
          1,
          1,
          1,
          1,
          1,
          1,
          null,
          null,
          null,
          null,
          null,
          null,
          null,
          null,
          null,
          null,
          null
         ],
         [
          null,
          null,
          null,
          null,
          null,
          null,
          null,
          null,
          null,
          null,
          null,
          null,
          1,
          1,
          1,
          1,
          1,
          1,
          1,
          1,
          1,
          1,
          1,
          1,
          1,
          1,
          1,
          1,
          1,
          1,
          1,
          1,
          null,
          null,
          null,
          null,
          null,
          null,
          null,
          null,
          null,
          null,
          null
         ],
         [
          null,
          null,
          null,
          null,
          null,
          null,
          null,
          null,
          null,
          null,
          null,
          null,
          1,
          1,
          1,
          1,
          1,
          1,
          1,
          1,
          1,
          1,
          1,
          1,
          1,
          1,
          1,
          1,
          1,
          1,
          1,
          1,
          null,
          null,
          null,
          null,
          null,
          null,
          null,
          null,
          null,
          null,
          null
         ],
         [
          null,
          null,
          null,
          null,
          null,
          null,
          null,
          null,
          null,
          null,
          null,
          null,
          null,
          null,
          null,
          null,
          null,
          null,
          null,
          null,
          null,
          null,
          null,
          null,
          null,
          null,
          null,
          null,
          null,
          null,
          null,
          null,
          1,
          1,
          1,
          1,
          1,
          1,
          1,
          1,
          1,
          1,
          null
         ],
         [
          null,
          null,
          null,
          null,
          null,
          null,
          null,
          null,
          null,
          null,
          null,
          null,
          null,
          null,
          null,
          null,
          null,
          null,
          null,
          null,
          null,
          null,
          null,
          null,
          null,
          null,
          null,
          null,
          null,
          null,
          null,
          null,
          1,
          1,
          1,
          1,
          1,
          1,
          1,
          1,
          1,
          1,
          null
         ],
         [
          null,
          null,
          null,
          null,
          null,
          null,
          null,
          null,
          null,
          null,
          null,
          null,
          null,
          null,
          null,
          null,
          null,
          null,
          null,
          null,
          null,
          null,
          null,
          null,
          null,
          null,
          null,
          null,
          null,
          null,
          null,
          null,
          1,
          1,
          1,
          1,
          1,
          1,
          1,
          1,
          1,
          1,
          null
         ],
         [
          null,
          null,
          null,
          null,
          null,
          null,
          null,
          null,
          null,
          null,
          null,
          null,
          null,
          null,
          null,
          null,
          null,
          null,
          null,
          null,
          null,
          null,
          null,
          null,
          null,
          null,
          null,
          null,
          null,
          null,
          null,
          null,
          1,
          1,
          1,
          1,
          1,
          1,
          1,
          1,
          1,
          1,
          null
         ],
         [
          null,
          null,
          null,
          null,
          null,
          null,
          null,
          null,
          null,
          null,
          null,
          null,
          null,
          null,
          null,
          null,
          null,
          null,
          null,
          null,
          null,
          null,
          null,
          null,
          null,
          null,
          null,
          null,
          null,
          null,
          null,
          null,
          1,
          1,
          1,
          1,
          1,
          1,
          1,
          1,
          1,
          1,
          null
         ],
         [
          null,
          null,
          null,
          null,
          null,
          null,
          null,
          null,
          null,
          null,
          null,
          null,
          null,
          null,
          null,
          null,
          null,
          null,
          null,
          null,
          null,
          null,
          null,
          null,
          null,
          null,
          null,
          null,
          null,
          null,
          null,
          null,
          1,
          1,
          1,
          1,
          1,
          1,
          1,
          1,
          1,
          1,
          null
         ],
         [
          null,
          null,
          null,
          null,
          null,
          null,
          null,
          null,
          null,
          null,
          null,
          null,
          null,
          null,
          null,
          null,
          null,
          null,
          null,
          null,
          null,
          null,
          null,
          null,
          null,
          null,
          null,
          null,
          null,
          null,
          null,
          null,
          1,
          1,
          1,
          1,
          1,
          1,
          1,
          1,
          1,
          1,
          null
         ],
         [
          null,
          null,
          null,
          null,
          null,
          null,
          null,
          null,
          null,
          null,
          null,
          null,
          null,
          null,
          null,
          null,
          null,
          null,
          null,
          null,
          null,
          null,
          null,
          null,
          null,
          null,
          null,
          null,
          null,
          null,
          null,
          null,
          1,
          1,
          1,
          1,
          1,
          1,
          1,
          1,
          1,
          1,
          null
         ],
         [
          null,
          null,
          null,
          null,
          null,
          null,
          null,
          null,
          null,
          null,
          null,
          null,
          null,
          null,
          null,
          null,
          null,
          null,
          null,
          null,
          null,
          null,
          null,
          null,
          null,
          null,
          null,
          null,
          null,
          null,
          null,
          null,
          1,
          1,
          1,
          1,
          1,
          1,
          1,
          1,
          1,
          1,
          null
         ],
         [
          null,
          null,
          null,
          null,
          null,
          null,
          null,
          null,
          null,
          null,
          null,
          null,
          null,
          null,
          null,
          null,
          null,
          null,
          null,
          null,
          null,
          null,
          null,
          null,
          null,
          null,
          null,
          null,
          null,
          null,
          null,
          null,
          1,
          1,
          1,
          1,
          1,
          1,
          1,
          1,
          1,
          1,
          null
         ],
         [
          null,
          null,
          null,
          null,
          null,
          null,
          null,
          null,
          null,
          null,
          null,
          null,
          null,
          null,
          null,
          null,
          null,
          null,
          null,
          null,
          null,
          null,
          null,
          null,
          null,
          null,
          null,
          null,
          null,
          null,
          null,
          null,
          1,
          1,
          1,
          1,
          1,
          1,
          1,
          1,
          1,
          1,
          null
         ],
         [
          null,
          null,
          null,
          null,
          null,
          null,
          null,
          null,
          null,
          null,
          null,
          null,
          null,
          null,
          null,
          null,
          null,
          null,
          null,
          null,
          null,
          null,
          null,
          null,
          null,
          null,
          null,
          null,
          null,
          null,
          null,
          null,
          1,
          1,
          1,
          1,
          1,
          1,
          1,
          1,
          1,
          1,
          null
         ],
         [
          null,
          null,
          null,
          null,
          null,
          null,
          null,
          null,
          null,
          null,
          null,
          null,
          null,
          null,
          null,
          null,
          null,
          null,
          null,
          null,
          null,
          null,
          null,
          null,
          null,
          null,
          null,
          null,
          null,
          null,
          null,
          null,
          1,
          1,
          1,
          1,
          1,
          1,
          1,
          1,
          1,
          1,
          null
         ],
         [
          null,
          null,
          null,
          null,
          null,
          null,
          null,
          null,
          null,
          null,
          null,
          null,
          null,
          null,
          null,
          null,
          null,
          null,
          null,
          null,
          null,
          null,
          null,
          null,
          null,
          null,
          null,
          null,
          null,
          null,
          null,
          null,
          1,
          1,
          1,
          1,
          1,
          1,
          1,
          1,
          1,
          1,
          null
         ],
         [
          null,
          null,
          null,
          null,
          null,
          null,
          null,
          null,
          null,
          null,
          null,
          null,
          null,
          null,
          null,
          null,
          null,
          null,
          null,
          null,
          null,
          null,
          null,
          null,
          null,
          null,
          null,
          null,
          null,
          null,
          null,
          null,
          1,
          1,
          1,
          1,
          1,
          1,
          1,
          1,
          1,
          1,
          null
         ],
         [
          null,
          null,
          null,
          null,
          null,
          null,
          null,
          null,
          null,
          null,
          null,
          null,
          null,
          null,
          null,
          null,
          null,
          null,
          null,
          null,
          null,
          null,
          null,
          null,
          null,
          null,
          null,
          null,
          null,
          null,
          null,
          null,
          1,
          1,
          1,
          1,
          1,
          1,
          1,
          1,
          1,
          1,
          null
         ],
         [
          null,
          null,
          null,
          null,
          null,
          null,
          null,
          null,
          null,
          null,
          null,
          null,
          null,
          null,
          null,
          null,
          null,
          null,
          null,
          null,
          null,
          null,
          null,
          null,
          null,
          null,
          null,
          null,
          null,
          null,
          null,
          null,
          1,
          1,
          1,
          1,
          1,
          1,
          1,
          1,
          1,
          1,
          null
         ],
         [
          null,
          null,
          null,
          null,
          null,
          null,
          null,
          null,
          null,
          null,
          null,
          null,
          null,
          null,
          null,
          null,
          null,
          null,
          null,
          null,
          null,
          null,
          null,
          null,
          null,
          null,
          null,
          null,
          null,
          null,
          null,
          null,
          1,
          1,
          1,
          1,
          1,
          1,
          1,
          1,
          1,
          1,
          null
         ],
         [
          null,
          null,
          null,
          null,
          null,
          null,
          null,
          null,
          null,
          null,
          null,
          null,
          null,
          null,
          null,
          null,
          null,
          null,
          null,
          null,
          null,
          null,
          null,
          null,
          null,
          null,
          null,
          null,
          null,
          null,
          null,
          null,
          1,
          1,
          1,
          1,
          1,
          1,
          1,
          1,
          1,
          1,
          null
         ],
         [
          null,
          null,
          null,
          null,
          null,
          null,
          null,
          null,
          null,
          null,
          null,
          null,
          null,
          null,
          null,
          null,
          null,
          null,
          null,
          null,
          null,
          null,
          null,
          null,
          null,
          null,
          null,
          null,
          null,
          null,
          null,
          null,
          1,
          1,
          1,
          1,
          1,
          1,
          1,
          1,
          1,
          1,
          null
         ],
         [
          null,
          null,
          null,
          null,
          null,
          null,
          null,
          null,
          null,
          null,
          null,
          null,
          null,
          null,
          null,
          null,
          null,
          null,
          null,
          null,
          null,
          null,
          null,
          null,
          null,
          null,
          null,
          null,
          null,
          null,
          null,
          null,
          null,
          null,
          null,
          null,
          null,
          null,
          null,
          null,
          null,
          null,
          1
         ],
         [
          null,
          null,
          null,
          null,
          null,
          null,
          null,
          null,
          null,
          null,
          null,
          null,
          null,
          null,
          null,
          null,
          null,
          null,
          null,
          null,
          null,
          null,
          null,
          null,
          null,
          null,
          null,
          null,
          null,
          null,
          null,
          null,
          null,
          null,
          null,
          null,
          null,
          null,
          null,
          null,
          null,
          null,
          1
         ],
         [
          null,
          null,
          null,
          null,
          null,
          null,
          null,
          null,
          null,
          null,
          null,
          null,
          null,
          null,
          null,
          null,
          null,
          null,
          null,
          null,
          null,
          null,
          null,
          null,
          null,
          null,
          null,
          null,
          null,
          null,
          null,
          null,
          null,
          null,
          null,
          null,
          null,
          null,
          null,
          null,
          null,
          null,
          1
         ],
         [
          null,
          null,
          null,
          null,
          null,
          null,
          null,
          null,
          null,
          null,
          null,
          null,
          null,
          null,
          null,
          null,
          null,
          null,
          null,
          null,
          null,
          null,
          null,
          null,
          null,
          null,
          null,
          null,
          null,
          null,
          null,
          null,
          null,
          null,
          null,
          null,
          null,
          null,
          null,
          null,
          null,
          null,
          1
         ],
         [
          null,
          null,
          null,
          null,
          null,
          null,
          null,
          null,
          null,
          null,
          null,
          null,
          null,
          null,
          null,
          null,
          null,
          null,
          null,
          null,
          null,
          null,
          null,
          null,
          null,
          null,
          null,
          null,
          null,
          null,
          null,
          null,
          null,
          null,
          null,
          null,
          null,
          null,
          null,
          null,
          null,
          null,
          1
         ],
         [
          null,
          null,
          null,
          null,
          null,
          null,
          null,
          null,
          null,
          null,
          null,
          null,
          null,
          null,
          null,
          null,
          null,
          null,
          null,
          null,
          null,
          null,
          null,
          null,
          null,
          null,
          null,
          null,
          null,
          null,
          null,
          null,
          null,
          null,
          null,
          null,
          null,
          null,
          null,
          null,
          null,
          null,
          1
         ],
         [
          null,
          null,
          null,
          null,
          null,
          null,
          null,
          null,
          null,
          null,
          null,
          null,
          null,
          null,
          null,
          null,
          null,
          null,
          null,
          null,
          null,
          null,
          null,
          null,
          null,
          null,
          null,
          null,
          null,
          null,
          null,
          null,
          null,
          null,
          null,
          null,
          null,
          null,
          null,
          null,
          null,
          null,
          1
         ],
         [
          null,
          null,
          null,
          null,
          null,
          null,
          null,
          null,
          null,
          null,
          null,
          null,
          null,
          null,
          null,
          null,
          null,
          null,
          null,
          null,
          null,
          null,
          null,
          null,
          null,
          null,
          null,
          null,
          null,
          null,
          null,
          null,
          null,
          null,
          null,
          null,
          null,
          null,
          null,
          null,
          null,
          null,
          1
         ],
         [
          null,
          null,
          null,
          null,
          null,
          null,
          null,
          null,
          null,
          null,
          null,
          null,
          null,
          null,
          null,
          null,
          null,
          null,
          null,
          null,
          null,
          null,
          null,
          null,
          null,
          null,
          null,
          null,
          null,
          null,
          null,
          null,
          null,
          null,
          null,
          null,
          null,
          null,
          null,
          null,
          null,
          null,
          1
         ],
         [
          null,
          null,
          null,
          null,
          null,
          null,
          null,
          null,
          null,
          null,
          null,
          null,
          null,
          null,
          null,
          null,
          null,
          null,
          null,
          null,
          null,
          null,
          null,
          null,
          null,
          null,
          null,
          null,
          null,
          null,
          null,
          null,
          null,
          null,
          null,
          null,
          null,
          null,
          null,
          null,
          null,
          null,
          1
         ],
         [
          null,
          null,
          null,
          null,
          null,
          null,
          null,
          null,
          null,
          null,
          null,
          null,
          null,
          null,
          null,
          null,
          null,
          null,
          null,
          null,
          null,
          null,
          null,
          null,
          null,
          null,
          null,
          null,
          null,
          null,
          null,
          null,
          null,
          null,
          null,
          null,
          null,
          null,
          null,
          null,
          null,
          null,
          null
         ]
        ]
       },
       "link_type": "line",
       "msg_throttle": 1,
       "node_data": [
        {
         "fixed": 0,
         "index": 0,
         "label": "x1",
         "label_display": "none",
         "px": 529.101806297863,
         "py": 355.7203247943226,
         "shape": "circle",
         "shape_attrs": {
          "r": 15
         },
         "value": null,
         "weight": 20,
         "x": 529.101806297863,
         "xval": 20,
         "y": 355.7203247943226,
         "yval": 92.3076923076923
        },
        {
         "index": 1,
         "label": "x2",
         "label_display": "none",
         "px": 531.8832380514635,
         "py": 361.09275997017016,
         "shape": "circle",
         "shape_attrs": {
          "r": 15
         },
         "value": null,
         "weight": 20,
         "x": 531.8893505016846,
         "xval": 20,
         "y": 361.0113644764516,
         "yval": 84.61538461538461
        },
        {
         "fixed": 0,
         "index": 2,
         "label": "x3",
         "label_display": "none",
         "px": 534.0063735013048,
         "py": 365.6184188767283,
         "shape": "circle",
         "shape_attrs": {
          "r": 15
         },
         "value": null,
         "weight": 20,
         "x": 534.0063735013048,
         "xval": 20,
         "y": 365.6184188767283,
         "yval": 76.92307692307692
        },
        {
         "index": 3,
         "label": "x4",
         "label_display": "none",
         "px": 535.660900262516,
         "py": 369.99225384771086,
         "shape": "circle",
         "shape_attrs": {
          "r": 15
         },
         "value": null,
         "weight": 20,
         "x": 535.6813683424843,
         "xval": 20,
         "y": 369.9379113606251,
         "yval": 69.23076923076923
        },
        {
         "index": 4,
         "label": "x5",
         "label_display": "none",
         "px": 349.27806531366787,
         "py": 419.79204133732895,
         "shape": "circle",
         "shape_attrs": {
          "r": 15
         },
         "value": null,
         "weight": 20,
         "x": 349.2334300496466,
         "xval": 20,
         "y": 419.7893909849638,
         "yval": 61.53846153846154
        },
        {
         "fixed": 0,
         "index": 5,
         "label": "x6",
         "label_display": "none",
         "px": 347.9242179952878,
         "py": 403.0316697786804,
         "shape": "circle",
         "shape_attrs": {
          "r": 15
         },
         "value": null,
         "weight": 20,
         "x": 347.87171205703646,
         "xval": 20,
         "y": 403.02724575949105,
         "yval": 53.84615384615385
        },
        {
         "index": 6,
         "label": "x7",
         "label_display": "none",
         "px": 354.2538696234675,
         "py": 438.5097584805723,
         "shape": "circle",
         "shape_attrs": {
          "r": 15
         },
         "value": null,
         "weight": 20,
         "x": 354.2313541770172,
         "xval": 20,
         "y": 438.56414739258605,
         "yval": 46.15384615384615
        },
        {
         "index": 7,
         "label": "x8",
         "label_display": "none",
         "px": 356.22057362840934,
         "py": 443.45571635538505,
         "shape": "circle",
         "shape_attrs": {
          "r": 15
         },
         "value": null,
         "weight": 20,
         "x": 356.2072062248934,
         "xval": 20,
         "y": 443.5252069713679,
         "yval": 38.46153846153846
        },
        {
         "index": 8,
         "label": "x9",
         "label_display": "none",
         "px": 358.8291461241985,
         "py": 449.07773963324667,
         "shape": "circle",
         "shape_attrs": {
          "r": 15
         },
         "value": null,
         "weight": 20,
         "x": 358.8271265687761,
         "xval": 20,
         "y": 449.1618443720512,
         "yval": 30.76923076923077
        },
        {
         "index": 9,
         "label": "x10",
         "label_display": "none",
         "px": 350.2348409036163,
         "py": 424.5967295664436,
         "shape": "circle",
         "shape_attrs": {
          "r": 15
         },
         "value": null,
         "weight": 20,
         "x": 350.1955683056573,
         "xval": 20,
         "y": 424.60863574141325,
         "yval": 23.076923076923077
        },
        {
         "index": 10,
         "label": "x11",
         "label_display": "none",
         "px": 351.34055233776166,
         "py": 429.23557739439275,
         "shape": "circle",
         "shape_attrs": {
          "r": 15
         },
         "value": null,
         "weight": 20,
         "x": 351.3057445861824,
         "xval": 20,
         "y": 429.26248221265405,
         "yval": 15.384615384615385
        },
        {
         "index": 11,
         "label": "x12",
         "label_display": "none",
         "px": 352.6686766055288,
         "py": 433.8364505361106,
         "shape": "circle",
         "shape_attrs": {
          "r": 15
         },
         "value": null,
         "weight": 20,
         "x": 352.63949182740373,
         "xval": 20,
         "y": 433.8773686865644,
         "yval": 7.6923076923076925
        },
        {
         "fixed": 0,
         "index": 12,
         "label": "h1,1",
         "label_display": "none",
         "px": 438.30653773859984,
         "py": 377.7211018453636,
         "shape": "circle",
         "shape_attrs": {
          "r": 15
         },
         "value": null,
         "weight": 22,
         "x": 438.30653773859984,
         "xval": 40,
         "y": 377.7211018453636,
         "yval": 95.23809523809524
        },
        {
         "fixed": 0,
         "index": 13,
         "label": "h1,2",
         "label_display": "none",
         "px": 445.4830710949258,
         "py": 407.40580969271514,
         "shape": "circle",
         "shape_attrs": {
          "r": 15
         },
         "value": null,
         "weight": 22,
         "x": 445.4830710949258,
         "xval": 40,
         "y": 407.40580969271514,
         "yval": 90.47619047619048
        },
        {
         "fixed": 0,
         "index": 14,
         "label": "h1,3",
         "label_display": "none",
         "px": 440.09389561772593,
         "py": 384.9913547714818,
         "shape": "circle",
         "shape_attrs": {
          "r": 15
         },
         "value": null,
         "weight": 22,
         "x": 440.09389561772593,
         "xval": 40,
         "y": 384.9913547714818,
         "yval": 85.71428571428571
        },
        {
         "index": 15,
         "label": "h1,4",
         "label_display": "none",
         "px": 442.03390585799406,
         "py": 393.18624031821906,
         "shape": "circle",
         "shape_attrs": {
          "r": 15
         },
         "value": null,
         "weight": 22,
         "x": 442.0252187451049,
         "xval": 40,
         "y": 393.18099926055953,
         "yval": 80.95238095238095
        },
        {
         "fixed": 0,
         "index": 16,
         "label": "h1,5",
         "label_display": "none",
         "px": 439.3038323400098,
         "py": 381.26898657152276,
         "shape": "circle",
         "shape_attrs": {
          "r": 15
         },
         "value": null,
         "weight": 22,
         "x": 439.3038323400098,
         "xval": 40,
         "y": 381.26898657152276,
         "yval": 76.19047619047619
        },
        {
         "index": 17,
         "label": "h1,6",
         "label_display": "none",
         "px": 436.1763853376012,
         "py": 367.0391092191069,
         "shape": "circle",
         "shape_attrs": {
          "r": 15
         },
         "value": null,
         "weight": 22,
         "x": 436.1319756129927,
         "xval": 40,
         "y": 366.9193372066237,
         "yval": 71.42857142857143
        },
        {
         "index": 18,
         "label": "h1,7",
         "label_display": "none",
         "px": 444.28747307460884,
         "py": 402.5857074144147,
         "shape": "circle",
         "shape_attrs": {
          "r": 15
         },
         "value": null,
         "weight": 22,
         "x": 444.28189322820117,
         "xval": 40,
         "y": 402.5864217166488,
         "yval": 66.66666666666667
        },
        {
         "index": 19,
         "label": "h1,8",
         "label_display": "none",
         "px": 436.96694163354766,
         "py": 370.835219648978,
         "shape": "circle",
         "shape_attrs": {
          "r": 15
         },
         "value": null,
         "weight": 22,
         "x": 436.93081668870667,
         "xval": 40,
         "y": 370.7487234007221,
         "yval": 61.904761904761905
        },
        {
         "index": 20,
         "label": "h1,9",
         "label_display": "none",
         "px": 443.12903262452926,
         "py": 397.77183731760726,
         "shape": "circle",
         "shape_attrs": {
          "r": 15
         },
         "value": null,
         "weight": 22,
         "x": 443.1225250371738,
         "xval": 40,
         "y": 397.77048960247726,
         "yval": 57.14285714285714
        },
        {
         "index": 21,
         "label": "h1,10",
         "label_display": "none",
         "px": 453.47719733511025,
         "py": 437.1791317957166,
         "shape": "circle",
         "shape_attrs": {
          "r": 15
         },
         "value": null,
         "weight": 22,
         "x": 453.50705008596486,
         "xval": 40,
         "y": 437.28186603254966,
         "yval": 52.38095238095238
        },
        {
         "index": 22,
         "label": "h1,11",
         "label_display": "none",
         "px": 450.6931880317312,
         "py": 427.36854915169533,
         "shape": "circle",
         "shape_attrs": {
          "r": 15
         },
         "value": null,
         "weight": 22,
         "x": 450.70224459711284,
         "xval": 40,
         "y": 427.40707742900895,
         "yval": 47.61904761904762
        },
        {
         "index": 23,
         "label": "h1,12",
         "label_display": "none",
         "px": 451.616956869591,
         "py": 430.68399636795544,
         "shape": "circle",
         "shape_attrs": {
          "r": 15
         },
         "value": null,
         "weight": 22,
         "x": 451.6308613454441,
         "xval": 40,
         "y": 430.73607807474326,
         "yval": 42.857142857142854
        },
        {
         "index": 24,
         "label": "h1,13",
         "label_display": "none",
         "px": 449.7701933541918,
         "py": 423.95395938325044,
         "shape": "circle",
         "shape_attrs": {
          "r": 15
         },
         "value": null,
         "weight": 22,
         "x": 449.77543161498545,
         "xval": 40,
         "y": 423.979666438766,
         "yval": 38.095238095238095
        },
        {
         "index": 25,
         "label": "h1,14",
         "label_display": "none",
         "px": 447.77652249109667,
         "py": 416.4027794386295,
         "shape": "circle",
         "shape_attrs": {
          "r": 15
         },
         "value": null,
         "weight": 22,
         "x": 447.77533228674633,
         "xval": 40,
         "y": 416.4089800756498,
         "yval": 33.333333333333336
        },
        {
         "fixed": 0,
         "index": 26,
         "label": "h1,15",
         "label_display": "none",
         "px": 437.84986949367203,
         "py": 374.25132654913494,
         "shape": "circle",
         "shape_attrs": {
          "r": 15
         },
         "value": null,
         "weight": 22,
         "x": 437.84986949367203,
         "xval": 40,
         "y": 374.25132654913494,
         "yval": 28.57142857142857
        },
        {
         "index": 27,
         "label": "h1,16",
         "label_display": "none",
         "px": 441.03312194188425,
         "py": 388.9301428056495,
         "shape": "circle",
         "shape_attrs": {
          "r": 15
         },
         "value": null,
         "weight": 22,
         "x": 441.0223311760983,
         "xval": 40,
         "y": 388.9201492326303,
         "yval": 23.80952380952381
        },
        {
         "index": 28,
         "label": "h1,17",
         "label_display": "none",
         "px": 448.80878786875905,
         "py": 420.35138343623464,
         "shape": "circle",
         "shape_attrs": {
          "r": 15
         },
         "value": null,
         "weight": 22,
         "x": 448.8091799805161,
         "xval": 40,
         "y": 420.3610019925185,
         "yval": 19.047619047619047
        },
        {
         "index": 29,
         "label": "h1,18",
         "label_display": "none",
         "px": 446.66133336839465,
         "py": 412.06746080603597,
         "shape": "circle",
         "shape_attrs": {
          "r": 15
         },
         "value": null,
         "weight": 22,
         "x": 446.65836227806636,
         "xval": 40,
         "y": 412.06979862465556,
         "yval": 14.285714285714285
        },
        {
         "index": 30,
         "label": "h1,19",
         "label_display": "none",
         "px": 454.5331839788234,
         "py": 440.7353981371751,
         "shape": "circle",
         "shape_attrs": {
          "r": 15
         },
         "value": null,
         "weight": 22,
         "x": 454.57338727966345,
         "xval": 40,
         "y": 440.870029182474,
         "yval": 9.523809523809524
        },
        {
         "index": 31,
         "label": "h1,20",
         "label_display": "none",
         "px": 452.51111853060013,
         "py": 433.8924336038177,
         "shape": "circle",
         "shape_attrs": {
          "r": 15
         },
         "value": null,
         "weight": 22,
         "x": 452.53198152903235,
         "xval": 40,
         "y": 433.96970392214837,
         "yval": 4.761904761904762
        },
        {
         "fixed": 0,
         "index": 32,
         "label": "h2,1",
         "label_display": "none",
         "px": 348.4069633574117,
         "py": 408.76281398343616,
         "shape": "circle",
         "shape_attrs": {
          "r": 15
         },
         "value": null,
         "weight": 21,
         "x": 348.4069633574117,
         "xval": 60,
         "y": 408.76281398343616,
         "yval": 90.90909090909092
        },
        {
         "fixed": 0,
         "index": 33,
         "label": "h2,2",
         "label_display": "none",
         "px": 348.98267226676734,
         "py": 414.2410318591959,
         "shape": "circle",
         "shape_attrs": {
          "r": 15
         },
         "value": null,
         "weight": 21,
         "x": 348.98267226676734,
         "xval": 60,
         "y": 414.2410318591959,
         "yval": 81.81818181818183
        },
        {
         "fixed": 0,
         "index": 34,
         "label": "h2,3",
         "label_display": "none",
         "px": 537.4603229397491,
         "py": 374.0357973649497,
         "shape": "circle",
         "shape_attrs": {
          "r": 15
         },
         "value": null,
         "weight": 21,
         "x": 537.4603229397491,
         "xval": 60,
         "y": 374.0357973649497,
         "yval": 72.72727272727273
        },
        {
         "index": 35,
         "label": "h2,4",
         "label_display": "none",
         "px": 538.4970595658459,
         "py": 378.0861567241818,
         "shape": "circle",
         "shape_attrs": {
          "r": 15
         },
         "value": null,
         "weight": 21,
         "x": 538.5316781024794,
         "xval": 60,
         "y": 378.0560742106646,
         "yval": 63.63636363636364
        },
        {
         "index": 36,
         "label": "h2,5",
         "label_display": "none",
         "px": 541.9506789452461,
         "py": 405.2045046484753,
         "shape": "circle",
         "shape_attrs": {
          "r": 15
         },
         "value": null,
         "weight": 21,
         "x": 541.9919124283681,
         "xval": 60,
         "y": 405.2694016450591,
         "yval": 54.54545454545455
        },
        {
         "index": 37,
         "label": "h2,6",
         "label_display": "none",
         "px": 540.2884600965493,
         "py": 386.07667443285,
         "shape": "circle",
         "shape_attrs": {
          "r": 15
         },
         "value": null,
         "weight": 21,
         "x": 540.3296107385247,
         "xval": 60,
         "y": 386.0726175500124,
         "yval": 45.45454545454546
        },
        {
         "index": 38,
         "label": "h2,7",
         "label_display": "none",
         "px": 541.4812921164678,
         "py": 394.6419287169871,
         "shape": "circle",
         "shape_attrs": {
          "r": 15
         },
         "value": null,
         "weight": 21,
         "x": 541.5256498499048,
         "xval": 60,
         "y": 394.6711846016649,
         "yval": 36.36363636363637
        },
        {
         "index": 39,
         "label": "h2,8",
         "label_display": "none",
         "px": 539.4750872865833,
         "py": 382.06791160469925,
         "shape": "circle",
         "shape_attrs": {
          "r": 15
         },
         "value": null,
         "weight": 21,
         "x": 539.5135288298698,
         "xval": 60,
         "y": 382.05054442074044,
         "yval": 27.272727272727273
        },
        {
         "fixed": 0,
         "index": 40,
         "label": "h2,9",
         "label_display": "none",
         "px": 541.8789771051929,
         "py": 399.51769602374225,
         "shape": "circle",
         "shape_attrs": {
          "r": 15
         },
         "value": null,
         "weight": 21,
         "x": 541.8789771051929,
         "xval": 60,
         "y": 399.51769602374225,
         "yval": 18.181818181818183
        },
        {
         "index": 41,
         "label": "h2,10",
         "label_display": "none",
         "px": 540.9635353553583,
         "py": 390.2506362665784,
         "shape": "circle",
         "shape_attrs": {
          "r": 15
         },
         "value": null,
         "weight": 21,
         "x": 541.0069568340803,
         "xval": 60,
         "y": 390.2620434189789,
         "yval": 9.090909090909092
        },
        {
         "fixed": 0,
         "index": 42,
         "label": "y1",
         "label_display": "none",
         "px": 443.91449995168784,
         "py": 356.55700616411593,
         "shape": "circle",
         "shape_attrs": {
          "r": 15
         },
         "value": null,
         "weight": 10,
         "x": 443.91449995168784,
         "xval": 80,
         "y": 356.55700616411593,
         "yval": 50
        }
       ],
       "preserve_domain": {},
       "scales": {
        "x": "IPY_MODEL_1fba8c3ad1dc44c2859297402b7539b0",
        "y": "IPY_MODEL_0ad5a8af60904e66a99cde9a11669de1"
       },
       "scales_metadata": {
        "color": {
         "dimension": "color"
        },
        "link_color": {
         "dimension": "color"
        },
        "x": {
         "dimension": "x",
         "orientation": "horizontal"
        },
        "y": {
         "dimension": "y",
         "orientation": "vertical"
        }
       },
       "selected": [],
       "selected_style": {
        "opacity": "1",
        "stroke": "red",
        "stroke-width": "2.5"
       },
       "tooltip": "IPY_MODEL_c0435348044c4dd984a24d59369f5c13",
       "tooltip_location": "mouse",
       "tooltip_style": {
        "opacity": 0.9
       },
       "unhovered_style": {
        "opacity": "0.4"
       },
       "unselected_style": {},
       "visible": true,
       "x": {
        "type": "float",
        "values": [
         20,
         20,
         20,
         20,
         20,
         20,
         20,
         20,
         20,
         20,
         20,
         20,
         40,
         40,
         40,
         40,
         40,
         40,
         40,
         40,
         40,
         40,
         40,
         40,
         40,
         40,
         40,
         40,
         40,
         40,
         40,
         40,
         60,
         60,
         60,
         60,
         60,
         60,
         60,
         60,
         60,
         60,
         80
        ]
       },
       "y": {
        "type": "float",
        "values": [
         92.3076923076923,
         84.61538461538461,
         76.92307692307692,
         69.23076923076923,
         61.53846153846154,
         53.84615384615385,
         46.15384615384615,
         38.46153846153846,
         30.76923076923077,
         23.076923076923077,
         15.384615384615385,
         7.6923076923076925,
         95.23809523809524,
         90.47619047619048,
         85.71428571428571,
         80.95238095238095,
         76.19047619047619,
         71.42857142857143,
         66.66666666666667,
         61.904761904761905,
         57.14285714285714,
         52.38095238095238,
         47.61904761904762,
         42.857142857142854,
         38.095238095238095,
         33.333333333333336,
         28.57142857142857,
         23.80952380952381,
         19.047619047619047,
         14.285714285714285,
         9.523809523809524,
         4.761904761904762,
         90.90909090909092,
         81.81818181818183,
         72.72727272727273,
         63.63636363636364,
         54.54545454545455,
         45.45454545454546,
         36.36363636363637,
         27.272727272727273,
         18.181818181818183,
         9.090909090909092,
         50
        ]
       }
      }
     },
     "5ad25e05494e461599772b49dd613b81": {
      "model_module": "bqplot",
      "model_module_version": "^0.3.0-alpha.1",
      "model_name": "AxisModel",
      "state": {
       "_model_module_version": "^0.3.0-alpha.1",
       "_view_module_version": "^0.3.0-alpha.1",
       "orientation": "vertical",
       "scale": "IPY_MODEL_db73751bcde94f5082bd4ffbaa1fd510",
       "side": "left",
       "tick_values": {
        "type": null,
        "values": null
       }
      }
     },
     "5eb9fdae65c44350bef6c4c3d7bcf898": {
      "model_module": "bqplot",
      "model_module_version": "^0.3.0-alpha.1",
      "model_name": "AxisModel",
      "state": {
       "_model_module_version": "^0.3.0-alpha.1",
       "_view_module_version": "^0.3.0-alpha.1",
       "orientation": "vertical",
       "scale": "IPY_MODEL_1908c59df4c543909ab63e1be1435050",
       "side": "left",
       "tick_values": {
        "type": null,
        "values": null
       }
      }
     },
     "5f803cc573c64a539c88ce8e15cc1fac": {
      "model_module": "bqplot",
      "model_module_version": "^0.3.0",
      "model_name": "AxisModel",
      "state": {
       "_model_module_version": "^0.3.0",
       "_view_module_version": "^0.3.0",
       "scale": "IPY_MODEL_e640edde8ca642b8a2f69e55bdd1ca03",
       "side": "bottom",
       "tick_values": {
        "type": null,
        "values": null
       }
      }
     },
     "61a11c6d1bc440bab91ca6ada2b462ea": {
      "model_module": "@jupyter-widgets/base",
      "model_module_version": "1.0.0",
      "model_name": "LayoutModel",
      "state": {
       "min_width": "125px"
      }
     },
     "62879dd0900c4a43845da32bb97b24ef": {
      "model_module": "@jupyter-widgets/controls",
      "model_module_version": "1.0.0",
      "model_name": "HBoxModel",
      "state": {
       "children": [
        "IPY_MODEL_b7572a0eac084bc6ba5871115fcab1ea",
        "IPY_MODEL_834676bba4ff4213a95ab51ee984c3b1",
        "IPY_MODEL_0324ccdf292c4a3f9b1ba2bf00975180",
        "IPY_MODEL_559f12feb29a462db4b1ea292a2b967b"
       ],
       "layout": "IPY_MODEL_818744429fc14d828e0d69207a9fd81c"
      }
     },
     "66aaccde017645bf8cdd08038f1fa009": {
      "model_module": "@jupyter-widgets/base",
      "model_module_version": "1.0.0",
      "model_name": "LayoutModel",
      "state": {
       "min_height": "1000px"
      }
     },
     "67f6192930b240629ef41c6f5dbfe2d2": {
      "model_module": "bqplot",
      "model_module_version": "^0.3.0-alpha.1",
      "model_name": "LinearScaleModel",
      "state": {
       "_model_module_version": "^0.3.0-alpha.1",
       "_view_module_version": "^0.3.0-alpha.1",
       "allow_padding": false,
       "max": 1,
       "min": 0,
       "stabilized": false
      }
     },
     "689aa4f76f0a4ad0a424b500c0c55787": {
      "model_module": "bqplot",
      "model_module_version": "^0.3.0",
      "model_name": "OrdinalScaleModel",
      "state": {
       "_model_module_version": "^0.3.0",
       "_view_module_version": "^0.3.0",
       "_view_name": "OrdinalColorScale",
       "colors": [
        "gray",
        "#1f77b4",
        "#ff7f0e",
        "#2ca02c",
        "#d62728",
        "#9467bd",
        "#8c564b",
        "#e377c2",
        "#7f7f7f",
        "#bcbd22",
        "#17becf"
       ],
       "domain": [
        0,
        1,
        2,
        3,
        4,
        5,
        6,
        7,
        8,
        9,
        10
       ],
       "mid": null,
       "scale_type": "linear",
       "scheme": "RdYlGn"
      }
     },
     "776fa8733c81429b89b7aab8939402e7": {
      "model_module": "bqplot",
      "model_module_version": "^0.3.0",
      "model_name": "LinearScaleModel",
      "state": {
       "_model_module_version": "^0.3.0",
       "_view_module_version": "^0.3.0",
       "stabilized": false
      }
     },
     "8168aaf5dfbc48699f5446bda4d500fe": {
      "model_module": "@jupyter-widgets/base",
      "model_module_version": "1.0.0",
      "model_name": "LayoutModel",
      "state": {
       "min_width": "125px"
      }
     },
     "818744429fc14d828e0d69207a9fd81c": {
      "model_module": "@jupyter-widgets/base",
      "model_module_version": "1.0.0",
      "model_name": "LayoutModel",
      "state": {}
     },
     "834676bba4ff4213a95ab51ee984c3b1": {
      "model_module": "@jupyter-widgets/controls",
      "model_module_version": "1.0.0",
      "model_name": "DropdownModel",
      "state": {
       "_options_labels": [
        "Weights",
        "Gradients"
       ],
       "description": "View",
       "index": 0,
       "layout": "IPY_MODEL_fb5ac6fb84e7429283afd04b9473a86c",
       "style": "IPY_MODEL_b1a7b0178ffa40d0880fdcfc204b7c3d"
      }
     },
     "872b1569b38540d8a545f3951a431ab6": {
      "model_module": "@jupyter-widgets/base",
      "model_module_version": "1.0.0",
      "model_name": "LayoutModel",
      "state": {
       "height": "800px",
       "min_width": "125px",
       "width": "900px"
      }
     },
     "8738fde38b3842ffbb8ed0db920e9c9c": {
      "model_module": "bqplot",
      "model_module_version": "^0.3.0",
      "model_name": "LinesModel",
      "state": {
       "_model_module_version": "^0.3.0",
       "_view_module_version": "^0.3.0",
       "color": {
        "type": null,
        "values": null
       },
       "colors": [
        "DeepSkyBlue",
        "Red"
       ],
       "fill_colors": [],
       "labels": [
        "Training",
        "Test"
       ],
       "marker": "circle",
       "marker_size": 32,
       "scales": {
        "x": "IPY_MODEL_30ae23dca1134645872aa22830d1b64f",
        "y": "IPY_MODEL_b32e0fd4471e4735857864201d46f8b7"
       },
       "selected": [],
       "x": {
        "type": "float",
        "values": [
         1,
         2,
         3,
         4,
         5,
         6,
         7,
         8,
         9
        ]
       },
       "y": {
        "type": "float",
        "values": [
         [
          0.8569704148962309,
          0.8595970408986141,
          0.8601045836237745,
          0.8618926771836742,
          0.8628209552904138,
          0.8627788226368214,
          0.8622099612819935,
          0.8630240368039404,
          0.8633044999122473,
          0.8628650024697018
         ],
         [
          0.8587112939192066,
          0.8608226264539244,
          0.861364807994076,
          0.8627042301053797,
          0.8633031996279433,
          0.8628792491946287,
          0.8623913261847241,
          0.8626538112756026,
          0.8625571299928457,
          0.8621830956656384
         ]
        ]
       }
      }
     },
     "8791f576e06c433d8c4bf8c457a4c995": {
      "model_module": "bqplot",
      "model_module_version": "^0.3.0-alpha.1",
      "model_name": "LinearScaleModel",
      "state": {
       "_model_module_version": "^0.3.0-alpha.1",
       "_view_module_version": "^0.3.0-alpha.1",
       "allow_padding": false,
       "max": 1,
       "min": 0,
       "stabilized": false
      }
     },
     "886af4abba25447ca7210f0d1189f0e9": {
      "model_module": "bqplot",
      "model_module_version": "^0.3.0",
      "model_name": "FigureModel",
      "state": {
       "_dom_classes": [],
       "_model_module_version": "^0.3.0",
       "_view_module_version": "^0.3.0",
       "axes": [
        "IPY_MODEL_d15818c389ad472f84ccde969f70c249",
        "IPY_MODEL_53ebe6633b1343cab4ae8097cf0e6c4a"
       ],
       "layout": "IPY_MODEL_61a11c6d1bc440bab91ca6ada2b462ea",
       "legend_location": "top-left",
       "marks": [
        "IPY_MODEL_8738fde38b3842ffbb8ed0db920e9c9c"
       ],
       "max_aspect_ratio": 6,
       "scale_x": "IPY_MODEL_e2db05e83aee42f0bf7ca849157d5abb",
       "scale_y": "IPY_MODEL_a43931721f6d43208301b1f4829937ec",
       "title": "Train and Test AUC Score"
      }
     },
     "8c9f43e9285440a99d44c7939bfbf4aa": {
      "model_module": "bqplot",
      "model_module_version": "^0.3.0-alpha.1",
      "model_name": "FigureModel",
      "state": {
       "_dom_classes": [],
       "_model_module_version": "^0.3.0-alpha.1",
       "_view_module_version": "^0.3.0-alpha.1",
       "axes": [
        "IPY_MODEL_ea82e3f6e4c9455da4b33c15a817a092",
        "IPY_MODEL_5ad25e05494e461599772b49dd613b81"
       ],
       "layout": "IPY_MODEL_8168aaf5dfbc48699f5446bda4d500fe",
       "legend_location": "top-left",
       "marks": [
        "IPY_MODEL_bac96f65337148818650f081dae8a7e2"
       ],
       "max_aspect_ratio": 6,
       "scale_x": "IPY_MODEL_da5cb57925f942a9b161fa14ed373ed8",
       "scale_y": "IPY_MODEL_4281c005f9d943db951217c0a04b44cb",
       "title": "Train and Test AUC vs epoch"
      }
     },
     "8d536375cc11439e97a7cdf18d2d9806": {
      "model_module": "bqplot",
      "model_module_version": "^0.3.0",
      "model_name": "AxisModel",
      "state": {
       "_model_module_version": "^0.3.0",
       "_view_module_version": "^0.3.0",
       "orientation": "vertical",
       "scale": "IPY_MODEL_1ba4c81d2acc41a79f9f3b9fd55ac0fd",
       "side": "left",
       "tick_values": {
        "type": null,
        "values": null
       }
      }
     },
     "8e706a43bf794d0697330b3ea3950f2e": {
      "model_module": "bqplot",
      "model_module_version": "^0.3.0-alpha.1",
      "model_name": "FigureModel",
      "state": {
       "_dom_classes": [],
       "_model_module_version": "^0.3.0-alpha.1",
       "_view_module_version": "^0.3.0-alpha.1",
       "layout": "IPY_MODEL_f91f4cf1e506418fa4eea3ede7ac362c",
       "marks": [
        "IPY_MODEL_59ceddebdda2418aa3ea33ab1f280ae7"
       ],
       "max_aspect_ratio": 6,
       "scale_x": "IPY_MODEL_67f6192930b240629ef41c6f5dbfe2d2",
       "scale_y": "IPY_MODEL_8791f576e06c433d8c4bf8c457a4c995",
       "title": "Analyzing the Trained Neural Network"
      }
     },
     "9284b8c0608d4121850fbca8e903a22e": {
      "model_module": "@jupyter-widgets/base",
      "model_module_version": "1.0.0",
      "model_name": "LayoutModel",
      "state": {
       "min_width": "125px"
      }
     },
     "9627b2ca6e294704991de76fd53fc764": {
      "model_module": "bqplot",
      "model_module_version": "^0.3.0",
      "model_name": "GraphModel",
      "state": {
       "_model_module": "bqplot",
       "_model_module_version": "^0.3.0",
       "_view_count": null,
       "_view_module": "bqplot",
       "_view_module_version": "^0.3.0",
       "apply_clip": true,
       "charge": -600,
       "color": {
        "type": null,
        "values": null
       },
       "colors": [
        "Orange",
        "Orange",
        "Orange",
        "Orange",
        "Orange",
        "Orange",
        "Orange",
        "Orange",
        "Orange",
        "Orange",
        "Orange",
        "Orange",
        "Orange",
        "Orange",
        "Orange",
        "Orange",
        "Orange",
        "Orange",
        "Orange",
        "Orange",
        "Orange",
        "Orange",
        "Orange",
        "Orange",
        "Orange",
        "Orange",
        "Orange",
        "Orange",
        "Orange",
        "Orange",
        "Orange",
        "Orange"
       ],
       "directed": false,
       "display_legend": false,
       "enable_hover": true,
       "highlight_links": true,
       "hovered_style": {
        "stroke": "1.5"
       },
       "interactions": {
        "click": "select",
        "hover": "tooltip"
       },
       "labels": [],
       "link_color": {
        "type": "float",
        "values": []
       },
       "link_data": [
        {
         "source": {
          "fixed": 0,
          "index": 0,
          "label": "x1",
          "label_display": "none",
          "px": 470.5961147692332,
          "py": 434.31667277665423,
          "shape": "circle",
          "shape_attrs": {
           "r": 15
          },
          "value": null,
          "weight": 16,
          "x": 470.66229140548336,
          "xval": 20,
          "y": 434.4420194421432,
          "yval": 92.85714285714286
         },
         "target": {
          "fixed": 0,
          "index": 13,
          "label": "h1,1",
          "label_display": "none",
          "px": 410.67151187137154,
          "py": 354.5764240574521,
          "shape": "circle",
          "shape_attrs": {
           "r": 15
          },
          "value": null,
          "weight": 21,
          "x": 410.6360507198815,
          "xval": 40,
          "y": 354.4617066823916,
          "yval": 92.85714285714286
         },
         "value": 0
        },
        {
         "source": {
          "fixed": 0,
          "index": 0,
          "label": "x1",
          "label_display": "none",
          "px": 470.5961147692332,
          "py": 434.31667277665423,
          "shape": "circle",
          "shape_attrs": {
           "r": 15
          },
          "value": null,
          "weight": 16,
          "x": 467.265920961391,
          "xval": 20,
          "y": 432.275205381638,
          "yval": 92.85714285714286
         },
         "target": {
          "fixed": 0,
          "index": 14,
          "label": "h1,2",
          "label_display": "none",
          "px": 549.6411511118653,
          "py": 483.64056292330713,
          "shape": "circle",
          "shape_attrs": {
           "r": 15
          },
          "value": null,
          "weight": 21,
          "x": 552.1140693722791,
          "xval": 40,
          "y": 485.1977120401608,
          "yval": 85.71428571428572
         },
         "value": 0
        },
        {
         "source": {
          "fixed": 0,
          "index": 0,
          "label": "x1",
          "label_display": "none",
          "px": 470.5961147692332,
          "py": 434.31667277665423,
          "shape": "circle",
          "shape_attrs": {
           "r": 15
          },
          "value": null,
          "weight": 16,
          "x": 469.7290559581262,
          "xval": 20,
          "y": 432.63860970765563,
          "yval": 92.85714285714286
         },
         "target": {
          "fixed": 0,
          "index": 15,
          "label": "h1,3",
          "label_display": "none",
          "px": 423.9570279545435,
          "py": 342.18972763411654,
          "shape": "circle",
          "shape_attrs": {
           "r": 15
          },
          "value": null,
          "weight": 21,
          "x": 424.64362832114773,
          "xval": 40,
          "y": 343.37885273454003,
          "yval": 78.57142857142857
         },
         "value": 0
        },
        {
         "source": {
          "fixed": 0,
          "index": 0,
          "label": "x1",
          "label_display": "none",
          "px": 470.5961147692332,
          "py": 434.31667277665423,
          "shape": "circle",
          "shape_attrs": {
           "r": 15
          },
          "value": null,
          "weight": 16,
          "x": 469.8859059924459,
          "xval": 20,
          "y": 433.11691586112556,
          "yval": 92.85714285714286
         },
         "target": {
          "fixed": 0,
          "index": 16,
          "label": "h1,4",
          "label_display": "none",
          "px": 419.57668467059693,
          "py": 345.52392632806783,
          "shape": "circle",
          "shape_attrs": {
           "r": 15
          },
          "value": null,
          "weight": 21,
          "x": 420.1189304619662,
          "xval": 40,
          "y": 346.3802560993539,
          "yval": 71.42857142857143
         },
         "value": 0
        },
        {
         "source": {
          "fixed": 0,
          "index": 0,
          "label": "x1",
          "label_display": "none",
          "px": 470.5961147692332,
          "py": 434.31667277665423,
          "shape": "circle",
          "shape_attrs": {
           "r": 15
          },
          "value": null,
          "weight": 16,
          "x": 470.0878346520728,
          "xval": 20,
          "y": 433.5517635761878,
          "yval": 92.85714285714286
         },
         "target": {
          "fixed": 0,
          "index": 17,
          "label": "h1,5",
          "label_display": "none",
          "px": 416.19040247227423,
          "py": 348.5344480037842,
          "shape": "circle",
          "shape_attrs": {
           "r": 15
          },
          "value": null,
          "weight": 21,
          "x": 416.58508708419936,
          "xval": 40,
          "y": 349.0682977219622,
          "yval": 64.28571428571429
         },
         "value": 0
        },
        {
         "source": {
          "fixed": 0,
          "index": 0,
          "label": "x1",
          "label_display": "none",
          "px": 470.5961147692332,
          "py": 434.31667277665423,
          "shape": "circle",
          "shape_attrs": {
           "r": 15
          },
          "value": null,
          "weight": 16,
          "x": 470.1254005099884,
          "xval": 20,
          "y": 433.6754686326851,
          "yval": 92.85714285714286
         },
         "target": {
          "index": 18,
          "label": "h1,6",
          "label_display": "none",
          "px": 412.7860589190273,
          "py": 351.06916053008825,
          "shape": "circle",
          "shape_attrs": {
           "r": 15
          },
          "value": null,
          "weight": 21,
          "x": 413.1298905403484,
          "xval": 40,
          "y": 351.50788473643524,
          "yval": 57.142857142857146
         },
         "value": 0
        },
        {
         "source": {
          "fixed": 0,
          "index": 0,
          "label": "x1",
          "label_display": "none",
          "px": 470.5961147692332,
          "py": 434.31667277665423,
          "shape": "circle",
          "shape_attrs": {
           "r": 15
          },
          "value": null,
          "weight": 16,
          "x": 471.2618783714955,
          "xval": 20,
          "y": 435.11898252197625,
          "yval": 92.85714285714286
         },
         "target": {
          "index": 19,
          "label": "h1,7",
          "label_display": "none",
          "px": 406.12365125440556,
          "py": 360.2290356712743,
          "shape": "circle",
          "shape_attrs": {
           "r": 15
          },
          "value": null,
          "weight": 21,
          "x": 405.63883993417255,
          "xval": 40,
          "y": 359.6629236121983,
          "yval": 50
         },
         "value": 0
        },
        {
         "source": {
          "fixed": 0,
          "index": 0,
          "label": "x1",
          "label_display": "none",
          "px": 470.5961147692332,
          "py": 434.31667277665423,
          "shape": "circle",
          "shape_attrs": {
           "r": 15
          },
          "value": null,
          "weight": 16,
          "x": 470.2649856218141,
          "xval": 20,
          "y": 433.94753470875105,
          "yval": 92.85714285714286
         },
         "target": {
          "index": 20,
          "label": "h1,8",
          "label_display": "none",
          "px": 406.86806661745635,
          "py": 356.2069059337648,
          "shape": "circle",
          "shape_attrs": {
           "r": 15
          },
          "value": null,
          "weight": 21,
          "x": 407.0697229051038,
          "xval": 40,
          "y": 356.44683296873126,
          "yval": 42.85714285714286
         },
         "value": 0
        },
        {
         "source": {
          "fixed": 0,
          "index": 0,
          "label": "x1",
          "label_display": "none",
          "px": 470.5961147692332,
          "py": 434.31667277665423,
          "shape": "circle",
          "shape_attrs": {
           "r": 15
          },
          "value": null,
          "weight": 16,
          "x": 472.43791513189217,
          "xval": 20,
          "y": 435.7035866471686,
          "yval": 92.85714285714286
         },
         "target": {
          "index": 21,
          "label": "h1,9",
          "label_display": "none",
          "px": 393.22820764158945,
          "py": 377.50608378401296,
          "shape": "circle",
          "shape_attrs": {
           "r": 15
          },
          "value": null,
          "weight": 21,
          "x": 391.8046875448433,
          "xval": 40,
          "y": 376.5573052022171,
          "yval": 35.714285714285715
         },
         "value": 0
        },
        {
         "source": {
          "fixed": 0,
          "index": 0,
          "label": "x1",
          "label_display": "none",
          "px": 470.5961147692332,
          "py": 434.31667277665423,
          "shape": "circle",
          "shape_attrs": {
           "r": 15
          },
          "value": null,
          "weight": 16,
          "x": 472.0342252530637,
          "xval": 20,
          "y": 435.53375975688914,
          "yval": 92.85714285714286
         },
         "target": {
          "index": 22,
          "label": "h1,10",
          "label_display": "none",
          "px": 395.87039075856654,
          "py": 372.9114268783584,
          "shape": "circle",
          "shape_attrs": {
           "r": 15
          },
          "value": null,
          "weight": 21,
          "x": 394.7533125563431,
          "xval": 40,
          "y": 372.06990758373377,
          "yval": 28.571428571428573
         },
         "value": 0
        },
        {
         "source": {
          "fixed": 0,
          "index": 0,
          "label": "x1",
          "label_display": "none",
          "px": 470.5961147692332,
          "py": 434.31667277665423,
          "shape": "circle",
          "shape_attrs": {
           "r": 15
          },
          "value": null,
          "weight": 16,
          "x": 471.6318069808031,
          "xval": 20,
          "y": 435.2873062938073,
          "yval": 92.85714285714286
         },
         "target": {
          "index": 23,
          "label": "h1,11",
          "label_display": "none",
          "px": 398.1957801426253,
          "py": 368.98139086616504,
          "shape": "circle",
          "shape_attrs": {
           "r": 15
          },
          "value": null,
          "weight": 21,
          "x": 397.38243423185446,
          "xval": 40,
          "y": 368.30200457538297,
          "yval": 21.42857142857143
         },
         "value": 0
        },
        {
         "source": {
          "fixed": 0,
          "index": 0,
          "label": "x1",
          "label_display": "none",
          "px": 470.5961147692332,
          "py": 434.31667277665423,
          "shape": "circle",
          "shape_attrs": {
           "r": 15
          },
          "value": null,
          "weight": 16,
          "x": 471.53394629692656,
          "xval": 20,
          "y": 435.27471780408524,
          "yval": 92.85714285714286
         },
         "target": {
          "index": 24,
          "label": "h1,12",
          "label_display": "none",
          "px": 400.9303080338963,
          "py": 365.8562121758084,
          "shape": "circle",
          "shape_attrs": {
           "r": 15
          },
          "value": null,
          "weight": 21,
          "x": 400.2090748053314,
          "xval": 40,
          "y": 365.18361489770575,
          "yval": 14.285714285714286
         },
         "value": 0
        },
        {
         "source": {
          "fixed": 0,
          "index": 0,
          "label": "x1",
          "label_display": "none",
          "px": 470.5961147692332,
          "py": 434.31667277665423,
          "shape": "circle",
          "shape_attrs": {
           "r": 15
          },
          "value": null,
          "weight": 16,
          "x": 470.7983778659158,
          "xval": 20,
          "y": 434.56760850103916,
          "yval": 92.85714285714286
         },
         "target": {
          "index": 25,
          "label": "h1,13",
          "label_display": "none",
          "px": 402.3694778941787,
          "py": 362.0275603700973,
          "shape": "circle",
          "shape_attrs": {
           "r": 15
          },
          "value": null,
          "weight": 21,
          "x": 402.165992958361,
          "xval": 40,
          "y": 361.83800144941046,
          "yval": 7.142857142857143
         },
         "value": 0
        },
        {
         "source": {
          "index": 1,
          "label": "x2",
          "label_display": "none",
          "px": 504.9426416962657,
          "py": 379.85361001446194,
          "shape": "circle",
          "shape_attrs": {
           "r": 15
          },
          "value": null,
          "weight": 16,
          "x": 506.31090583361555,
          "xval": 20,
          "y": 380.1398744309943,
          "yval": 85.71428571428572
         },
         "target": {
          "fixed": 0,
          "index": 13,
          "label": "h1,1",
          "label_display": "none",
          "px": 410.67151187137154,
          "py": 354.5764240574521,
          "shape": "circle",
          "shape_attrs": {
           "r": 15
          },
          "value": null,
          "weight": 21,
          "x": 409.7154480289426,
          "xval": 40,
          "y": 354.2687026092888,
          "yval": 92.85714285714286
         },
         "value": 0
        },
        {
         "source": {
          "index": 1,
          "label": "x2",
          "label_display": "none",
          "px": 504.9426416962657,
          "py": 379.85361001446194,
          "shape": "circle",
          "shape_attrs": {
           "r": 15
          },
          "value": null,
          "weight": 16,
          "x": 507.96762514453735,
          "xval": 20,
          "y": 386.7041974066515,
          "yval": 85.71428571428572
         },
         "target": {
          "fixed": 0,
          "index": 14,
          "label": "h1,2",
          "label_display": "none",
          "px": 549.6411511118653,
          "py": 483.64056292330713,
          "shape": "circle",
          "shape_attrs": {
           "r": 15
          },
          "value": null,
          "weight": 21,
          "x": 547.4701330358096,
          "xval": 40,
          "y": 478.5712310516284,
          "yval": 85.71428571428572
         },
         "value": 0
        },
        {
         "source": {
          "index": 1,
          "label": "x2",
          "label_display": "none",
          "px": 504.9426416962657,
          "py": 379.85361001446194,
          "shape": "circle",
          "shape_attrs": {
           "r": 15
          },
          "value": null,
          "weight": 16,
          "x": 510.569158572956,
          "xval": 20,
          "y": 382.38052188560016,
          "yval": 85.71428571428572
         },
         "target": {
          "fixed": 0,
          "index": 15,
          "label": "h1,3",
          "label_display": "none",
          "px": 423.9570279545435,
          "py": 342.18972763411654,
          "shape": "circle",
          "shape_attrs": {
           "r": 15
          },
          "value": null,
          "weight": 21,
          "x": 419.8977140737048,
          "xval": 40,
          "y": 340.2060135651679,
          "yval": 78.57142857142857
         },
         "value": 0
        },
        {
         "source": {
          "index": 1,
          "label": "x2",
          "label_display": "none",
          "px": 504.9426416962657,
          "py": 379.85361001446194,
          "shape": "circle",
          "shape_attrs": {
           "r": 15
          },
          "value": null,
          "weight": 16,
          "x": 509.2494769686248,
          "xval": 20,
          "y": 381.4973156306156,
          "yval": 85.71428571428572
         },
         "target": {
          "fixed": 0,
          "index": 16,
          "label": "h1,4",
          "label_display": "none",
          "px": 419.57668467059693,
          "py": 345.52392632806783,
          "shape": "circle",
          "shape_attrs": {
           "r": 15
          },
          "value": null,
          "weight": 21,
          "x": 416.4609881674101,
          "xval": 40,
          "y": 344.2106377720748,
          "yval": 71.42857142857143
         },
         "value": 0
        },
        {
         "source": {
          "index": 1,
          "label": "x2",
          "label_display": "none",
          "px": 504.9426416962657,
          "py": 379.85361001446194,
          "shape": "circle",
          "shape_attrs": {
           "r": 15
          },
          "value": null,
          "weight": 16,
          "x": 508.17537726243035,
          "xval": 20,
          "y": 380.9091068807535,
          "yval": 85.71428571428572
         },
         "target": {
          "fixed": 0,
          "index": 17,
          "label": "h1,5",
          "label_display": "none",
          "px": 416.19040247227423,
          "py": 348.5344480037842,
          "shape": "circle",
          "shape_attrs": {
           "r": 15
          },
          "value": null,
          "weight": 21,
          "x": 413.8673773161684,
          "xval": 40,
          "y": 347.65251135528825,
          "yval": 64.28571428571429
         },
         "value": 0
        },
        {
         "source": {
          "index": 1,
          "label": "x2",
          "label_display": "none",
          "px": 504.9426416962657,
          "py": 379.85361001446194,
          "shape": "circle",
          "shape_attrs": {
           "r": 15
          },
          "value": null,
          "weight": 16,
          "x": 506.8648222463977,
          "xval": 20,
          "y": 380.37105538160114,
          "yval": 85.71428571428572
         },
         "target": {
          "index": 18,
          "label": "h1,6",
          "label_display": "none",
          "px": 412.7860589190273,
          "py": 351.06916053008825,
          "shape": "circle",
          "shape_attrs": {
           "r": 15
          },
          "value": null,
          "weight": 21,
          "x": 411.40553415639886,
          "xval": 40,
          "y": 350.5797090333854,
          "yval": 57.142857142857146
         },
         "value": 0
        },
        {
         "source": {
          "index": 1,
          "label": "x2",
          "label_display": "none",
          "px": 504.9426416962657,
          "py": 379.85361001446194,
          "shape": "circle",
          "shape_attrs": {
           "r": 15
          },
          "value": null,
          "weight": 16,
          "x": 504.5536223800631,
          "xval": 20,
          "y": 379.69999301429965,
          "yval": 85.71428571428572
         },
         "target": {
          "index": 19,
          "label": "h1,7",
          "label_display": "none",
          "px": 406.12365125440556,
          "py": 360.2290356712743,
          "shape": "circle",
          "shape_attrs": {
           "r": 15
          },
          "value": null,
          "weight": 21,
          "x": 406.454880635053,
          "xval": 40,
          "y": 360.2928585511371,
          "yval": 50
         },
         "value": 0
        },
        {
         "source": {
          "index": 1,
          "label": "x2",
          "label_display": "none",
          "px": 504.9426416962657,
          "py": 379.85361001446194,
          "shape": "circle",
          "shape_attrs": {
           "r": 15
          },
          "value": null,
          "weight": 16,
          "x": 504.4493213789442,
          "xval": 20,
          "y": 379.6559932440908,
          "yval": 85.71428571428572
         },
         "target": {
          "index": 20,
          "label": "h1,8",
          "label_display": "none",
          "px": 406.86806661745635,
          "py": 356.2069059337648,
          "shape": "circle",
          "shape_attrs": {
           "r": 15
          },
          "value": null,
          "weight": 21,
          "x": 407.2280636540186,
          "xval": 40,
          "y": 356.24601574697806,
          "yval": 42.85714285714286
         },
         "value": 0
        },
        {
         "source": {
          "index": 1,
          "label": "x2",
          "label_display": "none",
          "px": 504.9426416962657,
          "py": 379.85361001446194,
          "shape": "circle",
          "shape_attrs": {
           "r": 15
          },
          "value": null,
          "weight": 16,
          "x": 498.1706214467217,
          "xval": 20,
          "y": 379.6507277956572,
          "yval": 85.71428571428572
         },
         "target": {
          "index": 21,
          "label": "h1,9",
          "label_display": "none",
          "px": 393.22820764158945,
          "py": 377.50608378401296,
          "shape": "circle",
          "shape_attrs": {
           "r": 15
          },
          "value": null,
          "weight": 21,
          "x": 398.19055200454227,
          "xval": 40,
          "y": 377.6543023088988,
          "yval": 35.714285714285715
         },
         "value": 0
        },
        {
         "source": {
          "index": 1,
          "label": "x2",
          "label_display": "none",
          "px": 504.9426416962657,
          "py": 379.85361001446194,
          "shape": "circle",
          "shape_attrs": {
           "r": 15
          },
          "value": null,
          "weight": 16,
          "x": 499.59568321495647,
          "xval": 20,
          "y": 379.44853307883346,
          "yval": 85.71428571428572
         },
         "target": {
          "index": 22,
          "label": "h1,10",
          "label_display": "none",
          "px": 395.87039075856654,
          "py": 372.9114268783584,
          "shape": "circle",
          "shape_attrs": {
           "r": 15
          },
          "value": null,
          "weight": 21,
          "x": 399.7916742272652,
          "xval": 40,
          "y": 373.190754695748,
          "yval": 28.571428571428573
         },
         "value": 0
        },
        {
         "source": {
          "index": 1,
          "label": "x2",
          "label_display": "none",
          "px": 504.9426416962657,
          "py": 379.85361001446194,
          "shape": "circle",
          "shape_attrs": {
           "r": 15
          },
          "value": null,
          "weight": 16,
          "x": 500.7599080667205,
          "xval": 20,
          "y": 379.3592535479868,
          "yval": 85.71428571428572
         },
         "target": {
          "index": 23,
          "label": "h1,11",
          "label_display": "none",
          "px": 398.1957801426253,
          "py": 368.98139086616504,
          "shape": "circle",
          "shape_attrs": {
           "r": 15
          },
          "value": null,
          "weight": 21,
          "x": 401.26642593568096,
          "xval": 40,
          "y": 369.30703918089773,
          "yval": 21.42857142857143
         },
         "value": 0
        },
        {
         "source": {
          "index": 1,
          "label": "x2",
          "label_display": "none",
          "px": 504.9426416962657,
          "py": 379.85361001446194,
          "shape": "circle",
          "shape_attrs": {
           "r": 15
          },
          "value": null,
          "weight": 16,
          "x": 502.1292660974685,
          "xval": 20,
          "y": 379.4038934764428,
          "yval": 85.71428571428572
         },
         "target": {
          "index": 24,
          "label": "h1,12",
          "label_display": "none",
          "px": 400.9303080338963,
          "py": 365.8562121758084,
          "shape": "circle",
          "shape_attrs": {
           "r": 15
          },
          "value": null,
          "weight": 21,
          "x": 403.0119567188381,
          "xval": 40,
          "y": 366.14648114579705,
          "yval": 14.285714285714286
         },
         "value": 0
        },
        {
         "source": {
          "index": 1,
          "label": "x2",
          "label_display": "none",
          "px": 504.9426416962657,
          "py": 379.85361001446194,
          "shape": "circle",
          "shape_attrs": {
           "r": 15
          },
          "value": null,
          "weight": 16,
          "x": 502.60696502311026,
          "xval": 20,
          "y": 379.37352632493224,
          "yval": 85.71428571428572
         },
         "target": {
          "index": 25,
          "label": "h1,13",
          "label_display": "none",
          "px": 402.3694778941787,
          "py": 362.0275603700973,
          "shape": "circle",
          "shape_attrs": {
           "r": 15
          },
          "value": null,
          "weight": 21,
          "x": 404.07488735352473,
          "xval": 40,
          "y": 362.3022150029456,
          "yval": 7.142857142857143
         },
         "value": 0
        },
        {
         "source": {
          "index": 2,
          "label": "x3",
          "label_display": "none",
          "px": 483.47491326420294,
          "py": 420.9860299907921,
          "shape": "circle",
          "shape_attrs": {
           "r": 15
          },
          "value": null,
          "weight": 16,
          "x": 484.0938776834342,
          "xval": 20,
          "y": 421.5517280657743,
          "yval": 78.57142857142857
         },
         "target": {
          "fixed": 0,
          "index": 13,
          "label": "h1,1",
          "label_display": "none",
          "px": 410.67151187137154,
          "py": 354.5764240574521,
          "shape": "circle",
          "shape_attrs": {
           "r": 15
          },
          "value": null,
          "weight": 21,
          "x": 410.2446931282261,
          "xval": 40,
          "y": 354.12548732461516,
          "yval": 92.85714285714286
         },
         "value": 0
        },
        {
         "source": {
          "index": 2,
          "label": "x3",
          "label_display": "none",
          "px": 483.47491326420294,
          "py": 420.9860299907921,
          "shape": "circle",
          "shape_attrs": {
           "r": 15
          },
          "value": null,
          "weight": 16,
          "x": 479.7868652949732,
          "xval": 20,
          "y": 417.49316980407775,
          "yval": 78.57142857142857
         },
         "target": {
          "fixed": 0,
          "index": 14,
          "label": "h1,2",
          "label_display": "none",
          "px": 549.6411511118653,
          "py": 483.64056292330713,
          "shape": "circle",
          "shape_attrs": {
           "r": 15
          },
          "value": null,
          "weight": 21,
          "x": 552.3937118924127,
          "xval": 40,
          "y": 486.2554110916199,
          "yval": 85.71428571428572
         },
         "value": 0
        },
        {
         "source": {
          "index": 2,
          "label": "x3",
          "label_display": "none",
          "px": 483.47491326420294,
          "py": 420.9860299907921,
          "shape": "circle",
          "shape_attrs": {
           "r": 15
          },
          "value": null,
          "weight": 16,
          "x": 483.9093627766848,
          "xval": 20,
          "y": 421.55464305674974,
          "yval": 78.57142857142857
         },
         "target": {
          "fixed": 0,
          "index": 15,
          "label": "h1,3",
          "label_display": "none",
          "px": 423.9570279545435,
          "py": 342.18972763411654,
          "shape": "circle",
          "shape_attrs": {
           "r": 15
          },
          "value": null,
          "weight": 21,
          "x": 423.7005812652046,
          "xval": 40,
          "y": 341.71165570742926,
          "yval": 78.57142857142857
         },
         "value": 0
        },
        {
         "source": {
          "index": 2,
          "label": "x3",
          "label_display": "none",
          "px": 483.47491326420294,
          "py": 420.9860299907921,
          "shape": "circle",
          "shape_attrs": {
           "r": 15
          },
          "value": null,
          "weight": 16,
          "x": 483.8904015867881,
          "xval": 20,
          "y": 421.4724871430657,
          "yval": 78.57142857142857
         },
         "target": {
          "fixed": 0,
          "index": 16,
          "label": "h1,4",
          "label_display": "none",
          "px": 419.57668467059693,
          "py": 345.52392632806783,
          "shape": "circle",
          "shape_attrs": {
           "r": 15
          },
          "value": null,
          "weight": 21,
          "x": 419.3054286700343,
          "xval": 40,
          "y": 345.1260316044658,
          "yval": 71.42857142857143
         },
         "value": 0
        },
        {
         "source": {
          "index": 2,
          "label": "x3",
          "label_display": "none",
          "px": 483.47491326420294,
          "py": 420.9860299907921,
          "shape": "circle",
          "shape_attrs": {
           "r": 15
          },
          "value": null,
          "weight": 16,
          "x": 483.91413262615,
          "xval": 20,
          "y": 421.4568164152814,
          "yval": 78.57142857142857
         },
         "target": {
          "fixed": 0,
          "index": 17,
          "label": "h1,5",
          "label_display": "none",
          "px": 416.19040247227423,
          "py": 348.5344480037842,
          "shape": "circle",
          "shape_attrs": {
           "r": 15
          },
          "value": null,
          "weight": 21,
          "x": 415.9028889554225,
          "xval": 40,
          "y": 348.1460345730045,
          "yval": 64.28571428571429
         },
         "value": 0
        },
        {
         "source": {
          "index": 2,
          "label": "x3",
          "label_display": "none",
          "px": 483.47491326420294,
          "py": 420.9860299907921,
          "shape": "circle",
          "shape_attrs": {
           "r": 15
          },
          "value": null,
          "weight": 16,
          "x": 483.7014356286795,
          "xval": 20,
          "y": 421.2093244443292,
          "yval": 78.57142857142857
         },
         "target": {
          "index": 18,
          "label": "h1,6",
          "label_display": "none",
          "px": 412.7860589190273,
          "py": 351.06916053008825,
          "shape": "circle",
          "shape_attrs": {
           "r": 15
          },
          "value": null,
          "weight": 21,
          "x": 412.63209683636086,
          "xval": 40,
          "y": 350.85913550637343,
          "yval": 57.142857142857146
         },
         "value": 0
        },
        {
         "source": {
          "index": 2,
          "label": "x3",
          "label_display": "none",
          "px": 483.47491326420294,
          "py": 420.9860299907921,
          "shape": "circle",
          "shape_attrs": {
           "r": 15
          },
          "value": null,
          "weight": 16,
          "x": 484.22753937020263,
          "xval": 20,
          "y": 421.580342081485,
          "yval": 78.57142857142857
         },
         "target": {
          "index": 19,
          "label": "h1,7",
          "label_display": "none",
          "px": 406.12365125440556,
          "py": 360.2290356712743,
          "shape": "circle",
          "shape_attrs": {
           "r": 15
          },
          "value": null,
          "weight": 21,
          "x": 405.5907961074835,
          "xval": 40,
          "y": 359.80443570221536,
          "yval": 50
         },
         "value": 0
        },
        {
         "source": {
          "index": 2,
          "label": "x3",
          "label_display": "none",
          "px": 483.47491326420294,
          "py": 420.9860299907921,
          "shape": "circle",
          "shape_attrs": {
           "r": 15
          },
          "value": null,
          "weight": 16,
          "x": 483.3101888831323,
          "xval": 20,
          "y": 420.84856457472387,
          "yval": 78.57142857142857
         },
         "target": {
          "index": 20,
          "label": "h1,8",
          "label_display": "none",
          "px": 406.86806661745635,
          "py": 356.2069059337648,
          "shape": "circle",
          "shape_attrs": {
           "r": 15
          },
          "value": null,
          "weight": 21,
          "x": 406.9630689216633,
          "xval": 40,
          "y": 356.2643770858131,
          "yval": 42.85714285714286
         },
         "value": 0
        },
        {
         "source": {
          "index": 2,
          "label": "x3",
          "label_display": "none",
          "px": 483.47491326420294,
          "py": 420.9860299907921,
          "shape": "circle",
          "shape_attrs": {
           "r": 15
          },
          "value": null,
          "weight": 16,
          "x": 483.3709760643134,
          "xval": 20,
          "y": 420.94505107581847,
          "yval": 78.57142857142857
         },
         "target": {
          "index": 21,
          "label": "h1,9",
          "label_display": "none",
          "px": 393.22820764158945,
          "py": 377.50608378401296,
          "shape": "circle",
          "shape_attrs": {
           "r": 15
          },
          "value": null,
          "weight": 21,
          "x": 393.2543507808866,
          "xval": 40,
          "y": 377.597688439388,
          "yval": 35.714285714285715
         },
         "value": 0
        },
        {
         "source": {
          "index": 2,
          "label": "x3",
          "label_display": "none",
          "px": 483.47491326420294,
          "py": 420.9860299907921,
          "shape": "circle",
          "shape_attrs": {
           "r": 15
          },
          "value": null,
          "weight": 16,
          "x": 483.4999445440279,
          "xval": 20,
          "y": 421.00745430753466,
          "yval": 78.57142857142857
         },
         "target": {
          "index": 22,
          "label": "h1,10",
          "label_display": "none",
          "px": 395.87039075856654,
          "py": 372.9114268783584,
          "shape": "circle",
          "shape_attrs": {
           "r": 15
          },
          "value": null,
          "weight": 21,
          "x": 395.81049022730076,
          "xval": 40,
          "y": 372.93917368887946,
          "yval": 28.571428571428573
         },
         "value": 0
        },
        {
         "source": {
          "index": 2,
          "label": "x3",
          "label_display": "none",
          "px": 483.47491326420294,
          "py": 420.9860299907921,
          "shape": "circle",
          "shape_attrs": {
           "r": 15
          },
          "value": null,
          "weight": 16,
          "x": 483.52034674683875,
          "xval": 20,
          "y": 421.0202231841068,
          "yval": 78.57142857142857
         },
         "target": {
          "index": 23,
          "label": "h1,11",
          "label_display": "none",
          "px": 398.1957801426253,
          "py": 368.98139086616504,
          "shape": "circle",
          "shape_attrs": {
           "r": 15
          },
          "value": null,
          "weight": 21,
          "x": 398.1280596096234,
          "xval": 40,
          "y": 368.9802645227718,
          "yval": 21.42857142857143
         },
         "value": 0
        },
        {
         "source": {
          "index": 2,
          "label": "x3",
          "label_display": "none",
          "px": 483.47491326420294,
          "py": 420.9860299907921,
          "shape": "circle",
          "shape_attrs": {
           "r": 15
          },
          "value": null,
          "weight": 16,
          "x": 483.82598087579316,
          "xval": 20,
          "y": 421.22577505901415,
          "yval": 78.57142857142857
         },
         "target": {
          "index": 24,
          "label": "h1,12",
          "label_display": "none",
          "px": 400.9303080338963,
          "py": 365.8562121758084,
          "shape": "circle",
          "shape_attrs": {
           "r": 15
          },
          "value": null,
          "weight": 21,
          "x": 400.65738786821106,
          "xval": 40,
          "y": 365.7011396516874,
          "yval": 14.285714285714286
         },
         "value": 0
        },
        {
         "source": {
          "index": 2,
          "label": "x3",
          "label_display": "none",
          "px": 483.47491326420294,
          "py": 420.9860299907921,
          "shape": "circle",
          "shape_attrs": {
           "r": 15
          },
          "value": null,
          "weight": 16,
          "x": 483.3278964507213,
          "xval": 20,
          "y": 420.8833736728932,
          "yval": 78.57142857142857
         },
         "target": {
          "index": 25,
          "label": "h1,13",
          "label_display": "none",
          "px": 402.3694778941787,
          "py": 362.0275603700973,
          "shape": "circle",
          "shape_attrs": {
           "r": 15
          },
          "value": null,
          "weight": 21,
          "x": 402.43931760178737,
          "xval": 40,
          "y": 362.0867937399456,
          "yval": 7.142857142857143
         },
         "value": 0
        },
        {
         "source": {
          "fixed": 0,
          "index": 3,
          "label": "x4",
          "label_display": "none",
          "px": 456.9940808019986,
          "py": 444.7985108292456,
          "shape": "circle",
          "shape_attrs": {
           "r": 15
          },
          "value": null,
          "weight": 16,
          "x": 456.58973391340595,
          "xval": 20,
          "y": 444.07903393902603,
          "yval": 71.42857142857143
         },
         "target": {
          "fixed": 0,
          "index": 13,
          "label": "h1,1",
          "label_display": "none",
          "px": 410.67151187137154,
          "py": 354.5764240574521,
          "shape": "circle",
          "shape_attrs": {
           "r": 15
          },
          "value": null,
          "weight": 21,
          "x": 410.9736917121307,
          "xval": 40,
          "y": 355.0892778210324,
          "yval": 92.85714285714286
         },
         "value": 0
        },
        {
         "source": {
          "fixed": 0,
          "index": 3,
          "label": "x4",
          "label_display": "none",
          "px": 456.9940808019986,
          "py": 444.7985108292456,
          "shape": "circle",
          "shape_attrs": {
           "r": 15
          },
          "value": null,
          "weight": 16,
          "x": 457.2382427311516,
          "xval": 20,
          "y": 444.9480817121559,
          "yval": 71.42857142857143
         },
         "target": {
          "fixed": 0,
          "index": 14,
          "label": "h1,2",
          "label_display": "none",
          "px": 549.6411511118653,
          "py": 483.64056292330713,
          "shape": "circle",
          "shape_attrs": {
           "r": 15
          },
          "value": null,
          "weight": 21,
          "x": 549.4712695297361,
          "xval": 40,
          "y": 483.58832973914815,
          "yval": 85.71428571428572
         },
         "value": 0
        },
        {
         "source": {
          "fixed": 0,
          "index": 3,
          "label": "x4",
          "label_display": "none",
          "px": 456.9940808019986,
          "py": 444.7985108292456,
          "shape": "circle",
          "shape_attrs": {
           "r": 15
          },
          "value": null,
          "weight": 16,
          "x": 455.59212834577806,
          "xval": 20,
          "y": 440.517087509372,
          "yval": 71.42857142857143
         },
         "target": {
          "fixed": 0,
          "index": 15,
          "label": "h1,3",
          "label_display": "none",
          "px": 423.9570279545435,
          "py": 342.18972763411654,
          "shape": "circle",
          "shape_attrs": {
           "r": 15
          },
          "value": null,
          "weight": 21,
          "x": 425.02869998377713,
          "xval": 40,
          "y": 345.302189268506,
          "yval": 78.57142857142857
         },
         "value": 0
        },
        {
         "source": {
          "fixed": 0,
          "index": 3,
          "label": "x4",
          "label_display": "none",
          "px": 456.9940808019986,
          "py": 444.7985108292456,
          "shape": "circle",
          "shape_attrs": {
           "r": 15
          },
          "value": null,
          "weight": 16,
          "x": 455.7292722355522,
          "xval": 20,
          "y": 441.5159678501209,
          "yval": 71.42857142857143
         },
         "target": {
          "fixed": 0,
          "index": 16,
          "label": "h1,4",
          "label_display": "none",
          "px": 419.57668467059693,
          "py": 345.52392632806783,
          "shape": "circle",
          "shape_attrs": {
           "r": 15
          },
          "value": null,
          "weight": 21,
          "x": 420.51852245860255,
          "xval": 40,
          "y": 347.9200112048333,
          "yval": 71.42857142857143
         },
         "value": 0
        },
        {
         "source": {
          "fixed": 0,
          "index": 3,
          "label": "x4",
          "label_display": "none",
          "px": 456.9940808019986,
          "py": 444.7985108292456,
          "shape": "circle",
          "shape_attrs": {
           "r": 15
          },
          "value": null,
          "weight": 16,
          "x": 455.941125143619,
          "xval": 20,
          "y": 442.3849734569692,
          "yval": 71.42857142857143
         },
         "target": {
          "fixed": 0,
          "index": 17,
          "label": "h1,5",
          "label_display": "none",
          "px": 416.19040247227423,
          "py": 348.5344480037842,
          "shape": "circle",
          "shape_attrs": {
           "r": 15
          },
          "value": null,
          "weight": 21,
          "x": 416.9773664681742,
          "xval": 40,
          "y": 350.28814663849,
          "yval": 64.28571428571429
         },
         "value": 0
        },
        {
         "source": {
          "fixed": 0,
          "index": 3,
          "label": "x4",
          "label_display": "none",
          "px": 456.9940808019986,
          "py": 444.7985108292456,
          "shape": "circle",
          "shape_attrs": {
           "r": 15
          },
          "value": null,
          "weight": 16,
          "x": 456.0677674352779,
          "xval": 20,
          "y": 442.9036948631009,
          "yval": 71.42857142857143
         },
         "target": {
          "index": 18,
          "label": "h1,6",
          "label_display": "none",
          "px": 412.7860589190273,
          "py": 351.06916053008825,
          "shape": "circle",
          "shape_attrs": {
           "r": 15
          },
          "value": null,
          "weight": 21,
          "x": 413.4565345806289,
          "xval": 40,
          "y": 352.43666863404695,
          "yval": 57.142857142857146
         },
         "value": 0
        },
        {
         "source": {
          "fixed": 0,
          "index": 3,
          "label": "x4",
          "label_display": "none",
          "px": 456.9940808019986,
          "py": 444.7985108292456,
          "shape": "circle",
          "shape_attrs": {
           "r": 15
          },
          "value": null,
          "weight": 16,
          "x": 457.3608413147693,
          "xval": 20,
          "y": 445.47400063804747,
          "yval": 71.42857142857143
         },
         "target": {
          "index": 19,
          "label": "h1,7",
          "label_display": "none",
          "px": 406.12365125440556,
          "py": 360.2290356712743,
          "shape": "circle",
          "shape_attrs": {
           "r": 15
          },
          "value": null,
          "weight": 21,
          "x": 405.8500973000066,
          "xval": 40,
          "y": 359.7614388340528,
          "yval": 50
         },
         "value": 0
        },
        {
         "source": {
          "fixed": 0,
          "index": 3,
          "label": "x4",
          "label_display": "none",
          "px": 456.9940808019986,
          "py": 444.7985108292456,
          "shape": "circle",
          "shape_attrs": {
           "r": 15
          },
          "value": null,
          "weight": 16,
          "x": 456.4445314237396,
          "xval": 20,
          "y": 443.8933931522164,
          "yval": 71.42857142857143
         },
         "target": {
          "index": 20,
          "label": "h1,8",
          "label_display": "none",
          "px": 406.86806661745635,
          "py": 356.2069059337648,
          "shape": "circle",
          "shape_attrs": {
           "r": 15
          },
          "value": null,
          "weight": 21,
          "x": 407.2216033583116,
          "xval": 40,
          "y": 356.8468346175597,
          "yval": 42.85714285714286
         },
         "value": 0
        },
        {
         "source": {
          "fixed": 0,
          "index": 3,
          "label": "x4",
          "label_display": "none",
          "px": 456.9940808019986,
          "py": 444.7985108292456,
          "shape": "circle",
          "shape_attrs": {
           "r": 15
          },
          "value": null,
          "weight": 16,
          "x": 459.8578664962414,
          "xval": 20,
          "y": 447.8744239302034,
          "yval": 71.42857142857143
         },
         "target": {
          "index": 21,
          "label": "h1,9",
          "label_display": "none",
          "px": 393.22820764158945,
          "py": 377.50608378401296,
          "shape": "circle",
          "shape_attrs": {
           "r": 15
          },
          "value": null,
          "weight": 21,
          "x": 391.0425838836595,
          "xval": 40,
          "y": 375.3178468422978,
          "yval": 35.714285714285715
         },
         "value": 0
        },
        {
         "source": {
          "fixed": 0,
          "index": 3,
          "label": "x4",
          "label_display": "none",
          "px": 456.9940808019986,
          "py": 444.7985108292456,
          "shape": "circle",
          "shape_attrs": {
           "r": 15
          },
          "value": null,
          "weight": 16,
          "x": 459.0704723523627,
          "xval": 20,
          "y": 447.2974414584652,
          "yval": 71.42857142857143
         },
         "target": {
          "index": 22,
          "label": "h1,10",
          "label_display": "none",
          "px": 395.87039075856654,
          "py": 372.9114268783584,
          "shape": "circle",
          "shape_attrs": {
           "r": 15
          },
          "value": null,
          "weight": 21,
          "x": 394.2739386841129,
          "xval": 40,
          "y": 371.13045895031877,
          "yval": 28.571428571428573
         },
         "value": 0
        },
        {
         "source": {
          "fixed": 0,
          "index": 3,
          "label": "x4",
          "label_display": "none",
          "px": 456.9940808019986,
          "py": 444.7985108292456,
          "shape": "circle",
          "shape_attrs": {
           "r": 15
          },
          "value": null,
          "weight": 16,
          "x": 458.39457159244125,
          "xval": 20,
          "y": 446.6638592657039,
          "yval": 71.42857142857143
         },
         "target": {
          "index": 23,
          "label": "h1,11",
          "label_display": "none",
          "px": 398.1957801426253,
          "py": 368.98139086616504,
          "shape": "circle",
          "shape_attrs": {
           "r": 15
          },
          "value": null,
          "weight": 21,
          "x": 397.1045740071425,
          "xval": 40,
          "y": 367.6478090235977,
          "yval": 21.42857142857143
         },
         "value": 0
        },
        {
         "source": {
          "fixed": 0,
          "index": 3,
          "label": "x4",
          "label_display": "none",
          "px": 456.9940808019986,
          "py": 444.7985108292456,
          "shape": "circle",
          "shape_attrs": {
           "r": 15
          },
          "value": null,
          "weight": 16,
          "x": 458.0263317920152,
          "xval": 20,
          "y": 446.31377398626756,
          "yval": 71.42857142857143
         },
         "target": {
          "index": 24,
          "label": "h1,12",
          "label_display": "none",
          "px": 400.9303080338963,
          "py": 365.8562121758084,
          "shape": "circle",
          "shape_attrs": {
           "r": 15
          },
          "value": null,
          "weight": 21,
          "x": 400.1304415309617,
          "xval": 40,
          "y": 364.7781014816669,
          "yval": 14.285714285714286
         },
         "value": 0
        },
        {
         "source": {
          "fixed": 0,
          "index": 3,
          "label": "x4",
          "label_display": "none",
          "px": 456.9940808019986,
          "py": 444.7985108292456,
          "shape": "circle",
          "shape_attrs": {
           "r": 15
          },
          "value": null,
          "weight": 16,
          "x": 457.2169954926448,
          "xval": 20,
          "y": 445.19941079923615,
          "yval": 71.42857142857143
         },
         "target": {
          "index": 25,
          "label": "h1,13",
          "label_display": "none",
          "px": 402.3694778941787,
          "py": 362.0275603700973,
          "shape": "circle",
          "shape_attrs": {
           "r": 15
          },
          "value": null,
          "weight": 21,
          "x": 402.14171501895186,
          "xval": 40,
          "y": 361.73257019340275,
          "yval": 7.142857142857143
         },
         "value": 0
        },
        {
         "source": {
          "index": 4,
          "label": "x5",
          "label_display": "none",
          "px": 452.31619127148053,
          "py": 447.62480373852685,
          "shape": "circle",
          "shape_attrs": {
           "r": 15
          },
          "value": null,
          "weight": 16,
          "x": 451.8319187156593,
          "xval": 20,
          "y": 446.6066154936165,
          "yval": 64.28571428571429
         },
         "target": {
          "fixed": 0,
          "index": 13,
          "label": "h1,1",
          "label_display": "none",
          "px": 410.67151187137154,
          "py": 354.5764240574521,
          "shape": "circle",
          "shape_attrs": {
           "r": 15
          },
          "value": null,
          "weight": 21,
          "x": 411.0342927685182,
          "xval": 40,
          "y": 355.3073618430919,
          "yval": 92.85714285714286
         },
         "value": 0
        },
        {
         "source": {
          "index": 4,
          "label": "x5",
          "label_display": "none",
          "px": 452.31619127148053,
          "py": 447.62480373852685,
          "shape": "circle",
          "shape_attrs": {
           "r": 15
          },
          "value": null,
          "weight": 16,
          "x": 454.35726452066024,
          "xval": 20,
          "y": 448.4226098094316,
          "yval": 64.28571428571429
         },
         "target": {
          "fixed": 0,
          "index": 14,
          "label": "h1,2",
          "label_display": "none",
          "px": 549.6411511118653,
          "py": 483.64056292330713,
          "shape": "circle",
          "shape_attrs": {
           "r": 15
          },
          "value": null,
          "weight": 21,
          "x": 548.1489364526278,
          "xval": 40,
          "y": 483.1086628614924,
          "yval": 85.71428571428572
         },
         "value": 0
        },
        {
         "source": {
          "index": 4,
          "label": "x5",
          "label_display": "none",
          "px": 452.31619127148053,
          "py": 447.62480373852685,
          "shape": "circle",
          "shape_attrs": {
           "r": 15
          },
          "value": null,
          "weight": 16,
          "x": 450.9213812565483,
          "xval": 20,
          "y": 442.50595926588835,
          "yval": 64.28571428571429
         },
         "target": {
          "fixed": 0,
          "index": 15,
          "label": "h1,3",
          "label_display": "none",
          "px": 423.9570279545435,
          "py": 342.18972763411654,
          "shape": "circle",
          "shape_attrs": {
           "r": 15
          },
          "value": null,
          "weight": 21,
          "x": 425.0251455167902,
          "xval": 40,
          "y": 345.91721781630815,
          "yval": 78.57142857142857
         },
         "value": 0
        },
        {
         "source": {
          "index": 4,
          "label": "x5",
          "label_display": "none",
          "px": 452.31619127148053,
          "py": 447.62480373852685,
          "shape": "circle",
          "shape_attrs": {
           "r": 15
          },
          "value": null,
          "weight": 16,
          "x": 451.023147974823,
          "xval": 20,
          "y": 443.6609631020901,
          "yval": 64.28571428571429
         },
         "target": {
          "fixed": 0,
          "index": 16,
          "label": "h1,4",
          "label_display": "none",
          "px": 419.57668467059693,
          "py": 345.52392632806783,
          "shape": "circle",
          "shape_attrs": {
           "r": 15
          },
          "value": null,
          "weight": 21,
          "x": 420.54103541161214,
          "xval": 40,
          "y": 348.42000125309255,
          "yval": 71.42857142857143
         },
         "value": 0
        },
        {
         "source": {
          "index": 4,
          "label": "x5",
          "label_display": "none",
          "px": 452.31619127148053,
          "py": 447.62480373852685,
          "shape": "circle",
          "shape_attrs": {
           "r": 15
          },
          "value": null,
          "weight": 16,
          "x": 451.2120798009767,
          "xval": 20,
          "y": 444.6623177773079,
          "yval": 64.28571428571429
         },
         "target": {
          "fixed": 0,
          "index": 17,
          "label": "h1,5",
          "label_display": "none",
          "px": 416.19040247227423,
          "py": 348.5344480037842,
          "shape": "circle",
          "shape_attrs": {
           "r": 15
          },
          "value": null,
          "weight": 21,
          "x": 417.01676865917864,
          "xval": 40,
          "y": 350.6906162065858,
          "yval": 64.28571428571429
         },
         "value": 0
        },
        {
         "source": {
          "index": 4,
          "label": "x5",
          "label_display": "none",
          "px": 452.31619127148053,
          "py": 447.62480373852685,
          "shape": "circle",
          "shape_attrs": {
           "r": 15
          },
          "value": null,
          "weight": 16,
          "x": 451.34086940735705,
          "xval": 20,
          "y": 445.3075061144198,
          "yval": 64.28571428571429
         },
         "target": {
          "index": 18,
          "label": "h1,6",
          "label_display": "none",
          "px": 412.7860589190273,
          "py": 351.06916053008825,
          "shape": "circle",
          "shape_attrs": {
           "r": 15
          },
          "value": null,
          "weight": 21,
          "x": 413.4943545378849,
          "xval": 40,
          "y": 352.74595193354406,
          "yval": 57.142857142857146
         },
         "value": 0
        },
        {
         "source": {
          "index": 4,
          "label": "x5",
          "label_display": "none",
          "px": 452.31619127148053,
          "py": 447.62480373852685,
          "shape": "circle",
          "shape_attrs": {
           "r": 15
          },
          "value": null,
          "weight": 16,
          "x": 452.60591078335636,
          "xval": 20,
          "y": 448.2348088324431,
          "yval": 64.28571428571429
         },
         "target": {
          "index": 19,
          "label": "h1,7",
          "label_display": "none",
          "px": 406.12365125440556,
          "py": 360.2290356712743,
          "shape": "circle",
          "shape_attrs": {
           "r": 15
          },
          "value": null,
          "weight": 21,
          "x": 405.9085728102951,
          "xval": 40,
          "y": 359.80767144694937,
          "yval": 50
         },
         "value": 0
        },
        {
         "source": {
          "index": 4,
          "label": "x5",
          "label_display": "none",
          "px": 452.31619127148053,
          "py": 447.62480373852685,
          "shape": "circle",
          "shape_attrs": {
           "r": 15
          },
          "value": null,
          "weight": 16,
          "x": 451.74282853179716,
          "xval": 20,
          "y": 446.53383571673436,
          "yval": 64.28571428571429
         },
         "target": {
          "index": 20,
          "label": "h1,8",
          "label_display": "none",
          "px": 406.86806661745635,
          "py": 356.2069059337648,
          "shape": "circle",
          "shape_attrs": {
           "r": 15
          },
          "value": null,
          "weight": 21,
          "x": 407.2408584568294,
          "xval": 40,
          "y": 356.98175779825004,
          "yval": 42.85714285714286
         },
         "value": 0
        },
        {
         "source": {
          "index": 4,
          "label": "x5",
          "label_display": "none",
          "px": 452.31619127148053,
          "py": 447.62480373852685,
          "shape": "circle",
          "shape_attrs": {
           "r": 15
          },
          "value": null,
          "weight": 16,
          "x": 455.377152868456,
          "xval": 20,
          "y": 451.3063018170492,
          "yval": 64.28571428571429
         },
         "target": {
          "index": 21,
          "label": "h1,9",
          "label_display": "none",
          "px": 393.22820764158945,
          "py": 377.50608378401296,
          "shape": "circle",
          "shape_attrs": {
           "r": 15
          },
          "value": null,
          "weight": 21,
          "x": 390.8990045971898,
          "xval": 40,
          "y": 374.8696064722202,
          "yval": 35.714285714285715
         },
         "value": 0
        },
        {
         "source": {
          "index": 4,
          "label": "x5",
          "label_display": "none",
          "px": 452.31619127148053,
          "py": 447.62480373852685,
          "shape": "circle",
          "shape_attrs": {
           "r": 15
          },
          "value": null,
          "weight": 16,
          "x": 454.5012918115968,
          "xval": 20,
          "y": 450.56964691523115,
          "yval": 64.28571428571429
         },
         "target": {
          "index": 22,
          "label": "h1,10",
          "label_display": "none",
          "px": 395.87039075856654,
          "py": 372.9114268783584,
          "shape": "circle",
          "shape_attrs": {
           "r": 15
          },
          "value": null,
          "weight": 21,
          "x": 394.1955456202495,
          "xval": 40,
          "y": 370.7998720873049,
          "yval": 28.571428571428573
         },
         "value": 0
        },
        {
         "source": {
          "index": 4,
          "label": "x5",
          "label_display": "none",
          "px": 452.31619127148053,
          "py": 447.62480373852685,
          "shape": "circle",
          "shape_attrs": {
           "r": 15
          },
          "value": null,
          "weight": 16,
          "x": 453.7699442092136,
          "xval": 20,
          "y": 449.7926637619482,
          "yval": 64.28571428571429
         },
         "target": {
          "index": 23,
          "label": "h1,11",
          "label_display": "none",
          "px": 398.1957801426253,
          "py": 368.98139086616504,
          "shape": "circle",
          "shape_attrs": {
           "r": 15
          },
          "value": null,
          "weight": 21,
          "x": 397.06703655916726,
          "xval": 40,
          "y": 367.42288614974615,
          "yval": 21.42857142857143
         },
         "value": 0
        },
        {
         "source": {
          "index": 4,
          "label": "x5",
          "label_display": "none",
          "px": 452.31619127148053,
          "py": 447.62480373852685,
          "shape": "circle",
          "shape_attrs": {
           "r": 15
          },
          "value": null,
          "weight": 16,
          "x": 453.3429058216638,
          "xval": 20,
          "y": 449.31639573408404,
          "yval": 64.28571428571429
         },
         "target": {
          "index": 24,
          "label": "h1,12",
          "label_display": "none",
          "px": 400.9303080338963,
          "py": 365.8562121758084,
          "shape": "circle",
          "shape_attrs": {
           "r": 15
          },
          "value": null,
          "weight": 21,
          "x": 400.13622940835296,
          "xval": 40,
          "y": 364.6461554784993,
          "yval": 14.285714285714286
         },
         "value": 0
        },
        {
         "source": {
          "index": 4,
          "label": "x5",
          "label_display": "none",
          "px": 452.31619127148053,
          "py": 447.62480373852685,
          "shape": "circle",
          "shape_attrs": {
           "r": 15
          },
          "value": null,
          "weight": 16,
          "x": 452.5410316728001,
          "xval": 20,
          "y": 448.06933464352227,
          "yval": 64.28571428571429
         },
         "target": {
          "index": 25,
          "label": "h1,13",
          "label_display": "none",
          "px": 402.3694778941787,
          "py": 362.0275603700973,
          "shape": "circle",
          "shape_attrs": {
           "r": 15
          },
          "value": null,
          "weight": 21,
          "x": 402.14200446322815,
          "xval": 40,
          "y": 361.6984017071333,
          "yval": 7.142857142857143
         },
         "value": 0
        },
        {
         "source": {
          "index": 5,
          "label": "x6",
          "label_display": "none",
          "px": 465.9489964457311,
          "py": 438.3482638798342,
          "shape": "circle",
          "shape_attrs": {
           "r": 15
          },
          "value": null,
          "weight": 16,
          "x": 465.8002460395032,
          "xval": 20,
          "y": 438.1869673933841,
          "yval": 57.142857142857146
         },
         "target": {
          "fixed": 0,
          "index": 13,
          "label": "h1,1",
          "label_display": "none",
          "px": 410.67151187137154,
          "py": 354.5764240574521,
          "shape": "circle",
          "shape_attrs": {
           "r": 15
          },
          "value": null,
          "weight": 21,
          "x": 410.7859544404799,
          "xval": 40,
          "y": 354.67991547636586,
          "yval": 92.85714285714286
         },
         "value": 0
        },
        {
         "source": {
          "index": 5,
          "label": "x6",
          "label_display": "none",
          "px": 465.9489964457311,
          "py": 438.3482638798342,
          "shape": "circle",
          "shape_attrs": {
           "r": 15
          },
          "value": null,
          "weight": 16,
          "x": 463.4964229277936,
          "xval": 20,
          "y": 437.0732212906035,
          "yval": 57.142857142857146
         },
         "target": {
          "fixed": 0,
          "index": 14,
          "label": "h1,2",
          "label_display": "none",
          "px": 549.6411511118653,
          "py": 483.64056292330713,
          "shape": "circle",
          "shape_attrs": {
           "r": 15
          },
          "value": null,
          "weight": 21,
          "x": 551.4589372753443,
          "xval": 40,
          "y": 484.6399751161436,
          "yval": 85.71428571428572
         },
         "value": 0
        },
        {
         "source": {
          "index": 5,
          "label": "x6",
          "label_display": "none",
          "px": 465.9489964457311,
          "py": 438.3482638798342,
          "shape": "circle",
          "shape_attrs": {
           "r": 15
          },
          "value": null,
          "weight": 16,
          "x": 464.7838132072188,
          "xval": 20,
          "y": 435.74791105617027,
          "yval": 57.142857142857146
         },
         "target": {
          "fixed": 0,
          "index": 15,
          "label": "h1,3",
          "label_display": "none",
          "px": 423.9570279545435,
          "py": 342.18972763411654,
          "shape": "circle",
          "shape_attrs": {
           "r": 15
          },
          "value": null,
          "weight": 21,
          "x": 424.85483544966945,
          "xval": 40,
          "y": 344.0654332569704,
          "yval": 78.57142857142857
         },
         "value": 0
        },
        {
         "source": {
          "index": 5,
          "label": "x6",
          "label_display": "none",
          "px": 465.9489964457311,
          "py": 438.3482638798342,
          "shape": "circle",
          "shape_attrs": {
           "r": 15
          },
          "value": null,
          "weight": 16,
          "x": 464.9501766128504,
          "xval": 20,
          "y": 436.4164656852625,
          "yval": 57.142857142857146
         },
         "target": {
          "fixed": 0,
          "index": 16,
          "label": "h1,4",
          "label_display": "none",
          "px": 419.57668467059693,
          "py": 345.52392632806783,
          "shape": "circle",
          "shape_attrs": {
           "r": 15
          },
          "value": null,
          "weight": 21,
          "x": 420.3231277297474,
          "xval": 40,
          "y": 346.92665337061686,
          "yval": 71.42857142857143
         },
         "value": 0
        },
        {
         "source": {
          "index": 5,
          "label": "x6",
          "label_display": "none",
          "px": 465.9489964457311,
          "py": 438.3482638798342,
          "shape": "circle",
          "shape_attrs": {
           "r": 15
          },
          "value": null,
          "weight": 16,
          "x": 465.17031375349893,
          "xval": 20,
          "y": 437.0086407548632,
          "yval": 57.142857142857146
         },
         "target": {
          "fixed": 0,
          "index": 17,
          "label": "h1,5",
          "label_display": "none",
          "px": 416.19040247227423,
          "py": 348.5344480037842,
          "shape": "circle",
          "shape_attrs": {
           "r": 15
          },
          "value": null,
          "weight": 21,
          "x": 416.7758675608078,
          "xval": 40,
          "y": 349.49876943858015,
          "yval": 64.28571428571429
         },
         "value": 0
        },
        {
         "source": {
          "index": 5,
          "label": "x6",
          "label_display": "none",
          "px": 465.9489964457311,
          "py": 438.3482638798342,
          "shape": "circle",
          "shape_attrs": {
           "r": 15
          },
          "value": null,
          "weight": 16,
          "x": 465.2540500163717,
          "xval": 20,
          "y": 437.2719524393963,
          "yval": 57.142857142857146
         },
         "target": {
          "index": 18,
          "label": "h1,6",
          "label_display": "none",
          "px": 412.7860589190273,
          "py": 351.06916053008825,
          "shape": "circle",
          "shape_attrs": {
           "r": 15
          },
          "value": null,
          "weight": 21,
          "x": 413.2866506787989,
          "xval": 40,
          "y": 351.8354882910968,
          "yval": 57.142857142857146
         },
         "value": 0
        },
        {
         "source": {
          "index": 5,
          "label": "x6",
          "label_display": "none",
          "px": 465.9489964457311,
          "py": 438.3482638798342,
          "shape": "circle",
          "shape_attrs": {
           "r": 15
          },
          "value": null,
          "weight": 16,
          "x": 466.48892667195423,
          "xval": 20,
          "y": 439.115570665621,
          "yval": 57.142857142857146
         },
         "target": {
          "index": 19,
          "label": "h1,7",
          "label_display": "none",
          "px": 406.12365125440556,
          "py": 360.2290356712743,
          "shape": "circle",
          "shape_attrs": {
           "r": 15
          },
          "value": null,
          "weight": 21,
          "x": 405.7230956132875,
          "xval": 40,
          "y": 359.6957131002873,
          "yval": 50
         },
         "value": 0
        },
        {
         "source": {
          "index": 5,
          "label": "x6",
          "label_display": "none",
          "px": 465.9489964457311,
          "py": 438.3482638798342,
          "shape": "circle",
          "shape_attrs": {
           "r": 15
          },
          "value": null,
          "weight": 16,
          "x": 465.5053356826025,
          "xval": 20,
          "y": 437.7937321918864,
          "yval": 57.142857142857146
         },
         "target": {
          "index": 20,
          "label": "h1,8",
          "label_display": "none",
          "px": 406.86806661745635,
          "py": 356.2069059337648,
          "shape": "circle",
          "shape_attrs": {
           "r": 15
          },
          "value": null,
          "weight": 21,
          "x": 407.14417727567576,
          "xval": 40,
          "y": 356.59043675725854,
          "yval": 42.85714285714286
         },
         "value": 0
        },
        {
         "source": {
          "index": 5,
          "label": "x6",
          "label_display": "none",
          "px": 465.9489964457311,
          "py": 438.3482638798342,
          "shape": "circle",
          "shape_attrs": {
           "r": 15
          },
          "value": null,
          "weight": 16,
          "x": 468.20904931830614,
          "xval": 20,
          "y": 440.29291956618715,
          "yval": 57.142857142857146
         },
         "target": {
          "index": 21,
          "label": "h1,9",
          "label_display": "none",
          "px": 393.22820764158945,
          "py": 377.50608378401296,
          "shape": "circle",
          "shape_attrs": {
           "r": 15
          },
          "value": null,
          "weight": 21,
          "x": 391.48803736567004,
          "xval": 40,
          "y": 376.15333487159035,
          "yval": 35.714285714285715
         },
         "value": 0
        },
        {
         "source": {
          "index": 5,
          "label": "x6",
          "label_display": "none",
          "px": 465.9489964457311,
          "py": 438.3482638798342,
          "shape": "circle",
          "shape_attrs": {
           "r": 15
          },
          "value": null,
          "weight": 16,
          "x": 467.6524635781746,
          "xval": 20,
          "y": 439.99482880891065,
          "yval": 57.142857142857146
         },
         "target": {
          "index": 22,
          "label": "h1,10",
          "label_display": "none",
          "px": 395.87039075856654,
          "py": 372.9114268783584,
          "shape": "circle",
          "shape_attrs": {
           "r": 15
          },
          "value": null,
          "weight": 21,
          "x": 394.54932261719154,
          "xval": 40,
          "y": 371.7604475813701,
          "yval": 28.571428571428573
         },
         "value": 0
        },
        {
         "source": {
          "index": 5,
          "label": "x6",
          "label_display": "none",
          "px": 465.9489964457311,
          "py": 438.3482638798342,
          "shape": "circle",
          "shape_attrs": {
           "r": 15
          },
          "value": null,
          "weight": 16,
          "x": 467.1368532189412,
          "xval": 20,
          "y": 439.62214622861757,
          "yval": 57.142857142857146
         },
         "target": {
          "index": 23,
          "label": "h1,11",
          "label_display": "none",
          "px": 398.1957801426253,
          "py": 368.98139086616504,
          "shape": "circle",
          "shape_attrs": {
           "r": 15
          },
          "value": null,
          "weight": 21,
          "x": 397.2618490858634,
          "xval": 40,
          "y": 368.0855556102159,
          "yval": 21.42857142857143
         },
         "value": 0
        },
        {
         "source": {
          "index": 5,
          "label": "x6",
          "label_display": "none",
          "px": 465.9489964457311,
          "py": 438.3482638798342,
          "shape": "circle",
          "shape_attrs": {
           "r": 15
          },
          "value": null,
          "weight": 16,
          "x": 466.9290017608275,
          "xval": 20,
          "y": 439.5002219708924,
          "yval": 57.142857142857146
         },
         "target": {
          "index": 24,
          "label": "h1,12",
          "label_display": "none",
          "px": 400.9303080338963,
          "py": 365.8562121758084,
          "shape": "circle",
          "shape_attrs": {
           "r": 15
          },
          "value": null,
          "weight": 21,
          "x": 400.169535587726,
          "xval": 40,
          "y": 365.0477292241881,
          "yval": 14.285714285714286
         },
         "value": 0
        },
        {
         "source": {
          "index": 5,
          "label": "x6",
          "label_display": "none",
          "px": 465.9489964457311,
          "py": 438.3482638798342,
          "shape": "circle",
          "shape_attrs": {
           "r": 15
          },
          "value": null,
          "weight": 16,
          "x": 466.1506849419952,
          "xval": 20,
          "y": 438.65063967992995,
          "yval": 57.142857142857146
         },
         "target": {
          "index": 25,
          "label": "h1,13",
          "label_display": "none",
          "px": 402.3694778941787,
          "py": 362.0275603700973,
          "shape": "circle",
          "shape_attrs": {
           "r": 15
          },
          "value": null,
          "weight": 21,
          "x": 402.15795258965557,
          "xval": 40,
          "y": 361.8070959949676,
          "yval": 7.142857142857143
         },
         "value": 0
        },
        {
         "source": {
          "index": 6,
          "label": "x7",
          "label_display": "none",
          "px": 493.7501067991713,
          "py": 406.53465926497694,
          "shape": "circle",
          "shape_attrs": {
           "r": 15
          },
          "value": null,
          "weight": 16,
          "x": 494.74333100488263,
          "xval": 20,
          "y": 407.1401532895498,
          "yval": 50
         },
         "target": {
          "fixed": 0,
          "index": 13,
          "label": "h1,1",
          "label_display": "none",
          "px": 410.67151187137154,
          "py": 354.5764240574521,
          "shape": "circle",
          "shape_attrs": {
           "r": 15
          },
          "value": null,
          "weight": 21,
          "x": 409.9778752789037,
          "xval": 40,
          "y": 354.0852994540833,
          "yval": 92.85714285714286
         },
         "value": 0
        },
        {
         "source": {
          "index": 6,
          "label": "x7",
          "label_display": "none",
          "px": 493.7501067991713,
          "py": 406.53465926497694,
          "shape": "circle",
          "shape_attrs": {
           "r": 15
          },
          "value": null,
          "weight": 16,
          "x": 492.1755402116474,
          "xval": 20,
          "y": 404.32123600744245,
          "yval": 50
         },
         "target": {
          "fixed": 0,
          "index": 14,
          "label": "h1,2",
          "label_display": "none",
          "px": 549.6411511118653,
          "py": 483.64056292330713,
          "shape": "circle",
          "shape_attrs": {
           "r": 15
          },
          "value": null,
          "weight": 21,
          "x": 550.8453608433081,
          "xval": 40,
          "y": 485.3018024841807,
          "yval": 85.71428571428572
         },
         "value": 0
        },
        {
         "source": {
          "index": 6,
          "label": "x7",
          "label_display": "none",
          "px": 493.7501067991713,
          "py": 406.53465926497694,
          "shape": "circle",
          "shape_attrs": {
           "r": 15
          },
          "value": null,
          "weight": 16,
          "x": 495.91093252363936,
          "xval": 20,
          "y": 408.5040779683915,
          "yval": 50
         },
         "target": {
          "fixed": 0,
          "index": 15,
          "label": "h1,3",
          "label_display": "none",
          "px": 423.9570279545435,
          "py": 342.18972763411654,
          "shape": "circle",
          "shape_attrs": {
           "r": 15
          },
          "value": null,
          "weight": 21,
          "x": 422.4374659377368,
          "xval": 40,
          "y": 340.6686174209326,
          "yval": 78.57142857142857
         },
         "value": 0
        },
        {
         "source": {
          "index": 6,
          "label": "x7",
          "label_display": "none",
          "px": 493.7501067991713,
          "py": 406.53465926497694,
          "shape": "circle",
          "shape_attrs": {
           "r": 15
          },
          "value": null,
          "weight": 16,
          "x": 495.5214943647374,
          "xval": 20,
          "y": 407.97041090435806,
          "yval": 50
         },
         "target": {
          "fixed": 0,
          "index": 16,
          "label": "h1,4",
          "label_display": "none",
          "px": 419.57668467059693,
          "py": 345.52392632806783,
          "shape": "circle",
          "shape_attrs": {
           "r": 15
          },
          "value": null,
          "weight": 21,
          "x": 418.3152966914611,
          "xval": 40,
          "y": 344.4156861334404,
          "yval": 71.42857142857143
         },
         "value": 0
        },
        {
         "source": {
          "index": 6,
          "label": "x7",
          "label_display": "none",
          "px": 493.7501067991713,
          "py": 406.53465926497694,
          "shape": "circle",
          "shape_attrs": {
           "r": 15
          },
          "value": null,
          "weight": 16,
          "x": 495.21479561609215,
          "xval": 20,
          "y": 407.61088893958754,
          "yval": 50
         },
         "target": {
          "fixed": 0,
          "index": 17,
          "label": "h1,5",
          "label_display": "none",
          "px": 416.19040247227423,
          "py": 348.5344480037842,
          "shape": "circle",
          "shape_attrs": {
           "r": 15
          },
          "value": null,
          "weight": 21,
          "x": 415.15623184209494,
          "xval": 40,
          "y": 347.6890534675057,
          "yval": 64.28571428571429
         },
         "value": 0
        },
        {
         "source": {
          "index": 6,
          "label": "x7",
          "label_display": "none",
          "px": 493.7501067991713,
          "py": 406.53465926497694,
          "shape": "circle",
          "shape_attrs": {
           "r": 15
          },
          "value": null,
          "weight": 16,
          "x": 494.63491470825966,
          "xval": 20,
          "y": 407.12318755760094,
          "yval": 50
         },
         "target": {
          "index": 18,
          "label": "h1,6",
          "label_display": "none",
          "px": 412.7860589190273,
          "py": 351.06916053008825,
          "shape": "circle",
          "shape_attrs": {
           "r": 15
          },
          "value": null,
          "weight": 21,
          "x": 412.15599660482906,
          "xval": 40,
          "y": 350.57915101590305,
          "yval": 57.142857142857146
         },
         "value": 0
        },
        {
         "source": {
          "index": 6,
          "label": "x7",
          "label_display": "none",
          "px": 493.7501067991713,
          "py": 406.53465926497694,
          "shape": "circle",
          "shape_attrs": {
           "r": 15
          },
          "value": null,
          "weight": 16,
          "x": 494.2234433993326,
          "xval": 20,
          "y": 406.7716690904519,
          "yval": 50
         },
         "target": {
          "index": 19,
          "label": "h1,7",
          "label_display": "none",
          "px": 406.12365125440556,
          "py": 360.2290356712743,
          "shape": "circle",
          "shape_attrs": {
           "r": 15
          },
          "value": null,
          "weight": 21,
          "x": 405.8055414575254,
          "xval": 40,
          "y": 360.05684685831,
          "yval": 50
         },
         "value": 0
        },
        {
         "source": {
          "index": 6,
          "label": "x7",
          "label_display": "none",
          "px": 493.7501067991713,
          "py": 406.53465926497694,
          "shape": "circle",
          "shape_attrs": {
           "r": 15
          },
          "value": null,
          "weight": 16,
          "x": 493.53304563441077,
          "xval": 20,
          "y": 406.3941805759232,
          "yval": 50
         },
         "target": {
          "index": 20,
          "label": "h1,8",
          "label_display": "none",
          "px": 406.86806661745635,
          "py": 356.2069059337648,
          "shape": "circle",
          "shape_attrs": {
           "r": 15
          },
          "value": null,
          "weight": 21,
          "x": 407.0105857546417,
          "xval": 40,
          "y": 356.2557328898406,
          "yval": 42.85714285714286
         },
         "value": 0
        },
        {
         "source": {
          "index": 6,
          "label": "x7",
          "label_display": "none",
          "px": 493.7501067991713,
          "py": 406.53465926497694,
          "shape": "circle",
          "shape_attrs": {
           "r": 15
          },
          "value": null,
          "weight": 16,
          "x": 491.1759946621034,
          "xval": 20,
          "y": 405.7876989410524,
          "yval": 50
         },
         "target": {
          "index": 21,
          "label": "h1,9",
          "label_display": "none",
          "px": 393.22820764158945,
          "py": 377.50608378401296,
          "shape": "circle",
          "shape_attrs": {
           "r": 15
          },
          "value": null,
          "weight": 21,
          "x": 395.08343465161687,
          "xval": 40,
          "y": 378.1070213701377,
          "yval": 35.714285714285715
         },
         "value": 0
        },
        {
         "source": {
          "index": 6,
          "label": "x7",
          "label_display": "none",
          "px": 493.7501067991713,
          "py": 406.53465926497694,
          "shape": "circle",
          "shape_attrs": {
           "r": 15
          },
          "value": null,
          "weight": 16,
          "x": 491.8385667481167,
          "xval": 20,
          "y": 405.8719199236171,
          "yval": 50
         },
         "target": {
          "index": 22,
          "label": "h1,10",
          "label_display": "none",
          "px": 395.87039075856654,
          "py": 372.9114268783584,
          "shape": "circle",
          "shape_attrs": {
           "r": 15
          },
          "value": null,
          "weight": 21,
          "x": 397.2463920337814,
          "xval": 40,
          "y": 373.43243036337094,
          "yval": 28.571428571428573
         },
         "value": 0
        },
        {
         "source": {
          "index": 6,
          "label": "x7",
          "label_display": "none",
          "px": 493.7501067991713,
          "py": 406.53465926497694,
          "shape": "circle",
          "shape_attrs": {
           "r": 15
          },
          "value": null,
          "weight": 16,
          "x": 492.31277758836495,
          "xval": 20,
          "y": 405.961590199049,
          "yval": 50
         },
         "target": {
          "index": 23,
          "label": "h1,11",
          "label_display": "none",
          "px": 398.1957801426253,
          "py": 368.98139086616504,
          "shape": "circle",
          "shape_attrs": {
           "r": 15
          },
          "value": null,
          "weight": 21,
          "x": 399.22957571343244,
          "xval": 40,
          "y": 369.4168569423938,
          "yval": 21.42857142857143
         },
         "value": 0
        },
        {
         "source": {
          "index": 6,
          "label": "x7",
          "label_display": "none",
          "px": 493.7501067991713,
          "py": 406.53465926497694,
          "shape": "circle",
          "shape_attrs": {
           "r": 15
          },
          "value": null,
          "weight": 16,
          "x": 493.045668090102,
          "xval": 20,
          "y": 406.215964761103,
          "yval": 50
         },
         "target": {
          "index": 24,
          "label": "h1,12",
          "label_display": "none",
          "px": 400.9303080338963,
          "py": 365.8562121758084,
          "shape": "circle",
          "shape_attrs": {
           "r": 15
          },
          "value": null,
          "weight": 21,
          "x": 401.444083118803,
          "xval": 40,
          "y": 366.10175741767523,
          "yval": 14.285714285714286
         },
         "value": 0
        },
        {
         "source": {
          "index": 6,
          "label": "x7",
          "label_display": "none",
          "px": 493.7501067991713,
          "py": 406.53465926497694,
          "shape": "circle",
          "shape_attrs": {
           "r": 15
          },
          "value": null,
          "weight": 16,
          "x": 492.88431836535636,
          "xval": 20,
          "y": 406.10128527300037,
          "yval": 50
         },
         "target": {
          "index": 25,
          "label": "h1,13",
          "label_display": "none",
          "px": 402.3694778941787,
          "py": 362.0275603700973,
          "shape": "circle",
          "shape_attrs": {
           "r": 15
          },
          "value": null,
          "weight": 21,
          "x": 402.977892256838,
          "xval": 40,
          "y": 362.3196162270381,
          "yval": 7.142857142857143
         },
         "value": 0
        },
        {
         "source": {
          "index": 7,
          "label": "x8",
          "label_display": "none",
          "px": 440.95655866442655,
          "py": 453.0521003818673,
          "shape": "circle",
          "shape_attrs": {
           "r": 15
          },
          "value": null,
          "weight": 16,
          "x": 440.37548762155353,
          "xval": 20,
          "y": 451.3971314757625,
          "yval": 42.85714285714286
         },
         "target": {
          "fixed": 0,
          "index": 13,
          "label": "h1,1",
          "label_display": "none",
          "px": 410.67151187137154,
          "py": 354.5764240574521,
          "shape": "circle",
          "shape_attrs": {
           "r": 15
          },
          "value": null,
          "weight": 21,
          "x": 411.07199182286615,
          "xval": 40,
          "y": 355.7869587216164,
          "yval": 92.85714285714286
         },
         "value": 0
        },
        {
         "source": {
          "index": 7,
          "label": "x8",
          "label_display": "none",
          "px": 440.95655866442655,
          "py": 453.0521003818673,
          "shape": "circle",
          "shape_attrs": {
           "r": 15
          },
          "value": null,
          "weight": 16,
          "x": 448.09110099536673,
          "xval": 20,
          "y": 455.12580274935135,
          "yval": 42.85714285714286
         },
         "target": {
          "fixed": 0,
          "index": 14,
          "label": "h1,2",
          "label_display": "none",
          "px": 549.6411511118653,
          "py": 483.64056292330713,
          "shape": "circle",
          "shape_attrs": {
           "r": 15
          },
          "value": null,
          "weight": 21,
          "x": 544.3622233541774,
          "xval": 40,
          "y": 482.1789171763228,
          "yval": 85.71428571428572
         },
         "value": 0
        },
        {
         "source": {
          "index": 7,
          "label": "x8",
          "label_display": "none",
          "px": 440.95655866442655,
          "py": 453.0521003818673,
          "shape": "circle",
          "shape_attrs": {
           "r": 15
          },
          "value": null,
          "weight": 16,
          "x": 439.83620697093,
          "xval": 20,
          "y": 446.12297199551585,
          "yval": 42.85714285714286
         },
         "target": {
          "fixed": 0,
          "index": 15,
          "label": "h1,3",
          "label_display": "none",
          "px": 423.9570279545435,
          "py": 342.18972763411654,
          "shape": "circle",
          "shape_attrs": {
           "r": 15
          },
          "value": null,
          "weight": 21,
          "x": 424.78928660300454,
          "xval": 40,
          "y": 347.261502312722,
          "yval": 78.57142857142857
         },
         "value": 0
        },
        {
         "source": {
          "index": 7,
          "label": "x8",
          "label_display": "none",
          "px": 440.95655866442655,
          "py": 453.0521003818673,
          "shape": "circle",
          "shape_attrs": {
           "r": 15
          },
          "value": null,
          "weight": 16,
          "x": 439.81218340124263,
          "xval": 20,
          "y": 447.6140050661891,
          "yval": 42.85714285714286
         },
         "target": {
          "fixed": 0,
          "index": 16,
          "label": "h1,4",
          "label_display": "none",
          "px": 419.57668467059693,
          "py": 345.52392632806783,
          "shape": "circle",
          "shape_attrs": {
           "r": 15
          },
          "value": null,
          "weight": 21,
          "x": 420.3978641867774,
          "xval": 40,
          "y": 349.51668497151735,
          "yval": 71.42857142857143
         },
         "value": 0
        },
        {
         "source": {
          "index": 7,
          "label": "x8",
          "label_display": "none",
          "px": 440.95655866442655,
          "py": 453.0521003818673,
          "shape": "circle",
          "shape_attrs": {
           "r": 15
          },
          "value": null,
          "weight": 16,
          "x": 439.90739847518324,
          "xval": 20,
          "y": 448.9028514739608,
          "yval": 42.85714285714286
         },
         "target": {
          "fixed": 0,
          "index": 17,
          "label": "h1,5",
          "label_display": "none",
          "px": 416.19040247227423,
          "py": 348.5344480037842,
          "shape": "circle",
          "shape_attrs": {
           "r": 15
          },
          "value": null,
          "weight": 21,
          "x": 416.94265196406263,
          "xval": 40,
          "y": 351.57546366392637,
          "yval": 64.28571428571429
         },
         "value": 0
        },
        {
         "source": {
          "index": 7,
          "label": "x8",
          "label_display": "none",
          "px": 440.95655866442655,
          "py": 453.0521003818673,
          "shape": "circle",
          "shape_attrs": {
           "r": 15
          },
          "value": null,
          "weight": 16,
          "x": 439.9977595000529,
          "xval": 20,
          "y": 449.83250091060086,
          "yval": 42.85714285714286
         },
         "target": {
          "index": 18,
          "label": "h1,6",
          "label_display": "none",
          "px": 412.7860589190273,
          "py": 351.06916053008825,
          "shape": "circle",
          "shape_attrs": {
           "r": 15
          },
          "value": null,
          "weight": 21,
          "x": 413.44855367277125,
          "xval": 40,
          "y": 353.42119623042737,
          "yval": 57.142857142857146
         },
         "value": 0
        },
        {
         "source": {
          "index": 7,
          "label": "x8",
          "label_display": "none",
          "px": 440.95655866442655,
          "py": 453.0521003818673,
          "shape": "circle",
          "shape_attrs": {
           "r": 15
          },
          "value": null,
          "weight": 16,
          "x": 441.0663228780375,
          "xval": 20,
          "y": 453.552103175138,
          "yval": 42.85714285714286
         },
         "target": {
          "index": 19,
          "label": "h1,7",
          "label_display": "none",
          "px": 406.12365125440556,
          "py": 360.2290356712743,
          "shape": "circle",
          "shape_attrs": {
           "r": 15
          },
          "value": null,
          "weight": 21,
          "x": 406.00754537611,
          "xval": 40,
          "y": 359.89911539555226,
          "yval": 50
         },
         "value": 0
        },
        {
         "source": {
          "index": 7,
          "label": "x8",
          "label_display": "none",
          "px": 440.95655866442655,
          "py": 453.0521003818673,
          "shape": "circle",
          "shape_attrs": {
           "r": 15
          },
          "value": null,
          "weight": 16,
          "x": 440.3705425666714,
          "xval": 20,
          "y": 451.60136231213556,
          "yval": 42.85714285714286
         },
         "target": {
          "index": 20,
          "label": "h1,8",
          "label_display": "none",
          "px": 406.86806661745635,
          "py": 356.2069059337648,
          "shape": "circle",
          "shape_attrs": {
           "r": 15
          },
          "value": null,
          "weight": 21,
          "x": 407.2165557647141,
          "xval": 40,
          "y": 357.2572413547273,
          "yval": 42.85714285714286
         },
         "value": 0
        },
        {
         "source": {
          "index": 7,
          "label": "x8",
          "label_display": "none",
          "px": 440.95655866442655,
          "py": 453.0521003818673,
          "shape": "circle",
          "shape_attrs": {
           "r": 15
          },
          "value": null,
          "weight": 16,
          "x": 444.1686640710781,
          "xval": 20,
          "y": 458.2798450291157,
          "yval": 42.85714285714286
         },
         "target": {
          "index": 21,
          "label": "h1,9",
          "label_display": "none",
          "px": 393.22820764158945,
          "py": 377.50608378401296,
          "shape": "circle",
          "shape_attrs": {
           "r": 15
          },
          "value": null,
          "weight": 21,
          "x": 390.7540091140738,
          "xval": 40,
          "y": 373.7406550905029,
          "yval": 35.714285714285715
         },
         "value": 0
        },
        {
         "source": {
          "index": 7,
          "label": "x8",
          "label_display": "none",
          "px": 440.95655866442655,
          "py": 453.0521003818673,
          "shape": "circle",
          "shape_attrs": {
           "r": 15
          },
          "value": null,
          "weight": 16,
          "x": 443.1647739808165,
          "xval": 20,
          "y": 457.1337072472759,
          "yval": 42.85714285714286
         },
         "target": {
          "index": 22,
          "label": "h1,10",
          "label_display": "none",
          "px": 395.87039075856654,
          "py": 372.9114268783584,
          "shape": "circle",
          "shape_attrs": {
           "r": 15
          },
          "value": null,
          "weight": 21,
          "x": 394.1448874299157,
          "xval": 40,
          "y": 369.97264528567206,
          "yval": 28.571428571428573
         },
         "value": 0
        },
        {
         "source": {
          "index": 7,
          "label": "x8",
          "label_display": "none",
          "px": 440.95655866442655,
          "py": 453.0521003818673,
          "shape": "circle",
          "shape_attrs": {
           "r": 15
          },
          "value": null,
          "weight": 16,
          "x": 442.3717440548203,
          "xval": 20,
          "y": 456.0026033201726,
          "yval": 42.85714285714286
         },
         "target": {
          "index": 23,
          "label": "h1,11",
          "label_display": "none",
          "px": 398.1957801426253,
          "py": 368.98139086616504,
          "shape": "circle",
          "shape_attrs": {
           "r": 15
          },
          "value": null,
          "weight": 21,
          "x": 397.06182855514936,
          "xval": 40,
          "y": 366.8565907496252,
          "yval": 21.42857142857143
         },
         "value": 0
        },
        {
         "source": {
          "index": 7,
          "label": "x8",
          "label_display": "none",
          "px": 440.95655866442655,
          "py": 453.0521003818673,
          "shape": "circle",
          "shape_attrs": {
           "r": 15
          },
          "value": null,
          "weight": 16,
          "x": 441.8652993153112,
          "xval": 20,
          "y": 455.21271279974746,
          "yval": 42.85714285714286
         },
         "target": {
          "index": 24,
          "label": "h1,12",
          "label_display": "none",
          "px": 400.9303080338963,
          "py": 365.8562121758084,
          "shape": "circle",
          "shape_attrs": {
           "r": 15
          },
          "value": null,
          "weight": 21,
          "x": 400.18953141628015,
          "xval": 40,
          "y": 364.3109506061876,
          "yval": 14.285714285714286
         },
         "value": 0
        },
        {
         "source": {
          "index": 7,
          "label": "x8",
          "label_display": "none",
          "px": 440.95655866442655,
          "py": 453.0521003818673,
          "shape": "circle",
          "shape_attrs": {
           "r": 15
          },
          "value": null,
          "weight": 16,
          "x": 441.136859556158,
          "xval": 20,
          "y": 453.6667574851406,
          "yval": 42.85714285714286
         },
         "target": {
          "index": 25,
          "label": "h1,13",
          "label_display": "none",
          "px": 402.3694778941787,
          "py": 362.0275603700973,
          "shape": "circle",
          "shape_attrs": {
           "r": 15
          },
          "value": null,
          "weight": 21,
          "x": 402.1411968575896,
          "xval": 40,
          "y": 361.58343494156145,
          "yval": 7.142857142857143
         },
         "value": 0
        },
        {
         "source": {
          "index": 8,
          "label": "x9",
          "label_display": "none",
          "px": 446.9330536725921,
          "py": 450.43571346921055,
          "shape": "circle",
          "shape_attrs": {
           "r": 15
          },
          "value": null,
          "weight": 16,
          "x": 446.3753119784428,
          "xval": 20,
          "y": 449.1050961624244,
          "yval": 35.714285714285715
         },
         "target": {
          "fixed": 0,
          "index": 13,
          "label": "h1,1",
          "label_display": "none",
          "px": 410.67151187137154,
          "py": 354.5764240574521,
          "shape": "circle",
          "shape_attrs": {
           "r": 15
          },
          "value": null,
          "weight": 21,
          "x": 411.0697946288601,
          "xval": 40,
          "y": 355.5448458166609,
          "yval": 92.85714285714286
         },
         "value": 0
        },
        {
         "source": {
          "index": 8,
          "label": "x9",
          "label_display": "none",
          "px": 446.9330536725921,
          "py": 450.43571346921055,
          "shape": "circle",
          "shape_attrs": {
           "r": 15
          },
          "value": null,
          "weight": 16,
          "x": 451.2739524846987,
          "xval": 20,
          "y": 451.89787205438546,
          "yval": 35.714285714285715
         },
         "target": {
          "fixed": 0,
          "index": 14,
          "label": "h1,2",
          "label_display": "none",
          "px": 549.6411511118653,
          "py": 483.64056292330713,
          "shape": "circle",
          "shape_attrs": {
           "r": 15
          },
          "value": null,
          "weight": 21,
          "x": 546.4356928047041,
          "xval": 40,
          "y": 482.62641220078507,
          "yval": 85.71428571428572
         },
         "value": 0
        },
        {
         "source": {
          "index": 8,
          "label": "x9",
          "label_display": "none",
          "px": 446.9330536725921,
          "py": 450.43571346921055,
          "shape": "circle",
          "shape_attrs": {
           "r": 15
          },
          "value": null,
          "weight": 16,
          "x": 445.61562298667207,
          "xval": 20,
          "y": 444.423798427308,
          "yval": 35.714285714285715
         },
         "target": {
          "fixed": 0,
          "index": 15,
          "label": "h1,3",
          "label_display": "none",
          "px": 423.9570279545435,
          "py": 342.18972763411654,
          "shape": "circle",
          "shape_attrs": {
           "r": 15
          },
          "value": null,
          "weight": 21,
          "x": 424.9494957449503,
          "xval": 40,
          "y": 346.5825434007068,
          "yval": 78.57142857142857
         },
         "value": 0
        },
        {
         "source": {
          "index": 8,
          "label": "x9",
          "label_display": "none",
          "px": 446.9330536725921,
          "py": 450.43571346921055,
          "shape": "circle",
          "shape_attrs": {
           "r": 15
          },
          "value": null,
          "weight": 16,
          "x": 445.6639244604767,
          "xval": 20,
          "y": 445.74570165528837,
          "yval": 35.714285714285715
         },
         "target": {
          "fixed": 0,
          "index": 16,
          "label": "h1,4",
          "label_display": "none",
          "px": 419.57668467059693,
          "py": 345.52392632806783,
          "shape": "circle",
          "shape_attrs": {
           "r": 15
          },
          "value": null,
          "weight": 21,
          "x": 420.5047811291177,
          "xval": 40,
          "y": 348.96234819453093,
          "yval": 71.42857142857143
         },
         "value": 0
        },
        {
         "source": {
          "index": 8,
          "label": "x9",
          "label_display": "none",
          "px": 446.9330536725921,
          "py": 450.43571346921055,
          "shape": "circle",
          "shape_attrs": {
           "r": 15
          },
          "value": null,
          "weight": 16,
          "x": 445.81439113642557,
          "xval": 20,
          "y": 446.8894314519575,
          "yval": 35.714285714285715
         },
         "target": {
          "fixed": 0,
          "index": 17,
          "label": "h1,5",
          "label_display": "none",
          "px": 416.19040247227423,
          "py": 348.5344480037842,
          "shape": "circle",
          "shape_attrs": {
           "r": 15
          },
          "value": null,
          "weight": 21,
          "x": 417.00885715207136,
          "xval": 40,
          "y": 351.1280550411663,
          "yval": 64.28571428571429
         },
         "value": 0
        },
        {
         "source": {
          "index": 8,
          "label": "x9",
          "label_display": "none",
          "px": 446.9330536725921,
          "py": 450.43571346921055,
          "shape": "circle",
          "shape_attrs": {
           "r": 15
          },
          "value": null,
          "weight": 16,
          "x": 445.93198695046715,
          "xval": 20,
          "y": 447.6737791610718,
          "yval": 35.714285714285715
         },
         "target": {
          "index": 18,
          "label": "h1,6",
          "label_display": "none",
          "px": 412.7860589190273,
          "py": 351.06916053008825,
          "shape": "circle",
          "shape_attrs": {
           "r": 15
          },
          "value": null,
          "weight": 21,
          "x": 413.4946910979324,
          "xval": 40,
          "y": 353.08085216362815,
          "yval": 57.142857142857146
         },
         "value": 0
        },
        {
         "source": {
          "index": 8,
          "label": "x9",
          "label_display": "none",
          "px": 446.9330536725921,
          "py": 450.43571346921055,
          "shape": "circle",
          "shape_attrs": {
           "r": 15
          },
          "value": null,
          "weight": 16,
          "x": 447.1245583421684,
          "xval": 20,
          "y": 450.99083152407854,
          "yval": 35.714285714285715
         },
         "target": {
          "index": 19,
          "label": "h1,7",
          "label_display": "none",
          "px": 406.12365125440556,
          "py": 360.2290356712743,
          "shape": "circle",
          "shape_attrs": {
           "r": 15
          },
          "value": null,
          "weight": 21,
          "x": 405.9623083685612,
          "xval": 40,
          "y": 359.8553873923976,
          "yval": 50
         },
         "value": 0
        },
        {
         "source": {
          "index": 8,
          "label": "x9",
          "label_display": "none",
          "px": 446.9330536725921,
          "py": 450.43571346921055,
          "shape": "circle",
          "shape_attrs": {
           "r": 15
          },
          "value": null,
          "weight": 16,
          "x": 446.3348947057979,
          "xval": 20,
          "y": 449.16380353316447,
          "yval": 35.714285714285715
         },
         "target": {
          "index": 20,
          "label": "h1,8",
          "label_display": "none",
          "px": 406.86806661745635,
          "py": 356.2069059337648,
          "shape": "circle",
          "shape_attrs": {
           "r": 15
          },
          "value": null,
          "weight": 21,
          "x": 407.2404960248769,
          "xval": 40,
          "y": 357.1223563918975,
          "yval": 42.85714285714286
         },
         "value": 0
        },
        {
         "source": {
          "index": 8,
          "label": "x9",
          "label_display": "none",
          "px": 446.9330536725921,
          "py": 450.43571346921055,
          "shape": "circle",
          "shape_attrs": {
           "r": 15
          },
          "value": null,
          "weight": 16,
          "x": 450.11042554963166,
          "xval": 20,
          "y": 454.8474173244971,
          "yval": 35.714285714285715
         },
         "target": {
          "index": 21,
          "label": "h1,9",
          "label_display": "none",
          "px": 393.22820764158945,
          "py": 377.50608378401296,
          "shape": "circle",
          "shape_attrs": {
           "r": 15
          },
          "value": null,
          "weight": 21,
          "x": 390.7945951435884,
          "xval": 40,
          "y": 374.33883229821555,
          "yval": 35.714285714285715
         },
         "value": 0
        },
        {
         "source": {
          "index": 8,
          "label": "x9",
          "label_display": "none",
          "px": 446.9330536725921,
          "py": 450.43571346921055,
          "shape": "circle",
          "shape_attrs": {
           "r": 15
          },
          "value": null,
          "weight": 16,
          "x": 449.1585562499558,
          "xval": 20,
          "y": 453.9191982584758,
          "yval": 35.714285714285715
         },
         "target": {
          "index": 22,
          "label": "h1,10",
          "label_display": "none",
          "px": 395.87039075856654,
          "py": 372.9114268783584,
          "shape": "circle",
          "shape_attrs": {
           "r": 15
          },
          "value": null,
          "weight": 21,
          "x": 394.1471423057708,
          "xval": 40,
          "y": 370.41025062034487,
          "yval": 28.571428571428573
         },
         "value": 0
        },
        {
         "source": {
          "index": 8,
          "label": "x9",
          "label_display": "none",
          "px": 446.9330536725921,
          "py": 450.43571346921055,
          "shape": "circle",
          "shape_attrs": {
           "r": 15
          },
          "value": null,
          "weight": 16,
          "x": 448.38535720919833,
          "xval": 20,
          "y": 452.9743550479174,
          "yval": 35.714285714285715
         },
         "target": {
          "index": 23,
          "label": "h1,11",
          "label_display": "none",
          "px": 398.1957801426253,
          "py": 368.98139086616504,
          "shape": "circle",
          "shape_attrs": {
           "r": 15
          },
          "value": null,
          "weight": 21,
          "x": 397.049471182695,
          "xval": 40,
          "y": 367.1569511853606,
          "yval": 21.42857142857143
         },
         "value": 0
        },
        {
         "source": {
          "index": 8,
          "label": "x9",
          "label_display": "none",
          "px": 446.9330536725921,
          "py": 450.43571346921055,
          "shape": "circle",
          "shape_attrs": {
           "r": 15
          },
          "value": null,
          "weight": 16,
          "x": 447.9097571221426,
          "xval": 20,
          "y": 452.34978460652627,
          "yval": 35.714285714285715
         },
         "target": {
          "index": 24,
          "label": "h1,12",
          "label_display": "none",
          "px": 400.9303080338963,
          "py": 365.8562121758084,
          "shape": "circle",
          "shape_attrs": {
           "r": 15
          },
          "value": null,
          "weight": 21,
          "x": 400.1544463786093,
          "xval": 40,
          "y": 364.48949610444976,
          "yval": 14.285714285714286
         },
         "value": 0
        },
        {
         "source": {
          "index": 8,
          "label": "x9",
          "label_display": "none",
          "px": 446.9330536725921,
          "py": 450.43571346921055,
          "shape": "circle",
          "shape_attrs": {
           "r": 15
          },
          "value": null,
          "weight": 16,
          "x": 447.1335970974094,
          "xval": 20,
          "y": 450.9563328483115,
          "yval": 35.714285714285715
         },
         "target": {
          "index": 25,
          "label": "h1,13",
          "label_display": "none",
          "px": 402.3694778941787,
          "py": 362.0275603700973,
          "shape": "circle",
          "shape_attrs": {
           "r": 15
          },
          "value": null,
          "weight": 21,
          "x": 402.14127416197573,
          "xval": 40,
          "y": 361.6496092669168,
          "yval": 7.142857142857143
         },
         "value": 0
        },
        {
         "source": {
          "index": 9,
          "label": "x10",
          "label_display": "none",
          "px": 479.35945529056943,
          "py": 425.56685274819466,
          "shape": "circle",
          "shape_attrs": {
           "r": 15
          },
          "value": null,
          "weight": 16,
          "x": 479.84160299390857,
          "xval": 20,
          "y": 426.07122497714647,
          "yval": 28.571428571428573
         },
         "target": {
          "fixed": 0,
          "index": 13,
          "label": "h1,1",
          "label_display": "none",
          "px": 410.67151187137154,
          "py": 354.5764240574521,
          "shape": "circle",
          "shape_attrs": {
           "r": 15
          },
          "value": null,
          "weight": 21,
          "x": 410.3406879826741,
          "xval": 40,
          "y": 354.1711358773208,
          "yval": 92.85714285714286
         },
         "value": 0
        },
        {
         "source": {
          "index": 9,
          "label": "x10",
          "label_display": "none",
          "px": 479.35945529056943,
          "py": 425.56685274819466,
          "shape": "circle",
          "shape_attrs": {
           "r": 15
          },
          "value": null,
          "weight": 16,
          "x": 475.4586951047878,
          "xval": 20,
          "y": 422.35182464827477,
          "yval": 28.571428571428573
         },
         "target": {
          "fixed": 0,
          "index": 14,
          "label": "h1,2",
          "label_display": "none",
          "px": 549.6411511118653,
          "py": 483.64056292330713,
          "shape": "circle",
          "shape_attrs": {
           "r": 15
          },
          "value": null,
          "weight": 21,
          "x": 552.5456298127182,
          "xval": 40,
          "y": 486.05115350696207,
          "yval": 85.71428571428572
         },
         "value": 0
        },
        {
         "source": {
          "index": 9,
          "label": "x10",
          "label_display": "none",
          "px": 479.35945529056943,
          "py": 425.56685274819466,
          "shape": "circle",
          "shape_attrs": {
           "r": 15
          },
          "value": null,
          "weight": 16,
          "x": 479.3208597726073,
          "xval": 20,
          "y": 425.5080889340759,
          "yval": 28.571428571428573
         },
         "target": {
          "fixed": 0,
          "index": 15,
          "label": "h1,3",
          "label_display": "none",
          "px": 423.9570279545435,
          "py": 342.18972763411654,
          "shape": "circle",
          "shape_attrs": {
           "r": 15
          },
          "value": null,
          "weight": 21,
          "x": 424.0443235883982,
          "xval": 40,
          "y": 342.17439498330276,
          "yval": 78.57142857142857
         },
         "value": 0
        },
        {
         "source": {
          "index": 9,
          "label": "x10",
          "label_display": "none",
          "px": 479.35945529056943,
          "py": 425.56685274819466,
          "shape": "circle",
          "shape_attrs": {
           "r": 15
          },
          "value": null,
          "weight": 16,
          "x": 479.38710879223976,
          "xval": 20,
          "y": 425.6055160515253,
          "yval": 28.571428571428573
         },
         "target": {
          "fixed": 0,
          "index": 16,
          "label": "h1,4",
          "label_display": "none",
          "px": 419.57668467059693,
          "py": 345.52392632806783,
          "shape": "circle",
          "shape_attrs": {
           "r": 15
          },
          "value": null,
          "weight": 21,
          "x": 419.58638444965317,
          "xval": 40,
          "y": 345.45644638692943,
          "yval": 71.42857142857143
         },
         "value": 0
        },
        {
         "source": {
          "index": 9,
          "label": "x10",
          "label_display": "none",
          "px": 479.35945529056943,
          "py": 425.56685274819466,
          "shape": "circle",
          "shape_attrs": {
           "r": 15
          },
          "value": null,
          "weight": 16,
          "x": 479.4918813974811,
          "xval": 20,
          "y": 425.731674813762,
          "yval": 28.571428571428573
         },
         "target": {
          "fixed": 0,
          "index": 17,
          "label": "h1,5",
          "label_display": "none",
          "px": 416.19040247227423,
          "py": 348.5344480037842,
          "shape": "circle",
          "shape_attrs": {
           "r": 15
          },
          "value": null,
          "weight": 21,
          "x": 416.12412982722276,
          "xval": 40,
          "y": 348.37194329329117,
          "yval": 64.28571428571429
         },
         "value": 0
        },
        {
         "source": {
          "index": 9,
          "label": "x10",
          "label_display": "none",
          "px": 479.35945529056943,
          "py": 425.56685274819466,
          "shape": "circle",
          "shape_attrs": {
           "r": 15
          },
          "value": null,
          "weight": 16,
          "x": 479.3811099777517,
          "xval": 20,
          "y": 425.5955735495846,
          "yval": 28.571428571428573
         },
         "target": {
          "index": 18,
          "label": "h1,6",
          "label_display": "none",
          "px": 412.7860589190273,
          "py": 351.06916053008825,
          "shape": "circle",
          "shape_attrs": {
           "r": 15
          },
          "value": null,
          "weight": 21,
          "x": 412.7782345630874,
          "xval": 40,
          "y": 351.0029667678301,
          "yval": 57.142857142857146
         },
         "value": 0
        },
        {
         "source": {
          "index": 9,
          "label": "x10",
          "label_display": "none",
          "px": 479.35945529056943,
          "py": 425.56685274819466,
          "shape": "circle",
          "shape_attrs": {
           "r": 15
          },
          "value": null,
          "weight": 16,
          "x": 480.1618447813604,
          "xval": 20,
          "y": 426.2902973111118,
          "yval": 28.571428571428573
         },
         "target": {
          "index": 19,
          "label": "h1,7",
          "label_display": "none",
          "px": 406.12365125440556,
          "py": 360.2290356712743,
          "shape": "circle",
          "shape_attrs": {
           "r": 15
          },
          "value": null,
          "weight": 21,
          "x": 405.549310727038,
          "xval": 40,
          "y": 359.70974638268694,
          "yval": 50
         },
         "value": 0
        },
        {
         "source": {
          "index": 9,
          "label": "x10",
          "label_display": "none",
          "px": 479.35945529056943,
          "py": 425.56685274819466,
          "shape": "circle",
          "shape_attrs": {
           "r": 15
          },
          "value": null,
          "weight": 16,
          "x": 479.19769648870954,
          "xval": 20,
          "y": 425.4186139528464,
          "yval": 28.571428571428573
         },
         "target": {
          "index": 20,
          "label": "h1,8",
          "label_display": "none",
          "px": 406.86806661745635,
          "py": 356.2069059337648,
          "shape": "circle",
          "shape_attrs": {
           "r": 15
          },
          "value": null,
          "weight": 21,
          "x": 406.9560661751101,
          "xval": 40,
          "y": 356.2727764089498,
          "yval": 42.85714285714286
         },
         "value": 0
        },
        {
         "source": {
          "index": 9,
          "label": "x10",
          "label_display": "none",
          "px": 479.35945529056943,
          "py": 425.56685274819466,
          "shape": "circle",
          "shape_attrs": {
           "r": 15
          },
          "value": null,
          "weight": 16,
          "x": 480.032963493448,
          "xval": 20,
          "y": 425.9538979686414,
          "yval": 28.571428571428573
         },
         "target": {
          "index": 21,
          "label": "h1,9",
          "label_display": "none",
          "px": 393.22820764158945,
          "py": 377.50608378401296,
          "shape": "circle",
          "shape_attrs": {
           "r": 15
          },
          "value": null,
          "weight": 21,
          "x": 392.67667802358085,
          "xval": 40,
          "y": 377.28276290005914,
          "yval": 35.714285714285715
         },
         "value": 0
        },
        {
         "source": {
          "index": 9,
          "label": "x10",
          "label_display": "none",
          "px": 479.35945529056943,
          "py": 425.56685274819466,
          "shape": "circle",
          "shape_attrs": {
           "r": 15
          },
          "value": null,
          "weight": 16,
          "x": 479.9769200976084,
          "xval": 20,
          "y": 425.9667246272782,
          "yval": 28.571428571428573
         },
         "target": {
          "index": 22,
          "label": "h1,10",
          "label_display": "none",
          "px": 395.87039075856654,
          "py": 372.9114268783584,
          "shape": "circle",
          "shape_attrs": {
           "r": 15
          },
          "value": null,
          "weight": 21,
          "x": 395.3691421692299,
          "xval": 40,
          "y": 372.6607782987334,
          "yval": 28.571428571428573
         },
         "value": 0
        },
        {
         "source": {
          "index": 9,
          "label": "x10",
          "label_display": "none",
          "px": 479.35945529056943,
          "py": 425.56685274819466,
          "shape": "circle",
          "shape_attrs": {
           "r": 15
          },
          "value": null,
          "weight": 16,
          "x": 479.8462086377912,
          "xval": 20,
          "y": 425.91597789732305,
          "yval": 28.571428571428573
         },
         "target": {
          "index": 23,
          "label": "h1,11",
          "label_display": "none",
          "px": 398.1957801426253,
          "py": 368.98139086616504,
          "shape": "circle",
          "shape_attrs": {
           "r": 15
          },
          "value": null,
          "weight": 21,
          "x": 397.7980585910177,
          "xval": 40,
          "y": 368.7486701605635,
          "yval": 21.42857142857143
         },
         "value": 0
        },
        {
         "source": {
          "index": 9,
          "label": "x10",
          "label_display": "none",
          "px": 479.35945529056943,
          "py": 425.56685274819466,
          "shape": "circle",
          "shape_attrs": {
           "r": 15
          },
          "value": null,
          "weight": 16,
          "x": 480.0083501450631,
          "xval": 20,
          "y": 426.0698472071281,
          "yval": 28.571428571428573
         },
         "target": {
          "index": 24,
          "label": "h1,12",
          "label_display": "none",
          "px": 400.9303080338963,
          "py": 365.8562121758084,
          "shape": "circle",
          "shape_attrs": {
           "r": 15
          },
          "value": null,
          "weight": 21,
          "x": 400.43311837865014,
          "xval": 40,
          "y": 365.50762722406995,
          "yval": 14.285714285714286
         },
         "value": 0
        },
        {
         "source": {
          "index": 9,
          "label": "x10",
          "label_display": "none",
          "px": 479.35945529056943,
          "py": 425.56685274819466,
          "shape": "circle",
          "shape_attrs": {
           "r": 15
          },
          "value": null,
          "weight": 16,
          "x": 479.4144900789971,
          "xval": 20,
          "y": 425.6205743815585,
          "yval": 28.571428571428573
         },
         "target": {
          "index": 25,
          "label": "h1,13",
          "label_display": "none",
          "px": 402.3694778941787,
          "py": 362.0275603700973,
          "shape": "circle",
          "shape_attrs": {
           "r": 15
          },
          "value": null,
          "weight": 21,
          "x": 402.2856197196621,
          "xval": 40,
          "y": 361.97202878081504,
          "yval": 7.142857142857143
         },
         "value": 0
        },
        {
         "source": {
          "index": 10,
          "label": "x11",
          "label_display": "none",
          "px": 487.26136191337895,
          "py": 416.16690018596137,
          "shape": "circle",
          "shape_attrs": {
           "r": 15
          },
          "value": null,
          "weight": 16,
          "x": 488.0361993175,
          "xval": 20,
          "y": 416.78346117378504,
          "yval": 21.42857142857143
         },
         "target": {
          "fixed": 0,
          "index": 13,
          "label": "h1,1",
          "label_display": "none",
          "px": 410.67151187137154,
          "py": 354.5764240574521,
          "shape": "circle",
          "shape_attrs": {
           "r": 15
          },
          "value": null,
          "weight": 21,
          "x": 410.13381693096585,
          "xval": 40,
          "y": 354.08402881233883,
          "yval": 92.85714285714286
         },
         "value": 0
        },
        {
         "source": {
          "index": 10,
          "label": "x11",
          "label_display": "none",
          "px": 487.26136191337895,
          "py": 416.16690018596137,
          "shape": "circle",
          "shape_attrs": {
           "r": 15
          },
          "value": null,
          "weight": 16,
          "x": 484.1203812056392,
          "xval": 20,
          "y": 412.7544819152115,
          "yval": 21.42857142857143
         },
         "target": {
          "fixed": 0,
          "index": 14,
          "label": "h1,2",
          "label_display": "none",
          "px": 549.6411511118653,
          "py": 483.64056292330713,
          "shape": "circle",
          "shape_attrs": {
           "r": 15
          },
          "value": null,
          "weight": 21,
          "x": 551.9945869438684,
          "xval": 40,
          "y": 486.1921574989325,
          "yval": 85.71428571428572
         },
         "value": 0
        },
        {
         "source": {
          "index": 10,
          "label": "x11",
          "label_display": "none",
          "px": 487.26136191337895,
          "py": 416.16690018596137,
          "shape": "circle",
          "shape_attrs": {
           "r": 15
          },
          "value": null,
          "weight": 16,
          "x": 488.2531522365168,
          "xval": 20,
          "y": 417.3115038247532,
          "yval": 21.42857142857143
         },
         "target": {
          "fixed": 0,
          "index": 15,
          "label": "h1,3",
          "label_display": "none",
          "px": 423.9570279545435,
          "py": 342.18972763411654,
          "shape": "circle",
          "shape_attrs": {
           "r": 15
          },
          "value": null,
          "weight": 21,
          "x": 423.2938863242152,
          "xval": 40,
          "y": 341.2832605723249,
          "yval": 78.57142857142857
         },
         "value": 0
        },
        {
         "source": {
          "index": 10,
          "label": "x11",
          "label_display": "none",
          "px": 487.26136191337895,
          "py": 416.16690018596137,
          "shape": "circle",
          "shape_attrs": {
           "r": 15
          },
          "value": null,
          "weight": 16,
          "x": 488.1281600838134,
          "xval": 20,
          "y": 417.05932208549046,
          "yval": 21.42857142857143
         },
         "target": {
          "fixed": 0,
          "index": 16,
          "label": "h1,4",
          "label_display": "none",
          "px": 419.57668467059693,
          "py": 345.52392632806783,
          "shape": "circle",
          "shape_attrs": {
           "r": 15
          },
          "value": null,
          "weight": 21,
          "x": 418.97686189822974,
          "xval": 40,
          "y": 344.82291880307736,
          "yval": 71.42857142857143
         },
         "value": 0
        },
        {
         "source": {
          "index": 10,
          "label": "x11",
          "label_display": "none",
          "px": 487.26136191337895,
          "py": 416.16690018596137,
          "shape": "circle",
          "shape_attrs": {
           "r": 15
          },
          "value": null,
          "weight": 16,
          "x": 488.05441777623486,
          "xval": 20,
          "y": 416.91156299393714,
          "yval": 21.42857142857143
         },
         "target": {
          "fixed": 0,
          "index": 17,
          "label": "h1,5",
          "label_display": "none",
          "px": 416.19040247227423,
          "py": 348.5344480037842,
          "shape": "circle",
          "shape_attrs": {
           "r": 15
          },
          "value": null,
          "weight": 21,
          "x": 415.6461447337418,
          "xval": 40,
          "y": 347.94025015342686,
          "yval": 64.28571428571429
         },
         "value": 0
        },
        {
         "source": {
          "index": 10,
          "label": "x11",
          "label_display": "none",
          "px": 487.26136191337895,
          "py": 416.16690018596137,
          "shape": "circle",
          "shape_attrs": {
           "r": 15
          },
          "value": null,
          "weight": 16,
          "x": 487.72708835547974,
          "xval": 20,
          "y": 416.56548272465153,
          "yval": 21.42857142857143
         },
         "target": {
          "index": 18,
          "label": "h1,6",
          "label_display": "none",
          "px": 412.7860589190273,
          "py": 351.06916053008825,
          "shape": "circle",
          "shape_attrs": {
           "r": 15
          },
          "value": null,
          "weight": 21,
          "x": 412.4598187095204,
          "xval": 40,
          "y": 350.72599518101083,
          "yval": 57.142857142857146
         },
         "value": 0
        },
        {
         "source": {
          "index": 10,
          "label": "x11",
          "label_display": "none",
          "px": 487.26136191337895,
          "py": 416.16690018596137,
          "shape": "circle",
          "shape_attrs": {
           "r": 15
          },
          "value": null,
          "weight": 16,
          "x": 487.96253326770756,
          "xval": 20,
          "y": 416.6461268199448,
          "yval": 21.42857142857143
         },
         "target": {
          "index": 19,
          "label": "h1,7",
          "label_display": "none",
          "px": 406.12365125440556,
          "py": 360.2290356712743,
          "shape": "circle",
          "shape_attrs": {
           "r": 15
          },
          "value": null,
          "weight": 21,
          "x": 405.63268789468754,
          "xval": 40,
          "y": 359.8852550788587,
          "yval": 50
         },
         "value": 0
        },
        {
         "source": {
          "index": 10,
          "label": "x11",
          "label_display": "none",
          "px": 487.26136191337895,
          "py": 416.16690018596137,
          "shape": "circle",
          "shape_attrs": {
           "r": 15
          },
          "value": null,
          "weight": 16,
          "x": 487.10828831247386,
          "xval": 20,
          "y": 416.04709427564865,
          "yval": 21.42857142857143
         },
         "target": {
          "index": 20,
          "label": "h1,8",
          "label_display": "none",
          "px": 406.86806661745635,
          "py": 356.2069059337648,
          "shape": "circle",
          "shape_attrs": {
           "r": 15
          },
          "value": null,
          "weight": 21,
          "x": 406.9584618415799,
          "xval": 40,
          "y": 356.2473842705143,
          "yval": 42.85714285714286
         },
         "value": 0
        },
        {
         "source": {
          "index": 10,
          "label": "x11",
          "label_display": "none",
          "px": 487.26136191337895,
          "py": 416.16690018596137,
          "shape": "circle",
          "shape_attrs": {
           "r": 15
          },
          "value": null,
          "weight": 16,
          "x": 486.35931659390747,
          "xval": 20,
          "y": 415.79950082117955,
          "yval": 21.42857142857143
         },
         "target": {
          "index": 21,
          "label": "h1,9",
          "label_display": "none",
          "px": 393.22820764158945,
          "py": 377.50608378401296,
          "shape": "circle",
          "shape_attrs": {
           "r": 15
          },
          "value": null,
          "weight": 21,
          "x": 393.8464088507166,
          "xval": 40,
          "y": 377.83422851928856,
          "yval": 35.714285714285715
         },
         "value": 0
        },
        {
         "source": {
          "index": 10,
          "label": "x11",
          "label_display": "none",
          "px": 487.26136191337895,
          "py": 416.16690018596137,
          "shape": "circle",
          "shape_attrs": {
           "r": 15
          },
          "value": null,
          "weight": 16,
          "x": 486.6739732796626,
          "xval": 20,
          "y": 415.89046779008726,
          "yval": 21.42857142857143
         },
         "target": {
          "index": 22,
          "label": "h1,10",
          "label_display": "none",
          "px": 395.87039075856654,
          "py": 372.9114268783584,
          "shape": "circle",
          "shape_attrs": {
           "r": 15
          },
          "value": null,
          "weight": 21,
          "x": 396.26572524852924,
          "xval": 40,
          "y": 373.1546667799331,
          "yval": 28.571428571428573
         },
         "value": 0
        },
        {
         "source": {
          "index": 10,
          "label": "x11",
          "label_display": "none",
          "px": 487.26136191337895,
          "py": 416.16690018596137,
          "shape": "circle",
          "shape_attrs": {
           "r": 15
          },
          "value": null,
          "weight": 16,
          "x": 486.84929064725685,
          "xval": 20,
          "y": 415.94857071254796,
          "yval": 21.42857142857143
         },
         "target": {
          "index": 23,
          "label": "h1,11",
          "label_display": "none",
          "px": 398.1957801426253,
          "py": 368.98139086616504,
          "shape": "circle",
          "shape_attrs": {
           "r": 15
          },
          "value": null,
          "weight": 21,
          "x": 398.46914648126494,
          "xval": 40,
          "y": 369.16235354096506,
          "yval": 21.42857142857143
         },
         "value": 0
        },
        {
         "source": {
          "index": 10,
          "label": "x11",
          "label_display": "none",
          "px": 487.26136191337895,
          "py": 416.16690018596137,
          "shape": "circle",
          "shape_attrs": {
           "r": 15
          },
          "value": null,
          "weight": 16,
          "x": 487.301296982307,
          "xval": 20,
          "y": 416.18864665867585,
          "yval": 21.42857142857143
         },
         "target": {
          "index": 24,
          "label": "h1,12",
          "label_display": "none",
          "px": 400.9303080338963,
          "py": 365.8562121758084,
          "shape": "circle",
          "shape_attrs": {
           "r": 15
          },
          "value": null,
          "weight": 21,
          "x": 400.8906214092843,
          "xval": 40,
          "y": 365.85778985082453,
          "yval": 14.285714285714286
         },
         "value": 0
        },
        {
         "source": {
          "index": 10,
          "label": "x11",
          "label_display": "none",
          "px": 487.26136191337895,
          "py": 416.16690018596137,
          "shape": "circle",
          "shape_attrs": {
           "r": 15
          },
          "value": null,
          "weight": 16,
          "x": 486.9101302836753,
          "xval": 20,
          "y": 415.9400397537482,
          "yval": 21.42857142857143
         },
         "target": {
          "index": 25,
          "label": "h1,13",
          "label_display": "none",
          "px": 402.3694778941787,
          "py": 362.0275603700973,
          "shape": "circle",
          "shape_attrs": {
           "r": 15
          },
          "value": null,
          "weight": 21,
          "x": 402.5937695681306,
          "xval": 40,
          "y": 362.17433213530916,
          "yval": 7.142857142857143
         },
         "value": 0
        },
        {
         "source": {
          "index": 11,
          "label": "x12",
          "label_display": "none",
          "px": 461.56896991967596,
          "py": 441.678275691897,
          "shape": "circle",
          "shape_attrs": {
           "r": 15
          },
          "value": null,
          "weight": 16,
          "x": 461.28492873673576,
          "xval": 20,
          "y": 441.24754576019245,
          "yval": 14.285714285714286
         },
         "target": {
          "fixed": 0,
          "index": 13,
          "label": "h1,1",
          "label_display": "none",
          "px": 410.67151187137154,
          "py": 354.5764240574521,
          "shape": "circle",
          "shape_attrs": {
           "r": 15
          },
          "value": null,
          "weight": 21,
          "x": 410.8884643336901,
          "xval": 40,
          "y": 354.87511742971526,
          "yval": 92.85714285714286
         },
         "value": 0
        },
        {
         "source": {
          "index": 11,
          "label": "x12",
          "label_display": "none",
          "px": 461.56896991967596,
          "py": 441.678275691897,
          "shape": "circle",
          "shape_attrs": {
           "r": 15
          },
          "value": null,
          "weight": 16,
          "x": 460.30135237583625,
          "xval": 20,
          "y": 441.1186895381023,
          "yval": 14.285714285714286
         },
         "target": {
          "fixed": 0,
          "index": 14,
          "label": "h1,2",
          "label_display": "none",
          "px": 549.6411511118653,
          "py": 483.64056292330713,
          "shape": "circle",
          "shape_attrs": {
           "r": 15
          },
          "value": null,
          "weight": 21,
          "x": 550.5886326360563,
          "xval": 40,
          "y": 484.10946788803983,
          "yval": 85.71428571428572
         },
         "value": 0
        },
        {
         "source": {
          "index": 11,
          "label": "x12",
          "label_display": "none",
          "px": 461.56896991967596,
          "py": 441.678275691897,
          "shape": "circle",
          "shape_attrs": {
           "r": 15
          },
          "value": null,
          "weight": 16,
          "x": 460.2501250718705,
          "xval": 20,
          "y": 438.24557531158837,
          "yval": 14.285714285714286
         },
         "target": {
          "fixed": 0,
          "index": 15,
          "label": "h1,3",
          "label_display": "none",
          "px": 423.9570279545435,
          "py": 342.18972763411654,
          "shape": "circle",
          "shape_attrs": {
           "r": 15
          },
          "value": null,
          "weight": 21,
          "x": 424.97088176165744,
          "xval": 40,
          "y": 344.67541451409204,
          "yval": 78.57142857142857
         },
         "value": 0
        },
        {
         "source": {
          "index": 11,
          "label": "x12",
          "label_display": "none",
          "px": 461.56896991967596,
          "py": 441.678275691897,
          "shape": "circle",
          "shape_attrs": {
           "r": 15
          },
          "value": null,
          "weight": 16,
          "x": 460.4095237062228,
          "xval": 20,
          "y": 439.0806337452801,
          "yval": 14.285714285714286
         },
         "target": {
          "fixed": 0,
          "index": 16,
          "label": "h1,4",
          "label_display": "none",
          "px": 419.57668467059693,
          "py": 345.52392632806783,
          "shape": "circle",
          "shape_attrs": {
           "r": 15
          },
          "value": null,
          "weight": 21,
          "x": 420.44430598446644,
          "xval": 40,
          "y": 347.413947470408,
          "yval": 71.42857142857143
         },
         "value": 0
        },
        {
         "source": {
          "index": 11,
          "label": "x12",
          "label_display": "none",
          "px": 461.56896991967596,
          "py": 441.678275691897,
          "shape": "circle",
          "shape_attrs": {
           "r": 15
          },
          "value": null,
          "weight": 16,
          "x": 460.63227991190263,
          "xval": 20,
          "y": 439.81176198152366,
          "yval": 14.285714285714286
         },
         "target": {
          "fixed": 0,
          "index": 17,
          "label": "h1,5",
          "label_display": "none",
          "px": 416.19040247227423,
          "py": 348.5344480037842,
          "shape": "circle",
          "shape_attrs": {
           "r": 15
          },
          "value": null,
          "weight": 21,
          "x": 416.8951159758801,
          "xval": 40,
          "y": 349.8836768748466,
          "yval": 64.28571428571429
         },
         "value": 0
        },
        {
         "source": {
          "index": 11,
          "label": "x12",
          "label_display": "none",
          "px": 461.56896991967596,
          "py": 441.678275691897,
          "shape": "circle",
          "shape_attrs": {
           "r": 15
          },
          "value": null,
          "weight": 16,
          "x": 460.7440805560414,
          "xval": 20,
          "y": 440.2017057467041,
          "yval": 14.285714285714286
         },
         "target": {
          "index": 18,
          "label": "h1,6",
          "label_display": "none",
          "px": 412.7860589190273,
          "py": 351.06916053008825,
          "shape": "circle",
          "shape_attrs": {
           "r": 15
          },
          "value": null,
          "weight": 21,
          "x": 413.38522005192493,
          "xval": 40,
          "y": 352.1270877693927,
          "yval": 57.142857142857146
         },
         "value": 0
        },
        {
         "source": {
          "index": 11,
          "label": "x12",
          "label_display": "none",
          "px": 461.56896991967596,
          "py": 441.678275691897,
          "shape": "circle",
          "shape_attrs": {
           "r": 15
          },
          "value": null,
          "weight": 16,
          "x": 462.02772350854764,
          "xval": 20,
          "y": 442.4064187334113,
          "yval": 14.285714285714286
         },
         "target": {
          "index": 19,
          "label": "h1,7",
          "label_display": "none",
          "px": 406.12365125440556,
          "py": 360.2290356712743,
          "shape": "circle",
          "shape_attrs": {
           "r": 15
          },
          "value": null,
          "weight": 21,
          "x": 405.7857318835178,
          "xval": 40,
          "y": 359.72124244404966,
          "yval": 50
         },
         "value": 0
        },
        {
         "source": {
          "index": 11,
          "label": "x12",
          "label_display": "none",
          "px": 461.56896991967596,
          "py": 441.678275691897,
          "shape": "circle",
          "shape_attrs": {
           "r": 15
          },
          "value": null,
          "weight": 16,
          "x": 461.0705789138176,
          "xval": 20,
          "y": 440.95369736976573,
          "yval": 14.285714285714286
         },
         "target": {
          "index": 20,
          "label": "h1,8",
          "label_display": "none",
          "px": 406.86806661745635,
          "py": 356.2069059337648,
          "shape": "circle",
          "shape_attrs": {
           "r": 15
          },
          "value": null,
          "weight": 21,
          "x": 407.18732670603686,
          "xval": 40,
          "y": 356.7124062378977,
          "yval": 42.85714285714286
         },
         "value": 0
        },
        {
         "source": {
          "index": 11,
          "label": "x12",
          "label_display": "none",
          "px": 461.56896991967596,
          "py": 441.678275691897,
          "shape": "circle",
          "shape_attrs": {
           "r": 15
          },
          "value": null,
          "weight": 16,
          "x": 464.1703843867101,
          "xval": 20,
          "y": 444.1672272923068,
          "yval": 14.285714285714286
         },
         "target": {
          "index": 21,
          "label": "h1,9",
          "label_display": "none",
          "px": 393.22820764158945,
          "py": 377.50608378401296,
          "shape": "circle",
          "shape_attrs": {
           "r": 15
          },
          "value": null,
          "weight": 21,
          "x": 391.2393293116746,
          "xval": 40,
          "y": 375.7489460698222,
          "yval": 35.714285714285715
         },
         "value": 0
        },
        {
         "source": {
          "index": 11,
          "label": "x12",
          "label_display": "none",
          "px": 461.56896991967596,
          "py": 441.678275691897,
          "shape": "circle",
          "shape_attrs": {
           "r": 15
          },
          "value": null,
          "weight": 16,
          "x": 463.49082760951643,
          "xval": 20,
          "y": 443.7383116682405,
          "yval": 14.285714285714286
         },
         "target": {
          "index": 22,
          "label": "h1,10",
          "label_display": "none",
          "px": 395.87039075856654,
          "py": 372.9114268783584,
          "shape": "circle",
          "shape_attrs": {
           "r": 15
          },
          "value": null,
          "weight": 21,
          "x": 394.39122490695166,
          "xval": 40,
          "y": 371.45245616255323,
          "yval": 28.571428571428573
         },
         "value": 0
        },
        {
         "source": {
          "index": 11,
          "label": "x12",
          "label_display": "none",
          "px": 461.56896991967596,
          "py": 441.678275691897,
          "shape": "circle",
          "shape_attrs": {
           "r": 15
          },
          "value": null,
          "weight": 16,
          "x": 462.88772177084417,
          "xval": 20,
          "y": 443.2412622944563,
          "yval": 14.285714285714286
         },
         "target": {
          "index": 23,
          "label": "h1,11",
          "label_display": "none",
          "px": 398.1957801426253,
          "py": 368.98139086616504,
          "shape": "circle",
          "shape_attrs": {
           "r": 15
          },
          "value": null,
          "weight": 21,
          "x": 397.16822180425413,
          "xval": 40,
          "y": 367.86920298845916,
          "yval": 21.42857142857143
         },
         "value": 0
        },
        {
         "source": {
          "index": 11,
          "label": "x12",
          "label_display": "none",
          "px": 461.56896991967596,
          "py": 441.678275691897,
          "shape": "circle",
          "shape_attrs": {
           "r": 15
          },
          "value": null,
          "weight": 16,
          "x": 462.59335524274235,
          "xval": 20,
          "y": 443.0108432300485,
          "yval": 14.285714285714286
         },
         "target": {
          "index": 24,
          "label": "h1,12",
          "label_display": "none",
          "px": 400.9303080338963,
          "py": 365.8562121758084,
          "shape": "circle",
          "shape_attrs": {
           "r": 15
          },
          "value": null,
          "weight": 21,
          "x": 400.13965632694186,
          "xval": 40,
          "y": 364.91132023764754,
          "yval": 14.285714285714286
         },
         "value": 0
        },
        {
         "source": {
          "index": 11,
          "label": "x12",
          "label_display": "none",
          "px": 461.56896991967596,
          "py": 441.678275691897,
          "shape": "circle",
          "shape_attrs": {
           "r": 15
          },
          "value": null,
          "weight": 16,
          "x": 461.79184870849474,
          "xval": 20,
          "y": 442.0306762483606,
          "yval": 14.285714285714286
         },
         "target": {
          "index": 25,
          "label": "h1,13",
          "label_display": "none",
          "px": 402.3694778941787,
          "py": 362.0275603700973,
          "shape": "circle",
          "shape_attrs": {
           "r": 15
          },
          "value": null,
          "weight": 21,
          "x": 402.1451605075722,
          "xval": 40,
          "y": 361.7669074193316,
          "yval": 7.142857142857143
         },
         "value": 0
        },
        {
         "source": {
          "index": 12,
          "label": "x13",
          "label_display": "none",
          "px": 490.67190679337733,
          "py": 411.3413174695114,
          "shape": "circle",
          "shape_attrs": {
           "r": 15
          },
          "value": null,
          "weight": 16,
          "x": 491.57399732978087,
          "xval": 20,
          "y": 411.97183370527034,
          "yval": 7.142857142857143
         },
         "target": {
          "fixed": 0,
          "index": 13,
          "label": "h1,1",
          "label_display": "none",
          "px": 410.67151187137154,
          "py": 354.5764240574521,
          "shape": "circle",
          "shape_attrs": {
           "r": 15
          },
          "value": null,
          "weight": 21,
          "x": 410.04182294443626,
          "xval": 40,
          "y": 354.07101730397164,
          "yval": 92.85714285714286
         },
         "value": 0
        },
        {
         "source": {
          "index": 12,
          "label": "x13",
          "label_display": "none",
          "px": 490.67190679337733,
          "py": 411.3413174695114,
          "shape": "circle",
          "shape_attrs": {
           "r": 15
          },
          "value": null,
          "weight": 16,
          "x": 488.26456558824026,
          "xval": 20,
          "y": 408.3644758066221,
          "yval": 7.142857142857143
         },
         "target": {
          "fixed": 0,
          "index": 14,
          "label": "h1,2",
          "label_display": "none",
          "px": 549.6411511118653,
          "py": 483.64056292330713,
          "shape": "circle",
          "shape_attrs": {
           "r": 15
          },
          "value": null,
          "weight": 21,
          "x": 551.455781425334,
          "xval": 40,
          "y": 485.86847725694196,
          "yval": 85.71428571428572
         },
         "value": 0
        },
        {
         "source": {
          "index": 12,
          "label": "x13",
          "label_display": "none",
          "px": 490.67190679337733,
          "py": 411.3413174695114,
          "shape": "circle",
          "shape_attrs": {
           "r": 15
          },
          "value": null,
          "weight": 16,
          "x": 492.24456071932997,
          "xval": 20,
          "y": 412.95479621254015,
          "yval": 7.142857142857143
         },
         "target": {
          "fixed": 0,
          "index": 15,
          "label": "h1,3",
          "label_display": "none",
          "px": 423.9570279545435,
          "py": 342.18972763411654,
          "shape": "circle",
          "shape_attrs": {
           "r": 15
          },
          "value": null,
          "weight": 21,
          "x": 422.86765265290256,
          "xval": 40,
          "y": 340.9350445674804,
          "yval": 78.57142857142857
         },
         "value": 0
        },
        {
         "source": {
          "index": 12,
          "label": "x13",
          "label_display": "none",
          "px": 490.67190679337733,
          "py": 411.3413174695114,
          "shape": "circle",
          "shape_attrs": {
           "r": 15
          },
          "value": null,
          "weight": 16,
          "x": 491.9953528482427,
          "xval": 20,
          "y": 412.551525982577,
          "yval": 7.142857142857143
         },
         "target": {
          "fixed": 0,
          "index": 16,
          "label": "h1,4",
          "label_display": "none",
          "px": 419.57668467059693,
          "py": 345.52392632806783,
          "shape": "circle",
          "shape_attrs": {
           "r": 15
          },
          "value": null,
          "weight": 21,
          "x": 418.6421557053473,
          "xval": 40,
          "y": 344.5860312899373,
          "yval": 71.42857142857143
         },
         "value": 0
        },
        {
         "source": {
          "index": 12,
          "label": "x13",
          "label_display": "none",
          "px": 490.67190679337733,
          "py": 411.3413174695114,
          "shape": "circle",
          "shape_attrs": {
           "r": 15
          },
          "value": null,
          "weight": 16,
          "x": 491.8107622244043,
          "xval": 20,
          "y": 412.28879953695423,
          "yval": 7.142857142857143
         },
         "target": {
          "fixed": 0,
          "index": 17,
          "label": "h1,5",
          "label_display": "none",
          "px": 416.19040247227423,
          "py": 348.5344480037842,
          "shape": "circle",
          "shape_attrs": {
           "r": 15
          },
          "value": null,
          "weight": 21,
          "x": 415.39311634305415,
          "xval": 40,
          "y": 347.78807552652154,
          "yval": 64.28571428571429
         },
         "value": 0
        },
        {
         "source": {
          "index": 12,
          "label": "x13",
          "label_display": "none",
          "px": 490.67190679337733,
          "py": 411.3413174695114,
          "shape": "circle",
          "shape_attrs": {
           "r": 15
          },
          "value": null,
          "weight": 16,
          "x": 491.3603041486759,
          "xval": 20,
          "y": 411.86257221863536,
          "yval": 7.142857142857143
         },
         "target": {
          "index": 18,
          "label": "h1,6",
          "label_display": "none",
          "px": 412.7860589190273,
          "py": 351.06916053008825,
          "shape": "circle",
          "shape_attrs": {
           "r": 15
          },
          "value": null,
          "weight": 21,
          "x": 412.29751680223654,
          "xval": 40,
          "y": 350.632876343478,
          "yval": 57.142857142857146
         },
         "value": 0
        },
        {
         "source": {
          "index": 12,
          "label": "x13",
          "label_display": "none",
          "px": 490.67190679337733,
          "py": 411.3413174695114,
          "shape": "circle",
          "shape_attrs": {
           "r": 15
          },
          "value": null,
          "weight": 16,
          "x": 491.2810525170526,
          "xval": 20,
          "y": 411.7023274755804,
          "yval": 7.142857142857143
         },
         "target": {
          "index": 19,
          "label": "h1,7",
          "label_display": "none",
          "px": 406.12365125440556,
          "py": 360.2290356712743,
          "shape": "circle",
          "shape_attrs": {
           "r": 15
          },
          "value": null,
          "weight": 21,
          "x": 405.70226792234917,
          "xval": 40,
          "y": 359.9696334875929,
          "yval": 50
         },
         "value": 0
        },
        {
         "source": {
          "index": 12,
          "label": "x13",
          "label_display": "none",
          "px": 490.67190679337733,
          "py": 411.3413174695114,
          "shape": "circle",
          "shape_attrs": {
           "r": 15
          },
          "value": null,
          "weight": 16,
          "x": 490.50326521653693,
          "xval": 20,
          "y": 411.2216355868507,
          "yval": 7.142857142857143
         },
         "target": {
          "index": 20,
          "label": "h1,8",
          "label_display": "none",
          "px": 406.86806661745635,
          "py": 356.2069059337648,
          "shape": "circle",
          "shape_attrs": {
           "r": 15
          },
          "value": null,
          "weight": 21,
          "x": 406.971704584121,
          "xval": 40,
          "y": 356.2445641995319,
          "yval": 42.85714285714286
         },
         "value": 0
        },
        {
         "source": {
          "index": 12,
          "label": "x13",
          "label_display": "none",
          "px": 490.67190679337733,
          "py": 411.3413174695114,
          "shape": "circle",
          "shape_attrs": {
           "r": 15
          },
          "value": null,
          "weight": 16,
          "x": 488.9446022340019,
          "xval": 20,
          "y": 410.7426351211824,
          "yval": 7.142857142857143
         },
         "target": {
          "index": 21,
          "label": "h1,9",
          "label_display": "none",
          "px": 393.22820764158945,
          "py": 377.50608378401296,
          "shape": "circle",
          "shape_attrs": {
           "r": 15
          },
          "value": null,
          "weight": 21,
          "x": 394.45626690622214,
          "xval": 40,
          "y": 378.00191907692886,
          "yval": 35.714285714285715
         },
         "value": 0
        },
        {
         "source": {
          "index": 12,
          "label": "x13",
          "label_display": "none",
          "px": 490.67190679337733,
          "py": 411.3413174695114,
          "shape": "circle",
          "shape_attrs": {
           "r": 15
          },
          "value": null,
          "weight": 16,
          "x": 489.4376337828279,
          "xval": 20,
          "y": 410.83992801799434,
          "yval": 7.142857142857143
         },
         "target": {
          "index": 22,
          "label": "h1,10",
          "label_display": "none",
          "px": 395.87039075856654,
          "py": 372.9114268783584,
          "shape": "circle",
          "shape_attrs": {
           "r": 15
          },
          "value": null,
          "weight": 21,
          "x": 396.7441490407642,
          "xval": 40,
          "y": 373.31769612208944,
          "yval": 28.571428571428573
         },
         "value": 0
        },
        {
         "source": {
          "index": 12,
          "label": "x13",
          "label_display": "none",
          "px": 490.67190679337733,
          "py": 411.3413174695114,
          "shape": "circle",
          "shape_attrs": {
           "r": 15
          },
          "value": null,
          "weight": 16,
          "x": 489.76482431876786,
          "xval": 20,
          "y": 410.9229653670305,
          "yval": 7.142857142857143
         },
         "target": {
          "index": 23,
          "label": "h1,11",
          "label_display": "none",
          "px": 398.1957801426253,
          "py": 368.98139086616504,
          "shape": "circle",
          "shape_attrs": {
           "r": 15
          },
          "value": null,
          "weight": 21,
          "x": 398.835663597591,
          "xval": 40,
          "y": 369.3070101262733,
          "yval": 21.42857142857143
         },
         "value": 0
        },
        {
         "source": {
          "index": 12,
          "label": "x13",
          "label_display": "none",
          "px": 490.67190679337733,
          "py": 411.3413174695114,
          "shape": "circle",
          "shape_attrs": {
           "r": 15
          },
          "value": null,
          "weight": 16,
          "x": 490.35979455269467,
          "xval": 20,
          "y": 411.17867829059776,
          "yval": 7.142857142857143
         },
         "target": {
          "index": 24,
          "label": "h1,12",
          "label_display": "none",
          "px": 400.9303080338963,
          "py": 365.8562121758084,
          "shape": "circle",
          "shape_attrs": {
           "r": 15
          },
          "value": null,
          "weight": 21,
          "x": 401.15179658224895,
          "xval": 40,
          "y": 365.99092443928794,
          "yval": 14.285714285714286
         },
         "value": 0
        },
        {
         "source": {
          "index": 12,
          "label": "x13",
          "label_display": "none",
          "px": 490.67190679337733,
          "py": 411.3413174695114,
          "shape": "circle",
          "shape_attrs": {
           "r": 15
          },
          "value": null,
          "weight": 16,
          "x": 490.08167069167484,
          "xval": 20,
          "y": 411.0057690130154,
          "yval": 7.142857142857143
         },
         "target": {
          "index": 25,
          "label": "h1,13",
          "label_display": "none",
          "px": 402.3694778941787,
          "py": 362.0275603700973,
          "shape": "circle",
          "shape_attrs": {
           "r": 15
          },
          "value": null,
          "weight": 21,
          "x": 402.77164992127695,
          "xval": 40,
          "y": 362.25168945947644,
          "yval": 7.142857142857143
         },
         "value": 0
        },
        {
         "source": {
          "fixed": 0,
          "index": 13,
          "label": "h1,1",
          "label_display": "none",
          "px": 410.67151187137154,
          "py": 354.5764240574521,
          "shape": "circle",
          "shape_attrs": {
           "r": 15
          },
          "value": null,
          "weight": 21,
          "x": 409.5979321839718,
          "xval": 40,
          "y": 354.153590775156,
          "yval": 92.85714285714286
         },
         "target": {
          "fixed": 0,
          "index": 26,
          "label": "h2,1",
          "label_display": "none",
          "px": 502.71457284978436,
          "py": 386.3127570622258,
          "shape": "circle",
          "shape_attrs": {
           "r": 15
          },
          "value": null,
          "weight": 17,
          "x": 504.1397480938679,
          "xval": 60,
          "y": 386.73955469175786,
          "yval": 83.33333333333334
         },
         "value": 0
        },
        {
         "source": {
          "fixed": 0,
          "index": 13,
          "label": "h1,1",
          "label_display": "none",
          "px": 410.67151187137154,
          "py": 354.5764240574521,
          "shape": "circle",
          "shape_attrs": {
           "r": 15
          },
          "value": null,
          "weight": 21,
          "x": 409.7125594939096,
          "xval": 40,
          "y": 354.1272398401751,
          "yval": 92.85714285714286
         },
         "target": {
          "index": 27,
          "label": "h2,2",
          "label_display": "none",
          "px": 500.8845853659508,
          "py": 391.76683097070213,
          "shape": "circle",
          "shape_attrs": {
           "r": 15
          },
          "value": null,
          "weight": 17,
          "x": 502.1628030473169,
          "xval": 60,
          "y": 392.2448534438315,
          "yval": 66.66666666666667
         },
         "value": 0
        },
        {
         "source": {
          "fixed": 0,
          "index": 13,
          "label": "h1,1",
          "label_display": "none",
          "px": 410.67151187137154,
          "py": 354.5764240574521,
          "shape": "circle",
          "shape_attrs": {
           "r": 15
          },
          "value": null,
          "weight": 21,
          "x": 409.89657596928896,
          "xval": 40,
          "y": 354.0948364532786,
          "yval": 92.85714285714286
         },
         "target": {
          "index": 28,
          "label": "h2,3",
          "label_display": "none",
          "px": 496.50323047992384,
          "py": 401.70079485729235,
          "shape": "circle",
          "shape_attrs": {
           "r": 15
          },
          "value": null,
          "weight": 17,
          "x": 497.54047089356203,
          "xval": 60,
          "y": 402.24613635718833,
          "yval": 50
         },
         "value": 0
        },
        {
         "source": {
          "fixed": 0,
          "index": 13,
          "label": "h1,1",
          "label_display": "none",
          "px": 410.67151187137154,
          "py": 354.5764240574521,
          "shape": "circle",
          "shape_attrs": {
           "r": 15
          },
          "value": null,
          "weight": 21,
          "x": 410.7186428850002,
          "xval": 40,
          "y": 354.56607029606107,
          "yval": 92.85714285714286
         },
         "target": {
          "index": 29,
          "label": "h2,4",
          "label_display": "none",
          "px": 476.1622682000842,
          "py": 430.2120196800528,
          "shape": "circle",
          "shape_attrs": {
           "r": 15
          },
          "value": null,
          "weight": 17,
          "x": 476.1308754121793,
          "xval": 60,
          "y": 430.2049481024758,
          "yval": 33.333333333333336
         },
         "value": 0
        },
        {
         "source": {
          "fixed": 0,
          "index": 13,
          "label": "h1,1",
          "label_display": "none",
          "px": 410.67151187137154,
          "py": 354.5764240574521,
          "shape": "circle",
          "shape_attrs": {
           "r": 15
          },
          "value": null,
          "weight": 21,
          "x": 409.79951938994526,
          "xval": 40,
          "y": 354.1039966323409,
          "yval": 92.85714285714286
         },
         "target": {
          "index": 30,
          "label": "h2,5",
          "label_display": "none",
          "px": 498.8247300460994,
          "py": 396.77857653819706,
          "shape": "circle",
          "shape_attrs": {
           "r": 15
          },
          "value": null,
          "weight": 17,
          "x": 499.98902530345805,
          "xval": 60,
          "y": 397.2995174997135,
          "yval": 16.666666666666668
         },
         "value": 0
        },
        {
         "source": {
          "fixed": 0,
          "index": 14,
          "label": "h1,2",
          "label_display": "none",
          "px": 549.6411511118653,
          "py": 483.64056292330713,
          "shape": "circle",
          "shape_attrs": {
           "r": 15
          },
          "value": null,
          "weight": 21,
          "x": 548.110080789763,
          "xval": 40,
          "y": 480.44554627509496,
          "yval": 85.71428571428572
         },
         "target": {
          "fixed": 0,
          "index": 26,
          "label": "h2,1",
          "label_display": "none",
          "px": 502.71457284978436,
          "py": 386.3127570622258,
          "shape": "circle",
          "shape_attrs": {
           "r": 15
          },
          "value": null,
          "weight": 17,
          "x": 504.7265668531589,
          "xval": 60,
          "y": 390.34631920417416,
          "yval": 83.33333333333334
         },
         "value": 0
        },
        {
         "source": {
          "fixed": 0,
          "index": 14,
          "label": "h1,2",
          "label_display": "none",
          "px": 549.6411511118653,
          "py": 483.64056292330713,
          "shape": "circle",
          "shape_attrs": {
           "r": 15
          },
          "value": null,
          "weight": 21,
          "x": 548.8250241475805,
          "xval": 40,
          "y": 482.0896226320698,
          "yval": 85.71428571428572
         },
         "target": {
          "index": 27,
          "label": "h2,2",
          "label_display": "none",
          "px": 500.8845853659508,
          "py": 391.76683097070213,
          "shape": "circle",
          "shape_attrs": {
           "r": 15
          },
          "value": null,
          "weight": 17,
          "x": 501.98922214417325,
          "xval": 60,
          "y": 393.7357452365079,
          "yval": 66.66666666666667
         },
         "value": 0
        },
        {
         "source": {
          "fixed": 0,
          "index": 14,
          "label": "h1,2",
          "label_display": "none",
          "px": 549.6411511118653,
          "py": 483.64056292330713,
          "shape": "circle",
          "shape_attrs": {
           "r": 15
          },
          "value": null,
          "weight": 21,
          "x": 550.218568945122,
          "xval": 40,
          "y": 484.52730822934814,
          "yval": 85.71428571428572
         },
         "target": {
          "index": 28,
          "label": "h2,3",
          "label_display": "none",
          "px": 496.50323047992384,
          "py": 401.70079485729235,
          "shape": "circle",
          "shape_attrs": {
           "r": 15
          },
          "value": null,
          "weight": 17,
          "x": 495.83482212194804,
          "xval": 60,
          "y": 400.6082515056392,
          "yval": 50
         },
         "value": 0
        },
        {
         "source": {
          "fixed": 0,
          "index": 14,
          "label": "h1,2",
          "label_display": "none",
          "px": 549.6411511118653,
          "py": 483.64056292330713,
          "shape": "circle",
          "shape_attrs": {
           "r": 15
          },
          "value": null,
          "weight": 21,
          "x": 552.9264997414085,
          "xval": 40,
          "y": 486.04108758348565,
          "yval": 85.71428571428572
         },
         "target": {
          "index": 29,
          "label": "h2,4",
          "label_display": "none",
          "px": 476.1622682000842,
          "py": 430.2120196800528,
          "shape": "circle",
          "shape_attrs": {
           "r": 15
          },
          "value": null,
          "weight": 17,
          "x": 472.036467813847,
          "xval": 60,
          "y": 427.2465067578755,
          "yval": 33.333333333333336
         },
         "value": 0
        },
        {
         "source": {
          "fixed": 0,
          "index": 14,
          "label": "h1,2",
          "label_display": "none",
          "px": 549.6411511118653,
          "py": 483.64056292330713,
          "shape": "circle",
          "shape_attrs": {
           "r": 15
          },
          "value": null,
          "weight": 21,
          "x": 549.5142241774471,
          "xval": 40,
          "y": 483.4156787562228,
          "yval": 85.71428571428572
         },
         "target": {
          "index": 30,
          "label": "h2,5",
          "label_display": "none",
          "px": 498.8247300460994,
          "py": 396.77857653819706,
          "shape": "circle",
          "shape_attrs": {
           "r": 15
          },
          "value": null,
          "weight": 17,
          "x": 499.05260756446813,
          "xval": 60,
          "y": 397.08129829961433,
          "yval": 16.666666666666668
         },
         "value": 0
        },
        {
         "source": {
          "fixed": 0,
          "index": 15,
          "label": "h1,3",
          "label_display": "none",
          "px": 423.9570279545435,
          "py": 342.18972763411654,
          "shape": "circle",
          "shape_attrs": {
           "r": 15
          },
          "value": null,
          "weight": 21,
          "x": 420.2674333355595,
          "xval": 40,
          "y": 340.0211795605443,
          "yval": 78.57142857142857
         },
         "target": {
          "fixed": 0,
          "index": 26,
          "label": "h2,1",
          "label_display": "none",
          "px": 502.71457284978436,
          "py": 386.3127570622258,
          "shape": "circle",
          "shape_attrs": {
           "r": 15
          },
          "value": null,
          "weight": 17,
          "x": 507.49695455895557,
          "xval": 60,
          "y": 388.91914093747386,
          "yval": 83.33333333333334
         },
         "value": 0
        },
        {
         "source": {
          "fixed": 0,
          "index": 15,
          "label": "h1,3",
          "label_display": "none",
          "px": 423.9570279545435,
          "py": 342.18972763411654,
          "shape": "circle",
          "shape_attrs": {
           "r": 15
          },
          "value": null,
          "weight": 21,
          "x": 420.86913572128947,
          "xval": 40,
          "y": 340.0934354337905,
          "yval": 78.57142857142857
         },
         "target": {
          "index": 27,
          "label": "h2,2",
          "label_display": "none",
          "px": 500.8845853659508,
          "py": 391.76683097070213,
          "shape": "circle",
          "shape_attrs": {
           "r": 15
          },
          "value": null,
          "weight": 17,
          "x": 504.9030482891924,
          "xval": 60,
          "y": 394.29953784167066,
          "yval": 66.66666666666667
         },
         "value": 0
        },
        {
         "source": {
          "fixed": 0,
          "index": 15,
          "label": "h1,3",
          "label_display": "none",
          "px": 423.9570279545435,
          "py": 342.18972763411654,
          "shape": "circle",
          "shape_attrs": {
           "r": 15
          },
          "value": null,
          "weight": 21,
          "x": 421.9151968319603,
          "xval": 40,
          "y": 340.39942745229126,
          "yval": 78.57142857142857
         },
         "target": {
          "index": 28,
          "label": "h2,3",
          "label_display": "none",
          "px": 496.50323047992384,
          "py": 401.70079485729235,
          "shape": "circle",
          "shape_attrs": {
           "r": 15
          },
          "value": null,
          "weight": 17,
          "x": 499.1887938854865,
          "xval": 60,
          "y": 403.87218694964525,
          "yval": 50
         },
         "value": 0
        },
        {
         "source": {
          "fixed": 0,
          "index": 15,
          "label": "h1,3",
          "label_display": "none",
          "px": 423.9570279545435,
          "py": 342.18972763411654,
          "shape": "circle",
          "shape_attrs": {
           "r": 15
          },
          "value": null,
          "weight": 21,
          "x": 424.5492062931743,
          "xval": 40,
          "y": 343.0343298545501,
          "yval": 78.57142857142857
         },
         "target": {
          "index": 29,
          "label": "h2,4",
          "label_display": "none",
          "px": 476.1622682000842,
          "py": 430.2120196800528,
          "shape": "circle",
          "shape_attrs": {
           "r": 15
          },
          "value": null,
          "weight": 17,
          "x": 475.48407318660486,
          "xval": 60,
          "y": 429.09035424928624,
          "yval": 33.333333333333336
         },
         "value": 0
        },
        {
         "source": {
          "fixed": 0,
          "index": 15,
          "label": "h1,3",
          "label_display": "none",
          "px": 423.9570279545435,
          "py": 342.18972763411654,
          "shape": "circle",
          "shape_attrs": {
           "r": 15
          },
          "value": null,
          "weight": 21,
          "x": 421.3985861770796,
          "xval": 40,
          "y": 340.21353542201035,
          "yval": 78.57142857142857
         },
         "target": {
          "index": 30,
          "label": "h2,5",
          "label_display": "none",
          "px": 498.8247300460994,
          "py": 396.77857653819706,
          "shape": "circle",
          "shape_attrs": {
           "r": 15
          },
          "value": null,
          "weight": 17,
          "x": 502.1687829930536,
          "xval": 60,
          "y": 399.1726340079775,
          "yval": 16.666666666666668
         },
         "value": 0
        },
        {
         "source": {
          "fixed": 0,
          "index": 16,
          "label": "h1,4",
          "label_display": "none",
          "px": 419.57668467059693,
          "py": 345.52392632806783,
          "shape": "circle",
          "shape_attrs": {
           "r": 15
          },
          "value": null,
          "weight": 21,
          "x": 416.6780287407151,
          "xval": 40,
          "y": 344.039006061884,
          "yval": 71.42857142857143
         },
         "target": {
          "fixed": 0,
          "index": 26,
          "label": "h2,1",
          "label_display": "none",
          "px": 502.71457284978436,
          "py": 386.3127570622258,
          "shape": "circle",
          "shape_attrs": {
           "r": 15
          },
          "value": null,
          "weight": 17,
          "x": 506.4586442018279,
          "xval": 60,
          "y": 388.0780919650118,
          "yval": 83.33333333333334
         },
         "value": 0
        },
        {
         "source": {
          "fixed": 0,
          "index": 16,
          "label": "h1,4",
          "label_display": "none",
          "px": 419.57668467059693,
          "py": 345.52392632806783,
          "shape": "circle",
          "shape_attrs": {
           "r": 15
          },
          "value": null,
          "weight": 21,
          "x": 417.1315485398941,
          "xval": 40,
          "y": 344.0683437886701,
          "yval": 71.42857142857143
         },
         "target": {
          "index": 27,
          "label": "h2,2",
          "label_display": "none",
          "px": 500.8845853659508,
          "py": 391.76683097070213,
          "shape": "circle",
          "shape_attrs": {
           "r": 15
          },
          "value": null,
          "weight": 17,
          "x": 504.0524357109091,
          "xval": 60,
          "y": 393.5128518071912,
          "yval": 66.66666666666667
         },
         "value": 0
        },
        {
         "source": {
          "fixed": 0,
          "index": 16,
          "label": "h1,4",
          "label_display": "none",
          "px": 419.57668467059693,
          "py": 345.52392632806783,
          "shape": "circle",
          "shape_attrs": {
           "r": 15
          },
          "value": null,
          "weight": 21,
          "x": 417.92195502007024,
          "xval": 40,
          "y": 344.24674600337784,
          "yval": 71.42857142857143
         },
         "target": {
          "index": 28,
          "label": "h2,3",
          "label_display": "none",
          "px": 496.50323047992384,
          "py": 401.70079485729235,
          "shape": "circle",
          "shape_attrs": {
           "r": 15
          },
          "value": null,
          "weight": 17,
          "x": 498.6620102226817,
          "xval": 60,
          "y": 403.2471145253252,
          "yval": 50
         },
         "value": 0
        },
        {
         "source": {
          "fixed": 0,
          "index": 16,
          "label": "h1,4",
          "label_display": "none",
          "px": 419.57668467059693,
          "py": 345.52392632806783,
          "shape": "circle",
          "shape_attrs": {
           "r": 15
          },
          "value": null,
          "weight": 21,
          "x": 420.06838892852284,
          "xval": 40,
          "y": 346.17705966106615,
          "yval": 71.42857142857143
         },
         "target": {
          "index": 29,
          "label": "h2,4",
          "label_display": "none",
          "px": 476.1622682000842,
          "py": 430.2120196800528,
          "shape": "circle",
          "shape_attrs": {
           "r": 15
          },
          "value": null,
          "weight": 17,
          "x": 475.5748846839537,
          "xval": 60,
          "y": 429.35776012106004,
          "yval": 33.333333333333336
         },
         "value": 0
        },
        {
         "source": {
          "fixed": 0,
          "index": 16,
          "label": "h1,4",
          "label_display": "none",
          "px": 419.57668467059693,
          "py": 345.52392632806783,
          "shape": "circle",
          "shape_attrs": {
           "r": 15
          },
          "value": null,
          "weight": 21,
          "x": 417.52854617639747,
          "xval": 40,
          "y": 344.1323996331968,
          "yval": 71.42857142857143
         },
         "target": {
          "index": 30,
          "label": "h2,5",
          "label_display": "none",
          "px": 498.8247300460994,
          "py": 396.77857653819706,
          "shape": "circle",
          "shape_attrs": {
           "r": 15
          },
          "value": null,
          "weight": 17,
          "x": 501.48594383917134,
          "xval": 60,
          "y": 398.45693716010436,
          "yval": 16.666666666666668
         },
         "value": 0
        },
        {
         "source": {
          "fixed": 0,
          "index": 17,
          "label": "h1,5",
          "label_display": "none",
          "px": 416.19040247227423,
          "py": 348.5344480037842,
          "shape": "circle",
          "shape_attrs": {
           "r": 15
          },
          "value": null,
          "weight": 21,
          "x": 413.96303127651584,
          "xval": 40,
          "y": 347.4974642782469,
          "yval": 64.28571428571429
         },
         "target": {
          "fixed": 0,
          "index": 26,
          "label": "h2,1",
          "label_display": "none",
          "px": 502.71457284978436,
          "py": 386.3127570622258,
          "shape": "circle",
          "shape_attrs": {
           "r": 15
          },
          "value": null,
          "weight": 17,
          "x": 505.6099070893831,
          "xval": 60,
          "y": 387.5080897864687,
          "yval": 83.33333333333334
         },
         "value": 0
        },
        {
         "source": {
          "fixed": 0,
          "index": 17,
          "label": "h1,5",
          "label_display": "none",
          "px": 416.19040247227423,
          "py": 348.5344480037842,
          "shape": "circle",
          "shape_attrs": {
           "r": 15
          },
          "value": null,
          "weight": 21,
          "x": 414.2953938514448,
          "xval": 40,
          "y": 347.500670272042,
          "yval": 64.28571428571429
         },
         "target": {
          "index": 27,
          "label": "h2,2",
          "label_display": "none",
          "px": 500.8845853659508,
          "py": 391.76683097070213,
          "shape": "circle",
          "shape_attrs": {
           "r": 15
          },
          "value": null,
          "weight": 17,
          "x": 503.35716428166313,
          "xval": 60,
          "y": 392.97594979482994,
          "yval": 66.66666666666667
         },
         "value": 0
        },
        {
         "source": {
          "fixed": 0,
          "index": 17,
          "label": "h1,5",
          "label_display": "none",
          "px": 416.19040247227423,
          "py": 348.5344480037842,
          "shape": "circle",
          "shape_attrs": {
           "r": 15
          },
          "value": null,
          "weight": 21,
          "x": 414.8722213647591,
          "xval": 40,
          "y": 347.5916778104967,
          "yval": 64.28571428571429
         },
         "target": {
          "index": 28,
          "label": "h2,3",
          "label_display": "none",
          "px": 496.50323047992384,
          "py": 401.70079485729235,
          "shape": "circle",
          "shape_attrs": {
           "r": 15
          },
          "value": null,
          "weight": 17,
          "x": 498.2372719149133,
          "xval": 60,
          "y": 402.82091233942367,
          "yval": 50
         },
         "value": 0
        },
        {
         "source": {
          "fixed": 0,
          "index": 17,
          "label": "h1,5",
          "label_display": "none",
          "px": 416.19040247227423,
          "py": 348.5344480037842,
          "shape": "circle",
          "shape_attrs": {
           "r": 15
          },
          "value": null,
          "weight": 21,
          "x": 416.57734351327576,
          "xval": 40,
          "y": 348.977454325136,
          "yval": 64.28571428571429
         },
         "target": {
          "index": 29,
          "label": "h2,4",
          "label_display": "none",
          "px": 476.1622682000842,
          "py": 430.2120196800528,
          "shape": "circle",
          "shape_attrs": {
           "r": 15
          },
          "value": null,
          "weight": 17,
          "x": 475.7091407833302,
          "xval": 60,
          "y": 429.6213043799228,
          "yval": 33.333333333333336
         },
         "value": 0
        },
        {
         "source": {
          "fixed": 0,
          "index": 17,
          "label": "h1,5",
          "label_display": "none",
          "px": 416.19040247227423,
          "py": 348.5344480037842,
          "shape": "circle",
          "shape_attrs": {
           "r": 15
          },
          "value": null,
          "weight": 21,
          "x": 414.58259458727946,
          "xval": 40,
          "y": 347.5274698664928,
          "yval": 64.28571428571429
         },
         "target": {
          "index": 30,
          "label": "h2,5",
          "label_display": "none",
          "px": 498.8247300460994,
          "py": 396.77857653819706,
          "shape": "circle",
          "shape_attrs": {
           "r": 15
          },
          "value": null,
          "weight": 17,
          "x": 500.92974836249965,
          "xval": 60,
          "y": 397.9672263565749,
          "yval": 16.666666666666668
         },
         "value": 0
        },
        {
         "source": {
          "index": 18,
          "label": "h1,6",
          "label_display": "none",
          "px": 412.7860589190273,
          "py": 351.06916053008825,
          "shape": "circle",
          "shape_attrs": {
           "r": 15
          },
          "value": null,
          "weight": 21,
          "x": 411.40300330087297,
          "xval": 40,
          "y": 350.4687616200905,
          "yval": 57.142857142857146
         },
         "target": {
          "fixed": 0,
          "index": 26,
          "label": "h2,1",
          "label_display": "none",
          "px": 502.71457284978436,
          "py": 386.3127570622258,
          "shape": "circle",
          "shape_attrs": {
           "r": 15
          },
          "value": null,
          "weight": 17,
          "x": 504.51108937214065,
          "xval": 60,
          "y": 386.9500487141001,
          "yval": 83.33333333333334
         },
         "value": 0
        },
        {
         "source": {
          "index": 18,
          "label": "h1,6",
          "label_display": "none",
          "px": 412.7860589190273,
          "py": 351.06916053008825,
          "shape": "circle",
          "shape_attrs": {
           "r": 15
          },
          "value": null,
          "weight": 21,
          "x": 411.6225551552207,
          "xval": 40,
          "y": 350.47318561483763,
          "yval": 57.142857142857146
         },
         "target": {
          "index": 27,
          "label": "h2,2",
          "label_display": "none",
          "px": 500.8845853659508,
          "py": 391.76683097070213,
          "shape": "circle",
          "shape_attrs": {
           "r": 15
          },
          "value": null,
          "weight": 17,
          "x": 502.4012400188797,
          "xval": 60,
          "y": 392.41636592260255,
          "yval": 66.66666666666667
         },
         "value": 0
        },
        {
         "source": {
          "index": 18,
          "label": "h1,6",
          "label_display": "none",
          "px": 412.7860589190273,
          "py": 351.06916053008825,
          "shape": "circle",
          "shape_attrs": {
           "r": 15
          },
          "value": null,
          "weight": 21,
          "x": 411.99136075873565,
          "xval": 40,
          "y": 350.53004877173817,
          "yval": 57.142857142857146
         },
         "target": {
          "index": 28,
          "label": "h2,3",
          "label_display": "none",
          "px": 496.50323047992384,
          "py": 401.70079485729235,
          "shape": "circle",
          "shape_attrs": {
           "r": 15
          },
          "value": null,
          "weight": 17,
          "x": 497.5448418408143,
          "xval": 60,
          "y": 402.30457797934923,
          "yval": 50
         },
         "value": 0
        },
        {
         "source": {
          "index": 18,
          "label": "h1,6",
          "label_display": "none",
          "px": 412.7860589190273,
          "py": 351.06916053008825,
          "shape": "circle",
          "shape_attrs": {
           "r": 15
          },
          "value": null,
          "weight": 21,
          "x": 413.1911831509239,
          "xval": 40,
          "y": 351.51837751812394,
          "yval": 57.142857142857146
         },
         "target": {
          "index": 29,
          "label": "h2,4",
          "label_display": "none",
          "px": 476.1622682000842,
          "py": 430.2120196800528,
          "shape": "circle",
          "shape_attrs": {
           "r": 15
          },
          "value": null,
          "weight": 17,
          "x": 475.65675650760676,
          "xval": 60,
          "y": 429.6084034194453,
          "yval": 33.333333333333336
         },
         "value": 0
        },
        {
         "source": {
          "index": 18,
          "label": "h1,6",
          "label_display": "none",
          "px": 412.7860589190273,
          "py": 351.06916053008825,
          "shape": "circle",
          "shape_attrs": {
           "r": 15
          },
          "value": null,
          "weight": 21,
          "x": 411.8044697648477,
          "xval": 40,
          "y": 350.4891630011339,
          "yval": 57.142857142857146
         },
         "target": {
          "index": 30,
          "label": "h2,5",
          "label_display": "none",
          "px": 498.8247300460994,
          "py": 396.77857653819706,
          "shape": "circle",
          "shape_attrs": {
           "r": 15
          },
          "value": null,
          "weight": 17,
          "x": 500.1071864096369,
          "xval": 60,
          "y": 397.4213506026923,
          "yval": 16.666666666666668
         },
         "value": 0
        },
        {
         "source": {
          "index": 19,
          "label": "h1,7",
          "label_display": "none",
          "px": 406.12365125440556,
          "py": 360.2290356712743,
          "shape": "circle",
          "shape_attrs": {
           "r": 15
          },
          "value": null,
          "weight": 21,
          "x": 406.1633827184783,
          "xval": 40,
          "y": 360.2375128280578,
          "yval": 50
         },
         "target": {
          "fixed": 0,
          "index": 26,
          "label": "h2,1",
          "label_display": "none",
          "px": 502.71457284978436,
          "py": 386.3127570622258,
          "shape": "circle",
          "shape_attrs": {
           "r": 15
          },
          "value": null,
          "weight": 17,
          "x": 502.7199934854319,
          "xval": 60,
          "y": 386.25329490743155,
          "yval": 83.33333333333334
         },
         "value": 0
        },
        {
         "source": {
          "index": 19,
          "label": "h1,7",
          "label_display": "none",
          "px": 406.12365125440556,
          "py": 360.2290356712743,
          "shape": "circle",
          "shape_attrs": {
           "r": 15
          },
          "value": null,
          "weight": 21,
          "x": 406.08792118894934,
          "xval": 40,
          "y": 360.2144729296858,
          "yval": 50
         },
         "target": {
          "index": 27,
          "label": "h2,2",
          "label_display": "none",
          "px": 500.8845853659508,
          "py": 391.76683097070213,
          "shape": "circle",
          "shape_attrs": {
           "r": 15
          },
          "value": null,
          "weight": 17,
          "x": 500.9838274250074,
          "xval": 60,
          "y": 391.75439968346694,
          "yval": 66.66666666666667
         },
         "value": 0
        },
        {
         "source": {
          "index": 19,
          "label": "h1,7",
          "label_display": "none",
          "px": 406.12365125440556,
          "py": 360.2290356712743,
          "shape": "circle",
          "shape_attrs": {
           "r": 15
          },
          "value": null,
          "weight": 21,
          "x": 405.9166101469303,
          "xval": 40,
          "y": 360.13046301849823,
          "yval": 50
         },
         "target": {
          "index": 28,
          "label": "h2,3",
          "label_display": "none",
          "px": 496.50323047992384,
          "py": 401.70079485729235,
          "shape": "circle",
          "shape_attrs": {
           "r": 15
          },
          "value": null,
          "weight": 17,
          "x": 496.81157639974896,
          "xval": 60,
          "y": 401.8210508037705,
          "yval": 50
         },
         "value": 0
        },
        {
         "source": {
          "index": 19,
          "label": "h1,7",
          "label_display": "none",
          "px": 406.12365125440556,
          "py": 360.2290356712743,
          "shape": "circle",
          "shape_attrs": {
           "r": 15
          },
          "value": null,
          "weight": 21,
          "x": 405.8315576623189,
          "xval": 40,
          "y": 359.9294541923706,
          "yval": 50
         },
         "target": {
          "index": 29,
          "label": "h2,4",
          "label_display": "none",
          "px": 476.1622682000842,
          "py": 430.2120196800528,
          "shape": "circle",
          "shape_attrs": {
           "r": 15
          },
          "value": null,
          "weight": 17,
          "x": 476.55099782076627,
          "xval": 60,
          "y": 430.6313691851379,
          "yval": 33.333333333333336
         },
         "value": 0
        },
        {
         "source": {
          "index": 19,
          "label": "h1,7",
          "label_display": "none",
          "px": 406.12365125440556,
          "py": 360.2290356712743,
          "shape": "circle",
          "shape_attrs": {
           "r": 15
          },
          "value": null,
          "weight": 21,
          "x": 405.99603909400986,
          "xval": 40,
          "y": 360.17562598842375,
          "yval": 50
         },
         "target": {
          "index": 30,
          "label": "h2,5",
          "label_display": "none",
          "px": 498.8247300460994,
          "py": 396.77857653819706,
          "shape": "circle",
          "shape_attrs": {
           "r": 15
          },
          "value": null,
          "weight": 17,
          "x": 499.03658267164093,
          "xval": 60,
          "y": 396.82882845107605,
          "yval": 16.666666666666668
         },
         "value": 0
        },
        {
         "source": {
          "index": 20,
          "label": "h1,8",
          "label_display": "none",
          "px": 406.86806661745635,
          "py": 356.2069059337648,
          "shape": "circle",
          "shape_attrs": {
           "r": 15
          },
          "value": null,
          "weight": 21,
          "x": 407.05856830322443,
          "xval": 40,
          "y": 356.22211497031935,
          "yval": 42.85714285714286
         },
         "target": {
          "fixed": 0,
          "index": 26,
          "label": "h2,1",
          "label_display": "none",
          "px": 502.71457284978436,
          "py": 386.3127570622258,
          "shape": "circle",
          "shape_attrs": {
           "r": 15
          },
          "value": null,
          "weight": 17,
          "x": 502.46810940751334,
          "xval": 60,
          "y": 386.1723982125015,
          "yval": 83.33333333333334
         },
         "value": 0
        },
        {
         "source": {
          "index": 20,
          "label": "h1,8",
          "label_display": "none",
          "px": 406.86806661745635,
          "py": 356.2069059337648,
          "shape": "circle",
          "shape_attrs": {
           "r": 15
          },
          "value": null,
          "weight": 21,
          "x": 407.07744287298766,
          "xval": 40,
          "y": 356.2441150870029,
          "yval": 42.85714285714286
         },
         "target": {
          "index": 27,
          "label": "h2,2",
          "label_display": "none",
          "px": 500.8845853659508,
          "py": 391.76683097070213,
          "shape": "circle",
          "shape_attrs": {
           "r": 15
          },
          "value": null,
          "weight": 17,
          "x": 500.6124510591351,
          "xval": 60,
          "y": 391.61645235268395,
          "yval": 66.66666666666667
         },
         "value": 0
        },
        {
         "source": {
          "index": 20,
          "label": "h1,8",
          "label_display": "none",
          "px": 406.86806661745635,
          "py": 356.2069059337648,
          "shape": "circle",
          "shape_attrs": {
           "r": 15
          },
          "value": null,
          "weight": 21,
          "x": 407.0683075815893,
          "xval": 40,
          "y": 356.2718793931546,
          "yval": 42.85714285714286
         },
         "target": {
          "index": 28,
          "label": "h2,3",
          "label_display": "none",
          "px": 496.50323047992384,
          "py": 401.70079485729235,
          "shape": "circle",
          "shape_attrs": {
           "r": 15
          },
          "value": null,
          "weight": 17,
          "x": 496.23477759604003,
          "xval": 60,
          "y": 401.5415229214847,
          "yval": 50
         },
         "value": 0
        },
        {
         "source": {
          "index": 20,
          "label": "h1,8",
          "label_display": "none",
          "px": 406.86806661745635,
          "py": 356.2069059337648,
          "shape": "circle",
          "shape_attrs": {
           "r": 15
          },
          "value": null,
          "weight": 21,
          "x": 407.27591603307224,
          "xval": 40,
          "y": 356.6289291562767,
          "yval": 42.85714285714286
         },
         "target": {
          "index": 29,
          "label": "h2,4",
          "label_display": "none",
          "px": 476.1622682000842,
          "py": 430.2120196800528,
          "shape": "circle",
          "shape_attrs": {
           "r": 15
          },
          "value": null,
          "weight": 17,
          "x": 475.60349548880674,
          "xval": 60,
          "y": 429.64496770787787,
          "yval": 33.333333333333336
         },
         "value": 0
        },
        {
         "source": {
          "index": 20,
          "label": "h1,8",
          "label_display": "none",
          "px": 406.86806661745635,
          "py": 356.2069059337648,
          "shape": "circle",
          "shape_attrs": {
           "r": 15
          },
          "value": null,
          "weight": 21,
          "x": 407.06954626102225,
          "xval": 40,
          "y": 356.25641041844267,
          "yval": 42.85714285714286
         },
         "target": {
          "index": 30,
          "label": "h2,5",
          "label_display": "none",
          "px": 498.8247300460994,
          "py": 396.77857653819706,
          "shape": "circle",
          "shape_attrs": {
           "r": 15
          },
          "value": null,
          "weight": 17,
          "x": 498.5588247870173,
          "xval": 60,
          "y": 396.6261009648473,
          "yval": 16.666666666666668
         },
         "value": 0
        },
        {
         "source": {
          "index": 21,
          "label": "h1,9",
          "label_display": "none",
          "px": 393.22820764158945,
          "py": 377.50608378401296,
          "shape": "circle",
          "shape_attrs": {
           "r": 15
          },
          "value": null,
          "weight": 21,
          "x": 397.5363219600899,
          "xval": 40,
          "y": 377.9014662564226,
          "yval": 35.714285714285715
         },
         "target": {
          "fixed": 0,
          "index": 26,
          "label": "h2,1",
          "label_display": "none",
          "px": 502.71457284978436,
          "py": 386.3127570622258,
          "shape": "circle",
          "shape_attrs": {
           "r": 15
          },
          "value": null,
          "weight": 17,
          "x": 497.2219844863486,
          "xval": 60,
          "y": 385.8241354420997,
          "yval": 83.33333333333334
         },
         "value": 0
        },
        {
         "source": {
          "index": 21,
          "label": "h1,9",
          "label_display": "none",
          "px": 393.22820764158945,
          "py": 377.50608378401296,
          "shape": "circle",
          "shape_attrs": {
           "r": 15
          },
          "value": null,
          "weight": 21,
          "x": 396.9666727515768,
          "xval": 40,
          "y": 378.0544475716329,
          "yval": 35.714285714285715
         },
         "target": {
          "index": 27,
          "label": "h2,2",
          "label_display": "none",
          "px": 500.8845853659508,
          "py": 391.76683097070213,
          "shape": "circle",
          "shape_attrs": {
           "r": 15
          },
          "value": null,
          "weight": 17,
          "x": 496.1117889386373,
          "xval": 60,
          "y": 391.1022802092153,
          "yval": 66.66666666666667
         },
         "value": 0
        },
        {
         "source": {
          "index": 21,
          "label": "h1,9",
          "label_display": "none",
          "px": 393.22820764158945,
          "py": 377.50608378401296,
          "shape": "circle",
          "shape_attrs": {
           "r": 15
          },
          "value": null,
          "weight": 21,
          "x": 395.8091163024758,
          "xval": 40,
          "y": 378.171809337838,
          "yval": 35.714285714285715
         },
         "target": {
          "index": 28,
          "label": "h2,3",
          "label_display": "none",
          "px": 496.50323047992384,
          "py": 401.70079485729235,
          "shape": "circle",
          "shape_attrs": {
           "r": 15
          },
          "value": null,
          "weight": 17,
          "x": 493.1887810033728,
          "xval": 60,
          "y": 400.9138607611826,
          "yval": 50
         },
         "value": 0
        },
        {
         "source": {
          "index": 21,
          "label": "h1,9",
          "label_display": "none",
          "px": 393.22820764158945,
          "py": 377.50608378401296,
          "shape": "circle",
          "shape_attrs": {
           "r": 15
          },
          "value": null,
          "weight": 21,
          "x": 392.5389240364974,
          "xval": 40,
          "y": 377.15749505644527,
          "yval": 35.714285714285715
         },
         "target": {
          "index": 29,
          "label": "h2,4",
          "label_display": "none",
          "px": 476.1622682000842,
          "py": 430.2120196800528,
          "shape": "circle",
          "shape_attrs": {
           "r": 15
          },
          "value": null,
          "weight": 17,
          "x": 476.96270928644196,
          "xval": 60,
          "y": 430.75436515178257,
          "yval": 33.333333333333336
         },
         "value": 0
        },
        {
         "source": {
          "index": 21,
          "label": "h1,9",
          "label_display": "none",
          "px": 393.22820764158945,
          "py": 377.50608378401296,
          "shape": "circle",
          "shape_attrs": {
           "r": 15
          },
          "value": null,
          "weight": 21,
          "x": 396.3899189234551,
          "xval": 40,
          "y": 378.1402297522785,
          "yval": 35.714285714285715
         },
         "target": {
          "index": 30,
          "label": "h2,5",
          "label_display": "none",
          "px": 498.8247300460994,
          "py": 396.77857653819706,
          "shape": "circle",
          "shape_attrs": {
           "r": 15
          },
          "value": null,
          "weight": 17,
          "x": 494.7787145102848,
          "xval": 60,
          "y": 396.0188455604413,
          "yval": 16.666666666666668
         },
         "value": 0
        },
        {
         "source": {
          "index": 22,
          "label": "h1,10",
          "label_display": "none",
          "px": 395.87039075856654,
          "py": 372.9114268783584,
          "shape": "circle",
          "shape_attrs": {
           "r": 15
          },
          "value": null,
          "weight": 21,
          "x": 399.2175801563726,
          "xval": 40,
          "y": 373.3653240070497,
          "yval": 28.571428571428573
         },
         "target": {
          "fixed": 0,
          "index": 26,
          "label": "h2,1",
          "label_display": "none",
          "px": 502.71457284978436,
          "py": 386.3127570622258,
          "shape": "circle",
          "shape_attrs": {
           "r": 15
          },
          "value": null,
          "weight": 17,
          "x": 498.45053705073417,
          "xval": 60,
          "y": 385.7273734429542,
          "yval": 83.33333333333334
         },
         "value": 0
        },
        {
         "source": {
          "index": 22,
          "label": "h1,10",
          "label_display": "none",
          "px": 395.87039075856654,
          "py": 372.9114268783584,
          "shape": "circle",
          "shape_attrs": {
           "r": 15
          },
          "value": null,
          "weight": 21,
          "x": 398.75981765072373,
          "xval": 40,
          "y": 373.4680137070312,
          "yval": 28.571428571428573
         },
         "target": {
          "index": 27,
          "label": "h2,2",
          "label_display": "none",
          "px": 500.8845853659508,
          "py": 391.76683097070213,
          "shape": "circle",
          "shape_attrs": {
           "r": 15
          },
          "value": null,
          "weight": 17,
          "x": 497.19861846998214,
          "xval": 60,
          "y": 391.0692208669939,
          "yval": 66.66666666666667
         },
         "value": 0
        },
        {
         "source": {
          "index": 22,
          "label": "h1,10",
          "label_display": "none",
          "px": 395.87039075856654,
          "py": 372.9114268783584,
          "shape": "circle",
          "shape_attrs": {
           "r": 15
          },
          "value": null,
          "weight": 21,
          "x": 397.8294705711738,
          "xval": 40,
          "y": 373.51661186408586,
          "yval": 28.571428571428573
         },
         "target": {
          "index": 28,
          "label": "h2,3",
          "label_display": "none",
          "px": 496.50323047992384,
          "py": 401.70079485729235,
          "shape": "circle",
          "shape_attrs": {
           "r": 15
          },
          "value": null,
          "weight": 17,
          "x": 493.98781225159746,
          "xval": 60,
          "y": 400.9679019143918,
          "yval": 50
         },
         "value": 0
        },
        {
         "source": {
          "index": 22,
          "label": "h1,10",
          "label_display": "none",
          "px": 395.87039075856654,
          "py": 372.9114268783584,
          "shape": "circle",
          "shape_attrs": {
           "r": 15
          },
          "value": null,
          "weight": 21,
          "x": 395.34781880805957,
          "xval": 40,
          "y": 372.6085304172803,
          "yval": 28.571428571428573
         },
         "target": {
          "index": 29,
          "label": "h2,4",
          "label_display": "none",
          "px": 476.1622682000842,
          "py": 430.2120196800528,
          "shape": "circle",
          "shape_attrs": {
           "r": 15
          },
          "value": null,
          "weight": 17,
          "x": 476.7629234377121,
          "xval": 60,
          "y": 430.6738448321724,
          "yval": 33.333333333333336
         },
         "value": 0
        },
        {
         "source": {
          "index": 22,
          "label": "h1,10",
          "label_display": "none",
          "px": 395.87039075856654,
          "py": 372.9114268783584,
          "shape": "circle",
          "shape_attrs": {
           "r": 15
          },
          "value": null,
          "weight": 21,
          "x": 398.29400345409715,
          "xval": 40,
          "y": 373.5145126843575,
          "yval": 28.571428571428573
         },
         "target": {
          "index": 30,
          "label": "h2,5",
          "label_display": "none",
          "px": 498.8247300460994,
          "py": 396.77857653819706,
          "shape": "circle",
          "shape_attrs": {
           "r": 15
          },
          "value": null,
          "weight": 17,
          "x": 495.7250206312736,
          "xval": 60,
          "y": 396.03554489891565,
          "yval": 16.666666666666668
         },
         "value": 0
        },
        {
         "source": {
          "index": 23,
          "label": "h1,11",
          "label_display": "none",
          "px": 398.1957801426253,
          "py": 368.98139086616504,
          "shape": "circle",
          "shape_attrs": {
           "r": 15
          },
          "value": null,
          "weight": 21,
          "x": 400.77199960942016,
          "xval": 40,
          "y": 369.4252687344284,
          "yval": 21.42857142857143
         },
         "target": {
          "fixed": 0,
          "index": 26,
          "label": "h2,1",
          "label_display": "none",
          "px": 502.71457284978436,
          "py": 386.3127570622258,
          "shape": "circle",
          "shape_attrs": {
           "r": 15
          },
          "value": null,
          "weight": 17,
          "x": 499.43623484416116,
          "xval": 60,
          "y": 385.7154094870653,
          "yval": 83.33333333333334
         },
         "value": 0
        },
        {
         "source": {
          "index": 23,
          "label": "h1,11",
          "label_display": "none",
          "px": 398.1957801426253,
          "py": 368.98139086616504,
          "shape": "circle",
          "shape_attrs": {
           "r": 15
          },
          "value": null,
          "weight": 21,
          "x": 400.41662637040884,
          "xval": 40,
          "y": 369.4940958383184,
          "yval": 21.42857142857143
         },
         "target": {
          "index": 27,
          "label": "h2,2",
          "label_display": "none",
          "px": 500.8845853659508,
          "py": 391.76683097070213,
          "shape": "circle",
          "shape_attrs": {
           "r": 15
          },
          "value": null,
          "weight": 17,
          "x": 498.0546233057367,
          "xval": 60,
          "y": 391.1001494953157,
          "yval": 66.66666666666667
         },
         "value": 0
        },
        {
         "source": {
          "index": 23,
          "label": "h1,11",
          "label_display": "none",
          "px": 398.1957801426253,
          "py": 368.98139086616504,
          "shape": "circle",
          "shape_attrs": {
           "r": 15
          },
          "value": null,
          "weight": 21,
          "x": 399.6902488419061,
          "xval": 40,
          "y": 369.50479963571,
          "yval": 21.42857142857143
         },
         "target": {
          "index": 28,
          "label": "h2,3",
          "label_display": "none",
          "px": 496.50323047992384,
          "py": 401.70079485729235,
          "shape": "circle",
          "shape_attrs": {
           "r": 15
          },
          "value": null,
          "weight": 17,
          "x": 494.58545588192897,
          "xval": 60,
          "y": 401.04683002298293,
          "yval": 50
         },
         "value": 0
        },
        {
         "source": {
          "index": 23,
          "label": "h1,11",
          "label_display": "none",
          "px": 398.1957801426253,
          "py": 368.98139086616504,
          "shape": "circle",
          "shape_attrs": {
           "r": 15
          },
          "value": null,
          "weight": 21,
          "x": 397.8695843883928,
          "xval": 40,
          "y": 368.77397464582793,
          "yval": 21.42857142857143
         },
         "target": {
          "index": 29,
          "label": "h2,4",
          "label_display": "none",
          "px": 476.1622682000842,
          "py": 430.2120196800528,
          "shape": "circle",
          "shape_attrs": {
           "r": 15
          },
          "value": null,
          "weight": 17,
          "x": 476.5233172079567,
          "xval": 60,
          "y": 430.52824829164564,
          "yval": 33.333333333333336
         },
         "value": 0
        },
        {
         "source": {
          "index": 23,
          "label": "h1,11",
          "label_display": "none",
          "px": 398.1957801426253,
          "py": 368.98139086616504,
          "shape": "circle",
          "shape_attrs": {
           "r": 15
          },
          "value": null,
          "weight": 21,
          "x": 400.051099800614,
          "xval": 40,
          "y": 369.516838288261,
          "yval": 21.42857142857143
         },
         "target": {
          "index": 30,
          "label": "h2,5",
          "label_display": "none",
          "px": 498.8247300460994,
          "py": 396.77857653819706,
          "shape": "circle",
          "shape_attrs": {
           "r": 15
          },
          "value": null,
          "weight": 17,
          "x": 496.45399458411305,
          "xval": 60,
          "y": 396.0965651022788,
          "yval": 16.666666666666668
         },
         "value": 0
        },
        {
         "source": {
          "index": 24,
          "label": "h1,12",
          "label_display": "none",
          "px": 400.9303080338963,
          "py": 365.8562121758084,
          "shape": "circle",
          "shape_attrs": {
           "r": 15
          },
          "value": null,
          "weight": 21,
          "x": 402.58103338251215,
          "xval": 40,
          "y": 366.20055960806883,
          "yval": 14.285714285714286
         },
         "target": {
          "fixed": 0,
          "index": 26,
          "label": "h2,1",
          "label_display": "none",
          "px": 502.71457284978436,
          "py": 386.3127570622258,
          "shape": "circle",
          "shape_attrs": {
           "r": 15
          },
          "value": null,
          "weight": 17,
          "x": 500.63386566575025,
          "xval": 60,
          "y": 385.83833141044,
          "yval": 83.33333333333334
         },
         "value": 0
        },
        {
         "source": {
          "index": 24,
          "label": "h1,12",
          "label_display": "none",
          "px": 400.9303080338963,
          "py": 365.8562121758084,
          "shape": "circle",
          "shape_attrs": {
           "r": 15
          },
          "value": null,
          "weight": 21,
          "x": 402.3194409169867,
          "xval": 40,
          "y": 366.2309268046727,
          "yval": 14.285714285714286
         },
         "target": {
          "index": 27,
          "label": "h2,2",
          "label_display": "none",
          "px": 500.8845853659508,
          "py": 391.76683097070213,
          "shape": "circle",
          "shape_attrs": {
           "r": 15
          },
          "value": null,
          "weight": 17,
          "x": 499.13346525144226,
          "xval": 60,
          "y": 391.27178725865735,
          "yval": 66.66666666666667
         },
         "value": 0
        },
        {
         "source": {
          "index": 24,
          "label": "h1,12",
          "label_display": "none",
          "px": 400.9303080338963,
          "py": 365.8562121758084,
          "shape": "circle",
          "shape_attrs": {
           "r": 15
          },
          "value": null,
          "weight": 21,
          "x": 401.7818810815625,
          "xval": 40,
          "y": 366.194006614338,
          "yval": 14.285714285714286
         },
         "target": {
          "index": 28,
          "label": "h2,3",
          "label_display": "none",
          "px": 496.50323047992384,
          "py": 401.70079485729235,
          "shape": "circle",
          "shape_attrs": {
           "r": 15
          },
          "value": null,
          "weight": 17,
          "x": 495.4251289588604,
          "xval": 60,
          "y": 401.2787914513666,
          "yval": 50
         },
         "value": 0
        },
        {
         "source": {
          "index": 24,
          "label": "h1,12",
          "label_display": "none",
          "px": 400.9303080338963,
          "py": 365.8562121758084,
          "shape": "circle",
          "shape_attrs": {
           "r": 15
          },
          "value": null,
          "weight": 21,
          "x": 400.58402085764993,
          "xval": 40,
          "y": 365.5925028961025,
          "yval": 14.285714285714286
         },
         "target": {
          "index": 29,
          "label": "h2,4",
          "label_display": "none",
          "px": 476.1622682000842,
          "py": 430.2120196800528,
          "shape": "circle",
          "shape_attrs": {
           "r": 15
          },
          "value": null,
          "weight": 17,
          "x": 476.5741056171749,
          "xval": 60,
          "y": 430.59640291917214,
          "yval": 33.333333333333336
         },
         "value": 0
        },
        {
         "source": {
          "index": 24,
          "label": "h1,12",
          "label_display": "none",
          "px": 400.9303080338963,
          "py": 365.8562121758084,
          "shape": "circle",
          "shape_attrs": {
           "r": 15
          },
          "value": null,
          "weight": 21,
          "x": 402.04648951640394,
          "xval": 40,
          "y": 366.22529169220735,
          "yval": 14.285714285714286
         },
         "target": {
          "index": 30,
          "label": "h2,5",
          "label_display": "none",
          "px": 498.8247300460994,
          "py": 396.77857653819706,
          "shape": "circle",
          "shape_attrs": {
           "r": 15
          },
          "value": null,
          "weight": 17,
          "x": 497.41557475134584,
          "xval": 60,
          "y": 396.3041477465738,
          "yval": 16.666666666666668
         },
         "value": 0
        },
        {
         "source": {
          "index": 25,
          "label": "h1,13",
          "label_display": "none",
          "px": 402.3694778941787,
          "py": 362.0275603700973,
          "shape": "circle",
          "shape_attrs": {
           "r": 15
          },
          "value": null,
          "weight": 21,
          "x": 403.7464471479059,
          "xval": 40,
          "y": 362.34302443773635,
          "yval": 7.142857142857143
         },
         "target": {
          "fixed": 0,
          "index": 26,
          "label": "h2,1",
          "label_display": "none",
          "px": 502.71457284978436,
          "py": 386.3127570622258,
          "shape": "circle",
          "shape_attrs": {
           "r": 15
          },
          "value": null,
          "weight": 17,
          "x": 500.94990627562623,
          "xval": 60,
          "y": 385.8267961474631,
          "yval": 83.33333333333334
         },
         "value": 0
        },
        {
         "source": {
          "index": 25,
          "label": "h1,13",
          "label_display": "none",
          "px": 402.3694778941787,
          "py": 362.0275603700973,
          "shape": "circle",
          "shape_attrs": {
           "r": 15
          },
          "value": null,
          "weight": 21,
          "x": 403.58346179674686,
          "xval": 40,
          "y": 362.3796315509735,
          "yval": 7.142857142857143
         },
         "target": {
          "index": 27,
          "label": "h2,2",
          "label_display": "none",
          "px": 500.8845853659508,
          "py": 391.76683097070213,
          "shape": "circle",
          "shape_attrs": {
           "r": 15
          },
          "value": null,
          "weight": 17,
          "x": 499.3246036256633,
          "xval": 60,
          "y": 391.25234810818876,
          "yval": 66.66666666666667
         },
         "value": 0
        },
        {
         "source": {
          "index": 25,
          "label": "h1,13",
          "label_display": "none",
          "px": 402.3694778941787,
          "py": 362.0275603700973,
          "shape": "circle",
          "shape_attrs": {
           "r": 15
          },
          "value": null,
          "weight": 21,
          "x": 403.22938201982237,
          "xval": 40,
          "y": 362.3821659166861,
          "yval": 7.142857142857143
         },
         "target": {
          "index": 28,
          "label": "h2,3",
          "label_display": "none",
          "px": 496.50323047992384,
          "py": 401.70079485729235,
          "shape": "circle",
          "shape_attrs": {
           "r": 15
          },
          "value": null,
          "weight": 17,
          "x": 495.38385946219506,
          "xval": 60,
          "y": 401.2093765736017,
          "yval": 50
         },
         "value": 0
        },
        {
         "source": {
          "index": 25,
          "label": "h1,13",
          "label_display": "none",
          "px": 402.3694778941787,
          "py": 362.0275603700973,
          "shape": "circle",
          "shape_attrs": {
           "r": 15
          },
          "value": null,
          "weight": 21,
          "x": 402.49958632052056,
          "xval": 40,
          "y": 362.1667067814259,
          "yval": 7.142857142857143
         },
         "target": {
          "index": 29,
          "label": "h2,4",
          "label_display": "none",
          "px": 476.1622682000842,
          "py": 430.2120196800528,
          "shape": "circle",
          "shape_attrs": {
           "r": 15
          },
          "value": null,
          "weight": 17,
          "x": 475.93995490773966,
          "xval": 60,
          "y": 430.0379986638694,
          "yval": 33.333333333333336
         },
         "value": 0
        },
        {
         "source": {
          "index": 25,
          "label": "h1,13",
          "label_display": "none",
          "px": 402.3694778941787,
          "py": 362.0275603700973,
          "shape": "circle",
          "shape_attrs": {
           "r": 15
          },
          "value": null,
          "weight": 21,
          "x": 403.4028938296757,
          "xval": 40,
          "y": 362.388720573718,
          "yval": 7.142857142857143
         },
         "target": {
          "index": 30,
          "label": "h2,5",
          "label_display": "none",
          "px": 498.8247300460994,
          "py": 396.77857653819706,
          "shape": "circle",
          "shape_attrs": {
           "r": 15
          },
          "value": null,
          "weight": 17,
          "x": 497.48969421210694,
          "xval": 60,
          "y": 396.26605804114655,
          "yval": 16.666666666666668
         },
         "value": 0
        },
        {
         "source": {
          "fixed": 0,
          "index": 26,
          "label": "h2,1",
          "label_display": "none",
          "px": 502.71457284978436,
          "py": 386.3127570622258,
          "shape": "circle",
          "shape_attrs": {
           "r": 15
          },
          "value": null,
          "weight": 17,
          "x": 500.4819702224887,
          "xval": 60,
          "y": 386.6450769377283,
          "yval": 83.33333333333334
         },
         "target": {
          "fixed": 0,
          "index": 31,
          "label": "y1",
          "label_display": "none",
          "px": 396.18308404885244,
          "py": 404.05057342909606,
          "shape": "circle",
          "shape_attrs": {
           "r": 15
          },
          "value": null,
          "weight": 8,
          "x": 401.84864767103113,
          "xval": 80,
          "y": 403.12135329873746,
          "yval": 50
         },
         "value": 0
        },
        {
         "source": {
          "index": 27,
          "label": "h2,2",
          "label_display": "none",
          "px": 500.8845853659508,
          "py": 391.76683097070213,
          "shape": "circle",
          "shape_attrs": {
           "r": 15
          },
          "value": null,
          "weight": 17,
          "x": 499.3680485450875,
          "xval": 60,
          "y": 391.9201115149962,
          "yval": 66.66666666666667
         },
         "target": {
          "fixed": 0,
          "index": 31,
          "label": "y1",
          "label_display": "none",
          "px": 396.18308404885244,
          "py": 404.05057342909606,
          "shape": "circle",
          "shape_attrs": {
           "r": 15
          },
          "value": null,
          "weight": 8,
          "x": 400.05408619754155,
          "xval": 80,
          "y": 403.61356622307557,
          "yval": 50
         },
         "value": 0
        },
        {
         "source": {
          "index": 28,
          "label": "h2,3",
          "label_display": "none",
          "px": 496.50323047992384,
          "py": 401.70079485729235,
          "shape": "circle",
          "shape_attrs": {
           "r": 15
          },
          "value": null,
          "weight": 17,
          "x": 496.42088745172845,
          "xval": 60,
          "y": 401.69934403913317,
          "yval": 50
         },
         "target": {
          "fixed": 0,
          "index": 31,
          "label": "y1",
          "label_display": "none",
          "px": 396.18308404885244,
          "py": 404.05057342909606,
          "shape": "circle",
          "shape_attrs": {
           "r": 15
          },
          "value": null,
          "weight": 8,
          "x": 396.44889854288,
          "xval": 80,
          "y": 404.0660788410765,
          "yval": 50
         },
         "value": 0
        },
        {
         "source": {
          "index": 29,
          "label": "h2,4",
          "label_display": "none",
          "px": 476.1622682000842,
          "py": 430.2120196800528,
          "shape": "circle",
          "shape_attrs": {
           "r": 15
          },
          "value": null,
          "weight": 17,
          "x": 480.46384753626523,
          "xval": 60,
          "y": 431.6563998166755,
          "yval": 33.333333333333336
         },
         "target": {
          "fixed": 0,
          "index": 31,
          "label": "y1",
          "label_display": "none",
          "px": 396.18308404885244,
          "py": 404.05057342909606,
          "shape": "circle",
          "shape_attrs": {
           "r": 15
          },
          "value": null,
          "weight": 8,
          "x": 385.42078553050675,
          "xval": 80,
          "y": 400.5627290129066,
          "yval": 50
         },
         "value": 0
        },
        {
         "source": {
          "index": 30,
          "label": "h2,5",
          "label_display": "none",
          "px": 498.8247300460994,
          "py": 396.77857653819706,
          "shape": "circle",
          "shape_attrs": {
           "r": 15
          },
          "value": null,
          "weight": 17,
          "x": 498.0179282439112,
          "xval": 60,
          "y": 396.8218534554213,
          "yval": 16.666666666666668
         },
         "target": {
          "fixed": 0,
          "index": 31,
          "label": "y1",
          "label_display": "none",
          "px": 396.18308404885244,
          "py": 404.05057342909606,
          "shape": "circle",
          "shape_attrs": {
           "r": 15
          },
          "value": null,
          "weight": 8,
          "x": 398.2703260745486,
          "xval": 80,
          "y": 403.9222662293206,
          "yval": 50
         },
         "value": 0
        }
       ],
       "link_distance": 100,
       "link_matrix": {
        "type": "float",
        "values": []
       },
       "link_type": "line",
       "node_data": [
        {
         "fixed": 0,
         "index": 0,
         "label": "x1",
         "label_display": "none",
         "px": 465.73375092884754,
         "py": 361.13996750260645,
         "shape": "circle",
         "shape_attrs": {
          "r": 15
         },
         "value": null,
         "weight": 0,
         "x": 465.73714598532416,
         "xval": 20,
         "y": 361.11989073627547,
         "yval": 92.85714285714286
        },
        {
         "index": 1,
         "label": "x2",
         "label_display": "none",
         "px": 426.351850345126,
         "py": 393.5929311438913,
         "shape": "circle",
         "shape_attrs": {
          "r": 15
         },
         "value": null,
         "weight": 0,
         "x": 426.34506401384635,
         "xval": 20,
         "y": 393.5929726382435,
         "yval": 85.71428571428572
        },
        {
         "index": 2,
         "label": "x3",
         "label_display": "none",
         "px": 492.18061116380164,
         "py": 386.2074585292473,
         "shape": "circle",
         "shape_attrs": {
          "r": 15
         },
         "value": null,
         "weight": 0,
         "x": 492.20742989012274,
         "xval": 20,
         "y": 386.19800695917377,
         "yval": 78.57142857142857
        },
        {
         "fixed": 0,
         "index": 3,
         "label": "x4",
         "label_display": "none",
         "px": 496.8675418572814,
         "py": 359.30367375231634,
         "shape": "circle",
         "shape_attrs": {
          "r": 15
         },
         "value": null,
         "weight": 0,
         "x": 496.8841183821267,
         "xval": 20,
         "y": 359.2797512258551,
         "yval": 71.42857142857143
        },
        {
         "index": 4,
         "label": "x5",
         "label_display": "none",
         "px": 503.39925254386986,
         "py": 413.2038810838627,
         "shape": "circle",
         "shape_attrs": {
          "r": 15
         },
         "value": null,
         "weight": 0,
         "x": 503.42571235099354,
         "xval": 20,
         "y": 413.2128200277411,
         "yval": 64.28571428571429
        },
        {
         "index": 5,
         "label": "x6",
         "label_display": "none",
         "px": 399.6405363860293,
         "py": 404.633919308536,
         "shape": "circle",
         "shape_attrs": {
          "r": 15
         },
         "value": null,
         "weight": 0,
         "x": 399.6150747958843,
         "xval": 20,
         "y": 404.6321461578978,
         "yval": 57.142857142857146
        },
        {
         "index": 6,
         "label": "x7",
         "label_display": "none",
         "px": 402.37808106048254,
         "py": 338.9440366108316,
         "shape": "circle",
         "shape_attrs": {
          "r": 15
         },
         "value": null,
         "weight": 0,
         "x": 402.35491338360924,
         "xval": 20,
         "y": 338.9144955034599,
         "yval": 50
        },
        {
         "index": 7,
         "label": "x8",
         "label_display": "none",
         "px": 447.0540049308568,
         "py": 336.56642881423966,
         "shape": "circle",
         "shape_attrs": {
          "r": 15
         },
         "value": null,
         "weight": 0,
         "x": 447.0495338384676,
         "xval": 20,
         "y": 336.5399966134889,
         "yval": 42.85714285714286
        },
        {
         "index": 8,
         "label": "x9",
         "label_display": "none",
         "px": 488.0639734476012,
         "py": 472.5184426693088,
         "shape": "circle",
         "shape_attrs": {
          "r": 15
         },
         "value": null,
         "weight": 0,
         "x": 488.08318946135256,
         "xval": 20,
         "y": 472.55528853245346,
         "yval": 35.714285714285715
        },
        {
         "index": 9,
         "label": "x10",
         "label_display": "none",
         "px": 425.9655154082704,
         "py": 323.2729956785822,
         "shape": "circle",
         "shape_attrs": {
          "r": 15
         },
         "value": null,
         "weight": 0,
         "x": 425.95328892868525,
         "xval": 20,
         "y": 323.2336465403386,
         "yval": 28.571428571428573
        },
        {
         "index": 10,
         "label": "x11",
         "label_display": "none",
         "px": 372.96699757621036,
         "py": 387.44548868204134,
         "shape": "circle",
         "shape_attrs": {
          "r": 15
         },
         "value": null,
         "weight": 0,
         "x": 372.9251923011835,
         "xval": 20,
         "y": 387.44241458808557,
         "yval": 21.42857142857143
        },
        {
         "index": 11,
         "label": "x12",
         "label_display": "none",
         "px": 511.8125221858415,
         "py": 451.50174287799587,
         "shape": "circle",
         "shape_attrs": {
          "r": 15
         },
         "value": null,
         "weight": 0,
         "x": 511.844207364188,
         "xval": 20,
         "y": 451.52634025438226,
         "yval": 14.285714285714286
        },
        {
         "index": 12,
         "label": "x13",
         "label_display": "none",
         "px": 457.2577996485116,
         "py": 441.33396715630965,
         "shape": "circle",
         "shape_attrs": {
          "r": 15
         },
         "value": null,
         "weight": 0,
         "x": 457.2637643335016,
         "xval": 20,
         "y": 441.35977908045766,
         "yval": 7.142857142857143
        },
        {
         "fixed": 0,
         "index": 13,
         "label": "h1,1",
         "label_display": "none",
         "px": 432.57300596294164,
         "py": 361.99803680649745,
         "shape": "circle",
         "shape_attrs": {
          "r": 15
         },
         "value": null,
         "weight": 0,
         "x": 432.55888650081613,
         "xval": 40,
         "y": 361.98317531648036,
         "yval": 92.85714285714286
        },
        {
         "fixed": 0,
         "index": 14,
         "label": "h1,2",
         "label_display": "none",
         "px": 491.84707514257053,
         "py": 333.05647241897157,
         "shape": "circle",
         "shape_attrs": {
          "r": 15
         },
         "value": null,
         "weight": 0,
         "x": 491.86975513128965,
         "xval": 40,
         "y": 333.0174637180777,
         "yval": 85.71428571428572
        },
        {
         "fixed": 0,
         "index": 15,
         "label": "h1,3",
         "label_display": "none",
         "px": 379.34823033651435,
         "py": 357.2079043487015,
         "shape": "circle",
         "shape_attrs": {
          "r": 15
         },
         "value": null,
         "weight": 0,
         "x": 379.31267199460143,
         "xval": 40,
         "y": 357.186358050738,
         "yval": 78.57142857142857
        },
        {
         "fixed": 0,
         "index": 16,
         "label": "h1,4",
         "label_display": "none",
         "px": 428.557215349593,
         "py": 443.352409618542,
         "shape": "circle",
         "shape_attrs": {
          "r": 15
         },
         "value": null,
         "weight": 0,
         "x": 428.54813283751935,
         "xval": 40,
         "y": 443.37594615072095,
         "yval": 71.42857142857143
        },
        {
         "fixed": 0,
         "index": 17,
         "label": "h1,5",
         "label_display": "none",
         "px": 436.3047688002922,
         "py": 477.384675311522,
         "shape": "circle",
         "shape_attrs": {
          "r": 15
         },
         "value": null,
         "weight": 0,
         "x": 436.2945656077118,
         "xval": 40,
         "y": 477.4246467275756,
         "yval": 64.28571428571429
        },
        {
         "index": 18,
         "label": "h1,6",
         "label_display": "none",
         "px": 403.5990141665818,
         "py": 431.7368201444144,
         "shape": "circle",
         "shape_attrs": {
          "r": 15
         },
         "value": null,
         "weight": 0,
         "x": 403.5833694280552,
         "xval": 40,
         "y": 431.74831237309473,
         "yval": 57.142857142857146
        },
        {
         "index": 19,
         "label": "h1,7",
         "label_display": "none",
         "px": 461.24349628734103,
         "py": 472.89062543204346,
         "shape": "circle",
         "shape_attrs": {
          "r": 15
         },
         "value": null,
         "weight": 0,
         "x": 461.24688640405947,
         "xval": 40,
         "y": 472.93067254875933,
         "yval": 50
        },
        {
         "index": 20,
         "label": "h1,8",
         "label_display": "none",
         "px": 371.29799701807036,
         "py": 417.32890168820546,
         "shape": "circle",
         "shape_attrs": {
          "r": 15
         },
         "value": null,
         "weight": 0,
         "x": 371.26227106738986,
         "xval": 40,
         "y": 417.33936829450664,
         "yval": 42.85714285714286
        },
        {
         "index": 21,
         "label": "h1,9",
         "label_display": "none",
         "px": 528.2572384354494,
         "py": 423.3727514465908,
         "shape": "circle",
         "shape_attrs": {
          "r": 15
         },
         "value": null,
         "weight": 0,
         "x": 528.2967267898903,
         "xval": 40,
         "y": 423.38148421974716,
         "yval": 35.714285714285715
        },
        {
         "index": 22,
         "label": "h1,10",
         "label_display": "none",
         "px": 457.5077720067106,
         "py": 386.708280145407,
         "shape": "circle",
         "shape_attrs": {
          "r": 15
         },
         "value": null,
         "weight": 0,
         "x": 457.5163180151718,
         "xval": 40,
         "y": 386.7025527611807,
         "yval": 28.571428571428573
        },
        {
         "index": 23,
         "label": "h1,11",
         "label_display": "none",
         "px": 383.4973307520908,
         "py": 449.69327083303307,
         "shape": "circle",
         "shape_attrs": {
          "r": 15
         },
         "value": null,
         "weight": 0,
         "x": 383.46283441248545,
         "xval": 40,
         "y": 449.71104316799494,
         "yval": 21.42857142857143
        },
        {
         "index": 24,
         "label": "h1,12",
         "label_display": "none",
         "px": 441.76336101691584,
         "py": 416.378056974594,
         "shape": "circle",
         "shape_attrs": {
          "r": 15
         },
         "value": null,
         "weight": 0,
         "x": 441.7689725918353,
         "xval": 40,
         "y": 416.38853166624165,
         "yval": 14.285714285714286
        },
        {
         "index": 25,
         "label": "h1,13",
         "label_display": "none",
         "px": 409.9578097122318,
         "py": 467.82380435755005,
         "shape": "circle",
         "shape_attrs": {
          "r": 15
         },
         "value": null,
         "weight": 0,
         "x": 409.9345198756997,
         "xval": 40,
         "y": 467.8554202376325,
         "yval": 7.142857142857143
        },
        {
         "fixed": 0,
         "index": 26,
         "label": "h2,1",
         "label_display": "none",
         "px": 485.7501614974079,
         "py": 439.48182388249165,
         "shape": "circle",
         "shape_attrs": {
          "r": 15
         },
         "value": null,
         "weight": 0,
         "x": 485.76866893843817,
         "xval": 60,
         "y": 439.5022204119832,
         "yval": 83.33333333333334
        },
        {
         "index": 27,
         "label": "h2,2",
         "label_display": "none",
         "px": 467.22607496264595,
         "py": 320.5280147508516,
         "shape": "circle",
         "shape_attrs": {
          "r": 15
         },
         "value": null,
         "weight": 0,
         "x": 467.22905235202734,
         "xval": 60,
         "y": 320.48962772292657,
         "yval": 66.66666666666667
        },
        {
         "index": 28,
         "label": "h2,3",
         "label_display": "none",
         "px": 522.9219199461588,
         "py": 360.0796584021821,
         "shape": "circle",
         "shape_attrs": {
          "r": 15
         },
         "value": null,
         "weight": 0,
         "x": 522.9553651980639,
         "xval": 60,
         "y": 360.0566242146846,
         "yval": 50
        },
        {
         "index": 29,
         "label": "h2,4",
         "label_display": "none",
         "px": 527.384092939622,
         "py": 391.0227076230169,
         "shape": "circle",
         "shape_attrs": {
          "r": 15
         },
         "value": null,
         "weight": 0,
         "x": 527.4217623932612,
         "xval": 60,
         "y": 391.0155290963266,
         "yval": 33.333333333333336
        },
        {
         "index": 30,
         "label": "h2,5",
         "label_display": "none",
         "px": 472.5248177594218,
         "py": 410.13639028821314,
         "shape": "circle",
         "shape_attrs": {
          "r": 15
         },
         "value": null,
         "weight": 0,
         "x": 472.5415880770784,
         "xval": 60,
         "y": 410.1389615941463,
         "yval": 16.666666666666668
        },
        {
         "fixed": 0,
         "index": 31,
         "label": "y1",
         "label_display": "none",
         "px": 404.28933807821846,
         "py": 372.16702388292185,
         "shape": "circle",
         "shape_attrs": {
          "r": 15
         },
         "value": null,
         "weight": 0,
         "x": 404.2625869523674,
         "xval": 80,
         "y": 372.1564022289918,
         "yval": 50
        }
       ],
       "preserve_domain": {},
       "scales": {
        "link_color": "IPY_MODEL_689aa4f76f0a4ad0a424b500c0c55787",
        "x": "IPY_MODEL_12adadba843a4f35ae71e5573ca45b7f",
        "y": "IPY_MODEL_b6bf372d26b64a3fa2f077805e7b826c"
       },
       "scales_metadata": {
        "color": {
         "dimension": "color"
        },
        "link_color": {
         "dimension": "link_color"
        },
        "x": {
         "dimension": "x",
         "orientation": "horizontal"
        },
        "y": {
         "dimension": "y",
         "orientation": "vertical"
        }
       },
       "selected": [],
       "selected_style": {
        "opacity": "1",
        "stroke": "red",
        "stroke-width": "2.5"
       },
       "tooltip": "IPY_MODEL_d7df38b1392a41d2a64196e00dcfd69e",
       "tooltip_location": "mouse",
       "tooltip_style": {
        "opacity": 0.9
       },
       "unhovered_style": {
        "opacity": "0.1"
       },
       "unselected_style": {},
       "visible": true,
       "x": {
        "type": "float",
        "values": [
         20,
         20,
         20,
         20,
         20,
         20,
         20,
         20,
         20,
         20,
         20,
         20,
         20,
         40,
         40,
         40,
         40,
         40,
         40,
         40,
         40,
         40,
         40,
         40,
         40,
         40,
         60,
         60,
         60,
         60,
         60,
         80
        ]
       },
       "y": {
        "type": "float",
        "values": [
         92.85714285714286,
         85.71428571428572,
         78.57142857142857,
         71.42857142857143,
         64.28571428571429,
         57.142857142857146,
         50,
         42.85714285714286,
         35.714285714285715,
         28.571428571428573,
         21.42857142857143,
         14.285714285714286,
         7.142857142857143,
         92.85714285714286,
         85.71428571428572,
         78.57142857142857,
         71.42857142857143,
         64.28571428571429,
         57.142857142857146,
         50,
         42.85714285714286,
         35.714285714285715,
         28.571428571428573,
         21.42857142857143,
         14.285714285714286,
         7.142857142857143,
         83.33333333333334,
         66.66666666666667,
         50,
         33.333333333333336,
         16.666666666666668,
         50
        ]
       }
      }
     },
     "9c23708734a24c04acdc2849f31c8dc7": {
      "model_module": "@jupyter-widgets/base",
      "model_module_version": "1.0.0",
      "model_name": "LayoutModel",
      "state": {}
     },
     "a2128c2731f64514a46ccd3fe7a16ad0": {
      "model_module": "@jupyter-widgets/controls",
      "model_module_version": "1.0.0",
      "model_name": "VBoxModel",
      "state": {
       "children": [
        "IPY_MODEL_62879dd0900c4a43845da32bb97b24ef",
        "IPY_MODEL_8e706a43bf794d0697330b3ea3950f2e"
       ],
       "layout": "IPY_MODEL_66aaccde017645bf8cdd08038f1fa009"
      }
     },
     "a43931721f6d43208301b1f4829937ec": {
      "model_module": "bqplot",
      "model_module_version": "^0.3.0",
      "model_name": "LinearScaleModel",
      "state": {
       "_model_module_version": "^0.3.0",
       "_view_module_version": "^0.3.0",
       "allow_padding": false,
       "max": 1,
       "min": 0,
       "stabilized": false
      }
     },
     "aebc2bbb101a4ad99aa04623c829c8db": {
      "model_module": "@jupyter-widgets/base",
      "model_module_version": "1.0.0",
      "model_name": "LayoutModel",
      "state": {}
     },
     "b1a7b0178ffa40d0880fdcfc204b7c3d": {
      "model_module": "@jupyter-widgets/controls",
      "model_module_version": "1.0.0",
      "model_name": "DescriptionStyleModel",
      "state": {
       "description_width": ""
      }
     },
     "b32e0fd4471e4735857864201d46f8b7": {
      "model_module": "bqplot",
      "model_module_version": "^0.3.0",
      "model_name": "LinearScaleModel",
      "state": {
       "_model_module_version": "^0.3.0",
       "_view_module_version": "^0.3.0",
       "stabilized": false
      }
     },
     "b3a42c39676c490fbfe7d95b13596c61": {
      "model_module": "@jupyter-widgets/controls",
      "model_module_version": "1.0.0",
      "model_name": "ButtonStyleModel",
      "state": {}
     },
     "b6bf372d26b64a3fa2f077805e7b826c": {
      "model_module": "bqplot",
      "model_module_version": "^0.3.0",
      "model_name": "LinearScaleModel",
      "state": {
       "_model_module_version": "^0.3.0",
       "_view_module_version": "^0.3.0",
       "max": 100,
       "min": 0,
       "stabilized": false
      }
     },
     "b7572a0eac084bc6ba5871115fcab1ea": {
      "model_module": "@jupyter-widgets/controls",
      "model_module_version": "1.0.0",
      "model_name": "IntSliderModel",
      "state": {
       "description": "Epoch:",
       "layout": "IPY_MODEL_e095eb4811e547b185cd1562a5595740",
       "max": 15,
       "min": 1,
       "style": "IPY_MODEL_2e3455bcc435446998fee87756cac406",
       "value": 1
      }
     },
     "b8df5373e80a4572adb16d43eb3495cb": {
      "model_module": "@jupyter-widgets/base",
      "model_module_version": "1.0.0",
      "model_name": "LayoutModel",
      "state": {
       "min_width": "125px"
      }
     },
     "b9731d5932c148459883ad7815e8121f": {
      "model_module": "@jupyter-widgets/base",
      "model_module_version": "1.0.0",
      "model_name": "LayoutModel",
      "state": {}
     },
     "bac96f65337148818650f081dae8a7e2": {
      "model_module": "bqplot",
      "model_module_version": "^0.3.0-alpha.1",
      "model_name": "LinesModel",
      "state": {
       "_model_module_version": "^0.3.0-alpha.1",
       "_view_module_version": "^0.3.0-alpha.1",
       "color": {
        "type": null,
        "values": null
       },
       "colors": [
        "DeepSkyBlue",
        "Red"
       ],
       "fill_colors": [],
       "labels": [
        "Training",
        "Test"
       ],
       "marker": "circle",
       "marker_size": 32,
       "scales": {
        "x": "IPY_MODEL_ec9dd465916e4d9386e13b6edf5932b4",
        "y": "IPY_MODEL_db73751bcde94f5082bd4ffbaa1fd510"
       },
       "selected": [],
       "x": {
        "type": "float",
        "values": [
         0,
         1,
         2,
         3,
         4,
         5,
         6,
         7,
         8,
         9,
         10,
         11,
         12,
         13,
         14
        ]
       },
       "y": {
        "type": "float",
        "values": [
         [
          0.4101919031556962,
          0.4400920929178406,
          0.5151369665498085,
          0.6041817835182144,
          0.6829390388143887,
          0.7420206851783961,
          0.7800774313593603,
          0.8007791133596932,
          0.8129562908068464,
          0.8200967118037902,
          0.8250330272769988,
          0.8286745445867628,
          0.831683344238398,
          0.8340625608768999,
          0.8363396372423317
         ],
         [
          0.4108736129260183,
          0.43972713315074197,
          0.5145143963275173,
          0.6048544414678277,
          0.6869474393932178,
          0.7472529951563722,
          0.7843739644684093,
          0.8043314924727304,
          0.8161405783535769,
          0.8231869195639595,
          0.828053458859185,
          0.831649061257362,
          0.834543166213524,
          0.8367784577381506,
          0.8390181589806366
         ]
        ]
       }
      }
     },
     "bc3964aa4e0a4689951f2ed7c5fdb6ba": {
      "model_module": "bqplot",
      "model_module_version": "^0.3.0",
      "model_name": "LinearScaleModel",
      "state": {
       "_model_module_version": "^0.3.0",
       "_view_module_version": "^0.3.0",
       "allow_padding": false,
       "max": 1,
       "min": 0,
       "stabilized": false
      }
     },
     "be08ca2dae4b4bc9af66862d2ddf85d7": {
      "model_module": "bqplot",
      "model_module_version": "^0.3.0",
      "model_name": "FigureModel",
      "state": {
       "_dom_classes": [],
       "_model_module_version": "^0.3.0",
       "_view_module_version": "^0.3.0",
       "layout": "IPY_MODEL_872b1569b38540d8a545f3951a431ab6",
       "marks": [
        "IPY_MODEL_9627b2ca6e294704991de76fd53fc764"
       ],
       "max_aspect_ratio": 6,
       "scale_x": "IPY_MODEL_299c0600365d42d4a5109480cd61e467",
       "scale_y": "IPY_MODEL_d7e9a1913b014b709a28c7839a8ffc9e",
       "title": "Analyzing the Trained Neural Network"
      }
     },
     "c03d44f039c04f388aa1f72c5ff5bb8e": {
      "model_module": "bqplot",
      "model_module_version": "^0.3.0-alpha.1",
      "model_name": "LinearScaleModel",
      "state": {
       "_model_module_version": "^0.3.0-alpha.1",
       "_view_module_version": "^0.3.0-alpha.1",
       "allow_padding": false,
       "max": 1,
       "min": 0,
       "stabilized": false
      }
     },
     "c0435348044c4dd984a24d59369f5c13": {
      "model_module": "bqplot",
      "model_module_version": "^0.3.0-alpha.1",
      "model_name": "FigureModel",
      "state": {
       "_dom_classes": [],
       "_model_module_version": "^0.3.0-alpha.1",
       "_view_module_version": "^0.3.0-alpha.1",
       "axes": [
        "IPY_MODEL_2948531784ba44879b8a9652addd3571",
        "IPY_MODEL_5eb9fdae65c44350bef6c4c3d7bcf898"
       ],
       "layout": "IPY_MODEL_4285dd1a6623415da266e452c1e7de63",
       "marks": [
        "IPY_MODEL_1456ebd8f87d4642bddfa5ab30dc50cc"
       ],
       "max_aspect_ratio": 6,
       "scale_x": "IPY_MODEL_c03d44f039c04f388aa1f72c5ff5bb8e",
       "scale_y": "IPY_MODEL_51c04a54892f4498984ec544cc8cc243",
       "title": "Weights for layer:1 node: 14 at epoch: 1"
      }
     },
     "d15818c389ad472f84ccde969f70c249": {
      "model_module": "bqplot",
      "model_module_version": "^0.3.0",
      "model_name": "AxisModel",
      "state": {
       "_model_module_version": "^0.3.0",
       "_view_module_version": "^0.3.0",
       "label": "Epoch",
       "scale": "IPY_MODEL_30ae23dca1134645872aa22830d1b64f",
       "side": "bottom",
       "tick_values": {
        "type": null,
        "values": null
       }
      }
     },
     "d7df38b1392a41d2a64196e00dcfd69e": {
      "model_module": "bqplot",
      "model_module_version": "^0.3.0",
      "model_name": "FigureModel",
      "state": {
       "_dom_classes": [],
       "_model_module_version": "^0.3.0",
       "_view_module_version": "^0.3.0",
       "axes": [
        "IPY_MODEL_e1d77166b6914c39be9f597b9a287c59",
        "IPY_MODEL_f7f1d0e15756426d95712e1ec20c4388"
       ],
       "layout": "IPY_MODEL_9284b8c0608d4121850fbca8e903a22e",
       "marks": [
        "IPY_MODEL_efd8d6e1ae8a4dad99020412b85e1fa1"
       ],
       "max_aspect_ratio": 6,
       "scale_x": "IPY_MODEL_d82fbe4646694a3d8170185dd36b8b37",
       "scale_y": "IPY_MODEL_dc6465b111bd4eae9672fffddfc23be4",
       "title": "Gradients for layer:2 node: 0 at epoch: 8"
      }
     },
     "d7e9a1913b014b709a28c7839a8ffc9e": {
      "model_module": "bqplot",
      "model_module_version": "^0.3.0",
      "model_name": "LinearScaleModel",
      "state": {
       "_model_module_version": "^0.3.0",
       "_view_module_version": "^0.3.0",
       "allow_padding": false,
       "max": 1,
       "min": 0,
       "stabilized": false
      }
     },
     "d82fbe4646694a3d8170185dd36b8b37": {
      "model_module": "bqplot",
      "model_module_version": "^0.3.0",
      "model_name": "LinearScaleModel",
      "state": {
       "_model_module_version": "^0.3.0",
       "_view_module_version": "^0.3.0",
       "allow_padding": false,
       "max": 1,
       "min": 0,
       "stabilized": false
      }
     },
     "da5cb57925f942a9b161fa14ed373ed8": {
      "model_module": "bqplot",
      "model_module_version": "^0.3.0-alpha.1",
      "model_name": "LinearScaleModel",
      "state": {
       "_model_module_version": "^0.3.0-alpha.1",
       "_view_module_version": "^0.3.0-alpha.1",
       "allow_padding": false,
       "max": 1,
       "min": 0,
       "stabilized": false
      }
     },
     "db73751bcde94f5082bd4ffbaa1fd510": {
      "model_module": "bqplot",
      "model_module_version": "^0.3.0-alpha.1",
      "model_name": "LinearScaleModel",
      "state": {
       "_model_module_version": "^0.3.0-alpha.1",
       "_view_module_version": "^0.3.0-alpha.1",
       "stabilized": false
      }
     },
     "dc6465b111bd4eae9672fffddfc23be4": {
      "model_module": "bqplot",
      "model_module_version": "^0.3.0",
      "model_name": "LinearScaleModel",
      "state": {
       "_model_module_version": "^0.3.0",
       "_view_module_version": "^0.3.0",
       "allow_padding": false,
       "max": 1,
       "min": 0,
       "stabilized": false
      }
     },
     "e095eb4811e547b185cd1562a5595740": {
      "model_module": "@jupyter-widgets/base",
      "model_module_version": "1.0.0",
      "model_name": "LayoutModel",
      "state": {}
     },
     "e10b76824802456da178880a601fdf51": {
      "model_module": "@jupyter-widgets/base",
      "model_module_version": "1.0.0",
      "model_name": "LayoutModel",
      "state": {}
     },
     "e1d77166b6914c39be9f597b9a287c59": {
      "model_module": "bqplot",
      "model_module_version": "^0.3.0",
      "model_name": "AxisModel",
      "state": {
       "_model_module_version": "^0.3.0",
       "_view_module_version": "^0.3.0",
       "scale": "IPY_MODEL_40b7ffd8f15b43039d154b5d00c7a1f5",
       "side": "bottom",
       "tick_values": {
        "type": null,
        "values": null
       }
      }
     },
     "e2db05e83aee42f0bf7ca849157d5abb": {
      "model_module": "bqplot",
      "model_module_version": "^0.3.0",
      "model_name": "LinearScaleModel",
      "state": {
       "_model_module_version": "^0.3.0",
       "_view_module_version": "^0.3.0",
       "allow_padding": false,
       "max": 1,
       "min": 0,
       "stabilized": false
      }
     },
     "e577d5ca58594c50adf0c16ec7550e21": {
      "model_module": "bqplot",
      "model_module_version": "^0.3.0",
      "model_name": "LinearScaleModel",
      "state": {
       "_model_module_version": "^0.3.0",
       "_view_module_version": "^0.3.0",
       "allow_padding": false,
       "max": 1,
       "min": 0,
       "stabilized": false
      }
     },
     "e640edde8ca642b8a2f69e55bdd1ca03": {
      "model_module": "bqplot",
      "model_module_version": "^0.3.0",
      "model_name": "LinearScaleModel",
      "state": {
       "_model_module_version": "^0.3.0",
       "_view_module_version": "^0.3.0",
       "stabilized": false
      }
     },
     "ea82e3f6e4c9455da4b33c15a817a092": {
      "model_module": "bqplot",
      "model_module_version": "^0.3.0-alpha.1",
      "model_name": "AxisModel",
      "state": {
       "_model_module_version": "^0.3.0-alpha.1",
       "_view_module_version": "^0.3.0-alpha.1",
       "scale": "IPY_MODEL_ec9dd465916e4d9386e13b6edf5932b4",
       "side": "bottom",
       "tick_values": {
        "type": null,
        "values": null
       }
      }
     },
     "ec9dd465916e4d9386e13b6edf5932b4": {
      "model_module": "bqplot",
      "model_module_version": "^0.3.0-alpha.1",
      "model_name": "LinearScaleModel",
      "state": {
       "_model_module_version": "^0.3.0-alpha.1",
       "_view_module_version": "^0.3.0-alpha.1",
       "stabilized": false
      }
     },
     "efd8d6e1ae8a4dad99020412b85e1fa1": {
      "model_module": "bqplot",
      "model_module_version": "^0.3.0",
      "model_name": "BarsModel",
      "state": {
       "_model_module_version": "^0.3.0",
       "_view_module_version": "^0.3.0",
       "color": {
        "type": null,
        "values": null
       },
       "display_legend": false,
       "scales": {
        "x": "IPY_MODEL_40b7ffd8f15b43039d154b5d00c7a1f5",
        "y": "IPY_MODEL_776fa8733c81429b89b7aab8939402e7"
       },
       "selected": [],
       "x": {
        "type": "float",
        "values": [
         0,
         1,
         2,
         3,
         4,
         5,
         6,
         7,
         8,
         9,
         10,
         11,
         12
        ]
       },
       "y": {
        "type": "float",
        "values": [
         -0.0005900871474295855,
         0,
         0.006022150162607431,
         -3.353341526235454e-05,
         8.285008516395465e-05,
         -0.0010591656900942326,
         0.008187343366444111,
         0,
         0,
         0,
         -0.006326587870717049,
         0,
         -0.004172416403889656
        ]
       }
      }
     },
     "f7f1d0e15756426d95712e1ec20c4388": {
      "model_module": "bqplot",
      "model_module_version": "^0.3.0",
      "model_name": "AxisModel",
      "state": {
       "_model_module_version": "^0.3.0",
       "_view_module_version": "^0.3.0",
       "orientation": "vertical",
       "scale": "IPY_MODEL_776fa8733c81429b89b7aab8939402e7",
       "side": "left",
       "tick_values": {
        "type": null,
        "values": null
       }
      }
     },
     "f91f4cf1e506418fa4eea3ede7ac362c": {
      "model_module": "@jupyter-widgets/base",
      "model_module_version": "1.0.0",
      "model_name": "LayoutModel",
      "state": {
       "height": "800px",
       "min_width": "125px",
       "width": "900px"
      }
     },
     "fb5ac6fb84e7429283afd04b9473a86c": {
      "model_module": "@jupyter-widgets/base",
      "model_module_version": "1.0.0",
      "model_name": "LayoutModel",
      "state": {}
     },
     "fedef60de7a24129b4d9e16ef699ed52": {
      "model_module": "@jupyter-widgets/controls",
      "model_module_version": "1.0.0",
      "model_name": "IntSliderModel",
      "state": {
       "description": "Epoch:",
       "layout": "IPY_MODEL_aebc2bbb101a4ad99aa04623c829c8db",
       "max": 10,
       "min": 1,
       "style": "IPY_MODEL_120abfafd14f425eb3bde0a13823d8a6",
       "value": 8
      }
     }
    },
    "version_major": 2,
    "version_minor": 0
   }
  }
 },
 "nbformat": 4,
 "nbformat_minor": 2
}
